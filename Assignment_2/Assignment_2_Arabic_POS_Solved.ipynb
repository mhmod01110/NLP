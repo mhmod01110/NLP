{
  "cells": [
    {
      "cell_type": "markdown",
      "metadata": {
        "id": "opwNf7ZQ5zIG"
      },
      "source": [
        "**Instruction for POS Tagging Using RNNs with Arabic Dataset**\n",
        "\n",
        "**Dataset:**\n",
        "The dataset provided is named \"Assignment 2 - Arabic POS.conllu\". It contains labeled data for Arabic text with Part-of-Speech (POS) tags in CoNLL-U format.\n",
        "\n",
        "**Objective:**\n",
        "Your objective is to perform Part-of-Speech (POS) tagging on Arabic text using Recurrent Neural Networks (RNNs). Specifically, you will use the Universal POS (UPOS) tags for tagging. UPOS is a standardized set of POS tags that aims to cover all languages.\n",
        "\n",
        "**Evaluation metric:**\n",
        "Accuracy\n",
        "\n",
        "**Instructions:**\n",
        "1. **Data Preprocessing:**\n",
        "   - Load the provided dataset \"Assignment 2 - Arabic POS.conllu\". You can use pyconll library\n",
        "   - Preprocess the data as necessary, including tokenization\n",
        "\n",
        "2. **Model Building:**\n",
        "   - Design an RNN-based model architecture suitable for POS tagging. You may consider using recurrent layers such as (LSTM) or (GRU).\n",
        "   - Define the input and output layers of the model. The input layer should accept sequences of tokens, and the output layer should produce the predicted UPOS tags for each token.\n",
        "\n",
        "3. **Training:**\n",
        "\n",
        "4. **Evaluation:**\n",
        "\n",
        "**Additional Notes:**\n",
        "- Make sure to document your code thoroughly and provide clear explanations for each step.\n",
        "- Feel free to explore different RNN architectures, hyperparameters, and optimization techniques to improve the model's accuracy."
      ]
    },
    {
      "cell_type": "code",
      "execution_count": 1,
      "metadata": {
        "colab": {
          "base_uri": "https://localhost:8080/"
        },
        "id": "a6bs49_a50tA",
        "outputId": "7d98d9ff-7026-4fc9-d9eb-bb1f51f5361b"
      },
      "outputs": [
        {
          "output_type": "stream",
          "name": "stdout",
          "text": [
            "Mounted at /content/drive\n",
            "/content/drive/MyDrive/NLP/Assignment_2\n"
          ]
        }
      ],
      "source": [
        "from google.colab import drive\n",
        "drive.mount('/content/drive')\n",
        "%cd '/content/drive/MyDrive/NLP/Assignment_2'"
      ]
    },
    {
      "cell_type": "markdown",
      "metadata": {
        "id": "v-6lrKz6orxT"
      },
      "source": [
        "### Import used libraries"
      ]
    },
    {
      "cell_type": "code",
      "execution_count": 2,
      "metadata": {
        "colab": {
          "base_uri": "https://localhost:8080/"
        },
        "id": "EJN_Igtb7UMX",
        "outputId": "5ba352a7-4de9-4ec5-c4d8-ca270a727d9d"
      },
      "outputs": [
        {
          "output_type": "stream",
          "name": "stdout",
          "text": [
            "Collecting pyarabic\n",
            "  Downloading PyArabic-0.6.15-py3-none-any.whl (126 kB)\n",
            "\u001b[?25l     \u001b[90m━━━━━━━━━━━━━━━━━━━━━━━━━━━━━━━━━━━━━━━━\u001b[0m \u001b[32m0.0/126.4 kB\u001b[0m \u001b[31m?\u001b[0m eta \u001b[36m-:--:--\u001b[0m\r\u001b[2K     \u001b[90m━━━━━━━━━━━━━━━━━━━━━━━━━━━━━━━━━━━━━━━━\u001b[0m \u001b[32m126.4/126.4 kB\u001b[0m \u001b[31m3.8 MB/s\u001b[0m eta \u001b[36m0:00:00\u001b[0m\n",
            "\u001b[?25hRequirement already satisfied: six>=1.14.0 in /usr/local/lib/python3.10/dist-packages (from pyarabic) (1.16.0)\n",
            "Installing collected packages: pyarabic\n",
            "Successfully installed pyarabic-0.6.15\n",
            "Collecting pyconll\n",
            "  Downloading pyconll-3.2.0-py3-none-any.whl (27 kB)\n",
            "Installing collected packages: pyconll\n",
            "Successfully installed pyconll-3.2.0\n"
          ]
        }
      ],
      "source": [
        "!pip install pyarabic\n",
        "!pip install pyconll"
      ]
    },
    {
      "cell_type": "code",
      "execution_count": 3,
      "metadata": {
        "id": "eXUPo3g4orxV"
      },
      "outputs": [],
      "source": [
        "import pandas as pd\n",
        "import pyconll\n",
        "import pyarabic.araby as araby\n",
        "import seaborn as sns\n",
        "import matplotlib.pyplot as plt\n",
        "import numpy as np\n",
        "import tensorflow as tf\n",
        "from tqdm import tqdm\n",
        "from sklearn.model_selection import train_test_split\n",
        "from tensorflow.keras.preprocessing.text import Tokenizer\n",
        "from tensorflow.keras.preprocessing.sequence import pad_sequences\n",
        "from sklearn.preprocessing import LabelEncoder\n",
        "from tensorflow.keras.models import Model, Sequential\n",
        "from tensorflow.keras.layers import Input, Embedding, LSTM, Dense, concatenate, TimeDistributed, SimpleRNN, GRU, Bidirectional\n",
        "pd.set_option('display.max_rows', 500)\n",
        "pd.set_option('display.max_colwidth', 500)"
      ]
    },
    {
      "cell_type": "markdown",
      "metadata": {
        "id": "fG8MkuvjorxX"
      },
      "source": [
        "### Load Dataset"
      ]
    },
    {
      "cell_type": "code",
      "execution_count": 4,
      "metadata": {
        "id": "BYeqhp66orxY"
      },
      "outputs": [],
      "source": [
        "data = pyconll.load_from_file('./Assignment 2 - Arabic POS.conllu')"
      ]
    },
    {
      "cell_type": "markdown",
      "source": [
        "## Print Sample of 10 sentences"
      ],
      "metadata": {
        "id": "0ewW0-pE-eM4"
      }
    },
    {
      "cell_type": "code",
      "execution_count": 5,
      "metadata": {
        "colab": {
          "base_uri": "https://localhost:8080/"
        },
        "id": "m0IowPH_76JG",
        "outputId": "2233e83d-4830-48a9-e28c-57d759311e32"
      },
      "outputs": [
        {
          "output_type": "stream",
          "name": "stdout",
          "text": [
            "Sentence: 1\n",
            "ID: 1, Form: برلين, Lemma: بَرلِين, POS: X\n",
            "ID: 2, Form: ترفض, Lemma: رَفَض, POS: VERB\n",
            "ID: 3, Form: حصول, Lemma: حُصُول, POS: NOUN\n",
            "ID: 4, Form: شركة, Lemma: شَرِكَة, POS: NOUN\n",
            "ID: 5, Form: اميركية, Lemma: أَمِيرِكِيّ, POS: ADJ\n",
            "ID: 6, Form: على, Lemma: عَلَى, POS: ADP\n",
            "ID: 7, Form: رخصة, Lemma: رُخصَة, POS: NOUN\n",
            "ID: 8, Form: تصنيع, Lemma: تَصنِيع, POS: NOUN\n",
            "ID: 9, Form: دبابة, Lemma: دَبَّابَة, POS: NOUN\n",
            "ID: 10, Form: \", Lemma: \", POS: PUNCT\n",
            "ID: 11, Form: ليوبارد, Lemma: لِيُوبَارد, POS: X\n",
            "ID: 12, Form: \", Lemma: \", POS: PUNCT\n",
            "ID: 13, Form: الالمانية, Lemma: أَلمَانِيّ, POS: ADJ\n",
            "Sentence: 2\n",
            "ID: 1, Form: برلين, Lemma: بَرلِين, POS: X\n",
            "ID: 2, Form: 15, Lemma: 15, POS: NUM\n",
            "ID: 3, Form: -, Lemma: -, POS: PUNCT\n",
            "ID: 4, Form: 7, Lemma: 7, POS: NUM\n",
            "ID: 5, Form: (, Lemma: (, POS: PUNCT\n",
            "ID: 6, Form: اف, Lemma: اف, POS: X\n",
            "ID: 7, Form: ب, Lemma: ب, POS: X\n",
            "ID: 8, Form: ), Lemma: ), POS: PUNCT\n",
            "ID: 9, Form: -, Lemma: -, POS: PUNCT\n",
            "ID: 10, Form: افادت, Lemma: أَفَاد, POS: VERB\n",
            "ID: 11, Form: صحيفة, Lemma: صَحِيفَة, POS: NOUN\n",
            "ID: 12, Form: الاحد, Lemma: أَحَد, POS: NOUN\n",
            "ID: 13, Form: الالمانية, Lemma: أَلمَانِيّ, POS: ADJ\n",
            "ID: 14, Form: \", Lemma: \", POS: PUNCT\n",
            "ID: 15, Form: ويلت, Lemma: ويلت, POS: X\n",
            "ID: 16, Form: ام, Lemma: ام, POS: X\n",
            "ID: 17, Form: سونتاغ, Lemma: سونتاغ, POS: X\n",
            "ID: 18, Form: \", Lemma: \", POS: PUNCT\n",
            "ID: 19, Form: في, Lemma: فِي, POS: ADP\n",
            "ID: 20-21, Form: عددها, Lemma: None, POS: None\n",
            "ID: 20, Form: عدد, Lemma: عَدَد, POS: NOUN\n",
            "ID: 21, Form: ها, Lemma: هُوَ, POS: PRON\n",
            "ID: 22, Form: الصادر, Lemma: صَادِر, POS: ADJ\n",
            "ID: 23, Form: غدا, Lemma: غَد, POS: NOUN\n",
            "ID: 24, Form: ،, Lemma: ،, POS: PUNCT\n",
            "ID: 25, Form: ان, Lemma: أَنَّ, POS: SCONJ\n",
            "ID: 26, Form: المستشار, Lemma: مُستَشَار, POS: NOUN\n",
            "ID: 27, Form: غيرهارد, Lemma: غيرهارد, POS: X\n",
            "ID: 28, Form: شرودر, Lemma: شرُودِر, POS: X\n",
            "ID: 29, Form: يرفض, Lemma: رَفَض, POS: VERB\n",
            "ID: 30, Form: حصول, Lemma: حُصُول, POS: NOUN\n",
            "ID: 31, Form: المجموعة, Lemma: مَجمُوعَة, POS: NOUN\n",
            "ID: 32, Form: الاميركية, Lemma: أَمِيرِكِيّ, POS: ADJ\n",
            "ID: 33, Form: \", Lemma: \", POS: PUNCT\n",
            "ID: 34, Form: جنرال, Lemma: جنرال, POS: X\n",
            "ID: 35, Form: ديناميكس, Lemma: دِينَامِيكس, POS: X\n",
            "ID: 36, Form: \", Lemma: \", POS: PUNCT\n",
            "ID: 37, Form: على, Lemma: عَلَى, POS: ADP\n",
            "ID: 38, Form: رخصة, Lemma: رُخصَة, POS: NOUN\n",
            "ID: 39-40, Form: لتصنيع, Lemma: None, POS: None\n",
            "ID: 39, Form: ل, Lemma: لِ, POS: ADP\n",
            "ID: 40, Form: تصنيع, Lemma: تَصنِيع, POS: NOUN\n",
            "ID: 41, Form: الدبابة, Lemma: دَبَّابَة, POS: NOUN\n",
            "ID: 42, Form: الالمانية, Lemma: أَلمَانِيّ, POS: ADJ\n",
            "ID: 43, Form: \", Lemma: \", POS: PUNCT\n",
            "ID: 44, Form: ليوبارد, Lemma: لِيُوبَارد, POS: X\n",
            "ID: 45, Form: 2, Lemma: 2, POS: NUM\n",
            "ID: 46, Form: \", Lemma: \", POS: PUNCT\n",
            "ID: 47, Form: عبر, Lemma: عَبرَ, POS: ADP\n",
            "ID: 48, Form: شراء, Lemma: شِرَاء, POS: NOUN\n",
            "ID: 49, Form: المجموعة, Lemma: مَجمُوعَة, POS: NOUN\n",
            "ID: 50, Form: الحكومية, Lemma: حُكُومِيّ, POS: ADJ\n",
            "ID: 51, Form: الاسبانية, Lemma: إِسبَانِيّ, POS: ADJ\n",
            "ID: 52-53, Form: للاسلحة, Lemma: None, POS: None\n",
            "ID: 52, Form: ل, Lemma: لِ, POS: ADP\n",
            "ID: 53, Form: الأسلحة, Lemma: سِلَاح, POS: NOUN\n",
            "ID: 54, Form: \", Lemma: \", POS: PUNCT\n",
            "ID: 55, Form: سانتا, Lemma: سَانتَا, POS: X\n",
            "ID: 56, Form: بربارة, Lemma: بربارة, POS: X\n",
            "ID: 57, Form: \", Lemma: \", POS: PUNCT\n",
            "ID: 58, Form: ., Lemma: ., POS: PUNCT\n",
            "Sentence: 3\n",
            "ID: 1-2, Form: وفي, Lemma: None, POS: None\n",
            "ID: 1, Form: و, Lemma: وَ, POS: CCONJ\n",
            "ID: 2, Form: في, Lemma: فِي, POS: ADP\n",
            "ID: 3, Form: نيسان, Lemma: نِيسَان, POS: NOUN\n",
            "ID: 4, Form: /, Lemma: /, POS: PUNCT\n",
            "ID: 5, Form: ابريل, Lemma: أَبرِيل, POS: NOUN\n",
            "ID: 6, Form: الماضي, Lemma: مَاضِي, POS: ADJ\n",
            "ID: 7, Form: ،, Lemma: ،, POS: PUNCT\n",
            "ID: 8, Form: تخلت, Lemma: تَخَلَّى, POS: VERB\n",
            "ID: 9, Form: الدولة, Lemma: دَولَة, POS: NOUN\n",
            "ID: 10, Form: الاسبانية, Lemma: إِسبَانِيّ, POS: ADJ\n",
            "ID: 11, Form: عن, Lemma: عَن, POS: ADP\n",
            "ID: 12, Form: مجموعة, Lemma: مَجمُوعَة, POS: NOUN\n",
            "ID: 13, Form: \", Lemma: \", POS: PUNCT\n",
            "ID: 14, Form: سانتا, Lemma: سَانتَا, POS: X\n",
            "ID: 15, Form: بربارة, Lemma: بربارة, POS: X\n",
            "ID: 16, Form: \", Lemma: \", POS: PUNCT\n",
            "ID: 17, Form: التي, Lemma: اَلَّذِي, POS: DET\n",
            "ID: 18, Form: تصنع, Lemma: صَنَع, POS: VERB\n",
            "ID: 19, Form: دبابات, Lemma: دَبَّابَة, POS: NOUN\n",
            "ID: 20, Form: ليوبارد, Lemma: لِيُوبَارد, POS: X\n",
            "ID: 21, Form: الالمانية, Lemma: أَلمَانِيّ, POS: ADJ\n",
            "ID: 22, Form: ،, Lemma: ،, POS: PUNCT\n",
            "ID: 23, Form: الى, Lemma: إِلَى, POS: ADP\n",
            "ID: 24, Form: \", Lemma: \", POS: PUNCT\n",
            "ID: 25, Form: جنرال, Lemma: جنرال, POS: X\n",
            "ID: 26, Form: ديناميكس, Lemma: دِينَامِيكس, POS: X\n",
            "ID: 27, Form: \", Lemma: \", POS: PUNCT\n",
            "ID: 28, Form: التي, Lemma: التي, POS: X\n",
            "ID: 29, Form: تنتج, Lemma: أَنتَج, POS: VERB\n",
            "ID: 30, Form: الدبابة, Lemma: دَبَّابَة, POS: NOUN\n",
            "ID: 31, Form: الاميركية, Lemma: أَمِيرِكِيّ, POS: ADJ\n",
            "ID: 32, Form: \", Lemma: \", POS: PUNCT\n",
            "ID: 33, Form: ام, Lemma: إِم, POS: X\n",
            "ID: 34, Form: 1, Lemma: 1, POS: NUM\n",
            "ID: 35, Form: ابرامس, Lemma: أَبرَامس, POS: X\n",
            "ID: 36, Form: \", Lemma: \", POS: PUNCT\n",
            "ID: 37, Form: المعتبرة, Lemma: مُعتَبَر, POS: ADJ\n",
            "ID: 38, Form: المنافسة, Lemma: مُنَافِسَة, POS: NOUN\n",
            "ID: 39, Form: الرئيسية, Lemma: رَئِيسِيّ, POS: ADJ\n",
            "ID: 40-41, Form: لدبابة, Lemma: None, POS: None\n",
            "ID: 40, Form: ل, Lemma: لِ, POS: ADP\n",
            "ID: 41, Form: دبابة, Lemma: دَبَّابَة, POS: NOUN\n",
            "ID: 42, Form: ليوبارد, Lemma: لِيُوبَارد, POS: X\n",
            "ID: 43, Form: في, Lemma: فِي, POS: ADP\n",
            "ID: 44, Form: الاسواق, Lemma: سُوق, POS: NOUN\n",
            "ID: 45, Form: ., Lemma: ., POS: PUNCT\n",
            "Sentence: 4\n",
            "ID: 1-2, Form: وكانت, Lemma: None, POS: None\n",
            "ID: 1, Form: و, Lemma: وَ, POS: CCONJ\n",
            "ID: 2, Form: كانت, Lemma: كَان, POS: VERB\n",
            "ID: 3, Form: خسائر, Lemma: خَسَارَة, POS: NOUN\n",
            "ID: 4, Form: المجموعة, Lemma: مَجمُوعَة, POS: NOUN\n",
            "ID: 5, Form: الاسبانية, Lemma: إِسبَانِيّ, POS: ADJ\n",
            "ID: 6, Form: الرسمية, Lemma: رَسمِيّ, POS: ADJ\n",
            "ID: 7, Form: تراكمت, Lemma: تَرَاكَم, POS: VERB\n",
            "ID: 8, Form: في, Lemma: فِي, POS: ADP\n",
            "ID: 9, Form: السنوات, Lemma: سَنَة, POS: NOUN\n",
            "ID: 10, Form: العشر, Lemma: عَشَرَة, POS: NUM\n",
            "ID: 11, Form: الاخيرة, Lemma: أَخِير, POS: ADJ\n",
            "ID: 12-13, Form: لتبلغ, Lemma: None, POS: None\n",
            "ID: 12, Form: ل, Lemma: لِ, POS: CCONJ\n",
            "ID: 13, Form: تبلغ, Lemma: بَلَغ, POS: VERB\n",
            "ID: 14, Form: 920, Lemma: 920, POS: NUM\n",
            "ID: 15, Form: مليون, Lemma: مِليُون, POS: NUM\n",
            "ID: 16, Form: يورو, Lemma: يُورُو, POS: NOUN\n",
            "ID: 17, Form: ., Lemma: ., POS: PUNCT\n",
            "Sentence: 5\n",
            "ID: 1-2, Form: واشارت, Lemma: None, POS: None\n",
            "ID: 1, Form: و, Lemma: وَ, POS: CCONJ\n",
            "ID: 2, Form: أشارت, Lemma: أَشَار, POS: VERB\n",
            "ID: 3, Form: صحيفة, Lemma: صَحِيفَة, POS: NOUN\n",
            "ID: 4, Form: الاحد, Lemma: أَحَد, POS: NOUN\n",
            "ID: 5, Form: الى, Lemma: إِلَى, POS: ADP\n",
            "ID: 6, Form: ان, Lemma: أَنَّ, POS: SCONJ\n",
            "ID: 7, Form: المستشار, Lemma: مُستَشَار, POS: NOUN\n",
            "ID: 8, Form: شرودر, Lemma: شرُودِر, POS: X\n",
            "ID: 9, Form: يعتبر, Lemma: اِعتَبَر, POS: VERB\n",
            "ID: 10, Form: ان, Lemma: أَنَّ, POS: SCONJ\n",
            "ID: 11, Form: حصول, Lemma: حُصُول, POS: NOUN\n",
            "ID: 12, Form: المجموعة, Lemma: مَجمُوعَة, POS: NOUN\n",
            "ID: 13, Form: الاميركية, Lemma: أَمِيرِكِيّ, POS: ADJ\n",
            "ID: 14, Form: على, Lemma: عَلَى, POS: ADP\n",
            "ID: 15, Form: رخصة, Lemma: رُخصَة, POS: NOUN\n",
            "ID: 16, Form: تصنيع, Lemma: تَصنِيع, POS: NOUN\n",
            "ID: 17, Form: ليوبارد, Lemma: لِيُوبَارد, POS: X\n",
            "ID: 18, Form: 2, Lemma: 2, POS: NUM\n",
            "ID: 19, Form: يعرض, Lemma: عَرَّض, POS: VERB\n",
            "ID: 20-21, Form: للخطر, Lemma: None, POS: None\n",
            "ID: 20, Form: ل, Lemma: لِ, POS: ADP\n",
            "ID: 21, Form: الخطر, Lemma: خَطَر, POS: NOUN\n",
            "ID: 22, Form: المصالح, Lemma: مَصلَحَة, POS: NOUN\n",
            "ID: 23, Form: التكنولوجية, Lemma: تِكنُولُوجِيّ, POS: ADJ\n",
            "ID: 24, Form: الاساسية, Lemma: أَسَاسِيّ, POS: ADJ\n",
            "ID: 25-26, Form: لالمانيا, Lemma: None, POS: None\n",
            "ID: 25, Form: ل, Lemma: لِ, POS: ADP\n",
            "ID: 26, Form: ألمانيا, Lemma: أَلمَانِيَا, POS: X\n",
            "ID: 27-28, Form: وطلب, Lemma: None, POS: None\n",
            "ID: 27, Form: و, Lemma: وَ, POS: CCONJ\n",
            "ID: 28, Form: طلب, Lemma: طَلَب, POS: VERB\n",
            "ID: 29, Form: من, Lemma: مِن, POS: ADP\n",
            "ID: 30, Form: وزير, Lemma: وَزِير, POS: NOUN\n",
            "ID: 31, Form: الدفاع, Lemma: دِفَاع, POS: NOUN\n",
            "ID: 32, Form: رودولف, Lemma: رُودُولف, POS: X\n",
            "ID: 33, Form: شاربينغ, Lemma: شَاربِينغ, POS: X\n",
            "ID: 34, Form: التوجه, Lemma: تَوَجُّه, POS: NOUN\n",
            "ID: 35, Form: الى, Lemma: إِلَى, POS: ADP\n",
            "ID: 36, Form: اسبانيا, Lemma: إِسبَانِيَا, POS: X\n",
            "ID: 37, Form: ., Lemma: ., POS: PUNCT\n",
            "Sentence: 6\n",
            "ID: 1-2, Form: وتعذر, Lemma: None, POS: None\n",
            "ID: 1, Form: و, Lemma: وَ, POS: CCONJ\n",
            "ID: 2, Form: تعذر, Lemma: تَعَذَّر, POS: VERB\n",
            "ID: 3-4, Form: لمتحدثة, Lemma: None, POS: None\n",
            "ID: 3, Form: ل, Lemma: لِ, POS: ADP\n",
            "ID: 4, Form: متحدثة, Lemma: مُتَحَدِّثَة, POS: NOUN\n",
            "ID: 5-6, Form: باسم, Lemma: None, POS: None\n",
            "ID: 5, Form: ب, Lemma: بِ, POS: ADP\n",
            "ID: 6, Form: اسم, Lemma: اِسم, POS: NOUN\n",
            "ID: 7, Form: وزارة, Lemma: وِزَارَة, POS: NOUN\n",
            "ID: 8, Form: الدفاع, Lemma: دِفَاع, POS: NOUN\n",
            "ID: 9, Form: الالمانية, Lemma: أَلمَانِيّ, POS: ADJ\n",
            "ID: 10, Form: ان, Lemma: أَن, POS: SCONJ\n",
            "ID: 11, Form: تؤكد, Lemma: أَكَّد, POS: VERB\n",
            "ID: 12, Form: اليوم, Lemma: يَوم, POS: NOUN\n",
            "ID: 13, Form: السبت, Lemma: سَبت, POS: NOUN\n",
            "ID: 14, Form: هذه, Lemma: هٰذَا, POS: DET\n",
            "ID: 15, Form: المعلومات, Lemma: مَعلُومَة, POS: NOUN\n",
            "ID: 16, Form: ., Lemma: ., POS: PUNCT\n",
            "Sentence: 7\n",
            "ID: 1-2, Form: وفي, Lemma: None, POS: None\n",
            "ID: 1, Form: و, Lemma: وَ, POS: CCONJ\n",
            "ID: 2, Form: في, Lemma: فِي, POS: ADP\n",
            "ID: 3, Form: 21, Lemma: 21, POS: NUM\n",
            "ID: 4, Form: حزيران, Lemma: حَزِيرَان, POS: NOUN\n",
            "ID: 5, Form: /, Lemma: /, POS: PUNCT\n",
            "ID: 6, Form: يونيو, Lemma: يُونِيُو, POS: NOUN\n",
            "ID: 7, Form: ،, Lemma: ،, POS: PUNCT\n",
            "ID: 8, Form: شدد, Lemma: شَدَّد, POS: VERB\n",
            "ID: 9, Form: وزير, Lemma: وَزِير, POS: NOUN\n",
            "ID: 10, Form: الدفاع, Lemma: دِفَاع, POS: NOUN\n",
            "ID: 11, Form: الاسباني, Lemma: إِسبَانِيّ, POS: ADJ\n",
            "ID: 12, Form: فيديريكو, Lemma: فيديريكو, POS: X\n",
            "ID: 13, Form: تريو, Lemma: تريو, POS: X\n",
            "ID: 14, Form: على, Lemma: عَلَى, POS: ADP\n",
            "ID: 15, Form: ان, Lemma: أَنَّ, POS: SCONJ\n",
            "ID: 16, Form: العقد, Lemma: عَقد, POS: NOUN\n",
            "ID: 17, Form: الموقع, Lemma: مُوَقَّع, POS: ADJ\n",
            "ID: 18, Form: في, Lemma: فِي, POS: ADP\n",
            "ID: 19, Form: نهاية, Lemma: نِهَايَة, POS: NOUN\n",
            "ID: 20, Form: عام, Lemma: عَام, POS: NOUN\n",
            "ID: 21, Form: 1998, Lemma: 1998, POS: NUM\n",
            "ID: 22, Form: بين, Lemma: بَينَ, POS: ADP\n",
            "ID: 23, Form: سانتا, Lemma: سَانتَا, POS: X\n",
            "ID: 24, Form: بربارة, Lemma: بربارة, POS: X\n",
            "ID: 25-26, Form: ومنتجي, Lemma: None, POS: None\n",
            "ID: 25, Form: و, Lemma: وَ, POS: CCONJ\n",
            "ID: 26, Form: منتجي, Lemma: مُنتِج, POS: NOUN\n",
            "ID: 27, Form: الدبابة, Lemma: دَبَّابَة, POS: NOUN\n",
            "ID: 28, Form: الالمانية, Lemma: أَلمَانِيّ, POS: ADJ\n",
            "ID: 29, Form: ،, Lemma: ،, POS: PUNCT\n",
            "ID: 30-31, Form: كروس, Lemma: None, POS: None\n",
            "ID: 30, Form: ك, Lemma: كَ, POS: ADP\n",
            "ID: 31, Form: روس, Lemma: رُوس, POS: X\n",
            "ID: 32, Form: مافييه, Lemma: مافييه, POS: X\n",
            "ID: 33, Form: ورينمينتال, Lemma: ورينمينتال, POS: X\n",
            "ID: 34-35, Form: لتصنيع, Lemma: None, POS: None\n",
            "ID: 34, Form: ل, Lemma: لِ, POS: ADP\n",
            "ID: 35, Form: تصنيع, Lemma: تَصنِيع, POS: NOUN\n",
            "ID: 36, Form: الدبابة, Lemma: دَبَّابَة, POS: NOUN\n",
            "ID: 37, Form: في, Lemma: فِي, POS: ADP\n",
            "ID: 38, Form: اسبانيا, Lemma: إِسبَانِيَا, POS: X\n",
            "ID: 39-40, Form: وانتاج, Lemma: None, POS: None\n",
            "ID: 39, Form: و, Lemma: وَ, POS: CCONJ\n",
            "ID: 40, Form: إنتاج, Lemma: إِنتَاج, POS: NOUN\n",
            "ID: 41, Form: 235, Lemma: 235, POS: NUM\n",
            "ID: 42, Form: دبابة, Lemma: دَبَّابَة, POS: NOUN\n",
            "ID: 43, Form: ليوبارد, Lemma: لِيُوبَارد, POS: X\n",
            "ID: 44, Form: 2, Lemma: 2, POS: NUM\n",
            "ID: 45, Form: خلال, Lemma: خِلَالَ, POS: ADP\n",
            "ID: 46, Form: عشر, Lemma: عَشَرَة, POS: NUM\n",
            "ID: 47, Form: سنوات, Lemma: سَنَة, POS: NOUN\n",
            "ID: 48, Form: ،, Lemma: ،, POS: PUNCT\n",
            "ID: 49, Form: يتضمن, Lemma: تَضَمَّن, POS: VERB\n",
            "ID: 50, Form: بندا, Lemma: بَند, POS: NOUN\n",
            "ID: 51-52, Form: لحماية, Lemma: None, POS: None\n",
            "ID: 51, Form: ل, Lemma: لِ, POS: ADP\n",
            "ID: 52, Form: حماية, Lemma: حِمَايَة, POS: NOUN\n",
            "ID: 53, Form: التكنولوجيا, Lemma: تِكنُولُوجِيَا, POS: NOUN\n",
            "ID: 54, Form: الالمانية, Lemma: أَلمَانِيّ, POS: ADJ\n",
            "ID: 55-56, Form: ويجب, Lemma: None, POS: None\n",
            "ID: 55, Form: و, Lemma: وَ, POS: CCONJ\n",
            "ID: 56, Form: يجب, Lemma: وَجَب, POS: VERB\n",
            "ID: 57, Form: في, Lemma: فِي, POS: ADP\n",
            "ID: 58, Form: \", Lemma: \", POS: PUNCT\n",
            "ID: 59, Form: جميع, Lemma: جَمِيع, POS: NOUN\n",
            "ID: 60, Form: الاحوال, Lemma: حَال, POS: NOUN\n",
            "ID: 61, Form: \", Lemma: \", POS: PUNCT\n",
            "ID: 62, Form: ان, Lemma: أَن, POS: SCONJ\n",
            "ID: 63-64, Form: تحترمه, Lemma: None, POS: None\n",
            "ID: 63, Form: تحترم, Lemma: اِحتَرَم, POS: VERB\n",
            "ID: 64, Form: ه, Lemma: هُوَ, POS: PRON\n",
            "ID: 65, Form: شركة, Lemma: شَرِكَة, POS: NOUN\n",
            "ID: 66, Form: \", Lemma: \", POS: PUNCT\n",
            "ID: 67, Form: جنرال, Lemma: جنرال, POS: X\n",
            "ID: 68, Form: ديناميكس, Lemma: دِينَامِيكس, POS: X\n",
            "ID: 69, Form: \", Lemma: \", POS: PUNCT\n",
            "ID: 70, Form: الاميركية, Lemma: أَمِيرِكِيّ, POS: ADJ\n",
            "ID: 71, Form: ., Lemma: ., POS: PUNCT\n",
            "Sentence: 8\n",
            "ID: 1, Form: مقتل, Lemma: مَقتَل, POS: NOUN\n",
            "ID: 2, Form: ما, Lemma: مَا, POS: DET\n",
            "ID: 3, Form: لا, Lemma: لَا, POS: PART\n",
            "ID: 4, Form: يقل, Lemma: قَلّ, POS: VERB\n",
            "ID: 5, Form: عن, Lemma: عَن, POS: ADP\n",
            "ID: 6, Form: 12, Lemma: 12, POS: NUM\n",
            "ID: 7, Form: شخصا, Lemma: شَخص, POS: NOUN\n",
            "ID: 8, Form: في, Lemma: فِي, POS: ADP\n",
            "ID: 9, Form: مواجهات, Lemma: مُوَاجَهَة, POS: NOUN\n",
            "ID: 10, Form: في, Lemma: فِي, POS: ADP\n",
            "ID: 11, Form: احدى, Lemma: إِحدَى, POS: NOUN\n",
            "ID: 12, Form: اسواق, Lemma: سُوق, POS: NOUN\n",
            "ID: 13, Form: لاغوس, Lemma: لَاغُوس, POS: X\n",
            "Sentence: 9\n",
            "ID: 1, Form: لاغوس, Lemma: لاغوس, POS: X\n",
            "ID: 2, Form: 15, Lemma: 15, POS: NUM\n",
            "ID: 3, Form: -, Lemma: -, POS: PUNCT\n",
            "ID: 4, Form: 7, Lemma: 7, POS: NUM\n",
            "ID: 5, Form: (, Lemma: (, POS: PUNCT\n",
            "ID: 6, Form: اف, Lemma: اف, POS: X\n",
            "ID: 7, Form: ب, Lemma: ب, POS: X\n",
            "ID: 8, Form: ), Lemma: ), POS: PUNCT\n",
            "ID: 9, Form: -, Lemma: -, POS: PUNCT\n",
            "ID: 10, Form: ذكرت, Lemma: ذَكَر, POS: VERB\n",
            "ID: 11, Form: الشرطة, Lemma: شُرطَة, POS: NOUN\n",
            "ID: 12, Form: النيجيرية, Lemma: نَيجِيرِيّ, POS: ADJ\n",
            "ID: 13, Form: اليوم, Lemma: يَوم, POS: NOUN\n",
            "ID: 14, Form: السبت, Lemma: سَبت, POS: NOUN\n",
            "ID: 15, Form: ان, Lemma: أَنَّ, POS: SCONJ\n",
            "ID: 16, Form: ما, Lemma: مَا, POS: DET\n",
            "ID: 17, Form: لا, Lemma: لَا, POS: PART\n",
            "ID: 18, Form: يقل, Lemma: قَلّ, POS: VERB\n",
            "ID: 19, Form: عن, Lemma: عَن, POS: ADP\n",
            "ID: 20, Form: 12, Lemma: 12, POS: NUM\n",
            "ID: 21, Form: شخصا, Lemma: شَخص, POS: NOUN\n",
            "ID: 22, Form: قتلوا, Lemma: قَتَل, POS: VERB\n",
            "ID: 23, Form: في, Lemma: فِي, POS: ADP\n",
            "ID: 24, Form: مواجهات, Lemma: مُوَاجَهَة, POS: NOUN\n",
            "ID: 25, Form: استمرت, Lemma: اِستَمَرّ, POS: VERB\n",
            "ID: 26, Form: يومين, Lemma: يَوم, POS: NOUN\n",
            "ID: 27, Form: في, Lemma: فِي, POS: ADP\n",
            "ID: 28, Form: سوق, Lemma: سُوق, POS: NOUN\n",
            "ID: 29, Form: في, Lemma: فِي, POS: ADP\n",
            "ID: 30, Form: لاغوس, Lemma: لَاغُوس, POS: X\n",
            "ID: 31, Form: بين, Lemma: بَينَ, POS: ADP\n",
            "ID: 32, Form: تجار, Lemma: تَاجِر, POS: NOUN\n",
            "ID: 33-34, Form: وزقاقيين, Lemma: None, POS: None\n",
            "ID: 33, Form: و, Lemma: وَ, POS: CCONJ\n",
            "ID: 34, Form: زقاقيين, Lemma: زُقَاقِيّ, POS: ADJ\n",
            "ID: 35, Form: ., Lemma: ., POS: PUNCT\n",
            "Sentence: 10\n",
            "ID: 1-2, Form: واعلن, Lemma: None, POS: None\n",
            "ID: 1, Form: و, Lemma: وَ, POS: CCONJ\n",
            "ID: 2, Form: أعلن, Lemma: أَعلَن, POS: VERB\n",
            "ID: 3, Form: متحدث, Lemma: مُتَحَدِّث, POS: NOUN\n",
            "ID: 4-5, Form: باسم, Lemma: None, POS: None\n",
            "ID: 4, Form: ب, Lemma: بِ, POS: ADP\n",
            "ID: 5, Form: اسم, Lemma: اِسم, POS: NOUN\n",
            "ID: 6, Form: الشرطة, Lemma: شُرطَة, POS: NOUN\n",
            "ID: 7-8, Form: لوكالة, Lemma: None, POS: None\n",
            "ID: 7, Form: ل, Lemma: لِ, POS: ADP\n",
            "ID: 8, Form: وكالة, Lemma: وِكَالَة, POS: NOUN\n",
            "ID: 9, Form: فرانس, Lemma: فرَانس, POS: X\n",
            "ID: 10, Form: برس, Lemma: برِس, POS: X\n",
            "ID: 11, Form: ان, Lemma: أَنَّ, POS: SCONJ\n",
            "ID: 12, Form: المواجهات, Lemma: مُوَاجَهَة, POS: NOUN\n",
            "ID: 13, Form: التي, Lemma: اَلَّذِي, POS: DET\n",
            "ID: 14, Form: بدأت, Lemma: بَدَأ, POS: VERB\n",
            "ID: 15, Form: الخميس, Lemma: خَمِيس, POS: NOUN\n",
            "ID: 16, Form: بين, Lemma: بَينَ, POS: ADP\n",
            "ID: 17, Form: التجار, Lemma: تَاجِر, POS: NOUN\n",
            "ID: 18, Form: في, Lemma: فِي, POS: ADP\n",
            "ID: 19, Form: سوق, Lemma: سُوق, POS: NOUN\n",
            "ID: 20, Form: الابا, Lemma: الابا, POS: X\n",
            "ID: 21, Form: في, Lemma: فِي, POS: ADP\n",
            "ID: 22, Form: لاغوس, Lemma: لَاغُوس, POS: X\n",
            "ID: 23, Form: ،, Lemma: ،, POS: PUNCT\n",
            "ID: 24-25, Form: وعدد, Lemma: None, POS: None\n",
            "ID: 24, Form: و, Lemma: وَ, POS: CCONJ\n",
            "ID: 25, Form: عدد, Lemma: عَدَد, POS: NOUN\n",
            "ID: 26, Form: من, Lemma: مِن, POS: ADP\n",
            "ID: 27, Form: الزقاقيين, Lemma: زُقَاقِيّ, POS: ADJ\n",
            "ID: 28, Form: ،, Lemma: ،, POS: PUNCT\n",
            "ID: 29, Form: اسفرت, Lemma: أَسفَر, POS: VERB\n",
            "ID: 30, Form: ايضا, Lemma: أَيضًا, POS: ADV\n",
            "ID: 31, Form: عن, Lemma: عَن, POS: ADP\n",
            "ID: 32, Form: اصابة, Lemma: إِصَابَة, POS: NOUN\n",
            "ID: 33, Form: عدد, Lemma: عَدَد, POS: NOUN\n",
            "ID: 34, Form: من, Lemma: مِن, POS: ADP\n",
            "ID: 35, Form: الاشخاص, Lemma: شَخص, POS: NOUN\n",
            "ID: 36-37, Form: بجروح, Lemma: None, POS: None\n",
            "ID: 36, Form: ب, Lemma: بِ, POS: ADP\n",
            "ID: 37, Form: جروح, Lemma: جُرح, POS: NOUN\n",
            "ID: 38, Form: ., Lemma: ., POS: PUNCT\n"
          ]
        }
      ],
      "source": [
        "i = 0\n",
        "for sentence in data:\n",
        "    i += 1\n",
        "    print(f\"Sentence: {i}\")\n",
        "    for token in sentence:\n",
        "        print(f\"ID: {token.id}, Form: {token.form}, Lemma: {token.lemma}, POS: {token.upos}\")\n",
        "    if i == 10:\n",
        "        break"
      ]
    },
    {
      "cell_type": "markdown",
      "source": [
        "## Create Dataframe and add data to use to it"
      ],
      "metadata": {
        "id": "etEb_knFAvXJ"
      }
    },
    {
      "cell_type": "code",
      "source": [
        "records = []"
      ],
      "metadata": {
        "id": "HxuFJEyz_ANN"
      },
      "execution_count": 6,
      "outputs": []
    },
    {
      "cell_type": "code",
      "source": [
        "i = 0\n",
        "for sentence in tqdm(data, desc=\"Filling Dataframe\"):\n",
        "    for token in sentence:\n",
        "        new_record = {'Sentence' : i, 'Token': token.form, 'Lemma': token.lemma, 'POS': token.upos}\n",
        "        records.append(new_record)\n",
        "    i += 1"
      ],
      "metadata": {
        "colab": {
          "base_uri": "https://localhost:8080/"
        },
        "id": "uP713bQd_MAt",
        "outputId": "d4fa24a1-fee9-407a-a016-d83c12000398"
      },
      "execution_count": 7,
      "outputs": [
        {
          "output_type": "stream",
          "name": "stderr",
          "text": [
            "Filling Dataframe: 100%|██████████| 6075/6075 [00:00<00:00, 8360.71it/s]\n"
          ]
        }
      ]
    },
    {
      "cell_type": "code",
      "source": [
        "df = pd.DataFrame(records)"
      ],
      "metadata": {
        "id": "WNZggu2PE8x7"
      },
      "execution_count": 8,
      "outputs": []
    },
    {
      "cell_type": "code",
      "source": [
        "df.head(20)"
      ],
      "metadata": {
        "colab": {
          "base_uri": "https://localhost:8080/",
          "height": 676
        },
        "id": "DoG5SUpCFE5C",
        "outputId": "9ac1f629-9148-4ea6-de62-9fa7b2295ce1"
      },
      "execution_count": 9,
      "outputs": [
        {
          "output_type": "execute_result",
          "data": {
            "text/plain": [
              "    Sentence      Token        Lemma    POS\n",
              "0          0      برلين      بَرلِين      X\n",
              "1          0       ترفض        رَفَض   VERB\n",
              "2          0       حصول       حُصُول   NOUN\n",
              "3          0       شركة      شَرِكَة   NOUN\n",
              "4          0    اميركية  أَمِيرِكِيّ    ADJ\n",
              "5          0        على        عَلَى    ADP\n",
              "6          0       رخصة       رُخصَة   NOUN\n",
              "7          0      تصنيع      تَصنِيع   NOUN\n",
              "8          0      دبابة    دَبَّابَة   NOUN\n",
              "9          0          \"            \"  PUNCT\n",
              "10         0    ليوبارد   لِيُوبَارد      X\n",
              "11         0          \"            \"  PUNCT\n",
              "12         0  الالمانية   أَلمَانِيّ    ADJ\n",
              "13         1      برلين      بَرلِين      X\n",
              "14         1         15           15    NUM\n",
              "15         1          -            -  PUNCT\n",
              "16         1          7            7    NUM\n",
              "17         1          (            (  PUNCT\n",
              "18         1         اف           اف      X\n",
              "19         1          ب            ب      X"
            ],
            "text/html": [
              "\n",
              "  <div id=\"df-ffdc8ac4-58fa-478a-85d4-e3d078589c8b\" class=\"colab-df-container\">\n",
              "    <div>\n",
              "<style scoped>\n",
              "    .dataframe tbody tr th:only-of-type {\n",
              "        vertical-align: middle;\n",
              "    }\n",
              "\n",
              "    .dataframe tbody tr th {\n",
              "        vertical-align: top;\n",
              "    }\n",
              "\n",
              "    .dataframe thead th {\n",
              "        text-align: right;\n",
              "    }\n",
              "</style>\n",
              "<table border=\"1\" class=\"dataframe\">\n",
              "  <thead>\n",
              "    <tr style=\"text-align: right;\">\n",
              "      <th></th>\n",
              "      <th>Sentence</th>\n",
              "      <th>Token</th>\n",
              "      <th>Lemma</th>\n",
              "      <th>POS</th>\n",
              "    </tr>\n",
              "  </thead>\n",
              "  <tbody>\n",
              "    <tr>\n",
              "      <th>0</th>\n",
              "      <td>0</td>\n",
              "      <td>برلين</td>\n",
              "      <td>بَرلِين</td>\n",
              "      <td>X</td>\n",
              "    </tr>\n",
              "    <tr>\n",
              "      <th>1</th>\n",
              "      <td>0</td>\n",
              "      <td>ترفض</td>\n",
              "      <td>رَفَض</td>\n",
              "      <td>VERB</td>\n",
              "    </tr>\n",
              "    <tr>\n",
              "      <th>2</th>\n",
              "      <td>0</td>\n",
              "      <td>حصول</td>\n",
              "      <td>حُصُول</td>\n",
              "      <td>NOUN</td>\n",
              "    </tr>\n",
              "    <tr>\n",
              "      <th>3</th>\n",
              "      <td>0</td>\n",
              "      <td>شركة</td>\n",
              "      <td>شَرِكَة</td>\n",
              "      <td>NOUN</td>\n",
              "    </tr>\n",
              "    <tr>\n",
              "      <th>4</th>\n",
              "      <td>0</td>\n",
              "      <td>اميركية</td>\n",
              "      <td>أَمِيرِكِيّ</td>\n",
              "      <td>ADJ</td>\n",
              "    </tr>\n",
              "    <tr>\n",
              "      <th>5</th>\n",
              "      <td>0</td>\n",
              "      <td>على</td>\n",
              "      <td>عَلَى</td>\n",
              "      <td>ADP</td>\n",
              "    </tr>\n",
              "    <tr>\n",
              "      <th>6</th>\n",
              "      <td>0</td>\n",
              "      <td>رخصة</td>\n",
              "      <td>رُخصَة</td>\n",
              "      <td>NOUN</td>\n",
              "    </tr>\n",
              "    <tr>\n",
              "      <th>7</th>\n",
              "      <td>0</td>\n",
              "      <td>تصنيع</td>\n",
              "      <td>تَصنِيع</td>\n",
              "      <td>NOUN</td>\n",
              "    </tr>\n",
              "    <tr>\n",
              "      <th>8</th>\n",
              "      <td>0</td>\n",
              "      <td>دبابة</td>\n",
              "      <td>دَبَّابَة</td>\n",
              "      <td>NOUN</td>\n",
              "    </tr>\n",
              "    <tr>\n",
              "      <th>9</th>\n",
              "      <td>0</td>\n",
              "      <td>\"</td>\n",
              "      <td>\"</td>\n",
              "      <td>PUNCT</td>\n",
              "    </tr>\n",
              "    <tr>\n",
              "      <th>10</th>\n",
              "      <td>0</td>\n",
              "      <td>ليوبارد</td>\n",
              "      <td>لِيُوبَارد</td>\n",
              "      <td>X</td>\n",
              "    </tr>\n",
              "    <tr>\n",
              "      <th>11</th>\n",
              "      <td>0</td>\n",
              "      <td>\"</td>\n",
              "      <td>\"</td>\n",
              "      <td>PUNCT</td>\n",
              "    </tr>\n",
              "    <tr>\n",
              "      <th>12</th>\n",
              "      <td>0</td>\n",
              "      <td>الالمانية</td>\n",
              "      <td>أَلمَانِيّ</td>\n",
              "      <td>ADJ</td>\n",
              "    </tr>\n",
              "    <tr>\n",
              "      <th>13</th>\n",
              "      <td>1</td>\n",
              "      <td>برلين</td>\n",
              "      <td>بَرلِين</td>\n",
              "      <td>X</td>\n",
              "    </tr>\n",
              "    <tr>\n",
              "      <th>14</th>\n",
              "      <td>1</td>\n",
              "      <td>15</td>\n",
              "      <td>15</td>\n",
              "      <td>NUM</td>\n",
              "    </tr>\n",
              "    <tr>\n",
              "      <th>15</th>\n",
              "      <td>1</td>\n",
              "      <td>-</td>\n",
              "      <td>-</td>\n",
              "      <td>PUNCT</td>\n",
              "    </tr>\n",
              "    <tr>\n",
              "      <th>16</th>\n",
              "      <td>1</td>\n",
              "      <td>7</td>\n",
              "      <td>7</td>\n",
              "      <td>NUM</td>\n",
              "    </tr>\n",
              "    <tr>\n",
              "      <th>17</th>\n",
              "      <td>1</td>\n",
              "      <td>(</td>\n",
              "      <td>(</td>\n",
              "      <td>PUNCT</td>\n",
              "    </tr>\n",
              "    <tr>\n",
              "      <th>18</th>\n",
              "      <td>1</td>\n",
              "      <td>اف</td>\n",
              "      <td>اف</td>\n",
              "      <td>X</td>\n",
              "    </tr>\n",
              "    <tr>\n",
              "      <th>19</th>\n",
              "      <td>1</td>\n",
              "      <td>ب</td>\n",
              "      <td>ب</td>\n",
              "      <td>X</td>\n",
              "    </tr>\n",
              "  </tbody>\n",
              "</table>\n",
              "</div>\n",
              "    <div class=\"colab-df-buttons\">\n",
              "\n",
              "  <div class=\"colab-df-container\">\n",
              "    <button class=\"colab-df-convert\" onclick=\"convertToInteractive('df-ffdc8ac4-58fa-478a-85d4-e3d078589c8b')\"\n",
              "            title=\"Convert this dataframe to an interactive table.\"\n",
              "            style=\"display:none;\">\n",
              "\n",
              "  <svg xmlns=\"http://www.w3.org/2000/svg\" height=\"24px\" viewBox=\"0 -960 960 960\">\n",
              "    <path d=\"M120-120v-720h720v720H120Zm60-500h600v-160H180v160Zm220 220h160v-160H400v160Zm0 220h160v-160H400v160ZM180-400h160v-160H180v160Zm440 0h160v-160H620v160ZM180-180h160v-160H180v160Zm440 0h160v-160H620v160Z\"/>\n",
              "  </svg>\n",
              "    </button>\n",
              "\n",
              "  <style>\n",
              "    .colab-df-container {\n",
              "      display:flex;\n",
              "      gap: 12px;\n",
              "    }\n",
              "\n",
              "    .colab-df-convert {\n",
              "      background-color: #E8F0FE;\n",
              "      border: none;\n",
              "      border-radius: 50%;\n",
              "      cursor: pointer;\n",
              "      display: none;\n",
              "      fill: #1967D2;\n",
              "      height: 32px;\n",
              "      padding: 0 0 0 0;\n",
              "      width: 32px;\n",
              "    }\n",
              "\n",
              "    .colab-df-convert:hover {\n",
              "      background-color: #E2EBFA;\n",
              "      box-shadow: 0px 1px 2px rgba(60, 64, 67, 0.3), 0px 1px 3px 1px rgba(60, 64, 67, 0.15);\n",
              "      fill: #174EA6;\n",
              "    }\n",
              "\n",
              "    .colab-df-buttons div {\n",
              "      margin-bottom: 4px;\n",
              "    }\n",
              "\n",
              "    [theme=dark] .colab-df-convert {\n",
              "      background-color: #3B4455;\n",
              "      fill: #D2E3FC;\n",
              "    }\n",
              "\n",
              "    [theme=dark] .colab-df-convert:hover {\n",
              "      background-color: #434B5C;\n",
              "      box-shadow: 0px 1px 3px 1px rgba(0, 0, 0, 0.15);\n",
              "      filter: drop-shadow(0px 1px 2px rgba(0, 0, 0, 0.3));\n",
              "      fill: #FFFFFF;\n",
              "    }\n",
              "  </style>\n",
              "\n",
              "    <script>\n",
              "      const buttonEl =\n",
              "        document.querySelector('#df-ffdc8ac4-58fa-478a-85d4-e3d078589c8b button.colab-df-convert');\n",
              "      buttonEl.style.display =\n",
              "        google.colab.kernel.accessAllowed ? 'block' : 'none';\n",
              "\n",
              "      async function convertToInteractive(key) {\n",
              "        const element = document.querySelector('#df-ffdc8ac4-58fa-478a-85d4-e3d078589c8b');\n",
              "        const dataTable =\n",
              "          await google.colab.kernel.invokeFunction('convertToInteractive',\n",
              "                                                    [key], {});\n",
              "        if (!dataTable) return;\n",
              "\n",
              "        const docLinkHtml = 'Like what you see? Visit the ' +\n",
              "          '<a target=\"_blank\" href=https://colab.research.google.com/notebooks/data_table.ipynb>data table notebook</a>'\n",
              "          + ' to learn more about interactive tables.';\n",
              "        element.innerHTML = '';\n",
              "        dataTable['output_type'] = 'display_data';\n",
              "        await google.colab.output.renderOutput(dataTable, element);\n",
              "        const docLink = document.createElement('div');\n",
              "        docLink.innerHTML = docLinkHtml;\n",
              "        element.appendChild(docLink);\n",
              "      }\n",
              "    </script>\n",
              "  </div>\n",
              "\n",
              "\n",
              "<div id=\"df-694b1020-6952-42d6-ba97-bc8333ced5b0\">\n",
              "  <button class=\"colab-df-quickchart\" onclick=\"quickchart('df-694b1020-6952-42d6-ba97-bc8333ced5b0')\"\n",
              "            title=\"Suggest charts\"\n",
              "            style=\"display:none;\">\n",
              "\n",
              "<svg xmlns=\"http://www.w3.org/2000/svg\" height=\"24px\"viewBox=\"0 0 24 24\"\n",
              "     width=\"24px\">\n",
              "    <g>\n",
              "        <path d=\"M19 3H5c-1.1 0-2 .9-2 2v14c0 1.1.9 2 2 2h14c1.1 0 2-.9 2-2V5c0-1.1-.9-2-2-2zM9 17H7v-7h2v7zm4 0h-2V7h2v10zm4 0h-2v-4h2v4z\"/>\n",
              "    </g>\n",
              "</svg>\n",
              "  </button>\n",
              "\n",
              "<style>\n",
              "  .colab-df-quickchart {\n",
              "      --bg-color: #E8F0FE;\n",
              "      --fill-color: #1967D2;\n",
              "      --hover-bg-color: #E2EBFA;\n",
              "      --hover-fill-color: #174EA6;\n",
              "      --disabled-fill-color: #AAA;\n",
              "      --disabled-bg-color: #DDD;\n",
              "  }\n",
              "\n",
              "  [theme=dark] .colab-df-quickchart {\n",
              "      --bg-color: #3B4455;\n",
              "      --fill-color: #D2E3FC;\n",
              "      --hover-bg-color: #434B5C;\n",
              "      --hover-fill-color: #FFFFFF;\n",
              "      --disabled-bg-color: #3B4455;\n",
              "      --disabled-fill-color: #666;\n",
              "  }\n",
              "\n",
              "  .colab-df-quickchart {\n",
              "    background-color: var(--bg-color);\n",
              "    border: none;\n",
              "    border-radius: 50%;\n",
              "    cursor: pointer;\n",
              "    display: none;\n",
              "    fill: var(--fill-color);\n",
              "    height: 32px;\n",
              "    padding: 0;\n",
              "    width: 32px;\n",
              "  }\n",
              "\n",
              "  .colab-df-quickchart:hover {\n",
              "    background-color: var(--hover-bg-color);\n",
              "    box-shadow: 0 1px 2px rgba(60, 64, 67, 0.3), 0 1px 3px 1px rgba(60, 64, 67, 0.15);\n",
              "    fill: var(--button-hover-fill-color);\n",
              "  }\n",
              "\n",
              "  .colab-df-quickchart-complete:disabled,\n",
              "  .colab-df-quickchart-complete:disabled:hover {\n",
              "    background-color: var(--disabled-bg-color);\n",
              "    fill: var(--disabled-fill-color);\n",
              "    box-shadow: none;\n",
              "  }\n",
              "\n",
              "  .colab-df-spinner {\n",
              "    border: 2px solid var(--fill-color);\n",
              "    border-color: transparent;\n",
              "    border-bottom-color: var(--fill-color);\n",
              "    animation:\n",
              "      spin 1s steps(1) infinite;\n",
              "  }\n",
              "\n",
              "  @keyframes spin {\n",
              "    0% {\n",
              "      border-color: transparent;\n",
              "      border-bottom-color: var(--fill-color);\n",
              "      border-left-color: var(--fill-color);\n",
              "    }\n",
              "    20% {\n",
              "      border-color: transparent;\n",
              "      border-left-color: var(--fill-color);\n",
              "      border-top-color: var(--fill-color);\n",
              "    }\n",
              "    30% {\n",
              "      border-color: transparent;\n",
              "      border-left-color: var(--fill-color);\n",
              "      border-top-color: var(--fill-color);\n",
              "      border-right-color: var(--fill-color);\n",
              "    }\n",
              "    40% {\n",
              "      border-color: transparent;\n",
              "      border-right-color: var(--fill-color);\n",
              "      border-top-color: var(--fill-color);\n",
              "    }\n",
              "    60% {\n",
              "      border-color: transparent;\n",
              "      border-right-color: var(--fill-color);\n",
              "    }\n",
              "    80% {\n",
              "      border-color: transparent;\n",
              "      border-right-color: var(--fill-color);\n",
              "      border-bottom-color: var(--fill-color);\n",
              "    }\n",
              "    90% {\n",
              "      border-color: transparent;\n",
              "      border-bottom-color: var(--fill-color);\n",
              "    }\n",
              "  }\n",
              "</style>\n",
              "\n",
              "  <script>\n",
              "    async function quickchart(key) {\n",
              "      const quickchartButtonEl =\n",
              "        document.querySelector('#' + key + ' button');\n",
              "      quickchartButtonEl.disabled = true;  // To prevent multiple clicks.\n",
              "      quickchartButtonEl.classList.add('colab-df-spinner');\n",
              "      try {\n",
              "        const charts = await google.colab.kernel.invokeFunction(\n",
              "            'suggestCharts', [key], {});\n",
              "      } catch (error) {\n",
              "        console.error('Error during call to suggestCharts:', error);\n",
              "      }\n",
              "      quickchartButtonEl.classList.remove('colab-df-spinner');\n",
              "      quickchartButtonEl.classList.add('colab-df-quickchart-complete');\n",
              "    }\n",
              "    (() => {\n",
              "      let quickchartButtonEl =\n",
              "        document.querySelector('#df-694b1020-6952-42d6-ba97-bc8333ced5b0 button');\n",
              "      quickchartButtonEl.style.display =\n",
              "        google.colab.kernel.accessAllowed ? 'block' : 'none';\n",
              "    })();\n",
              "  </script>\n",
              "</div>\n",
              "\n",
              "    </div>\n",
              "  </div>\n"
            ],
            "application/vnd.google.colaboratory.intrinsic+json": {
              "type": "dataframe",
              "variable_name": "df"
            }
          },
          "metadata": {},
          "execution_count": 9
        }
      ]
    },
    {
      "cell_type": "markdown",
      "source": [
        "### Data splitting"
      ],
      "metadata": {
        "id": "JKEqrECzJhdV"
      }
    },
    {
      "cell_type": "code",
      "source": [
        "df['Sentence'].nunique()"
      ],
      "metadata": {
        "colab": {
          "base_uri": "https://localhost:8080/"
        },
        "id": "72ZUVwjfN9zf",
        "outputId": "2234bf0e-f27a-44ad-84b3-9bca681b0592"
      },
      "execution_count": 10,
      "outputs": [
        {
          "output_type": "execute_result",
          "data": {
            "text/plain": [
              "6075"
            ]
          },
          "metadata": {},
          "execution_count": 10
        }
      ]
    },
    {
      "cell_type": "code",
      "source": [
        "df['POS'].isna().sum()"
      ],
      "metadata": {
        "colab": {
          "base_uri": "https://localhost:8080/"
        },
        "id": "rhlH-swXKJvf",
        "outputId": "173347e7-6e67-4b40-eefc-93d25de6493d"
      },
      "execution_count": 11,
      "outputs": [
        {
          "output_type": "execute_result",
          "data": {
            "text/plain": [
              "30519"
            ]
          },
          "metadata": {},
          "execution_count": 11
        }
      ]
    },
    {
      "cell_type": "code",
      "source": [
        "df = df[df['POS'].notna()]"
      ],
      "metadata": {
        "id": "mCXT1TXmKNS7"
      },
      "execution_count": 12,
      "outputs": []
    },
    {
      "cell_type": "code",
      "source": [
        "df['POS'].isna().sum()"
      ],
      "metadata": {
        "colab": {
          "base_uri": "https://localhost:8080/"
        },
        "id": "2rHz6rqXKm7b",
        "outputId": "154aed7a-ed40-4479-fa16-fd83ba605835"
      },
      "execution_count": 13,
      "outputs": [
        {
          "output_type": "execute_result",
          "data": {
            "text/plain": [
              "0"
            ]
          },
          "metadata": {},
          "execution_count": 13
        }
      ]
    },
    {
      "cell_type": "code",
      "source": [
        "df['POS'].value_counts()"
      ],
      "metadata": {
        "colab": {
          "base_uri": "https://localhost:8080/"
        },
        "id": "1kNf5u7XK6-a",
        "outputId": "4867d1ae-7e85-444a-960d-93a18cad6690"
      },
      "execution_count": 14,
      "outputs": [
        {
          "output_type": "execute_result",
          "data": {
            "text/plain": [
              "POS\n",
              "NOUN     74546\n",
              "ADP      33617\n",
              "ADJ      23498\n",
              "PUNCT    17511\n",
              "VERB     16789\n",
              "CCONJ    15803\n",
              "X        13747\n",
              "PRON      8533\n",
              "NUM       6010\n",
              "DET       4648\n",
              "SCONJ     4368\n",
              "PART      1709\n",
              "AUX       1699\n",
              "ADV        880\n",
              "SYM        329\n",
              "PROPN      187\n",
              "INTJ         7\n",
              "Name: count, dtype: int64"
            ]
          },
          "metadata": {},
          "execution_count": 14
        }
      ]
    },
    {
      "cell_type": "code",
      "execution_count": 15,
      "metadata": {
        "id": "bqf3t2Ac5zIW"
      },
      "outputs": [],
      "source": [
        "val_test_ratio = 0.2\n",
        "X_train, X_val_test, y_train, y_val_test = train_test_split(df[['Token', 'Lemma', 'Sentence']],\n",
        "                                                    df['POS'],\n",
        "                                                    test_size=val_test_ratio,\n",
        "                                                    shuffle=False)"
      ]
    },
    {
      "cell_type": "code",
      "execution_count": 16,
      "metadata": {
        "id": "RgfWPJ3E5zIY"
      },
      "outputs": [],
      "source": [
        "val_ratio = 0.5\n",
        "X_val, X_test, y_val, y_test = train_test_split(X_val_test,\n",
        "                                                    y_val_test,\n",
        "                                                    test_size=val_ratio,\n",
        "                                                    shuffle=False)"
      ]
    },
    {
      "cell_type": "code",
      "source": [
        "train = pd.concat([X_train, y_train], axis=1)\n",
        "val = pd.concat([X_val, y_val], axis=1)\n",
        "test = pd.concat([X_test, y_test], axis=1)\n",
        "\n",
        "train.head(10)"
      ],
      "metadata": {
        "colab": {
          "base_uri": "https://localhost:8080/",
          "height": 363
        },
        "id": "_ZrFnctsMOjE",
        "outputId": "2069d274-df52-403e-ad41-091351d736d3"
      },
      "execution_count": 17,
      "outputs": [
        {
          "output_type": "execute_result",
          "data": {
            "text/plain": [
              "     Token        Lemma  Sentence    POS\n",
              "0    برلين      بَرلِين         0      X\n",
              "1     ترفض        رَفَض         0   VERB\n",
              "2     حصول       حُصُول         0   NOUN\n",
              "3     شركة      شَرِكَة         0   NOUN\n",
              "4  اميركية  أَمِيرِكِيّ         0    ADJ\n",
              "5      على        عَلَى         0    ADP\n",
              "6     رخصة       رُخصَة         0   NOUN\n",
              "7    تصنيع      تَصنِيع         0   NOUN\n",
              "8    دبابة    دَبَّابَة         0   NOUN\n",
              "9        \"            \"         0  PUNCT"
            ],
            "text/html": [
              "\n",
              "  <div id=\"df-1832146f-ca6d-495f-b516-743a9630b8b6\" class=\"colab-df-container\">\n",
              "    <div>\n",
              "<style scoped>\n",
              "    .dataframe tbody tr th:only-of-type {\n",
              "        vertical-align: middle;\n",
              "    }\n",
              "\n",
              "    .dataframe tbody tr th {\n",
              "        vertical-align: top;\n",
              "    }\n",
              "\n",
              "    .dataframe thead th {\n",
              "        text-align: right;\n",
              "    }\n",
              "</style>\n",
              "<table border=\"1\" class=\"dataframe\">\n",
              "  <thead>\n",
              "    <tr style=\"text-align: right;\">\n",
              "      <th></th>\n",
              "      <th>Token</th>\n",
              "      <th>Lemma</th>\n",
              "      <th>Sentence</th>\n",
              "      <th>POS</th>\n",
              "    </tr>\n",
              "  </thead>\n",
              "  <tbody>\n",
              "    <tr>\n",
              "      <th>0</th>\n",
              "      <td>برلين</td>\n",
              "      <td>بَرلِين</td>\n",
              "      <td>0</td>\n",
              "      <td>X</td>\n",
              "    </tr>\n",
              "    <tr>\n",
              "      <th>1</th>\n",
              "      <td>ترفض</td>\n",
              "      <td>رَفَض</td>\n",
              "      <td>0</td>\n",
              "      <td>VERB</td>\n",
              "    </tr>\n",
              "    <tr>\n",
              "      <th>2</th>\n",
              "      <td>حصول</td>\n",
              "      <td>حُصُول</td>\n",
              "      <td>0</td>\n",
              "      <td>NOUN</td>\n",
              "    </tr>\n",
              "    <tr>\n",
              "      <th>3</th>\n",
              "      <td>شركة</td>\n",
              "      <td>شَرِكَة</td>\n",
              "      <td>0</td>\n",
              "      <td>NOUN</td>\n",
              "    </tr>\n",
              "    <tr>\n",
              "      <th>4</th>\n",
              "      <td>اميركية</td>\n",
              "      <td>أَمِيرِكِيّ</td>\n",
              "      <td>0</td>\n",
              "      <td>ADJ</td>\n",
              "    </tr>\n",
              "    <tr>\n",
              "      <th>5</th>\n",
              "      <td>على</td>\n",
              "      <td>عَلَى</td>\n",
              "      <td>0</td>\n",
              "      <td>ADP</td>\n",
              "    </tr>\n",
              "    <tr>\n",
              "      <th>6</th>\n",
              "      <td>رخصة</td>\n",
              "      <td>رُخصَة</td>\n",
              "      <td>0</td>\n",
              "      <td>NOUN</td>\n",
              "    </tr>\n",
              "    <tr>\n",
              "      <th>7</th>\n",
              "      <td>تصنيع</td>\n",
              "      <td>تَصنِيع</td>\n",
              "      <td>0</td>\n",
              "      <td>NOUN</td>\n",
              "    </tr>\n",
              "    <tr>\n",
              "      <th>8</th>\n",
              "      <td>دبابة</td>\n",
              "      <td>دَبَّابَة</td>\n",
              "      <td>0</td>\n",
              "      <td>NOUN</td>\n",
              "    </tr>\n",
              "    <tr>\n",
              "      <th>9</th>\n",
              "      <td>\"</td>\n",
              "      <td>\"</td>\n",
              "      <td>0</td>\n",
              "      <td>PUNCT</td>\n",
              "    </tr>\n",
              "  </tbody>\n",
              "</table>\n",
              "</div>\n",
              "    <div class=\"colab-df-buttons\">\n",
              "\n",
              "  <div class=\"colab-df-container\">\n",
              "    <button class=\"colab-df-convert\" onclick=\"convertToInteractive('df-1832146f-ca6d-495f-b516-743a9630b8b6')\"\n",
              "            title=\"Convert this dataframe to an interactive table.\"\n",
              "            style=\"display:none;\">\n",
              "\n",
              "  <svg xmlns=\"http://www.w3.org/2000/svg\" height=\"24px\" viewBox=\"0 -960 960 960\">\n",
              "    <path d=\"M120-120v-720h720v720H120Zm60-500h600v-160H180v160Zm220 220h160v-160H400v160Zm0 220h160v-160H400v160ZM180-400h160v-160H180v160Zm440 0h160v-160H620v160ZM180-180h160v-160H180v160Zm440 0h160v-160H620v160Z\"/>\n",
              "  </svg>\n",
              "    </button>\n",
              "\n",
              "  <style>\n",
              "    .colab-df-container {\n",
              "      display:flex;\n",
              "      gap: 12px;\n",
              "    }\n",
              "\n",
              "    .colab-df-convert {\n",
              "      background-color: #E8F0FE;\n",
              "      border: none;\n",
              "      border-radius: 50%;\n",
              "      cursor: pointer;\n",
              "      display: none;\n",
              "      fill: #1967D2;\n",
              "      height: 32px;\n",
              "      padding: 0 0 0 0;\n",
              "      width: 32px;\n",
              "    }\n",
              "\n",
              "    .colab-df-convert:hover {\n",
              "      background-color: #E2EBFA;\n",
              "      box-shadow: 0px 1px 2px rgba(60, 64, 67, 0.3), 0px 1px 3px 1px rgba(60, 64, 67, 0.15);\n",
              "      fill: #174EA6;\n",
              "    }\n",
              "\n",
              "    .colab-df-buttons div {\n",
              "      margin-bottom: 4px;\n",
              "    }\n",
              "\n",
              "    [theme=dark] .colab-df-convert {\n",
              "      background-color: #3B4455;\n",
              "      fill: #D2E3FC;\n",
              "    }\n",
              "\n",
              "    [theme=dark] .colab-df-convert:hover {\n",
              "      background-color: #434B5C;\n",
              "      box-shadow: 0px 1px 3px 1px rgba(0, 0, 0, 0.15);\n",
              "      filter: drop-shadow(0px 1px 2px rgba(0, 0, 0, 0.3));\n",
              "      fill: #FFFFFF;\n",
              "    }\n",
              "  </style>\n",
              "\n",
              "    <script>\n",
              "      const buttonEl =\n",
              "        document.querySelector('#df-1832146f-ca6d-495f-b516-743a9630b8b6 button.colab-df-convert');\n",
              "      buttonEl.style.display =\n",
              "        google.colab.kernel.accessAllowed ? 'block' : 'none';\n",
              "\n",
              "      async function convertToInteractive(key) {\n",
              "        const element = document.querySelector('#df-1832146f-ca6d-495f-b516-743a9630b8b6');\n",
              "        const dataTable =\n",
              "          await google.colab.kernel.invokeFunction('convertToInteractive',\n",
              "                                                    [key], {});\n",
              "        if (!dataTable) return;\n",
              "\n",
              "        const docLinkHtml = 'Like what you see? Visit the ' +\n",
              "          '<a target=\"_blank\" href=https://colab.research.google.com/notebooks/data_table.ipynb>data table notebook</a>'\n",
              "          + ' to learn more about interactive tables.';\n",
              "        element.innerHTML = '';\n",
              "        dataTable['output_type'] = 'display_data';\n",
              "        await google.colab.output.renderOutput(dataTable, element);\n",
              "        const docLink = document.createElement('div');\n",
              "        docLink.innerHTML = docLinkHtml;\n",
              "        element.appendChild(docLink);\n",
              "      }\n",
              "    </script>\n",
              "  </div>\n",
              "\n",
              "\n",
              "<div id=\"df-560ecd63-50fd-41ef-803d-c63b75d16583\">\n",
              "  <button class=\"colab-df-quickchart\" onclick=\"quickchart('df-560ecd63-50fd-41ef-803d-c63b75d16583')\"\n",
              "            title=\"Suggest charts\"\n",
              "            style=\"display:none;\">\n",
              "\n",
              "<svg xmlns=\"http://www.w3.org/2000/svg\" height=\"24px\"viewBox=\"0 0 24 24\"\n",
              "     width=\"24px\">\n",
              "    <g>\n",
              "        <path d=\"M19 3H5c-1.1 0-2 .9-2 2v14c0 1.1.9 2 2 2h14c1.1 0 2-.9 2-2V5c0-1.1-.9-2-2-2zM9 17H7v-7h2v7zm4 0h-2V7h2v10zm4 0h-2v-4h2v4z\"/>\n",
              "    </g>\n",
              "</svg>\n",
              "  </button>\n",
              "\n",
              "<style>\n",
              "  .colab-df-quickchart {\n",
              "      --bg-color: #E8F0FE;\n",
              "      --fill-color: #1967D2;\n",
              "      --hover-bg-color: #E2EBFA;\n",
              "      --hover-fill-color: #174EA6;\n",
              "      --disabled-fill-color: #AAA;\n",
              "      --disabled-bg-color: #DDD;\n",
              "  }\n",
              "\n",
              "  [theme=dark] .colab-df-quickchart {\n",
              "      --bg-color: #3B4455;\n",
              "      --fill-color: #D2E3FC;\n",
              "      --hover-bg-color: #434B5C;\n",
              "      --hover-fill-color: #FFFFFF;\n",
              "      --disabled-bg-color: #3B4455;\n",
              "      --disabled-fill-color: #666;\n",
              "  }\n",
              "\n",
              "  .colab-df-quickchart {\n",
              "    background-color: var(--bg-color);\n",
              "    border: none;\n",
              "    border-radius: 50%;\n",
              "    cursor: pointer;\n",
              "    display: none;\n",
              "    fill: var(--fill-color);\n",
              "    height: 32px;\n",
              "    padding: 0;\n",
              "    width: 32px;\n",
              "  }\n",
              "\n",
              "  .colab-df-quickchart:hover {\n",
              "    background-color: var(--hover-bg-color);\n",
              "    box-shadow: 0 1px 2px rgba(60, 64, 67, 0.3), 0 1px 3px 1px rgba(60, 64, 67, 0.15);\n",
              "    fill: var(--button-hover-fill-color);\n",
              "  }\n",
              "\n",
              "  .colab-df-quickchart-complete:disabled,\n",
              "  .colab-df-quickchart-complete:disabled:hover {\n",
              "    background-color: var(--disabled-bg-color);\n",
              "    fill: var(--disabled-fill-color);\n",
              "    box-shadow: none;\n",
              "  }\n",
              "\n",
              "  .colab-df-spinner {\n",
              "    border: 2px solid var(--fill-color);\n",
              "    border-color: transparent;\n",
              "    border-bottom-color: var(--fill-color);\n",
              "    animation:\n",
              "      spin 1s steps(1) infinite;\n",
              "  }\n",
              "\n",
              "  @keyframes spin {\n",
              "    0% {\n",
              "      border-color: transparent;\n",
              "      border-bottom-color: var(--fill-color);\n",
              "      border-left-color: var(--fill-color);\n",
              "    }\n",
              "    20% {\n",
              "      border-color: transparent;\n",
              "      border-left-color: var(--fill-color);\n",
              "      border-top-color: var(--fill-color);\n",
              "    }\n",
              "    30% {\n",
              "      border-color: transparent;\n",
              "      border-left-color: var(--fill-color);\n",
              "      border-top-color: var(--fill-color);\n",
              "      border-right-color: var(--fill-color);\n",
              "    }\n",
              "    40% {\n",
              "      border-color: transparent;\n",
              "      border-right-color: var(--fill-color);\n",
              "      border-top-color: var(--fill-color);\n",
              "    }\n",
              "    60% {\n",
              "      border-color: transparent;\n",
              "      border-right-color: var(--fill-color);\n",
              "    }\n",
              "    80% {\n",
              "      border-color: transparent;\n",
              "      border-right-color: var(--fill-color);\n",
              "      border-bottom-color: var(--fill-color);\n",
              "    }\n",
              "    90% {\n",
              "      border-color: transparent;\n",
              "      border-bottom-color: var(--fill-color);\n",
              "    }\n",
              "  }\n",
              "</style>\n",
              "\n",
              "  <script>\n",
              "    async function quickchart(key) {\n",
              "      const quickchartButtonEl =\n",
              "        document.querySelector('#' + key + ' button');\n",
              "      quickchartButtonEl.disabled = true;  // To prevent multiple clicks.\n",
              "      quickchartButtonEl.classList.add('colab-df-spinner');\n",
              "      try {\n",
              "        const charts = await google.colab.kernel.invokeFunction(\n",
              "            'suggestCharts', [key], {});\n",
              "      } catch (error) {\n",
              "        console.error('Error during call to suggestCharts:', error);\n",
              "      }\n",
              "      quickchartButtonEl.classList.remove('colab-df-spinner');\n",
              "      quickchartButtonEl.classList.add('colab-df-quickchart-complete');\n",
              "    }\n",
              "    (() => {\n",
              "      let quickchartButtonEl =\n",
              "        document.querySelector('#df-560ecd63-50fd-41ef-803d-c63b75d16583 button');\n",
              "      quickchartButtonEl.style.display =\n",
              "        google.colab.kernel.accessAllowed ? 'block' : 'none';\n",
              "    })();\n",
              "  </script>\n",
              "</div>\n",
              "\n",
              "    </div>\n",
              "  </div>\n"
            ],
            "application/vnd.google.colaboratory.intrinsic+json": {
              "type": "dataframe",
              "variable_name": "train"
            }
          },
          "metadata": {},
          "execution_count": 17
        }
      ]
    },
    {
      "cell_type": "markdown",
      "source": [
        "### Cleaning and Preprocessing"
      ],
      "metadata": {
        "id": "U3qX_o48JUJg"
      }
    },
    {
      "cell_type": "markdown",
      "source": [
        "# `Data Cleaning`"
      ],
      "metadata": {
        "id": "HBnkXgtUHJH7"
      }
    },
    {
      "cell_type": "code",
      "source": [
        "train.isna().sum()"
      ],
      "metadata": {
        "colab": {
          "base_uri": "https://localhost:8080/"
        },
        "id": "PvE1-i4rHLiG",
        "outputId": "1af72384-0163-4e3d-e67c-2028235280d1"
      },
      "execution_count": 18,
      "outputs": [
        {
          "output_type": "execute_result",
          "data": {
            "text/plain": [
              "Token       0\n",
              "Lemma       0\n",
              "Sentence    0\n",
              "POS         0\n",
              "dtype: int64"
            ]
          },
          "metadata": {},
          "execution_count": 18
        }
      ]
    },
    {
      "cell_type": "code",
      "source": [
        "train.duplicated().sum()"
      ],
      "metadata": {
        "colab": {
          "base_uri": "https://localhost:8080/"
        },
        "id": "loajlbrTHUWr",
        "outputId": "458d449e-60a6-4cb2-ad6e-2b693f6c0d4b"
      },
      "execution_count": 19,
      "outputs": [
        {
          "output_type": "execute_result",
          "data": {
            "text/plain": [
              "31756"
            ]
          },
          "metadata": {},
          "execution_count": 19
        }
      ]
    },
    {
      "cell_type": "code",
      "source": [
        "train[train.duplicated()].head(10)"
      ],
      "metadata": {
        "colab": {
          "base_uri": "https://localhost:8080/",
          "height": 363
        },
        "id": "7SkA5Iy4HatK",
        "outputId": "9771a857-6d16-4745-ae11-bb7bce4f1600"
      },
      "execution_count": 20,
      "outputs": [
        {
          "output_type": "execute_result",
          "data": {
            "text/plain": [
              "        Token       Lemma  Sentence    POS\n",
              "11          \"           \"         0  PUNCT\n",
              "21          -           -         1  PUNCT\n",
              "30          \"           \"         1  PUNCT\n",
              "46          \"           \"         1  PUNCT\n",
              "49          \"           \"         1  PUNCT\n",
              "56  الالمانية  أَلمَانِيّ         1    ADJ\n",
              "57          \"           \"         1  PUNCT\n",
              "60          \"           \"         1  PUNCT\n",
              "63   المجموعة   مَجمُوعَة         1   NOUN\n",
              "67          ل          لِ         1    ADP"
            ],
            "text/html": [
              "\n",
              "  <div id=\"df-860438bd-acee-412c-a23b-068845f2613e\" class=\"colab-df-container\">\n",
              "    <div>\n",
              "<style scoped>\n",
              "    .dataframe tbody tr th:only-of-type {\n",
              "        vertical-align: middle;\n",
              "    }\n",
              "\n",
              "    .dataframe tbody tr th {\n",
              "        vertical-align: top;\n",
              "    }\n",
              "\n",
              "    .dataframe thead th {\n",
              "        text-align: right;\n",
              "    }\n",
              "</style>\n",
              "<table border=\"1\" class=\"dataframe\">\n",
              "  <thead>\n",
              "    <tr style=\"text-align: right;\">\n",
              "      <th></th>\n",
              "      <th>Token</th>\n",
              "      <th>Lemma</th>\n",
              "      <th>Sentence</th>\n",
              "      <th>POS</th>\n",
              "    </tr>\n",
              "  </thead>\n",
              "  <tbody>\n",
              "    <tr>\n",
              "      <th>11</th>\n",
              "      <td>\"</td>\n",
              "      <td>\"</td>\n",
              "      <td>0</td>\n",
              "      <td>PUNCT</td>\n",
              "    </tr>\n",
              "    <tr>\n",
              "      <th>21</th>\n",
              "      <td>-</td>\n",
              "      <td>-</td>\n",
              "      <td>1</td>\n",
              "      <td>PUNCT</td>\n",
              "    </tr>\n",
              "    <tr>\n",
              "      <th>30</th>\n",
              "      <td>\"</td>\n",
              "      <td>\"</td>\n",
              "      <td>1</td>\n",
              "      <td>PUNCT</td>\n",
              "    </tr>\n",
              "    <tr>\n",
              "      <th>46</th>\n",
              "      <td>\"</td>\n",
              "      <td>\"</td>\n",
              "      <td>1</td>\n",
              "      <td>PUNCT</td>\n",
              "    </tr>\n",
              "    <tr>\n",
              "      <th>49</th>\n",
              "      <td>\"</td>\n",
              "      <td>\"</td>\n",
              "      <td>1</td>\n",
              "      <td>PUNCT</td>\n",
              "    </tr>\n",
              "    <tr>\n",
              "      <th>56</th>\n",
              "      <td>الالمانية</td>\n",
              "      <td>أَلمَانِيّ</td>\n",
              "      <td>1</td>\n",
              "      <td>ADJ</td>\n",
              "    </tr>\n",
              "    <tr>\n",
              "      <th>57</th>\n",
              "      <td>\"</td>\n",
              "      <td>\"</td>\n",
              "      <td>1</td>\n",
              "      <td>PUNCT</td>\n",
              "    </tr>\n",
              "    <tr>\n",
              "      <th>60</th>\n",
              "      <td>\"</td>\n",
              "      <td>\"</td>\n",
              "      <td>1</td>\n",
              "      <td>PUNCT</td>\n",
              "    </tr>\n",
              "    <tr>\n",
              "      <th>63</th>\n",
              "      <td>المجموعة</td>\n",
              "      <td>مَجمُوعَة</td>\n",
              "      <td>1</td>\n",
              "      <td>NOUN</td>\n",
              "    </tr>\n",
              "    <tr>\n",
              "      <th>67</th>\n",
              "      <td>ل</td>\n",
              "      <td>لِ</td>\n",
              "      <td>1</td>\n",
              "      <td>ADP</td>\n",
              "    </tr>\n",
              "  </tbody>\n",
              "</table>\n",
              "</div>\n",
              "    <div class=\"colab-df-buttons\">\n",
              "\n",
              "  <div class=\"colab-df-container\">\n",
              "    <button class=\"colab-df-convert\" onclick=\"convertToInteractive('df-860438bd-acee-412c-a23b-068845f2613e')\"\n",
              "            title=\"Convert this dataframe to an interactive table.\"\n",
              "            style=\"display:none;\">\n",
              "\n",
              "  <svg xmlns=\"http://www.w3.org/2000/svg\" height=\"24px\" viewBox=\"0 -960 960 960\">\n",
              "    <path d=\"M120-120v-720h720v720H120Zm60-500h600v-160H180v160Zm220 220h160v-160H400v160Zm0 220h160v-160H400v160ZM180-400h160v-160H180v160Zm440 0h160v-160H620v160ZM180-180h160v-160H180v160Zm440 0h160v-160H620v160Z\"/>\n",
              "  </svg>\n",
              "    </button>\n",
              "\n",
              "  <style>\n",
              "    .colab-df-container {\n",
              "      display:flex;\n",
              "      gap: 12px;\n",
              "    }\n",
              "\n",
              "    .colab-df-convert {\n",
              "      background-color: #E8F0FE;\n",
              "      border: none;\n",
              "      border-radius: 50%;\n",
              "      cursor: pointer;\n",
              "      display: none;\n",
              "      fill: #1967D2;\n",
              "      height: 32px;\n",
              "      padding: 0 0 0 0;\n",
              "      width: 32px;\n",
              "    }\n",
              "\n",
              "    .colab-df-convert:hover {\n",
              "      background-color: #E2EBFA;\n",
              "      box-shadow: 0px 1px 2px rgba(60, 64, 67, 0.3), 0px 1px 3px 1px rgba(60, 64, 67, 0.15);\n",
              "      fill: #174EA6;\n",
              "    }\n",
              "\n",
              "    .colab-df-buttons div {\n",
              "      margin-bottom: 4px;\n",
              "    }\n",
              "\n",
              "    [theme=dark] .colab-df-convert {\n",
              "      background-color: #3B4455;\n",
              "      fill: #D2E3FC;\n",
              "    }\n",
              "\n",
              "    [theme=dark] .colab-df-convert:hover {\n",
              "      background-color: #434B5C;\n",
              "      box-shadow: 0px 1px 3px 1px rgba(0, 0, 0, 0.15);\n",
              "      filter: drop-shadow(0px 1px 2px rgba(0, 0, 0, 0.3));\n",
              "      fill: #FFFFFF;\n",
              "    }\n",
              "  </style>\n",
              "\n",
              "    <script>\n",
              "      const buttonEl =\n",
              "        document.querySelector('#df-860438bd-acee-412c-a23b-068845f2613e button.colab-df-convert');\n",
              "      buttonEl.style.display =\n",
              "        google.colab.kernel.accessAllowed ? 'block' : 'none';\n",
              "\n",
              "      async function convertToInteractive(key) {\n",
              "        const element = document.querySelector('#df-860438bd-acee-412c-a23b-068845f2613e');\n",
              "        const dataTable =\n",
              "          await google.colab.kernel.invokeFunction('convertToInteractive',\n",
              "                                                    [key], {});\n",
              "        if (!dataTable) return;\n",
              "\n",
              "        const docLinkHtml = 'Like what you see? Visit the ' +\n",
              "          '<a target=\"_blank\" href=https://colab.research.google.com/notebooks/data_table.ipynb>data table notebook</a>'\n",
              "          + ' to learn more about interactive tables.';\n",
              "        element.innerHTML = '';\n",
              "        dataTable['output_type'] = 'display_data';\n",
              "        await google.colab.output.renderOutput(dataTable, element);\n",
              "        const docLink = document.createElement('div');\n",
              "        docLink.innerHTML = docLinkHtml;\n",
              "        element.appendChild(docLink);\n",
              "      }\n",
              "    </script>\n",
              "  </div>\n",
              "\n",
              "\n",
              "<div id=\"df-793ed91f-150f-4fcc-9db2-fc8d57fa7709\">\n",
              "  <button class=\"colab-df-quickchart\" onclick=\"quickchart('df-793ed91f-150f-4fcc-9db2-fc8d57fa7709')\"\n",
              "            title=\"Suggest charts\"\n",
              "            style=\"display:none;\">\n",
              "\n",
              "<svg xmlns=\"http://www.w3.org/2000/svg\" height=\"24px\"viewBox=\"0 0 24 24\"\n",
              "     width=\"24px\">\n",
              "    <g>\n",
              "        <path d=\"M19 3H5c-1.1 0-2 .9-2 2v14c0 1.1.9 2 2 2h14c1.1 0 2-.9 2-2V5c0-1.1-.9-2-2-2zM9 17H7v-7h2v7zm4 0h-2V7h2v10zm4 0h-2v-4h2v4z\"/>\n",
              "    </g>\n",
              "</svg>\n",
              "  </button>\n",
              "\n",
              "<style>\n",
              "  .colab-df-quickchart {\n",
              "      --bg-color: #E8F0FE;\n",
              "      --fill-color: #1967D2;\n",
              "      --hover-bg-color: #E2EBFA;\n",
              "      --hover-fill-color: #174EA6;\n",
              "      --disabled-fill-color: #AAA;\n",
              "      --disabled-bg-color: #DDD;\n",
              "  }\n",
              "\n",
              "  [theme=dark] .colab-df-quickchart {\n",
              "      --bg-color: #3B4455;\n",
              "      --fill-color: #D2E3FC;\n",
              "      --hover-bg-color: #434B5C;\n",
              "      --hover-fill-color: #FFFFFF;\n",
              "      --disabled-bg-color: #3B4455;\n",
              "      --disabled-fill-color: #666;\n",
              "  }\n",
              "\n",
              "  .colab-df-quickchart {\n",
              "    background-color: var(--bg-color);\n",
              "    border: none;\n",
              "    border-radius: 50%;\n",
              "    cursor: pointer;\n",
              "    display: none;\n",
              "    fill: var(--fill-color);\n",
              "    height: 32px;\n",
              "    padding: 0;\n",
              "    width: 32px;\n",
              "  }\n",
              "\n",
              "  .colab-df-quickchart:hover {\n",
              "    background-color: var(--hover-bg-color);\n",
              "    box-shadow: 0 1px 2px rgba(60, 64, 67, 0.3), 0 1px 3px 1px rgba(60, 64, 67, 0.15);\n",
              "    fill: var(--button-hover-fill-color);\n",
              "  }\n",
              "\n",
              "  .colab-df-quickchart-complete:disabled,\n",
              "  .colab-df-quickchart-complete:disabled:hover {\n",
              "    background-color: var(--disabled-bg-color);\n",
              "    fill: var(--disabled-fill-color);\n",
              "    box-shadow: none;\n",
              "  }\n",
              "\n",
              "  .colab-df-spinner {\n",
              "    border: 2px solid var(--fill-color);\n",
              "    border-color: transparent;\n",
              "    border-bottom-color: var(--fill-color);\n",
              "    animation:\n",
              "      spin 1s steps(1) infinite;\n",
              "  }\n",
              "\n",
              "  @keyframes spin {\n",
              "    0% {\n",
              "      border-color: transparent;\n",
              "      border-bottom-color: var(--fill-color);\n",
              "      border-left-color: var(--fill-color);\n",
              "    }\n",
              "    20% {\n",
              "      border-color: transparent;\n",
              "      border-left-color: var(--fill-color);\n",
              "      border-top-color: var(--fill-color);\n",
              "    }\n",
              "    30% {\n",
              "      border-color: transparent;\n",
              "      border-left-color: var(--fill-color);\n",
              "      border-top-color: var(--fill-color);\n",
              "      border-right-color: var(--fill-color);\n",
              "    }\n",
              "    40% {\n",
              "      border-color: transparent;\n",
              "      border-right-color: var(--fill-color);\n",
              "      border-top-color: var(--fill-color);\n",
              "    }\n",
              "    60% {\n",
              "      border-color: transparent;\n",
              "      border-right-color: var(--fill-color);\n",
              "    }\n",
              "    80% {\n",
              "      border-color: transparent;\n",
              "      border-right-color: var(--fill-color);\n",
              "      border-bottom-color: var(--fill-color);\n",
              "    }\n",
              "    90% {\n",
              "      border-color: transparent;\n",
              "      border-bottom-color: var(--fill-color);\n",
              "    }\n",
              "  }\n",
              "</style>\n",
              "\n",
              "  <script>\n",
              "    async function quickchart(key) {\n",
              "      const quickchartButtonEl =\n",
              "        document.querySelector('#' + key + ' button');\n",
              "      quickchartButtonEl.disabled = true;  // To prevent multiple clicks.\n",
              "      quickchartButtonEl.classList.add('colab-df-spinner');\n",
              "      try {\n",
              "        const charts = await google.colab.kernel.invokeFunction(\n",
              "            'suggestCharts', [key], {});\n",
              "      } catch (error) {\n",
              "        console.error('Error during call to suggestCharts:', error);\n",
              "      }\n",
              "      quickchartButtonEl.classList.remove('colab-df-spinner');\n",
              "      quickchartButtonEl.classList.add('colab-df-quickchart-complete');\n",
              "    }\n",
              "    (() => {\n",
              "      let quickchartButtonEl =\n",
              "        document.querySelector('#df-793ed91f-150f-4fcc-9db2-fc8d57fa7709 button');\n",
              "      quickchartButtonEl.style.display =\n",
              "        google.colab.kernel.accessAllowed ? 'block' : 'none';\n",
              "    })();\n",
              "  </script>\n",
              "</div>\n",
              "\n",
              "    </div>\n",
              "  </div>\n"
            ],
            "application/vnd.google.colaboratory.intrinsic+json": {
              "type": "dataframe",
              "summary": "{\n  \"name\": \"train[train\",\n  \"rows\": 10,\n  \"fields\": [\n    {\n      \"column\": \"Token\",\n      \"properties\": {\n        \"dtype\": \"string\",\n        \"num_unique_values\": 5,\n        \"samples\": [\n          \"-\",\n          \"\\u0644\",\n          \"\\u0627\\u0644\\u0627\\u0644\\u0645\\u0627\\u0646\\u064a\\u0629\"\n        ],\n        \"semantic_type\": \"\",\n        \"description\": \"\"\n      }\n    },\n    {\n      \"column\": \"Lemma\",\n      \"properties\": {\n        \"dtype\": \"string\",\n        \"num_unique_values\": 5,\n        \"samples\": [\n          \"-\",\n          \"\\u0644\\u0650\",\n          \"\\u0623\\u064e\\u0644\\u0645\\u064e\\u0627\\u0646\\u0650\\u064a\\u0651\"\n        ],\n        \"semantic_type\": \"\",\n        \"description\": \"\"\n      }\n    },\n    {\n      \"column\": \"Sentence\",\n      \"properties\": {\n        \"dtype\": \"number\",\n        \"std\": 0,\n        \"min\": 0,\n        \"max\": 1,\n        \"num_unique_values\": 2,\n        \"samples\": [\n          1,\n          0\n        ],\n        \"semantic_type\": \"\",\n        \"description\": \"\"\n      }\n    },\n    {\n      \"column\": \"POS\",\n      \"properties\": {\n        \"dtype\": \"category\",\n        \"num_unique_values\": 4,\n        \"samples\": [\n          \"ADJ\",\n          \"ADP\"\n        ],\n        \"semantic_type\": \"\",\n        \"description\": \"\"\n      }\n    }\n  ]\n}"
            }
          },
          "metadata": {},
          "execution_count": 20
        }
      ]
    },
    {
      "cell_type": "code",
      "source": [
        "train.drop_duplicates(inplace=True)"
      ],
      "metadata": {
        "id": "IF7kQE9eHn53"
      },
      "execution_count": 21,
      "outputs": []
    },
    {
      "cell_type": "code",
      "source": [
        "train.head(10)"
      ],
      "metadata": {
        "colab": {
          "base_uri": "https://localhost:8080/",
          "height": 363
        },
        "id": "-N7XzHaoHr6H",
        "outputId": "f005c7da-34cb-4000-975b-5bc66809100e"
      },
      "execution_count": 22,
      "outputs": [
        {
          "output_type": "execute_result",
          "data": {
            "text/plain": [
              "     Token        Lemma  Sentence    POS\n",
              "0    برلين      بَرلِين         0      X\n",
              "1     ترفض        رَفَض         0   VERB\n",
              "2     حصول       حُصُول         0   NOUN\n",
              "3     شركة      شَرِكَة         0   NOUN\n",
              "4  اميركية  أَمِيرِكِيّ         0    ADJ\n",
              "5      على        عَلَى         0    ADP\n",
              "6     رخصة       رُخصَة         0   NOUN\n",
              "7    تصنيع      تَصنِيع         0   NOUN\n",
              "8    دبابة    دَبَّابَة         0   NOUN\n",
              "9        \"            \"         0  PUNCT"
            ],
            "text/html": [
              "\n",
              "  <div id=\"df-5c3d8954-2913-468a-8a07-42572c62dfa5\" class=\"colab-df-container\">\n",
              "    <div>\n",
              "<style scoped>\n",
              "    .dataframe tbody tr th:only-of-type {\n",
              "        vertical-align: middle;\n",
              "    }\n",
              "\n",
              "    .dataframe tbody tr th {\n",
              "        vertical-align: top;\n",
              "    }\n",
              "\n",
              "    .dataframe thead th {\n",
              "        text-align: right;\n",
              "    }\n",
              "</style>\n",
              "<table border=\"1\" class=\"dataframe\">\n",
              "  <thead>\n",
              "    <tr style=\"text-align: right;\">\n",
              "      <th></th>\n",
              "      <th>Token</th>\n",
              "      <th>Lemma</th>\n",
              "      <th>Sentence</th>\n",
              "      <th>POS</th>\n",
              "    </tr>\n",
              "  </thead>\n",
              "  <tbody>\n",
              "    <tr>\n",
              "      <th>0</th>\n",
              "      <td>برلين</td>\n",
              "      <td>بَرلِين</td>\n",
              "      <td>0</td>\n",
              "      <td>X</td>\n",
              "    </tr>\n",
              "    <tr>\n",
              "      <th>1</th>\n",
              "      <td>ترفض</td>\n",
              "      <td>رَفَض</td>\n",
              "      <td>0</td>\n",
              "      <td>VERB</td>\n",
              "    </tr>\n",
              "    <tr>\n",
              "      <th>2</th>\n",
              "      <td>حصول</td>\n",
              "      <td>حُصُول</td>\n",
              "      <td>0</td>\n",
              "      <td>NOUN</td>\n",
              "    </tr>\n",
              "    <tr>\n",
              "      <th>3</th>\n",
              "      <td>شركة</td>\n",
              "      <td>شَرِكَة</td>\n",
              "      <td>0</td>\n",
              "      <td>NOUN</td>\n",
              "    </tr>\n",
              "    <tr>\n",
              "      <th>4</th>\n",
              "      <td>اميركية</td>\n",
              "      <td>أَمِيرِكِيّ</td>\n",
              "      <td>0</td>\n",
              "      <td>ADJ</td>\n",
              "    </tr>\n",
              "    <tr>\n",
              "      <th>5</th>\n",
              "      <td>على</td>\n",
              "      <td>عَلَى</td>\n",
              "      <td>0</td>\n",
              "      <td>ADP</td>\n",
              "    </tr>\n",
              "    <tr>\n",
              "      <th>6</th>\n",
              "      <td>رخصة</td>\n",
              "      <td>رُخصَة</td>\n",
              "      <td>0</td>\n",
              "      <td>NOUN</td>\n",
              "    </tr>\n",
              "    <tr>\n",
              "      <th>7</th>\n",
              "      <td>تصنيع</td>\n",
              "      <td>تَصنِيع</td>\n",
              "      <td>0</td>\n",
              "      <td>NOUN</td>\n",
              "    </tr>\n",
              "    <tr>\n",
              "      <th>8</th>\n",
              "      <td>دبابة</td>\n",
              "      <td>دَبَّابَة</td>\n",
              "      <td>0</td>\n",
              "      <td>NOUN</td>\n",
              "    </tr>\n",
              "    <tr>\n",
              "      <th>9</th>\n",
              "      <td>\"</td>\n",
              "      <td>\"</td>\n",
              "      <td>0</td>\n",
              "      <td>PUNCT</td>\n",
              "    </tr>\n",
              "  </tbody>\n",
              "</table>\n",
              "</div>\n",
              "    <div class=\"colab-df-buttons\">\n",
              "\n",
              "  <div class=\"colab-df-container\">\n",
              "    <button class=\"colab-df-convert\" onclick=\"convertToInteractive('df-5c3d8954-2913-468a-8a07-42572c62dfa5')\"\n",
              "            title=\"Convert this dataframe to an interactive table.\"\n",
              "            style=\"display:none;\">\n",
              "\n",
              "  <svg xmlns=\"http://www.w3.org/2000/svg\" height=\"24px\" viewBox=\"0 -960 960 960\">\n",
              "    <path d=\"M120-120v-720h720v720H120Zm60-500h600v-160H180v160Zm220 220h160v-160H400v160Zm0 220h160v-160H400v160ZM180-400h160v-160H180v160Zm440 0h160v-160H620v160ZM180-180h160v-160H180v160Zm440 0h160v-160H620v160Z\"/>\n",
              "  </svg>\n",
              "    </button>\n",
              "\n",
              "  <style>\n",
              "    .colab-df-container {\n",
              "      display:flex;\n",
              "      gap: 12px;\n",
              "    }\n",
              "\n",
              "    .colab-df-convert {\n",
              "      background-color: #E8F0FE;\n",
              "      border: none;\n",
              "      border-radius: 50%;\n",
              "      cursor: pointer;\n",
              "      display: none;\n",
              "      fill: #1967D2;\n",
              "      height: 32px;\n",
              "      padding: 0 0 0 0;\n",
              "      width: 32px;\n",
              "    }\n",
              "\n",
              "    .colab-df-convert:hover {\n",
              "      background-color: #E2EBFA;\n",
              "      box-shadow: 0px 1px 2px rgba(60, 64, 67, 0.3), 0px 1px 3px 1px rgba(60, 64, 67, 0.15);\n",
              "      fill: #174EA6;\n",
              "    }\n",
              "\n",
              "    .colab-df-buttons div {\n",
              "      margin-bottom: 4px;\n",
              "    }\n",
              "\n",
              "    [theme=dark] .colab-df-convert {\n",
              "      background-color: #3B4455;\n",
              "      fill: #D2E3FC;\n",
              "    }\n",
              "\n",
              "    [theme=dark] .colab-df-convert:hover {\n",
              "      background-color: #434B5C;\n",
              "      box-shadow: 0px 1px 3px 1px rgba(0, 0, 0, 0.15);\n",
              "      filter: drop-shadow(0px 1px 2px rgba(0, 0, 0, 0.3));\n",
              "      fill: #FFFFFF;\n",
              "    }\n",
              "  </style>\n",
              "\n",
              "    <script>\n",
              "      const buttonEl =\n",
              "        document.querySelector('#df-5c3d8954-2913-468a-8a07-42572c62dfa5 button.colab-df-convert');\n",
              "      buttonEl.style.display =\n",
              "        google.colab.kernel.accessAllowed ? 'block' : 'none';\n",
              "\n",
              "      async function convertToInteractive(key) {\n",
              "        const element = document.querySelector('#df-5c3d8954-2913-468a-8a07-42572c62dfa5');\n",
              "        const dataTable =\n",
              "          await google.colab.kernel.invokeFunction('convertToInteractive',\n",
              "                                                    [key], {});\n",
              "        if (!dataTable) return;\n",
              "\n",
              "        const docLinkHtml = 'Like what you see? Visit the ' +\n",
              "          '<a target=\"_blank\" href=https://colab.research.google.com/notebooks/data_table.ipynb>data table notebook</a>'\n",
              "          + ' to learn more about interactive tables.';\n",
              "        element.innerHTML = '';\n",
              "        dataTable['output_type'] = 'display_data';\n",
              "        await google.colab.output.renderOutput(dataTable, element);\n",
              "        const docLink = document.createElement('div');\n",
              "        docLink.innerHTML = docLinkHtml;\n",
              "        element.appendChild(docLink);\n",
              "      }\n",
              "    </script>\n",
              "  </div>\n",
              "\n",
              "\n",
              "<div id=\"df-817c5c98-7cf4-4f9f-88ef-805449161471\">\n",
              "  <button class=\"colab-df-quickchart\" onclick=\"quickchart('df-817c5c98-7cf4-4f9f-88ef-805449161471')\"\n",
              "            title=\"Suggest charts\"\n",
              "            style=\"display:none;\">\n",
              "\n",
              "<svg xmlns=\"http://www.w3.org/2000/svg\" height=\"24px\"viewBox=\"0 0 24 24\"\n",
              "     width=\"24px\">\n",
              "    <g>\n",
              "        <path d=\"M19 3H5c-1.1 0-2 .9-2 2v14c0 1.1.9 2 2 2h14c1.1 0 2-.9 2-2V5c0-1.1-.9-2-2-2zM9 17H7v-7h2v7zm4 0h-2V7h2v10zm4 0h-2v-4h2v4z\"/>\n",
              "    </g>\n",
              "</svg>\n",
              "  </button>\n",
              "\n",
              "<style>\n",
              "  .colab-df-quickchart {\n",
              "      --bg-color: #E8F0FE;\n",
              "      --fill-color: #1967D2;\n",
              "      --hover-bg-color: #E2EBFA;\n",
              "      --hover-fill-color: #174EA6;\n",
              "      --disabled-fill-color: #AAA;\n",
              "      --disabled-bg-color: #DDD;\n",
              "  }\n",
              "\n",
              "  [theme=dark] .colab-df-quickchart {\n",
              "      --bg-color: #3B4455;\n",
              "      --fill-color: #D2E3FC;\n",
              "      --hover-bg-color: #434B5C;\n",
              "      --hover-fill-color: #FFFFFF;\n",
              "      --disabled-bg-color: #3B4455;\n",
              "      --disabled-fill-color: #666;\n",
              "  }\n",
              "\n",
              "  .colab-df-quickchart {\n",
              "    background-color: var(--bg-color);\n",
              "    border: none;\n",
              "    border-radius: 50%;\n",
              "    cursor: pointer;\n",
              "    display: none;\n",
              "    fill: var(--fill-color);\n",
              "    height: 32px;\n",
              "    padding: 0;\n",
              "    width: 32px;\n",
              "  }\n",
              "\n",
              "  .colab-df-quickchart:hover {\n",
              "    background-color: var(--hover-bg-color);\n",
              "    box-shadow: 0 1px 2px rgba(60, 64, 67, 0.3), 0 1px 3px 1px rgba(60, 64, 67, 0.15);\n",
              "    fill: var(--button-hover-fill-color);\n",
              "  }\n",
              "\n",
              "  .colab-df-quickchart-complete:disabled,\n",
              "  .colab-df-quickchart-complete:disabled:hover {\n",
              "    background-color: var(--disabled-bg-color);\n",
              "    fill: var(--disabled-fill-color);\n",
              "    box-shadow: none;\n",
              "  }\n",
              "\n",
              "  .colab-df-spinner {\n",
              "    border: 2px solid var(--fill-color);\n",
              "    border-color: transparent;\n",
              "    border-bottom-color: var(--fill-color);\n",
              "    animation:\n",
              "      spin 1s steps(1) infinite;\n",
              "  }\n",
              "\n",
              "  @keyframes spin {\n",
              "    0% {\n",
              "      border-color: transparent;\n",
              "      border-bottom-color: var(--fill-color);\n",
              "      border-left-color: var(--fill-color);\n",
              "    }\n",
              "    20% {\n",
              "      border-color: transparent;\n",
              "      border-left-color: var(--fill-color);\n",
              "      border-top-color: var(--fill-color);\n",
              "    }\n",
              "    30% {\n",
              "      border-color: transparent;\n",
              "      border-left-color: var(--fill-color);\n",
              "      border-top-color: var(--fill-color);\n",
              "      border-right-color: var(--fill-color);\n",
              "    }\n",
              "    40% {\n",
              "      border-color: transparent;\n",
              "      border-right-color: var(--fill-color);\n",
              "      border-top-color: var(--fill-color);\n",
              "    }\n",
              "    60% {\n",
              "      border-color: transparent;\n",
              "      border-right-color: var(--fill-color);\n",
              "    }\n",
              "    80% {\n",
              "      border-color: transparent;\n",
              "      border-right-color: var(--fill-color);\n",
              "      border-bottom-color: var(--fill-color);\n",
              "    }\n",
              "    90% {\n",
              "      border-color: transparent;\n",
              "      border-bottom-color: var(--fill-color);\n",
              "    }\n",
              "  }\n",
              "</style>\n",
              "\n",
              "  <script>\n",
              "    async function quickchart(key) {\n",
              "      const quickchartButtonEl =\n",
              "        document.querySelector('#' + key + ' button');\n",
              "      quickchartButtonEl.disabled = true;  // To prevent multiple clicks.\n",
              "      quickchartButtonEl.classList.add('colab-df-spinner');\n",
              "      try {\n",
              "        const charts = await google.colab.kernel.invokeFunction(\n",
              "            'suggestCharts', [key], {});\n",
              "      } catch (error) {\n",
              "        console.error('Error during call to suggestCharts:', error);\n",
              "      }\n",
              "      quickchartButtonEl.classList.remove('colab-df-spinner');\n",
              "      quickchartButtonEl.classList.add('colab-df-quickchart-complete');\n",
              "    }\n",
              "    (() => {\n",
              "      let quickchartButtonEl =\n",
              "        document.querySelector('#df-817c5c98-7cf4-4f9f-88ef-805449161471 button');\n",
              "      quickchartButtonEl.style.display =\n",
              "        google.colab.kernel.accessAllowed ? 'block' : 'none';\n",
              "    })();\n",
              "  </script>\n",
              "</div>\n",
              "\n",
              "    </div>\n",
              "  </div>\n"
            ],
            "application/vnd.google.colaboratory.intrinsic+json": {
              "type": "dataframe",
              "variable_name": "train"
            }
          },
          "metadata": {},
          "execution_count": 22
        }
      ]
    },
    {
      "cell_type": "code",
      "source": [
        "class CustomLabelEncoder:\n",
        "    def __init__(self, unseen_class='Not found'):\n",
        "        self.label_encoder = LabelEncoder()\n",
        "        self.unseen_class = unseen_class\n",
        "        self.mapping = {}\n",
        "        self.reverse_mapping = {}\n",
        "\n",
        "    def fit(self, labels):\n",
        "        self.label_encoder.fit(labels)\n",
        "        classes = self.label_encoder.classes_\n",
        "\n",
        "        # Create custom mappings starting from 1\n",
        "        self.mapping = {label: idx + 1 for idx, label in enumerate(classes)}\n",
        "        self.reverse_mapping = {idx + 1: label for idx, label in enumerate(classes)}\n",
        "        self.reverse_mapping[0] = self.unseen_class\n",
        "\n",
        "    def transform(self, labels):\n",
        "        numeric_labels = [self.mapping[label] for label in labels]\n",
        "        return np.array(numeric_labels)\n",
        "\n",
        "    def inverse_transform(self, numeric_labels):\n",
        "        original_labels = [self.reverse_mapping.get(label, self.unseen_class) for label in numeric_labels]\n",
        "        return np.array(original_labels)\n"
      ],
      "metadata": {
        "id": "cIyhJb-xhn9-"
      },
      "execution_count": 23,
      "outputs": []
    },
    {
      "cell_type": "code",
      "execution_count": 24,
      "metadata": {
        "id": "ecuQY2AV5zIh"
      },
      "outputs": [],
      "source": [
        "# Tokenizer for tokens and lemmas\n",
        "token_tokenizer = Tokenizer(filters='')\n",
        "lemma_tokenizer = Tokenizer(filters='')\n",
        "token_tokenizer.fit_on_texts(train['Token'])\n",
        "lemma_tokenizer.fit_on_texts(train['Lemma'])\n",
        "\n",
        "# Label encoder for POS tags\n",
        "pos_encoder = CustomLabelEncoder()\n",
        "pos_encoder.fit(train['POS'])\n",
        "\n",
        "# Prepare sequences\n",
        "X_tokens = token_tokenizer.texts_to_sequences(train['Token'])\n",
        "X_lemmas = lemma_tokenizer.texts_to_sequences(train['Lemma'])\n",
        "y_pos = pos_encoder.transform(train['POS'])"
      ]
    },
    {
      "cell_type": "code",
      "source": [
        "X_tokens[:5]"
      ],
      "metadata": {
        "colab": {
          "base_uri": "https://localhost:8080/"
        },
        "id": "GZtlVjzh8guT",
        "outputId": "5c8b3949-e203-4ec2-f17d-6c99d33ca56c"
      },
      "execution_count": 25,
      "outputs": [
        {
          "output_type": "execute_result",
          "data": {
            "text/plain": [
              "[[3312], [1940], [836], [101], [1653]]"
            ]
          },
          "metadata": {},
          "execution_count": 25
        }
      ]
    },
    {
      "cell_type": "code",
      "source": [
        "X_tokens = [token for tokens in X_tokens for token in tokens]\n",
        "X_lemmas = [lemma for lemmas in X_lemmas for lemma in lemmas]"
      ],
      "metadata": {
        "id": "zLZb0ah976Y4"
      },
      "execution_count": 26,
      "outputs": []
    },
    {
      "cell_type": "code",
      "source": [
        "train['X_tokens'] = X_tokens\n",
        "train['X_lemmas'] = X_lemmas\n",
        "train['y_pos'] = y_pos"
      ],
      "metadata": {
        "id": "aGMXnMPMvTFc"
      },
      "execution_count": 27,
      "outputs": []
    },
    {
      "cell_type": "code",
      "source": [
        "train.head(20)"
      ],
      "metadata": {
        "colab": {
          "base_uri": "https://localhost:8080/",
          "height": 676
        },
        "id": "U0btj0DK0xNx",
        "outputId": "645a6b9f-cd1a-40f3-de8a-b692e10a877c"
      },
      "execution_count": 28,
      "outputs": [
        {
          "output_type": "execute_result",
          "data": {
            "text/plain": [
              "        Token        Lemma  Sentence    POS  X_tokens  X_lemmas  y_pos\n",
              "0       برلين      بَرلِين         0      X      3312      2685     17\n",
              "1        ترفض        رَفَض         0   VERB      1940       299     16\n",
              "2        حصول       حُصُول         0   NOUN       836       407      8\n",
              "3        شركة      شَرِكَة         0   NOUN       101        29      8\n",
              "4     اميركية  أَمِيرِكِيّ         0    ADJ      1653        81      1\n",
              "5         على        عَلَى         0    ADP         9         8      2\n",
              "6        رخصة       رُخصَة         0   NOUN      2601      1526      8\n",
              "7       تصنيع      تَصنِيع         0   NOUN      1795      1104      8\n",
              "8       دبابة    دَبَّابَة         0   NOUN      5528      1812      8\n",
              "9           \"            \"         0  PUNCT        12        13     13\n",
              "10    ليوبارد   لِيُوبَارد         0      X      3860      2985     17\n",
              "12  الالمانية   أَلمَانِيّ         0    ADJ      1796       619      1\n",
              "13      برلين      بَرلِين         1      X      3312      2685     17\n",
              "14         15           15         1    NUM        70        99      9\n",
              "15          -            -         1  PUNCT        33        36     13\n",
              "16          7            7         1    NUM       419       531      9\n",
              "17          (            (         1  PUNCT        26        31     13\n",
              "18         اف           اف         1      X       112       259     17\n",
              "19          ب            ب         1      X         5       132     17\n",
              "20          )            )         1  PUNCT        27        32     13"
            ],
            "text/html": [
              "\n",
              "  <div id=\"df-5bb5e5e2-c08e-456e-ae42-daee79005998\" class=\"colab-df-container\">\n",
              "    <div>\n",
              "<style scoped>\n",
              "    .dataframe tbody tr th:only-of-type {\n",
              "        vertical-align: middle;\n",
              "    }\n",
              "\n",
              "    .dataframe tbody tr th {\n",
              "        vertical-align: top;\n",
              "    }\n",
              "\n",
              "    .dataframe thead th {\n",
              "        text-align: right;\n",
              "    }\n",
              "</style>\n",
              "<table border=\"1\" class=\"dataframe\">\n",
              "  <thead>\n",
              "    <tr style=\"text-align: right;\">\n",
              "      <th></th>\n",
              "      <th>Token</th>\n",
              "      <th>Lemma</th>\n",
              "      <th>Sentence</th>\n",
              "      <th>POS</th>\n",
              "      <th>X_tokens</th>\n",
              "      <th>X_lemmas</th>\n",
              "      <th>y_pos</th>\n",
              "    </tr>\n",
              "  </thead>\n",
              "  <tbody>\n",
              "    <tr>\n",
              "      <th>0</th>\n",
              "      <td>برلين</td>\n",
              "      <td>بَرلِين</td>\n",
              "      <td>0</td>\n",
              "      <td>X</td>\n",
              "      <td>3312</td>\n",
              "      <td>2685</td>\n",
              "      <td>17</td>\n",
              "    </tr>\n",
              "    <tr>\n",
              "      <th>1</th>\n",
              "      <td>ترفض</td>\n",
              "      <td>رَفَض</td>\n",
              "      <td>0</td>\n",
              "      <td>VERB</td>\n",
              "      <td>1940</td>\n",
              "      <td>299</td>\n",
              "      <td>16</td>\n",
              "    </tr>\n",
              "    <tr>\n",
              "      <th>2</th>\n",
              "      <td>حصول</td>\n",
              "      <td>حُصُول</td>\n",
              "      <td>0</td>\n",
              "      <td>NOUN</td>\n",
              "      <td>836</td>\n",
              "      <td>407</td>\n",
              "      <td>8</td>\n",
              "    </tr>\n",
              "    <tr>\n",
              "      <th>3</th>\n",
              "      <td>شركة</td>\n",
              "      <td>شَرِكَة</td>\n",
              "      <td>0</td>\n",
              "      <td>NOUN</td>\n",
              "      <td>101</td>\n",
              "      <td>29</td>\n",
              "      <td>8</td>\n",
              "    </tr>\n",
              "    <tr>\n",
              "      <th>4</th>\n",
              "      <td>اميركية</td>\n",
              "      <td>أَمِيرِكِيّ</td>\n",
              "      <td>0</td>\n",
              "      <td>ADJ</td>\n",
              "      <td>1653</td>\n",
              "      <td>81</td>\n",
              "      <td>1</td>\n",
              "    </tr>\n",
              "    <tr>\n",
              "      <th>5</th>\n",
              "      <td>على</td>\n",
              "      <td>عَلَى</td>\n",
              "      <td>0</td>\n",
              "      <td>ADP</td>\n",
              "      <td>9</td>\n",
              "      <td>8</td>\n",
              "      <td>2</td>\n",
              "    </tr>\n",
              "    <tr>\n",
              "      <th>6</th>\n",
              "      <td>رخصة</td>\n",
              "      <td>رُخصَة</td>\n",
              "      <td>0</td>\n",
              "      <td>NOUN</td>\n",
              "      <td>2601</td>\n",
              "      <td>1526</td>\n",
              "      <td>8</td>\n",
              "    </tr>\n",
              "    <tr>\n",
              "      <th>7</th>\n",
              "      <td>تصنيع</td>\n",
              "      <td>تَصنِيع</td>\n",
              "      <td>0</td>\n",
              "      <td>NOUN</td>\n",
              "      <td>1795</td>\n",
              "      <td>1104</td>\n",
              "      <td>8</td>\n",
              "    </tr>\n",
              "    <tr>\n",
              "      <th>8</th>\n",
              "      <td>دبابة</td>\n",
              "      <td>دَبَّابَة</td>\n",
              "      <td>0</td>\n",
              "      <td>NOUN</td>\n",
              "      <td>5528</td>\n",
              "      <td>1812</td>\n",
              "      <td>8</td>\n",
              "    </tr>\n",
              "    <tr>\n",
              "      <th>9</th>\n",
              "      <td>\"</td>\n",
              "      <td>\"</td>\n",
              "      <td>0</td>\n",
              "      <td>PUNCT</td>\n",
              "      <td>12</td>\n",
              "      <td>13</td>\n",
              "      <td>13</td>\n",
              "    </tr>\n",
              "    <tr>\n",
              "      <th>10</th>\n",
              "      <td>ليوبارد</td>\n",
              "      <td>لِيُوبَارد</td>\n",
              "      <td>0</td>\n",
              "      <td>X</td>\n",
              "      <td>3860</td>\n",
              "      <td>2985</td>\n",
              "      <td>17</td>\n",
              "    </tr>\n",
              "    <tr>\n",
              "      <th>12</th>\n",
              "      <td>الالمانية</td>\n",
              "      <td>أَلمَانِيّ</td>\n",
              "      <td>0</td>\n",
              "      <td>ADJ</td>\n",
              "      <td>1796</td>\n",
              "      <td>619</td>\n",
              "      <td>1</td>\n",
              "    </tr>\n",
              "    <tr>\n",
              "      <th>13</th>\n",
              "      <td>برلين</td>\n",
              "      <td>بَرلِين</td>\n",
              "      <td>1</td>\n",
              "      <td>X</td>\n",
              "      <td>3312</td>\n",
              "      <td>2685</td>\n",
              "      <td>17</td>\n",
              "    </tr>\n",
              "    <tr>\n",
              "      <th>14</th>\n",
              "      <td>15</td>\n",
              "      <td>15</td>\n",
              "      <td>1</td>\n",
              "      <td>NUM</td>\n",
              "      <td>70</td>\n",
              "      <td>99</td>\n",
              "      <td>9</td>\n",
              "    </tr>\n",
              "    <tr>\n",
              "      <th>15</th>\n",
              "      <td>-</td>\n",
              "      <td>-</td>\n",
              "      <td>1</td>\n",
              "      <td>PUNCT</td>\n",
              "      <td>33</td>\n",
              "      <td>36</td>\n",
              "      <td>13</td>\n",
              "    </tr>\n",
              "    <tr>\n",
              "      <th>16</th>\n",
              "      <td>7</td>\n",
              "      <td>7</td>\n",
              "      <td>1</td>\n",
              "      <td>NUM</td>\n",
              "      <td>419</td>\n",
              "      <td>531</td>\n",
              "      <td>9</td>\n",
              "    </tr>\n",
              "    <tr>\n",
              "      <th>17</th>\n",
              "      <td>(</td>\n",
              "      <td>(</td>\n",
              "      <td>1</td>\n",
              "      <td>PUNCT</td>\n",
              "      <td>26</td>\n",
              "      <td>31</td>\n",
              "      <td>13</td>\n",
              "    </tr>\n",
              "    <tr>\n",
              "      <th>18</th>\n",
              "      <td>اف</td>\n",
              "      <td>اف</td>\n",
              "      <td>1</td>\n",
              "      <td>X</td>\n",
              "      <td>112</td>\n",
              "      <td>259</td>\n",
              "      <td>17</td>\n",
              "    </tr>\n",
              "    <tr>\n",
              "      <th>19</th>\n",
              "      <td>ب</td>\n",
              "      <td>ب</td>\n",
              "      <td>1</td>\n",
              "      <td>X</td>\n",
              "      <td>5</td>\n",
              "      <td>132</td>\n",
              "      <td>17</td>\n",
              "    </tr>\n",
              "    <tr>\n",
              "      <th>20</th>\n",
              "      <td>)</td>\n",
              "      <td>)</td>\n",
              "      <td>1</td>\n",
              "      <td>PUNCT</td>\n",
              "      <td>27</td>\n",
              "      <td>32</td>\n",
              "      <td>13</td>\n",
              "    </tr>\n",
              "  </tbody>\n",
              "</table>\n",
              "</div>\n",
              "    <div class=\"colab-df-buttons\">\n",
              "\n",
              "  <div class=\"colab-df-container\">\n",
              "    <button class=\"colab-df-convert\" onclick=\"convertToInteractive('df-5bb5e5e2-c08e-456e-ae42-daee79005998')\"\n",
              "            title=\"Convert this dataframe to an interactive table.\"\n",
              "            style=\"display:none;\">\n",
              "\n",
              "  <svg xmlns=\"http://www.w3.org/2000/svg\" height=\"24px\" viewBox=\"0 -960 960 960\">\n",
              "    <path d=\"M120-120v-720h720v720H120Zm60-500h600v-160H180v160Zm220 220h160v-160H400v160Zm0 220h160v-160H400v160ZM180-400h160v-160H180v160Zm440 0h160v-160H620v160ZM180-180h160v-160H180v160Zm440 0h160v-160H620v160Z\"/>\n",
              "  </svg>\n",
              "    </button>\n",
              "\n",
              "  <style>\n",
              "    .colab-df-container {\n",
              "      display:flex;\n",
              "      gap: 12px;\n",
              "    }\n",
              "\n",
              "    .colab-df-convert {\n",
              "      background-color: #E8F0FE;\n",
              "      border: none;\n",
              "      border-radius: 50%;\n",
              "      cursor: pointer;\n",
              "      display: none;\n",
              "      fill: #1967D2;\n",
              "      height: 32px;\n",
              "      padding: 0 0 0 0;\n",
              "      width: 32px;\n",
              "    }\n",
              "\n",
              "    .colab-df-convert:hover {\n",
              "      background-color: #E2EBFA;\n",
              "      box-shadow: 0px 1px 2px rgba(60, 64, 67, 0.3), 0px 1px 3px 1px rgba(60, 64, 67, 0.15);\n",
              "      fill: #174EA6;\n",
              "    }\n",
              "\n",
              "    .colab-df-buttons div {\n",
              "      margin-bottom: 4px;\n",
              "    }\n",
              "\n",
              "    [theme=dark] .colab-df-convert {\n",
              "      background-color: #3B4455;\n",
              "      fill: #D2E3FC;\n",
              "    }\n",
              "\n",
              "    [theme=dark] .colab-df-convert:hover {\n",
              "      background-color: #434B5C;\n",
              "      box-shadow: 0px 1px 3px 1px rgba(0, 0, 0, 0.15);\n",
              "      filter: drop-shadow(0px 1px 2px rgba(0, 0, 0, 0.3));\n",
              "      fill: #FFFFFF;\n",
              "    }\n",
              "  </style>\n",
              "\n",
              "    <script>\n",
              "      const buttonEl =\n",
              "        document.querySelector('#df-5bb5e5e2-c08e-456e-ae42-daee79005998 button.colab-df-convert');\n",
              "      buttonEl.style.display =\n",
              "        google.colab.kernel.accessAllowed ? 'block' : 'none';\n",
              "\n",
              "      async function convertToInteractive(key) {\n",
              "        const element = document.querySelector('#df-5bb5e5e2-c08e-456e-ae42-daee79005998');\n",
              "        const dataTable =\n",
              "          await google.colab.kernel.invokeFunction('convertToInteractive',\n",
              "                                                    [key], {});\n",
              "        if (!dataTable) return;\n",
              "\n",
              "        const docLinkHtml = 'Like what you see? Visit the ' +\n",
              "          '<a target=\"_blank\" href=https://colab.research.google.com/notebooks/data_table.ipynb>data table notebook</a>'\n",
              "          + ' to learn more about interactive tables.';\n",
              "        element.innerHTML = '';\n",
              "        dataTable['output_type'] = 'display_data';\n",
              "        await google.colab.output.renderOutput(dataTable, element);\n",
              "        const docLink = document.createElement('div');\n",
              "        docLink.innerHTML = docLinkHtml;\n",
              "        element.appendChild(docLink);\n",
              "      }\n",
              "    </script>\n",
              "  </div>\n",
              "\n",
              "\n",
              "<div id=\"df-24d682be-274d-412a-bc53-2c64fa997a0b\">\n",
              "  <button class=\"colab-df-quickchart\" onclick=\"quickchart('df-24d682be-274d-412a-bc53-2c64fa997a0b')\"\n",
              "            title=\"Suggest charts\"\n",
              "            style=\"display:none;\">\n",
              "\n",
              "<svg xmlns=\"http://www.w3.org/2000/svg\" height=\"24px\"viewBox=\"0 0 24 24\"\n",
              "     width=\"24px\">\n",
              "    <g>\n",
              "        <path d=\"M19 3H5c-1.1 0-2 .9-2 2v14c0 1.1.9 2 2 2h14c1.1 0 2-.9 2-2V5c0-1.1-.9-2-2-2zM9 17H7v-7h2v7zm4 0h-2V7h2v10zm4 0h-2v-4h2v4z\"/>\n",
              "    </g>\n",
              "</svg>\n",
              "  </button>\n",
              "\n",
              "<style>\n",
              "  .colab-df-quickchart {\n",
              "      --bg-color: #E8F0FE;\n",
              "      --fill-color: #1967D2;\n",
              "      --hover-bg-color: #E2EBFA;\n",
              "      --hover-fill-color: #174EA6;\n",
              "      --disabled-fill-color: #AAA;\n",
              "      --disabled-bg-color: #DDD;\n",
              "  }\n",
              "\n",
              "  [theme=dark] .colab-df-quickchart {\n",
              "      --bg-color: #3B4455;\n",
              "      --fill-color: #D2E3FC;\n",
              "      --hover-bg-color: #434B5C;\n",
              "      --hover-fill-color: #FFFFFF;\n",
              "      --disabled-bg-color: #3B4455;\n",
              "      --disabled-fill-color: #666;\n",
              "  }\n",
              "\n",
              "  .colab-df-quickchart {\n",
              "    background-color: var(--bg-color);\n",
              "    border: none;\n",
              "    border-radius: 50%;\n",
              "    cursor: pointer;\n",
              "    display: none;\n",
              "    fill: var(--fill-color);\n",
              "    height: 32px;\n",
              "    padding: 0;\n",
              "    width: 32px;\n",
              "  }\n",
              "\n",
              "  .colab-df-quickchart:hover {\n",
              "    background-color: var(--hover-bg-color);\n",
              "    box-shadow: 0 1px 2px rgba(60, 64, 67, 0.3), 0 1px 3px 1px rgba(60, 64, 67, 0.15);\n",
              "    fill: var(--button-hover-fill-color);\n",
              "  }\n",
              "\n",
              "  .colab-df-quickchart-complete:disabled,\n",
              "  .colab-df-quickchart-complete:disabled:hover {\n",
              "    background-color: var(--disabled-bg-color);\n",
              "    fill: var(--disabled-fill-color);\n",
              "    box-shadow: none;\n",
              "  }\n",
              "\n",
              "  .colab-df-spinner {\n",
              "    border: 2px solid var(--fill-color);\n",
              "    border-color: transparent;\n",
              "    border-bottom-color: var(--fill-color);\n",
              "    animation:\n",
              "      spin 1s steps(1) infinite;\n",
              "  }\n",
              "\n",
              "  @keyframes spin {\n",
              "    0% {\n",
              "      border-color: transparent;\n",
              "      border-bottom-color: var(--fill-color);\n",
              "      border-left-color: var(--fill-color);\n",
              "    }\n",
              "    20% {\n",
              "      border-color: transparent;\n",
              "      border-left-color: var(--fill-color);\n",
              "      border-top-color: var(--fill-color);\n",
              "    }\n",
              "    30% {\n",
              "      border-color: transparent;\n",
              "      border-left-color: var(--fill-color);\n",
              "      border-top-color: var(--fill-color);\n",
              "      border-right-color: var(--fill-color);\n",
              "    }\n",
              "    40% {\n",
              "      border-color: transparent;\n",
              "      border-right-color: var(--fill-color);\n",
              "      border-top-color: var(--fill-color);\n",
              "    }\n",
              "    60% {\n",
              "      border-color: transparent;\n",
              "      border-right-color: var(--fill-color);\n",
              "    }\n",
              "    80% {\n",
              "      border-color: transparent;\n",
              "      border-right-color: var(--fill-color);\n",
              "      border-bottom-color: var(--fill-color);\n",
              "    }\n",
              "    90% {\n",
              "      border-color: transparent;\n",
              "      border-bottom-color: var(--fill-color);\n",
              "    }\n",
              "  }\n",
              "</style>\n",
              "\n",
              "  <script>\n",
              "    async function quickchart(key) {\n",
              "      const quickchartButtonEl =\n",
              "        document.querySelector('#' + key + ' button');\n",
              "      quickchartButtonEl.disabled = true;  // To prevent multiple clicks.\n",
              "      quickchartButtonEl.classList.add('colab-df-spinner');\n",
              "      try {\n",
              "        const charts = await google.colab.kernel.invokeFunction(\n",
              "            'suggestCharts', [key], {});\n",
              "      } catch (error) {\n",
              "        console.error('Error during call to suggestCharts:', error);\n",
              "      }\n",
              "      quickchartButtonEl.classList.remove('colab-df-spinner');\n",
              "      quickchartButtonEl.classList.add('colab-df-quickchart-complete');\n",
              "    }\n",
              "    (() => {\n",
              "      let quickchartButtonEl =\n",
              "        document.querySelector('#df-24d682be-274d-412a-bc53-2c64fa997a0b button');\n",
              "      quickchartButtonEl.style.display =\n",
              "        google.colab.kernel.accessAllowed ? 'block' : 'none';\n",
              "    })();\n",
              "  </script>\n",
              "</div>\n",
              "\n",
              "    </div>\n",
              "  </div>\n"
            ],
            "application/vnd.google.colaboratory.intrinsic+json": {
              "type": "dataframe",
              "variable_name": "train"
            }
          },
          "metadata": {},
          "execution_count": 28
        }
      ]
    },
    {
      "cell_type": "code",
      "source": [
        "grouped_train = train.groupby('Sentence').agg({\n",
        "    'Token': list,\n",
        "    'Lemma': list,\n",
        "    'X_tokens': list,\n",
        "    'X_lemmas': list,\n",
        "    'POS': list,\n",
        "    'y_pos' : list\n",
        "}).reset_index()\n",
        "\n",
        "# Rename columns to match the required format\n",
        "grouped_train.rename(columns={\n",
        "    'Token': 'Tokens',\n",
        "    'Lemma': 'Lemmas',\n",
        "    'X_tokens': 'X_tokens',\n",
        "    'X_lemmas': 'X_lemmas',\n",
        "    'POS': 'POSes',\n",
        "    'y_pos' : 'y_poses'\n",
        "}, inplace=True)"
      ],
      "metadata": {
        "id": "85zfB-le3nEw"
      },
      "execution_count": 29,
      "outputs": []
    },
    {
      "cell_type": "code",
      "source": [
        "grouped_train.head()"
      ],
      "metadata": {
        "colab": {
          "base_uri": "https://localhost:8080/",
          "height": 657
        },
        "id": "_z92ivyU3wAV",
        "outputId": "db89083a-309f-473a-87b9-8260cfb5ae73"
      },
      "execution_count": 30,
      "outputs": [
        {
          "output_type": "execute_result",
          "data": {
            "text/plain": [
              "   Sentence  \\\n",
              "0         0   \n",
              "1         1   \n",
              "2         2   \n",
              "3         3   \n",
              "4         4   \n",
              "\n",
              "                                                                                                                                                                                                                                                                                                  Tokens  \\\n",
              "0                                                                                                                                                                                                                     [برلين, ترفض, حصول, شركة, اميركية, على, رخصة, تصنيع, دبابة, \", ليوبارد, الالمانية]   \n",
              "1  [برلين, 15, -, 7, (, اف, ب, ), افادت, صحيفة, الاحد, الالمانية, \", ويلت, ام, سونتاغ, في, عدد, ها, الصادر, غدا, ،, ان, المستشار, غيرهارد, شرودر, يرفض, حصول, المجموعة, الاميركية, جنرال, ديناميكس, على, رخصة, ل, تصنيع, الدبابة, ليوبارد, 2, عبر, شراء, الحكومية, الاسبانية, الأسلحة, سانتا, بربارة, .]   \n",
              "2                                            [و, في, نيسان, /, ابريل, الماضي, ،, تخلت, الدولة, الاسبانية, عن, مجموعة, \", سانتا, بربارة, التي, تصنع, دبابات, ليوبارد, الالمانية, الى, جنرال, ديناميكس, التي, تنتج, الدبابة, الاميركية, ام, 1, ابرامس, المعتبرة, المنافسة, الرئيسية, ل, دبابة, الاسواق, .]   \n",
              "3                                                                                                                                                                                      [و, كانت, خسائر, المجموعة, الاسبانية, الرسمية, تراكمت, في, السنوات, العشر, الاخيرة, ل, تبلغ, 920, مليون, يورو, .]   \n",
              "4                                                                [و, أشارت, صحيفة, الاحد, الى, ان, المستشار, شرودر, يعتبر, حصول, المجموعة, الاميركية, على, رخصة, تصنيع, ليوبارد, 2, يعرض, ل, الخطر, المصالح, التكنولوجية, الاساسية, ألمانيا, طلب, من, وزير, الدفاع, رودولف, شاربينغ, التوجه, اسبانيا, .]   \n",
              "\n",
              "                                                                                                                                                                                                                                                                                                                                                Lemmas  \\\n",
              "0                                                                                                                                                                                                                                         [بَرلِين, رَفَض, حُصُول, شَرِكَة, أَمِيرِكِيّ, عَلَى, رُخصَة, تَصنِيع, دَبَّابَة, \", لِيُوبَارد, أَلمَانِيّ]   \n",
              "1  [بَرلِين, 15, -, 7, (, اف, ب, ), أَفَاد, صَحِيفَة, أَحَد, أَلمَانِيّ, \", ويلت, ام, سونتاغ, فِي, عَدَد, هُوَ, صَادِر, غَد, ،, أَنَّ, مُستَشَار, غيرهارد, شرُودِر, رَفَض, حُصُول, مَجمُوعَة, أَمِيرِكِيّ, جنرال, دِينَامِيكس, عَلَى, رُخصَة, لِ, تَصنِيع, دَبَّابَة, لِيُوبَارد, 2, عَبرَ, شِرَاء, حُكُومِيّ, إِسبَانِيّ, سِلَاح, سَانتَا, بربارة, .]   \n",
              "2                                          [وَ, فِي, نِيسَان, /, أَبرِيل, مَاضِي, ،, تَخَلَّى, دَولَة, إِسبَانِيّ, عَن, مَجمُوعَة, \", سَانتَا, بربارة, اَلَّذِي, صَنَع, دَبَّابَة, لِيُوبَارد, أَلمَانِيّ, إِلَى, جنرال, دِينَامِيكس, التي, أَنتَج, دَبَّابَة, أَمِيرِكِيّ, إِم, 1, أَبرَامس, مُعتَبَر, مُنَافِسَة, رَئِيسِيّ, لِ, دَبَّابَة, سُوق, .]   \n",
              "3                                                                                                                                                                                                                      [وَ, كَان, خَسَارَة, مَجمُوعَة, إِسبَانِيّ, رَسمِيّ, تَرَاكَم, فِي, سَنَة, عَشَرَة, أَخِير, لِ, بَلَغ, 920, مِليُون, يُورُو, .]   \n",
              "4                                                      [وَ, أَشَار, صَحِيفَة, أَحَد, إِلَى, أَنَّ, مُستَشَار, شرُودِر, اِعتَبَر, حُصُول, مَجمُوعَة, أَمِيرِكِيّ, عَلَى, رُخصَة, تَصنِيع, لِيُوبَارد, 2, عَرَّض, لِ, خَطَر, مَصلَحَة, تِكنُولُوجِيّ, أَسَاسِيّ, أَلمَانِيَا, طَلَب, مِن, وَزِير, دِفَاع, رُودُولف, شَاربِينغ, تَوَجُّه, إِسبَانِيَا, .]   \n",
              "\n",
              "                                                                                                                                                                                                                                        X_tokens  \\\n",
              "0                                                                                                                                                                              [3312, 1940, 836, 101, 1653, 9, 2601, 1795, 5528, 12, 3860, 1796]   \n",
              "1  [3312, 70, 33, 419, 26, 112, 5, 27, 2922, 442, 733, 1796, 12, 10175, 4532, 10176, 3, 71, 8, 1941, 953, 7, 13, 1797, 7089, 7090, 2923, 836, 917, 213, 2924, 5529, 9, 2601, 4, 1795, 5530, 3860, 164, 355, 336, 609, 2925, 3861, 5531, 5532, 1]   \n",
              "2                                                 [2, 3, 2926, 45, 2602, 61, 7, 10177, 116, 2925, 17, 235, 12, 5531, 5532, 14, 10178, 4533, 3860, 1796, 16, 2924, 5529, 14, 3313, 5530, 213, 4532, 541, 10179, 7091, 801, 802, 4, 5528, 2603, 1]   \n",
              "3                                                                                                                                                               [2, 63, 632, 917, 2925, 518, 7092, 3, 837, 2927, 734, 4, 591, 7093, 48, 1352, 1]   \n",
              "4                                                                       [2, 592, 442, 733, 16, 13, 1797, 7090, 954, 836, 917, 213, 9, 2601, 1795, 3860, 164, 2928, 4, 3314, 1541, 2125, 1798, 2604, 242, 6, 56, 391, 5533, 10180, 1187, 2343, 1]   \n",
              "\n",
              "                                                                                                                                                                                                                                 X_lemmas  \\\n",
              "0                                                                                                                                                                            [2685, 299, 407, 29, 81, 8, 1526, 1104, 1812, 13, 2985, 619]   \n",
              "1  [2685, 99, 36, 531, 31, 259, 132, 32, 400, 218, 144, 619, 13, 6396, 6397, 6398, 4, 72, 1, 150, 827, 10, 9, 862, 4763, 4764, 299, 407, 201, 81, 2450, 3937, 8, 1526, 5, 1104, 1812, 2985, 256, 479, 347, 371, 1186, 658, 3938, 3939, 2]   \n",
              "2                                               [3, 4, 2451, 59, 1614, 63, 10, 2452, 30, 1186, 16, 201, 13, 3938, 3939, 12, 2258, 1812, 2985, 619, 11, 2450, 3937, 532, 1813, 1812, 81, 3940, 659, 6399, 3941, 2986, 437, 5, 1812, 54, 2]   \n",
              "3                                                                                                                                                           [3, 15, 365, 201, 1186, 188, 3412, 4, 88, 359, 137, 5, 115, 4765, 39, 747, 2]   \n",
              "4                                                                         [3, 78, 218, 144, 11, 9, 862, 4764, 170, 407, 201, 81, 8, 1526, 1104, 2985, 256, 2987, 5, 1148, 408, 1293, 372, 801, 104, 7, 33, 445, 3942, 6400, 775, 1707, 2]   \n",
              "\n",
              "                                                                                                                                                                                                                                            POSes  \\\n",
              "0                                                                                                                                                                                [X, VERB, NOUN, NOUN, ADJ, ADP, NOUN, NOUN, NOUN, PUNCT, X, ADJ]   \n",
              "1  [X, NUM, PUNCT, NUM, PUNCT, X, X, PUNCT, VERB, NOUN, NOUN, ADJ, PUNCT, X, X, X, ADP, NOUN, PRON, ADJ, NOUN, PUNCT, SCONJ, NOUN, X, X, VERB, NOUN, NOUN, ADJ, X, X, ADP, NOUN, ADP, NOUN, NOUN, X, NUM, ADP, NOUN, ADJ, ADJ, NOUN, X, X, PUNCT]   \n",
              "2                                                 [CCONJ, ADP, NOUN, PUNCT, NOUN, ADJ, PUNCT, VERB, NOUN, ADJ, ADP, NOUN, PUNCT, X, X, DET, VERB, NOUN, X, ADJ, ADP, X, X, X, VERB, NOUN, ADJ, X, NUM, X, ADJ, NOUN, ADJ, ADP, NOUN, NOUN, PUNCT]   \n",
              "3                                                                                                                                              [CCONJ, VERB, NOUN, NOUN, ADJ, ADJ, VERB, ADP, NOUN, NUM, ADJ, CCONJ, VERB, NUM, NUM, NOUN, PUNCT]   \n",
              "4                                                                 [CCONJ, VERB, NOUN, NOUN, ADP, SCONJ, NOUN, X, VERB, NOUN, NOUN, ADJ, ADP, NOUN, NOUN, X, NUM, VERB, ADP, NOUN, NOUN, ADJ, ADJ, X, VERB, ADP, NOUN, NOUN, X, X, NOUN, X, PUNCT]   \n",
              "\n",
              "                                                                                                                                                                y_poses  \n",
              "0                                                                                                                              [17, 16, 8, 8, 1, 2, 8, 8, 8, 13, 17, 1]  \n",
              "1  [17, 9, 13, 9, 13, 17, 17, 13, 16, 8, 8, 1, 13, 17, 17, 17, 2, 8, 11, 1, 8, 13, 14, 8, 17, 17, 16, 8, 8, 1, 17, 17, 2, 8, 2, 8, 8, 17, 9, 2, 8, 1, 1, 8, 17, 17, 13]  \n",
              "2                                        [5, 2, 8, 13, 8, 1, 13, 16, 8, 1, 2, 8, 13, 17, 17, 6, 16, 8, 17, 1, 2, 17, 17, 17, 16, 8, 1, 17, 9, 17, 1, 8, 1, 2, 8, 8, 13]  \n",
              "3                                                                                                               [5, 16, 8, 8, 1, 1, 16, 2, 8, 9, 1, 5, 16, 9, 9, 8, 13]  \n",
              "4                                                       [5, 16, 8, 8, 2, 14, 8, 17, 16, 8, 8, 1, 2, 8, 8, 17, 9, 16, 2, 8, 8, 1, 1, 17, 16, 2, 8, 8, 17, 17, 8, 17, 13]  "
            ],
            "text/html": [
              "\n",
              "  <div id=\"df-370f8b7b-8dde-4bb4-a8ea-62b681e901ed\" class=\"colab-df-container\">\n",
              "    <div>\n",
              "<style scoped>\n",
              "    .dataframe tbody tr th:only-of-type {\n",
              "        vertical-align: middle;\n",
              "    }\n",
              "\n",
              "    .dataframe tbody tr th {\n",
              "        vertical-align: top;\n",
              "    }\n",
              "\n",
              "    .dataframe thead th {\n",
              "        text-align: right;\n",
              "    }\n",
              "</style>\n",
              "<table border=\"1\" class=\"dataframe\">\n",
              "  <thead>\n",
              "    <tr style=\"text-align: right;\">\n",
              "      <th></th>\n",
              "      <th>Sentence</th>\n",
              "      <th>Tokens</th>\n",
              "      <th>Lemmas</th>\n",
              "      <th>X_tokens</th>\n",
              "      <th>X_lemmas</th>\n",
              "      <th>POSes</th>\n",
              "      <th>y_poses</th>\n",
              "    </tr>\n",
              "  </thead>\n",
              "  <tbody>\n",
              "    <tr>\n",
              "      <th>0</th>\n",
              "      <td>0</td>\n",
              "      <td>[برلين, ترفض, حصول, شركة, اميركية, على, رخصة, تصنيع, دبابة, \", ليوبارد, الالمانية]</td>\n",
              "      <td>[بَرلِين, رَفَض, حُصُول, شَرِكَة, أَمِيرِكِيّ, عَلَى, رُخصَة, تَصنِيع, دَبَّابَة, \", لِيُوبَارد, أَلمَانِيّ]</td>\n",
              "      <td>[3312, 1940, 836, 101, 1653, 9, 2601, 1795, 5528, 12, 3860, 1796]</td>\n",
              "      <td>[2685, 299, 407, 29, 81, 8, 1526, 1104, 1812, 13, 2985, 619]</td>\n",
              "      <td>[X, VERB, NOUN, NOUN, ADJ, ADP, NOUN, NOUN, NOUN, PUNCT, X, ADJ]</td>\n",
              "      <td>[17, 16, 8, 8, 1, 2, 8, 8, 8, 13, 17, 1]</td>\n",
              "    </tr>\n",
              "    <tr>\n",
              "      <th>1</th>\n",
              "      <td>1</td>\n",
              "      <td>[برلين, 15, -, 7, (, اف, ب, ), افادت, صحيفة, الاحد, الالمانية, \", ويلت, ام, سونتاغ, في, عدد, ها, الصادر, غدا, ،, ان, المستشار, غيرهارد, شرودر, يرفض, حصول, المجموعة, الاميركية, جنرال, ديناميكس, على, رخصة, ل, تصنيع, الدبابة, ليوبارد, 2, عبر, شراء, الحكومية, الاسبانية, الأسلحة, سانتا, بربارة, .]</td>\n",
              "      <td>[بَرلِين, 15, -, 7, (, اف, ب, ), أَفَاد, صَحِيفَة, أَحَد, أَلمَانِيّ, \", ويلت, ام, سونتاغ, فِي, عَدَد, هُوَ, صَادِر, غَد, ،, أَنَّ, مُستَشَار, غيرهارد, شرُودِر, رَفَض, حُصُول, مَجمُوعَة, أَمِيرِكِيّ, جنرال, دِينَامِيكس, عَلَى, رُخصَة, لِ, تَصنِيع, دَبَّابَة, لِيُوبَارد, 2, عَبرَ, شِرَاء, حُكُومِيّ, إِسبَانِيّ, سِلَاح, سَانتَا, بربارة, .]</td>\n",
              "      <td>[3312, 70, 33, 419, 26, 112, 5, 27, 2922, 442, 733, 1796, 12, 10175, 4532, 10176, 3, 71, 8, 1941, 953, 7, 13, 1797, 7089, 7090, 2923, 836, 917, 213, 2924, 5529, 9, 2601, 4, 1795, 5530, 3860, 164, 355, 336, 609, 2925, 3861, 5531, 5532, 1]</td>\n",
              "      <td>[2685, 99, 36, 531, 31, 259, 132, 32, 400, 218, 144, 619, 13, 6396, 6397, 6398, 4, 72, 1, 150, 827, 10, 9, 862, 4763, 4764, 299, 407, 201, 81, 2450, 3937, 8, 1526, 5, 1104, 1812, 2985, 256, 479, 347, 371, 1186, 658, 3938, 3939, 2]</td>\n",
              "      <td>[X, NUM, PUNCT, NUM, PUNCT, X, X, PUNCT, VERB, NOUN, NOUN, ADJ, PUNCT, X, X, X, ADP, NOUN, PRON, ADJ, NOUN, PUNCT, SCONJ, NOUN, X, X, VERB, NOUN, NOUN, ADJ, X, X, ADP, NOUN, ADP, NOUN, NOUN, X, NUM, ADP, NOUN, ADJ, ADJ, NOUN, X, X, PUNCT]</td>\n",
              "      <td>[17, 9, 13, 9, 13, 17, 17, 13, 16, 8, 8, 1, 13, 17, 17, 17, 2, 8, 11, 1, 8, 13, 14, 8, 17, 17, 16, 8, 8, 1, 17, 17, 2, 8, 2, 8, 8, 17, 9, 2, 8, 1, 1, 8, 17, 17, 13]</td>\n",
              "    </tr>\n",
              "    <tr>\n",
              "      <th>2</th>\n",
              "      <td>2</td>\n",
              "      <td>[و, في, نيسان, /, ابريل, الماضي, ،, تخلت, الدولة, الاسبانية, عن, مجموعة, \", سانتا, بربارة, التي, تصنع, دبابات, ليوبارد, الالمانية, الى, جنرال, ديناميكس, التي, تنتج, الدبابة, الاميركية, ام, 1, ابرامس, المعتبرة, المنافسة, الرئيسية, ل, دبابة, الاسواق, .]</td>\n",
              "      <td>[وَ, فِي, نِيسَان, /, أَبرِيل, مَاضِي, ،, تَخَلَّى, دَولَة, إِسبَانِيّ, عَن, مَجمُوعَة, \", سَانتَا, بربارة, اَلَّذِي, صَنَع, دَبَّابَة, لِيُوبَارد, أَلمَانِيّ, إِلَى, جنرال, دِينَامِيكس, التي, أَنتَج, دَبَّابَة, أَمِيرِكِيّ, إِم, 1, أَبرَامس, مُعتَبَر, مُنَافِسَة, رَئِيسِيّ, لِ, دَبَّابَة, سُوق, .]</td>\n",
              "      <td>[2, 3, 2926, 45, 2602, 61, 7, 10177, 116, 2925, 17, 235, 12, 5531, 5532, 14, 10178, 4533, 3860, 1796, 16, 2924, 5529, 14, 3313, 5530, 213, 4532, 541, 10179, 7091, 801, 802, 4, 5528, 2603, 1]</td>\n",
              "      <td>[3, 4, 2451, 59, 1614, 63, 10, 2452, 30, 1186, 16, 201, 13, 3938, 3939, 12, 2258, 1812, 2985, 619, 11, 2450, 3937, 532, 1813, 1812, 81, 3940, 659, 6399, 3941, 2986, 437, 5, 1812, 54, 2]</td>\n",
              "      <td>[CCONJ, ADP, NOUN, PUNCT, NOUN, ADJ, PUNCT, VERB, NOUN, ADJ, ADP, NOUN, PUNCT, X, X, DET, VERB, NOUN, X, ADJ, ADP, X, X, X, VERB, NOUN, ADJ, X, NUM, X, ADJ, NOUN, ADJ, ADP, NOUN, NOUN, PUNCT]</td>\n",
              "      <td>[5, 2, 8, 13, 8, 1, 13, 16, 8, 1, 2, 8, 13, 17, 17, 6, 16, 8, 17, 1, 2, 17, 17, 17, 16, 8, 1, 17, 9, 17, 1, 8, 1, 2, 8, 8, 13]</td>\n",
              "    </tr>\n",
              "    <tr>\n",
              "      <th>3</th>\n",
              "      <td>3</td>\n",
              "      <td>[و, كانت, خسائر, المجموعة, الاسبانية, الرسمية, تراكمت, في, السنوات, العشر, الاخيرة, ل, تبلغ, 920, مليون, يورو, .]</td>\n",
              "      <td>[وَ, كَان, خَسَارَة, مَجمُوعَة, إِسبَانِيّ, رَسمِيّ, تَرَاكَم, فِي, سَنَة, عَشَرَة, أَخِير, لِ, بَلَغ, 920, مِليُون, يُورُو, .]</td>\n",
              "      <td>[2, 63, 632, 917, 2925, 518, 7092, 3, 837, 2927, 734, 4, 591, 7093, 48, 1352, 1]</td>\n",
              "      <td>[3, 15, 365, 201, 1186, 188, 3412, 4, 88, 359, 137, 5, 115, 4765, 39, 747, 2]</td>\n",
              "      <td>[CCONJ, VERB, NOUN, NOUN, ADJ, ADJ, VERB, ADP, NOUN, NUM, ADJ, CCONJ, VERB, NUM, NUM, NOUN, PUNCT]</td>\n",
              "      <td>[5, 16, 8, 8, 1, 1, 16, 2, 8, 9, 1, 5, 16, 9, 9, 8, 13]</td>\n",
              "    </tr>\n",
              "    <tr>\n",
              "      <th>4</th>\n",
              "      <td>4</td>\n",
              "      <td>[و, أشارت, صحيفة, الاحد, الى, ان, المستشار, شرودر, يعتبر, حصول, المجموعة, الاميركية, على, رخصة, تصنيع, ليوبارد, 2, يعرض, ل, الخطر, المصالح, التكنولوجية, الاساسية, ألمانيا, طلب, من, وزير, الدفاع, رودولف, شاربينغ, التوجه, اسبانيا, .]</td>\n",
              "      <td>[وَ, أَشَار, صَحِيفَة, أَحَد, إِلَى, أَنَّ, مُستَشَار, شرُودِر, اِعتَبَر, حُصُول, مَجمُوعَة, أَمِيرِكِيّ, عَلَى, رُخصَة, تَصنِيع, لِيُوبَارد, 2, عَرَّض, لِ, خَطَر, مَصلَحَة, تِكنُولُوجِيّ, أَسَاسِيّ, أَلمَانِيَا, طَلَب, مِن, وَزِير, دِفَاع, رُودُولف, شَاربِينغ, تَوَجُّه, إِسبَانِيَا, .]</td>\n",
              "      <td>[2, 592, 442, 733, 16, 13, 1797, 7090, 954, 836, 917, 213, 9, 2601, 1795, 3860, 164, 2928, 4, 3314, 1541, 2125, 1798, 2604, 242, 6, 56, 391, 5533, 10180, 1187, 2343, 1]</td>\n",
              "      <td>[3, 78, 218, 144, 11, 9, 862, 4764, 170, 407, 201, 81, 8, 1526, 1104, 2985, 256, 2987, 5, 1148, 408, 1293, 372, 801, 104, 7, 33, 445, 3942, 6400, 775, 1707, 2]</td>\n",
              "      <td>[CCONJ, VERB, NOUN, NOUN, ADP, SCONJ, NOUN, X, VERB, NOUN, NOUN, ADJ, ADP, NOUN, NOUN, X, NUM, VERB, ADP, NOUN, NOUN, ADJ, ADJ, X, VERB, ADP, NOUN, NOUN, X, X, NOUN, X, PUNCT]</td>\n",
              "      <td>[5, 16, 8, 8, 2, 14, 8, 17, 16, 8, 8, 1, 2, 8, 8, 17, 9, 16, 2, 8, 8, 1, 1, 17, 16, 2, 8, 8, 17, 17, 8, 17, 13]</td>\n",
              "    </tr>\n",
              "  </tbody>\n",
              "</table>\n",
              "</div>\n",
              "    <div class=\"colab-df-buttons\">\n",
              "\n",
              "  <div class=\"colab-df-container\">\n",
              "    <button class=\"colab-df-convert\" onclick=\"convertToInteractive('df-370f8b7b-8dde-4bb4-a8ea-62b681e901ed')\"\n",
              "            title=\"Convert this dataframe to an interactive table.\"\n",
              "            style=\"display:none;\">\n",
              "\n",
              "  <svg xmlns=\"http://www.w3.org/2000/svg\" height=\"24px\" viewBox=\"0 -960 960 960\">\n",
              "    <path d=\"M120-120v-720h720v720H120Zm60-500h600v-160H180v160Zm220 220h160v-160H400v160Zm0 220h160v-160H400v160ZM180-400h160v-160H180v160Zm440 0h160v-160H620v160ZM180-180h160v-160H180v160Zm440 0h160v-160H620v160Z\"/>\n",
              "  </svg>\n",
              "    </button>\n",
              "\n",
              "  <style>\n",
              "    .colab-df-container {\n",
              "      display:flex;\n",
              "      gap: 12px;\n",
              "    }\n",
              "\n",
              "    .colab-df-convert {\n",
              "      background-color: #E8F0FE;\n",
              "      border: none;\n",
              "      border-radius: 50%;\n",
              "      cursor: pointer;\n",
              "      display: none;\n",
              "      fill: #1967D2;\n",
              "      height: 32px;\n",
              "      padding: 0 0 0 0;\n",
              "      width: 32px;\n",
              "    }\n",
              "\n",
              "    .colab-df-convert:hover {\n",
              "      background-color: #E2EBFA;\n",
              "      box-shadow: 0px 1px 2px rgba(60, 64, 67, 0.3), 0px 1px 3px 1px rgba(60, 64, 67, 0.15);\n",
              "      fill: #174EA6;\n",
              "    }\n",
              "\n",
              "    .colab-df-buttons div {\n",
              "      margin-bottom: 4px;\n",
              "    }\n",
              "\n",
              "    [theme=dark] .colab-df-convert {\n",
              "      background-color: #3B4455;\n",
              "      fill: #D2E3FC;\n",
              "    }\n",
              "\n",
              "    [theme=dark] .colab-df-convert:hover {\n",
              "      background-color: #434B5C;\n",
              "      box-shadow: 0px 1px 3px 1px rgba(0, 0, 0, 0.15);\n",
              "      filter: drop-shadow(0px 1px 2px rgba(0, 0, 0, 0.3));\n",
              "      fill: #FFFFFF;\n",
              "    }\n",
              "  </style>\n",
              "\n",
              "    <script>\n",
              "      const buttonEl =\n",
              "        document.querySelector('#df-370f8b7b-8dde-4bb4-a8ea-62b681e901ed button.colab-df-convert');\n",
              "      buttonEl.style.display =\n",
              "        google.colab.kernel.accessAllowed ? 'block' : 'none';\n",
              "\n",
              "      async function convertToInteractive(key) {\n",
              "        const element = document.querySelector('#df-370f8b7b-8dde-4bb4-a8ea-62b681e901ed');\n",
              "        const dataTable =\n",
              "          await google.colab.kernel.invokeFunction('convertToInteractive',\n",
              "                                                    [key], {});\n",
              "        if (!dataTable) return;\n",
              "\n",
              "        const docLinkHtml = 'Like what you see? Visit the ' +\n",
              "          '<a target=\"_blank\" href=https://colab.research.google.com/notebooks/data_table.ipynb>data table notebook</a>'\n",
              "          + ' to learn more about interactive tables.';\n",
              "        element.innerHTML = '';\n",
              "        dataTable['output_type'] = 'display_data';\n",
              "        await google.colab.output.renderOutput(dataTable, element);\n",
              "        const docLink = document.createElement('div');\n",
              "        docLink.innerHTML = docLinkHtml;\n",
              "        element.appendChild(docLink);\n",
              "      }\n",
              "    </script>\n",
              "  </div>\n",
              "\n",
              "\n",
              "<div id=\"df-2dc2a451-35d1-4dd3-9fbe-444bf4d1cc94\">\n",
              "  <button class=\"colab-df-quickchart\" onclick=\"quickchart('df-2dc2a451-35d1-4dd3-9fbe-444bf4d1cc94')\"\n",
              "            title=\"Suggest charts\"\n",
              "            style=\"display:none;\">\n",
              "\n",
              "<svg xmlns=\"http://www.w3.org/2000/svg\" height=\"24px\"viewBox=\"0 0 24 24\"\n",
              "     width=\"24px\">\n",
              "    <g>\n",
              "        <path d=\"M19 3H5c-1.1 0-2 .9-2 2v14c0 1.1.9 2 2 2h14c1.1 0 2-.9 2-2V5c0-1.1-.9-2-2-2zM9 17H7v-7h2v7zm4 0h-2V7h2v10zm4 0h-2v-4h2v4z\"/>\n",
              "    </g>\n",
              "</svg>\n",
              "  </button>\n",
              "\n",
              "<style>\n",
              "  .colab-df-quickchart {\n",
              "      --bg-color: #E8F0FE;\n",
              "      --fill-color: #1967D2;\n",
              "      --hover-bg-color: #E2EBFA;\n",
              "      --hover-fill-color: #174EA6;\n",
              "      --disabled-fill-color: #AAA;\n",
              "      --disabled-bg-color: #DDD;\n",
              "  }\n",
              "\n",
              "  [theme=dark] .colab-df-quickchart {\n",
              "      --bg-color: #3B4455;\n",
              "      --fill-color: #D2E3FC;\n",
              "      --hover-bg-color: #434B5C;\n",
              "      --hover-fill-color: #FFFFFF;\n",
              "      --disabled-bg-color: #3B4455;\n",
              "      --disabled-fill-color: #666;\n",
              "  }\n",
              "\n",
              "  .colab-df-quickchart {\n",
              "    background-color: var(--bg-color);\n",
              "    border: none;\n",
              "    border-radius: 50%;\n",
              "    cursor: pointer;\n",
              "    display: none;\n",
              "    fill: var(--fill-color);\n",
              "    height: 32px;\n",
              "    padding: 0;\n",
              "    width: 32px;\n",
              "  }\n",
              "\n",
              "  .colab-df-quickchart:hover {\n",
              "    background-color: var(--hover-bg-color);\n",
              "    box-shadow: 0 1px 2px rgba(60, 64, 67, 0.3), 0 1px 3px 1px rgba(60, 64, 67, 0.15);\n",
              "    fill: var(--button-hover-fill-color);\n",
              "  }\n",
              "\n",
              "  .colab-df-quickchart-complete:disabled,\n",
              "  .colab-df-quickchart-complete:disabled:hover {\n",
              "    background-color: var(--disabled-bg-color);\n",
              "    fill: var(--disabled-fill-color);\n",
              "    box-shadow: none;\n",
              "  }\n",
              "\n",
              "  .colab-df-spinner {\n",
              "    border: 2px solid var(--fill-color);\n",
              "    border-color: transparent;\n",
              "    border-bottom-color: var(--fill-color);\n",
              "    animation:\n",
              "      spin 1s steps(1) infinite;\n",
              "  }\n",
              "\n",
              "  @keyframes spin {\n",
              "    0% {\n",
              "      border-color: transparent;\n",
              "      border-bottom-color: var(--fill-color);\n",
              "      border-left-color: var(--fill-color);\n",
              "    }\n",
              "    20% {\n",
              "      border-color: transparent;\n",
              "      border-left-color: var(--fill-color);\n",
              "      border-top-color: var(--fill-color);\n",
              "    }\n",
              "    30% {\n",
              "      border-color: transparent;\n",
              "      border-left-color: var(--fill-color);\n",
              "      border-top-color: var(--fill-color);\n",
              "      border-right-color: var(--fill-color);\n",
              "    }\n",
              "    40% {\n",
              "      border-color: transparent;\n",
              "      border-right-color: var(--fill-color);\n",
              "      border-top-color: var(--fill-color);\n",
              "    }\n",
              "    60% {\n",
              "      border-color: transparent;\n",
              "      border-right-color: var(--fill-color);\n",
              "    }\n",
              "    80% {\n",
              "      border-color: transparent;\n",
              "      border-right-color: var(--fill-color);\n",
              "      border-bottom-color: var(--fill-color);\n",
              "    }\n",
              "    90% {\n",
              "      border-color: transparent;\n",
              "      border-bottom-color: var(--fill-color);\n",
              "    }\n",
              "  }\n",
              "</style>\n",
              "\n",
              "  <script>\n",
              "    async function quickchart(key) {\n",
              "      const quickchartButtonEl =\n",
              "        document.querySelector('#' + key + ' button');\n",
              "      quickchartButtonEl.disabled = true;  // To prevent multiple clicks.\n",
              "      quickchartButtonEl.classList.add('colab-df-spinner');\n",
              "      try {\n",
              "        const charts = await google.colab.kernel.invokeFunction(\n",
              "            'suggestCharts', [key], {});\n",
              "      } catch (error) {\n",
              "        console.error('Error during call to suggestCharts:', error);\n",
              "      }\n",
              "      quickchartButtonEl.classList.remove('colab-df-spinner');\n",
              "      quickchartButtonEl.classList.add('colab-df-quickchart-complete');\n",
              "    }\n",
              "    (() => {\n",
              "      let quickchartButtonEl =\n",
              "        document.querySelector('#df-2dc2a451-35d1-4dd3-9fbe-444bf4d1cc94 button');\n",
              "      quickchartButtonEl.style.display =\n",
              "        google.colab.kernel.accessAllowed ? 'block' : 'none';\n",
              "    })();\n",
              "  </script>\n",
              "</div>\n",
              "\n",
              "    </div>\n",
              "  </div>\n"
            ],
            "application/vnd.google.colaboratory.intrinsic+json": {
              "type": "dataframe",
              "variable_name": "grouped_train",
              "summary": "{\n  \"name\": \"grouped_train\",\n  \"rows\": 4649,\n  \"fields\": [\n    {\n      \"column\": \"Sentence\",\n      \"properties\": {\n        \"dtype\": \"number\",\n        \"std\": 1342,\n        \"min\": 0,\n        \"max\": 4648,\n        \"num_unique_values\": 4649,\n        \"samples\": [\n          4360,\n          443,\n          33\n        ],\n        \"semantic_type\": \"\",\n        \"description\": \"\"\n      }\n    },\n    {\n      \"column\": \"Tokens\",\n      \"properties\": {\n        \"dtype\": \"object\",\n        \"semantic_type\": \"\",\n        \"description\": \"\"\n      }\n    },\n    {\n      \"column\": \"Lemmas\",\n      \"properties\": {\n        \"dtype\": \"object\",\n        \"semantic_type\": \"\",\n        \"description\": \"\"\n      }\n    },\n    {\n      \"column\": \"X_tokens\",\n      \"properties\": {\n        \"dtype\": \"object\",\n        \"semantic_type\": \"\",\n        \"description\": \"\"\n      }\n    },\n    {\n      \"column\": \"X_lemmas\",\n      \"properties\": {\n        \"dtype\": \"object\",\n        \"semantic_type\": \"\",\n        \"description\": \"\"\n      }\n    },\n    {\n      \"column\": \"POSes\",\n      \"properties\": {\n        \"dtype\": \"object\",\n        \"semantic_type\": \"\",\n        \"description\": \"\"\n      }\n    },\n    {\n      \"column\": \"y_poses\",\n      \"properties\": {\n        \"dtype\": \"object\",\n        \"semantic_type\": \"\",\n        \"description\": \"\"\n      }\n    }\n  ]\n}"
            }
          },
          "metadata": {},
          "execution_count": 30
        }
      ]
    },
    {
      "cell_type": "code",
      "source": [
        "ser = grouped_train['Tokens'].apply(lambda x: len(x))\n",
        "ser.describe()"
      ],
      "metadata": {
        "colab": {
          "base_uri": "https://localhost:8080/"
        },
        "id": "5qajJSyL41Xl",
        "outputId": "98d5096e-23fc-4055-a584-84c67b4386d2"
      },
      "execution_count": 31,
      "outputs": [
        {
          "output_type": "execute_result",
          "data": {
            "text/plain": [
              "count    4649.000000\n",
              "mean       31.694558\n",
              "std        19.826660\n",
              "min         1.000000\n",
              "25%        17.000000\n",
              "50%        30.000000\n",
              "75%        42.000000\n",
              "max       227.000000\n",
              "Name: Tokens, dtype: float64"
            ]
          },
          "metadata": {},
          "execution_count": 31
        }
      ]
    },
    {
      "cell_type": "code",
      "source": [
        "plt.figure()\n",
        "ser.hist(bins=50)\n",
        "plt.figure()\n",
        "sns.boxplot(ser)"
      ],
      "metadata": {
        "colab": {
          "base_uri": "https://localhost:8080/",
          "height": 841
        },
        "id": "0tD68kvf5iy5",
        "outputId": "77b6a97a-bd98-46f2-d7fa-57a318d734f3"
      },
      "execution_count": 32,
      "outputs": [
        {
          "output_type": "execute_result",
          "data": {
            "text/plain": [
              "<Axes: ylabel='Tokens'>"
            ]
          },
          "metadata": {},
          "execution_count": 32
        },
        {
          "output_type": "display_data",
          "data": {
            "text/plain": [
              "<Figure size 640x480 with 1 Axes>"
            ],
            "image/png": "[encoded data removed]"
          },
          "metadata": {}
        },
        {
          "output_type": "display_data",
          "data": {
            "text/plain": [
              "<Figure size 640x480 with 1 Axes>"
            ],
            "image/png": "[encoded data removed]"
          },
          "metadata": {}
        }
      ]
    },
    {
      "cell_type": "code",
      "source": [
        "max_len = 100\n",
        "X_tokens_pad = pad_sequences(grouped_train['X_tokens'], maxlen=max_len, padding='post')\n",
        "X_lemmas_pad = pad_sequences(grouped_train['X_lemmas'], maxlen=max_len, padding='post')\n",
        "y_pos = pad_sequences(grouped_train['y_poses'], maxlen=max_len, padding='post')\n",
        "\n",
        "\n",
        "X_tokens_pad = np.array(X_tokens_pad)\n",
        "X_lemmas_pad = np.array(X_lemmas_pad)\n",
        "y_pos = np.array(y_pos)"
      ],
      "metadata": {
        "id": "WmIbW1hZ9Dw0"
      },
      "execution_count": 33,
      "outputs": []
    },
    {
      "cell_type": "markdown",
      "metadata": {
        "id": "R9BhRQbYorxf"
      },
      "source": [
        "### Modelling"
      ]
    },
    {
      "cell_type": "code",
      "execution_count": 41,
      "metadata": {
        "id": "v88l4QGW5zIj"
      },
      "outputs": [],
      "source": [
        "def build_rnn_model(input_dim, output_dim, input_length, Network=SimpleRNN):\n",
        "    model = Sequential([\n",
        "        Embedding(input_dim=input_dim, output_dim=output_dim, input_length=input_length),\n",
        "        Network(128, return_sequences=True),\n",
        "        TimeDistributed(Dense(output_dim, activation='softmax'))\n",
        "    ])\n",
        "    model.compile(loss='sparse_categorical_crossentropy', optimizer='adam', metrics=['accuracy'])\n",
        "    print(model.summary())\n",
        "    return model"
      ]
    },
    {
      "cell_type": "code",
      "source": [
        "def my_pipe_line(df, token_tokenizer, lemma_tokenizer, pos_encoder):\n",
        "  X_tokens = token_tokenizer.texts_to_sequences(df['Token'])\n",
        "  X_lemmas = lemma_tokenizer.texts_to_sequences(df['Token'])\n",
        "  X_tokens = [token for tokens in X_tokens for token in (tokens if tokens else [0])]\n",
        "  X_lemmas = [lemma for lemmas in X_lemmas for lemma in (lemmas if lemmas else [0])]\n",
        "  y_pos = pos_encoder.transform(df['POS']) - 1\n",
        "  df['X_tokens'] = X_tokens\n",
        "  df['X_lemmas'] = X_lemmas\n",
        "  df['y_pos'] = y_pos + 1\n",
        "  grouped_df = df.groupby('Sentence').agg({\n",
        "      'Token': list,\n",
        "      'Lemma': list,\n",
        "      'X_tokens': list,\n",
        "      'X_lemmas': list,\n",
        "      'POS': list,\n",
        "      'y_pos' : list\n",
        "  }).reset_index()\n",
        "\n",
        "  grouped_df.rename(columns={\n",
        "      'Token': 'Tokens',\n",
        "      'Lemma': 'Lemmas',\n",
        "      'X_tokens': 'X_tokens',\n",
        "      'X_lemmas': 'X_lemmas',\n",
        "      'POS': 'POSes',\n",
        "      'y_pos' : 'y_poses'\n",
        "  }, inplace=True)\n",
        "  X_tokens_pad = pad_sequences(grouped_df['X_tokens'], maxlen=max_len, padding='post')\n",
        "  X_lemmas_pad = pad_sequences(grouped_df['X_lemmas'], maxlen=max_len, padding='post')\n",
        "  y_pos = pad_sequences(grouped_df['y_poses'], maxlen=max_len, padding='post')\n",
        "\n",
        "  return X_tokens_pad, X_lemmas_pad, y_pos, grouped_df\n"
      ],
      "metadata": {
        "id": "VL54EM2qT9b0"
      },
      "execution_count": 35,
      "outputs": []
    },
    {
      "cell_type": "code",
      "execution_count": 36,
      "metadata": {
        "id": "37C70N6Aorxh"
      },
      "outputs": [],
      "source": [
        "val_tokens_pad, val_lemmas_pad, y_val_pad, val_df = my_pipe_line(val, token_tokenizer, lemma_tokenizer, pos_encoder)\n",
        "test_tokens_pad, test_lemmas_pad, y_test_pad, test_df = my_pipe_line(test, token_tokenizer, lemma_tokenizer, pos_encoder)"
      ]
    },
    {
      "cell_type": "code",
      "execution_count": 348,
      "metadata": {
        "id": "LxBF_HEsorxh",
        "colab": {
          "base_uri": "https://localhost:8080/"
        },
        "outputId": "25cca5fc-4453-4496-f64c-2ad177bbcab8"
      },
      "outputs": [
        {
          "output_type": "stream",
          "name": "stdout",
          "text": [
            "Model: \"sequential_14\"\n",
            "_________________________________________________________________\n",
            " Layer (type)                Output Shape              Param #   \n",
            "=================================================================\n",
            " embedding_22 (Embedding)    (None, None, 64)          1237568   \n",
            "                                                                 \n",
            " simple_rnn_1 (SimpleRNN)    (None, None, 128)         24704     \n",
            "                                                                 \n",
            " time_distributed_18 (TimeD  (None, None, 64)          8256      \n",
            " istributed)                                                     \n",
            "                                                                 \n",
            "=================================================================\n",
            "Total params: 1270528 (4.85 MB)\n",
            "Trainable params: 1270528 (4.85 MB)\n",
            "Non-trainable params: 0 (0.00 Byte)\n",
            "_________________________________________________________________\n",
            "None\n"
          ]
        }
      ],
      "source": [
        "# output_dim should be greater than number of POSes\n",
        "model = build_rnn_model(input_dim=len(token_tokenizer.word_index) + 1, output_dim=64, input_length=None, Network=SimpleRNN)"
      ]
    },
    {
      "cell_type": "code",
      "source": [
        "print(val_tokens_pad.shape)\n",
        "print(y_val_pad.shape)\n",
        "print(X_tokens_pad.shape)\n",
        "print(y_pos.shape)"
      ],
      "metadata": {
        "colab": {
          "base_uri": "https://localhost:8080/"
        },
        "id": "hiBZXsX_bfGP",
        "outputId": "f353aa33-bed5-4d2e-b287-b7bdc02f4fa5"
      },
      "execution_count": 309,
      "outputs": [
        {
          "output_type": "stream",
          "name": "stdout",
          "text": [
            "(682, 100)\n",
            "(682, 100)\n",
            "(4649, 100)\n",
            "(4649, 100)\n"
          ]
        }
      ]
    },
    {
      "cell_type": "code",
      "source": [
        "history = model.fit(X_tokens_pad, y_pos, epochs=10, batch_size=128, validation_data=(val_tokens_pad, y_val_pad), validation_steps=1)"
      ],
      "metadata": {
        "colab": {
          "base_uri": "https://localhost:8080/"
        },
        "id": "i0GnEB5Da-YH",
        "outputId": "58631e07-4046-44a1-a86b-2e14472693b9"
      },
      "execution_count": 349,
      "outputs": [
        {
          "output_type": "stream",
          "name": "stdout",
          "text": [
            "Epoch 1/10\n",
            "37/37 [==============================] - 9s 200ms/step - loss: 1.9820 - accuracy: 0.6381 - val_loss: 1.7277 - val_accuracy: 0.5641\n",
            "Epoch 2/10\n",
            "37/37 [==============================] - 10s 272ms/step - loss: 1.0779 - accuracy: 0.7248 - val_loss: 1.1328 - val_accuracy: 0.6875\n",
            "Epoch 3/10\n",
            "37/37 [==============================] - 7s 194ms/step - loss: 0.7628 - accuracy: 0.7873 - val_loss: 1.0399 - val_accuracy: 0.6963\n",
            "Epoch 4/10\n",
            "37/37 [==============================] - 10s 267ms/step - loss: 0.7004 - accuracy: 0.7962 - val_loss: 0.9582 - val_accuracy: 0.7105\n",
            "Epoch 5/10\n",
            "37/37 [==============================] - 8s 217ms/step - loss: 0.6264 - accuracy: 0.8058 - val_loss: 0.8876 - val_accuracy: 0.7332\n",
            "Epoch 6/10\n",
            "37/37 [==============================] - 9s 250ms/step - loss: 0.5398 - accuracy: 0.8495 - val_loss: 0.7356 - val_accuracy: 0.8084\n",
            "Epoch 7/10\n",
            "37/37 [==============================] - 9s 234ms/step - loss: 0.4296 - accuracy: 0.8901 - val_loss: 0.5774 - val_accuracy: 0.8562\n",
            "Epoch 8/10\n",
            "37/37 [==============================] - 8s 217ms/step - loss: 0.3246 - accuracy: 0.9269 - val_loss: 0.4562 - val_accuracy: 0.8908\n",
            "Epoch 9/10\n",
            "37/37 [==============================] - 9s 241ms/step - loss: 0.2383 - accuracy: 0.9519 - val_loss: 0.3663 - val_accuracy: 0.9162\n",
            "Epoch 10/10\n",
            "37/37 [==============================] - 8s 207ms/step - loss: 0.1743 - accuracy: 0.9674 - val_loss: 0.3080 - val_accuracy: 0.9312\n"
          ]
        }
      ]
    },
    {
      "cell_type": "code",
      "source": [
        "def metrics_plot(model_name):\n",
        "  acc = model_name.history['accuracy']\n",
        "  val_acc = model_name.history['val_accuracy']\n",
        "  loss = model_name.history['loss']\n",
        "  val_loss = model_name.history['val_loss']\n",
        "\n",
        "  epochs = range(len(acc))\n",
        "\n",
        "  plt.plot(epochs, acc, 'b', label='Training acc')\n",
        "  plt.plot(epochs, val_acc, 'r', label='Validation acc')\n",
        "  plt.title('Training and validation accuracy')\n",
        "\n",
        "  plt.legend()\n",
        "\n",
        "  plt.figure()\n",
        "\n",
        "  plt.plot(epochs, loss, 'b', label='Training loss')\n",
        "  plt.plot(epochs, val_loss, 'r', label='Validation loss')\n",
        "  plt.title('Training and validation loss')\n",
        "  plt.legend()\n",
        "\n",
        "  plt.show()"
      ],
      "metadata": {
        "id": "8NTV8JJYioz3"
      },
      "execution_count": 350,
      "outputs": []
    },
    {
      "cell_type": "code",
      "source": [
        "metrics_plot(history)"
      ],
      "metadata": {
        "colab": {
          "base_uri": "https://localhost:8080/",
          "height": 887
        },
        "id": "pXR7om0mtZ5Z",
        "outputId": "aeed7d5e-a692-4f76-f0da-ce707c8c05a4"
      },
      "execution_count": 351,
      "outputs": [
        {
          "output_type": "display_data",
          "data": {
            "text/plain": [
              "<Figure size 640x480 with 1 Axes>"
            ],
            "image/png": "[encoded data removed]"
          },
          "metadata": {}
        },
        {
          "output_type": "display_data",
          "data": {
            "text/plain": [
              "<Figure size 640x480 with 1 Axes>"
            ],
            "image/png": "[encoded data removed]"
          },
          "metadata": {}
        }
      ]
    },
    {
      "cell_type": "markdown",
      "metadata": {
        "id": "85JlkIQXorxg"
      },
      "source": [
        "#### Evaluation"
      ]
    },
    {
      "cell_type": "markdown",
      "metadata": {
        "id": "Rz3FKqU_5zIm"
      },
      "source": [
        "**Evaluation metric:**\n",
        "Accuracy"
      ]
    },
    {
      "cell_type": "code",
      "source": [
        "loss, accuracy = model.evaluate(test_tokens_pad, y_test_pad)\n",
        "print(\"Test Loss:\", loss)\n",
        "print(\"Test Accuracy:\", accuracy)"
      ],
      "metadata": {
        "colab": {
          "base_uri": "https://localhost:8080/"
        },
        "id": "88qCAz-Ea1ig",
        "outputId": "d9c235bd-b776-46dc-ea85-bd0231150ec4"
      },
      "execution_count": 352,
      "outputs": [
        {
          "output_type": "stream",
          "name": "stdout",
          "text": [
            "24/24 [==============================] - 1s 35ms/step - loss: 0.3688 - accuracy: 0.9062\n",
            "Test Loss: 0.36883020401000977\n",
            "Test Accuracy: 0.9062198400497437\n"
          ]
        }
      ]
    },
    {
      "cell_type": "markdown",
      "source": [
        "# Test Model :"
      ],
      "metadata": {
        "id": "gWHafIPedMU1"
      }
    },
    {
      "cell_type": "code",
      "source": [
        "predictions = model.predict(test_tokens_pad[:5])"
      ],
      "metadata": {
        "colab": {
          "base_uri": "https://localhost:8080/"
        },
        "id": "OM4bGY1sdPxl",
        "outputId": "42a22540-5b0c-4635-a3fd-2376560d809e"
      },
      "execution_count": 353,
      "outputs": [
        {
          "output_type": "stream",
          "name": "stdout",
          "text": [
            "1/1 [==============================] - 0s 219ms/step\n"
          ]
        }
      ]
    },
    {
      "cell_type": "code",
      "source": [
        "predictions.shape"
      ],
      "metadata": {
        "colab": {
          "base_uri": "https://localhost:8080/"
        },
        "id": "BnnwSK2Odff4",
        "outputId": "f43ed5b5-f837-402c-d8da-9b27c4ef94b1"
      },
      "execution_count": 354,
      "outputs": [
        {
          "output_type": "execute_result",
          "data": {
            "text/plain": [
              "(5, 100, 64)"
            ]
          },
          "metadata": {},
          "execution_count": 354
        }
      ]
    },
    {
      "cell_type": "code",
      "source": [
        "predictions[0]"
      ],
      "metadata": {
        "colab": {
          "base_uri": "https://localhost:8080/"
        },
        "id": "QtG_qYqQdnT4",
        "outputId": "240a0283-9128-4e49-9d47-9b13870a59cd"
      },
      "execution_count": 355,
      "outputs": [
        {
          "output_type": "execute_result",
          "data": {
            "text/plain": [
              "array([[1.00918012e-02, 2.06939112e-02, 1.80465747e-02, ...,\n",
              "        1.20794401e-02, 1.53051643e-02, 1.45045472e-02],\n",
              "       [6.64603990e-03, 3.12655687e-01, 1.16003631e-02, ...,\n",
              "        1.06113004e-02, 1.54499905e-02, 1.11911828e-02],\n",
              "       [1.29716964e-02, 2.97416914e-02, 2.16629580e-02, ...,\n",
              "        2.01121904e-02, 1.54379299e-02, 1.29045034e-02],\n",
              "       ...,\n",
              "       [9.98432875e-01, 3.03103661e-05, 2.23030893e-05, ...,\n",
              "        6.16760701e-07, 1.88659740e-07, 3.63022622e-07],\n",
              "       [9.98432875e-01, 3.03103661e-05, 2.23031093e-05, ...,\n",
              "        6.16761895e-07, 1.88659740e-07, 3.63022622e-07],\n",
              "       [9.98432875e-01, 3.03103661e-05, 2.23030893e-05, ...,\n",
              "        6.16761326e-07, 1.88659740e-07, 3.63022622e-07]], dtype=float32)"
            ]
          },
          "metadata": {},
          "execution_count": 355
        }
      ]
    },
    {
      "cell_type": "code",
      "source": [
        "max_indices = np.argmax(predictions[0], axis=1)"
      ],
      "metadata": {
        "id": "7-hRG4QFeHCA"
      },
      "execution_count": 356,
      "outputs": []
    },
    {
      "cell_type": "code",
      "source": [
        "max_indices"
      ],
      "metadata": {
        "colab": {
          "base_uri": "https://localhost:8080/"
        },
        "id": "GIdjYPWGeJtT",
        "outputId": "452d6c2c-f833-4a9e-b090-769121a92eb3"
      },
      "execution_count": 357,
      "outputs": [
        {
          "output_type": "execute_result",
          "data": {
            "text/plain": [
              "array([ 8,  1, 35,  5,  8,  2,  8,  8, 13,  0,  0,  0,  0,  0,  0,  0,  0,\n",
              "        0,  0,  0,  0,  0,  0,  0,  0,  0,  0,  0,  0,  0,  0,  0,  0,  0,\n",
              "        0,  0,  0,  0,  0,  0,  0,  0,  0,  0,  0,  0,  0,  0,  0,  0,  0,\n",
              "        0,  0,  0,  0,  0,  0,  0,  0,  0,  0,  0,  0,  0,  0,  0,  0,  0,\n",
              "        0,  0,  0,  0,  0,  0,  0,  0,  0,  0,  0,  0,  0,  0,  0,  0,  0,\n",
              "        0,  0,  0,  0,  0,  0,  0,  0,  0,  0,  0,  0,  0,  0,  0])"
            ]
          },
          "metadata": {},
          "execution_count": 357
        }
      ]
    },
    {
      "cell_type": "code",
      "source": [
        "y_test_pad[0]"
      ],
      "metadata": {
        "colab": {
          "base_uri": "https://localhost:8080/"
        },
        "id": "4JvxSqrFeTK-",
        "outputId": "3289561c-3a3d-413f-de1a-4d3200ce6bf4"
      },
      "execution_count": 358,
      "outputs": [
        {
          "output_type": "execute_result",
          "data": {
            "text/plain": [
              "array([ 8,  1,  1,  5,  8,  2,  8,  8, 13,  0,  0,  0,  0,  0,  0,  0,  0,\n",
              "        0,  0,  0,  0,  0,  0,  0,  0,  0,  0,  0,  0,  0,  0,  0,  0,  0,\n",
              "        0,  0,  0,  0,  0,  0,  0,  0,  0,  0,  0,  0,  0,  0,  0,  0,  0,\n",
              "        0,  0,  0,  0,  0,  0,  0,  0,  0,  0,  0,  0,  0,  0,  0,  0,  0,\n",
              "        0,  0,  0,  0,  0,  0,  0,  0,  0,  0,  0,  0,  0,  0,  0,  0,  0,\n",
              "        0,  0,  0,  0,  0,  0,  0,  0,  0,  0,  0,  0,  0,  0,  0],\n",
              "      dtype=int32)"
            ]
          },
          "metadata": {},
          "execution_count": 358
        }
      ]
    },
    {
      "cell_type": "code",
      "source": [
        "original_labels = pos_encoder.inverse_transform(max_indices)\n",
        "original_labels"
      ],
      "metadata": {
        "colab": {
          "base_uri": "https://localhost:8080/"
        },
        "id": "4JXtjMwJezzw",
        "outputId": "be615c8e-5b4b-4e05-f789-fd37f3f584d2"
      },
      "execution_count": 359,
      "outputs": [
        {
          "output_type": "execute_result",
          "data": {
            "text/plain": [
              "array(['NOUN', 'ADJ', 'Not found', 'CCONJ', 'NOUN', 'ADP', 'NOUN', 'NOUN',\n",
              "       'PUNCT', 'Not found', 'Not found', 'Not found', 'Not found',\n",
              "       'Not found', 'Not found', 'Not found', 'Not found', 'Not found',\n",
              "       'Not found', 'Not found', 'Not found', 'Not found', 'Not found',\n",
              "       'Not found', 'Not found', 'Not found', 'Not found', 'Not found',\n",
              "       'Not found', 'Not found', 'Not found', 'Not found', 'Not found',\n",
              "       'Not found', 'Not found', 'Not found', 'Not found', 'Not found',\n",
              "       'Not found', 'Not found', 'Not found', 'Not found', 'Not found',\n",
              "       'Not found', 'Not found', 'Not found', 'Not found', 'Not found',\n",
              "       'Not found', 'Not found', 'Not found', 'Not found', 'Not found',\n",
              "       'Not found', 'Not found', 'Not found', 'Not found', 'Not found',\n",
              "       'Not found', 'Not found', 'Not found', 'Not found', 'Not found',\n",
              "       'Not found', 'Not found', 'Not found', 'Not found', 'Not found',\n",
              "       'Not found', 'Not found', 'Not found', 'Not found', 'Not found',\n",
              "       'Not found', 'Not found', 'Not found', 'Not found', 'Not found',\n",
              "       'Not found', 'Not found', 'Not found', 'Not found', 'Not found',\n",
              "       'Not found', 'Not found', 'Not found', 'Not found', 'Not found',\n",
              "       'Not found', 'Not found', 'Not found', 'Not found', 'Not found',\n",
              "       'Not found', 'Not found', 'Not found', 'Not found', 'Not found',\n",
              "       'Not found', 'Not found'], dtype='<U9')"
            ]
          },
          "metadata": {},
          "execution_count": 359
        }
      ]
    },
    {
      "cell_type": "markdown",
      "source": [
        "# Another Sample :\n"
      ],
      "metadata": {
        "id": "cve0AhFiwI7F"
      }
    },
    {
      "cell_type": "code",
      "source": [
        "predictions[1][1]"
      ],
      "metadata": {
        "colab": {
          "base_uri": "https://localhost:8080/"
        },
        "id": "t3rqXL3Ewd_D",
        "outputId": "4a4c80dc-ccb3-48e3-fff0-bd250c4f4919"
      },
      "execution_count": 360,
      "outputs": [
        {
          "output_type": "execute_result",
          "data": {
            "text/plain": [
              "array([3.4702539e-01, 3.5598893e-03, 5.8853291e-03, 5.6400369e-03,\n",
              "       1.1530393e-02, 4.7412902e-02, 1.5240202e-03, 9.1696210e-04,\n",
              "       6.6205407e-03, 1.7128993e-02, 2.6370481e-02, 2.2331565e-03,\n",
              "       1.3268904e-03, 4.5334395e-02, 1.2998465e-02, 1.1648174e-03,\n",
              "       3.9246288e-01, 2.6472043e-02, 1.4697342e-03, 1.1996954e-03,\n",
              "       6.2168931e-04, 3.6546323e-04, 1.2527256e-03, 1.2354864e-03,\n",
              "       2.2422583e-03, 1.4277659e-03, 6.6788995e-04, 5.4712471e-04,\n",
              "       1.1629582e-03, 4.7182373e-04, 6.7950843e-04, 6.8296015e-04,\n",
              "       6.0012692e-04, 7.7917095e-04, 1.1216966e-03, 4.4318283e-04,\n",
              "       7.1012083e-04, 1.4063176e-03, 9.8927738e-04, 6.2434131e-04,\n",
              "       8.6991553e-04, 1.0280374e-03, 4.3837418e-04, 1.0748613e-03,\n",
              "       1.0324653e-03, 1.3122868e-03, 7.0032594e-04, 1.3056587e-03,\n",
              "       1.1617483e-03, 3.5647489e-04, 1.6261231e-03, 1.6382253e-03,\n",
              "       2.9743192e-04, 2.1927920e-03, 8.0218143e-04, 7.6059689e-04,\n",
              "       7.4383413e-04, 8.7037153e-04, 4.9230963e-04, 4.5583770e-04,\n",
              "       9.9336763e-04, 1.7565179e-03, 4.2806147e-04, 1.3531365e-03],\n",
              "      dtype=float32)"
            ]
          },
          "metadata": {},
          "execution_count": 360
        }
      ]
    },
    {
      "cell_type": "code",
      "source": [
        "max_indices = np.argmax(predictions[4], axis=1)\n",
        "max_indices"
      ],
      "metadata": {
        "colab": {
          "base_uri": "https://localhost:8080/"
        },
        "id": "4zUCz-GHwBS9",
        "outputId": "c7c95736-505d-4030-c04d-23ae559f23d8"
      },
      "execution_count": 361,
      "outputs": [
        {
          "output_type": "execute_result",
          "data": {
            "text/plain": [
              "array([ 8,  8, 17,  1, 17, 17, 17,  8,  8,  8,  1,  1,  8,  8,  8,  2,  8,\n",
              "       11, 16, 17,  0,  0,  2,  8,  8,  2,  8, 17,  8,  1,  2,  8, 13,  5,\n",
              "       16,  8,  8,  8, 13,  0,  0,  0,  0,  0,  0,  0,  0,  0,  0,  0,  0,\n",
              "        0,  0,  0,  0,  0,  0,  0,  0,  0,  0,  0,  0,  0,  0,  0,  0,  0,\n",
              "        0,  0,  0,  0,  0,  0,  0,  0,  0,  0,  0,  0,  0,  0,  0,  0,  0,\n",
              "        0,  0,  0,  0,  0,  0,  0,  0,  0,  0,  0,  0,  0,  0,  0])"
            ]
          },
          "metadata": {},
          "execution_count": 361
        }
      ]
    },
    {
      "cell_type": "code",
      "source": [
        "y_test_pad[4]"
      ],
      "metadata": {
        "colab": {
          "base_uri": "https://localhost:8080/"
        },
        "id": "FHJnN3EgwSDd",
        "outputId": "391da841-ff74-4d0c-8c9e-0de594540e65"
      },
      "execution_count": 362,
      "outputs": [
        {
          "output_type": "execute_result",
          "data": {
            "text/plain": [
              "array([16, 17, 17, 12, 17, 17, 17,  8,  8,  8,  1,  1,  8,  8,  8,  2,  8,\n",
              "       11,  1,  8, 17, 16,  2,  8, 17,  2,  8,  5,  8,  1,  2,  8, 13,  5,\n",
              "       16,  8, 17,  8, 13,  0,  0,  0,  0,  0,  0,  0,  0,  0,  0,  0,  0,\n",
              "        0,  0,  0,  0,  0,  0,  0,  0,  0,  0,  0,  0,  0,  0,  0,  0,  0,\n",
              "        0,  0,  0,  0,  0,  0,  0,  0,  0,  0,  0,  0,  0,  0,  0,  0,  0,\n",
              "        0,  0,  0,  0,  0,  0,  0,  0,  0,  0,  0,  0,  0,  0,  0],\n",
              "      dtype=int32)"
            ]
          },
          "metadata": {},
          "execution_count": 362
        }
      ]
    },
    {
      "cell_type": "code",
      "source": [
        "pos_encoder.inverse_transform(max_indices)"
      ],
      "metadata": {
        "colab": {
          "base_uri": "https://localhost:8080/"
        },
        "id": "9YCnSlN_wvYZ",
        "outputId": "3a9633c4-4df2-41c3-f6d8-18b3e6d62b9b"
      },
      "execution_count": 363,
      "outputs": [
        {
          "output_type": "execute_result",
          "data": {
            "text/plain": [
              "array(['NOUN', 'NOUN', 'X', 'ADJ', 'X', 'X', 'X', 'NOUN', 'NOUN', 'NOUN',\n",
              "       'ADJ', 'ADJ', 'NOUN', 'NOUN', 'NOUN', 'ADP', 'NOUN', 'PRON',\n",
              "       'VERB', 'X', 'Not found', 'Not found', 'ADP', 'NOUN', 'NOUN',\n",
              "       'ADP', 'NOUN', 'X', 'NOUN', 'ADJ', 'ADP', 'NOUN', 'PUNCT', 'CCONJ',\n",
              "       'VERB', 'NOUN', 'NOUN', 'NOUN', 'PUNCT', 'Not found', 'Not found',\n",
              "       'Not found', 'Not found', 'Not found', 'Not found', 'Not found',\n",
              "       'Not found', 'Not found', 'Not found', 'Not found', 'Not found',\n",
              "       'Not found', 'Not found', 'Not found', 'Not found', 'Not found',\n",
              "       'Not found', 'Not found', 'Not found', 'Not found', 'Not found',\n",
              "       'Not found', 'Not found', 'Not found', 'Not found', 'Not found',\n",
              "       'Not found', 'Not found', 'Not found', 'Not found', 'Not found',\n",
              "       'Not found', 'Not found', 'Not found', 'Not found', 'Not found',\n",
              "       'Not found', 'Not found', 'Not found', 'Not found', 'Not found',\n",
              "       'Not found', 'Not found', 'Not found', 'Not found', 'Not found',\n",
              "       'Not found', 'Not found', 'Not found', 'Not found', 'Not found',\n",
              "       'Not found', 'Not found', 'Not found', 'Not found', 'Not found',\n",
              "       'Not found', 'Not found', 'Not found', 'Not found'], dtype='<U9')"
            ]
          },
          "metadata": {},
          "execution_count": 363
        }
      ]
    },
    {
      "cell_type": "markdown",
      "metadata": {
        "id": "fhVFUaIcorxh"
      },
      "source": [
        "### Enhancement"
      ]
    },
    {
      "cell_type": "code",
      "source": [
        "# 1- Using GRU\n",
        "model2 = build_rnn_model(input_dim=len(token_tokenizer.word_index) + 1, output_dim=64, input_length=None, Network=GRU)"
      ],
      "metadata": {
        "colab": {
          "base_uri": "https://localhost:8080/"
        },
        "id": "dsg5OYjLxEbW",
        "outputId": "31175924-16ba-4b8e-9ccb-ca8c49e1aef6"
      },
      "execution_count": 364,
      "outputs": [
        {
          "output_type": "stream",
          "name": "stdout",
          "text": [
            "Model: \"sequential_15\"\n",
            "_________________________________________________________________\n",
            " Layer (type)                Output Shape              Param #   \n",
            "=================================================================\n",
            " embedding_23 (Embedding)    (None, None, 64)          1237568   \n",
            "                                                                 \n",
            " gru (GRU)                   (None, None, 128)         74496     \n",
            "                                                                 \n",
            " time_distributed_19 (TimeD  (None, None, 64)          8256      \n",
            " istributed)                                                     \n",
            "                                                                 \n",
            "=================================================================\n",
            "Total params: 1320320 (5.04 MB)\n",
            "Trainable params: 1320320 (5.04 MB)\n",
            "Non-trainable params: 0 (0.00 Byte)\n",
            "_________________________________________________________________\n",
            "None\n"
          ]
        }
      ]
    },
    {
      "cell_type": "code",
      "execution_count": 365,
      "metadata": {
        "id": "ZDsCjdqsorxi",
        "colab": {
          "base_uri": "https://localhost:8080/"
        },
        "outputId": "6e927a37-cf44-44b1-989e-e18b723a4d8e"
      },
      "outputs": [
        {
          "output_type": "stream",
          "name": "stdout",
          "text": [
            "Epoch 1/10\n",
            "37/37 [==============================] - 19s 442ms/step - loss: 2.3397 - accuracy: 0.6667 - val_loss: 1.6033 - val_accuracy: 0.5604\n",
            "Epoch 2/10\n",
            "37/37 [==============================] - 20s 553ms/step - loss: 1.0161 - accuracy: 0.6965 - val_loss: 1.2198 - val_accuracy: 0.6478\n",
            "Epoch 3/10\n",
            "37/37 [==============================] - 25s 656ms/step - loss: 0.7645 - accuracy: 0.7946 - val_loss: 1.0927 - val_accuracy: 0.6840\n",
            "Epoch 4/10\n",
            "37/37 [==============================] - 23s 612ms/step - loss: 0.6687 - accuracy: 0.7995 - val_loss: 1.0587 - val_accuracy: 0.6895\n",
            "Epoch 5/10\n",
            "37/37 [==============================] - 22s 590ms/step - loss: 0.6099 - accuracy: 0.8075 - val_loss: 0.9236 - val_accuracy: 0.7049\n",
            "Epoch 6/10\n",
            "37/37 [==============================] - 16s 421ms/step - loss: 0.5122 - accuracy: 0.8351 - val_loss: 0.6946 - val_accuracy: 0.8120\n",
            "Epoch 7/10\n",
            "37/37 [==============================] - 19s 496ms/step - loss: 0.3653 - accuracy: 0.9005 - val_loss: 0.4611 - val_accuracy: 0.8866\n",
            "Epoch 8/10\n",
            "37/37 [==============================] - 16s 430ms/step - loss: 0.2415 - accuracy: 0.9426 - val_loss: 0.3294 - val_accuracy: 0.9206\n",
            "Epoch 9/10\n",
            "37/37 [==============================] - 17s 468ms/step - loss: 0.1625 - accuracy: 0.9674 - val_loss: 0.2562 - val_accuracy: 0.9449\n",
            "Epoch 10/10\n",
            "37/37 [==============================] - 16s 431ms/step - loss: 0.1130 - accuracy: 0.9803 - val_loss: 0.2183 - val_accuracy: 0.9550\n"
          ]
        }
      ],
      "source": [
        "history2 = model2.fit(X_tokens_pad, y_pos, epochs=10, batch_size=128, validation_data=(val_tokens_pad, y_val_pad), validation_steps=1)"
      ]
    },
    {
      "cell_type": "code",
      "source": [
        "metrics_plot(history2)"
      ],
      "metadata": {
        "colab": {
          "base_uri": "https://localhost:8080/",
          "height": 887
        },
        "id": "4yhpZSxG5ijD",
        "outputId": "8ec27381-2604-430a-fd5d-fd1d71e62670"
      },
      "execution_count": 366,
      "outputs": [
        {
          "output_type": "display_data",
          "data": {
            "text/plain": [
              "<Figure size 640x480 with 1 Axes>"
            ],
            "image/png": "[encoded data removed]"
          },
          "metadata": {}
        },
        {
          "output_type": "display_data",
          "data": {
            "text/plain": [
              "<Figure size 640x480 with 1 Axes>"
            ],
            "image/png": "[encoded data removed]"
          },
          "metadata": {}
        }
      ]
    },
    {
      "cell_type": "code",
      "source": [
        "loss, accuracy = model2.evaluate(test_tokens_pad, y_test_pad)\n",
        "print(\"Test Loss:\", loss)\n",
        "print(\"Test Accuracy:\", accuracy)"
      ],
      "metadata": {
        "colab": {
          "base_uri": "https://localhost:8080/"
        },
        "id": "IN587Fc57k4B",
        "outputId": "13f93d76-4e1b-453a-ac7c-e8dedf4afc8e"
      },
      "execution_count": 370,
      "outputs": [
        {
          "output_type": "stream",
          "name": "stdout",
          "text": [
            "24/24 [==============================] - 2s 93ms/step - loss: 0.2271 - accuracy: 0.9434\n",
            "Test Loss: 0.22707514464855194\n",
            "Test Accuracy: 0.9434450268745422\n"
          ]
        }
      ]
    },
    {
      "cell_type": "code",
      "source": [
        "# 2- Using LSTM\n",
        "model3 = build_rnn_model(input_dim=len(token_tokenizer.word_index) + 1, output_dim=64, input_length=None, Network=LSTM)"
      ],
      "metadata": {
        "colab": {
          "base_uri": "https://localhost:8080/"
        },
        "id": "BSyCmtGB5j3w",
        "outputId": "00326a02-b20f-4a1d-f77a-96fe9dea3920"
      },
      "execution_count": 367,
      "outputs": [
        {
          "output_type": "stream",
          "name": "stdout",
          "text": [
            "Model: \"sequential_16\"\n",
            "_________________________________________________________________\n",
            " Layer (type)                Output Shape              Param #   \n",
            "=================================================================\n",
            " embedding_24 (Embedding)    (None, None, 64)          1237568   \n",
            "                                                                 \n",
            " lstm_17 (LSTM)              (None, None, 128)         98816     \n",
            "                                                                 \n",
            " time_distributed_20 (TimeD  (None, None, 64)          8256      \n",
            " istributed)                                                     \n",
            "                                                                 \n",
            "=================================================================\n",
            "Total params: 1344640 (5.13 MB)\n",
            "Trainable params: 1344640 (5.13 MB)\n",
            "Non-trainable params: 0 (0.00 Byte)\n",
            "_________________________________________________________________\n",
            "None\n"
          ]
        }
      ]
    },
    {
      "cell_type": "code",
      "source": [
        "history3 = model3.fit(X_tokens_pad, y_pos, epochs=10, batch_size=128, validation_data=(val_tokens_pad, y_val_pad), validation_steps=1)"
      ],
      "metadata": {
        "colab": {
          "base_uri": "https://localhost:8080/"
        },
        "id": "IWkZNa1b5q5-",
        "outputId": "096edb1a-f67c-4fd5-f1fa-1b6f281de065"
      },
      "execution_count": 368,
      "outputs": [
        {
          "output_type": "stream",
          "name": "stdout",
          "text": [
            "Epoch 1/10\n",
            "37/37 [==============================] - 21s 500ms/step - loss: 2.1143 - accuracy: 0.6664 - val_loss: 1.7396 - val_accuracy: 0.5623\n",
            "Epoch 2/10\n",
            "37/37 [==============================] - 18s 500ms/step - loss: 1.1974 - accuracy: 0.6860 - val_loss: 1.4103 - val_accuracy: 0.5777\n",
            "Epoch 3/10\n",
            "37/37 [==============================] - 19s 505ms/step - loss: 0.8653 - accuracy: 0.7689 - val_loss: 1.1311 - val_accuracy: 0.6852\n",
            "Epoch 4/10\n",
            "37/37 [==============================] - 19s 499ms/step - loss: 0.7397 - accuracy: 0.7943 - val_loss: 1.2100 - val_accuracy: 0.6802\n",
            "Epoch 5/10\n",
            "37/37 [==============================] - 18s 498ms/step - loss: 0.6956 - accuracy: 0.7978 - val_loss: 1.1624 - val_accuracy: 0.6851\n",
            "Epoch 6/10\n",
            "37/37 [==============================] - 18s 497ms/step - loss: 0.6616 - accuracy: 0.8008 - val_loss: 1.0935 - val_accuracy: 0.6916\n",
            "Epoch 7/10\n",
            "37/37 [==============================] - 18s 497ms/step - loss: 0.6172 - accuracy: 0.8072 - val_loss: 0.9434 - val_accuracy: 0.7067\n",
            "Epoch 8/10\n",
            "37/37 [==============================] - 19s 516ms/step - loss: 0.5418 - accuracy: 0.8348 - val_loss: 0.7658 - val_accuracy: 0.7850\n",
            "Epoch 9/10\n",
            "37/37 [==============================] - 20s 528ms/step - loss: 0.4341 - accuracy: 0.8720 - val_loss: 0.5824 - val_accuracy: 0.8376\n",
            "Epoch 10/10\n",
            "37/37 [==============================] - 19s 508ms/step - loss: 0.3315 - accuracy: 0.9092 - val_loss: 0.4556 - val_accuracy: 0.8849\n"
          ]
        }
      ]
    },
    {
      "cell_type": "code",
      "source": [
        "metrics_plot(history3)"
      ],
      "metadata": {
        "colab": {
          "base_uri": "https://localhost:8080/",
          "height": 887
        },
        "id": "ArBDHUPT5wf8",
        "outputId": "5126ef2a-aec3-4e17-d7ef-95f56fc70074"
      },
      "execution_count": 369,
      "outputs": [
        {
          "output_type": "display_data",
          "data": {
            "text/plain": [
              "<Figure size 640x480 with 1 Axes>"
            ],
            "image/png": "[encoded data removed]"
          },
          "metadata": {}
        },
        {
          "output_type": "display_data",
          "data": {
            "text/plain": [
              "<Figure size 640x480 with 1 Axes>"
            ],
            "image/png": "[encoded data removed]"
          },
          "metadata": {}
        }
      ]
    },
    {
      "cell_type": "code",
      "source": [
        "loss, accuracy = model3.evaluate(test_tokens_pad, y_test_pad)\n",
        "print(\"Test Loss:\", loss)\n",
        "print(\"Test Accuracy:\", accuracy)"
      ],
      "metadata": {
        "colab": {
          "base_uri": "https://localhost:8080/"
        },
        "id": "Ui1yMgkc7ojy",
        "outputId": "13687727-1798-4763-a465-a50481f2e500"
      },
      "execution_count": 371,
      "outputs": [
        {
          "output_type": "stream",
          "name": "stdout",
          "text": [
            "24/24 [==============================] - 2s 70ms/step - loss: 0.3869 - accuracy: 0.8920\n",
            "Test Loss: 0.3868880271911621\n",
            "Test Accuracy: 0.8919571042060852\n"
          ]
        }
      ]
    },
    {
      "cell_type": "markdown",
      "source": [
        "# Making Bi-Directional model"
      ],
      "metadata": {
        "id": "BP5rA4pt8OAG"
      }
    },
    {
      "cell_type": "code",
      "source": [
        "def build_bi_rnn_model(input_dim, output_dim, input_length, Network=SimpleRNN):\n",
        "    model = Sequential([\n",
        "        Embedding(input_dim=input_dim, output_dim=output_dim, input_length=input_length),\n",
        "        Bidirectional(Network(128, return_sequences=True)),\n",
        "        TimeDistributed(Dense(output_dim, activation='softmax'))\n",
        "    ])\n",
        "    model.compile(loss='sparse_categorical_crossentropy', optimizer='adam', metrics=['accuracy'])\n",
        "    print(model.summary())\n",
        "    return model"
      ],
      "metadata": {
        "id": "R1ITCDvR8SDL"
      },
      "execution_count": 373,
      "outputs": []
    },
    {
      "cell_type": "code",
      "source": [
        "# 1- Simple RNN :\n",
        "model1_bi = build_bi_rnn_model(input_dim=len(token_tokenizer.word_index) + 1, output_dim=64, input_length=None, Network=LSTM)\n",
        "\n",
        "# 2- GRU :\n",
        "model2_bi = build_bi_rnn_model(input_dim=len(token_tokenizer.word_index) + 1, output_dim=64, input_length=None, Network=GRU)\n",
        "\n",
        "# 3- LSTM :\n",
        "model3_bi = build_bi_rnn_model(input_dim=len(token_tokenizer.word_index) + 1, output_dim=64, input_length=None, Network=LSTM)"
      ],
      "metadata": {
        "colab": {
          "base_uri": "https://localhost:8080/"
        },
        "id": "NoLg34k18bvM",
        "outputId": "2e35391c-214a-4d29-83f7-a3561632681a"
      },
      "execution_count": 374,
      "outputs": [
        {
          "output_type": "stream",
          "name": "stdout",
          "text": [
            "Model: \"sequential_17\"\n",
            "_________________________________________________________________\n",
            " Layer (type)                Output Shape              Param #   \n",
            "=================================================================\n",
            " embedding_25 (Embedding)    (None, None, 64)          1237568   \n",
            "                                                                 \n",
            " bidirectional (Bidirection  (None, None, 256)         197632    \n",
            " al)                                                             \n",
            "                                                                 \n",
            " time_distributed_21 (TimeD  (None, None, 64)          16448     \n",
            " istributed)                                                     \n",
            "                                                                 \n",
            "=================================================================\n",
            "Total params: 1451648 (5.54 MB)\n",
            "Trainable params: 1451648 (5.54 MB)\n",
            "Non-trainable params: 0 (0.00 Byte)\n",
            "_________________________________________________________________\n",
            "None\n",
            "Model: \"sequential_18\"\n",
            "_________________________________________________________________\n",
            " Layer (type)                Output Shape              Param #   \n",
            "=================================================================\n",
            " embedding_26 (Embedding)    (None, None, 64)          1237568   \n",
            "                                                                 \n",
            " bidirectional_1 (Bidirecti  (None, None, 256)         148992    \n",
            " onal)                                                           \n",
            "                                                                 \n",
            " time_distributed_22 (TimeD  (None, None, 64)          16448     \n",
            " istributed)                                                     \n",
            "                                                                 \n",
            "=================================================================\n",
            "Total params: 1403008 (5.35 MB)\n",
            "Trainable params: 1403008 (5.35 MB)\n",
            "Non-trainable params: 0 (0.00 Byte)\n",
            "_________________________________________________________________\n",
            "None\n",
            "Model: \"sequential_19\"\n",
            "_________________________________________________________________\n",
            " Layer (type)                Output Shape              Param #   \n",
            "=================================================================\n",
            " embedding_27 (Embedding)    (None, None, 64)          1237568   \n",
            "                                                                 \n",
            " bidirectional_2 (Bidirecti  (None, None, 256)         197632    \n",
            " onal)                                                           \n",
            "                                                                 \n",
            " time_distributed_23 (TimeD  (None, None, 64)          16448     \n",
            " istributed)                                                     \n",
            "                                                                 \n",
            "=================================================================\n",
            "Total params: 1451648 (5.54 MB)\n",
            "Trainable params: 1451648 (5.54 MB)\n",
            "Non-trainable params: 0 (0.00 Byte)\n",
            "_________________________________________________________________\n",
            "None\n"
          ]
        }
      ]
    },
    {
      "cell_type": "code",
      "source": [
        "history1_bi = model1_bi.fit(X_tokens_pad, y_pos, epochs=10, batch_size=128, validation_data=(val_tokens_pad, y_val_pad), validation_steps=1)"
      ],
      "metadata": {
        "colab": {
          "base_uri": "https://localhost:8080/"
        },
        "id": "yTrjX_Y98xnK",
        "outputId": "d9379703-4d42-4168-d1b0-af82501d6236"
      },
      "execution_count": 375,
      "outputs": [
        {
          "output_type": "stream",
          "name": "stdout",
          "text": [
            "Epoch 1/10\n",
            "37/37 [==============================] - 40s 943ms/step - loss: 1.8829 - accuracy: 0.6987 - val_loss: 1.3386 - val_accuracy: 0.6585\n",
            "Epoch 2/10\n",
            "37/37 [==============================] - 32s 860ms/step - loss: 0.7603 - accuracy: 0.7942 - val_loss: 1.1198 - val_accuracy: 0.6946\n",
            "Epoch 3/10\n",
            "37/37 [==============================] - 31s 817ms/step - loss: 0.6978 - accuracy: 0.7961 - val_loss: 1.1162 - val_accuracy: 0.6973\n",
            "Epoch 4/10\n",
            "37/37 [==============================] - 35s 930ms/step - loss: 0.6678 - accuracy: 0.7999 - val_loss: 1.1244 - val_accuracy: 0.7001\n",
            "Epoch 5/10\n",
            "37/37 [==============================] - 31s 841ms/step - loss: 0.6472 - accuracy: 0.8019 - val_loss: 1.1086 - val_accuracy: 0.7035\n",
            "Epoch 6/10\n",
            "37/37 [==============================] - 31s 844ms/step - loss: 0.6222 - accuracy: 0.8049 - val_loss: 1.0170 - val_accuracy: 0.7055\n",
            "Epoch 7/10\n",
            "37/37 [==============================] - 31s 826ms/step - loss: 0.5682 - accuracy: 0.8123 - val_loss: 0.7792 - val_accuracy: 0.7507\n",
            "Epoch 8/10\n",
            "37/37 [==============================] - 31s 838ms/step - loss: 0.4568 - accuracy: 0.8606 - val_loss: 0.5923 - val_accuracy: 0.8205\n",
            "Epoch 9/10\n",
            "37/37 [==============================] - 32s 871ms/step - loss: 0.3242 - accuracy: 0.9074 - val_loss: 0.3794 - val_accuracy: 0.8996\n",
            "Epoch 10/10\n",
            "37/37 [==============================] - 32s 861ms/step - loss: 0.2281 - accuracy: 0.9463 - val_loss: 0.2831 - val_accuracy: 0.9361\n"
          ]
        }
      ]
    },
    {
      "cell_type": "code",
      "source": [
        "history2_bi = model2_bi.fit(X_tokens_pad, y_pos, epochs=10, batch_size=128, validation_data=(val_tokens_pad, y_val_pad), validation_steps=1)"
      ],
      "metadata": {
        "colab": {
          "base_uri": "https://localhost:8080/"
        },
        "id": "vPjbjH_P84um",
        "outputId": "938725af-e413-4eeb-b642-402ce26d40e8"
      },
      "execution_count": 376,
      "outputs": [
        {
          "output_type": "stream",
          "name": "stdout",
          "text": [
            "Epoch 1/10\n",
            "37/37 [==============================] - 35s 800ms/step - loss: 2.1178 - accuracy: 0.6660 - val_loss: 1.5150 - val_accuracy: 0.5598\n",
            "Epoch 2/10\n",
            "37/37 [==============================] - 30s 809ms/step - loss: 0.8958 - accuracy: 0.7168 - val_loss: 1.0294 - val_accuracy: 0.7039\n",
            "Epoch 3/10\n",
            "37/37 [==============================] - 28s 761ms/step - loss: 0.6631 - accuracy: 0.8020 - val_loss: 1.0728 - val_accuracy: 0.6864\n",
            "Epoch 4/10\n",
            "37/37 [==============================] - 27s 726ms/step - loss: 0.5690 - accuracy: 0.8195 - val_loss: 0.8478 - val_accuracy: 0.7673\n",
            "Epoch 5/10\n",
            "37/37 [==============================] - 29s 776ms/step - loss: 0.4125 - accuracy: 0.8753 - val_loss: 0.5260 - val_accuracy: 0.8541\n",
            "Epoch 6/10\n",
            "37/37 [==============================] - 28s 766ms/step - loss: 0.2427 - accuracy: 0.9411 - val_loss: 0.2907 - val_accuracy: 0.9391\n",
            "Epoch 7/10\n",
            "37/37 [==============================] - 27s 720ms/step - loss: 0.1383 - accuracy: 0.9726 - val_loss: 0.1993 - val_accuracy: 0.9600\n",
            "Epoch 8/10\n",
            "37/37 [==============================] - 27s 712ms/step - loss: 0.0887 - accuracy: 0.9830 - val_loss: 0.1699 - val_accuracy: 0.9645\n",
            "Epoch 9/10\n",
            "37/37 [==============================] - 28s 773ms/step - loss: 0.0640 - accuracy: 0.9867 - val_loss: 0.1578 - val_accuracy: 0.9666\n",
            "Epoch 10/10\n",
            "37/37 [==============================] - 29s 777ms/step - loss: 0.0502 - accuracy: 0.9886 - val_loss: 0.1515 - val_accuracy: 0.9675\n"
          ]
        }
      ]
    },
    {
      "cell_type": "code",
      "source": [
        "history3_bi = model3_bi.fit(X_tokens_pad, y_pos, epochs=10, batch_size=128, validation_data=(val_tokens_pad, y_val_pad), validation_steps=1)"
      ],
      "metadata": {
        "colab": {
          "base_uri": "https://localhost:8080/"
        },
        "id": "9Z6lVnxP85Ln",
        "outputId": "c5cabf0d-53ce-4d0f-9288-36abdb61a8d4"
      },
      "execution_count": 377,
      "outputs": [
        {
          "output_type": "stream",
          "name": "stdout",
          "text": [
            "Epoch 1/10\n",
            "37/37 [==============================] - 56s 1s/step - loss: 1.7939 - accuracy: 0.6996 - val_loss: 1.3285 - val_accuracy: 0.6658\n",
            "Epoch 2/10\n",
            "37/37 [==============================] - 43s 1s/step - loss: 0.7588 - accuracy: 0.7896 - val_loss: 1.1581 - val_accuracy: 0.6942\n",
            "Epoch 3/10\n",
            "37/37 [==============================] - 31s 848ms/step - loss: 0.6992 - accuracy: 0.7947 - val_loss: 1.0235 - val_accuracy: 0.7028\n",
            "Epoch 4/10\n",
            "37/37 [==============================] - 31s 833ms/step - loss: 0.6715 - accuracy: 0.7986 - val_loss: 1.1565 - val_accuracy: 0.6986\n",
            "Epoch 5/10\n",
            "37/37 [==============================] - 32s 881ms/step - loss: 0.6508 - accuracy: 0.8003 - val_loss: 0.9313 - val_accuracy: 0.7122\n",
            "Epoch 6/10\n",
            "37/37 [==============================] - 31s 834ms/step - loss: 0.6260 - accuracy: 0.8043 - val_loss: 0.8947 - val_accuracy: 0.7148\n",
            "Epoch 7/10\n",
            "37/37 [==============================] - 31s 826ms/step - loss: 0.5766 - accuracy: 0.8221 - val_loss: 0.7729 - val_accuracy: 0.7859\n",
            "Epoch 8/10\n",
            "37/37 [==============================] - 30s 810ms/step - loss: 0.4796 - accuracy: 0.8539 - val_loss: 0.5769 - val_accuracy: 0.8112\n",
            "Epoch 9/10\n",
            "37/37 [==============================] - 31s 828ms/step - loss: 0.3627 - accuracy: 0.8835 - val_loss: 0.4586 - val_accuracy: 0.8727\n",
            "Epoch 10/10\n",
            "37/37 [==============================] - 30s 806ms/step - loss: 0.2565 - accuracy: 0.9292 - val_loss: 0.2806 - val_accuracy: 0.9344\n"
          ]
        }
      ]
    },
    {
      "cell_type": "code",
      "source": [
        "print(\"Bi-Simple RNN\")\n",
        "loss, accuracy = model1_bi.evaluate(test_tokens_pad, y_test_pad)\n",
        "print(\"Test Loss:\", loss)\n",
        "print(\"Test Accuracy:\", accuracy)\n",
        "print('_' * 73)\n",
        "\n",
        "print(\"Bi-GRU\")\n",
        "loss, accuracy = model2_bi.evaluate(test_tokens_pad, y_test_pad)\n",
        "print(\"Test Loss:\", loss)\n",
        "print(\"Test Accuracy:\", accuracy)\n",
        "print('_' * 73)\n",
        "\n",
        "print(\"Bi-LSTM\")\n",
        "loss, accuracy = model3_bi.evaluate(test_tokens_pad, y_test_pad)\n",
        "print(\"Test Loss:\", loss)\n",
        "print(\"Test Accuracy:\", accuracy)\n",
        "print('_' * 73)"
      ],
      "metadata": {
        "colab": {
          "base_uri": "https://localhost:8080/"
        },
        "id": "qOMrNP97_Zye",
        "outputId": "84efa1a4-6c14-4447-97ad-51881e483d58"
      },
      "execution_count": 378,
      "outputs": [
        {
          "output_type": "stream",
          "name": "stdout",
          "text": [
            "Bi-Simple RNN\n",
            "24/24 [==============================] - 4s 147ms/step - loss: 0.2844 - accuracy: 0.9304\n",
            "Test Loss: 0.2843877375125885\n",
            "Test Accuracy: 0.9304155707359314\n",
            "_________________________________________________________________________\n",
            "Bi-GRU\n",
            "24/24 [==============================] - 2s 64ms/step - loss: 0.1635 - accuracy: 0.9586\n",
            "Test Loss: 0.16349530220031738\n",
            "Test Accuracy: 0.9585657119750977\n",
            "_________________________________________________________________________\n",
            "Bi-LSTM\n",
            "24/24 [==============================] - 2s 91ms/step - loss: 0.2853 - accuracy: 0.9269\n",
            "Test Loss: 0.28529930114746094\n",
            "Test Accuracy: 0.9268766641616821\n",
            "_________________________________________________________________________\n"
          ]
        }
      ]
    },
    {
      "cell_type": "markdown",
      "source": [
        "# Optimization Using ❤️ OPTUNA ❤️"
      ],
      "metadata": {
        "id": "KpGWZgHHJLyQ"
      }
    },
    {
      "cell_type": "code",
      "source": [
        "!pip install optuna\n"
      ],
      "metadata": {
        "colab": {
          "base_uri": "https://localhost:8080/"
        },
        "id": "M0idQgj8A0ed",
        "outputId": "ecf68916-95c9-45ba-af76-0d1c3ad7933d"
      },
      "execution_count": 37,
      "outputs": [
        {
          "output_type": "stream",
          "name": "stdout",
          "text": [
            "Collecting optuna\n",
            "  Downloading optuna-3.6.1-py3-none-any.whl (380 kB)\n",
            "\u001b[2K     \u001b[90m━━━━━━━━━━━━━━━━━━━━━━━━━━━━━━━━━━━━━━━━\u001b[0m \u001b[32m380.1/380.1 kB\u001b[0m \u001b[31m6.4 MB/s\u001b[0m eta \u001b[36m0:00:00\u001b[0m\n",
            "\u001b[?25hCollecting alembic>=1.5.0 (from optuna)\n",
            "  Downloading alembic-1.13.1-py3-none-any.whl (233 kB)\n",
            "\u001b[2K     \u001b[90m━━━━━━━━━━━━━━━━━━━━━━━━━━━━━━━━━━━━━━━━\u001b[0m \u001b[32m233.4/233.4 kB\u001b[0m \u001b[31m9.3 MB/s\u001b[0m eta \u001b[36m0:00:00\u001b[0m\n",
            "\u001b[?25hCollecting colorlog (from optuna)\n",
            "  Downloading colorlog-6.8.2-py3-none-any.whl (11 kB)\n",
            "Requirement already satisfied: numpy in /usr/local/lib/python3.10/dist-packages (from optuna) (1.25.2)\n",
            "Requirement already satisfied: packaging>=20.0 in /usr/local/lib/python3.10/dist-packages (from optuna) (24.0)\n",
            "Requirement already satisfied: sqlalchemy>=1.3.0 in /usr/local/lib/python3.10/dist-packages (from optuna) (2.0.30)\n",
            "Requirement already satisfied: tqdm in /usr/local/lib/python3.10/dist-packages (from optuna) (4.66.4)\n",
            "Requirement already satisfied: PyYAML in /usr/local/lib/python3.10/dist-packages (from optuna) (6.0.1)\n",
            "Collecting Mako (from alembic>=1.5.0->optuna)\n",
            "  Downloading Mako-1.3.5-py3-none-any.whl (78 kB)\n",
            "\u001b[2K     \u001b[90m━━━━━━━━━━━━━━━━━━━━━━━━━━━━━━━━━━━━━━━━\u001b[0m \u001b[32m78.6/78.6 kB\u001b[0m \u001b[31m7.4 MB/s\u001b[0m eta \u001b[36m0:00:00\u001b[0m\n",
            "\u001b[?25hRequirement already satisfied: typing-extensions>=4 in /usr/local/lib/python3.10/dist-packages (from alembic>=1.5.0->optuna) (4.11.0)\n",
            "Requirement already satisfied: greenlet!=0.4.17 in /usr/local/lib/python3.10/dist-packages (from sqlalchemy>=1.3.0->optuna) (3.0.3)\n",
            "Requirement already satisfied: MarkupSafe>=0.9.2 in /usr/local/lib/python3.10/dist-packages (from Mako->alembic>=1.5.0->optuna) (2.1.5)\n",
            "Installing collected packages: Mako, colorlog, alembic, optuna\n",
            "Successfully installed Mako-1.3.5 alembic-1.13.1 colorlog-6.8.2 optuna-3.6.1\n"
          ]
        }
      ]
    },
    {
      "cell_type": "code",
      "source": [
        "import optuna\n",
        "def objective(trial):\n",
        "    output_dim = trial.suggest_categorical('output_dim', [32, 64, 128])\n",
        "    network_type = trial.suggest_categorical('Network', ['SimpleRNN', 'GRU', 'LSTM'])\n",
        "    batch_size = trial.suggest_categorical('batch_size', [64, 128, 256])\n",
        "\n",
        "    if network_type == 'SimpleRNN':\n",
        "        Network = SimpleRNN\n",
        "    elif network_type == 'GRU':\n",
        "        Network = GRU\n",
        "    else:\n",
        "        Network = LSTM\n",
        "\n",
        "    model = build_rnn_model(input_dim=len(token_tokenizer.word_index) + 1,\n",
        "                            output_dim=output_dim,\n",
        "                            input_length=None,\n",
        "                            Network=Network)\n",
        "\n",
        "    history = model.fit(X_tokens_pad, y_pos,\n",
        "                        epochs=5,\n",
        "                        batch_size=batch_size,\n",
        "                        validation_data=(val_tokens_pad, y_val_pad),\n",
        "                        validation_steps=1,\n",
        "                        verbose=0)\n",
        "\n",
        "    val_loss = history.history['val_loss'][-1]\n",
        "\n",
        "    return val_loss\n",
        "\n",
        "study = optuna.create_study(direction='minimize')\n",
        "\n",
        "study.optimize(objective, n_trials=20)\n",
        "\n",
        "print(\"Best hyperparameters: \", study.best_params)\n"
      ],
      "metadata": {
        "colab": {
          "base_uri": "https://localhost:8080/"
        },
        "id": "37045gQrA3m3",
        "outputId": "8894d228-968a-44aa-8192-eed5ceba32f7"
      },
      "execution_count": 42,
      "outputs": [
        {
          "output_type": "stream",
          "name": "stderr",
          "text": [
            "[I 2024-05-21 12:22:54,624] A new study created in memory with name: no-name-8f37eda6-87df-4aa6-8b08-3f626e74c0bc\n",
            "[I 2024-05-21 12:23:38,502] Trial 0 finished with value: 0.2282189130783081 and parameters: {'output_dim': 128, 'Network': 'GRU', 'batch_size': 64}. Best is trial 0 with value: 0.2282189130783081.\n",
            "[I 2024-05-21 12:24:11,476] Trial 1 finished with value: 1.0313458442687988 and parameters: {'output_dim': 32, 'Network': 'GRU', 'batch_size': 128}. Best is trial 0 with value: 0.2282189130783081.\n",
            "[I 2024-05-21 12:24:53,227] Trial 2 finished with value: 0.24118973314762115 and parameters: {'output_dim': 64, 'Network': 'GRU', 'batch_size': 64}. Best is trial 0 with value: 0.2282189130783081.\n",
            "[I 2024-05-21 12:25:13,176] Trial 3 finished with value: 1.4294023513793945 and parameters: {'output_dim': 32, 'Network': 'LSTM', 'batch_size': 256}. Best is trial 0 with value: 0.2282189130783081.\n",
            "[I 2024-05-21 12:25:55,278] Trial 4 finished with value: 1.0098556280136108 and parameters: {'output_dim': 64, 'Network': 'SimpleRNN', 'batch_size': 256}. Best is trial 0 with value: 0.2282189130783081.\n",
            "[I 2024-05-21 12:27:00,150] Trial 5 finished with value: 0.3301318287849426 and parameters: {'output_dim': 64, 'Network': 'SimpleRNN', 'batch_size': 64}. Best is trial 0 with value: 0.2282189130783081.\n",
            "[I 2024-05-21 12:27:30,267] Trial 6 finished with value: 0.27795466780662537 and parameters: {'output_dim': 64, 'Network': 'GRU', 'batch_size': 64}. Best is trial 0 with value: 0.2282189130783081.\n",
            "[I 2024-05-21 12:28:13,072] Trial 7 finished with value: 0.3706270456314087 and parameters: {'output_dim': 128, 'Network': 'LSTM', 'batch_size': 64}. Best is trial 0 with value: 0.2282189130783081.\n",
            "[I 2024-05-21 12:28:56,126] Trial 8 finished with value: 0.5143187046051025 and parameters: {'output_dim': 64, 'Network': 'LSTM', 'batch_size': 64}. Best is trial 0 with value: 0.2282189130783081.\n",
            "[I 2024-05-21 12:29:16,063] Trial 9 finished with value: 0.7338431477546692 and parameters: {'output_dim': 128, 'Network': 'GRU', 'batch_size': 128}. Best is trial 0 with value: 0.2282189130783081.\n",
            "[I 2024-05-21 12:29:35,574] Trial 10 finished with value: 0.6302067637443542 and parameters: {'output_dim': 128, 'Network': 'GRU', 'batch_size': 128}. Best is trial 0 with value: 0.2282189130783081.\n",
            "[I 2024-05-21 12:30:19,142] Trial 11 finished with value: 0.23123902082443237 and parameters: {'output_dim': 128, 'Network': 'GRU', 'batch_size': 64}. Best is trial 0 with value: 0.2282189130783081.\n",
            "[I 2024-05-21 12:31:01,928] Trial 12 finished with value: 0.22502297163009644 and parameters: {'output_dim': 128, 'Network': 'GRU', 'batch_size': 64}. Best is trial 12 with value: 0.22502297163009644.\n",
            "[I 2024-05-21 12:31:30,163] Trial 13 finished with value: 0.24648883938789368 and parameters: {'output_dim': 128, 'Network': 'GRU', 'batch_size': 64}. Best is trial 12 with value: 0.22502297163009644.\n",
            "[I 2024-05-21 12:32:12,923] Trial 14 finished with value: 0.22028419375419617 and parameters: {'output_dim': 128, 'Network': 'GRU', 'batch_size': 64}. Best is trial 14 with value: 0.22028419375419617.\n",
            "[I 2024-05-21 12:32:33,814] Trial 15 finished with value: 0.907782793045044 and parameters: {'output_dim': 128, 'Network': 'SimpleRNN', 'batch_size': 256}. Best is trial 14 with value: 0.22028419375419617.\n",
            "[I 2024-05-21 12:33:03,801] Trial 16 finished with value: 0.23584187030792236 and parameters: {'output_dim': 128, 'Network': 'GRU', 'batch_size': 64}. Best is trial 14 with value: 0.22028419375419617.\n",
            "[I 2024-05-21 12:33:53,552] Trial 17 finished with value: 0.3788062632083893 and parameters: {'output_dim': 32, 'Network': 'GRU', 'batch_size': 64}. Best is trial 14 with value: 0.22028419375419617.\n",
            "[I 2024-05-21 12:34:16,594] Trial 18 finished with value: 1.0662999153137207 and parameters: {'output_dim': 128, 'Network': 'SimpleRNN', 'batch_size': 256}. Best is trial 14 with value: 0.22028419375419617.\n",
            "[I 2024-05-21 12:34:39,330] Trial 19 finished with value: 1.0165684223175049 and parameters: {'output_dim': 128, 'Network': 'LSTM', 'batch_size': 128}. Best is trial 14 with value: 0.22028419375419617.\n"
          ]
        },
        {
          "output_type": "stream",
          "name": "stdout",
          "text": [
            "Best hyperparameters:  {'output_dim': 128, 'Network': 'GRU', 'batch_size': 64}\n"
          ]
        }
      ]
    },
    {
      "cell_type": "code",
      "source": [],
      "metadata": {
        "id": "Gff0GjYYIyd_"
      },
      "execution_count": null,
      "outputs": []
    },
    {
      "cell_type": "markdown",
      "metadata": {
        "id": "RuHCRJ_o5zIs"
      },
      "source": [
        "### Conclusion and final results\n"
      ]
    },
    {
      "cell_type": "code",
      "execution_count": 43,
      "metadata": {
        "id": "ejCRqLnT5zIu",
        "colab": {
          "base_uri": "https://localhost:8080/",
          "height": 542
        },
        "outputId": "5ed01c3b-7fc1-40b5-a83d-4cd1a1150708"
      },
      "outputs": [
        {
          "output_type": "display_data",
          "data": {
            "text/html": [
              "<html>\n",
              "<head><meta charset=\"utf-8\" /></head>\n",
              "<body>\n",
              "    <div>            <script src=\"https://cdnjs.cloudflare.com/ajax/libs/mathjax/2.7.5/MathJax.js?config=TeX-AMS-MML_SVG\"></script><script type=\"text/javascript\">if (window.MathJax && window.MathJax.Hub && window.MathJax.Hub.Config) {window.MathJax.Hub.Config({SVG: {font: \"STIX-Web\"}});}</script>                <script type=\"text/javascript\">window.PlotlyConfig = {MathJaxConfig: 'local'};</script>\n",
              "        <script charset=\"utf-8\" src=\"https://cdn.plot.ly/plotly-2.24.1.min.js\"></script>                <div id=\"597d9084-632b-4e6e-924b-c74fd4c7899b\" class=\"plotly-graph-div\" style=\"height:525px; width:100%;\"></div>            <script type=\"text/javascript\">                                    window.PLOTLYENV=window.PLOTLYENV || {};                                    if (document.getElementById(\"597d9084-632b-4e6e-924b-c74fd4c7899b\")) {                    Plotly.newPlot(                        \"597d9084-632b-4e6e-924b-c74fd4c7899b\",                        [{\"mode\":\"markers\",\"name\":\"Objective Value\",\"x\":[0,1,2,3,4,5,6,7,8,9,10,11,12,13,14,15,16,17,18,19],\"y\":[0.2282189130783081,1.0313458442687988,0.24118973314762115,1.4294023513793945,1.0098556280136108,0.3301318287849426,0.27795466780662537,0.3706270456314087,0.5143187046051025,0.7338431477546692,0.6302067637443542,0.23123902082443237,0.22502297163009644,0.24648883938789368,0.22028419375419617,0.907782793045044,0.23584187030792236,0.3788062632083893,1.0662999153137207,1.0165684223175049],\"type\":\"scatter\"},{\"mode\":\"lines\",\"name\":\"Best Value\",\"x\":[0,1,2,3,4,5,6,7,8,9,10,11,12,13,14,15,16,17,18,19],\"y\":[0.2282189130783081,0.2282189130783081,0.2282189130783081,0.2282189130783081,0.2282189130783081,0.2282189130783081,0.2282189130783081,0.2282189130783081,0.2282189130783081,0.2282189130783081,0.2282189130783081,0.2282189130783081,0.22502297163009644,0.22502297163009644,0.22028419375419617,0.22028419375419617,0.22028419375419617,0.22028419375419617,0.22028419375419617,0.22028419375419617],\"type\":\"scatter\"},{\"marker\":{\"color\":\"#cccccc\"},\"mode\":\"markers\",\"name\":\"Infeasible Trial\",\"showlegend\":false,\"x\":[],\"y\":[],\"type\":\"scatter\"}],                        {\"title\":{\"text\":\"Optimization History Plot\"},\"xaxis\":{\"title\":{\"text\":\"Trial\"}},\"yaxis\":{\"title\":{\"text\":\"Objective Value\"}},\"template\":{\"data\":{\"histogram2dcontour\":[{\"type\":\"histogram2dcontour\",\"colorbar\":{\"outlinewidth\":0,\"ticks\":\"\"},\"colorscale\":[[0.0,\"#0d0887\"],[0.1111111111111111,\"#46039f\"],[0.2222222222222222,\"#7201a8\"],[0.3333333333333333,\"#9c179e\"],[0.4444444444444444,\"#bd3786\"],[0.5555555555555556,\"#d8576b\"],[0.6666666666666666,\"#ed7953\"],[0.7777777777777778,\"#fb9f3a\"],[0.8888888888888888,\"#fdca26\"],[1.0,\"#f0f921\"]]}],\"choropleth\":[{\"type\":\"choropleth\",\"colorbar\":{\"outlinewidth\":0,\"ticks\":\"\"}}],\"histogram2d\":[{\"type\":\"histogram2d\",\"colorbar\":{\"outlinewidth\":0,\"ticks\":\"\"},\"colorscale\":[[0.0,\"#0d0887\"],[0.1111111111111111,\"#46039f\"],[0.2222222222222222,\"#7201a8\"],[0.3333333333333333,\"#9c179e\"],[0.4444444444444444,\"#bd3786\"],[0.5555555555555556,\"#d8576b\"],[0.6666666666666666,\"#ed7953\"],[0.7777777777777778,\"#fb9f3a\"],[0.8888888888888888,\"#fdca26\"],[1.0,\"#f0f921\"]]}],\"heatmap\":[{\"type\":\"heatmap\",\"colorbar\":{\"outlinewidth\":0,\"ticks\":\"\"},\"colorscale\":[[0.0,\"#0d0887\"],[0.1111111111111111,\"#46039f\"],[0.2222222222222222,\"#7201a8\"],[0.3333333333333333,\"#9c179e\"],[0.4444444444444444,\"#bd3786\"],[0.5555555555555556,\"#d8576b\"],[0.6666666666666666,\"#ed7953\"],[0.7777777777777778,\"#fb9f3a\"],[0.8888888888888888,\"#fdca26\"],[1.0,\"#f0f921\"]]}],\"heatmapgl\":[{\"type\":\"heatmapgl\",\"colorbar\":{\"outlinewidth\":0,\"ticks\":\"\"},\"colorscale\":[[0.0,\"#0d0887\"],[0.1111111111111111,\"#46039f\"],[0.2222222222222222,\"#7201a8\"],[0.3333333333333333,\"#9c179e\"],[0.4444444444444444,\"#bd3786\"],[0.5555555555555556,\"#d8576b\"],[0.6666666666666666,\"#ed7953\"],[0.7777777777777778,\"#fb9f3a\"],[0.8888888888888888,\"#fdca26\"],[1.0,\"#f0f921\"]]}],\"contourcarpet\":[{\"type\":\"contourcarpet\",\"colorbar\":{\"outlinewidth\":0,\"ticks\":\"\"}}],\"contour\":[{\"type\":\"contour\",\"colorbar\":{\"outlinewidth\":0,\"ticks\":\"\"},\"colorscale\":[[0.0,\"#0d0887\"],[0.1111111111111111,\"#46039f\"],[0.2222222222222222,\"#7201a8\"],[0.3333333333333333,\"#9c179e\"],[0.4444444444444444,\"#bd3786\"],[0.5555555555555556,\"#d8576b\"],[0.6666666666666666,\"#ed7953\"],[0.7777777777777778,\"#fb9f3a\"],[0.8888888888888888,\"#fdca26\"],[1.0,\"#f0f921\"]]}],\"surface\":[{\"type\":\"surface\",\"colorbar\":{\"outlinewidth\":0,\"ticks\":\"\"},\"colorscale\":[[0.0,\"#0d0887\"],[0.1111111111111111,\"#46039f\"],[0.2222222222222222,\"#7201a8\"],[0.3333333333333333,\"#9c179e\"],[0.4444444444444444,\"#bd3786\"],[0.5555555555555556,\"#d8576b\"],[0.6666666666666666,\"#ed7953\"],[0.7777777777777778,\"#fb9f3a\"],[0.8888888888888888,\"#fdca26\"],[1.0,\"#f0f921\"]]}],\"mesh3d\":[{\"type\":\"mesh3d\",\"colorbar\":{\"outlinewidth\":0,\"ticks\":\"\"}}],\"scatter\":[{\"fillpattern\":{\"fillmode\":\"overlay\",\"size\":10,\"solidity\":0.2},\"type\":\"scatter\"}],\"parcoords\":[{\"type\":\"parcoords\",\"line\":{\"colorbar\":{\"outlinewidth\":0,\"ticks\":\"\"}}}],\"scatterpolargl\":[{\"type\":\"scatterpolargl\",\"marker\":{\"colorbar\":{\"outlinewidth\":0,\"ticks\":\"\"}}}],\"bar\":[{\"error_x\":{\"color\":\"#2a3f5f\"},\"error_y\":{\"color\":\"#2a3f5f\"},\"marker\":{\"line\":{\"color\":\"#E5ECF6\",\"width\":0.5},\"pattern\":{\"fillmode\":\"overlay\",\"size\":10,\"solidity\":0.2}},\"type\":\"bar\"}],\"scattergeo\":[{\"type\":\"scattergeo\",\"marker\":{\"colorbar\":{\"outlinewidth\":0,\"ticks\":\"\"}}}],\"scatterpolar\":[{\"type\":\"scatterpolar\",\"marker\":{\"colorbar\":{\"outlinewidth\":0,\"ticks\":\"\"}}}],\"histogram\":[{\"marker\":{\"pattern\":{\"fillmode\":\"overlay\",\"size\":10,\"solidity\":0.2}},\"type\":\"histogram\"}],\"scattergl\":[{\"type\":\"scattergl\",\"marker\":{\"colorbar\":{\"outlinewidth\":0,\"ticks\":\"\"}}}],\"scatter3d\":[{\"type\":\"scatter3d\",\"line\":{\"colorbar\":{\"outlinewidth\":0,\"ticks\":\"\"}},\"marker\":{\"colorbar\":{\"outlinewidth\":0,\"ticks\":\"\"}}}],\"scattermapbox\":[{\"type\":\"scattermapbox\",\"marker\":{\"colorbar\":{\"outlinewidth\":0,\"ticks\":\"\"}}}],\"scatterternary\":[{\"type\":\"scatterternary\",\"marker\":{\"colorbar\":{\"outlinewidth\":0,\"ticks\":\"\"}}}],\"scattercarpet\":[{\"type\":\"scattercarpet\",\"marker\":{\"colorbar\":{\"outlinewidth\":0,\"ticks\":\"\"}}}],\"carpet\":[{\"aaxis\":{\"endlinecolor\":\"#2a3f5f\",\"gridcolor\":\"white\",\"linecolor\":\"white\",\"minorgridcolor\":\"white\",\"startlinecolor\":\"#2a3f5f\"},\"baxis\":{\"endlinecolor\":\"#2a3f5f\",\"gridcolor\":\"white\",\"linecolor\":\"white\",\"minorgridcolor\":\"white\",\"startlinecolor\":\"#2a3f5f\"},\"type\":\"carpet\"}],\"table\":[{\"cells\":{\"fill\":{\"color\":\"#EBF0F8\"},\"line\":{\"color\":\"white\"}},\"header\":{\"fill\":{\"color\":\"#C8D4E3\"},\"line\":{\"color\":\"white\"}},\"type\":\"table\"}],\"barpolar\":[{\"marker\":{\"line\":{\"color\":\"#E5ECF6\",\"width\":0.5},\"pattern\":{\"fillmode\":\"overlay\",\"size\":10,\"solidity\":0.2}},\"type\":\"barpolar\"}],\"pie\":[{\"automargin\":true,\"type\":\"pie\"}]},\"layout\":{\"autotypenumbers\":\"strict\",\"colorway\":[\"#636efa\",\"#EF553B\",\"#00cc96\",\"#ab63fa\",\"#FFA15A\",\"#19d3f3\",\"#FF6692\",\"#B6E880\",\"#FF97FF\",\"#FECB52\"],\"font\":{\"color\":\"#2a3f5f\"},\"hovermode\":\"closest\",\"hoverlabel\":{\"align\":\"left\"},\"paper_bgcolor\":\"white\",\"plot_bgcolor\":\"#E5ECF6\",\"polar\":{\"bgcolor\":\"#E5ECF6\",\"angularaxis\":{\"gridcolor\":\"white\",\"linecolor\":\"white\",\"ticks\":\"\"},\"radialaxis\":{\"gridcolor\":\"white\",\"linecolor\":\"white\",\"ticks\":\"\"}},\"ternary\":{\"bgcolor\":\"#E5ECF6\",\"aaxis\":{\"gridcolor\":\"white\",\"linecolor\":\"white\",\"ticks\":\"\"},\"baxis\":{\"gridcolor\":\"white\",\"linecolor\":\"white\",\"ticks\":\"\"},\"caxis\":{\"gridcolor\":\"white\",\"linecolor\":\"white\",\"ticks\":\"\"}},\"coloraxis\":{\"colorbar\":{\"outlinewidth\":0,\"ticks\":\"\"}},\"colorscale\":{\"sequential\":[[0.0,\"#0d0887\"],[0.1111111111111111,\"#46039f\"],[0.2222222222222222,\"#7201a8\"],[0.3333333333333333,\"#9c179e\"],[0.4444444444444444,\"#bd3786\"],[0.5555555555555556,\"#d8576b\"],[0.6666666666666666,\"#ed7953\"],[0.7777777777777778,\"#fb9f3a\"],[0.8888888888888888,\"#fdca26\"],[1.0,\"#f0f921\"]],\"sequentialminus\":[[0.0,\"#0d0887\"],[0.1111111111111111,\"#46039f\"],[0.2222222222222222,\"#7201a8\"],[0.3333333333333333,\"#9c179e\"],[0.4444444444444444,\"#bd3786\"],[0.5555555555555556,\"#d8576b\"],[0.6666666666666666,\"#ed7953\"],[0.7777777777777778,\"#fb9f3a\"],[0.8888888888888888,\"#fdca26\"],[1.0,\"#f0f921\"]],\"diverging\":[[0,\"#8e0152\"],[0.1,\"#c51b7d\"],[0.2,\"#de77ae\"],[0.3,\"#f1b6da\"],[0.4,\"#fde0ef\"],[0.5,\"#f7f7f7\"],[0.6,\"#e6f5d0\"],[0.7,\"#b8e186\"],[0.8,\"#7fbc41\"],[0.9,\"#4d9221\"],[1,\"#276419\"]]},\"xaxis\":{\"gridcolor\":\"white\",\"linecolor\":\"white\",\"ticks\":\"\",\"title\":{\"standoff\":15},\"zerolinecolor\":\"white\",\"automargin\":true,\"zerolinewidth\":2},\"yaxis\":{\"gridcolor\":\"white\",\"linecolor\":\"white\",\"ticks\":\"\",\"title\":{\"standoff\":15},\"zerolinecolor\":\"white\",\"automargin\":true,\"zerolinewidth\":2},\"scene\":{\"xaxis\":{\"backgroundcolor\":\"#E5ECF6\",\"gridcolor\":\"white\",\"linecolor\":\"white\",\"showbackground\":true,\"ticks\":\"\",\"zerolinecolor\":\"white\",\"gridwidth\":2},\"yaxis\":{\"backgroundcolor\":\"#E5ECF6\",\"gridcolor\":\"white\",\"linecolor\":\"white\",\"showbackground\":true,\"ticks\":\"\",\"zerolinecolor\":\"white\",\"gridwidth\":2},\"zaxis\":{\"backgroundcolor\":\"#E5ECF6\",\"gridcolor\":\"white\",\"linecolor\":\"white\",\"showbackground\":true,\"ticks\":\"\",\"zerolinecolor\":\"white\",\"gridwidth\":2}},\"shapedefaults\":{\"line\":{\"color\":\"#2a3f5f\"}},\"annotationdefaults\":{\"arrowcolor\":\"#2a3f5f\",\"arrowhead\":0,\"arrowwidth\":1},\"geo\":{\"bgcolor\":\"white\",\"landcolor\":\"#E5ECF6\",\"subunitcolor\":\"white\",\"showland\":true,\"showlakes\":true,\"lakecolor\":\"white\"},\"title\":{\"x\":0.05},\"mapbox\":{\"style\":\"light\"}}}},                        {\"responsive\": true}                    ).then(function(){\n",
              "                            \n",
              "var gd = document.getElementById('597d9084-632b-4e6e-924b-c74fd4c7899b');\n",
              "var x = new MutationObserver(function (mutations, observer) {{\n",
              "        var display = window.getComputedStyle(gd).display;\n",
              "        if (!display || display === 'none') {{\n",
              "            console.log([gd, 'removed!']);\n",
              "            Plotly.purge(gd);\n",
              "            observer.disconnect();\n",
              "        }}\n",
              "}});\n",
              "\n",
              "// Listen for the removal of the full notebook cells\n",
              "var notebookContainer = gd.closest('#notebook-container');\n",
              "if (notebookContainer) {{\n",
              "    x.observe(notebookContainer, {childList: true});\n",
              "}}\n",
              "\n",
              "// Listen for the clearing of the current output cell\n",
              "var outputEl = gd.closest('.output');\n",
              "if (outputEl) {{\n",
              "    x.observe(outputEl, {childList: true});\n",
              "}}\n",
              "\n",
              "                        })                };                            </script>        </div>\n",
              "</body>\n",
              "</html>"
            ]
          },
          "metadata": {}
        }
      ],
      "source": [
        "fig = optuna.visualization.plot_optimization_history(study)\n",
        "fig.show()"
      ]
    },
    {
      "cell_type": "code",
      "execution_count": 44,
      "metadata": {
        "id": "QCNwBFt15zIw",
        "colab": {
          "base_uri": "https://localhost:8080/",
          "height": 542
        },
        "outputId": "6f7e3eee-e17e-462a-923b-7beaa241143b"
      },
      "outputs": [
        {
          "output_type": "display_data",
          "data": {
            "text/html": [
              "<html>\n",
              "<head><meta charset=\"utf-8\" /></head>\n",
              "<body>\n",
              "    <div>            <script src=\"https://cdnjs.cloudflare.com/ajax/libs/mathjax/2.7.5/MathJax.js?config=TeX-AMS-MML_SVG\"></script><script type=\"text/javascript\">if (window.MathJax && window.MathJax.Hub && window.MathJax.Hub.Config) {window.MathJax.Hub.Config({SVG: {font: \"STIX-Web\"}});}</script>                <script type=\"text/javascript\">window.PlotlyConfig = {MathJaxConfig: 'local'};</script>\n",
              "        <script charset=\"utf-8\" src=\"https://cdn.plot.ly/plotly-2.24.1.min.js\"></script>                <div id=\"b907d7b5-48d0-45ea-b9d9-3fa383e18a5a\" class=\"plotly-graph-div\" style=\"height:525px; width:100%;\"></div>            <script type=\"text/javascript\">                                    window.PLOTLYENV=window.PLOTLYENV || {};                                    if (document.getElementById(\"b907d7b5-48d0-45ea-b9d9-3fa383e18a5a\")) {                    Plotly.newPlot(                        \"b907d7b5-48d0-45ea-b9d9-3fa383e18a5a\",                        [{\"cliponaxis\":false,\"hovertemplate\":[\"output_dim (CategoricalDistribution): 0.037433008361285616\\u003cextra\\u003e\\u003c\\u002fextra\\u003e\",\"Network (CategoricalDistribution): 0.06370503343193783\\u003cextra\\u003e\\u003c\\u002fextra\\u003e\",\"batch_size (CategoricalDistribution): 0.8988619582067766\\u003cextra\\u003e\\u003c\\u002fextra\\u003e\"],\"name\":\"Objective Value\",\"orientation\":\"h\",\"text\":[\"0.04\",\"0.06\",\"0.90\"],\"textposition\":\"outside\",\"x\":[0.037433008361285616,0.06370503343193783,0.8988619582067766],\"y\":[\"output_dim\",\"Network\",\"batch_size\"],\"type\":\"bar\"}],                        {\"title\":{\"text\":\"Hyperparameter Importances\"},\"xaxis\":{\"title\":{\"text\":\"Hyperparameter Importance\"}},\"yaxis\":{\"title\":{\"text\":\"Hyperparameter\"}},\"template\":{\"data\":{\"histogram2dcontour\":[{\"type\":\"histogram2dcontour\",\"colorbar\":{\"outlinewidth\":0,\"ticks\":\"\"},\"colorscale\":[[0.0,\"#0d0887\"],[0.1111111111111111,\"#46039f\"],[0.2222222222222222,\"#7201a8\"],[0.3333333333333333,\"#9c179e\"],[0.4444444444444444,\"#bd3786\"],[0.5555555555555556,\"#d8576b\"],[0.6666666666666666,\"#ed7953\"],[0.7777777777777778,\"#fb9f3a\"],[0.8888888888888888,\"#fdca26\"],[1.0,\"#f0f921\"]]}],\"choropleth\":[{\"type\":\"choropleth\",\"colorbar\":{\"outlinewidth\":0,\"ticks\":\"\"}}],\"histogram2d\":[{\"type\":\"histogram2d\",\"colorbar\":{\"outlinewidth\":0,\"ticks\":\"\"},\"colorscale\":[[0.0,\"#0d0887\"],[0.1111111111111111,\"#46039f\"],[0.2222222222222222,\"#7201a8\"],[0.3333333333333333,\"#9c179e\"],[0.4444444444444444,\"#bd3786\"],[0.5555555555555556,\"#d8576b\"],[0.6666666666666666,\"#ed7953\"],[0.7777777777777778,\"#fb9f3a\"],[0.8888888888888888,\"#fdca26\"],[1.0,\"#f0f921\"]]}],\"heatmap\":[{\"type\":\"heatmap\",\"colorbar\":{\"outlinewidth\":0,\"ticks\":\"\"},\"colorscale\":[[0.0,\"#0d0887\"],[0.1111111111111111,\"#46039f\"],[0.2222222222222222,\"#7201a8\"],[0.3333333333333333,\"#9c179e\"],[0.4444444444444444,\"#bd3786\"],[0.5555555555555556,\"#d8576b\"],[0.6666666666666666,\"#ed7953\"],[0.7777777777777778,\"#fb9f3a\"],[0.8888888888888888,\"#fdca26\"],[1.0,\"#f0f921\"]]}],\"heatmapgl\":[{\"type\":\"heatmapgl\",\"colorbar\":{\"outlinewidth\":0,\"ticks\":\"\"},\"colorscale\":[[0.0,\"#0d0887\"],[0.1111111111111111,\"#46039f\"],[0.2222222222222222,\"#7201a8\"],[0.3333333333333333,\"#9c179e\"],[0.4444444444444444,\"#bd3786\"],[0.5555555555555556,\"#d8576b\"],[0.6666666666666666,\"#ed7953\"],[0.7777777777777778,\"#fb9f3a\"],[0.8888888888888888,\"#fdca26\"],[1.0,\"#f0f921\"]]}],\"contourcarpet\":[{\"type\":\"contourcarpet\",\"colorbar\":{\"outlinewidth\":0,\"ticks\":\"\"}}],\"contour\":[{\"type\":\"contour\",\"colorbar\":{\"outlinewidth\":0,\"ticks\":\"\"},\"colorscale\":[[0.0,\"#0d0887\"],[0.1111111111111111,\"#46039f\"],[0.2222222222222222,\"#7201a8\"],[0.3333333333333333,\"#9c179e\"],[0.4444444444444444,\"#bd3786\"],[0.5555555555555556,\"#d8576b\"],[0.6666666666666666,\"#ed7953\"],[0.7777777777777778,\"#fb9f3a\"],[0.8888888888888888,\"#fdca26\"],[1.0,\"#f0f921\"]]}],\"surface\":[{\"type\":\"surface\",\"colorbar\":{\"outlinewidth\":0,\"ticks\":\"\"},\"colorscale\":[[0.0,\"#0d0887\"],[0.1111111111111111,\"#46039f\"],[0.2222222222222222,\"#7201a8\"],[0.3333333333333333,\"#9c179e\"],[0.4444444444444444,\"#bd3786\"],[0.5555555555555556,\"#d8576b\"],[0.6666666666666666,\"#ed7953\"],[0.7777777777777778,\"#fb9f3a\"],[0.8888888888888888,\"#fdca26\"],[1.0,\"#f0f921\"]]}],\"mesh3d\":[{\"type\":\"mesh3d\",\"colorbar\":{\"outlinewidth\":0,\"ticks\":\"\"}}],\"scatter\":[{\"fillpattern\":{\"fillmode\":\"overlay\",\"size\":10,\"solidity\":0.2},\"type\":\"scatter\"}],\"parcoords\":[{\"type\":\"parcoords\",\"line\":{\"colorbar\":{\"outlinewidth\":0,\"ticks\":\"\"}}}],\"scatterpolargl\":[{\"type\":\"scatterpolargl\",\"marker\":{\"colorbar\":{\"outlinewidth\":0,\"ticks\":\"\"}}}],\"bar\":[{\"error_x\":{\"color\":\"#2a3f5f\"},\"error_y\":{\"color\":\"#2a3f5f\"},\"marker\":{\"line\":{\"color\":\"#E5ECF6\",\"width\":0.5},\"pattern\":{\"fillmode\":\"overlay\",\"size\":10,\"solidity\":0.2}},\"type\":\"bar\"}],\"scattergeo\":[{\"type\":\"scattergeo\",\"marker\":{\"colorbar\":{\"outlinewidth\":0,\"ticks\":\"\"}}}],\"scatterpolar\":[{\"type\":\"scatterpolar\",\"marker\":{\"colorbar\":{\"outlinewidth\":0,\"ticks\":\"\"}}}],\"histogram\":[{\"marker\":{\"pattern\":{\"fillmode\":\"overlay\",\"size\":10,\"solidity\":0.2}},\"type\":\"histogram\"}],\"scattergl\":[{\"type\":\"scattergl\",\"marker\":{\"colorbar\":{\"outlinewidth\":0,\"ticks\":\"\"}}}],\"scatter3d\":[{\"type\":\"scatter3d\",\"line\":{\"colorbar\":{\"outlinewidth\":0,\"ticks\":\"\"}},\"marker\":{\"colorbar\":{\"outlinewidth\":0,\"ticks\":\"\"}}}],\"scattermapbox\":[{\"type\":\"scattermapbox\",\"marker\":{\"colorbar\":{\"outlinewidth\":0,\"ticks\":\"\"}}}],\"scatterternary\":[{\"type\":\"scatterternary\",\"marker\":{\"colorbar\":{\"outlinewidth\":0,\"ticks\":\"\"}}}],\"scattercarpet\":[{\"type\":\"scattercarpet\",\"marker\":{\"colorbar\":{\"outlinewidth\":0,\"ticks\":\"\"}}}],\"carpet\":[{\"aaxis\":{\"endlinecolor\":\"#2a3f5f\",\"gridcolor\":\"white\",\"linecolor\":\"white\",\"minorgridcolor\":\"white\",\"startlinecolor\":\"#2a3f5f\"},\"baxis\":{\"endlinecolor\":\"#2a3f5f\",\"gridcolor\":\"white\",\"linecolor\":\"white\",\"minorgridcolor\":\"white\",\"startlinecolor\":\"#2a3f5f\"},\"type\":\"carpet\"}],\"table\":[{\"cells\":{\"fill\":{\"color\":\"#EBF0F8\"},\"line\":{\"color\":\"white\"}},\"header\":{\"fill\":{\"color\":\"#C8D4E3\"},\"line\":{\"color\":\"white\"}},\"type\":\"table\"}],\"barpolar\":[{\"marker\":{\"line\":{\"color\":\"#E5ECF6\",\"width\":0.5},\"pattern\":{\"fillmode\":\"overlay\",\"size\":10,\"solidity\":0.2}},\"type\":\"barpolar\"}],\"pie\":[{\"automargin\":true,\"type\":\"pie\"}]},\"layout\":{\"autotypenumbers\":\"strict\",\"colorway\":[\"#636efa\",\"#EF553B\",\"#00cc96\",\"#ab63fa\",\"#FFA15A\",\"#19d3f3\",\"#FF6692\",\"#B6E880\",\"#FF97FF\",\"#FECB52\"],\"font\":{\"color\":\"#2a3f5f\"},\"hovermode\":\"closest\",\"hoverlabel\":{\"align\":\"left\"},\"paper_bgcolor\":\"white\",\"plot_bgcolor\":\"#E5ECF6\",\"polar\":{\"bgcolor\":\"#E5ECF6\",\"angularaxis\":{\"gridcolor\":\"white\",\"linecolor\":\"white\",\"ticks\":\"\"},\"radialaxis\":{\"gridcolor\":\"white\",\"linecolor\":\"white\",\"ticks\":\"\"}},\"ternary\":{\"bgcolor\":\"#E5ECF6\",\"aaxis\":{\"gridcolor\":\"white\",\"linecolor\":\"white\",\"ticks\":\"\"},\"baxis\":{\"gridcolor\":\"white\",\"linecolor\":\"white\",\"ticks\":\"\"},\"caxis\":{\"gridcolor\":\"white\",\"linecolor\":\"white\",\"ticks\":\"\"}},\"coloraxis\":{\"colorbar\":{\"outlinewidth\":0,\"ticks\":\"\"}},\"colorscale\":{\"sequential\":[[0.0,\"#0d0887\"],[0.1111111111111111,\"#46039f\"],[0.2222222222222222,\"#7201a8\"],[0.3333333333333333,\"#9c179e\"],[0.4444444444444444,\"#bd3786\"],[0.5555555555555556,\"#d8576b\"],[0.6666666666666666,\"#ed7953\"],[0.7777777777777778,\"#fb9f3a\"],[0.8888888888888888,\"#fdca26\"],[1.0,\"#f0f921\"]],\"sequentialminus\":[[0.0,\"#0d0887\"],[0.1111111111111111,\"#46039f\"],[0.2222222222222222,\"#7201a8\"],[0.3333333333333333,\"#9c179e\"],[0.4444444444444444,\"#bd3786\"],[0.5555555555555556,\"#d8576b\"],[0.6666666666666666,\"#ed7953\"],[0.7777777777777778,\"#fb9f3a\"],[0.8888888888888888,\"#fdca26\"],[1.0,\"#f0f921\"]],\"diverging\":[[0,\"#8e0152\"],[0.1,\"#c51b7d\"],[0.2,\"#de77ae\"],[0.3,\"#f1b6da\"],[0.4,\"#fde0ef\"],[0.5,\"#f7f7f7\"],[0.6,\"#e6f5d0\"],[0.7,\"#b8e186\"],[0.8,\"#7fbc41\"],[0.9,\"#4d9221\"],[1,\"#276419\"]]},\"xaxis\":{\"gridcolor\":\"white\",\"linecolor\":\"white\",\"ticks\":\"\",\"title\":{\"standoff\":15},\"zerolinecolor\":\"white\",\"automargin\":true,\"zerolinewidth\":2},\"yaxis\":{\"gridcolor\":\"white\",\"linecolor\":\"white\",\"ticks\":\"\",\"title\":{\"standoff\":15},\"zerolinecolor\":\"white\",\"automargin\":true,\"zerolinewidth\":2},\"scene\":{\"xaxis\":{\"backgroundcolor\":\"#E5ECF6\",\"gridcolor\":\"white\",\"linecolor\":\"white\",\"showbackground\":true,\"ticks\":\"\",\"zerolinecolor\":\"white\",\"gridwidth\":2},\"yaxis\":{\"backgroundcolor\":\"#E5ECF6\",\"gridcolor\":\"white\",\"linecolor\":\"white\",\"showbackground\":true,\"ticks\":\"\",\"zerolinecolor\":\"white\",\"gridwidth\":2},\"zaxis\":{\"backgroundcolor\":\"#E5ECF6\",\"gridcolor\":\"white\",\"linecolor\":\"white\",\"showbackground\":true,\"ticks\":\"\",\"zerolinecolor\":\"white\",\"gridwidth\":2}},\"shapedefaults\":{\"line\":{\"color\":\"#2a3f5f\"}},\"annotationdefaults\":{\"arrowcolor\":\"#2a3f5f\",\"arrowhead\":0,\"arrowwidth\":1},\"geo\":{\"bgcolor\":\"white\",\"landcolor\":\"#E5ECF6\",\"subunitcolor\":\"white\",\"showland\":true,\"showlakes\":true,\"lakecolor\":\"white\"},\"title\":{\"x\":0.05},\"mapbox\":{\"style\":\"light\"}}}},                        {\"responsive\": true}                    ).then(function(){\n",
              "                            \n",
              "var gd = document.getElementById('b907d7b5-48d0-45ea-b9d9-3fa383e18a5a');\n",
              "var x = new MutationObserver(function (mutations, observer) {{\n",
              "        var display = window.getComputedStyle(gd).display;\n",
              "        if (!display || display === 'none') {{\n",
              "            console.log([gd, 'removed!']);\n",
              "            Plotly.purge(gd);\n",
              "            observer.disconnect();\n",
              "        }}\n",
              "}});\n",
              "\n",
              "// Listen for the removal of the full notebook cells\n",
              "var notebookContainer = gd.closest('#notebook-container');\n",
              "if (notebookContainer) {{\n",
              "    x.observe(notebookContainer, {childList: true});\n",
              "}}\n",
              "\n",
              "// Listen for the clearing of the current output cell\n",
              "var outputEl = gd.closest('.output');\n",
              "if (outputEl) {{\n",
              "    x.observe(outputEl, {childList: true});\n",
              "}}\n",
              "\n",
              "                        })                };                            </script>        </div>\n",
              "</body>\n",
              "</html>"
            ]
          },
          "metadata": {}
        }
      ],
      "source": [
        "optuna.visualization.plot_parallel_coordinate(study, params=['output_dim', 'Network', \"batch_size\"])\n",
        "optuna.visualization.plot_param_importances(study)"
      ]
    },
    {
      "cell_type": "code",
      "execution_count": 45,
      "metadata": {
        "id": "vGHVbR8j5zIx",
        "colab": {
          "base_uri": "https://localhost:8080/"
        },
        "outputId": "a78fa12f-8a5d-4aa2-c0d5-4df572c1c03f"
      },
      "outputs": [
        {
          "output_type": "stream",
          "name": "stdout",
          "text": [
            "Best hyperparameters:  {'output_dim': 128, 'Network': 'GRU', 'batch_size': 64}\n"
          ]
        }
      ],
      "source": [
        "print(\"Best hyperparameters: \", study.best_params)"
      ]
    },
    {
      "cell_type": "markdown",
      "source": [
        "As conclusion :\n",
        "\n",
        "1. We read data from conllu file\n",
        "2. Put Data into dataframe\n",
        "3. Split Data , Clean data (Remove nulls and duplicated)\n",
        "4. Tokenize each word in train data and give it a unique index\n",
        "5. Labelling different POS\n",
        "6. Embedding Layer to embed each work to a repreaentative vector\n",
        "7. Applying (SimpleRNN, GRU, LSTM) all with dipth \"128\" layer\n",
        "8. Doing Hyper-parameter tuning and realizing that best results are :\n",
        "    - Embedding Size = 64\n",
        "    - Network : GRU\n",
        "    - Batch Size = 64\n",
        "9. Optuna optimization tell us that over all hyper parameters, the most important in (Batch Size)"
      ],
      "metadata": {
        "id": "4av3Coa7Jwy2"
      }
    },
    {
      "cell_type": "markdown",
      "metadata": {
        "id": "Nw1GVnYLorxi"
      },
      "source": [
        "#### Done!"
      ]
    }
  ],
  "metadata": {
    "colab": {
      "provenance": [],
      "gpuType": "T4"
    },
    "kernelspec": {
      "display_name": "Python 3",
      "name": "python3"
    },
    "language_info": {
      "codemirror_mode": {
        "name": "ipython",
        "version": 3
      },
      "file_extension": ".py",
      "mimetype": "text/x-python",
      "name": "python",
      "nbconvert_exporter": "python",
      "pygments_lexer": "ipython3",
      "version": "3.11.7"
    },
    "accelerator": "GPU"
  },
  "nbformat": 4,
  "nbformat_minor": 0
}