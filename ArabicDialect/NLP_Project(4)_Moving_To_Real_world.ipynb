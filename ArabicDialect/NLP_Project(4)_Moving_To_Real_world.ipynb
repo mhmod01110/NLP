{
  "cells": [
    {
      "cell_type": "code",
      "execution_count": 1,
      "metadata": {
        "colab": {
          "base_uri": "https://localhost:8080/"
        },
        "id": "01yBfAgy9ecK",
        "outputId": "e636282d-c913-453b-acc1-c3c450177c5c"
      },
      "outputs": [
        {
          "name": "stdout",
          "output_type": "stream",
          "text": [
            "Mounted at MyDrive\n",
            "/content/MyDrive/MyDrive/NLP/Project\n"
          ]
        }
      ],
      "source": [
        "from google.colab import drive\n",
        "drive.mount(\"MyDrive\")\n",
        "%cd \"MyDrive/MyDrive/NLP/Project\""
      ]
    },
    {
      "cell_type": "code",
      "execution_count": 2,
      "metadata": {
        "colab": {
          "base_uri": "https://localhost:8080/"
        },
        "id": "Jo2rJ2hQ9o9q",
        "outputId": "2495ca36-5e3f-4365-e897-d76e1bdd215a"
      },
      "outputs": [
        {
          "name": "stdout",
          "output_type": "stream",
          "text": [
            " 2005.06557v2.pdf      'NLP Final Task.rar'\t\t\t      pipeline.pkl\n",
            " dialects_database.db  'NLP_Project(1)_DataFetch.ipynb'\t\t      text_and_dialect.csv\n",
            " hist.csv\t       'NLP_Project(2)_EDA_DataPreprocessing.ipynb'   voting_pipeline.pkl\n",
            "'NLP Final Task.pdf'   'NLP_Project(3)_ModelTraining_ipynb.ipynb'\n"
          ]
        }
      ],
      "source": [
        "! ls"
      ]
    },
    {
      "cell_type": "code",
      "execution_count": 2,
      "metadata": {
        "colab": {
          "base_uri": "https://localhost:8080/"
        },
        "id": "ZpIJmbtP-eDF",
        "outputId": "9cfc5f3f-8cbc-4a40-c081-457f0610eb58"
      },
      "outputs": [
        {
          "name": "stdout",
          "output_type": "stream",
          "text": [
            "Collecting emoji\n",
            "  Downloading emoji-2.12.1-py3-none-any.whl (431 kB)\n",
            "\u001b[2K     \u001b[90m━━━━━━━━━━━━━━━━━━━━━━━━━━━━━━━━━━━━━━━━\u001b[0m \u001b[32m431.4/431.4 kB\u001b[0m \u001b[31m2.6 MB/s\u001b[0m eta \u001b[36m0:00:00\u001b[0m\n",
            "\u001b[?25hRequirement already satisfied: typing-extensions>=4.7.0 in /usr/local/lib/python3.10/dist-packages (from emoji) (4.11.0)\n",
            "Installing collected packages: emoji\n",
            "Successfully installed emoji-2.12.1\n"
          ]
        }
      ],
      "source": [
        "! pip install emoji"
      ]
    },
    {
      "cell_type": "code",
      "execution_count": 3,
      "metadata": {
        "colab": {
          "base_uri": "https://localhost:8080/"
        },
        "id": "vPWM6eEp9v0x",
        "outputId": "987d62f9-ca4e-4e46-9750-0227d7c0fb19"
      },
      "outputs": [
        {
          "name": "stderr",
          "output_type": "stream",
          "text": [
            "[nltk_data] Downloading package stopwords to /root/nltk_data...\n",
            "[nltk_data]   Unzipping corpora/stopwords.zip.\n"
          ]
        }
      ],
      "source": [
        "import joblib\n",
        "import pandas as pd\n",
        "import numpy as np\n",
        "import matplotlib.pyplot as plt\n",
        "import re\n",
        "import emoji\n",
        "import sklearn\n",
        "from sklearn.pipeline import Pipeline\n",
        "from sklearn.preprocessing import FunctionTransformer, LabelEncoder\n",
        "from sklearn.model_selection import train_test_split\n",
        "import nltk\n",
        "nltk.download('stopwords')\n",
        "from nltk.corpus import stopwords\n",
        "from sklearn.base import BaseEstimator, TransformerMixin\n",
        "from sklearn.feature_extraction.text import TfidfVectorizer\n",
        "from sklearn.feature_extraction.text import CountVectorizer\n",
        "from sklearn.linear_model import LogisticRegression\n",
        "from sklearn.naive_bayes import MultinomialNB\n",
        "from sklearn.ensemble import VotingClassifier"
      ]
    },
    {
      "cell_type": "code",
      "execution_count": 4,
      "metadata": {
        "id": "PKOS4564-EQG"
      },
      "outputs": [],
      "source": [
        "class CustomTransformer(BaseEstimator, TransformerMixin):\n",
        "    def __init__(self):\n",
        "        self.stopwords_arabic = set(stopwords.words('arabic'))\n",
        "\n",
        "    def fit(self, X, y=None):\n",
        "        # Add code for fitting the transformer here\n",
        "        return self\n",
        "\n",
        "    def transform(self, X):\n",
        "        transformed_X = X.copy()\n",
        "        transformed_X = X.apply(self.clean_txt)\n",
        "        return transformed_X\n",
        "\n",
        "    def clean_txt(self, text):\n",
        "        # Remove URLs\n",
        "        text = re.sub(r'http[s]?://(?:[a-zA-Z]|[0-9]|[$-_@.&+]|[!*\\\\(\\\\),]|(?:%[0-9a-fA-F][0-9a-fA-F]))+', ' ', text)\n",
        "\n",
        "        # Remove usernames starting with @\n",
        "        text = re.sub(r'@[\\w_]+', ' ', text)\n",
        "\n",
        "        # Remove English words\n",
        "        text = re.sub(r'\\b[a-zA-Z]+\\b', ' ', text)\n",
        "\n",
        "        # Remove emojis\n",
        "        text = re.sub(r'[\\U00010000-\\U0010ffff]', ' ', text)\n",
        "        text = re.sub(r':[a-z_]+:', ' ', text)\n",
        "\n",
        "        # Remove special characters\n",
        "        text = re.sub('[*?!#@]', ' ', text)\n",
        "\n",
        "        # Remove redundant percentage and bar lines\n",
        "        text = re.sub(r'\\|\\|+\\s*\\d+%\\s*\\|\\|+?[_\\-\\.\\?]+', ' ', text)\n",
        "\n",
        "        text = re.sub(r'[_\\-\\.\\\"\\:\\;\\,\\'\\،\\♡\\\\\\)/(\\&\\؟]', ' ', text)\n",
        "\n",
        "        # Remove digits\n",
        "        text = re.sub(r'\\d+', ' ', text)\n",
        "\n",
        "        text_tokens = text.split()\n",
        "\n",
        "        # filtered_text = [word for word in text_tokens if word not in self.stopwords_arabic]\n",
        "        filtered_text = text_tokens\n",
        "        # Split and rejoin\n",
        "        text = ' '.join(filtered_text)\n",
        "\n",
        "        return text\n",
        "\n",
        "    def fit_transform(self, X, y=None):\n",
        "        # This function combines fit and transform\n",
        "        self.fit(X, y)\n",
        "        return self.transform(X)"
      ]
    },
    {
      "cell_type": "code",
      "execution_count": 5,
      "metadata": {
        "id": "Z7aCswlm94ZW"
      },
      "outputs": [],
      "source": [
        "loaded_pipeline = joblib.load('voting_pipeline.pkl')"
      ]
    },
    {
      "cell_type": "code",
      "execution_count": 13,
      "metadata": {
        "colab": {
          "base_uri": "https://localhost:8080/",
          "height": 616
        },
        "id": "aGVXI7ri97jP",
        "outputId": "e545dfe2-b756-429c-9939-0168b3860f3c"
      },
      "outputs": [
        {
          "name": "stdout",
          "output_type": "stream",
          "text": [
            "Enter your text: بزاف\n",
            "{'Egypt': 0.001069481812935635, 'Lebanon': 0.002865665075812804, 'Libya': 0.006026604546755362, 'Morocco': 0.9838323574281892, 'Sudan': 0.00620589113630663}\n",
            "Final Prediction: Morocco\n"
          ]
        },
        {
          "data": {
            "image/png": "[encoded data removed]",
            "text/plain": [
              "<Figure size 1000x600 with 1 Axes>"
            ]
          },
          "metadata": {},
          "output_type": "display_data"
        }
      ],
      "source": [
        "text = input(\"Enter your text: \")\n",
        "text_series = pd.Series([text])\n",
        "probabilities = loaded_pipeline.predict_proba(text_series)\n",
        "\n",
        "target_labels = ['EG', 'LB', 'LY', 'MA', 'SD']\n",
        "target_names = ['Egypt', 'Lebanon', 'Libya', 'Morocco', 'Sudan']\n",
        "\n",
        "label_name_mapping = dict(zip(target_labels, target_names))\n",
        "\n",
        "class_labels = loaded_pipeline.classes_\n",
        "\n",
        "prob_dict = {label_name_mapping[label]: prob for label, prob in zip(class_labels, probabilities[0])}\n",
        "\n",
        "final_prediction_label = loaded_pipeline.predict(text_series)[0]\n",
        "final_prediction_name = label_name_mapping[final_prediction_label]\n",
        "\n",
        "print(prob_dict)\n",
        "print(f\"Final Prediction: {final_prediction_name}\")\n",
        "\n",
        "# Plot the probabilities\n",
        "labels = list(prob_dict.keys())\n",
        "probs = list(prob_dict.values())\n",
        "\n",
        "colors = ['blue' if label != final_prediction_name else 'green' for label in labels]\n",
        "\n",
        "plt.figure(figsize=(10, 6))\n",
        "plt.bar(labels, probs, color=colors)\n",
        "plt.xlabel('Country')\n",
        "plt.ylabel('Probability')\n",
        "plt.title('Prediction Probabilities')\n",
        "plt.show()"
      ]
    },
    {
      "cell_type": "code",
      "execution_count": null,
      "metadata": {
        "id": "pZuRRr_D_AO7"
      },
      "outputs": [],
      "source": []
    }
  ],
  "metadata": {
    "colab": {
      "provenance": []
    },
    "kernelspec": {
      "display_name": "Python 3",
      "name": "python3"
    },
    "language_info": {
      "codemirror_mode": {
        "name": "ipython",
        "version": 3
      },
      "file_extension": ".py",
      "mimetype": "text/x-python",
      "name": "python",
      "nbconvert_exporter": "python",
      "pygments_lexer": "ipython3",
      "version": "3.11.5"
    }
  },
  "nbformat": 4,
  "nbformat_minor": 0
}
