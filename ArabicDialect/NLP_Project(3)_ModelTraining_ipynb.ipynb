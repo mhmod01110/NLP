{
  "cells": [
    {
      "cell_type": "code",
      "execution_count": 1,
      "metadata": {
        "colab": {
          "base_uri": "https://localhost:8080/"
        },
        "id": "wRD3Y2QhiDrR",
        "outputId": "aab84a8e-3d2a-4c4e-e239-7f8118739f90"
      },
      "outputs": [
        {
          "name": "stdout",
          "output_type": "stream",
          "text": [
            "Mounted at MyDrive\n",
            "/content/MyDrive/MyDrive/NLP/Project\n"
          ]
        }
      ],
      "source": [
        "from google.colab import drive\n",
        "drive.mount(\"MyDrive\")\n",
        "%cd \"MyDrive/MyDrive/NLP/Project\""
      ]
    },
    {
      "cell_type": "code",
      "execution_count": null,
      "metadata": {
        "colab": {
          "base_uri": "https://localhost:8080/"
        },
        "id": "B1zqJ4WbiMVz",
        "outputId": "625e6c35-ee92-4a61-a0cc-486f1680d4cb"
      },
      "outputs": [
        {
          "name": "stdout",
          "output_type": "stream",
          "text": [
            " 2005.06557v2.pdf      'NLP Final Task.rar'\t\t\t      text_and_dialect.csv\n",
            " dialects_database.db  'NLP_Project(1)_DataFetch.ipynb'\t\t      voting_pipeline.pkl\n",
            " hist.csv\t       'NLP_Project(2)_EDA_DataPreprocessing.ipynb'\n",
            "'NLP Final Task.pdf'    pipeline.pkl\n"
          ]
        }
      ],
      "source": [
        "! ls"
      ]
    },
    {
      "cell_type": "code",
      "execution_count": 2,
      "metadata": {
        "colab": {
          "base_uri": "https://localhost:8080/"
        },
        "id": "lw-3vuMiigRD",
        "outputId": "f2d2624a-ec7e-4cca-e7ac-bff78b601f7b"
      },
      "outputs": [
        {
          "name": "stdout",
          "output_type": "stream",
          "text": [
            "Collecting emoji\n",
            "  Downloading emoji-2.12.1-py3-none-any.whl (431 kB)\n",
            "\u001b[2K     \u001b[90m━━━━━━━━━━━━━━━━━━━━━━━━━━━━━━━━━━━━━━━━\u001b[0m \u001b[32m431.4/431.4 kB\u001b[0m \u001b[31m7.7 MB/s\u001b[0m eta \u001b[36m0:00:00\u001b[0m\n",
            "\u001b[?25hRequirement already satisfied: typing-extensions>=4.7.0 in /usr/local/lib/python3.10/dist-packages (from emoji) (4.11.0)\n",
            "Installing collected packages: emoji\n",
            "Successfully installed emoji-2.12.1\n"
          ]
        }
      ],
      "source": [
        "! pip install emoji"
      ]
    },
    {
      "cell_type": "code",
      "execution_count": null,
      "metadata": {
        "colab": {
          "base_uri": "https://localhost:8080/"
        },
        "id": "hImWPlNkHLLY",
        "outputId": "acceaf40-d6ac-46c3-b62c-6ba8b25c4219"
      },
      "outputs": [
        {
          "name": "stdout",
          "output_type": "stream",
          "text": [
            "Collecting tensorflow_addons\n",
            "  Downloading tensorflow_addons-0.23.0-cp310-cp310-manylinux_2_17_x86_64.manylinux2014_x86_64.whl (611 kB)\n",
            "\u001b[2K     \u001b[90m━━━━━━━━━━━━━━━━━━━━━━━━━━━━━━━━━━━━━━━━\u001b[0m \u001b[32m611.8/611.8 kB\u001b[0m \u001b[31m9.5 MB/s\u001b[0m eta \u001b[36m0:00:00\u001b[0m\n",
            "\u001b[?25hRequirement already satisfied: packaging in /usr/local/lib/python3.10/dist-packages (from tensorflow_addons) (24.0)\n",
            "Collecting typeguard<3.0.0,>=2.7 (from tensorflow_addons)\n",
            "  Downloading typeguard-2.13.3-py3-none-any.whl (17 kB)\n",
            "Installing collected packages: typeguard, tensorflow_addons\n",
            "Successfully installed tensorflow_addons-0.23.0 typeguard-2.13.3\n"
          ]
        }
      ],
      "source": [
        "!pip install tensorflow_addons"
      ]
    },
    {
      "cell_type": "code",
      "execution_count": 1,
      "metadata": {
        "colab": {
          "base_uri": "https://localhost:8080/"
        },
        "id": "AwdPNBGXiUbF",
        "outputId": "5f6c2079-bf89-4724-e714-f050eaeffbff"
      },
      "outputs": [
        {
          "name": "stderr",
          "output_type": "stream",
          "text": [
            "[nltk_data] Downloading package stopwords to C:\\Users\\LAPTOP\n",
            "[nltk_data]     SHOP\\AppData\\Roaming\\nltk_data...\n",
            "[nltk_data]   Package stopwords is already up-to-date!\n"
          ]
        }
      ],
      "source": [
        "import pandas as pd\n",
        "import matplotlib.pyplot as plt\n",
        "import numpy as np\n",
        "import seaborn as sns\n",
        "import re\n",
        "from tqdm import tqdm\n",
        "import emoji\n",
        "import sklearn\n",
        "from sklearn.pipeline import Pipeline, FeatureUnion\n",
        "from sklearn.preprocessing import FunctionTransformer, LabelEncoder\n",
        "from sklearn.model_selection import train_test_split\n",
        "import nltk\n",
        "nltk.download('stopwords')\n",
        "from nltk.corpus import stopwords\n",
        "from sklearn.base import BaseEstimator, TransformerMixin\n",
        "from sklearn.feature_extraction.text import TfidfVectorizer\n",
        "from sklearn.feature_extraction.text import CountVectorizer\n",
        "from sklearn.linear_model import LogisticRegression\n",
        "from sklearn.naive_bayes import MultinomialNB, GaussianNB\n",
        "from sklearn.metrics import f1_score, classification_report, confusion_matrix\n",
        "from sklearn.ensemble import VotingClassifier\n",
        "from sklearn.utils.class_weight import compute_class_weight\n",
        "from sklearn.svm import SVC\n",
        "from xgboost import XGBClassifier\n",
        "import tensorflow as tf\n",
        "from tensorflow.keras.losses import categorical_crossentropy\n",
        "from keras.preprocessing.text import Tokenizer\n",
        "from tensorflow.keras.preprocessing.sequence import pad_sequences\n",
        "from tensorflow.keras.models import Model, Sequential\n",
        "from tensorflow.keras.layers import Input, Embedding, LSTM, Dense, concatenate, TimeDistributed, SimpleRNN, GRU, Bidirectional\n",
        "from tensorflow.keras.utils import to_categorical\n",
        "from tensorflow.keras.metrics import CategoricalAccuracy\n",
        "from tensorflow_addons.metrics import F1Score\n",
        "pd.set_option('display.max_rows', 500)\n",
        "pd.set_option('display.max_colwidth', 1000)"
      ]
    },
    {
      "cell_type": "markdown",
      "metadata": {
        "id": "wyMFz4pMzGb9"
      },
      "source": [
        "# Versions of libraries used :"
      ]
    },
    {
      "cell_type": "code",
      "execution_count": null,
      "metadata": {
        "colab": {
          "base_uri": "https://localhost:8080/"
        },
        "id": "bKO1a1TCySJz",
        "outputId": "d85e632b-edd1-4143-f4a7-8aba51b33b92"
      },
      "outputs": [
        {
          "name": "stdout",
          "output_type": "stream",
          "text": [
            "numpy version  :  1.25.2\n",
            "pandas version  :  2.0.3\n",
            "re version  :  2.2.1\n",
            "scikit-learn  :  1.2.2\n",
            "nltk version  :  3.8.1\n",
            "emoji version  :  2.12.1\n",
            "tensorflow version  :  2.15.0\n"
          ]
        }
      ],
      "source": [
        "print(\"numpy version  : \",np.__version__)\n",
        "print(\"pandas version  : \",pd.__version__)\n",
        "print(\"re version  : \",re.__version__)\n",
        "print(\"scikit-learn  : \",sklearn.__version__)\n",
        "print(\"nltk version  : \",nltk.__version__)\n",
        "print(\"emoji version  : \",emoji.__version__)\n",
        "print(\"tensorflow version  : \",tf.__version__)\n"
      ]
    },
    {
      "cell_type": "markdown",
      "metadata": {
        "id": "TLum7VWTzM9a"
      },
      "source": [
        "# Reading Data and pre-processing"
      ]
    },
    {
      "cell_type": "code",
      "execution_count": 2,
      "metadata": {
        "id": "XBcIuE5NiwLW"
      },
      "outputs": [],
      "source": [
        "df = pd.read_csv('text_and_dialect.csv', encoding='utf-8', engine='python')\n",
        "df.dropna(inplace=True)\n",
        "X_train, X_other, y_train, y_other = train_test_split(df['text'], df['dialect'], test_size=0.2, shuffle=True, stratify=df['dialect'], random_state=123)\n",
        "X_val, X_test, y_val, y_test = train_test_split(X_other, y_other, test_size=0.5, shuffle=True, stratify=y_other, random_state=123)\n",
        "train = pd.concat([X_train, y_train], axis=1).reset_index(drop=True)\n",
        "val = pd.concat([X_val, y_val], axis=1).reset_index(drop=True)\n",
        "test = pd.concat([X_test, y_test], axis=1).reset_index(drop=True)"
      ]
    },
    {
      "cell_type": "code",
      "execution_count": 3,
      "metadata": {
        "id": "QF66ADN1jCj8"
      },
      "outputs": [],
      "source": [
        "class CustomTransformer(BaseEstimator, TransformerMixin):\n",
        "    def __init__(self):\n",
        "        self.stopwords_arabic = set(stopwords.words('arabic'))\n",
        "\n",
        "    def fit(self, X, y=None):\n",
        "        # Add code for fitting the transformer here\n",
        "        return self\n",
        "\n",
        "    def transform(self, X):\n",
        "        transformed_X = X.copy()\n",
        "        transformed_X = X.apply(self.clean_txt)\n",
        "        return transformed_X\n",
        "\n",
        "    def clean_txt(self, text):\n",
        "        # Remove URLs\n",
        "        text = re.sub(r'http[s]?://(?:[a-zA-Z]|[0-9]|[$-_@.&+]|[!*\\\\(\\\\),]|(?:%[0-9a-fA-F][0-9a-fA-F]))+', ' ', text)\n",
        "\n",
        "        # Remove usernames starting with @\n",
        "        text = re.sub(r'@[\\w_]+', ' ', text)\n",
        "\n",
        "        # Remove English words\n",
        "        text = re.sub(r'\\b[a-zA-Z]+\\b', ' ', text)\n",
        "\n",
        "        # Remove emojis\n",
        "        text = re.sub(r'[\\U00010000-\\U0010ffff]', ' ', text)\n",
        "        text = re.sub(r':[a-z_]+:', ' ', text)\n",
        "\n",
        "        # Remove special characters\n",
        "        text = re.sub('[*?!#@]', ' ', text)\n",
        "\n",
        "        # Remove redundant percentage and bar lines\n",
        "        text = re.sub(r'\\|\\|+\\s*\\d+%\\s*\\|\\|+?[_\\-\\.\\?]+', ' ', text)\n",
        "\n",
        "        text = re.sub(r'[_\\-\\.\\\"\\:\\;\\,\\'\\،\\♡\\\\\\)/(\\&\\؟]', ' ', text)\n",
        "\n",
        "        # Remove digits\n",
        "        text = re.sub(r'\\d+', ' ', text)\n",
        "\n",
        "        text_tokens = text.split()\n",
        "\n",
        "        # filtered_text = [word for word in text_tokens if word not in self.stopwords_arabic]\n",
        "        filtered_text = text_tokens\n",
        "        # Split and rejoin\n",
        "        text = ' '.join(filtered_text)\n",
        "\n",
        "        return text\n",
        "\n",
        "    def fit_transform(self, X, y=None):\n",
        "        # This function combines fit and transform\n",
        "        self.fit(X, y)\n",
        "        return self.transform(X)"
      ]
    },
    {
      "cell_type": "markdown",
      "metadata": {
        "id": "6ir5YEdnzzT2"
      },
      "source": [
        "## ========================= Machine Learning model part ==========================="
      ]
    },
    {
      "cell_type": "markdown",
      "metadata": {
        "id": "c-68YXMtzS_E"
      },
      "source": [
        "# Base model Training :"
      ]
    },
    {
      "cell_type": "code",
      "execution_count": null,
      "metadata": {
        "id": "j-jFHmuyjmIx"
      },
      "outputs": [],
      "source": [
        "model = LogisticRegression(max_iter=10000)\n",
        "tfidf_vectorizer = TfidfVectorizer(max_features=5000)\n",
        "count_vectorizer = CountVectorizer(max_features=5000)\n",
        "\n",
        "pipeline = Pipeline(steps=[\n",
        "    ('preprocessing', CustomTransformer()),\n",
        "    ('Vectorizing', count_vectorizer),\n",
        "    ('model', model),\n",
        "])"
      ]
    },
    {
      "cell_type": "code",
      "execution_count": null,
      "metadata": {
        "id": "OU7YWb_Bjo7w"
      },
      "outputs": [],
      "source": [
        "X_train = train[\"text\"]\n",
        "y_train = train[\"dialect\"]"
      ]
    },
    {
      "cell_type": "code",
      "execution_count": null,
      "metadata": {
        "colab": {
          "base_uri": "https://localhost:8080/",
          "height": 159
        },
        "id": "EQ2-NnEqj984",
        "outputId": "e817b50e-44e6-4b19-f95a-15c11931db5d"
      },
      "outputs": [
        {
          "data": {
            "text/html": [
              "<style>#sk-container-id-1 {color: black;background-color: white;}#sk-container-id-1 pre{padding: 0;}#sk-container-id-1 div.sk-toggleable {background-color: white;}#sk-container-id-1 label.sk-toggleable__label {cursor: pointer;display: block;width: 100%;margin-bottom: 0;padding: 0.3em;box-sizing: border-box;text-align: center;}#sk-container-id-1 label.sk-toggleable__label-arrow:before {content: \"▸\";float: left;margin-right: 0.25em;color: #696969;}#sk-container-id-1 label.sk-toggleable__label-arrow:hover:before {color: black;}#sk-container-id-1 div.sk-estimator:hover label.sk-toggleable__label-arrow:before {color: black;}#sk-container-id-1 div.sk-toggleable__content {max-height: 0;max-width: 0;overflow: hidden;text-align: left;background-color: #f0f8ff;}#sk-container-id-1 div.sk-toggleable__content pre {margin: 0.2em;color: black;border-radius: 0.25em;background-color: #f0f8ff;}#sk-container-id-1 input.sk-toggleable__control:checked~div.sk-toggleable__content {max-height: 200px;max-width: 100%;overflow: auto;}#sk-container-id-1 input.sk-toggleable__control:checked~label.sk-toggleable__label-arrow:before {content: \"▾\";}#sk-container-id-1 div.sk-estimator input.sk-toggleable__control:checked~label.sk-toggleable__label {background-color: #d4ebff;}#sk-container-id-1 div.sk-label input.sk-toggleable__control:checked~label.sk-toggleable__label {background-color: #d4ebff;}#sk-container-id-1 input.sk-hidden--visually {border: 0;clip: rect(1px 1px 1px 1px);clip: rect(1px, 1px, 1px, 1px);height: 1px;margin: -1px;overflow: hidden;padding: 0;position: absolute;width: 1px;}#sk-container-id-1 div.sk-estimator {font-family: monospace;background-color: #f0f8ff;border: 1px dotted black;border-radius: 0.25em;box-sizing: border-box;margin-bottom: 0.5em;}#sk-container-id-1 div.sk-estimator:hover {background-color: #d4ebff;}#sk-container-id-1 div.sk-parallel-item::after {content: \"\";width: 100%;border-bottom: 1px solid gray;flex-grow: 1;}#sk-container-id-1 div.sk-label:hover label.sk-toggleable__label {background-color: #d4ebff;}#sk-container-id-1 div.sk-serial::before {content: \"\";position: absolute;border-left: 1px solid gray;box-sizing: border-box;top: 0;bottom: 0;left: 50%;z-index: 0;}#sk-container-id-1 div.sk-serial {display: flex;flex-direction: column;align-items: center;background-color: white;padding-right: 0.2em;padding-left: 0.2em;position: relative;}#sk-container-id-1 div.sk-item {position: relative;z-index: 1;}#sk-container-id-1 div.sk-parallel {display: flex;align-items: stretch;justify-content: center;background-color: white;position: relative;}#sk-container-id-1 div.sk-item::before, #sk-container-id-1 div.sk-parallel-item::before {content: \"\";position: absolute;border-left: 1px solid gray;box-sizing: border-box;top: 0;bottom: 0;left: 50%;z-index: -1;}#sk-container-id-1 div.sk-parallel-item {display: flex;flex-direction: column;z-index: 1;position: relative;background-color: white;}#sk-container-id-1 div.sk-parallel-item:first-child::after {align-self: flex-end;width: 50%;}#sk-container-id-1 div.sk-parallel-item:last-child::after {align-self: flex-start;width: 50%;}#sk-container-id-1 div.sk-parallel-item:only-child::after {width: 0;}#sk-container-id-1 div.sk-dashed-wrapped {border: 1px dashed gray;margin: 0 0.4em 0.5em 0.4em;box-sizing: border-box;padding-bottom: 0.4em;background-color: white;}#sk-container-id-1 div.sk-label label {font-family: monospace;font-weight: bold;display: inline-block;line-height: 1.2em;}#sk-container-id-1 div.sk-label-container {text-align: center;}#sk-container-id-1 div.sk-container {/* jupyter's `normalize.less` sets `[hidden] { display: none; }` but bootstrap.min.css set `[hidden] { display: none !important; }` so we also need the `!important` here to be able to override the default hidden behavior on the sphinx rendered scikit-learn.org. See: https://github.com/scikit-learn/scikit-learn/issues/21755 */display: inline-block !important;position: relative;}#sk-container-id-1 div.sk-text-repr-fallback {display: none;}</style><div id=\"sk-container-id-1\" class=\"sk-top-container\"><div class=\"sk-text-repr-fallback\"><pre>Pipeline(steps=[(&#x27;preprocessing&#x27;, CustomTransformer()),\n",
              "                (&#x27;Vectorizing&#x27;, CountVectorizer(max_features=5000)),\n",
              "                (&#x27;model&#x27;, LogisticRegression(max_iter=10000))])</pre><b>In a Jupyter environment, please rerun this cell to show the HTML representation or trust the notebook. <br />On GitHub, the HTML representation is unable to render, please try loading this page with nbviewer.org.</b></div><div class=\"sk-container\" hidden><div class=\"sk-item sk-dashed-wrapped\"><div class=\"sk-label-container\"><div class=\"sk-label sk-toggleable\"><input class=\"sk-toggleable__control sk-hidden--visually\" id=\"sk-estimator-id-1\" type=\"checkbox\" ><label for=\"sk-estimator-id-1\" class=\"sk-toggleable__label sk-toggleable__label-arrow\">Pipeline</label><div class=\"sk-toggleable__content\"><pre>Pipeline(steps=[(&#x27;preprocessing&#x27;, CustomTransformer()),\n",
              "                (&#x27;Vectorizing&#x27;, CountVectorizer(max_features=5000)),\n",
              "                (&#x27;model&#x27;, LogisticRegression(max_iter=10000))])</pre></div></div></div><div class=\"sk-serial\"><div class=\"sk-item\"><div class=\"sk-estimator sk-toggleable\"><input class=\"sk-toggleable__control sk-hidden--visually\" id=\"sk-estimator-id-2\" type=\"checkbox\" ><label for=\"sk-estimator-id-2\" class=\"sk-toggleable__label sk-toggleable__label-arrow\">CustomTransformer</label><div class=\"sk-toggleable__content\"><pre>CustomTransformer()</pre></div></div></div><div class=\"sk-item\"><div class=\"sk-estimator sk-toggleable\"><input class=\"sk-toggleable__control sk-hidden--visually\" id=\"sk-estimator-id-3\" type=\"checkbox\" ><label for=\"sk-estimator-id-3\" class=\"sk-toggleable__label sk-toggleable__label-arrow\">CountVectorizer</label><div class=\"sk-toggleable__content\"><pre>CountVectorizer(max_features=5000)</pre></div></div></div><div class=\"sk-item\"><div class=\"sk-estimator sk-toggleable\"><input class=\"sk-toggleable__control sk-hidden--visually\" id=\"sk-estimator-id-4\" type=\"checkbox\" ><label for=\"sk-estimator-id-4\" class=\"sk-toggleable__label sk-toggleable__label-arrow\">LogisticRegression</label><div class=\"sk-toggleable__content\"><pre>LogisticRegression(max_iter=10000)</pre></div></div></div></div></div></div></div>"
            ],
            "text/plain": [
              "Pipeline(steps=[('preprocessing', CustomTransformer()),\n",
              "                ('Vectorizing', CountVectorizer(max_features=5000)),\n",
              "                ('model', LogisticRegression(max_iter=10000))])"
            ]
          },
          "execution_count": 13,
          "metadata": {},
          "output_type": "execute_result"
        }
      ],
      "source": [
        "pipeline.fit(X_train, y_train)"
      ]
    },
    {
      "cell_type": "markdown",
      "metadata": {
        "id": "nHcZ_IddzXUj"
      },
      "source": [
        "# Base model results :"
      ]
    },
    {
      "cell_type": "code",
      "execution_count": null,
      "metadata": {
        "id": "ZXDnuebFkC5z"
      },
      "outputs": [],
      "source": [
        "y_pred = pipeline.predict(X_val)"
      ]
    },
    {
      "cell_type": "code",
      "execution_count": null,
      "metadata": {
        "colab": {
          "base_uri": "https://localhost:8080/"
        },
        "id": "LtokY-iYkO71",
        "outputId": "f6d03756-2a7c-422c-9717-fb8070dc4292"
      },
      "outputs": [
        {
          "name": "stdout",
          "output_type": "stream",
          "text": [
            "              precision    recall  f1-score   support\n",
            "\n",
            "          EG       0.82      0.88      0.85      5763\n",
            "          LB       0.83      0.80      0.81      2761\n",
            "          LY       0.73      0.79      0.76      3650\n",
            "          MA       0.81      0.64      0.71      1154\n",
            "          SD       0.78      0.57      0.66      1444\n",
            "\n",
            "    accuracy                           0.80     14772\n",
            "   macro avg       0.79      0.74      0.76     14772\n",
            "weighted avg       0.80      0.80      0.79     14772\n",
            "\n"
          ]
        }
      ],
      "source": [
        "report = classification_report(y_val, y_pred)\n",
        "\n",
        "print(report)"
      ]
    },
    {
      "cell_type": "code",
      "execution_count": null,
      "metadata": {
        "colab": {
          "base_uri": "https://localhost:8080/",
          "height": 564
        },
        "id": "BRovPfknkQmW",
        "outputId": "8e563e51-3746-4399-e2b9-22aa5925f89c"
      },
      "outputs": [
        {
          "data": {
            "image/png": "[encoded data removed]",
            "text/plain": [
              "<Figure size 800x600 with 2 Axes>"
            ]
          },
          "metadata": {},
          "output_type": "display_data"
        }
      ],
      "source": [
        "target_labels = ['EG', 'LB', 'LY', 'MA', 'SD']\n",
        "cm = confusion_matrix(y_val, y_pred)\n",
        "plt.figure(figsize=(8, 6))\n",
        "sns.heatmap(cm, annot=True, fmt='d', cmap='Blues', xticklabels=target_labels, yticklabels=target_labels)\n",
        "plt.xlabel('Predicted')\n",
        "plt.ylabel('Actual')\n",
        "plt.title('Confusion Matrix')\n",
        "plt.show()"
      ]
    },
    {
      "cell_type": "code",
      "execution_count": null,
      "metadata": {
        "colab": {
          "base_uri": "https://localhost:8080/",
          "height": 564
        },
        "id": "UiMvS26ckmLC",
        "outputId": "b3d641db-43f2-4689-806e-4363f2287d4a"
      },
      "outputs": [
        {
          "data": {
            "image/png": "[encoded data removed]",
            "text/plain": [
              "<Figure size 800x600 with 2 Axes>"
            ]
          },
          "metadata": {},
          "output_type": "display_data"
        }
      ],
      "source": [
        "normalized_cm = confusion_matrix(y_val, y_pred, normalize='true')\n",
        "plt.figure(figsize=(8, 6))\n",
        "sns.heatmap(normalized_cm, annot=True, cmap='Blues', xticklabels=target_labels, yticklabels=target_labels)\n",
        "plt.xlabel('Predicted')\n",
        "plt.ylabel('Actual')\n",
        "plt.title('Normalized Confusion Matrix')\n",
        "plt.show()"
      ]
    },
    {
      "cell_type": "markdown",
      "metadata": {
        "id": "niDIG296mGhd"
      },
      "source": [
        "# `Optimize Model By Optuna .. `"
      ]
    },
    {
      "cell_type": "code",
      "execution_count": null,
      "metadata": {
        "colab": {
          "base_uri": "https://localhost:8080/"
        },
        "id": "rMZz_9b2l87W",
        "outputId": "2ba1006f-c11c-43ea-e33d-ab634ca7977e"
      },
      "outputs": [
        {
          "name": "stdout",
          "output_type": "stream",
          "text": [
            "Collecting optuna\n",
            "  Downloading optuna-3.6.1-py3-none-any.whl (380 kB)\n",
            "\u001b[2K     \u001b[90m━━━━━━━━━━━━━━━━━━━━━━━━━━━━━━━━━━━━━━━━\u001b[0m \u001b[32m380.1/380.1 kB\u001b[0m \u001b[31m9.4 MB/s\u001b[0m eta \u001b[36m0:00:00\u001b[0m\n",
            "\u001b[?25hCollecting alembic>=1.5.0 (from optuna)\n",
            "  Downloading alembic-1.13.1-py3-none-any.whl (233 kB)\n",
            "\u001b[2K     \u001b[90m━━━━━━━━━━━━━━━━━━━━━━━━━━━━━━━━━━━━━━━━\u001b[0m \u001b[32m233.4/233.4 kB\u001b[0m \u001b[31m27.0 MB/s\u001b[0m eta \u001b[36m0:00:00\u001b[0m\n",
            "\u001b[?25hCollecting colorlog (from optuna)\n",
            "  Downloading colorlog-6.8.2-py3-none-any.whl (11 kB)\n",
            "Requirement already satisfied: numpy in /usr/local/lib/python3.10/dist-packages (from optuna) (1.25.2)\n",
            "Requirement already satisfied: packaging>=20.0 in /usr/local/lib/python3.10/dist-packages (from optuna) (24.0)\n",
            "Requirement already satisfied: sqlalchemy>=1.3.0 in /usr/local/lib/python3.10/dist-packages (from optuna) (2.0.30)\n",
            "Requirement already satisfied: tqdm in /usr/local/lib/python3.10/dist-packages (from optuna) (4.66.4)\n",
            "Requirement already satisfied: PyYAML in /usr/local/lib/python3.10/dist-packages (from optuna) (6.0.1)\n",
            "Collecting Mako (from alembic>=1.5.0->optuna)\n",
            "  Downloading Mako-1.3.5-py3-none-any.whl (78 kB)\n",
            "\u001b[2K     \u001b[90m━━━━━━━━━━━━━━━━━━━━━━━━━━━━━━━━━━━━━━━━\u001b[0m \u001b[32m78.6/78.6 kB\u001b[0m \u001b[31m12.2 MB/s\u001b[0m eta \u001b[36m0:00:00\u001b[0m\n",
            "\u001b[?25hRequirement already satisfied: typing-extensions>=4 in /usr/local/lib/python3.10/dist-packages (from alembic>=1.5.0->optuna) (4.11.0)\n",
            "Requirement already satisfied: greenlet!=0.4.17 in /usr/local/lib/python3.10/dist-packages (from sqlalchemy>=1.3.0->optuna) (3.0.3)\n",
            "Requirement already satisfied: MarkupSafe>=0.9.2 in /usr/local/lib/python3.10/dist-packages (from Mako->alembic>=1.5.0->optuna) (2.1.5)\n",
            "Installing collected packages: Mako, colorlog, alembic, optuna\n",
            "Successfully installed Mako-1.3.5 alembic-1.13.1 colorlog-6.8.2 optuna-3.6.1\n"
          ]
        }
      ],
      "source": [
        "! pip install optuna"
      ]
    },
    {
      "cell_type": "code",
      "execution_count": null,
      "metadata": {
        "colab": {
          "base_uri": "https://localhost:8080/"
        },
        "id": "7TMu7kKWmLpK",
        "outputId": "a7bd15fa-8f18-4b8f-89bf-8cbc5dee3f98"
      },
      "outputs": [
        {
          "name": "stderr",
          "output_type": "stream",
          "text": [
            "[I 2024-05-25 16:42:40,790] A new study created in memory with name: Optimizing_My_Model\n",
            "[I 2024-05-25 16:45:43,781] Trial 0 finished with value: 0.7525961162037488 and parameters: {'vectorizer': 'tfidf', 'max_features': 14908, 'C': 62.51373574521747}. Best is trial 0 with value: 0.7525961162037488.\n",
            "[I 2024-05-25 16:47:47,970] Trial 1 finished with value: 0.718725950527262 and parameters: {'vectorizer': 'count', 'max_features': 2103, 'C': 396.7605077052986}. Best is trial 0 with value: 0.7525961162037488.\n",
            "[I 2024-05-25 16:48:53,849] Trial 2 finished with value: 0.7032878739301253 and parameters: {'vectorizer': 'tfidf', 'max_features': 1391, 'C': 812.3245085588683}. Best is trial 0 with value: 0.7525961162037488.\n",
            "[I 2024-05-25 16:49:50,499] Trial 3 finished with value: 0.7516906618740059 and parameters: {'vectorizer': 'count', 'max_features': 4454, 'C': 3.5498788321965016}. Best is trial 0 with value: 0.7525961162037488.\n",
            "[I 2024-05-25 16:51:08,934] Trial 4 finished with value: 0.7693382725726176 and parameters: {'vectorizer': 'tfidf', 'max_features': 9207, 'C': 7.476312062252298}. Best is trial 4 with value: 0.7693382725726176.\n",
            "[I 2024-05-25 16:52:38,718] Trial 5 finished with value: 0.7518025204876745 and parameters: {'vectorizer': 'count', 'max_features': 6551, 'C': 12.562773503807023}. Best is trial 4 with value: 0.7693382725726176.\n",
            "[I 2024-05-25 16:54:23,891] Trial 6 finished with value: 0.7523670555444987 and parameters: {'vectorizer': 'tfidf', 'max_features': 4794, 'C': 34.890188454913854}. Best is trial 4 with value: 0.7693382725726176.\n",
            "[I 2024-05-25 16:55:31,174] Trial 7 finished with value: 0.7680004163882546 and parameters: {'vectorizer': 'count', 'max_features': 12543, 'C': 3.2476735706274473}. Best is trial 4 with value: 0.7693382725726176.\n",
            "[I 2024-05-25 17:00:31,198] Trial 8 finished with value: 0.7308447749205523 and parameters: {'vectorizer': 'tfidf', 'max_features': 19347, 'C': 266.1901888489055}. Best is trial 4 with value: 0.7693382725726176.\n",
            "[I 2024-05-25 17:02:39,712] Trial 9 finished with value: 0.7492141214123277 and parameters: {'vectorizer': 'count', 'max_features': 14001, 'C': 20.914981329035598}. Best is trial 4 with value: 0.7693382725726176.\n",
            "[I 2024-05-25 17:03:22,320] Trial 10 finished with value: 0.7751370820358799 and parameters: {'vectorizer': 'tfidf', 'max_features': 9546, 'C': 1.0535179945522721}. Best is trial 10 with value: 0.7751370820358799.\n",
            "[I 2024-05-25 17:04:07,120] Trial 11 finished with value: 0.7760118097246529 and parameters: {'vectorizer': 'tfidf', 'max_features': 9304, 'C': 1.306699123790696}. Best is trial 11 with value: 0.7760118097246529.\n",
            "[I 2024-05-25 17:04:46,196] Trial 12 finished with value: 0.7746525341573292 and parameters: {'vectorizer': 'tfidf', 'max_features': 9000, 'C': 1.1361022686505349}. Best is trial 11 with value: 0.7760118097246529.\n",
            "[I 2024-05-25 17:05:31,295] Trial 13 finished with value: 0.7773197251691657 and parameters: {'vectorizer': 'tfidf', 'max_features': 10982, 'C': 1.0327692780350677}. Best is trial 13 with value: 0.7773197251691657.\n",
            "[I 2024-05-25 17:06:36,906] Trial 14 finished with value: 0.7906804925906015 and parameters: {'vectorizer': 'tfidf', 'max_features': 17921, 'C': 2.658826042022349}. Best is trial 14 with value: 0.7906804925906015.\n",
            "[I 2024-05-25 17:07:50,317] Trial 15 finished with value: 0.792676888741709 and parameters: {'vectorizer': 'tfidf', 'max_features': 19833, 'C': 3.008513074950468}. Best is trial 15 with value: 0.792676888741709.\n",
            "[I 2024-05-25 17:09:11,090] Trial 16 finished with value: 0.7921978077022304 and parameters: {'vectorizer': 'tfidf', 'max_features': 19476, 'C': 4.194400774677622}. Best is trial 15 with value: 0.792676888741709.\n",
            "[I 2024-05-25 17:10:39,787] Trial 17 finished with value: 0.7837846035709453 and parameters: {'vectorizer': 'tfidf', 'max_features': 16829, 'C': 7.110953970587636}. Best is trial 15 with value: 0.792676888741709.\n",
            "[I 2024-05-25 17:12:09,524] Trial 18 finished with value: 0.7871190816048672 and parameters: {'vectorizer': 'tfidf', 'max_features': 19819, 'C': 6.5778423244277615}. Best is trial 15 with value: 0.792676888741709.\n",
            "[I 2024-05-25 17:15:39,202] Trial 19 finished with value: 0.7492462544617615 and parameters: {'vectorizer': 'tfidf', 'max_features': 16375, 'C': 85.9378111102621}. Best is trial 15 with value: 0.792676888741709.\n"
          ]
        },
        {
          "name": "stdout",
          "output_type": "stream",
          "text": [
            "Best parameters: {'vectorizer': 'tfidf', 'max_features': 19833, 'C': 3.008513074950468}\n"
          ]
        }
      ],
      "source": [
        "import optuna\n",
        "from sklearn.metrics import f1_score, make_scorer\n",
        "\n",
        "def objective(trial):\n",
        "    vectorizer_type = trial.suggest_categorical('vectorizer', ['count', 'tfidf'])\n",
        "    max_features = trial.suggest_int('max_features', 1000, 20000)\n",
        "    C = trial.suggest_float('C', 1, 1000, log=True)\n",
        "\n",
        "    if vectorizer_type == 'count':\n",
        "        vectorizer = CountVectorizer(max_features=max_features)\n",
        "    else:\n",
        "        vectorizer = TfidfVectorizer(max_features=max_features)\n",
        "\n",
        "    model = LogisticRegression(max_iter=10000, C=C)\n",
        "\n",
        "    pipeline = Pipeline(steps=[\n",
        "        ('preprocessing', CustomTransformer()),\n",
        "        ('Vectorizing', vectorizer),\n",
        "        ('model', model),\n",
        "    ])\n",
        "    pipeline.fit(X_train, y_train)\n",
        "\n",
        "    y_pred = pipeline.predict(X_val)\n",
        "\n",
        "    f1_macro = f1_score(y_val, y_pred, average='macro')\n",
        "\n",
        "    return f1_macro\n",
        "\n",
        "f1_scorer = make_scorer(f1_score, average='macro')\n",
        "\n",
        "study = optuna.create_study(direction='maximize', study_name='Optimizing_My_Model', sampler=optuna.samplers.TPESampler(seed=42))\n",
        "study.optimize(objective, n_trials=20)\n",
        "\n",
        "best_params = study.best_params\n",
        "best_C = best_params['C']\n",
        "best_max_features = best_params['max_features']\n",
        "best_vectorizer_type = best_params['vectorizer']\n",
        "\n",
        "if best_vectorizer_type == 'count':\n",
        "    best_vectorizer = CountVectorizer(max_features=best_max_features)\n",
        "else:\n",
        "    best_vectorizer = TfidfVectorizer(max_features=best_max_features)\n",
        "\n",
        "print(\"Best parameters:\", best_params)"
      ]
    },
    {
      "cell_type": "code",
      "execution_count": null,
      "metadata": {
        "colab": {
          "base_uri": "https://localhost:8080/"
        },
        "id": "JTnj2lDlnTMP",
        "outputId": "7c11c880-b8e0-45c9-e4e7-ef2caaab1b22"
      },
      "outputs": [
        {
          "name": "stdout",
          "output_type": "stream",
          "text": [
            "The best trial is : \n",
            "FrozenTrial(number=15, state=TrialState.COMPLETE, values=[0.792676888741709], datetime_start=datetime.datetime(2024, 5, 25, 17, 6, 36, 910272), datetime_complete=datetime.datetime(2024, 5, 25, 17, 7, 50, 316761), params={'vectorizer': 'tfidf', 'max_features': 19833, 'C': 3.008513074950468}, user_attrs={}, system_attrs={}, intermediate_values={}, distributions={'vectorizer': CategoricalDistribution(choices=('count', 'tfidf')), 'max_features': IntDistribution(high=20000, log=False, low=1000, step=1), 'C': FloatDistribution(high=1000.0, log=True, low=1.0, step=None)}, trial_id=15, value=None)\n",
            "\n",
            "The best value is : \n",
            "0.792676888741709\n",
            "\n",
            "The best parameters are : \n",
            "{'vectorizer': 'tfidf', 'max_features': 19833, 'C': 3.008513074950468}\n"
          ]
        }
      ],
      "source": [
        "print(f\"The best trial is : \\n{study.best_trial}\")\n",
        "print()\n",
        "print(f\"The best value is : \\n{study.best_value}\")\n",
        "print()\n",
        "print(f\"The best parameters are : \\n{study.best_params}\")\n"
      ]
    },
    {
      "cell_type": "code",
      "execution_count": null,
      "metadata": {
        "colab": {
          "base_uri": "https://localhost:8080/",
          "height": 542
        },
        "id": "WUCBpjoVndp7",
        "outputId": "6875b014-3c9e-4a51-b9fc-c8cea98194ac"
      },
      "outputs": [
        {
          "data": {
            "text/html": [
              "<html>\n",
              "<head><meta charset=\"utf-8\" /></head>\n",
              "<body>\n",
              "    <div>            <script src=\"https://cdnjs.cloudflare.com/ajax/libs/mathjax/2.7.5/MathJax.js?config=TeX-AMS-MML_SVG\"></script><script type=\"text/javascript\">if (window.MathJax && window.MathJax.Hub && window.MathJax.Hub.Config) {window.MathJax.Hub.Config({SVG: {font: \"STIX-Web\"}});}</script>                <script type=\"text/javascript\">window.PlotlyConfig = {MathJaxConfig: 'local'};</script>\n",
              "        <script charset=\"utf-8\" src=\"https://cdn.plot.ly/plotly-2.24.1.min.js\"></script>                <div id=\"9013726c-1bb5-4c24-8224-a5fd3df43a05\" class=\"plotly-graph-div\" style=\"height:525px; width:100%;\"></div>            <script type=\"text/javascript\">                                    window.PLOTLYENV=window.PLOTLYENV || {};                                    if (document.getElementById(\"9013726c-1bb5-4c24-8224-a5fd3df43a05\")) {                    Plotly.newPlot(                        \"9013726c-1bb5-4c24-8224-a5fd3df43a05\",                        [{\"mode\":\"markers\",\"name\":\"Objective Value\",\"x\":[0,1,2,3,4,5,6,7,8,9,10,11,12,13,14,15,16,17,18,19],\"y\":[0.7525961162037488,0.718725950527262,0.7032878739301253,0.7516906618740059,0.7693382725726176,0.7518025204876745,0.7523670555444987,0.7680004163882546,0.7308447749205523,0.7492141214123277,0.7751370820358799,0.7760118097246529,0.7746525341573292,0.7773197251691657,0.7906804925906015,0.792676888741709,0.7921978077022304,0.7837846035709453,0.7871190816048672,0.7492462544617615],\"type\":\"scatter\"},{\"mode\":\"lines\",\"name\":\"Best Value\",\"x\":[0,1,2,3,4,5,6,7,8,9,10,11,12,13,14,15,16,17,18,19],\"y\":[0.7525961162037488,0.7525961162037488,0.7525961162037488,0.7525961162037488,0.7693382725726176,0.7693382725726176,0.7693382725726176,0.7693382725726176,0.7693382725726176,0.7693382725726176,0.7751370820358799,0.7760118097246529,0.7760118097246529,0.7773197251691657,0.7906804925906015,0.792676888741709,0.792676888741709,0.792676888741709,0.792676888741709,0.792676888741709],\"type\":\"scatter\"},{\"marker\":{\"color\":\"#cccccc\"},\"mode\":\"markers\",\"name\":\"Infeasible Trial\",\"showlegend\":false,\"x\":[],\"y\":[],\"type\":\"scatter\"}],                        {\"title\":{\"text\":\"Optimization History Plot\"},\"xaxis\":{\"title\":{\"text\":\"Trial\"}},\"yaxis\":{\"title\":{\"text\":\"Objective Value\"}},\"template\":{\"data\":{\"histogram2dcontour\":[{\"type\":\"histogram2dcontour\",\"colorbar\":{\"outlinewidth\":0,\"ticks\":\"\"},\"colorscale\":[[0.0,\"#0d0887\"],[0.1111111111111111,\"#46039f\"],[0.2222222222222222,\"#7201a8\"],[0.3333333333333333,\"#9c179e\"],[0.4444444444444444,\"#bd3786\"],[0.5555555555555556,\"#d8576b\"],[0.6666666666666666,\"#ed7953\"],[0.7777777777777778,\"#fb9f3a\"],[0.8888888888888888,\"#fdca26\"],[1.0,\"#f0f921\"]]}],\"choropleth\":[{\"type\":\"choropleth\",\"colorbar\":{\"outlinewidth\":0,\"ticks\":\"\"}}],\"histogram2d\":[{\"type\":\"histogram2d\",\"colorbar\":{\"outlinewidth\":0,\"ticks\":\"\"},\"colorscale\":[[0.0,\"#0d0887\"],[0.1111111111111111,\"#46039f\"],[0.2222222222222222,\"#7201a8\"],[0.3333333333333333,\"#9c179e\"],[0.4444444444444444,\"#bd3786\"],[0.5555555555555556,\"#d8576b\"],[0.6666666666666666,\"#ed7953\"],[0.7777777777777778,\"#fb9f3a\"],[0.8888888888888888,\"#fdca26\"],[1.0,\"#f0f921\"]]}],\"heatmap\":[{\"type\":\"heatmap\",\"colorbar\":{\"outlinewidth\":0,\"ticks\":\"\"},\"colorscale\":[[0.0,\"#0d0887\"],[0.1111111111111111,\"#46039f\"],[0.2222222222222222,\"#7201a8\"],[0.3333333333333333,\"#9c179e\"],[0.4444444444444444,\"#bd3786\"],[0.5555555555555556,\"#d8576b\"],[0.6666666666666666,\"#ed7953\"],[0.7777777777777778,\"#fb9f3a\"],[0.8888888888888888,\"#fdca26\"],[1.0,\"#f0f921\"]]}],\"heatmapgl\":[{\"type\":\"heatmapgl\",\"colorbar\":{\"outlinewidth\":0,\"ticks\":\"\"},\"colorscale\":[[0.0,\"#0d0887\"],[0.1111111111111111,\"#46039f\"],[0.2222222222222222,\"#7201a8\"],[0.3333333333333333,\"#9c179e\"],[0.4444444444444444,\"#bd3786\"],[0.5555555555555556,\"#d8576b\"],[0.6666666666666666,\"#ed7953\"],[0.7777777777777778,\"#fb9f3a\"],[0.8888888888888888,\"#fdca26\"],[1.0,\"#f0f921\"]]}],\"contourcarpet\":[{\"type\":\"contourcarpet\",\"colorbar\":{\"outlinewidth\":0,\"ticks\":\"\"}}],\"contour\":[{\"type\":\"contour\",\"colorbar\":{\"outlinewidth\":0,\"ticks\":\"\"},\"colorscale\":[[0.0,\"#0d0887\"],[0.1111111111111111,\"#46039f\"],[0.2222222222222222,\"#7201a8\"],[0.3333333333333333,\"#9c179e\"],[0.4444444444444444,\"#bd3786\"],[0.5555555555555556,\"#d8576b\"],[0.6666666666666666,\"#ed7953\"],[0.7777777777777778,\"#fb9f3a\"],[0.8888888888888888,\"#fdca26\"],[1.0,\"#f0f921\"]]}],\"surface\":[{\"type\":\"surface\",\"colorbar\":{\"outlinewidth\":0,\"ticks\":\"\"},\"colorscale\":[[0.0,\"#0d0887\"],[0.1111111111111111,\"#46039f\"],[0.2222222222222222,\"#7201a8\"],[0.3333333333333333,\"#9c179e\"],[0.4444444444444444,\"#bd3786\"],[0.5555555555555556,\"#d8576b\"],[0.6666666666666666,\"#ed7953\"],[0.7777777777777778,\"#fb9f3a\"],[0.8888888888888888,\"#fdca26\"],[1.0,\"#f0f921\"]]}],\"mesh3d\":[{\"type\":\"mesh3d\",\"colorbar\":{\"outlinewidth\":0,\"ticks\":\"\"}}],\"scatter\":[{\"fillpattern\":{\"fillmode\":\"overlay\",\"size\":10,\"solidity\":0.2},\"type\":\"scatter\"}],\"parcoords\":[{\"type\":\"parcoords\",\"line\":{\"colorbar\":{\"outlinewidth\":0,\"ticks\":\"\"}}}],\"scatterpolargl\":[{\"type\":\"scatterpolargl\",\"marker\":{\"colorbar\":{\"outlinewidth\":0,\"ticks\":\"\"}}}],\"bar\":[{\"error_x\":{\"color\":\"#2a3f5f\"},\"error_y\":{\"color\":\"#2a3f5f\"},\"marker\":{\"line\":{\"color\":\"#E5ECF6\",\"width\":0.5},\"pattern\":{\"fillmode\":\"overlay\",\"size\":10,\"solidity\":0.2}},\"type\":\"bar\"}],\"scattergeo\":[{\"type\":\"scattergeo\",\"marker\":{\"colorbar\":{\"outlinewidth\":0,\"ticks\":\"\"}}}],\"scatterpolar\":[{\"type\":\"scatterpolar\",\"marker\":{\"colorbar\":{\"outlinewidth\":0,\"ticks\":\"\"}}}],\"histogram\":[{\"marker\":{\"pattern\":{\"fillmode\":\"overlay\",\"size\":10,\"solidity\":0.2}},\"type\":\"histogram\"}],\"scattergl\":[{\"type\":\"scattergl\",\"marker\":{\"colorbar\":{\"outlinewidth\":0,\"ticks\":\"\"}}}],\"scatter3d\":[{\"type\":\"scatter3d\",\"line\":{\"colorbar\":{\"outlinewidth\":0,\"ticks\":\"\"}},\"marker\":{\"colorbar\":{\"outlinewidth\":0,\"ticks\":\"\"}}}],\"scattermapbox\":[{\"type\":\"scattermapbox\",\"marker\":{\"colorbar\":{\"outlinewidth\":0,\"ticks\":\"\"}}}],\"scatterternary\":[{\"type\":\"scatterternary\",\"marker\":{\"colorbar\":{\"outlinewidth\":0,\"ticks\":\"\"}}}],\"scattercarpet\":[{\"type\":\"scattercarpet\",\"marker\":{\"colorbar\":{\"outlinewidth\":0,\"ticks\":\"\"}}}],\"carpet\":[{\"aaxis\":{\"endlinecolor\":\"#2a3f5f\",\"gridcolor\":\"white\",\"linecolor\":\"white\",\"minorgridcolor\":\"white\",\"startlinecolor\":\"#2a3f5f\"},\"baxis\":{\"endlinecolor\":\"#2a3f5f\",\"gridcolor\":\"white\",\"linecolor\":\"white\",\"minorgridcolor\":\"white\",\"startlinecolor\":\"#2a3f5f\"},\"type\":\"carpet\"}],\"table\":[{\"cells\":{\"fill\":{\"color\":\"#EBF0F8\"},\"line\":{\"color\":\"white\"}},\"header\":{\"fill\":{\"color\":\"#C8D4E3\"},\"line\":{\"color\":\"white\"}},\"type\":\"table\"}],\"barpolar\":[{\"marker\":{\"line\":{\"color\":\"#E5ECF6\",\"width\":0.5},\"pattern\":{\"fillmode\":\"overlay\",\"size\":10,\"solidity\":0.2}},\"type\":\"barpolar\"}],\"pie\":[{\"automargin\":true,\"type\":\"pie\"}]},\"layout\":{\"autotypenumbers\":\"strict\",\"colorway\":[\"#636efa\",\"#EF553B\",\"#00cc96\",\"#ab63fa\",\"#FFA15A\",\"#19d3f3\",\"#FF6692\",\"#B6E880\",\"#FF97FF\",\"#FECB52\"],\"font\":{\"color\":\"#2a3f5f\"},\"hovermode\":\"closest\",\"hoverlabel\":{\"align\":\"left\"},\"paper_bgcolor\":\"white\",\"plot_bgcolor\":\"#E5ECF6\",\"polar\":{\"bgcolor\":\"#E5ECF6\",\"angularaxis\":{\"gridcolor\":\"white\",\"linecolor\":\"white\",\"ticks\":\"\"},\"radialaxis\":{\"gridcolor\":\"white\",\"linecolor\":\"white\",\"ticks\":\"\"}},\"ternary\":{\"bgcolor\":\"#E5ECF6\",\"aaxis\":{\"gridcolor\":\"white\",\"linecolor\":\"white\",\"ticks\":\"\"},\"baxis\":{\"gridcolor\":\"white\",\"linecolor\":\"white\",\"ticks\":\"\"},\"caxis\":{\"gridcolor\":\"white\",\"linecolor\":\"white\",\"ticks\":\"\"}},\"coloraxis\":{\"colorbar\":{\"outlinewidth\":0,\"ticks\":\"\"}},\"colorscale\":{\"sequential\":[[0.0,\"#0d0887\"],[0.1111111111111111,\"#46039f\"],[0.2222222222222222,\"#7201a8\"],[0.3333333333333333,\"#9c179e\"],[0.4444444444444444,\"#bd3786\"],[0.5555555555555556,\"#d8576b\"],[0.6666666666666666,\"#ed7953\"],[0.7777777777777778,\"#fb9f3a\"],[0.8888888888888888,\"#fdca26\"],[1.0,\"#f0f921\"]],\"sequentialminus\":[[0.0,\"#0d0887\"],[0.1111111111111111,\"#46039f\"],[0.2222222222222222,\"#7201a8\"],[0.3333333333333333,\"#9c179e\"],[0.4444444444444444,\"#bd3786\"],[0.5555555555555556,\"#d8576b\"],[0.6666666666666666,\"#ed7953\"],[0.7777777777777778,\"#fb9f3a\"],[0.8888888888888888,\"#fdca26\"],[1.0,\"#f0f921\"]],\"diverging\":[[0,\"#8e0152\"],[0.1,\"#c51b7d\"],[0.2,\"#de77ae\"],[0.3,\"#f1b6da\"],[0.4,\"#fde0ef\"],[0.5,\"#f7f7f7\"],[0.6,\"#e6f5d0\"],[0.7,\"#b8e186\"],[0.8,\"#7fbc41\"],[0.9,\"#4d9221\"],[1,\"#276419\"]]},\"xaxis\":{\"gridcolor\":\"white\",\"linecolor\":\"white\",\"ticks\":\"\",\"title\":{\"standoff\":15},\"zerolinecolor\":\"white\",\"automargin\":true,\"zerolinewidth\":2},\"yaxis\":{\"gridcolor\":\"white\",\"linecolor\":\"white\",\"ticks\":\"\",\"title\":{\"standoff\":15},\"zerolinecolor\":\"white\",\"automargin\":true,\"zerolinewidth\":2},\"scene\":{\"xaxis\":{\"backgroundcolor\":\"#E5ECF6\",\"gridcolor\":\"white\",\"linecolor\":\"white\",\"showbackground\":true,\"ticks\":\"\",\"zerolinecolor\":\"white\",\"gridwidth\":2},\"yaxis\":{\"backgroundcolor\":\"#E5ECF6\",\"gridcolor\":\"white\",\"linecolor\":\"white\",\"showbackground\":true,\"ticks\":\"\",\"zerolinecolor\":\"white\",\"gridwidth\":2},\"zaxis\":{\"backgroundcolor\":\"#E5ECF6\",\"gridcolor\":\"white\",\"linecolor\":\"white\",\"showbackground\":true,\"ticks\":\"\",\"zerolinecolor\":\"white\",\"gridwidth\":2}},\"shapedefaults\":{\"line\":{\"color\":\"#2a3f5f\"}},\"annotationdefaults\":{\"arrowcolor\":\"#2a3f5f\",\"arrowhead\":0,\"arrowwidth\":1},\"geo\":{\"bgcolor\":\"white\",\"landcolor\":\"#E5ECF6\",\"subunitcolor\":\"white\",\"showland\":true,\"showlakes\":true,\"lakecolor\":\"white\"},\"title\":{\"x\":0.05},\"mapbox\":{\"style\":\"light\"}}}},                        {\"responsive\": true}                    ).then(function(){\n",
              "                            \n",
              "var gd = document.getElementById('9013726c-1bb5-4c24-8224-a5fd3df43a05');\n",
              "var x = new MutationObserver(function (mutations, observer) {{\n",
              "        var display = window.getComputedStyle(gd).display;\n",
              "        if (!display || display === 'none') {{\n",
              "            console.log([gd, 'removed!']);\n",
              "            Plotly.purge(gd);\n",
              "            observer.disconnect();\n",
              "        }}\n",
              "}});\n",
              "\n",
              "// Listen for the removal of the full notebook cells\n",
              "var notebookContainer = gd.closest('#notebook-container');\n",
              "if (notebookContainer) {{\n",
              "    x.observe(notebookContainer, {childList: true});\n",
              "}}\n",
              "\n",
              "// Listen for the clearing of the current output cell\n",
              "var outputEl = gd.closest('.output');\n",
              "if (outputEl) {{\n",
              "    x.observe(outputEl, {childList: true});\n",
              "}}\n",
              "\n",
              "                        })                };                            </script>        </div>\n",
              "</body>\n",
              "</html>"
            ]
          },
          "metadata": {},
          "output_type": "display_data"
        }
      ],
      "source": [
        "fig = optuna.visualization.plot_optimization_history(study)\n",
        "fig.show()"
      ]
    },
    {
      "cell_type": "code",
      "execution_count": null,
      "metadata": {
        "colab": {
          "base_uri": "https://localhost:8080/",
          "height": 542
        },
        "id": "fiWQfOvpnfOw",
        "outputId": "edea5579-8445-44fb-e556-b61dafa221f1"
      },
      "outputs": [
        {
          "data": {
            "text/html": [
              "<html>\n",
              "<head><meta charset=\"utf-8\" /></head>\n",
              "<body>\n",
              "    <div>            <script src=\"https://cdnjs.cloudflare.com/ajax/libs/mathjax/2.7.5/MathJax.js?config=TeX-AMS-MML_SVG\"></script><script type=\"text/javascript\">if (window.MathJax && window.MathJax.Hub && window.MathJax.Hub.Config) {window.MathJax.Hub.Config({SVG: {font: \"STIX-Web\"}});}</script>                <script type=\"text/javascript\">window.PlotlyConfig = {MathJaxConfig: 'local'};</script>\n",
              "        <script charset=\"utf-8\" src=\"https://cdn.plot.ly/plotly-2.24.1.min.js\"></script>                <div id=\"bed62cd5-a847-4747-bb4c-e626e756a3c4\" class=\"plotly-graph-div\" style=\"height:525px; width:100%;\"></div>            <script type=\"text/javascript\">                                    window.PLOTLYENV=window.PLOTLYENV || {};                                    if (document.getElementById(\"bed62cd5-a847-4747-bb4c-e626e756a3c4\")) {                    Plotly.newPlot(                        \"bed62cd5-a847-4747-bb4c-e626e756a3c4\",                        [{\"dimensions\":[{\"label\":\"Objective Value\",\"range\":[0.7032878739301253,0.792676888741709],\"values\":[0.7525961162037488,0.718725950527262,0.7032878739301253,0.7516906618740059,0.7693382725726176,0.7518025204876745,0.7523670555444987,0.7680004163882546,0.7308447749205523,0.7492141214123277,0.7751370820358799,0.7760118097246529,0.7746525341573292,0.7773197251691657,0.7906804925906015,0.792676888741709,0.7921978077022304,0.7837846035709453,0.7871190816048672,0.7492462544617615]},{\"label\":\"C\",\"range\":[0.014003310418036246,2.909729556485983],\"ticktext\":[\"1.03\",\"10\",\"100\",\"812\"],\"tickvals\":[0.014003310418036246,1,2,2.909729556485983],\"values\":[1.7959754525911098,2.5985284373248057,2.909729556485983,0.5502135295603015,0.8736874205941256,1.099085529881075,1.5427033152408347,0.5115723710618746,2.4251920443493833,1.320457481218804,0.022641957948878803,0.11617559988354847,0.055417427071740306,0.014003310418036246,0.42468992384485016,0.4783519032687583,0.6226699249169452,0.8519278674485233,0.8180834589229089,1.934184287736981]},{\"label\":\"max_features\",\"range\":[1391,19833],\"values\":[14908,2103,1391,4454,9207,6551,4794,12543,19347,14001,9546,9304,9000,10982,17921,19833,19476,16829,19819,16375]},{\"label\":\"vectorizer\",\"range\":[0,1],\"ticktext\":[\"tfidf\",\"count\"],\"tickvals\":[0,1],\"values\":[0,1,0,1,0,1,0,1,0,1,0,0,0,0,0,0,0,0,0,0]}],\"labelangle\":30,\"labelside\":\"bottom\",\"line\":{\"color\":[0.7525961162037488,0.718725950527262,0.7032878739301253,0.7516906618740059,0.7693382725726176,0.7518025204876745,0.7523670555444987,0.7680004163882546,0.7308447749205523,0.7492141214123277,0.7751370820358799,0.7760118097246529,0.7746525341573292,0.7773197251691657,0.7906804925906015,0.792676888741709,0.7921978077022304,0.7837846035709453,0.7871190816048672,0.7492462544617615],\"colorbar\":{\"title\":{\"text\":\"Objective Value\"}},\"colorscale\":[[0.0,\"rgb(247,251,255)\"],[0.125,\"rgb(222,235,247)\"],[0.25,\"rgb(198,219,239)\"],[0.375,\"rgb(158,202,225)\"],[0.5,\"rgb(107,174,214)\"],[0.625,\"rgb(66,146,198)\"],[0.75,\"rgb(33,113,181)\"],[0.875,\"rgb(8,81,156)\"],[1.0,\"rgb(8,48,107)\"]],\"reversescale\":false,\"showscale\":true},\"type\":\"parcoords\"}],                        {\"title\":{\"text\":\"Parallel Coordinate Plot\"},\"template\":{\"data\":{\"histogram2dcontour\":[{\"type\":\"histogram2dcontour\",\"colorbar\":{\"outlinewidth\":0,\"ticks\":\"\"},\"colorscale\":[[0.0,\"#0d0887\"],[0.1111111111111111,\"#46039f\"],[0.2222222222222222,\"#7201a8\"],[0.3333333333333333,\"#9c179e\"],[0.4444444444444444,\"#bd3786\"],[0.5555555555555556,\"#d8576b\"],[0.6666666666666666,\"#ed7953\"],[0.7777777777777778,\"#fb9f3a\"],[0.8888888888888888,\"#fdca26\"],[1.0,\"#f0f921\"]]}],\"choropleth\":[{\"type\":\"choropleth\",\"colorbar\":{\"outlinewidth\":0,\"ticks\":\"\"}}],\"histogram2d\":[{\"type\":\"histogram2d\",\"colorbar\":{\"outlinewidth\":0,\"ticks\":\"\"},\"colorscale\":[[0.0,\"#0d0887\"],[0.1111111111111111,\"#46039f\"],[0.2222222222222222,\"#7201a8\"],[0.3333333333333333,\"#9c179e\"],[0.4444444444444444,\"#bd3786\"],[0.5555555555555556,\"#d8576b\"],[0.6666666666666666,\"#ed7953\"],[0.7777777777777778,\"#fb9f3a\"],[0.8888888888888888,\"#fdca26\"],[1.0,\"#f0f921\"]]}],\"heatmap\":[{\"type\":\"heatmap\",\"colorbar\":{\"outlinewidth\":0,\"ticks\":\"\"},\"colorscale\":[[0.0,\"#0d0887\"],[0.1111111111111111,\"#46039f\"],[0.2222222222222222,\"#7201a8\"],[0.3333333333333333,\"#9c179e\"],[0.4444444444444444,\"#bd3786\"],[0.5555555555555556,\"#d8576b\"],[0.6666666666666666,\"#ed7953\"],[0.7777777777777778,\"#fb9f3a\"],[0.8888888888888888,\"#fdca26\"],[1.0,\"#f0f921\"]]}],\"heatmapgl\":[{\"type\":\"heatmapgl\",\"colorbar\":{\"outlinewidth\":0,\"ticks\":\"\"},\"colorscale\":[[0.0,\"#0d0887\"],[0.1111111111111111,\"#46039f\"],[0.2222222222222222,\"#7201a8\"],[0.3333333333333333,\"#9c179e\"],[0.4444444444444444,\"#bd3786\"],[0.5555555555555556,\"#d8576b\"],[0.6666666666666666,\"#ed7953\"],[0.7777777777777778,\"#fb9f3a\"],[0.8888888888888888,\"#fdca26\"],[1.0,\"#f0f921\"]]}],\"contourcarpet\":[{\"type\":\"contourcarpet\",\"colorbar\":{\"outlinewidth\":0,\"ticks\":\"\"}}],\"contour\":[{\"type\":\"contour\",\"colorbar\":{\"outlinewidth\":0,\"ticks\":\"\"},\"colorscale\":[[0.0,\"#0d0887\"],[0.1111111111111111,\"#46039f\"],[0.2222222222222222,\"#7201a8\"],[0.3333333333333333,\"#9c179e\"],[0.4444444444444444,\"#bd3786\"],[0.5555555555555556,\"#d8576b\"],[0.6666666666666666,\"#ed7953\"],[0.7777777777777778,\"#fb9f3a\"],[0.8888888888888888,\"#fdca26\"],[1.0,\"#f0f921\"]]}],\"surface\":[{\"type\":\"surface\",\"colorbar\":{\"outlinewidth\":0,\"ticks\":\"\"},\"colorscale\":[[0.0,\"#0d0887\"],[0.1111111111111111,\"#46039f\"],[0.2222222222222222,\"#7201a8\"],[0.3333333333333333,\"#9c179e\"],[0.4444444444444444,\"#bd3786\"],[0.5555555555555556,\"#d8576b\"],[0.6666666666666666,\"#ed7953\"],[0.7777777777777778,\"#fb9f3a\"],[0.8888888888888888,\"#fdca26\"],[1.0,\"#f0f921\"]]}],\"mesh3d\":[{\"type\":\"mesh3d\",\"colorbar\":{\"outlinewidth\":0,\"ticks\":\"\"}}],\"scatter\":[{\"fillpattern\":{\"fillmode\":\"overlay\",\"size\":10,\"solidity\":0.2},\"type\":\"scatter\"}],\"parcoords\":[{\"type\":\"parcoords\",\"line\":{\"colorbar\":{\"outlinewidth\":0,\"ticks\":\"\"}}}],\"scatterpolargl\":[{\"type\":\"scatterpolargl\",\"marker\":{\"colorbar\":{\"outlinewidth\":0,\"ticks\":\"\"}}}],\"bar\":[{\"error_x\":{\"color\":\"#2a3f5f\"},\"error_y\":{\"color\":\"#2a3f5f\"},\"marker\":{\"line\":{\"color\":\"#E5ECF6\",\"width\":0.5},\"pattern\":{\"fillmode\":\"overlay\",\"size\":10,\"solidity\":0.2}},\"type\":\"bar\"}],\"scattergeo\":[{\"type\":\"scattergeo\",\"marker\":{\"colorbar\":{\"outlinewidth\":0,\"ticks\":\"\"}}}],\"scatterpolar\":[{\"type\":\"scatterpolar\",\"marker\":{\"colorbar\":{\"outlinewidth\":0,\"ticks\":\"\"}}}],\"histogram\":[{\"marker\":{\"pattern\":{\"fillmode\":\"overlay\",\"size\":10,\"solidity\":0.2}},\"type\":\"histogram\"}],\"scattergl\":[{\"type\":\"scattergl\",\"marker\":{\"colorbar\":{\"outlinewidth\":0,\"ticks\":\"\"}}}],\"scatter3d\":[{\"type\":\"scatter3d\",\"line\":{\"colorbar\":{\"outlinewidth\":0,\"ticks\":\"\"}},\"marker\":{\"colorbar\":{\"outlinewidth\":0,\"ticks\":\"\"}}}],\"scattermapbox\":[{\"type\":\"scattermapbox\",\"marker\":{\"colorbar\":{\"outlinewidth\":0,\"ticks\":\"\"}}}],\"scatterternary\":[{\"type\":\"scatterternary\",\"marker\":{\"colorbar\":{\"outlinewidth\":0,\"ticks\":\"\"}}}],\"scattercarpet\":[{\"type\":\"scattercarpet\",\"marker\":{\"colorbar\":{\"outlinewidth\":0,\"ticks\":\"\"}}}],\"carpet\":[{\"aaxis\":{\"endlinecolor\":\"#2a3f5f\",\"gridcolor\":\"white\",\"linecolor\":\"white\",\"minorgridcolor\":\"white\",\"startlinecolor\":\"#2a3f5f\"},\"baxis\":{\"endlinecolor\":\"#2a3f5f\",\"gridcolor\":\"white\",\"linecolor\":\"white\",\"minorgridcolor\":\"white\",\"startlinecolor\":\"#2a3f5f\"},\"type\":\"carpet\"}],\"table\":[{\"cells\":{\"fill\":{\"color\":\"#EBF0F8\"},\"line\":{\"color\":\"white\"}},\"header\":{\"fill\":{\"color\":\"#C8D4E3\"},\"line\":{\"color\":\"white\"}},\"type\":\"table\"}],\"barpolar\":[{\"marker\":{\"line\":{\"color\":\"#E5ECF6\",\"width\":0.5},\"pattern\":{\"fillmode\":\"overlay\",\"size\":10,\"solidity\":0.2}},\"type\":\"barpolar\"}],\"pie\":[{\"automargin\":true,\"type\":\"pie\"}]},\"layout\":{\"autotypenumbers\":\"strict\",\"colorway\":[\"#636efa\",\"#EF553B\",\"#00cc96\",\"#ab63fa\",\"#FFA15A\",\"#19d3f3\",\"#FF6692\",\"#B6E880\",\"#FF97FF\",\"#FECB52\"],\"font\":{\"color\":\"#2a3f5f\"},\"hovermode\":\"closest\",\"hoverlabel\":{\"align\":\"left\"},\"paper_bgcolor\":\"white\",\"plot_bgcolor\":\"#E5ECF6\",\"polar\":{\"bgcolor\":\"#E5ECF6\",\"angularaxis\":{\"gridcolor\":\"white\",\"linecolor\":\"white\",\"ticks\":\"\"},\"radialaxis\":{\"gridcolor\":\"white\",\"linecolor\":\"white\",\"ticks\":\"\"}},\"ternary\":{\"bgcolor\":\"#E5ECF6\",\"aaxis\":{\"gridcolor\":\"white\",\"linecolor\":\"white\",\"ticks\":\"\"},\"baxis\":{\"gridcolor\":\"white\",\"linecolor\":\"white\",\"ticks\":\"\"},\"caxis\":{\"gridcolor\":\"white\",\"linecolor\":\"white\",\"ticks\":\"\"}},\"coloraxis\":{\"colorbar\":{\"outlinewidth\":0,\"ticks\":\"\"}},\"colorscale\":{\"sequential\":[[0.0,\"#0d0887\"],[0.1111111111111111,\"#46039f\"],[0.2222222222222222,\"#7201a8\"],[0.3333333333333333,\"#9c179e\"],[0.4444444444444444,\"#bd3786\"],[0.5555555555555556,\"#d8576b\"],[0.6666666666666666,\"#ed7953\"],[0.7777777777777778,\"#fb9f3a\"],[0.8888888888888888,\"#fdca26\"],[1.0,\"#f0f921\"]],\"sequentialminus\":[[0.0,\"#0d0887\"],[0.1111111111111111,\"#46039f\"],[0.2222222222222222,\"#7201a8\"],[0.3333333333333333,\"#9c179e\"],[0.4444444444444444,\"#bd3786\"],[0.5555555555555556,\"#d8576b\"],[0.6666666666666666,\"#ed7953\"],[0.7777777777777778,\"#fb9f3a\"],[0.8888888888888888,\"#fdca26\"],[1.0,\"#f0f921\"]],\"diverging\":[[0,\"#8e0152\"],[0.1,\"#c51b7d\"],[0.2,\"#de77ae\"],[0.3,\"#f1b6da\"],[0.4,\"#fde0ef\"],[0.5,\"#f7f7f7\"],[0.6,\"#e6f5d0\"],[0.7,\"#b8e186\"],[0.8,\"#7fbc41\"],[0.9,\"#4d9221\"],[1,\"#276419\"]]},\"xaxis\":{\"gridcolor\":\"white\",\"linecolor\":\"white\",\"ticks\":\"\",\"title\":{\"standoff\":15},\"zerolinecolor\":\"white\",\"automargin\":true,\"zerolinewidth\":2},\"yaxis\":{\"gridcolor\":\"white\",\"linecolor\":\"white\",\"ticks\":\"\",\"title\":{\"standoff\":15},\"zerolinecolor\":\"white\",\"automargin\":true,\"zerolinewidth\":2},\"scene\":{\"xaxis\":{\"backgroundcolor\":\"#E5ECF6\",\"gridcolor\":\"white\",\"linecolor\":\"white\",\"showbackground\":true,\"ticks\":\"\",\"zerolinecolor\":\"white\",\"gridwidth\":2},\"yaxis\":{\"backgroundcolor\":\"#E5ECF6\",\"gridcolor\":\"white\",\"linecolor\":\"white\",\"showbackground\":true,\"ticks\":\"\",\"zerolinecolor\":\"white\",\"gridwidth\":2},\"zaxis\":{\"backgroundcolor\":\"#E5ECF6\",\"gridcolor\":\"white\",\"linecolor\":\"white\",\"showbackground\":true,\"ticks\":\"\",\"zerolinecolor\":\"white\",\"gridwidth\":2}},\"shapedefaults\":{\"line\":{\"color\":\"#2a3f5f\"}},\"annotationdefaults\":{\"arrowcolor\":\"#2a3f5f\",\"arrowhead\":0,\"arrowwidth\":1},\"geo\":{\"bgcolor\":\"white\",\"landcolor\":\"#E5ECF6\",\"subunitcolor\":\"white\",\"showland\":true,\"showlakes\":true,\"lakecolor\":\"white\"},\"title\":{\"x\":0.05},\"mapbox\":{\"style\":\"light\"}}}},                        {\"responsive\": true}                    ).then(function(){\n",
              "                            \n",
              "var gd = document.getElementById('bed62cd5-a847-4747-bb4c-e626e756a3c4');\n",
              "var x = new MutationObserver(function (mutations, observer) {{\n",
              "        var display = window.getComputedStyle(gd).display;\n",
              "        if (!display || display === 'none') {{\n",
              "            console.log([gd, 'removed!']);\n",
              "            Plotly.purge(gd);\n",
              "            observer.disconnect();\n",
              "        }}\n",
              "}});\n",
              "\n",
              "// Listen for the removal of the full notebook cells\n",
              "var notebookContainer = gd.closest('#notebook-container');\n",
              "if (notebookContainer) {{\n",
              "    x.observe(notebookContainer, {childList: true});\n",
              "}}\n",
              "\n",
              "// Listen for the clearing of the current output cell\n",
              "var outputEl = gd.closest('.output');\n",
              "if (outputEl) {{\n",
              "    x.observe(outputEl, {childList: true});\n",
              "}}\n",
              "\n",
              "                        })                };                            </script>        </div>\n",
              "</body>\n",
              "</html>"
            ]
          },
          "metadata": {},
          "output_type": "display_data"
        }
      ],
      "source": [
        "optuna.visualization.plot_parallel_coordinate(study, params=['vectorizer', 'max_features', \"C\"])"
      ]
    },
    {
      "cell_type": "code",
      "execution_count": null,
      "metadata": {
        "colab": {
          "base_uri": "https://localhost:8080/",
          "height": 542
        },
        "id": "lubH0H5univL",
        "outputId": "8f848bf4-cffc-4419-a2f6-7c79cad45acf"
      },
      "outputs": [
        {
          "data": {
            "text/html": [
              "<html>\n",
              "<head><meta charset=\"utf-8\" /></head>\n",
              "<body>\n",
              "    <div>            <script src=\"https://cdnjs.cloudflare.com/ajax/libs/mathjax/2.7.5/MathJax.js?config=TeX-AMS-MML_SVG\"></script><script type=\"text/javascript\">if (window.MathJax && window.MathJax.Hub && window.MathJax.Hub.Config) {window.MathJax.Hub.Config({SVG: {font: \"STIX-Web\"}});}</script>                <script type=\"text/javascript\">window.PlotlyConfig = {MathJaxConfig: 'local'};</script>\n",
              "        <script charset=\"utf-8\" src=\"https://cdn.plot.ly/plotly-2.24.1.min.js\"></script>                <div id=\"656d8bc3-6faf-4f93-a336-84848b10d474\" class=\"plotly-graph-div\" style=\"height:525px; width:100%;\"></div>            <script type=\"text/javascript\">                                    window.PLOTLYENV=window.PLOTLYENV || {};                                    if (document.getElementById(\"656d8bc3-6faf-4f93-a336-84848b10d474\")) {                    Plotly.newPlot(                        \"656d8bc3-6faf-4f93-a336-84848b10d474\",                        [{\"cliponaxis\":false,\"hovertemplate\":[\"vectorizer (CategoricalDistribution): 0.052670312568460775\\u003cextra\\u003e\\u003c\\u002fextra\\u003e\",\"max_features (IntDistribution): 0.3828447612026071\\u003cextra\\u003e\\u003c\\u002fextra\\u003e\",\"C (FloatDistribution): 0.5644849262289322\\u003cextra\\u003e\\u003c\\u002fextra\\u003e\"],\"name\":\"Objective Value\",\"orientation\":\"h\",\"text\":[\"0.05\",\"0.38\",\"0.56\"],\"textposition\":\"outside\",\"x\":[0.052670312568460775,0.3828447612026071,0.5644849262289322],\"y\":[\"vectorizer\",\"max_features\",\"C\"],\"type\":\"bar\"}],                        {\"title\":{\"text\":\"Hyperparameter Importances\"},\"xaxis\":{\"title\":{\"text\":\"Hyperparameter Importance\"}},\"yaxis\":{\"title\":{\"text\":\"Hyperparameter\"}},\"template\":{\"data\":{\"histogram2dcontour\":[{\"type\":\"histogram2dcontour\",\"colorbar\":{\"outlinewidth\":0,\"ticks\":\"\"},\"colorscale\":[[0.0,\"#0d0887\"],[0.1111111111111111,\"#46039f\"],[0.2222222222222222,\"#7201a8\"],[0.3333333333333333,\"#9c179e\"],[0.4444444444444444,\"#bd3786\"],[0.5555555555555556,\"#d8576b\"],[0.6666666666666666,\"#ed7953\"],[0.7777777777777778,\"#fb9f3a\"],[0.8888888888888888,\"#fdca26\"],[1.0,\"#f0f921\"]]}],\"choropleth\":[{\"type\":\"choropleth\",\"colorbar\":{\"outlinewidth\":0,\"ticks\":\"\"}}],\"histogram2d\":[{\"type\":\"histogram2d\",\"colorbar\":{\"outlinewidth\":0,\"ticks\":\"\"},\"colorscale\":[[0.0,\"#0d0887\"],[0.1111111111111111,\"#46039f\"],[0.2222222222222222,\"#7201a8\"],[0.3333333333333333,\"#9c179e\"],[0.4444444444444444,\"#bd3786\"],[0.5555555555555556,\"#d8576b\"],[0.6666666666666666,\"#ed7953\"],[0.7777777777777778,\"#fb9f3a\"],[0.8888888888888888,\"#fdca26\"],[1.0,\"#f0f921\"]]}],\"heatmap\":[{\"type\":\"heatmap\",\"colorbar\":{\"outlinewidth\":0,\"ticks\":\"\"},\"colorscale\":[[0.0,\"#0d0887\"],[0.1111111111111111,\"#46039f\"],[0.2222222222222222,\"#7201a8\"],[0.3333333333333333,\"#9c179e\"],[0.4444444444444444,\"#bd3786\"],[0.5555555555555556,\"#d8576b\"],[0.6666666666666666,\"#ed7953\"],[0.7777777777777778,\"#fb9f3a\"],[0.8888888888888888,\"#fdca26\"],[1.0,\"#f0f921\"]]}],\"heatmapgl\":[{\"type\":\"heatmapgl\",\"colorbar\":{\"outlinewidth\":0,\"ticks\":\"\"},\"colorscale\":[[0.0,\"#0d0887\"],[0.1111111111111111,\"#46039f\"],[0.2222222222222222,\"#7201a8\"],[0.3333333333333333,\"#9c179e\"],[0.4444444444444444,\"#bd3786\"],[0.5555555555555556,\"#d8576b\"],[0.6666666666666666,\"#ed7953\"],[0.7777777777777778,\"#fb9f3a\"],[0.8888888888888888,\"#fdca26\"],[1.0,\"#f0f921\"]]}],\"contourcarpet\":[{\"type\":\"contourcarpet\",\"colorbar\":{\"outlinewidth\":0,\"ticks\":\"\"}}],\"contour\":[{\"type\":\"contour\",\"colorbar\":{\"outlinewidth\":0,\"ticks\":\"\"},\"colorscale\":[[0.0,\"#0d0887\"],[0.1111111111111111,\"#46039f\"],[0.2222222222222222,\"#7201a8\"],[0.3333333333333333,\"#9c179e\"],[0.4444444444444444,\"#bd3786\"],[0.5555555555555556,\"#d8576b\"],[0.6666666666666666,\"#ed7953\"],[0.7777777777777778,\"#fb9f3a\"],[0.8888888888888888,\"#fdca26\"],[1.0,\"#f0f921\"]]}],\"surface\":[{\"type\":\"surface\",\"colorbar\":{\"outlinewidth\":0,\"ticks\":\"\"},\"colorscale\":[[0.0,\"#0d0887\"],[0.1111111111111111,\"#46039f\"],[0.2222222222222222,\"#7201a8\"],[0.3333333333333333,\"#9c179e\"],[0.4444444444444444,\"#bd3786\"],[0.5555555555555556,\"#d8576b\"],[0.6666666666666666,\"#ed7953\"],[0.7777777777777778,\"#fb9f3a\"],[0.8888888888888888,\"#fdca26\"],[1.0,\"#f0f921\"]]}],\"mesh3d\":[{\"type\":\"mesh3d\",\"colorbar\":{\"outlinewidth\":0,\"ticks\":\"\"}}],\"scatter\":[{\"fillpattern\":{\"fillmode\":\"overlay\",\"size\":10,\"solidity\":0.2},\"type\":\"scatter\"}],\"parcoords\":[{\"type\":\"parcoords\",\"line\":{\"colorbar\":{\"outlinewidth\":0,\"ticks\":\"\"}}}],\"scatterpolargl\":[{\"type\":\"scatterpolargl\",\"marker\":{\"colorbar\":{\"outlinewidth\":0,\"ticks\":\"\"}}}],\"bar\":[{\"error_x\":{\"color\":\"#2a3f5f\"},\"error_y\":{\"color\":\"#2a3f5f\"},\"marker\":{\"line\":{\"color\":\"#E5ECF6\",\"width\":0.5},\"pattern\":{\"fillmode\":\"overlay\",\"size\":10,\"solidity\":0.2}},\"type\":\"bar\"}],\"scattergeo\":[{\"type\":\"scattergeo\",\"marker\":{\"colorbar\":{\"outlinewidth\":0,\"ticks\":\"\"}}}],\"scatterpolar\":[{\"type\":\"scatterpolar\",\"marker\":{\"colorbar\":{\"outlinewidth\":0,\"ticks\":\"\"}}}],\"histogram\":[{\"marker\":{\"pattern\":{\"fillmode\":\"overlay\",\"size\":10,\"solidity\":0.2}},\"type\":\"histogram\"}],\"scattergl\":[{\"type\":\"scattergl\",\"marker\":{\"colorbar\":{\"outlinewidth\":0,\"ticks\":\"\"}}}],\"scatter3d\":[{\"type\":\"scatter3d\",\"line\":{\"colorbar\":{\"outlinewidth\":0,\"ticks\":\"\"}},\"marker\":{\"colorbar\":{\"outlinewidth\":0,\"ticks\":\"\"}}}],\"scattermapbox\":[{\"type\":\"scattermapbox\",\"marker\":{\"colorbar\":{\"outlinewidth\":0,\"ticks\":\"\"}}}],\"scatterternary\":[{\"type\":\"scatterternary\",\"marker\":{\"colorbar\":{\"outlinewidth\":0,\"ticks\":\"\"}}}],\"scattercarpet\":[{\"type\":\"scattercarpet\",\"marker\":{\"colorbar\":{\"outlinewidth\":0,\"ticks\":\"\"}}}],\"carpet\":[{\"aaxis\":{\"endlinecolor\":\"#2a3f5f\",\"gridcolor\":\"white\",\"linecolor\":\"white\",\"minorgridcolor\":\"white\",\"startlinecolor\":\"#2a3f5f\"},\"baxis\":{\"endlinecolor\":\"#2a3f5f\",\"gridcolor\":\"white\",\"linecolor\":\"white\",\"minorgridcolor\":\"white\",\"startlinecolor\":\"#2a3f5f\"},\"type\":\"carpet\"}],\"table\":[{\"cells\":{\"fill\":{\"color\":\"#EBF0F8\"},\"line\":{\"color\":\"white\"}},\"header\":{\"fill\":{\"color\":\"#C8D4E3\"},\"line\":{\"color\":\"white\"}},\"type\":\"table\"}],\"barpolar\":[{\"marker\":{\"line\":{\"color\":\"#E5ECF6\",\"width\":0.5},\"pattern\":{\"fillmode\":\"overlay\",\"size\":10,\"solidity\":0.2}},\"type\":\"barpolar\"}],\"pie\":[{\"automargin\":true,\"type\":\"pie\"}]},\"layout\":{\"autotypenumbers\":\"strict\",\"colorway\":[\"#636efa\",\"#EF553B\",\"#00cc96\",\"#ab63fa\",\"#FFA15A\",\"#19d3f3\",\"#FF6692\",\"#B6E880\",\"#FF97FF\",\"#FECB52\"],\"font\":{\"color\":\"#2a3f5f\"},\"hovermode\":\"closest\",\"hoverlabel\":{\"align\":\"left\"},\"paper_bgcolor\":\"white\",\"plot_bgcolor\":\"#E5ECF6\",\"polar\":{\"bgcolor\":\"#E5ECF6\",\"angularaxis\":{\"gridcolor\":\"white\",\"linecolor\":\"white\",\"ticks\":\"\"},\"radialaxis\":{\"gridcolor\":\"white\",\"linecolor\":\"white\",\"ticks\":\"\"}},\"ternary\":{\"bgcolor\":\"#E5ECF6\",\"aaxis\":{\"gridcolor\":\"white\",\"linecolor\":\"white\",\"ticks\":\"\"},\"baxis\":{\"gridcolor\":\"white\",\"linecolor\":\"white\",\"ticks\":\"\"},\"caxis\":{\"gridcolor\":\"white\",\"linecolor\":\"white\",\"ticks\":\"\"}},\"coloraxis\":{\"colorbar\":{\"outlinewidth\":0,\"ticks\":\"\"}},\"colorscale\":{\"sequential\":[[0.0,\"#0d0887\"],[0.1111111111111111,\"#46039f\"],[0.2222222222222222,\"#7201a8\"],[0.3333333333333333,\"#9c179e\"],[0.4444444444444444,\"#bd3786\"],[0.5555555555555556,\"#d8576b\"],[0.6666666666666666,\"#ed7953\"],[0.7777777777777778,\"#fb9f3a\"],[0.8888888888888888,\"#fdca26\"],[1.0,\"#f0f921\"]],\"sequentialminus\":[[0.0,\"#0d0887\"],[0.1111111111111111,\"#46039f\"],[0.2222222222222222,\"#7201a8\"],[0.3333333333333333,\"#9c179e\"],[0.4444444444444444,\"#bd3786\"],[0.5555555555555556,\"#d8576b\"],[0.6666666666666666,\"#ed7953\"],[0.7777777777777778,\"#fb9f3a\"],[0.8888888888888888,\"#fdca26\"],[1.0,\"#f0f921\"]],\"diverging\":[[0,\"#8e0152\"],[0.1,\"#c51b7d\"],[0.2,\"#de77ae\"],[0.3,\"#f1b6da\"],[0.4,\"#fde0ef\"],[0.5,\"#f7f7f7\"],[0.6,\"#e6f5d0\"],[0.7,\"#b8e186\"],[0.8,\"#7fbc41\"],[0.9,\"#4d9221\"],[1,\"#276419\"]]},\"xaxis\":{\"gridcolor\":\"white\",\"linecolor\":\"white\",\"ticks\":\"\",\"title\":{\"standoff\":15},\"zerolinecolor\":\"white\",\"automargin\":true,\"zerolinewidth\":2},\"yaxis\":{\"gridcolor\":\"white\",\"linecolor\":\"white\",\"ticks\":\"\",\"title\":{\"standoff\":15},\"zerolinecolor\":\"white\",\"automargin\":true,\"zerolinewidth\":2},\"scene\":{\"xaxis\":{\"backgroundcolor\":\"#E5ECF6\",\"gridcolor\":\"white\",\"linecolor\":\"white\",\"showbackground\":true,\"ticks\":\"\",\"zerolinecolor\":\"white\",\"gridwidth\":2},\"yaxis\":{\"backgroundcolor\":\"#E5ECF6\",\"gridcolor\":\"white\",\"linecolor\":\"white\",\"showbackground\":true,\"ticks\":\"\",\"zerolinecolor\":\"white\",\"gridwidth\":2},\"zaxis\":{\"backgroundcolor\":\"#E5ECF6\",\"gridcolor\":\"white\",\"linecolor\":\"white\",\"showbackground\":true,\"ticks\":\"\",\"zerolinecolor\":\"white\",\"gridwidth\":2}},\"shapedefaults\":{\"line\":{\"color\":\"#2a3f5f\"}},\"annotationdefaults\":{\"arrowcolor\":\"#2a3f5f\",\"arrowhead\":0,\"arrowwidth\":1},\"geo\":{\"bgcolor\":\"white\",\"landcolor\":\"#E5ECF6\",\"subunitcolor\":\"white\",\"showland\":true,\"showlakes\":true,\"lakecolor\":\"white\"},\"title\":{\"x\":0.05},\"mapbox\":{\"style\":\"light\"}}}},                        {\"responsive\": true}                    ).then(function(){\n",
              "                            \n",
              "var gd = document.getElementById('656d8bc3-6faf-4f93-a336-84848b10d474');\n",
              "var x = new MutationObserver(function (mutations, observer) {{\n",
              "        var display = window.getComputedStyle(gd).display;\n",
              "        if (!display || display === 'none') {{\n",
              "            console.log([gd, 'removed!']);\n",
              "            Plotly.purge(gd);\n",
              "            observer.disconnect();\n",
              "        }}\n",
              "}});\n",
              "\n",
              "// Listen for the removal of the full notebook cells\n",
              "var notebookContainer = gd.closest('#notebook-container');\n",
              "if (notebookContainer) {{\n",
              "    x.observe(notebookContainer, {childList: true});\n",
              "}}\n",
              "\n",
              "// Listen for the clearing of the current output cell\n",
              "var outputEl = gd.closest('.output');\n",
              "if (outputEl) {{\n",
              "    x.observe(outputEl, {childList: true});\n",
              "}}\n",
              "\n",
              "                        })                };                            </script>        </div>\n",
              "</body>\n",
              "</html>"
            ]
          },
          "metadata": {},
          "output_type": "display_data"
        }
      ],
      "source": [
        "optuna.visualization.plot_param_importances(study)"
      ]
    },
    {
      "cell_type": "code",
      "execution_count": null,
      "metadata": {
        "colab": {
          "base_uri": "https://localhost:8080/",
          "height": 1000
        },
        "id": "55_MMGe-nlet",
        "outputId": "b00ffe90-a5b5-416e-c5bc-7250da8e3e26"
      },
      "outputs": [
        {
          "data": {
            "application/vnd.google.colaboratory.intrinsic+json": {
              "summary": "{\n  \"name\": \"history_csv\",\n  \"rows\": 20,\n  \"fields\": [\n    {\n      \"column\": \"number\",\n      \"properties\": {\n        \"dtype\": \"number\",\n        \"std\": 5,\n        \"min\": 0,\n        \"max\": 19,\n        \"num_unique_values\": 20,\n        \"samples\": [\n          0,\n          17,\n          15\n        ],\n        \"semantic_type\": \"\",\n        \"description\": \"\"\n      }\n    },\n    {\n      \"column\": \"value\",\n      \"properties\": {\n        \"dtype\": \"number\",\n        \"std\": 0.02475185861153459,\n        \"min\": 0.7032878739301253,\n        \"max\": 0.792676888741709,\n        \"num_unique_values\": 20,\n        \"samples\": [\n          0.7525961162037488,\n          0.7837846035709453,\n          0.792676888741709\n        ],\n        \"semantic_type\": \"\",\n        \"description\": \"\"\n      }\n    },\n    {\n      \"column\": \"datetime_start\",\n      \"properties\": {\n        \"dtype\": \"date\",\n        \"min\": \"2024-05-25 16:42:40.796525\",\n        \"max\": \"2024-05-25 17:12:09.530027\",\n        \"num_unique_values\": 20,\n        \"samples\": [\n          \"2024-05-25 16:42:40.796525\",\n          \"2024-05-25 17:09:11.092231\",\n          \"2024-05-25 17:06:36.910272\"\n        ],\n        \"semantic_type\": \"\",\n        \"description\": \"\"\n      }\n    },\n    {\n      \"column\": \"datetime_complete\",\n      \"properties\": {\n        \"dtype\": \"date\",\n        \"min\": \"2024-05-25 16:45:43.780851\",\n        \"max\": \"2024-05-25 17:15:39.202439\",\n        \"num_unique_values\": 20,\n        \"samples\": [\n          \"2024-05-25 16:45:43.780851\",\n          \"2024-05-25 17:10:39.787431\",\n          \"2024-05-25 17:07:50.316761\"\n        ],\n        \"semantic_type\": \"\",\n        \"description\": \"\"\n      }\n    },\n    {\n      \"column\": \"duration\",\n      \"properties\": {\n        \"dtype\": \"timedelta64[ns]\",\n        \"num_unique_values\": 20,\n        \"samples\": [\n          \"0 days 00:03:02.984326\",\n          \"0 days 00:01:28.695200\",\n          \"0 days 00:01:13.406489\"\n        ],\n        \"semantic_type\": \"\",\n        \"description\": \"\"\n      }\n    },\n    {\n      \"column\": \"params_C\",\n      \"properties\": {\n        \"dtype\": \"number\",\n        \"std\": 198.81879143533553,\n        \"min\": 1.0327692780350677,\n        \"max\": 812.3245085588683,\n        \"num_unique_values\": 20,\n        \"samples\": [\n          62.51373574521747,\n          7.110953970587636,\n          3.008513074950468\n        ],\n        \"semantic_type\": \"\",\n        \"description\": \"\"\n      }\n    },\n    {\n      \"column\": \"params_max_features\",\n      \"properties\": {\n        \"dtype\": \"number\",\n        \"std\": 6081,\n        \"min\": 1391,\n        \"max\": 19833,\n        \"num_unique_values\": 20,\n        \"samples\": [\n          14908,\n          16829,\n          19833\n        ],\n        \"semantic_type\": \"\",\n        \"description\": \"\"\n      }\n    },\n    {\n      \"column\": \"params_vectorizer\",\n      \"properties\": {\n        \"dtype\": \"category\",\n        \"num_unique_values\": 2,\n        \"samples\": [\n          \"count\",\n          \"tfidf\"\n        ],\n        \"semantic_type\": \"\",\n        \"description\": \"\"\n      }\n    },\n    {\n      \"column\": \"state\",\n      \"properties\": {\n        \"dtype\": \"category\",\n        \"num_unique_values\": 1,\n        \"samples\": [\n          \"COMPLETE\"\n        ],\n        \"semantic_type\": \"\",\n        \"description\": \"\"\n      }\n    }\n  ]\n}",
              "type": "dataframe",
              "variable_name": "history_csv"
            },
            "text/html": [
              "\n",
              "  <div id=\"df-7de4f9ff-c7d2-4604-b45d-a852b045703e\" class=\"colab-df-container\">\n",
              "    <div>\n",
              "<style scoped>\n",
              "    .dataframe tbody tr th:only-of-type {\n",
              "        vertical-align: middle;\n",
              "    }\n",
              "\n",
              "    .dataframe tbody tr th {\n",
              "        vertical-align: top;\n",
              "    }\n",
              "\n",
              "    .dataframe thead th {\n",
              "        text-align: right;\n",
              "    }\n",
              "</style>\n",
              "<table border=\"1\" class=\"dataframe\">\n",
              "  <thead>\n",
              "    <tr style=\"text-align: right;\">\n",
              "      <th></th>\n",
              "      <th>number</th>\n",
              "      <th>value</th>\n",
              "      <th>datetime_start</th>\n",
              "      <th>datetime_complete</th>\n",
              "      <th>duration</th>\n",
              "      <th>params_C</th>\n",
              "      <th>params_max_features</th>\n",
              "      <th>params_vectorizer</th>\n",
              "      <th>state</th>\n",
              "    </tr>\n",
              "  </thead>\n",
              "  <tbody>\n",
              "    <tr>\n",
              "      <th>0</th>\n",
              "      <td>0</td>\n",
              "      <td>0.752596</td>\n",
              "      <td>2024-05-25 16:42:40.796525</td>\n",
              "      <td>2024-05-25 16:45:43.780851</td>\n",
              "      <td>0 days 00:03:02.984326</td>\n",
              "      <td>62.513736</td>\n",
              "      <td>14908</td>\n",
              "      <td>tfidf</td>\n",
              "      <td>COMPLETE</td>\n",
              "    </tr>\n",
              "    <tr>\n",
              "      <th>1</th>\n",
              "      <td>1</td>\n",
              "      <td>0.718726</td>\n",
              "      <td>2024-05-25 16:45:43.782716</td>\n",
              "      <td>2024-05-25 16:47:47.970373</td>\n",
              "      <td>0 days 00:02:04.187657</td>\n",
              "      <td>396.760508</td>\n",
              "      <td>2103</td>\n",
              "      <td>count</td>\n",
              "      <td>COMPLETE</td>\n",
              "    </tr>\n",
              "    <tr>\n",
              "      <th>2</th>\n",
              "      <td>2</td>\n",
              "      <td>0.703288</td>\n",
              "      <td>2024-05-25 16:47:47.973086</td>\n",
              "      <td>2024-05-25 16:48:53.849431</td>\n",
              "      <td>0 days 00:01:05.876345</td>\n",
              "      <td>812.324509</td>\n",
              "      <td>1391</td>\n",
              "      <td>tfidf</td>\n",
              "      <td>COMPLETE</td>\n",
              "    </tr>\n",
              "    <tr>\n",
              "      <th>3</th>\n",
              "      <td>3</td>\n",
              "      <td>0.751691</td>\n",
              "      <td>2024-05-25 16:48:53.852034</td>\n",
              "      <td>2024-05-25 16:49:50.499474</td>\n",
              "      <td>0 days 00:00:56.647440</td>\n",
              "      <td>3.549879</td>\n",
              "      <td>4454</td>\n",
              "      <td>count</td>\n",
              "      <td>COMPLETE</td>\n",
              "    </tr>\n",
              "    <tr>\n",
              "      <th>4</th>\n",
              "      <td>4</td>\n",
              "      <td>0.769338</td>\n",
              "      <td>2024-05-25 16:49:50.501610</td>\n",
              "      <td>2024-05-25 16:51:08.934612</td>\n",
              "      <td>0 days 00:01:18.433002</td>\n",
              "      <td>7.476312</td>\n",
              "      <td>9207</td>\n",
              "      <td>tfidf</td>\n",
              "      <td>COMPLETE</td>\n",
              "    </tr>\n",
              "    <tr>\n",
              "      <th>5</th>\n",
              "      <td>5</td>\n",
              "      <td>0.751803</td>\n",
              "      <td>2024-05-25 16:51:08.936787</td>\n",
              "      <td>2024-05-25 16:52:38.718058</td>\n",
              "      <td>0 days 00:01:29.781271</td>\n",
              "      <td>12.562774</td>\n",
              "      <td>6551</td>\n",
              "      <td>count</td>\n",
              "      <td>COMPLETE</td>\n",
              "    </tr>\n",
              "    <tr>\n",
              "      <th>6</th>\n",
              "      <td>6</td>\n",
              "      <td>0.752367</td>\n",
              "      <td>2024-05-25 16:52:38.720081</td>\n",
              "      <td>2024-05-25 16:54:23.890779</td>\n",
              "      <td>0 days 00:01:45.170698</td>\n",
              "      <td>34.890188</td>\n",
              "      <td>4794</td>\n",
              "      <td>tfidf</td>\n",
              "      <td>COMPLETE</td>\n",
              "    </tr>\n",
              "    <tr>\n",
              "      <th>7</th>\n",
              "      <td>7</td>\n",
              "      <td>0.768000</td>\n",
              "      <td>2024-05-25 16:54:23.892729</td>\n",
              "      <td>2024-05-25 16:55:31.174374</td>\n",
              "      <td>0 days 00:01:07.281645</td>\n",
              "      <td>3.247674</td>\n",
              "      <td>12543</td>\n",
              "      <td>count</td>\n",
              "      <td>COMPLETE</td>\n",
              "    </tr>\n",
              "    <tr>\n",
              "      <th>8</th>\n",
              "      <td>8</td>\n",
              "      <td>0.730845</td>\n",
              "      <td>2024-05-25 16:55:31.176251</td>\n",
              "      <td>2024-05-25 17:00:31.197437</td>\n",
              "      <td>0 days 00:05:00.021186</td>\n",
              "      <td>266.190189</td>\n",
              "      <td>19347</td>\n",
              "      <td>tfidf</td>\n",
              "      <td>COMPLETE</td>\n",
              "    </tr>\n",
              "    <tr>\n",
              "      <th>9</th>\n",
              "      <td>9</td>\n",
              "      <td>0.749214</td>\n",
              "      <td>2024-05-25 17:00:31.202779</td>\n",
              "      <td>2024-05-25 17:02:39.712315</td>\n",
              "      <td>0 days 00:02:08.509536</td>\n",
              "      <td>20.914981</td>\n",
              "      <td>14001</td>\n",
              "      <td>count</td>\n",
              "      <td>COMPLETE</td>\n",
              "    </tr>\n",
              "    <tr>\n",
              "      <th>10</th>\n",
              "      <td>10</td>\n",
              "      <td>0.775137</td>\n",
              "      <td>2024-05-25 17:02:39.714716</td>\n",
              "      <td>2024-05-25 17:03:22.320594</td>\n",
              "      <td>0 days 00:00:42.605878</td>\n",
              "      <td>1.053518</td>\n",
              "      <td>9546</td>\n",
              "      <td>tfidf</td>\n",
              "      <td>COMPLETE</td>\n",
              "    </tr>\n",
              "    <tr>\n",
              "      <th>11</th>\n",
              "      <td>11</td>\n",
              "      <td>0.776012</td>\n",
              "      <td>2024-05-25 17:03:22.322845</td>\n",
              "      <td>2024-05-25 17:04:07.120157</td>\n",
              "      <td>0 days 00:00:44.797312</td>\n",
              "      <td>1.306699</td>\n",
              "      <td>9304</td>\n",
              "      <td>tfidf</td>\n",
              "      <td>COMPLETE</td>\n",
              "    </tr>\n",
              "    <tr>\n",
              "      <th>12</th>\n",
              "      <td>12</td>\n",
              "      <td>0.774653</td>\n",
              "      <td>2024-05-25 17:04:07.124037</td>\n",
              "      <td>2024-05-25 17:04:46.195849</td>\n",
              "      <td>0 days 00:00:39.071812</td>\n",
              "      <td>1.136102</td>\n",
              "      <td>9000</td>\n",
              "      <td>tfidf</td>\n",
              "      <td>COMPLETE</td>\n",
              "    </tr>\n",
              "    <tr>\n",
              "      <th>13</th>\n",
              "      <td>13</td>\n",
              "      <td>0.777320</td>\n",
              "      <td>2024-05-25 17:04:46.220813</td>\n",
              "      <td>2024-05-25 17:05:31.295431</td>\n",
              "      <td>0 days 00:00:45.074618</td>\n",
              "      <td>1.032769</td>\n",
              "      <td>10982</td>\n",
              "      <td>tfidf</td>\n",
              "      <td>COMPLETE</td>\n",
              "    </tr>\n",
              "    <tr>\n",
              "      <th>14</th>\n",
              "      <td>14</td>\n",
              "      <td>0.790680</td>\n",
              "      <td>2024-05-25 17:05:31.297534</td>\n",
              "      <td>2024-05-25 17:06:36.905868</td>\n",
              "      <td>0 days 00:01:05.608334</td>\n",
              "      <td>2.658826</td>\n",
              "      <td>17921</td>\n",
              "      <td>tfidf</td>\n",
              "      <td>COMPLETE</td>\n",
              "    </tr>\n",
              "    <tr>\n",
              "      <th>15</th>\n",
              "      <td>15</td>\n",
              "      <td>0.792677</td>\n",
              "      <td>2024-05-25 17:06:36.910272</td>\n",
              "      <td>2024-05-25 17:07:50.316761</td>\n",
              "      <td>0 days 00:01:13.406489</td>\n",
              "      <td>3.008513</td>\n",
              "      <td>19833</td>\n",
              "      <td>tfidf</td>\n",
              "      <td>COMPLETE</td>\n",
              "    </tr>\n",
              "    <tr>\n",
              "      <th>16</th>\n",
              "      <td>16</td>\n",
              "      <td>0.792198</td>\n",
              "      <td>2024-05-25 17:07:50.322844</td>\n",
              "      <td>2024-05-25 17:09:11.089795</td>\n",
              "      <td>0 days 00:01:20.766951</td>\n",
              "      <td>4.194401</td>\n",
              "      <td>19476</td>\n",
              "      <td>tfidf</td>\n",
              "      <td>COMPLETE</td>\n",
              "    </tr>\n",
              "    <tr>\n",
              "      <th>17</th>\n",
              "      <td>17</td>\n",
              "      <td>0.783785</td>\n",
              "      <td>2024-05-25 17:09:11.092231</td>\n",
              "      <td>2024-05-25 17:10:39.787431</td>\n",
              "      <td>0 days 00:01:28.695200</td>\n",
              "      <td>7.110954</td>\n",
              "      <td>16829</td>\n",
              "      <td>tfidf</td>\n",
              "      <td>COMPLETE</td>\n",
              "    </tr>\n",
              "    <tr>\n",
              "      <th>18</th>\n",
              "      <td>18</td>\n",
              "      <td>0.787119</td>\n",
              "      <td>2024-05-25 17:10:39.790439</td>\n",
              "      <td>2024-05-25 17:12:09.523868</td>\n",
              "      <td>0 days 00:01:29.733429</td>\n",
              "      <td>6.577842</td>\n",
              "      <td>19819</td>\n",
              "      <td>tfidf</td>\n",
              "      <td>COMPLETE</td>\n",
              "    </tr>\n",
              "    <tr>\n",
              "      <th>19</th>\n",
              "      <td>19</td>\n",
              "      <td>0.749246</td>\n",
              "      <td>2024-05-25 17:12:09.530027</td>\n",
              "      <td>2024-05-25 17:15:39.202439</td>\n",
              "      <td>0 days 00:03:29.672412</td>\n",
              "      <td>85.937811</td>\n",
              "      <td>16375</td>\n",
              "      <td>tfidf</td>\n",
              "      <td>COMPLETE</td>\n",
              "    </tr>\n",
              "  </tbody>\n",
              "</table>\n",
              "</div>\n",
              "    <div class=\"colab-df-buttons\">\n",
              "\n",
              "  <div class=\"colab-df-container\">\n",
              "    <button class=\"colab-df-convert\" onclick=\"convertToInteractive('df-7de4f9ff-c7d2-4604-b45d-a852b045703e')\"\n",
              "            title=\"Convert this dataframe to an interactive table.\"\n",
              "            style=\"display:none;\">\n",
              "\n",
              "  <svg xmlns=\"http://www.w3.org/2000/svg\" height=\"24px\" viewBox=\"0 -960 960 960\">\n",
              "    <path d=\"M120-120v-720h720v720H120Zm60-500h600v-160H180v160Zm220 220h160v-160H400v160Zm0 220h160v-160H400v160ZM180-400h160v-160H180v160Zm440 0h160v-160H620v160ZM180-180h160v-160H180v160Zm440 0h160v-160H620v160Z\"/>\n",
              "  </svg>\n",
              "    </button>\n",
              "\n",
              "  <style>\n",
              "    .colab-df-container {\n",
              "      display:flex;\n",
              "      gap: 12px;\n",
              "    }\n",
              "\n",
              "    .colab-df-convert {\n",
              "      background-color: #E8F0FE;\n",
              "      border: none;\n",
              "      border-radius: 50%;\n",
              "      cursor: pointer;\n",
              "      display: none;\n",
              "      fill: #1967D2;\n",
              "      height: 32px;\n",
              "      padding: 0 0 0 0;\n",
              "      width: 32px;\n",
              "    }\n",
              "\n",
              "    .colab-df-convert:hover {\n",
              "      background-color: #E2EBFA;\n",
              "      box-shadow: 0px 1px 2px rgba(60, 64, 67, 0.3), 0px 1px 3px 1px rgba(60, 64, 67, 0.15);\n",
              "      fill: #174EA6;\n",
              "    }\n",
              "\n",
              "    .colab-df-buttons div {\n",
              "      margin-bottom: 4px;\n",
              "    }\n",
              "\n",
              "    [theme=dark] .colab-df-convert {\n",
              "      background-color: #3B4455;\n",
              "      fill: #D2E3FC;\n",
              "    }\n",
              "\n",
              "    [theme=dark] .colab-df-convert:hover {\n",
              "      background-color: #434B5C;\n",
              "      box-shadow: 0px 1px 3px 1px rgba(0, 0, 0, 0.15);\n",
              "      filter: drop-shadow(0px 1px 2px rgba(0, 0, 0, 0.3));\n",
              "      fill: #FFFFFF;\n",
              "    }\n",
              "  </style>\n",
              "\n",
              "    <script>\n",
              "      const buttonEl =\n",
              "        document.querySelector('#df-7de4f9ff-c7d2-4604-b45d-a852b045703e button.colab-df-convert');\n",
              "      buttonEl.style.display =\n",
              "        google.colab.kernel.accessAllowed ? 'block' : 'none';\n",
              "\n",
              "      async function convertToInteractive(key) {\n",
              "        const element = document.querySelector('#df-7de4f9ff-c7d2-4604-b45d-a852b045703e');\n",
              "        const dataTable =\n",
              "          await google.colab.kernel.invokeFunction('convertToInteractive',\n",
              "                                                    [key], {});\n",
              "        if (!dataTable) return;\n",
              "\n",
              "        const docLinkHtml = 'Like what you see? Visit the ' +\n",
              "          '<a target=\"_blank\" href=https://colab.research.google.com/notebooks/data_table.ipynb>data table notebook</a>'\n",
              "          + ' to learn more about interactive tables.';\n",
              "        element.innerHTML = '';\n",
              "        dataTable['output_type'] = 'display_data';\n",
              "        await google.colab.output.renderOutput(dataTable, element);\n",
              "        const docLink = document.createElement('div');\n",
              "        docLink.innerHTML = docLinkHtml;\n",
              "        element.appendChild(docLink);\n",
              "      }\n",
              "    </script>\n",
              "  </div>\n",
              "\n",
              "\n",
              "<div id=\"df-e09a20ad-6312-40b7-ab9a-5fcd208e3d3e\">\n",
              "  <button class=\"colab-df-quickchart\" onclick=\"quickchart('df-e09a20ad-6312-40b7-ab9a-5fcd208e3d3e')\"\n",
              "            title=\"Suggest charts\"\n",
              "            style=\"display:none;\">\n",
              "\n",
              "<svg xmlns=\"http://www.w3.org/2000/svg\" height=\"24px\"viewBox=\"0 0 24 24\"\n",
              "     width=\"24px\">\n",
              "    <g>\n",
              "        <path d=\"M19 3H5c-1.1 0-2 .9-2 2v14c0 1.1.9 2 2 2h14c1.1 0 2-.9 2-2V5c0-1.1-.9-2-2-2zM9 17H7v-7h2v7zm4 0h-2V7h2v10zm4 0h-2v-4h2v4z\"/>\n",
              "    </g>\n",
              "</svg>\n",
              "  </button>\n",
              "\n",
              "<style>\n",
              "  .colab-df-quickchart {\n",
              "      --bg-color: #E8F0FE;\n",
              "      --fill-color: #1967D2;\n",
              "      --hover-bg-color: #E2EBFA;\n",
              "      --hover-fill-color: #174EA6;\n",
              "      --disabled-fill-color: #AAA;\n",
              "      --disabled-bg-color: #DDD;\n",
              "  }\n",
              "\n",
              "  [theme=dark] .colab-df-quickchart {\n",
              "      --bg-color: #3B4455;\n",
              "      --fill-color: #D2E3FC;\n",
              "      --hover-bg-color: #434B5C;\n",
              "      --hover-fill-color: #FFFFFF;\n",
              "      --disabled-bg-color: #3B4455;\n",
              "      --disabled-fill-color: #666;\n",
              "  }\n",
              "\n",
              "  .colab-df-quickchart {\n",
              "    background-color: var(--bg-color);\n",
              "    border: none;\n",
              "    border-radius: 50%;\n",
              "    cursor: pointer;\n",
              "    display: none;\n",
              "    fill: var(--fill-color);\n",
              "    height: 32px;\n",
              "    padding: 0;\n",
              "    width: 32px;\n",
              "  }\n",
              "\n",
              "  .colab-df-quickchart:hover {\n",
              "    background-color: var(--hover-bg-color);\n",
              "    box-shadow: 0 1px 2px rgba(60, 64, 67, 0.3), 0 1px 3px 1px rgba(60, 64, 67, 0.15);\n",
              "    fill: var(--button-hover-fill-color);\n",
              "  }\n",
              "\n",
              "  .colab-df-quickchart-complete:disabled,\n",
              "  .colab-df-quickchart-complete:disabled:hover {\n",
              "    background-color: var(--disabled-bg-color);\n",
              "    fill: var(--disabled-fill-color);\n",
              "    box-shadow: none;\n",
              "  }\n",
              "\n",
              "  .colab-df-spinner {\n",
              "    border: 2px solid var(--fill-color);\n",
              "    border-color: transparent;\n",
              "    border-bottom-color: var(--fill-color);\n",
              "    animation:\n",
              "      spin 1s steps(1) infinite;\n",
              "  }\n",
              "\n",
              "  @keyframes spin {\n",
              "    0% {\n",
              "      border-color: transparent;\n",
              "      border-bottom-color: var(--fill-color);\n",
              "      border-left-color: var(--fill-color);\n",
              "    }\n",
              "    20% {\n",
              "      border-color: transparent;\n",
              "      border-left-color: var(--fill-color);\n",
              "      border-top-color: var(--fill-color);\n",
              "    }\n",
              "    30% {\n",
              "      border-color: transparent;\n",
              "      border-left-color: var(--fill-color);\n",
              "      border-top-color: var(--fill-color);\n",
              "      border-right-color: var(--fill-color);\n",
              "    }\n",
              "    40% {\n",
              "      border-color: transparent;\n",
              "      border-right-color: var(--fill-color);\n",
              "      border-top-color: var(--fill-color);\n",
              "    }\n",
              "    60% {\n",
              "      border-color: transparent;\n",
              "      border-right-color: var(--fill-color);\n",
              "    }\n",
              "    80% {\n",
              "      border-color: transparent;\n",
              "      border-right-color: var(--fill-color);\n",
              "      border-bottom-color: var(--fill-color);\n",
              "    }\n",
              "    90% {\n",
              "      border-color: transparent;\n",
              "      border-bottom-color: var(--fill-color);\n",
              "    }\n",
              "  }\n",
              "</style>\n",
              "\n",
              "  <script>\n",
              "    async function quickchart(key) {\n",
              "      const quickchartButtonEl =\n",
              "        document.querySelector('#' + key + ' button');\n",
              "      quickchartButtonEl.disabled = true;  // To prevent multiple clicks.\n",
              "      quickchartButtonEl.classList.add('colab-df-spinner');\n",
              "      try {\n",
              "        const charts = await google.colab.kernel.invokeFunction(\n",
              "            'suggestCharts', [key], {});\n",
              "      } catch (error) {\n",
              "        console.error('Error during call to suggestCharts:', error);\n",
              "      }\n",
              "      quickchartButtonEl.classList.remove('colab-df-spinner');\n",
              "      quickchartButtonEl.classList.add('colab-df-quickchart-complete');\n",
              "    }\n",
              "    (() => {\n",
              "      let quickchartButtonEl =\n",
              "        document.querySelector('#df-e09a20ad-6312-40b7-ab9a-5fcd208e3d3e button');\n",
              "      quickchartButtonEl.style.display =\n",
              "        google.colab.kernel.accessAllowed ? 'block' : 'none';\n",
              "    })();\n",
              "  </script>\n",
              "</div>\n",
              "\n",
              "  <div id=\"id_186ab783-2619-460f-b000-578344077519\">\n",
              "    <style>\n",
              "      .colab-df-generate {\n",
              "        background-color: #E8F0FE;\n",
              "        border: none;\n",
              "        border-radius: 50%;\n",
              "        cursor: pointer;\n",
              "        display: none;\n",
              "        fill: #1967D2;\n",
              "        height: 32px;\n",
              "        padding: 0 0 0 0;\n",
              "        width: 32px;\n",
              "      }\n",
              "\n",
              "      .colab-df-generate:hover {\n",
              "        background-color: #E2EBFA;\n",
              "        box-shadow: 0px 1px 2px rgba(60, 64, 67, 0.3), 0px 1px 3px 1px rgba(60, 64, 67, 0.15);\n",
              "        fill: #174EA6;\n",
              "      }\n",
              "\n",
              "      [theme=dark] .colab-df-generate {\n",
              "        background-color: #3B4455;\n",
              "        fill: #D2E3FC;\n",
              "      }\n",
              "\n",
              "      [theme=dark] .colab-df-generate:hover {\n",
              "        background-color: #434B5C;\n",
              "        box-shadow: 0px 1px 3px 1px rgba(0, 0, 0, 0.15);\n",
              "        filter: drop-shadow(0px 1px 2px rgba(0, 0, 0, 0.3));\n",
              "        fill: #FFFFFF;\n",
              "      }\n",
              "    </style>\n",
              "    <button class=\"colab-df-generate\" onclick=\"generateWithVariable('history_csv')\"\n",
              "            title=\"Generate code using this dataframe.\"\n",
              "            style=\"display:none;\">\n",
              "\n",
              "  <svg xmlns=\"http://www.w3.org/2000/svg\" height=\"24px\"viewBox=\"0 0 24 24\"\n",
              "       width=\"24px\">\n",
              "    <path d=\"M7,19H8.4L18.45,9,17,7.55,7,17.6ZM5,21V16.75L18.45,3.32a2,2,0,0,1,2.83,0l1.4,1.43a1.91,1.91,0,0,1,.58,1.4,1.91,1.91,0,0,1-.58,1.4L9.25,21ZM18.45,9,17,7.55Zm-12,3A5.31,5.31,0,0,0,4.9,8.1,5.31,5.31,0,0,0,1,6.5,5.31,5.31,0,0,0,4.9,4.9,5.31,5.31,0,0,0,6.5,1,5.31,5.31,0,0,0,8.1,4.9,5.31,5.31,0,0,0,12,6.5,5.46,5.46,0,0,0,6.5,12Z\"/>\n",
              "  </svg>\n",
              "    </button>\n",
              "    <script>\n",
              "      (() => {\n",
              "      const buttonEl =\n",
              "        document.querySelector('#id_186ab783-2619-460f-b000-578344077519 button.colab-df-generate');\n",
              "      buttonEl.style.display =\n",
              "        google.colab.kernel.accessAllowed ? 'block' : 'none';\n",
              "\n",
              "      buttonEl.onclick = () => {\n",
              "        google.colab.notebook.generateWithVariable('history_csv');\n",
              "      }\n",
              "      })();\n",
              "    </script>\n",
              "  </div>\n",
              "\n",
              "    </div>\n",
              "  </div>\n"
            ],
            "text/plain": [
              "    number     value             datetime_start          datetime_complete  \\\n",
              "0        0  0.752596 2024-05-25 16:42:40.796525 2024-05-25 16:45:43.780851   \n",
              "1        1  0.718726 2024-05-25 16:45:43.782716 2024-05-25 16:47:47.970373   \n",
              "2        2  0.703288 2024-05-25 16:47:47.973086 2024-05-25 16:48:53.849431   \n",
              "3        3  0.751691 2024-05-25 16:48:53.852034 2024-05-25 16:49:50.499474   \n",
              "4        4  0.769338 2024-05-25 16:49:50.501610 2024-05-25 16:51:08.934612   \n",
              "5        5  0.751803 2024-05-25 16:51:08.936787 2024-05-25 16:52:38.718058   \n",
              "6        6  0.752367 2024-05-25 16:52:38.720081 2024-05-25 16:54:23.890779   \n",
              "7        7  0.768000 2024-05-25 16:54:23.892729 2024-05-25 16:55:31.174374   \n",
              "8        8  0.730845 2024-05-25 16:55:31.176251 2024-05-25 17:00:31.197437   \n",
              "9        9  0.749214 2024-05-25 17:00:31.202779 2024-05-25 17:02:39.712315   \n",
              "10      10  0.775137 2024-05-25 17:02:39.714716 2024-05-25 17:03:22.320594   \n",
              "11      11  0.776012 2024-05-25 17:03:22.322845 2024-05-25 17:04:07.120157   \n",
              "12      12  0.774653 2024-05-25 17:04:07.124037 2024-05-25 17:04:46.195849   \n",
              "13      13  0.777320 2024-05-25 17:04:46.220813 2024-05-25 17:05:31.295431   \n",
              "14      14  0.790680 2024-05-25 17:05:31.297534 2024-05-25 17:06:36.905868   \n",
              "15      15  0.792677 2024-05-25 17:06:36.910272 2024-05-25 17:07:50.316761   \n",
              "16      16  0.792198 2024-05-25 17:07:50.322844 2024-05-25 17:09:11.089795   \n",
              "17      17  0.783785 2024-05-25 17:09:11.092231 2024-05-25 17:10:39.787431   \n",
              "18      18  0.787119 2024-05-25 17:10:39.790439 2024-05-25 17:12:09.523868   \n",
              "19      19  0.749246 2024-05-25 17:12:09.530027 2024-05-25 17:15:39.202439   \n",
              "\n",
              "                 duration    params_C  params_max_features params_vectorizer  \\\n",
              "0  0 days 00:03:02.984326   62.513736                14908             tfidf   \n",
              "1  0 days 00:02:04.187657  396.760508                 2103             count   \n",
              "2  0 days 00:01:05.876345  812.324509                 1391             tfidf   \n",
              "3  0 days 00:00:56.647440    3.549879                 4454             count   \n",
              "4  0 days 00:01:18.433002    7.476312                 9207             tfidf   \n",
              "5  0 days 00:01:29.781271   12.562774                 6551             count   \n",
              "6  0 days 00:01:45.170698   34.890188                 4794             tfidf   \n",
              "7  0 days 00:01:07.281645    3.247674                12543             count   \n",
              "8  0 days 00:05:00.021186  266.190189                19347             tfidf   \n",
              "9  0 days 00:02:08.509536   20.914981                14001             count   \n",
              "10 0 days 00:00:42.605878    1.053518                 9546             tfidf   \n",
              "11 0 days 00:00:44.797312    1.306699                 9304             tfidf   \n",
              "12 0 days 00:00:39.071812    1.136102                 9000             tfidf   \n",
              "13 0 days 00:00:45.074618    1.032769                10982             tfidf   \n",
              "14 0 days 00:01:05.608334    2.658826                17921             tfidf   \n",
              "15 0 days 00:01:13.406489    3.008513                19833             tfidf   \n",
              "16 0 days 00:01:20.766951    4.194401                19476             tfidf   \n",
              "17 0 days 00:01:28.695200    7.110954                16829             tfidf   \n",
              "18 0 days 00:01:29.733429    6.577842                19819             tfidf   \n",
              "19 0 days 00:03:29.672412   85.937811                16375             tfidf   \n",
              "\n",
              "       state  \n",
              "0   COMPLETE  \n",
              "1   COMPLETE  \n",
              "2   COMPLETE  \n",
              "3   COMPLETE  \n",
              "4   COMPLETE  \n",
              "5   COMPLETE  \n",
              "6   COMPLETE  \n",
              "7   COMPLETE  \n",
              "8   COMPLETE  \n",
              "9   COMPLETE  \n",
              "10  COMPLETE  \n",
              "11  COMPLETE  \n",
              "12  COMPLETE  \n",
              "13  COMPLETE  \n",
              "14  COMPLETE  \n",
              "15  COMPLETE  \n",
              "16  COMPLETE  \n",
              "17  COMPLETE  \n",
              "18  COMPLETE  \n",
              "19  COMPLETE  "
            ]
          },
          "execution_count": 28,
          "metadata": {},
          "output_type": "execute_result"
        }
      ],
      "source": [
        "history_csv = study.trials_dataframe()\n",
        "history_csv.to_csv(\"hist.csv\")\n",
        "history_csv"
      ]
    },
    {
      "cell_type": "markdown",
      "metadata": {
        "id": "RBmXImjZxY5d"
      },
      "source": [
        "# Training Best model obtained :"
      ]
    },
    {
      "cell_type": "code",
      "execution_count": null,
      "metadata": {
        "colab": {
          "base_uri": "https://localhost:8080/",
          "height": 159
        },
        "id": "AUG0t5TywQsD",
        "outputId": "7c0decb4-092c-4213-9197-a4ebc1a5b4d7"
      },
      "outputs": [
        {
          "data": {
            "text/html": [
              "<style>#sk-container-id-2 {color: black;background-color: white;}#sk-container-id-2 pre{padding: 0;}#sk-container-id-2 div.sk-toggleable {background-color: white;}#sk-container-id-2 label.sk-toggleable__label {cursor: pointer;display: block;width: 100%;margin-bottom: 0;padding: 0.3em;box-sizing: border-box;text-align: center;}#sk-container-id-2 label.sk-toggleable__label-arrow:before {content: \"▸\";float: left;margin-right: 0.25em;color: #696969;}#sk-container-id-2 label.sk-toggleable__label-arrow:hover:before {color: black;}#sk-container-id-2 div.sk-estimator:hover label.sk-toggleable__label-arrow:before {color: black;}#sk-container-id-2 div.sk-toggleable__content {max-height: 0;max-width: 0;overflow: hidden;text-align: left;background-color: #f0f8ff;}#sk-container-id-2 div.sk-toggleable__content pre {margin: 0.2em;color: black;border-radius: 0.25em;background-color: #f0f8ff;}#sk-container-id-2 input.sk-toggleable__control:checked~div.sk-toggleable__content {max-height: 200px;max-width: 100%;overflow: auto;}#sk-container-id-2 input.sk-toggleable__control:checked~label.sk-toggleable__label-arrow:before {content: \"▾\";}#sk-container-id-2 div.sk-estimator input.sk-toggleable__control:checked~label.sk-toggleable__label {background-color: #d4ebff;}#sk-container-id-2 div.sk-label input.sk-toggleable__control:checked~label.sk-toggleable__label {background-color: #d4ebff;}#sk-container-id-2 input.sk-hidden--visually {border: 0;clip: rect(1px 1px 1px 1px);clip: rect(1px, 1px, 1px, 1px);height: 1px;margin: -1px;overflow: hidden;padding: 0;position: absolute;width: 1px;}#sk-container-id-2 div.sk-estimator {font-family: monospace;background-color: #f0f8ff;border: 1px dotted black;border-radius: 0.25em;box-sizing: border-box;margin-bottom: 0.5em;}#sk-container-id-2 div.sk-estimator:hover {background-color: #d4ebff;}#sk-container-id-2 div.sk-parallel-item::after {content: \"\";width: 100%;border-bottom: 1px solid gray;flex-grow: 1;}#sk-container-id-2 div.sk-label:hover label.sk-toggleable__label {background-color: #d4ebff;}#sk-container-id-2 div.sk-serial::before {content: \"\";position: absolute;border-left: 1px solid gray;box-sizing: border-box;top: 0;bottom: 0;left: 50%;z-index: 0;}#sk-container-id-2 div.sk-serial {display: flex;flex-direction: column;align-items: center;background-color: white;padding-right: 0.2em;padding-left: 0.2em;position: relative;}#sk-container-id-2 div.sk-item {position: relative;z-index: 1;}#sk-container-id-2 div.sk-parallel {display: flex;align-items: stretch;justify-content: center;background-color: white;position: relative;}#sk-container-id-2 div.sk-item::before, #sk-container-id-2 div.sk-parallel-item::before {content: \"\";position: absolute;border-left: 1px solid gray;box-sizing: border-box;top: 0;bottom: 0;left: 50%;z-index: -1;}#sk-container-id-2 div.sk-parallel-item {display: flex;flex-direction: column;z-index: 1;position: relative;background-color: white;}#sk-container-id-2 div.sk-parallel-item:first-child::after {align-self: flex-end;width: 50%;}#sk-container-id-2 div.sk-parallel-item:last-child::after {align-self: flex-start;width: 50%;}#sk-container-id-2 div.sk-parallel-item:only-child::after {width: 0;}#sk-container-id-2 div.sk-dashed-wrapped {border: 1px dashed gray;margin: 0 0.4em 0.5em 0.4em;box-sizing: border-box;padding-bottom: 0.4em;background-color: white;}#sk-container-id-2 div.sk-label label {font-family: monospace;font-weight: bold;display: inline-block;line-height: 1.2em;}#sk-container-id-2 div.sk-label-container {text-align: center;}#sk-container-id-2 div.sk-container {/* jupyter's `normalize.less` sets `[hidden] { display: none; }` but bootstrap.min.css set `[hidden] { display: none !important; }` so we also need the `!important` here to be able to override the default hidden behavior on the sphinx rendered scikit-learn.org. See: https://github.com/scikit-learn/scikit-learn/issues/21755 */display: inline-block !important;position: relative;}#sk-container-id-2 div.sk-text-repr-fallback {display: none;}</style><div id=\"sk-container-id-2\" class=\"sk-top-container\"><div class=\"sk-text-repr-fallback\"><pre>Pipeline(steps=[(&#x27;preprocessing&#x27;, CustomTransformer()),\n",
              "                (&#x27;Vectorizing&#x27;, TfidfVectorizer(max_features=19900)),\n",
              "                (&#x27;model&#x27;, LogisticRegression(C=3, max_iter=10000))])</pre><b>In a Jupyter environment, please rerun this cell to show the HTML representation or trust the notebook. <br />On GitHub, the HTML representation is unable to render, please try loading this page with nbviewer.org.</b></div><div class=\"sk-container\" hidden><div class=\"sk-item sk-dashed-wrapped\"><div class=\"sk-label-container\"><div class=\"sk-label sk-toggleable\"><input class=\"sk-toggleable__control sk-hidden--visually\" id=\"sk-estimator-id-5\" type=\"checkbox\" ><label for=\"sk-estimator-id-5\" class=\"sk-toggleable__label sk-toggleable__label-arrow\">Pipeline</label><div class=\"sk-toggleable__content\"><pre>Pipeline(steps=[(&#x27;preprocessing&#x27;, CustomTransformer()),\n",
              "                (&#x27;Vectorizing&#x27;, TfidfVectorizer(max_features=19900)),\n",
              "                (&#x27;model&#x27;, LogisticRegression(C=3, max_iter=10000))])</pre></div></div></div><div class=\"sk-serial\"><div class=\"sk-item\"><div class=\"sk-estimator sk-toggleable\"><input class=\"sk-toggleable__control sk-hidden--visually\" id=\"sk-estimator-id-6\" type=\"checkbox\" ><label for=\"sk-estimator-id-6\" class=\"sk-toggleable__label sk-toggleable__label-arrow\">CustomTransformer</label><div class=\"sk-toggleable__content\"><pre>CustomTransformer()</pre></div></div></div><div class=\"sk-item\"><div class=\"sk-estimator sk-toggleable\"><input class=\"sk-toggleable__control sk-hidden--visually\" id=\"sk-estimator-id-7\" type=\"checkbox\" ><label for=\"sk-estimator-id-7\" class=\"sk-toggleable__label sk-toggleable__label-arrow\">TfidfVectorizer</label><div class=\"sk-toggleable__content\"><pre>TfidfVectorizer(max_features=19900)</pre></div></div></div><div class=\"sk-item\"><div class=\"sk-estimator sk-toggleable\"><input class=\"sk-toggleable__control sk-hidden--visually\" id=\"sk-estimator-id-8\" type=\"checkbox\" ><label for=\"sk-estimator-id-8\" class=\"sk-toggleable__label sk-toggleable__label-arrow\">LogisticRegression</label><div class=\"sk-toggleable__content\"><pre>LogisticRegression(C=3, max_iter=10000)</pre></div></div></div></div></div></div></div>"
            ],
            "text/plain": [
              "Pipeline(steps=[('preprocessing', CustomTransformer()),\n",
              "                ('Vectorizing', TfidfVectorizer(max_features=19900)),\n",
              "                ('model', LogisticRegression(C=3, max_iter=10000))])"
            ]
          },
          "execution_count": 30,
          "metadata": {},
          "output_type": "execute_result"
        }
      ],
      "source": [
        "model = LogisticRegression(max_iter=10000, C=3)\n",
        "tfidf_vectorizer = TfidfVectorizer(max_features=19900)\n",
        "\n",
        "pipeline = Pipeline(steps=[\n",
        "    ('preprocessing', CustomTransformer()),\n",
        "    ('Vectorizing', tfidf_vectorizer),\n",
        "    ('model', model),\n",
        "])\n",
        "pipeline.fit(X_train, y_train)\n"
      ]
    },
    {
      "cell_type": "markdown",
      "metadata": {
        "id": "-1VnkMLsxddC"
      },
      "source": [
        "# See Results on test sample :"
      ]
    },
    {
      "cell_type": "code",
      "execution_count": null,
      "metadata": {
        "id": "QQigv6QRw3lB"
      },
      "outputs": [],
      "source": [
        "y_pred = pipeline.predict(X_test)"
      ]
    },
    {
      "cell_type": "code",
      "execution_count": null,
      "metadata": {
        "colab": {
          "base_uri": "https://localhost:8080/"
        },
        "id": "NNPboRFSw3lc",
        "outputId": "beaa4c6b-eda4-46b6-b8c7-992d5e6f1aca"
      },
      "outputs": [
        {
          "name": "stdout",
          "output_type": "stream",
          "text": [
            "              precision    recall  f1-score   support\n",
            "\n",
            "          EG       0.84      0.91      0.87      5764\n",
            "          LB       0.85      0.84      0.85      2762\n",
            "          LY       0.78      0.81      0.79      3650\n",
            "          MA       0.84      0.66      0.74      1154\n",
            "          SD       0.80      0.61      0.69      1443\n",
            "\n",
            "    accuracy                           0.82     14773\n",
            "   macro avg       0.82      0.77      0.79     14773\n",
            "weighted avg       0.82      0.82      0.82     14773\n",
            "\n"
          ]
        }
      ],
      "source": [
        "report = classification_report(y_test, y_pred)\n",
        "\n",
        "print(report)"
      ]
    },
    {
      "cell_type": "code",
      "execution_count": null,
      "metadata": {
        "colab": {
          "base_uri": "https://localhost:8080/",
          "height": 564
        },
        "id": "qVxl6eeiw3le",
        "outputId": "59655d8f-c594-46d9-ce4b-f289542a7da7"
      },
      "outputs": [
        {
          "data": {
            "image/png": "[encoded data removed]",
            "text/plain": [
              "<Figure size 800x600 with 2 Axes>"
            ]
          },
          "metadata": {},
          "output_type": "display_data"
        }
      ],
      "source": [
        "target_labels = ['EG', 'LB', 'LY', 'MA', 'SD']\n",
        "cm = confusion_matrix(y_test, y_pred)\n",
        "plt.figure(figsize=(8, 6))\n",
        "sns.heatmap(cm, annot=True, fmt='d', cmap='Blues', xticklabels=target_labels, yticklabels=target_labels)\n",
        "plt.xlabel('Predicted')\n",
        "plt.ylabel('Actual')\n",
        "plt.title('Confusion Matrix')\n",
        "plt.show()"
      ]
    },
    {
      "cell_type": "code",
      "execution_count": null,
      "metadata": {
        "colab": {
          "base_uri": "https://localhost:8080/",
          "height": 564
        },
        "id": "oo0PbRtgw3le",
        "outputId": "0ad15afe-5d7a-4336-a061-090cb2bcb0a3"
      },
      "outputs": [
        {
          "data": {
            "image/png": "[encoded data removed]",
            "text/plain": [
              "<Figure size 800x600 with 2 Axes>"
            ]
          },
          "metadata": {},
          "output_type": "display_data"
        }
      ],
      "source": [
        "normalized_cm = confusion_matrix(y_test, y_pred, normalize='true')\n",
        "plt.figure(figsize=(8, 6))\n",
        "sns.heatmap(normalized_cm, annot=True, cmap='Blues', xticklabels=target_labels, yticklabels=target_labels)\n",
        "plt.xlabel('Predicted')\n",
        "plt.ylabel('Actual')\n",
        "plt.title('Normalized Confusion Matrix')\n",
        "plt.show()"
      ]
    },
    {
      "cell_type": "markdown",
      "metadata": {
        "id": "OnQMLiCHyAbb"
      },
      "source": [
        "# Saving Whole pipeline :"
      ]
    },
    {
      "cell_type": "code",
      "execution_count": null,
      "metadata": {
        "id": "m1_PvrlrxJsl"
      },
      "outputs": [],
      "source": [
        "import joblib\n",
        "\n",
        "joblib.dump(pipeline, 'pipeline.pkl')\n",
        "\n",
        "# Load it to check it is properly saved ✅\n",
        "loaded_pipeline = joblib.load('pipeline.pkl')\n",
        "\n"
      ]
    },
    {
      "cell_type": "markdown",
      "metadata": {
        "id": "xqJxSIkFzryy"
      },
      "source": [
        "## ========================= Deep Learning model part ==========================="
      ]
    },
    {
      "cell_type": "code",
      "execution_count": null,
      "metadata": {
        "id": "dq02DVh2yJ1v"
      },
      "outputs": [],
      "source": [
        "def clean_txt(text):\n",
        "    # Remove URLs\n",
        "    text = re.sub(r'http[s]?://(?:[a-zA-Z]|[0-9]|[$-_@.&+]|[!*\\\\(\\\\),]|(?:%[0-9a-fA-F][0-9a-fA-F]))+', ' ', text)\n",
        "\n",
        "    # Remove usernames starting with @\n",
        "    text = re.sub(r'@[\\w_]+', ' ', text)\n",
        "\n",
        "    # Remove English words\n",
        "    text = re.sub(r'\\b[a-zA-Z]+\\b', ' ', text)\n",
        "\n",
        "    # Remove emojis\n",
        "    text = re.sub(r'[\\U00010000-\\U0010ffff]', ' ', text)\n",
        "    text = re.sub(r':[a-z_]+:', ' ', text)\n",
        "\n",
        "    # Remove special characters\n",
        "    text = re.sub('[*?!#@]', ' ', text)\n",
        "\n",
        "    # Remove redundant percentage and bar lines\n",
        "    text = re.sub(r'\\|\\|+\\s*\\d+%\\s*\\|\\|+?[_\\-\\.\\?]+', ' ', text)\n",
        "\n",
        "    text = re.sub(r'[_\\-\\.\\\"\\:\\;\\,\\'\\،\\♡\\\\\\)/(\\&\\؟]', ' ', text)\n",
        "\n",
        "    # Remove digits\n",
        "    text = re.sub(r'\\d+', ' ', text)\n",
        "\n",
        "    text_tokens = text.split()\n",
        "\n",
        "    # filtered_text = [word for word in text_tokens if word not in self.stopwords_arabic]\n",
        "    filtered_text = text_tokens\n",
        "    # Split and rejoin\n",
        "    text = ' '.join(filtered_text)\n",
        "\n",
        "    return text"
      ]
    },
    {
      "cell_type": "code",
      "execution_count": null,
      "metadata": {
        "id": "7kW0bH_r0T6q"
      },
      "outputs": [],
      "source": [
        "train['clean_text'] = train['text'].apply(clean_txt)\n",
        "val['clean_text'] = val['text'].apply(clean_txt)\n",
        "test['clean_text'] = test['text'].apply(clean_txt)"
      ]
    },
    {
      "cell_type": "code",
      "execution_count": null,
      "metadata": {
        "colab": {
          "base_uri": "https://localhost:8080/",
          "height": 432
        },
        "id": "8JNbM2sQ0cfX",
        "outputId": "82cd0ed5-2650-4e64-a02a-cea8df1f4183"
      },
      "outputs": [
        {
          "data": {
            "application/vnd.google.colaboratory.intrinsic+json": {
              "type": "dataframe",
              "variable_name": "train"
            },
            "text/html": [
              "\n",
              "  <div id=\"df-a66f2a2b-e990-43b0-a099-847b5d04665d\" class=\"colab-df-container\">\n",
              "    <div>\n",
              "<style scoped>\n",
              "    .dataframe tbody tr th:only-of-type {\n",
              "        vertical-align: middle;\n",
              "    }\n",
              "\n",
              "    .dataframe tbody tr th {\n",
              "        vertical-align: top;\n",
              "    }\n",
              "\n",
              "    .dataframe thead th {\n",
              "        text-align: right;\n",
              "    }\n",
              "</style>\n",
              "<table border=\"1\" class=\"dataframe\">\n",
              "  <thead>\n",
              "    <tr style=\"text-align: right;\">\n",
              "      <th></th>\n",
              "      <th>text</th>\n",
              "      <th>dialect</th>\n",
              "      <th>clean_text</th>\n",
              "    </tr>\n",
              "  </thead>\n",
              "  <tbody>\n",
              "    <tr>\n",
              "      <th>0</th>\n",
              "      <td>- معايا مناسبة عايز اروحها \\n\\nحباية فى وشى * https://t.co/boy2wXLQo6</td>\n",
              "      <td>EG</td>\n",
              "      <td>معايا مناسبة عايز اروحها حباية فى وشى</td>\n",
              "    </tr>\n",
              "    <tr>\n",
              "      <th>1</th>\n",
              "      <td>@Rooka25 مش انتى كاتبه بتيسطروا ازاى \\nب ٣ حاجات دى</td>\n",
              "      <td>EG</td>\n",
              "      <td>مش انتى كاتبه بتيسطروا ازاى ب حاجات دى</td>\n",
              "    </tr>\n",
              "    <tr>\n",
              "      <th>2</th>\n",
              "      <td>@eslamalmgrbe الف لا لاس عليها وربي يشفيها ويطول عمرها</td>\n",
              "      <td>LY</td>\n",
              "      <td>الف لا لاس عليها وربي يشفيها ويطول عمرها</td>\n",
              "    </tr>\n",
              "    <tr>\n",
              "      <th>3</th>\n",
              "      <td>@Dalia_PT ده بيبقى سلام بارد ومؤقت وخصوصآ لما بيبقى بينهم أولاد</td>\n",
              "      <td>EG</td>\n",
              "      <td>ده بيبقى سلام بارد ومؤقت وخصوصآ لما بيبقى بينهم أولاد</td>\n",
              "    </tr>\n",
              "    <tr>\n",
              "      <th>4</th>\n",
              "      <td>@A_Almahmoudy بيت شعر مش حكمة يا حكيه 😂</td>\n",
              "      <td>LY</td>\n",
              "      <td>بيت شعر مش حكمة يا حكيه</td>\n",
              "    </tr>\n",
              "    <tr>\n",
              "      <th>5</th>\n",
              "      <td>@monmon_29__ @EveElmasry @Tempest297 المهم انهم محرمين انها تتعرى بمزاجها انما واحد يعريها زي البقرة غصب عنها عشان يشتريها فده حلال وفل الفل</td>\n",
              "      <td>EG</td>\n",
              "      <td>المهم انهم محرمين انها تتعرى بمزاجها انما واحد يعريها زي البقرة غصب عنها عشان يشتريها فده حلال وفل الفل</td>\n",
              "    </tr>\n",
              "    <tr>\n",
              "      <th>6</th>\n",
              "      <td>@Dr_Wessam ده فطار مفتخر بقى .. الحقني بيه</td>\n",
              "      <td>EG</td>\n",
              "      <td>ده فطار مفتخر بقى الحقني بيه</td>\n",
              "    </tr>\n",
              "    <tr>\n",
              "      <th>7</th>\n",
              "      <td>في 2005 تخرجت من الهندسة وتعرضت لنفس الوضع, طبعا هو موضوع متأصل خاصة في طلبة السكن الجامعي اللي مكونين ما يشبه الاخوية وليها قوانين خاصة لا يمكنك الاعتراض عليها. وعموما لما يكون جمهور متخرجين او حتى دكاترة فان افعالهم لا تمتل الاراء الفردية وتعامل ككتلة متحركة صعب التكهن بافعالها https://t.co/80461Q6JI8</td>\n",
              "      <td>LY</td>\n",
              "      <td>في تخرجت من الهندسة وتعرضت لنفس الوضع طبعا هو موضوع متأصل خاصة في طلبة السكن الجامعي اللي مكونين ما يشبه الاخوية وليها قوانين خاصة لا يمكنك الاعتراض عليها وعموما لما يكون جمهور متخرجين او حتى دكاترة فان افعالهم لا تمتل الاراء الفردية وتعامل ككتلة متحركة صعب التكهن بافعالها</td>\n",
              "    </tr>\n",
              "    <tr>\n",
              "      <th>8</th>\n",
              "      <td>#شفيق_باع_نفسه_للجزيرة\\nشفيق على قنوات الإخوان طلع مظلووم ومهدور حقه \\nوبيقولوا هنقف جنبه لأننا مظلومين زي بعض \\nآخر نكته 😂😂😂😂</td>\n",
              "      <td>EG</td>\n",
              "      <td>شفيق باع نفسه للجزيرة شفيق على قنوات الإخوان طلع مظلووم ومهدور حقه وبيقولوا هنقف جنبه لأننا مظلومين زي بعض آخر نكته</td>\n",
              "    </tr>\n",
              "    <tr>\n",
              "      <th>9</th>\n",
              "      <td>@Dr_rame7 صدق الاثنين    الاثنين صح .</td>\n",
              "      <td>EG</td>\n",
              "      <td>صدق الاثنين الاثنين صح</td>\n",
              "    </tr>\n",
              "  </tbody>\n",
              "</table>\n",
              "</div>\n",
              "    <div class=\"colab-df-buttons\">\n",
              "\n",
              "  <div class=\"colab-df-container\">\n",
              "    <button class=\"colab-df-convert\" onclick=\"convertToInteractive('df-a66f2a2b-e990-43b0-a099-847b5d04665d')\"\n",
              "            title=\"Convert this dataframe to an interactive table.\"\n",
              "            style=\"display:none;\">\n",
              "\n",
              "  <svg xmlns=\"http://www.w3.org/2000/svg\" height=\"24px\" viewBox=\"0 -960 960 960\">\n",
              "    <path d=\"M120-120v-720h720v720H120Zm60-500h600v-160H180v160Zm220 220h160v-160H400v160Zm0 220h160v-160H400v160ZM180-400h160v-160H180v160Zm440 0h160v-160H620v160ZM180-180h160v-160H180v160Zm440 0h160v-160H620v160Z\"/>\n",
              "  </svg>\n",
              "    </button>\n",
              "\n",
              "  <style>\n",
              "    .colab-df-container {\n",
              "      display:flex;\n",
              "      gap: 12px;\n",
              "    }\n",
              "\n",
              "    .colab-df-convert {\n",
              "      background-color: #E8F0FE;\n",
              "      border: none;\n",
              "      border-radius: 50%;\n",
              "      cursor: pointer;\n",
              "      display: none;\n",
              "      fill: #1967D2;\n",
              "      height: 32px;\n",
              "      padding: 0 0 0 0;\n",
              "      width: 32px;\n",
              "    }\n",
              "\n",
              "    .colab-df-convert:hover {\n",
              "      background-color: #E2EBFA;\n",
              "      box-shadow: 0px 1px 2px rgba(60, 64, 67, 0.3), 0px 1px 3px 1px rgba(60, 64, 67, 0.15);\n",
              "      fill: #174EA6;\n",
              "    }\n",
              "\n",
              "    .colab-df-buttons div {\n",
              "      margin-bottom: 4px;\n",
              "    }\n",
              "\n",
              "    [theme=dark] .colab-df-convert {\n",
              "      background-color: #3B4455;\n",
              "      fill: #D2E3FC;\n",
              "    }\n",
              "\n",
              "    [theme=dark] .colab-df-convert:hover {\n",
              "      background-color: #434B5C;\n",
              "      box-shadow: 0px 1px 3px 1px rgba(0, 0, 0, 0.15);\n",
              "      filter: drop-shadow(0px 1px 2px rgba(0, 0, 0, 0.3));\n",
              "      fill: #FFFFFF;\n",
              "    }\n",
              "  </style>\n",
              "\n",
              "    <script>\n",
              "      const buttonEl =\n",
              "        document.querySelector('#df-a66f2a2b-e990-43b0-a099-847b5d04665d button.colab-df-convert');\n",
              "      buttonEl.style.display =\n",
              "        google.colab.kernel.accessAllowed ? 'block' : 'none';\n",
              "\n",
              "      async function convertToInteractive(key) {\n",
              "        const element = document.querySelector('#df-a66f2a2b-e990-43b0-a099-847b5d04665d');\n",
              "        const dataTable =\n",
              "          await google.colab.kernel.invokeFunction('convertToInteractive',\n",
              "                                                    [key], {});\n",
              "        if (!dataTable) return;\n",
              "\n",
              "        const docLinkHtml = 'Like what you see? Visit the ' +\n",
              "          '<a target=\"_blank\" href=https://colab.research.google.com/notebooks/data_table.ipynb>data table notebook</a>'\n",
              "          + ' to learn more about interactive tables.';\n",
              "        element.innerHTML = '';\n",
              "        dataTable['output_type'] = 'display_data';\n",
              "        await google.colab.output.renderOutput(dataTable, element);\n",
              "        const docLink = document.createElement('div');\n",
              "        docLink.innerHTML = docLinkHtml;\n",
              "        element.appendChild(docLink);\n",
              "      }\n",
              "    </script>\n",
              "  </div>\n",
              "\n",
              "\n",
              "<div id=\"df-14992870-492b-4786-b6b7-79a3e4357bc0\">\n",
              "  <button class=\"colab-df-quickchart\" onclick=\"quickchart('df-14992870-492b-4786-b6b7-79a3e4357bc0')\"\n",
              "            title=\"Suggest charts\"\n",
              "            style=\"display:none;\">\n",
              "\n",
              "<svg xmlns=\"http://www.w3.org/2000/svg\" height=\"24px\"viewBox=\"0 0 24 24\"\n",
              "     width=\"24px\">\n",
              "    <g>\n",
              "        <path d=\"M19 3H5c-1.1 0-2 .9-2 2v14c0 1.1.9 2 2 2h14c1.1 0 2-.9 2-2V5c0-1.1-.9-2-2-2zM9 17H7v-7h2v7zm4 0h-2V7h2v10zm4 0h-2v-4h2v4z\"/>\n",
              "    </g>\n",
              "</svg>\n",
              "  </button>\n",
              "\n",
              "<style>\n",
              "  .colab-df-quickchart {\n",
              "      --bg-color: #E8F0FE;\n",
              "      --fill-color: #1967D2;\n",
              "      --hover-bg-color: #E2EBFA;\n",
              "      --hover-fill-color: #174EA6;\n",
              "      --disabled-fill-color: #AAA;\n",
              "      --disabled-bg-color: #DDD;\n",
              "  }\n",
              "\n",
              "  [theme=dark] .colab-df-quickchart {\n",
              "      --bg-color: #3B4455;\n",
              "      --fill-color: #D2E3FC;\n",
              "      --hover-bg-color: #434B5C;\n",
              "      --hover-fill-color: #FFFFFF;\n",
              "      --disabled-bg-color: #3B4455;\n",
              "      --disabled-fill-color: #666;\n",
              "  }\n",
              "\n",
              "  .colab-df-quickchart {\n",
              "    background-color: var(--bg-color);\n",
              "    border: none;\n",
              "    border-radius: 50%;\n",
              "    cursor: pointer;\n",
              "    display: none;\n",
              "    fill: var(--fill-color);\n",
              "    height: 32px;\n",
              "    padding: 0;\n",
              "    width: 32px;\n",
              "  }\n",
              "\n",
              "  .colab-df-quickchart:hover {\n",
              "    background-color: var(--hover-bg-color);\n",
              "    box-shadow: 0 1px 2px rgba(60, 64, 67, 0.3), 0 1px 3px 1px rgba(60, 64, 67, 0.15);\n",
              "    fill: var(--button-hover-fill-color);\n",
              "  }\n",
              "\n",
              "  .colab-df-quickchart-complete:disabled,\n",
              "  .colab-df-quickchart-complete:disabled:hover {\n",
              "    background-color: var(--disabled-bg-color);\n",
              "    fill: var(--disabled-fill-color);\n",
              "    box-shadow: none;\n",
              "  }\n",
              "\n",
              "  .colab-df-spinner {\n",
              "    border: 2px solid var(--fill-color);\n",
              "    border-color: transparent;\n",
              "    border-bottom-color: var(--fill-color);\n",
              "    animation:\n",
              "      spin 1s steps(1) infinite;\n",
              "  }\n",
              "\n",
              "  @keyframes spin {\n",
              "    0% {\n",
              "      border-color: transparent;\n",
              "      border-bottom-color: var(--fill-color);\n",
              "      border-left-color: var(--fill-color);\n",
              "    }\n",
              "    20% {\n",
              "      border-color: transparent;\n",
              "      border-left-color: var(--fill-color);\n",
              "      border-top-color: var(--fill-color);\n",
              "    }\n",
              "    30% {\n",
              "      border-color: transparent;\n",
              "      border-left-color: var(--fill-color);\n",
              "      border-top-color: var(--fill-color);\n",
              "      border-right-color: var(--fill-color);\n",
              "    }\n",
              "    40% {\n",
              "      border-color: transparent;\n",
              "      border-right-color: var(--fill-color);\n",
              "      border-top-color: var(--fill-color);\n",
              "    }\n",
              "    60% {\n",
              "      border-color: transparent;\n",
              "      border-right-color: var(--fill-color);\n",
              "    }\n",
              "    80% {\n",
              "      border-color: transparent;\n",
              "      border-right-color: var(--fill-color);\n",
              "      border-bottom-color: var(--fill-color);\n",
              "    }\n",
              "    90% {\n",
              "      border-color: transparent;\n",
              "      border-bottom-color: var(--fill-color);\n",
              "    }\n",
              "  }\n",
              "</style>\n",
              "\n",
              "  <script>\n",
              "    async function quickchart(key) {\n",
              "      const quickchartButtonEl =\n",
              "        document.querySelector('#' + key + ' button');\n",
              "      quickchartButtonEl.disabled = true;  // To prevent multiple clicks.\n",
              "      quickchartButtonEl.classList.add('colab-df-spinner');\n",
              "      try {\n",
              "        const charts = await google.colab.kernel.invokeFunction(\n",
              "            'suggestCharts', [key], {});\n",
              "      } catch (error) {\n",
              "        console.error('Error during call to suggestCharts:', error);\n",
              "      }\n",
              "      quickchartButtonEl.classList.remove('colab-df-spinner');\n",
              "      quickchartButtonEl.classList.add('colab-df-quickchart-complete');\n",
              "    }\n",
              "    (() => {\n",
              "      let quickchartButtonEl =\n",
              "        document.querySelector('#df-14992870-492b-4786-b6b7-79a3e4357bc0 button');\n",
              "      quickchartButtonEl.style.display =\n",
              "        google.colab.kernel.accessAllowed ? 'block' : 'none';\n",
              "    })();\n",
              "  </script>\n",
              "</div>\n",
              "\n",
              "    </div>\n",
              "  </div>\n"
            ],
            "text/plain": [
              "                                                                                                                                                                                                                                                                                                               text  \\\n",
              "0                                                                                                                                                                                                                                             - معايا مناسبة عايز اروحها \\n\\nحباية فى وشى * https://t.co/boy2wXLQo6   \n",
              "1                                                                                                                                                                                                                                                               @Rooka25 مش انتى كاتبه بتيسطروا ازاى \\nب ٣ حاجات دى   \n",
              "2                                                                                                                                                                                                                                                            @eslamalmgrbe الف لا لاس عليها وربي يشفيها ويطول عمرها   \n",
              "3                                                                                                                                                                                                                                                   @Dalia_PT ده بيبقى سلام بارد ومؤقت وخصوصآ لما بيبقى بينهم أولاد   \n",
              "4                                                                                                                                                                                                                                                                           @A_Almahmoudy بيت شعر مش حكمة يا حكيه 😂   \n",
              "5                                                                                                                                                                      @monmon_29__ @EveElmasry @Tempest297 المهم انهم محرمين انها تتعرى بمزاجها انما واحد يعريها زي البقرة غصب عنها عشان يشتريها فده حلال وفل الفل   \n",
              "6                                                                                                                                                                                                                                                                        @Dr_Wessam ده فطار مفتخر بقى .. الحقني بيه   \n",
              "7  في 2005 تخرجت من الهندسة وتعرضت لنفس الوضع, طبعا هو موضوع متأصل خاصة في طلبة السكن الجامعي اللي مكونين ما يشبه الاخوية وليها قوانين خاصة لا يمكنك الاعتراض عليها. وعموما لما يكون جمهور متخرجين او حتى دكاترة فان افعالهم لا تمتل الاراء الفردية وتعامل ككتلة متحركة صعب التكهن بافعالها https://t.co/80461Q6JI8   \n",
              "8                                                                                                                                                                                    #شفيق_باع_نفسه_للجزيرة\\nشفيق على قنوات الإخوان طلع مظلووم ومهدور حقه \\nوبيقولوا هنقف جنبه لأننا مظلومين زي بعض \\nآخر نكته 😂😂😂😂   \n",
              "9                                                                                                                                                                                                                                                                             @Dr_rame7 صدق الاثنين    الاثنين صح .   \n",
              "\n",
              "  dialect  \\\n",
              "0      EG   \n",
              "1      EG   \n",
              "2      LY   \n",
              "3      EG   \n",
              "4      LY   \n",
              "5      EG   \n",
              "6      EG   \n",
              "7      LY   \n",
              "8      EG   \n",
              "9      EG   \n",
              "\n",
              "                                                                                                                                                                                                                                                                          clean_text  \n",
              "0                                                                                                                                                                                                                                              معايا مناسبة عايز اروحها حباية فى وشى  \n",
              "1                                                                                                                                                                                                                                             مش انتى كاتبه بتيسطروا ازاى ب حاجات دى  \n",
              "2                                                                                                                                                                                                                                           الف لا لاس عليها وربي يشفيها ويطول عمرها  \n",
              "3                                                                                                                                                                                                                              ده بيبقى سلام بارد ومؤقت وخصوصآ لما بيبقى بينهم أولاد  \n",
              "4                                                                                                                                                                                                                                                            بيت شعر مش حكمة يا حكيه  \n",
              "5                                                                                                                                                                            المهم انهم محرمين انها تتعرى بمزاجها انما واحد يعريها زي البقرة غصب عنها عشان يشتريها فده حلال وفل الفل  \n",
              "6                                                                                                                                                                                                                                                       ده فطار مفتخر بقى الحقني بيه  \n",
              "7  في تخرجت من الهندسة وتعرضت لنفس الوضع طبعا هو موضوع متأصل خاصة في طلبة السكن الجامعي اللي مكونين ما يشبه الاخوية وليها قوانين خاصة لا يمكنك الاعتراض عليها وعموما لما يكون جمهور متخرجين او حتى دكاترة فان افعالهم لا تمتل الاراء الفردية وتعامل ككتلة متحركة صعب التكهن بافعالها  \n",
              "8                                                                                                                                                                شفيق باع نفسه للجزيرة شفيق على قنوات الإخوان طلع مظلووم ومهدور حقه وبيقولوا هنقف جنبه لأننا مظلومين زي بعض آخر نكته  \n",
              "9                                                                                                                                                                                                                                                             صدق الاثنين الاثنين صح  "
            ]
          },
          "execution_count": 9,
          "metadata": {},
          "output_type": "execute_result"
        }
      ],
      "source": [
        "train.head(10)"
      ]
    },
    {
      "cell_type": "code",
      "execution_count": null,
      "metadata": {
        "colab": {
          "base_uri": "https://localhost:8080/"
        },
        "id": "hd09Da6w0iVW",
        "outputId": "29e6c967-414d-4f90-bd8b-03a32a78d38b"
      },
      "outputs": [
        {
          "name": "stdout",
          "output_type": "stream",
          "text": [
            "65\n"
          ]
        }
      ],
      "source": [
        "def get_longest_text(texts):\n",
        "  longest_input = 0\n",
        "  for text in texts:\n",
        "      text_len= len(text.split())\n",
        "      longest_input = max(longest_input, text_len)\n",
        "  return longest_input\n",
        "\n",
        "print(get_longest_text(train['clean_text']))"
      ]
    },
    {
      "cell_type": "markdown",
      "metadata": {
        "id": "loxLOtp68zf1"
      },
      "source": [
        "# Create Tokenizer :"
      ]
    },
    {
      "cell_type": "code",
      "execution_count": null,
      "metadata": {
        "id": "0wdr-c9w0zY3"
      },
      "outputs": [],
      "source": [
        "max_seq_len = 40\n",
        "\n",
        "# Only use train data !!\n",
        "tokenizer = Tokenizer(num_words=max_seq_len)\n",
        "tokenizer.fit_on_texts(train['clean_text'])\n",
        "word_to_idx = tokenizer.word_index"
      ]
    },
    {
      "cell_type": "code",
      "execution_count": null,
      "metadata": {
        "colab": {
          "base_uri": "https://localhost:8080/"
        },
        "id": "c2-dapfC6qqZ",
        "outputId": "67aca160-a6b3-4d3a-c4b9-9570e6b29167"
      },
      "outputs": [
        {
          "data": {
            "text/plain": [
              "{'من': 1,\n",
              " 'في': 2,\n",
              " 'ما': 3,\n",
              " 'و': 4,\n",
              " 'مش': 5,\n",
              " 'اللي': 6,\n",
              " 'يا': 7,\n",
              " 'بس': 8,\n",
              " 'على': 9,\n",
              " 'انا': 10,\n",
              " 'الله': 11,\n",
              " 'كل': 12,\n",
              " 'ده': 13,\n",
              " 'ولا': 14,\n",
              " 'لو': 15,\n",
              " 'علي': 16,\n",
              " 'لا': 17,\n",
              " 'كان': 18,\n",
              " 'انت': 19,\n",
              " 'والله': 20,\n",
              " 'هو': 21,\n",
              " 'دي': 22,\n",
              " 'مع': 23,\n",
              " 'ان': 24,\n",
              " 'ايه': 25,\n",
              " 'الناس': 26,\n",
              " 'فى': 27,\n",
              " 'شي': 28,\n",
              " 'عشان': 29,\n",
              " 'لما': 30,\n",
              " 'فيه': 31,\n",
              " 'غير': 32,\n",
              " 'ف': 33,\n",
              " 'ع': 34,\n",
              " 'عن': 35,\n",
              " 'واحد': 36,\n",
              " 'حد': 37,\n",
              " 'يعني': 38,\n",
              " 'او': 39,\n",
              " 'مصر': 40,\n",
              " 'عم': 41,\n",
              " 'كده': 42,\n",
              " 'فيها': 43,\n",
              " 'اللى': 44,\n",
              " 'بعد': 45,\n",
              " 'زي': 46,\n",
              " 'دا': 47,\n",
              " 'ربنا': 48,\n",
              " 'حتى': 49,\n",
              " 'ليه': 50,\n",
              " 'اي': 51,\n",
              " 'احنا': 52,\n",
              " 'لكن': 53,\n",
              " 'لي': 54,\n",
              " 'ناس': 55,\n",
              " 'مين': 56,\n",
              " 'شو': 57,\n",
              " 'حاجة': 58,\n",
              " 'ممكن': 59,\n",
              " 'عليه': 60,\n",
              " 'يوم': 61,\n",
              " 'كتير': 62,\n",
              " 'لازم': 63,\n",
              " 'عليك': 64,\n",
              " 'هي': 65,\n",
              " 'يارب': 66,\n",
              " 'قبل': 67,\n",
              " 'كنت': 68,\n",
              " 'كمان': 69,\n",
              " 'كيف': 70,\n",
              " 'أنا': 71,\n",
              " 'انه': 72,\n",
              " 'الي': 73,\n",
              " 'حاجه': 74,\n",
              " 'انو': 75,\n",
              " 'هذا': 76,\n",
              " 'وين': 77,\n",
              " 'ربي': 78,\n",
              " 'اذا': 79,\n",
              " 'علشان': 80,\n",
              " 'عارف': 81,\n",
              " 'الا': 82,\n",
              " 'يلي': 83,\n",
              " 'طيب': 84,\n",
              " 'بقى': 85,\n",
              " 'يكون': 86,\n",
              " 'اكتر': 87,\n",
              " 'دى': 88,\n",
              " 'شنو': 89,\n",
              " 'شاء': 90,\n",
              " 'اليوم': 91,\n",
              " 'كانت': 92,\n",
              " 'قال': 93,\n",
              " 'اول': 94,\n",
              " 'هيك': 95,\n",
              " 'تاني': 96,\n",
              " 'عليها': 97,\n",
              " 'رح': 98,\n",
              " 'انك': 99,\n",
              " 'جدا': 100,\n",
              " 'وانا': 101,\n",
              " 'عندي': 102,\n",
              " 'نفس': 103,\n",
              " 'حدا': 104,\n",
              " 'ال': 105,\n",
              " 'كلها': 106,\n",
              " 'مرة': 107,\n",
              " 'كدا': 108,\n",
              " 'كله': 109,\n",
              " 'اكيد': 110,\n",
              " 'انتي': 111,\n",
              " 'ب': 112,\n",
              " 'بعض': 113,\n",
              " 'اصلا': 114,\n",
              " 'وانت': 115,\n",
              " 'البلد': 116,\n",
              " 'عندك': 117,\n",
              " 'صار': 118,\n",
              " 'الكلام': 119,\n",
              " '❤': 120,\n",
              " 'صح': 121,\n",
              " 'هيدا': 122,\n",
              " 'سنة': 123,\n",
              " 'كلام': 124,\n",
              " 'ليك': 125,\n",
              " 'فيك': 126,\n",
              " 'شن': 127,\n",
              " 'هما': 128,\n",
              " 'دول': 129,\n",
              " 'وما': 130,\n",
              " 'ومش': 131,\n",
              " 'خير': 132,\n",
              " 'أو': 133,\n",
              " 'فعلا': 134,\n",
              " 'شوية': 135,\n",
              " 'تويتر': 136,\n",
              " 'عندنا': 137,\n",
              " 'مفيش': 138,\n",
              " 'بالله': 139,\n",
              " 'تكون': 140,\n",
              " 'ليبيا': 141,\n",
              " 'عادي': 142,\n",
              " 'اني': 143,\n",
              " 'الموضوع': 144,\n",
              " 'الشعب': 145,\n",
              " 'وقت': 146,\n",
              " 'خلاص': 147,\n",
              " 'بجد': 148,\n",
              " 'بقي': 149,\n",
              " 'معاك': 150,\n",
              " 'علينا': 151,\n",
              " 'إن': 152,\n",
              " 'ليش': 153,\n",
              " 'العالم': 154,\n",
              " 'بين': 155,\n",
              " 'طول': 156,\n",
              " 'هنا': 157,\n",
              " 'لسه': 158,\n",
              " 'منك': 159,\n",
              " 'عنده': 160,\n",
              " 'فين': 161,\n",
              " 'الدنيا': 162,\n",
              " 'له': 163,\n",
              " 'لك': 164,\n",
              " 'محمد': 165,\n",
              " 'الواحد': 166,\n",
              " 'توا': 167,\n",
              " 'طب': 168,\n",
              " 'فيهم': 169,\n",
              " 'منه': 170,\n",
              " 'لان': 171,\n",
              " 'ماشي': 172,\n",
              " 'زمان': 173,\n",
              " 'احسن': 174,\n",
              " 'بكل': 175,\n",
              " 'منهم': 176,\n",
              " 'عايز': 177,\n",
              " 'لبنان': 178,\n",
              " 'عليهم': 179,\n",
              " 'طبعا': 180,\n",
              " 'كدة': 181,\n",
              " 'وهو': 182,\n",
              " 'حلو': 183,\n",
              " 'وكل': 184,\n",
              " 'منها': 185,\n",
              " 'حق': 186,\n",
              " 'واللي': 187,\n",
              " 'حتي': 188,\n",
              " 'ولو': 189,\n",
              " 'المهم': 190,\n",
              " 'ههههه': 191,\n",
              " 'بيها': 192,\n",
              " 'م': 193,\n",
              " 'يقول': 194,\n",
              " 'عليا': 195,\n",
              " 'السيسي': 196,\n",
              " 'معاه': 197,\n",
              " 'غلط': 198,\n",
              " 'هههههه': 199,\n",
              " 'تقول': 200,\n",
              " 'كلنا': 201,\n",
              " 'ليا': 202,\n",
              " 'بلا': 203,\n",
              " 'شعب': 204,\n",
              " 'عند': 205,\n",
              " 'كبير': 206,\n",
              " 'بيه': 207,\n",
              " 'باش': 208,\n",
              " 'طلع': 209,\n",
              " 'ي': 210,\n",
              " 'قلبي': 211,\n",
              " 'نحنا': 212,\n",
              " 'الف': 213,\n",
              " 'هكي': 214,\n",
              " 'قاعد': 215,\n",
              " 'إيه': 216,\n",
              " 'حضرتك': 217,\n",
              " 'سنين': 218,\n",
              " 'نفسي': 219,\n",
              " 'قلت': 220,\n",
              " 'شخص': 221,\n",
              " 'صباح': 222,\n",
              " 'انها': 223,\n",
              " 'ابو': 224,\n",
              " 'حلوة': 225,\n",
              " 'نفسك': 226,\n",
              " 'نفسه': 227,\n",
              " 'تحت': 228,\n",
              " 'بنت': 229,\n",
              " 'زى': 230,\n",
              " 'راه': 231,\n",
              " 'كويس': 232,\n",
              " 'راح': 233,\n",
              " 'احلى': 234,\n",
              " 'يمكن': 235,\n",
              " 'يبقى': 236,\n",
              " 'لله': 237,\n",
              " 'لحد': 238,\n",
              " 'اخر': 239,\n",
              " 'عندهم': 240,\n",
              " 'ام': 241,\n",
              " 'مره': 242,\n",
              " 'الخير': 243,\n",
              " 'كلهم': 244,\n",
              " 'ضد': 245,\n",
              " 'يلا': 246,\n",
              " 'رمضان': 247,\n",
              " 'انتو': 248,\n",
              " 'حرام': 249,\n",
              " 'الاهلي': 250,\n",
              " 'صلاح': 251,\n",
              " 'ومن': 252,\n",
              " 'شوف': 253,\n",
              " 'أي': 254,\n",
              " 'اه': 255,\n",
              " 'كم': 256,\n",
              " 'منو': 257,\n",
              " 'فوق': 258,\n",
              " 'عيب': 259,\n",
              " 'سنه': 260,\n",
              " 'ياريت': 261,\n",
              " 'فكرة': 262,\n",
              " 'ايام': 263,\n",
              " 'لينا': 264,\n",
              " 'الوقت': 265,\n",
              " 'ليها': 266,\n",
              " 'بدون': 267,\n",
              " 'محدش': 268,\n",
              " 'معك': 269,\n",
              " 'ل': 270,\n",
              " 'هذي': 271,\n",
              " 'هاد': 272,\n",
              " 'الكل': 273,\n",
              " 'جاي': 274,\n",
              " 'جماعة': 275,\n",
              " 'هل': 276,\n",
              " 'هههه': 277,\n",
              " 'عليكم': 278,\n",
              " 'كلمة': 279,\n",
              " 'المفروض': 280,\n",
              " 'وفي': 281,\n",
              " 'موضوع': 282,\n",
              " 'متل': 283,\n",
              " 'حبيبي': 284,\n",
              " 'الجيش': 285,\n",
              " 'قدام': 286,\n",
              " 'ههههههه': 287,\n",
              " 'الزمالك': 288,\n",
              " 'عمل': 289,\n",
              " 'اما': 290,\n",
              " 'مليون': 291,\n",
              " 'شفت': 292,\n",
              " 'ازاي': 293,\n",
              " 'تي': 294,\n",
              " 'بي': 295,\n",
              " 'صحيح': 296,\n",
              " 'هم': 297,\n",
              " 'معاهم': 298,\n",
              " 'اوي': 299,\n",
              " 'بدو': 300,\n",
              " 'وحدة': 301,\n",
              " 'يعنى': 302,\n",
              " 'رب': 303,\n",
              " 'دايما': 304,\n",
              " 'ديما': 305,\n",
              " 'دلوقتي': 306,\n",
              " '\\u200d♀️': 307,\n",
              " 'يطلع': 308,\n",
              " 'بتاع': 309,\n",
              " 'اكبر': 310,\n",
              " 'مكان': 311,\n",
              " 'طرابلس': 312,\n",
              " 'بالك': 313,\n",
              " 'برضو': 314,\n",
              " 'هوا': 315,\n",
              " 'ابن': 316,\n",
              " 'وبعدين': 317,\n",
              " 'اكثر': 318,\n",
              " 'بعدين': 319,\n",
              " 'شكرا': 320,\n",
              " 'نحن': 321,\n",
              " 'شوي': 322,\n",
              " 'هههههههه': 323,\n",
              " 'الاول': 324,\n",
              " 'ليهم': 325,\n",
              " 'يجي': 326,\n",
              " 'مافي': 327,\n",
              " 'ولكن': 328,\n",
              " 'راجل': 329,\n",
              " 'قول': 330,\n",
              " 'جديد': 331,\n",
              " 'بلد': 332,\n",
              " 'فلوس': 333,\n",
              " 'الصبح': 334,\n",
              " 'فينا': 335,\n",
              " 'خالص': 336,\n",
              " 'الحق': 337,\n",
              " 'رئيس': 338,\n",
              " 'انهم': 339,\n",
              " 'الراجل': 340,\n",
              " 'كلو': 341,\n",
              " 'ديال': 342,\n",
              " 'كانوا': 343,\n",
              " 'ساعة': 344,\n",
              " 'نص': 345,\n",
              " 'ح': 346,\n",
              " 'الشارع': 347,\n",
              " 'عندها': 348,\n",
              " 'بعيد': 349,\n",
              " '❤️': 350,\n",
              " 'جنيه': 351,\n",
              " 'قد': 352,\n",
              " 'وخلاص': 353,\n",
              " 'كلامك': 354,\n",
              " 'صورة': 355,\n",
              " 'وبس': 356,\n",
              " 'برضه': 357,\n",
              " 'مني': 358,\n",
              " 'مافيش': 359,\n",
              " 'بخير': 360,\n",
              " 'عندو': 361,\n",
              " 'معانا': 362,\n",
              " 'طلعت': 363,\n",
              " 'شويه': 364,\n",
              " 'دولة': 365,\n",
              " 'السودان': 366,\n",
              " 'كنا': 367,\n",
              " 'والا': 368,\n",
              " 'هى': 369,\n",
              " 'المشكلة': 370,\n",
              " 'صوت': 371,\n",
              " 'ماتش': 372,\n",
              " 'بدك': 373,\n",
              " 'المغرب': 374,\n",
              " 'حصل': 375,\n",
              " 'الحمد': 376,\n",
              " 'بلاش': 377,\n",
              " 'يبارك': 378,\n",
              " 'ولاد': 379,\n",
              " 'مبروك': 380,\n",
              " 'زول': 381,\n",
              " 'شغل': 382,\n",
              " 'يبقي': 383,\n",
              " 'عارفين': 384,\n",
              " 'جميل': 385,\n",
              " 'اى': 386,\n",
              " 'عايزين': 387,\n",
              " 'واضح': 388,\n",
              " 'لها': 389,\n",
              " 'البيت': 390,\n",
              " 'جو': 391,\n",
              " 'ريت': 392,\n",
              " 'معايا': 393,\n",
              " 'لانه': 394,\n",
              " 'بلوك': 395,\n",
              " 'روح': 396,\n",
              " 'ورا': 397,\n",
              " 'لأن': 398,\n",
              " 'اسمه': 399,\n",
              " 'سؤال': 400,\n",
              " 'مثلا': 401,\n",
              " 'انتوا': 402,\n",
              " 'اهو': 403,\n",
              " 'تعرف': 404,\n",
              " 'بيقول': 405,\n",
              " 'نشوف': 406,\n",
              " 'للاسف': 407,\n",
              " 'البنت': 408,\n",
              " 'أن': 409,\n",
              " 'خلي': 410,\n",
              " 'مثل': 411,\n",
              " 'المصريين': 412,\n",
              " 'ههههههههه': 413,\n",
              " 'الحب': 414,\n",
              " 'قلبك': 415,\n",
              " 'يصير': 416,\n",
              " 'قوي': 417,\n",
              " 'معلش': 418,\n",
              " 'حب': 419,\n",
              " '\\u200d♂️': 420,\n",
              " 'واحنا': 421,\n",
              " 'شايف': 422,\n",
              " 'لكل': 423,\n",
              " 'البنات': 424,\n",
              " 'غادي': 425,\n",
              " 'عمرو': 426,\n",
              " 'لأ': 427,\n",
              " 'بدل': 428,\n",
              " 'باقي': 429,\n",
              " 'عيد': 430,\n",
              " 'علاش': 431,\n",
              " 'بنغازي': 432,\n",
              " 'خليك': 433,\n",
              " 'عارفة': 434,\n",
              " 'الصورة': 435,\n",
              " 'فقط': 436,\n",
              " 'يعمل': 437,\n",
              " 'سبب': 438,\n",
              " 'قريب': 439,\n",
              " 'إلا': 440,\n",
              " 'واش': 441,\n",
              " 'الشباب': 442,\n",
              " 'بدي': 443,\n",
              " 'إنت': 444,\n",
              " 'بعرف': 445,\n",
              " 'الدين': 446,\n",
              " 'بحب': 447,\n",
              " 'بيك': 448,\n",
              " 'تقريبا': 449,\n",
              " 'مشكلة': 450,\n",
              " 'لهم': 451,\n",
              " 'هيدي': 452,\n",
              " 'موجود': 453,\n",
              " 'شئ': 454,\n",
              " 'قطر': 455,\n",
              " 'رد': 456,\n",
              " 'احمد': 457,\n",
              " 'لقيت': 458,\n",
              " 'فاهم': 459,\n",
              " 'عنا': 460,\n",
              " 'تشوف': 461,\n",
              " 'عايش': 462,\n",
              " 'عام': 463,\n",
              " 'مهما': 464,\n",
              " 'كام': 465,\n",
              " 'الاخوان': 466,\n",
              " 'برا': 467,\n",
              " 'أنت': 468,\n",
              " 'مهم': 469,\n",
              " 'مفروض': 470,\n",
              " 'يعرف': 471,\n",
              " 'عارفه': 472,\n",
              " 'واحدة': 473,\n",
              " '✋': 474,\n",
              " 'شهر': 475,\n",
              " 'اهم': 476,\n",
              " 'نقول': 477,\n",
              " 'حاجات': 478,\n",
              " 'اسمها': 479,\n",
              " 'بقول': 480,\n",
              " 'شباب': 481,\n",
              " 'حسن': 482,\n",
              " 'عامل': 483,\n",
              " 'الشغل': 484,\n",
              " 'الرئيس': 485,\n",
              " 'الماتش': 486,\n",
              " 'عبد': 487,\n",
              " 'العيد': 488,\n",
              " 'مرات': 489,\n",
              " 'عايشين': 490,\n",
              " 'النهاردة': 491,\n",
              " 'الدولة': 492,\n",
              " 'هيا': 493,\n",
              " 'انتم': 494,\n",
              " 'اللهم': 495,\n",
              " 'ياخ': 496,\n",
              " 'تبي': 497,\n",
              " 'وان': 498,\n",
              " 'المصري': 499,\n",
              " 'تحكي': 500,\n",
              " 'ثورة': 501,\n",
              " 'بسبب': 502,\n",
              " 'بالنسبة': 503,\n",
              " 'ماهو': 504,\n",
              " 'بقت': 505,\n",
              " 'ها': 506,\n",
              " 'هناك': 507,\n",
              " 'افضل': 508,\n",
              " 'بكره': 509,\n",
              " 'يبي': 510,\n",
              " 'بتقول': 511,\n",
              " 'تانية': 512,\n",
              " 'ولما': 513,\n",
              " 'حياتي': 514,\n",
              " 'وكان': 515,\n",
              " 'قلب': 516,\n",
              " 'عملت': 517,\n",
              " 'تسلم': 518,\n",
              " 'خلص': 519,\n",
              " 'مو': 520,\n",
              " 'تطلع': 521,\n",
              " 'حفتر': 522,\n",
              " 'عندكم': 523,\n",
              " 'السنة': 524,\n",
              " 'قالك': 525,\n",
              " 'اسم': 526,\n",
              " 'محتاج': 527,\n",
              " 'يقدر': 528,\n",
              " 'اعرف': 529,\n",
              " 'صباحك': 530,\n",
              " 'يخليك': 531,\n",
              " 'لانو': 532,\n",
              " 'باهي': 533,\n",
              " 'الفيديو': 534,\n",
              " 'يسعد': 535,\n",
              " 'وهي': 536,\n",
              " 'بنات': 537,\n",
              " 'هدا': 538,\n",
              " 'صاحب': 539,\n",
              " 'ولد': 540,\n",
              " 'مبارك': 541,\n",
              " 'الى': 542,\n",
              " 'حساب': 543,\n",
              " 'صعب': 544,\n",
              " 'امبارح': 545,\n",
              " 'واحده': 546,\n",
              " 'دكتور': 547,\n",
              " 'ديل': 548,\n",
              " 'الشي': 549,\n",
              " 'عاوز': 550,\n",
              " 'نبي': 551,\n",
              " 'بيت': 552,\n",
              " 'أكتر': 553,\n",
              " 'ههه': 554,\n",
              " 'عالم': 555,\n",
              " 'تو': 556,\n",
              " 'بكرا': 557,\n",
              " 'الفيس': 558,\n",
              " 'بينا': 559,\n",
              " 'وزير': 560,\n",
              " 'حلوه': 561,\n",
              " 'عمره': 562,\n",
              " 'حسب': 563,\n",
              " 'كرمال': 564,\n",
              " 'قالت': 565,\n",
              " 'السعودية': 566,\n",
              " 'لنا': 567,\n",
              " 'فيا': 568,\n",
              " 'كبيرة': 569,\n",
              " 'نعرف': 570,\n",
              " 'بعدها': 571,\n",
              " 'وكمان': 572,\n",
              " 'بيهم': 573,\n",
              " 'سعد': 574,\n",
              " 'نهار': 575,\n",
              " 'تجي': 576,\n",
              " 'إحنا': 577,\n",
              " 'بلبنان': 578,\n",
              " 'صارت': 579,\n",
              " 'تمام': 580,\n",
              " 'لم': 581,\n",
              " 'إذا': 582,\n",
              " 'دم': 583,\n",
              " 'عمرك': 584,\n",
              " 'هلبا': 585,\n",
              " 'هوي': 586,\n",
              " 'مات': 587,\n",
              " 'فترة': 588,\n",
              " 'عمر': 589,\n",
              " 'هني': 590,\n",
              " 'الجو': 591,\n",
              " 'معناها': 592,\n",
              " 'بقا': 593,\n",
              " 'أول': 594,\n",
              " 'السيد': 595,\n",
              " 'القلب': 596,\n",
              " 'الحياة': 597,\n",
              " 'انتى': 598,\n",
              " '—': 599,\n",
              " 'جد': 600,\n",
              " 'عنه': 601,\n",
              " 'رغم': 602,\n",
              " 'عمري': 603,\n",
              " 'اساس': 604,\n",
              " 'الوحيد': 605,\n",
              " 'زيك': 606,\n",
              " 'للأسف': 607,\n",
              " 'فيلم': 608,\n",
              " 'لاعب': 609,\n",
              " 'خبر': 610,\n",
              " 'فيديو': 611,\n",
              " 'تانى': 612,\n",
              " 'روحي': 613,\n",
              " 'عرفت': 614,\n",
              " 'حرب': 615,\n",
              " 'الحمدلله': 616,\n",
              " 'هلق': 617,\n",
              " 'يستر': 618,\n",
              " 'الجديد': 619,\n",
              " 'وده': 620,\n",
              " 'مرسي': 621,\n",
              " 'بكرة': 622,\n",
              " 'دور': 623,\n",
              " 'بلدنا': 624,\n",
              " 'شكله': 625,\n",
              " 'حبيبتي': 626,\n",
              " 'الليل': 627,\n",
              " 'إنو': 628,\n",
              " 'اقول': 629,\n",
              " 'العام': 630,\n",
              " 'اننا': 631,\n",
              " 'تبقى': 632,\n",
              " 'أكيد': 633,\n",
              " 'لمن': 634,\n",
              " 'الشخص': 635,\n",
              " 'تعمل': 636,\n",
              " 'هذه': 637,\n",
              " 'معاها': 638,\n",
              " 'حنا': 639,\n",
              " 'قادر': 640,\n",
              " 'مستحيل': 641,\n",
              " 'عنجد': 642,\n",
              " 'ست': 643,\n",
              " 'ياخد': 644,\n",
              " 'بدنا': 645,\n",
              " 'الفل': 646,\n",
              " 'اعمل': 647,\n",
              " 'اهل': 648,\n",
              " 'للي': 649,\n",
              " 'الايام': 650,\n",
              " 'منور': 651,\n",
              " 'قاعدين': 652,\n",
              " 'العرب': 653,\n",
              " 'مصري': 654,\n",
              " 'وانتي': 655,\n",
              " 'وربنا': 656,\n",
              " 'امتى': 657,\n",
              " 'كلب': 658,\n",
              " 'ابدا': 659,\n",
              " 'حال': 660,\n",
              " 'ياعم': 661,\n",
              " 'وأنا': 662,\n",
              " 'امين': 663,\n",
              " 'حل': 664,\n",
              " 'دخل': 665,\n",
              " 'جاب': 666,\n",
              " 'احلي': 667,\n",
              " 'التاني': 668,\n",
              " 'الدوري': 669,\n",
              " 'اقسم': 670,\n",
              " 'جمهور': 671,\n",
              " 'للناس': 672,\n",
              " 'الفلوس': 673,\n",
              " 'فريق': 674,\n",
              " 'قصقص': 675,\n",
              " 'صور': 676,\n",
              " 'عليكي': 677,\n",
              " 'معقول': 678,\n",
              " 'رايح': 679,\n",
              " 'حزب': 680,\n",
              " 'نفسها': 681,\n",
              " 'ونص': 682,\n",
              " 'الحكومة': 683,\n",
              " 'تمشي': 684,\n",
              " 'الوطن': 685,\n",
              " 'الحقيقة': 686,\n",
              " 'بتوع': 687,\n",
              " 'حياتك': 688,\n",
              " 'غيرك': 689,\n",
              " 'شكلك': 690,\n",
              " 'بتكون': 691,\n",
              " 'بصراحة': 692,\n",
              " 'خايف': 693,\n",
              " 'جداً': 694,\n",
              " 'بكون': 695,\n",
              " 'كلمه': 696,\n",
              " 'النهارده': 697,\n",
              " 'الوضع': 698,\n",
              " 'طريق': 699,\n",
              " 'الطريق': 700,\n",
              " 'نزل': 701,\n",
              " 'كفاية': 702,\n",
              " 'السراج': 703,\n",
              " '✌': 704,\n",
              " 'والناس': 705,\n",
              " 'وبعد': 706,\n",
              " 'ونعم': 707,\n",
              " 'كانو': 708,\n",
              " 'منين': 709,\n",
              " 'انسان': 710,\n",
              " 'ساعات': 711,\n",
              " 'دة': 712,\n",
              " 'الان': 713,\n",
              " 'عنك': 714,\n",
              " 'الارض': 715,\n",
              " 'الحرب': 716,\n",
              " 'مزال': 717,\n",
              " 'حالك': 718,\n",
              " 'كلن': 719,\n",
              " 'وحده': 720,\n",
              " 'بره': 721,\n",
              " 'مجرد': 722,\n",
              " 'عاد': 723,\n",
              " 'يشوف': 724,\n",
              " 'يحكي': 725,\n",
              " 'إنك': 726,\n",
              " 'بيعمل': 727,\n",
              " 'وهما': 728,\n",
              " 'امك': 729,\n",
              " 'جنب': 730,\n",
              " 'قناة': 731,\n",
              " 'بحال': 732,\n",
              " 'غريب': 733,\n",
              " 'آخر': 734,\n",
              " 'امس': 735,\n",
              " 'عايزه': 736,\n",
              " 'الثورة': 737,\n",
              " 'يومين': 738,\n",
              " 'فيكم': 739,\n",
              " 'الشيخ': 740,\n",
              " 'قصة': 741,\n",
              " 'الحاجات': 742,\n",
              " 'بزاف': 743,\n",
              " 'النت': 744,\n",
              " 'الساعة': 745,\n",
              " 'عين': 746,\n",
              " 'باب': 747,\n",
              " 'الكورة': 748,\n",
              " 'كامل': 749,\n",
              " 'فولو': 750,\n",
              " 'ترجع': 751,\n",
              " 'وسط': 752,\n",
              " 'فرق': 753,\n",
              " 'ريتويت': 754,\n",
              " 'مالك': 755,\n",
              " 'علاقة': 756,\n",
              " 'السبب': 757,\n",
              " 'الوكيل': 758,\n",
              " 'بن': 759,\n",
              " 'نفسهم': 760,\n",
              " 'طبيعي': 761,\n",
              " 'وعلى': 762,\n",
              " 'ضروري': 763,\n",
              " 'سبحان': 764,\n",
              " 'السؤال': 765,\n",
              " 'عنها': 766,\n",
              " 'خلينا': 767,\n",
              " 'بدري': 768,\n",
              " 'يمشي': 769,\n",
              " 'شيء': 770,\n",
              " 'اكل': 771,\n",
              " 'مازال': 772,\n",
              " 'يناير': 773,\n",
              " 'أكثر': 774,\n",
              " 'لى': 775,\n",
              " 'شكل': 776,\n",
              " 'صراحة': 777,\n",
              " 'راس': 778,\n",
              " 'يقولك': 779,\n",
              " 'المشكله': 780,\n",
              " 'هلأ': 781,\n",
              " 'تبقي': 782,\n",
              " 'اقل': 783,\n",
              " 'اصل': 784,\n",
              " 'صاير': 785,\n",
              " 'يلعب': 786,\n",
              " 'معش': 787,\n",
              " 'محترم': 788,\n",
              " 'بالي': 789,\n",
              " 'سعيد': 790,\n",
              " 'قالو': 791,\n",
              " 'الاخر': 792,\n",
              " 'النوم': 793,\n",
              " 'نعمل': 794,\n",
              " 'تاخد': 795,\n",
              " 'كاين': 796,\n",
              " 'روحك': 797,\n",
              " 'قالوا': 798,\n",
              " 'برنامج': 799,\n",
              " 'أحلى': 800,\n",
              " 'بطل': 801,\n",
              " 'صغير': 802,\n",
              " 'طالع': 803,\n",
              " 'بتعرف': 804,\n",
              " 'رقم': 805,\n",
              " 'بيحصل': 806,\n",
              " 'يروح': 807,\n",
              " 'ازاى': 808,\n",
              " 'قصدي': 809,\n",
              " 'اجمل': 810,\n",
              " 'اختي': 811,\n",
              " 'بقيت': 812,\n",
              " 'معو': 813,\n",
              " 'انشالله': 814,\n",
              " 'الحريري': 815,\n",
              " 'منيح': 816,\n",
              " 'الاتنين': 817,\n",
              " 'العمر': 818,\n",
              " 'منكم': 819,\n",
              " 'يرجع': 820,\n",
              " 'كثير': 821,\n",
              " 'لين': 822,\n",
              " 'بيعرف': 823,\n",
              " 'بتعمل': 824,\n",
              " 'يحفظك': 825,\n",
              " 'اش': 826,\n",
              " 'بصراحه': 827,\n",
              " 'الحال': 828,\n",
              " 'فاكر': 829,\n",
              " 'الحرية': 830,\n",
              " 'غيره': 831,\n",
              " 'فات': 832,\n",
              " 'وش': 833,\n",
              " 'ومين': 834,\n",
              " 'معاش': 835,\n",
              " 'العظيم': 836,\n",
              " '♥️': 837,\n",
              " 'فكره': 838,\n",
              " 'معاي': 839,\n",
              " 'الست': 840,\n",
              " 'مسلسل': 841,\n",
              " 'هضا': 842,\n",
              " 'حاليا': 843,\n",
              " 'الفريق': 844,\n",
              " 'دولار': 845,\n",
              " 'جت': 846,\n",
              " 'وربي': 847,\n",
              " 'زعيم': 848,\n",
              " 'اشوف': 849,\n",
              " 'سمعت': 850,\n",
              " 'دين': 851,\n",
              " 'جديدة': 852,\n",
              " 'إنه': 853,\n",
              " 'الحلوة': 854,\n",
              " 'راهو': 855,\n",
              " 'لأنه': 856,\n",
              " 'ايوه': 857,\n",
              " 'بالعكس': 858,\n",
              " 'البلاد': 859,\n",
              " 'بشكل': 860,\n",
              " 'اعتقد': 861,\n",
              " 'تقدر': 862,\n",
              " 'عايزة': 863,\n",
              " 'اتنين': 864,\n",
              " 'نسيت': 865,\n",
              " 'التويتر': 866,\n",
              " 'الفرق': 867,\n",
              " 'حر': 868,\n",
              " 'أكبر': 869,\n",
              " 'رجال': 870,\n",
              " 'واقف': 871,\n",
              " 'الخبر': 872,\n",
              " 'يقعد': 873,\n",
              " 'هلا': 874,\n",
              " 'منا': 875,\n",
              " 'جيش': 876,\n",
              " 'أحسن': 877,\n",
              " 'مساء': 878,\n",
              " 'كورة': 879,\n",
              " 'قالي': 880,\n",
              " 'إللى': 881,\n",
              " 'جيت': 882,\n",
              " 'عيني': 883,\n",
              " 'راسي': 884,\n",
              " 'ليهو': 885,\n",
              " 'زمن': 886,\n",
              " 'بيكون': 887,\n",
              " 'خالد': 888,\n",
              " 'كون': 889,\n",
              " 'النظام': 890,\n",
              " 'كريم': 891,\n",
              " 'معروف': 892,\n",
              " 'ماشاء': 893,\n",
              " 'المنتخب': 894,\n",
              " 'هههههههههه': 895,\n",
              " 'واجد': 896,\n",
              " 'وحتى': 897,\n",
              " 'هون': 898,\n",
              " 'انتا': 899,\n",
              " 'تحيا': 900,\n",
              " 'داير': 901,\n",
              " 'وقتها': 902,\n",
              " 'الضي': 903,\n",
              " 'حقيقي': 904,\n",
              " 'الحكم': 905,\n",
              " 'مننا': 906,\n",
              " 'الموسم': 907,\n",
              " 'وصل': 908,\n",
              " 'نعم': 909,\n",
              " 'تقولي': 910,\n",
              " 'سلام': 911,\n",
              " 'ولله': 912,\n",
              " 'عادى': 913,\n",
              " 'هادي': 914,\n",
              " 'الزول': 915,\n",
              " 'البحر': 916,\n",
              " 'خاصة': 917,\n",
              " 'فعلاً': 918,\n",
              " 'كفايه': 919,\n",
              " 'بما': 920,\n",
              " 'اوى': 921,\n",
              " 'فهمت': 922,\n",
              " 'وصلت': 923,\n",
              " 'حكم': 924,\n",
              " 'مشكله': 925,\n",
              " 'قدر': 926,\n",
              " 'طيبة': 927,\n",
              " 'تركي': 928,\n",
              " 'يقولوا': 929,\n",
              " 'تروح': 930,\n",
              " 'علم': 931,\n",
              " 'محتاجين': 932,\n",
              " 'الحلو': 933,\n",
              " 'ساعه': 934,\n",
              " 'سنوات': 935,\n",
              " 'معي': 936,\n",
              " 'أيام': 937,\n",
              " 'العربية': 938,\n",
              " 'راحت': 939,\n",
              " 'زعما': 940,\n",
              " 'تانيه': 941,\n",
              " 'ومع': 942,\n",
              " 'تونس': 943,\n",
              " 'كتر': 944,\n",
              " 'نوع': 945,\n",
              " 'الغلط': 946,\n",
              " 'ينزل': 947,\n",
              " 'فاضي': 948,\n",
              " 'بتحب': 949,\n",
              " 'رجل': 950,\n",
              " 'شخصية': 951,\n",
              " 'حي': 952,\n",
              " 'توصل': 953,\n",
              " 'حالة': 954,\n",
              " 'يسلمك': 955,\n",
              " 'لمصر': 956,\n",
              " 'غالي': 957,\n",
              " 'داخل': 958,\n",
              " 'جمال': 959,\n",
              " 'يوفقك': 960,\n",
              " 'يرحم': 961,\n",
              " 'كلامي': 962,\n",
              " 'قاله': 963,\n",
              " 'تم': 964,\n",
              " 'فيهن': 965,\n",
              " 'بالظبط': 966,\n",
              " 'الكبير': 967,\n",
              " 'الكلب': 968,\n",
              " 'تحس': 969,\n",
              " 'ليبي': 970,\n",
              " 'مشاكل': 971,\n",
              " 'كاس': 972,\n",
              " 'نور': 973,\n",
              " 'الدوله': 974,\n",
              " 'وناس': 975,\n",
              " 'سوريا': 976,\n",
              " 'شغال': 977,\n",
              " 'انى': 978,\n",
              " 'كمية': 979,\n",
              " 'يرحمه': 980,\n",
              " 'بري': 981,\n",
              " 'جماعه': 982,\n",
              " 'وراه': 983,\n",
              " 'تجيب': 984,\n",
              " 'ليكم': 985,\n",
              " 'فبراير': 986,\n",
              " 'ثاني': 987,\n",
              " 'دلوقتى': 988,\n",
              " 'الريال': 989,\n",
              " 'يفهم': 990,\n",
              " 'بالضبط': 991,\n",
              " 'واخد': 992,\n",
              " 'الدول': 993,\n",
              " 'كلامه': 994,\n",
              " 'إني': 995,\n",
              " 'ودي': 996,\n",
              " 'وحش': 997,\n",
              " 'اخويا': 998,\n",
              " 'زيادة': 999,\n",
              " 'لسة': 1000,\n",
              " ...}"
            ]
          },
          "execution_count": 12,
          "metadata": {},
          "output_type": "execute_result"
        }
      ],
      "source": [
        "word_to_idx"
      ]
    },
    {
      "cell_type": "markdown",
      "metadata": {
        "id": "frgvDDFr612-"
      },
      "source": [
        "## Most frequent words :"
      ]
    },
    {
      "cell_type": "code",
      "execution_count": null,
      "metadata": {
        "colab": {
          "base_uri": "https://localhost:8080/"
        },
        "id": "ZBi2NcRh653E",
        "outputId": "5978634d-a469-4891-b751-3c46fa57ca5e"
      },
      "outputs": [
        {
          "name": "stdout",
          "output_type": "stream",
          "text": [
            "Top 20 most frequent words:\n",
            "من - 24656\n",
            "في - 22847\n",
            "ما - 17676\n",
            "و - 17378\n",
            "مش - 15030\n",
            "اللي - 14704\n",
            "يا - 14216\n",
            "بس - 12194\n",
            "على - 9955\n",
            "انا - 9275\n",
            "الله - 8916\n",
            "كل - 7930\n",
            "ده - 7902\n",
            "ولا - 7184\n",
            "لو - 5500\n",
            "علي - 5475\n",
            "لا - 5408\n",
            "كان - 5251\n",
            "انت - 5227\n",
            "والله - 5212\n"
          ]
        }
      ],
      "source": [
        "# Get the top 20 most frequent words\n",
        "word_counts = tokenizer.word_counts\n",
        "top_n = 20\n",
        "top_words = sorted(word_counts.items(), key=lambda x: x[1], reverse=True)[:top_n]\n",
        "\n",
        "print(\"Top\", top_n, \"most frequent words:\")\n",
        "for word, freq in top_words:\n",
        "    print(word, \"-\", freq)"
      ]
    },
    {
      "cell_type": "markdown",
      "metadata": {
        "id": "prE_lJDP7YrM"
      },
      "source": [
        "## `I can't Drop them because most of them are representing dialect !! `"
      ]
    },
    {
      "cell_type": "code",
      "execution_count": null,
      "metadata": {
        "colab": {
          "base_uri": "https://localhost:8080/"
        },
        "id": "mu0yr8bE1Qna",
        "outputId": "f4aeeb9b-6e66-4678-d65e-bf82d8d3ec1a"
      },
      "outputs": [
        {
          "name": "stdout",
          "output_type": "stream",
          "text": [
            "Corpus have number of unique wors is : 216049 word\n"
          ]
        }
      ],
      "source": [
        "print(f\"Corpus have number of unique wors is : {len(word_to_idx)} word\")"
      ]
    },
    {
      "cell_type": "markdown",
      "metadata": {
        "id": "G6liwqsxBcBX"
      },
      "source": [
        "# Padding :"
      ]
    },
    {
      "cell_type": "code",
      "execution_count": null,
      "metadata": {
        "id": "LipY3xmF1bdP"
      },
      "outputs": [],
      "source": [
        "def process_sentence(sentence, tokenizer):\n",
        "    word_to_idx = tokenizer.word_index\n",
        "    X_tokens = tokenizer.texts_to_sequences([sentence])\n",
        "    X_tokens_pad = pad_sequences(X_tokens, maxlen=max_seq_len, padding='post')\n",
        "    return X_tokens_pad\n",
        "\n",
        "def padding_vectors(df):\n",
        "    num_sentences = len(df['clean_text'])\n",
        "    X_tokens_pad_array = np.zeros((num_sentences, max_seq_len), dtype=int)\n",
        "\n",
        "    for i, sentence in enumerate(df['clean_text']):\n",
        "        X_tokens_pad = process_sentence(sentence, tokenizer)\n",
        "        X_tokens_pad_array[i, :] = X_tokens_pad\n",
        "    return X_tokens_pad_array"
      ]
    },
    {
      "cell_type": "code",
      "execution_count": null,
      "metadata": {
        "id": "Wp66Zsmb3Smx"
      },
      "outputs": [],
      "source": [
        "train_seq_pad = padding_vectors(train)\n",
        "val_seq_pad = padding_vectors(val)\n",
        "test_seq_pad = padding_vectors(test)\n"
      ]
    },
    {
      "cell_type": "code",
      "execution_count": null,
      "metadata": {
        "colab": {
          "base_uri": "https://localhost:8080/"
        },
        "id": "bKUai1oO9O1z",
        "outputId": "b4677a07-22b6-4aa0-e115-1c6637717aa0"
      },
      "outputs": [
        {
          "name": "stdout",
          "output_type": "stream",
          "text": [
            "(118180, 40)\n",
            "(14772, 40)\n",
            "(14773, 40)\n"
          ]
        }
      ],
      "source": [
        "print(train_seq_pad.shape)\n",
        "print(val_seq_pad.shape)\n",
        "print(test_seq_pad.shape)"
      ]
    },
    {
      "cell_type": "markdown",
      "metadata": {
        "id": "-0VWGpbzBfOm"
      },
      "source": [
        "# OHE to labels for modeling :"
      ]
    },
    {
      "cell_type": "code",
      "execution_count": null,
      "metadata": {
        "id": "YJ7P6UBF_mBB"
      },
      "outputs": [],
      "source": [
        "y_train = train['dialect']\n",
        "y_val = val['dialect']\n",
        "y_test = test['dialect']\n",
        "\n",
        "label_encoder = LabelEncoder()\n",
        "\n",
        "y_train_encoded = label_encoder.fit_transform(y_train)\n",
        "y_val_encoded = label_encoder.transform(y_val)\n",
        "y_test_encoded = label_encoder.transform(y_test)"
      ]
    },
    {
      "cell_type": "code",
      "execution_count": null,
      "metadata": {
        "id": "jh-Ak5Eq_6Qh"
      },
      "outputs": [],
      "source": [
        "classes = 5\n",
        "y_train_categorical = to_categorical(y_train_encoded, num_classes=classes)\n",
        "y_val_categorical = to_categorical(y_val_encoded, num_classes=classes)\n",
        "y_test_categorical = to_categorical(y_test_encoded, num_classes=classes)"
      ]
    },
    {
      "cell_type": "code",
      "execution_count": null,
      "metadata": {
        "colab": {
          "base_uri": "https://localhost:8080/"
        },
        "id": "5qUqj-EEBn6w",
        "outputId": "794c25ad-ba1b-478e-ab00-344ddbe19358"
      },
      "outputs": [
        {
          "name": "stdout",
          "output_type": "stream",
          "text": [
            "(118180, 5)\n",
            "(14772, 5)\n",
            "(14773, 5)\n"
          ]
        }
      ],
      "source": [
        "print(y_train_categorical.shape)\n",
        "print(y_val_categorical.shape)\n",
        "print(y_test_categorical.shape)"
      ]
    },
    {
      "cell_type": "code",
      "execution_count": null,
      "metadata": {
        "id": "lSXPBzxK9Wj4"
      },
      "outputs": [],
      "source": [
        "def categorical_crossentropy_loss(y_true, y_pred):\n",
        "    return tf.keras.losses.categorical_crossentropy(y_true, y_pred)\n",
        "\n",
        "def build_rnn_model(input_dim, output_dim, input_length, rnn_units=128, network=SimpleRNN):\n",
        "    model = Sequential([\n",
        "        Embedding(input_dim=input_dim, output_dim=output_dim, input_length=input_length),\n",
        "        network(rnn_units, return_sequences=False),\n",
        "        Dense(128, activation='relu'),\n",
        "        Dense(64, activation='relu'),\n",
        "        Dense(classes, activation='softmax')\n",
        "    ])\n",
        "    model.compile(loss='categorical_crossentropy', optimizer='adam', metrics=['accuracy',\\\n",
        "                                                                              tf.metrics.F1Score(average='macro')\\\n",
        "                                                                              ,categorical_crossentropy_loss])\n",
        "    # model.summary()\n",
        "    return model"
      ]
    },
    {
      "cell_type": "code",
      "execution_count": null,
      "metadata": {
        "id": "G2J_jCJVrr-B"
      },
      "outputs": [],
      "source": [
        "def build_rnn_model_2(input_dim, output_dim, input_length, rnn_units=128, network=SimpleRNN):\n",
        "    model = Sequential([\n",
        "        Embedding(input_dim=input_dim, output_dim=output_dim, input_length=input_length),\n",
        "        network(rnn_units, return_sequences=False),\n",
        "        Dense(128, activation='tanh'),\n",
        "        Dense(64, activation='tanh'),\n",
        "        Dense(classes, activation='softmax')\n",
        "    ])\n",
        "\n",
        "    model.compile(loss='sparse_categorical_crossentropy',\n",
        "                  optimizer='adam',\n",
        "                  metrics=['accuracy'])\n",
        "\n",
        "    model.summary()\n",
        "    return model"
      ]
    },
    {
      "cell_type": "markdown",
      "metadata": {
        "id": "ZkKptHAqDGQK"
      },
      "source": [
        "# Building Base model :"
      ]
    },
    {
      "cell_type": "code",
      "execution_count": null,
      "metadata": {
        "colab": {
          "base_uri": "https://localhost:8080/"
        },
        "id": "jB30eVIP-ko-",
        "outputId": "dee34ccf-0b34-4328-f353-7e4649933b22"
      },
      "outputs": [
        {
          "name": "stdout",
          "output_type": "stream",
          "text": [
            "Model: \"sequential_10\"\n",
            "_________________________________________________________________\n",
            " Layer (type)                Output Shape              Param #   \n",
            "=================================================================\n",
            " embedding_10 (Embedding)    (None, None, 32)          6913600   \n",
            "                                                                 \n",
            " simple_rnn_7 (SimpleRNN)    (None, 32)                2080      \n",
            "                                                                 \n",
            " dense_15 (Dense)            (None, 128)               4224      \n",
            "                                                                 \n",
            " dense_16 (Dense)            (None, 64)                8256      \n",
            "                                                                 \n",
            " dense_17 (Dense)            (None, 5)                 325       \n",
            "                                                                 \n",
            "=================================================================\n",
            "Total params: 6928485 (26.43 MB)\n",
            "Trainable params: 6928485 (26.43 MB)\n",
            "Non-trainable params: 0 (0.00 Byte)\n",
            "_________________________________________________________________\n"
          ]
        }
      ],
      "source": [
        "input_dim = len(tokenizer.word_index) + 1  # Vocabulary size\n",
        "output_dim = 32   # Embedding dimension\n",
        "rnn_units = 32    # Number of RNN units\n",
        "\n",
        "model = build_rnn_model(input_dim, output_dim, input_length=None, rnn_units=rnn_units, network=SimpleRNN)\n"
      ]
    },
    {
      "cell_type": "code",
      "execution_count": null,
      "metadata": {
        "colab": {
          "base_uri": "https://localhost:8080/"
        },
        "id": "ZbTZZ7K_D31K",
        "outputId": "2a2d7e40-55ef-484e-9fb3-3820c53687e2"
      },
      "outputs": [
        {
          "name": "stdout",
          "output_type": "stream",
          "text": [
            "(118180, 40)\n",
            "(118180, 5)\n",
            "(14772, 40)\n",
            "(14772, 5)\n"
          ]
        }
      ],
      "source": [
        "print(train_seq_pad.shape)\n",
        "print(y_train_categorical.shape)\n",
        "\n",
        "print(val_seq_pad.shape)\n",
        "print(y_val_categorical.shape)\n"
      ]
    },
    {
      "cell_type": "code",
      "execution_count": null,
      "metadata": {
        "colab": {
          "base_uri": "https://localhost:8080/"
        },
        "id": "rbbh3ZW1-lKW",
        "outputId": "1bf7a66d-eb62-433f-a7a4-b4de91d64d19"
      },
      "outputs": [
        {
          "name": "stdout",
          "output_type": "stream",
          "text": [
            "Epoch 1/10\n",
            "924/924 [==============================] - 46s 47ms/step - loss: 1.4091 - accuracy: 0.4031 - f1_score: 0.1920 - categorical_crossentropy_loss: 1.4091 - val_loss: 1.3559 - val_accuracy: 0.4297 - val_f1_score: 0.2708 - val_categorical_crossentropy_loss: 1.3559\n",
            "Epoch 2/10\n",
            "924/924 [==============================] - 43s 47ms/step - loss: 1.3184 - accuracy: 0.4313 - f1_score: 0.2616 - categorical_crossentropy_loss: 1.3184 - val_loss: 1.2717 - val_accuracy: 0.4844 - val_f1_score: 0.3209 - val_categorical_crossentropy_loss: 1.2717\n",
            "Epoch 3/10\n",
            "924/924 [==============================] - 42s 46ms/step - loss: 1.2873 - accuracy: 0.4450 - f1_score: 0.2943 - categorical_crossentropy_loss: 1.2873 - val_loss: 1.2246 - val_accuracy: 0.5000 - val_f1_score: 0.3174 - val_categorical_crossentropy_loss: 1.2246\n",
            "Epoch 4/10\n",
            "924/924 [==============================] - 39s 42ms/step - loss: 1.2744 - accuracy: 0.4489 - f1_score: 0.3070 - categorical_crossentropy_loss: 1.2744 - val_loss: 1.2372 - val_accuracy: 0.4453 - val_f1_score: 0.2734 - val_categorical_crossentropy_loss: 1.2372\n",
            "Epoch 5/10\n",
            "924/924 [==============================] - 39s 42ms/step - loss: 1.2661 - accuracy: 0.4548 - f1_score: 0.3145 - categorical_crossentropy_loss: 1.2661 - val_loss: 1.2346 - val_accuracy: 0.4922 - val_f1_score: 0.3239 - val_categorical_crossentropy_loss: 1.2346\n",
            "Epoch 6/10\n",
            "924/924 [==============================] - 40s 43ms/step - loss: 1.2628 - accuracy: 0.4555 - f1_score: 0.3174 - categorical_crossentropy_loss: 1.2628 - val_loss: 1.2102 - val_accuracy: 0.4375 - val_f1_score: 0.2533 - val_categorical_crossentropy_loss: 1.2102\n",
            "Epoch 7/10\n",
            "924/924 [==============================] - 40s 43ms/step - loss: 1.2618 - accuracy: 0.4563 - f1_score: 0.3197 - categorical_crossentropy_loss: 1.2618 - val_loss: 1.2033 - val_accuracy: 0.5156 - val_f1_score: 0.3295 - val_categorical_crossentropy_loss: 1.2033\n",
            "Epoch 8/10\n",
            "924/924 [==============================] - 38s 41ms/step - loss: 1.2580 - accuracy: 0.4587 - f1_score: 0.3244 - categorical_crossentropy_loss: 1.2580 - val_loss: 1.1863 - val_accuracy: 0.5000 - val_f1_score: 0.3278 - val_categorical_crossentropy_loss: 1.1863\n",
            "Epoch 9/10\n",
            "924/924 [==============================] - 61s 66ms/step - loss: 1.2559 - accuracy: 0.4594 - f1_score: 0.3249 - categorical_crossentropy_loss: 1.2559 - val_loss: 1.2450 - val_accuracy: 0.5000 - val_f1_score: 0.3143 - val_categorical_crossentropy_loss: 1.2450\n",
            "Epoch 10/10\n",
            "924/924 [==============================] - 50s 54ms/step - loss: 1.2546 - accuracy: 0.4576 - f1_score: 0.3224 - categorical_crossentropy_loss: 1.2546 - val_loss: 1.2192 - val_accuracy: 0.4844 - val_f1_score: 0.3170 - val_categorical_crossentropy_loss: 1.2192\n"
          ]
        }
      ],
      "source": [
        "history = model.fit(train_seq_pad, y_train_categorical, epochs=10, batch_size=128, validation_data=(val_seq_pad, y_val_categorical), validation_steps=1)"
      ]
    },
    {
      "cell_type": "markdown",
      "metadata": {
        "id": "LKgSUxfZgVZ0"
      },
      "source": [
        "# Model Optimization :"
      ]
    },
    {
      "cell_type": "code",
      "execution_count": null,
      "metadata": {
        "colab": {
          "base_uri": "https://localhost:8080/"
        },
        "id": "psByCQ2PDXx3",
        "outputId": "012e808d-ca3d-4206-91f7-36b1873728e3"
      },
      "outputs": [
        {
          "name": "stderr",
          "output_type": "stream",
          "text": [
            "[I 2024-05-25 20:00:51,977] A new study created in memory with name: no-name-b2eb3875-e06c-4a8e-99ff-46479be9eba6\n"
          ]
        },
        {
          "name": "stdout",
          "output_type": "stream",
          "text": [
            "Epoch 1/10\n",
            "924/924 [==============================] - 13s 11ms/step - loss: 1.4548 - accuracy: 0.3901 - f1_score: 0.1182 - categorical_crossentropy_loss: 1.4548 - val_loss: 1.4166 - val_accuracy: 0.3828 - val_f1_score: 0.1107 - val_categorical_crossentropy_loss: 1.4166\n",
            "Epoch 2/10\n",
            "924/924 [==============================] - 9s 10ms/step - loss: 1.4540 - accuracy: 0.3902 - f1_score: 0.1123 - categorical_crossentropy_loss: 1.4540 - val_loss: 1.4160 - val_accuracy: 0.3828 - val_f1_score: 0.1107 - val_categorical_crossentropy_loss: 1.4160\n",
            "Epoch 3/10\n",
            "924/924 [==============================] - 9s 10ms/step - loss: 1.4534 - accuracy: 0.3902 - f1_score: 0.1123 - categorical_crossentropy_loss: 1.4534 - val_loss: 1.4121 - val_accuracy: 0.3828 - val_f1_score: 0.1107 - val_categorical_crossentropy_loss: 1.4121\n",
            "Epoch 4/10\n",
            "924/924 [==============================] - 9s 10ms/step - loss: 1.4534 - accuracy: 0.3902 - f1_score: 0.1123 - categorical_crossentropy_loss: 1.4534 - val_loss: 1.4194 - val_accuracy: 0.3828 - val_f1_score: 0.1107 - val_categorical_crossentropy_loss: 1.4194\n",
            "Epoch 5/10\n",
            "924/924 [==============================] - 9s 10ms/step - loss: 1.4283 - accuracy: 0.4016 - f1_score: 0.1928 - categorical_crossentropy_loss: 1.4283 - val_loss: 1.3778 - val_accuracy: 0.4375 - val_f1_score: 0.1991 - val_categorical_crossentropy_loss: 1.3778\n",
            "Epoch 6/10\n",
            "924/924 [==============================] - 9s 10ms/step - loss: 1.4270 - accuracy: 0.3959 - f1_score: 0.1932 - categorical_crossentropy_loss: 1.4270 - val_loss: 1.3791 - val_accuracy: 0.4375 - val_f1_score: 0.1994 - val_categorical_crossentropy_loss: 1.3791\n",
            "Epoch 7/10\n",
            "924/924 [==============================] - 10s 10ms/step - loss: 1.4279 - accuracy: 0.3915 - f1_score: 0.1738 - categorical_crossentropy_loss: 1.4279 - val_loss: 1.3897 - val_accuracy: 0.4219 - val_f1_score: 0.1932 - val_categorical_crossentropy_loss: 1.3897\n",
            "Epoch 8/10\n",
            "924/924 [==============================] - 9s 9ms/step - loss: 1.4237 - accuracy: 0.3913 - f1_score: 0.1610 - categorical_crossentropy_loss: 1.4237 - val_loss: 1.3657 - val_accuracy: 0.3828 - val_f1_score: 0.1107 - val_categorical_crossentropy_loss: 1.3657\n",
            "Epoch 9/10\n",
            "924/924 [==============================] - 9s 10ms/step - loss: 1.4120 - accuracy: 0.3902 - f1_score: 0.1123 - categorical_crossentropy_loss: 1.4120 - val_loss: 1.3640 - val_accuracy: 0.3828 - val_f1_score: 0.1107 - val_categorical_crossentropy_loss: 1.3640\n",
            "Epoch 10/10\n",
            "924/924 [==============================] - 10s 11ms/step - loss: 1.4153 - accuracy: 0.3902 - f1_score: 0.1148 - categorical_crossentropy_loss: 1.4153 - val_loss: 1.3926 - val_accuracy: 0.3828 - val_f1_score: 0.1107 - val_categorical_crossentropy_loss: 1.3926\n",
            "462/462 [==============================] - 1s 2ms/step\n"
          ]
        },
        {
          "name": "stderr",
          "output_type": "stream",
          "text": [
            "[I 2024-05-25 20:03:19,013] Trial 0 finished with value: 0.11225712198685171 and parameters: {'output_dim': 64, 'Network': 'LSTM', 'batch_size': 128}. Best is trial 0 with value: 0.11225712198685171.\n"
          ]
        },
        {
          "name": "stdout",
          "output_type": "stream",
          "text": [
            "Epoch 1/10\n",
            "462/462 [==============================] - 26s 51ms/step - loss: 1.4198 - accuracy: 0.3964 - f1_score: 0.1745 - categorical_crossentropy_loss: 1.4198 - val_loss: 1.3561 - val_accuracy: 0.4492 - val_f1_score: 0.2326 - val_categorical_crossentropy_loss: 1.3561\n",
            "Epoch 2/10\n",
            "462/462 [==============================] - 21s 46ms/step - loss: 1.3549 - accuracy: 0.4112 - f1_score: 0.2237 - categorical_crossentropy_loss: 1.3549 - val_loss: 1.5187 - val_accuracy: 0.3828 - val_f1_score: 0.1107 - val_categorical_crossentropy_loss: 1.5187\n",
            "Epoch 3/10\n",
            "462/462 [==============================] - 23s 50ms/step - loss: 1.3489 - accuracy: 0.4121 - f1_score: 0.2365 - categorical_crossentropy_loss: 1.3489 - val_loss: 1.3042 - val_accuracy: 0.4805 - val_f1_score: 0.3121 - val_categorical_crossentropy_loss: 1.3042\n",
            "Epoch 4/10\n",
            "462/462 [==============================] - 20s 44ms/step - loss: 1.3043 - accuracy: 0.4356 - f1_score: 0.2741 - categorical_crossentropy_loss: 1.3043 - val_loss: 1.2842 - val_accuracy: 0.4570 - val_f1_score: 0.2544 - val_categorical_crossentropy_loss: 1.2842\n",
            "Epoch 5/10\n",
            "462/462 [==============================] - 23s 49ms/step - loss: 1.2879 - accuracy: 0.4422 - f1_score: 0.2854 - categorical_crossentropy_loss: 1.2879 - val_loss: 1.2845 - val_accuracy: 0.4453 - val_f1_score: 0.2495 - val_categorical_crossentropy_loss: 1.2845\n",
            "Epoch 6/10\n",
            "462/462 [==============================] - 21s 45ms/step - loss: 1.2823 - accuracy: 0.4448 - f1_score: 0.2851 - categorical_crossentropy_loss: 1.2823 - val_loss: 1.2694 - val_accuracy: 0.4727 - val_f1_score: 0.3030 - val_categorical_crossentropy_loss: 1.2694\n",
            "Epoch 7/10\n",
            "462/462 [==============================] - 23s 50ms/step - loss: 1.2738 - accuracy: 0.4475 - f1_score: 0.2901 - categorical_crossentropy_loss: 1.2738 - val_loss: 1.2515 - val_accuracy: 0.4453 - val_f1_score: 0.2713 - val_categorical_crossentropy_loss: 1.2515\n",
            "Epoch 8/10\n",
            "462/462 [==============================] - 21s 45ms/step - loss: 1.2687 - accuracy: 0.4500 - f1_score: 0.2944 - categorical_crossentropy_loss: 1.2687 - val_loss: 1.2477 - val_accuracy: 0.4688 - val_f1_score: 0.2997 - val_categorical_crossentropy_loss: 1.2477\n",
            "Epoch 9/10\n",
            "462/462 [==============================] - 23s 51ms/step - loss: 1.2659 - accuracy: 0.4510 - f1_score: 0.3015 - categorical_crossentropy_loss: 1.2659 - val_loss: 1.2682 - val_accuracy: 0.4336 - val_f1_score: 0.2634 - val_categorical_crossentropy_loss: 1.2682\n",
            "Epoch 10/10\n",
            "462/462 [==============================] - 22s 48ms/step - loss: 1.2631 - accuracy: 0.4508 - f1_score: 0.3004 - categorical_crossentropy_loss: 1.2631 - val_loss: 1.2486 - val_accuracy: 0.4609 - val_f1_score: 0.3302 - val_categorical_crossentropy_loss: 1.2486\n",
            "462/462 [==============================] - 2s 5ms/step\n"
          ]
        },
        {
          "name": "stderr",
          "output_type": "stream",
          "text": [
            "[I 2024-05-25 20:07:46,118] Trial 1 finished with value: 0.32141745432549984 and parameters: {'output_dim': 64, 'Network': 'SimpleRNN', 'batch_size': 256}. Best is trial 1 with value: 0.32141745432549984.\n"
          ]
        },
        {
          "name": "stdout",
          "output_type": "stream",
          "text": [
            "Epoch 1/10\n",
            "462/462 [==============================] - 27s 53ms/step - loss: 1.3740 - accuracy: 0.4146 - f1_score: 0.2263 - categorical_crossentropy_loss: 1.3740 - val_loss: 1.3030 - val_accuracy: 0.4492 - val_f1_score: 0.2815 - val_categorical_crossentropy_loss: 1.3030\n",
            "Epoch 2/10\n",
            "462/462 [==============================] - 23s 50ms/step - loss: 1.2914 - accuracy: 0.4419 - f1_score: 0.2856 - categorical_crossentropy_loss: 1.2914 - val_loss: 1.3059 - val_accuracy: 0.4414 - val_f1_score: 0.2976 - val_categorical_crossentropy_loss: 1.3059\n",
            "Epoch 3/10\n",
            "462/462 [==============================] - 23s 50ms/step - loss: 1.2740 - accuracy: 0.4494 - f1_score: 0.3156 - categorical_crossentropy_loss: 1.2740 - val_loss: 1.2441 - val_accuracy: 0.5000 - val_f1_score: 0.3390 - val_categorical_crossentropy_loss: 1.2441\n",
            "Epoch 4/10\n",
            "462/462 [==============================] - 24s 52ms/step - loss: 1.2650 - accuracy: 0.4542 - f1_score: 0.3254 - categorical_crossentropy_loss: 1.2650 - val_loss: 1.2658 - val_accuracy: 0.4883 - val_f1_score: 0.3281 - val_categorical_crossentropy_loss: 1.2658\n",
            "Epoch 5/10\n",
            "462/462 [==============================] - 22s 47ms/step - loss: 1.2612 - accuracy: 0.4536 - f1_score: 0.3242 - categorical_crossentropy_loss: 1.2612 - val_loss: 1.2300 - val_accuracy: 0.4766 - val_f1_score: 0.3027 - val_categorical_crossentropy_loss: 1.2300\n",
            "Epoch 6/10\n",
            "462/462 [==============================] - 24s 52ms/step - loss: 1.2554 - accuracy: 0.4574 - f1_score: 0.3281 - categorical_crossentropy_loss: 1.2554 - val_loss: 1.2651 - val_accuracy: 0.4688 - val_f1_score: 0.3086 - val_categorical_crossentropy_loss: 1.2651\n",
            "Epoch 7/10\n",
            "462/462 [==============================] - 23s 50ms/step - loss: 1.2567 - accuracy: 0.4559 - f1_score: 0.3259 - categorical_crossentropy_loss: 1.2567 - val_loss: 1.2756 - val_accuracy: 0.4648 - val_f1_score: 0.2896 - val_categorical_crossentropy_loss: 1.2756\n",
            "Epoch 8/10\n",
            "462/462 [==============================] - 22s 47ms/step - loss: 1.2499 - accuracy: 0.4596 - f1_score: 0.3303 - categorical_crossentropy_loss: 1.2499 - val_loss: 1.2731 - val_accuracy: 0.4648 - val_f1_score: 0.3150 - val_categorical_crossentropy_loss: 1.2731\n",
            "Epoch 9/10\n",
            "462/462 [==============================] - 23s 50ms/step - loss: 1.2496 - accuracy: 0.4580 - f1_score: 0.3328 - categorical_crossentropy_loss: 1.2496 - val_loss: 1.2720 - val_accuracy: 0.4609 - val_f1_score: 0.3017 - val_categorical_crossentropy_loss: 1.2720\n",
            "Epoch 10/10\n",
            "462/462 [==============================] - 21s 46ms/step - loss: 1.2464 - accuracy: 0.4607 - f1_score: 0.3324 - categorical_crossentropy_loss: 1.2464 - val_loss: 1.2713 - val_accuracy: 0.4688 - val_f1_score: 0.3444 - val_categorical_crossentropy_loss: 1.2713\n",
            "462/462 [==============================] - 2s 5ms/step\n"
          ]
        },
        {
          "name": "stderr",
          "output_type": "stream",
          "text": [
            "[I 2024-05-25 20:12:12,464] Trial 2 finished with value: 0.33990494030009544 and parameters: {'output_dim': 128, 'Network': 'SimpleRNN', 'batch_size': 256}. Best is trial 2 with value: 0.33990494030009544.\n"
          ]
        },
        {
          "name": "stdout",
          "output_type": "stream",
          "text": [
            "Epoch 1/10\n",
            "462/462 [==============================] - 24s 48ms/step - loss: 1.3285 - accuracy: 0.4262 - f1_score: 0.2570 - categorical_crossentropy_loss: 1.3285 - val_loss: 1.2968 - val_accuracy: 0.4648 - val_f1_score: 0.2762 - val_categorical_crossentropy_loss: 1.2968\n",
            "Epoch 2/10\n",
            "462/462 [==============================] - 20s 43ms/step - loss: 1.2847 - accuracy: 0.4479 - f1_score: 0.2906 - categorical_crossentropy_loss: 1.2847 - val_loss: 1.2865 - val_accuracy: 0.4688 - val_f1_score: 0.2944 - val_categorical_crossentropy_loss: 1.2865\n",
            "Epoch 3/10\n",
            "462/462 [==============================] - 22s 47ms/step - loss: 1.2596 - accuracy: 0.4554 - f1_score: 0.3225 - categorical_crossentropy_loss: 1.2596 - val_loss: 1.2534 - val_accuracy: 0.4531 - val_f1_score: 0.3217 - val_categorical_crossentropy_loss: 1.2534\n",
            "Epoch 4/10\n",
            "462/462 [==============================] - 20s 42ms/step - loss: 1.2497 - accuracy: 0.4574 - f1_score: 0.3331 - categorical_crossentropy_loss: 1.2497 - val_loss: 1.2917 - val_accuracy: 0.4453 - val_f1_score: 0.2783 - val_categorical_crossentropy_loss: 1.2917\n",
            "Epoch 5/10\n",
            "462/462 [==============================] - 23s 49ms/step - loss: 1.2444 - accuracy: 0.4609 - f1_score: 0.3370 - categorical_crossentropy_loss: 1.2444 - val_loss: 1.2580 - val_accuracy: 0.4688 - val_f1_score: 0.3221 - val_categorical_crossentropy_loss: 1.2580\n",
            "Epoch 6/10\n",
            "462/462 [==============================] - 20s 44ms/step - loss: 1.2421 - accuracy: 0.4610 - f1_score: 0.3376 - categorical_crossentropy_loss: 1.2421 - val_loss: 1.2629 - val_accuracy: 0.4609 - val_f1_score: 0.3298 - val_categorical_crossentropy_loss: 1.2629\n",
            "Epoch 7/10\n",
            "462/462 [==============================] - 22s 48ms/step - loss: 1.2397 - accuracy: 0.4625 - f1_score: 0.3410 - categorical_crossentropy_loss: 1.2397 - val_loss: 1.2635 - val_accuracy: 0.4609 - val_f1_score: 0.3062 - val_categorical_crossentropy_loss: 1.2635\n",
            "Epoch 8/10\n",
            "462/462 [==============================] - 20s 43ms/step - loss: 1.2378 - accuracy: 0.4634 - f1_score: 0.3415 - categorical_crossentropy_loss: 1.2378 - val_loss: 1.2684 - val_accuracy: 0.4492 - val_f1_score: 0.3073 - val_categorical_crossentropy_loss: 1.2684\n",
            "Epoch 9/10\n",
            "462/462 [==============================] - 21s 47ms/step - loss: 1.2379 - accuracy: 0.4643 - f1_score: 0.3421 - categorical_crossentropy_loss: 1.2379 - val_loss: 1.2539 - val_accuracy: 0.4688 - val_f1_score: 0.3206 - val_categorical_crossentropy_loss: 1.2539\n",
            "Epoch 10/10\n",
            "462/462 [==============================] - 20s 44ms/step - loss: 1.2354 - accuracy: 0.4655 - f1_score: 0.3451 - categorical_crossentropy_loss: 1.2354 - val_loss: 1.2607 - val_accuracy: 0.4883 - val_f1_score: 0.3579 - val_categorical_crossentropy_loss: 1.2607\n",
            "462/462 [==============================] - 2s 5ms/step\n"
          ]
        },
        {
          "name": "stderr",
          "output_type": "stream",
          "text": [
            "[I 2024-05-25 20:15:47,439] Trial 3 finished with value: 0.3649064441910108 and parameters: {'output_dim': 64, 'Network': 'SimpleRNN', 'batch_size': 256}. Best is trial 3 with value: 0.3649064441910108.\n"
          ]
        },
        {
          "name": "stdout",
          "output_type": "stream",
          "text": [
            "Epoch 1/10\n",
            "231/231 [==============================] - 7s 16ms/step - loss: 1.4418 - accuracy: 0.3954 - f1_score: 0.1417 - categorical_crossentropy_loss: 1.4418 - val_loss: 1.3440 - val_accuracy: 0.3965 - val_f1_score: 0.2277 - val_categorical_crossentropy_loss: 1.3440\n",
            "Epoch 2/10\n",
            "231/231 [==============================] - 2s 10ms/step - loss: 1.3239 - accuracy: 0.4338 - f1_score: 0.2472 - categorical_crossentropy_loss: 1.3239 - val_loss: 1.2962 - val_accuracy: 0.4414 - val_f1_score: 0.2141 - val_categorical_crossentropy_loss: 1.2962\n",
            "Epoch 3/10\n",
            "231/231 [==============================] - 2s 10ms/step - loss: 1.3019 - accuracy: 0.4354 - f1_score: 0.2283 - categorical_crossentropy_loss: 1.3019 - val_loss: 1.2674 - val_accuracy: 0.4238 - val_f1_score: 0.2842 - val_categorical_crossentropy_loss: 1.2674\n",
            "Epoch 4/10\n",
            "231/231 [==============================] - 2s 10ms/step - loss: 1.2656 - accuracy: 0.4500 - f1_score: 0.3030 - categorical_crossentropy_loss: 1.2656 - val_loss: 1.2452 - val_accuracy: 0.4395 - val_f1_score: 0.2928 - val_categorical_crossentropy_loss: 1.2452\n",
            "Epoch 5/10\n",
            "231/231 [==============================] - 3s 11ms/step - loss: 1.2476 - accuracy: 0.4610 - f1_score: 0.3154 - categorical_crossentropy_loss: 1.2476 - val_loss: 1.2187 - val_accuracy: 0.4453 - val_f1_score: 0.2941 - val_categorical_crossentropy_loss: 1.2187\n",
            "Epoch 6/10\n",
            "231/231 [==============================] - 3s 13ms/step - loss: 1.2380 - accuracy: 0.4638 - f1_score: 0.3217 - categorical_crossentropy_loss: 1.2380 - val_loss: 1.2211 - val_accuracy: 0.4551 - val_f1_score: 0.3013 - val_categorical_crossentropy_loss: 1.2211\n",
            "Epoch 7/10\n",
            "231/231 [==============================] - 3s 11ms/step - loss: 1.2357 - accuracy: 0.4638 - f1_score: 0.3225 - categorical_crossentropy_loss: 1.2357 - val_loss: 1.2262 - val_accuracy: 0.4453 - val_f1_score: 0.2876 - val_categorical_crossentropy_loss: 1.2262\n",
            "Epoch 8/10\n",
            "231/231 [==============================] - 2s 10ms/step - loss: 1.2324 - accuracy: 0.4653 - f1_score: 0.3335 - categorical_crossentropy_loss: 1.2324 - val_loss: 1.2206 - val_accuracy: 0.4766 - val_f1_score: 0.3210 - val_categorical_crossentropy_loss: 1.2206\n",
            "Epoch 9/10\n",
            "231/231 [==============================] - 2s 10ms/step - loss: 1.2297 - accuracy: 0.4641 - f1_score: 0.3372 - categorical_crossentropy_loss: 1.2297 - val_loss: 1.2183 - val_accuracy: 0.4727 - val_f1_score: 0.3149 - val_categorical_crossentropy_loss: 1.2183\n",
            "Epoch 10/10\n",
            "231/231 [==============================] - 2s 10ms/step - loss: 1.2296 - accuracy: 0.4656 - f1_score: 0.3413 - categorical_crossentropy_loss: 1.2296 - val_loss: 1.2219 - val_accuracy: 0.4434 - val_f1_score: 0.2814 - val_categorical_crossentropy_loss: 1.2219\n",
            "462/462 [==============================] - 2s 4ms/step\n"
          ]
        },
        {
          "name": "stderr",
          "output_type": "stream",
          "text": [
            "[I 2024-05-25 20:16:33,256] Trial 4 finished with value: 0.34002021504380453 and parameters: {'output_dim': 32, 'Network': 'LSTM', 'batch_size': 512}. Best is trial 3 with value: 0.3649064441910108.\n"
          ]
        },
        {
          "name": "stdout",
          "output_type": "stream",
          "text": [
            "Epoch 1/10\n",
            "924/924 [==============================] - 11s 9ms/step - loss: 1.4558 - accuracy: 0.3898 - f1_score: 0.1136 - categorical_crossentropy_loss: 1.4558 - val_loss: 1.4146 - val_accuracy: 0.3828 - val_f1_score: 0.1107 - val_categorical_crossentropy_loss: 1.4146\n",
            "Epoch 2/10\n",
            "924/924 [==============================] - 8s 8ms/step - loss: 1.4537 - accuracy: 0.3902 - f1_score: 0.1123 - categorical_crossentropy_loss: 1.4537 - val_loss: 1.4186 - val_accuracy: 0.3828 - val_f1_score: 0.1107 - val_categorical_crossentropy_loss: 1.4186\n",
            "Epoch 3/10\n",
            "924/924 [==============================] - 8s 8ms/step - loss: 1.4534 - accuracy: 0.3902 - f1_score: 0.1123 - categorical_crossentropy_loss: 1.4534 - val_loss: 1.4139 - val_accuracy: 0.3828 - val_f1_score: 0.1107 - val_categorical_crossentropy_loss: 1.4139\n",
            "Epoch 4/10\n",
            "924/924 [==============================] - 7s 8ms/step - loss: 1.4531 - accuracy: 0.3902 - f1_score: 0.1123 - categorical_crossentropy_loss: 1.4531 - val_loss: 1.4193 - val_accuracy: 0.3828 - val_f1_score: 0.1107 - val_categorical_crossentropy_loss: 1.4193\n",
            "Epoch 5/10\n",
            "924/924 [==============================] - 8s 9ms/step - loss: 1.4532 - accuracy: 0.3902 - f1_score: 0.1123 - categorical_crossentropy_loss: 1.4532 - val_loss: 1.4150 - val_accuracy: 0.3828 - val_f1_score: 0.1107 - val_categorical_crossentropy_loss: 1.4150\n",
            "Epoch 6/10\n",
            "924/924 [==============================] - 7s 8ms/step - loss: 1.4530 - accuracy: 0.3902 - f1_score: 0.1123 - categorical_crossentropy_loss: 1.4530 - val_loss: 1.4195 - val_accuracy: 0.3828 - val_f1_score: 0.1107 - val_categorical_crossentropy_loss: 1.4195\n",
            "Epoch 7/10\n",
            "924/924 [==============================] - 8s 9ms/step - loss: 1.4530 - accuracy: 0.3902 - f1_score: 0.1123 - categorical_crossentropy_loss: 1.4530 - val_loss: 1.4168 - val_accuracy: 0.3828 - val_f1_score: 0.1107 - val_categorical_crossentropy_loss: 1.4168\n",
            "Epoch 8/10\n",
            "924/924 [==============================] - 7s 7ms/step - loss: 1.4530 - accuracy: 0.3902 - f1_score: 0.1123 - categorical_crossentropy_loss: 1.4530 - val_loss: 1.4191 - val_accuracy: 0.3828 - val_f1_score: 0.1107 - val_categorical_crossentropy_loss: 1.4191\n",
            "Epoch 9/10\n",
            "924/924 [==============================] - 8s 9ms/step - loss: 1.4530 - accuracy: 0.3902 - f1_score: 0.1123 - categorical_crossentropy_loss: 1.4530 - val_loss: 1.4161 - val_accuracy: 0.3828 - val_f1_score: 0.1107 - val_categorical_crossentropy_loss: 1.4161\n",
            "Epoch 10/10\n",
            "924/924 [==============================] - 7s 7ms/step - loss: 1.4530 - accuracy: 0.3902 - f1_score: 0.1123 - categorical_crossentropy_loss: 1.4530 - val_loss: 1.4163 - val_accuracy: 0.3828 - val_f1_score: 0.1107 - val_categorical_crossentropy_loss: 1.4163\n",
            "462/462 [==============================] - 1s 2ms/step\n"
          ]
        },
        {
          "name": "stderr",
          "output_type": "stream",
          "text": [
            "[I 2024-05-25 20:17:58,902] Trial 5 finished with value: 0.11225712198685171 and parameters: {'output_dim': 32, 'Network': 'GRU', 'batch_size': 128}. Best is trial 3 with value: 0.3649064441910108.\n"
          ]
        },
        {
          "name": "stdout",
          "output_type": "stream",
          "text": [
            "Epoch 1/10\n",
            "924/924 [==============================] - 45s 46ms/step - loss: 1.3551 - accuracy: 0.4130 - f1_score: 0.2294 - categorical_crossentropy_loss: 1.3551 - val_loss: 1.2857 - val_accuracy: 0.4375 - val_f1_score: 0.1972 - val_categorical_crossentropy_loss: 1.2857\n",
            "Epoch 2/10\n",
            "924/924 [==============================] - 41s 45ms/step - loss: 1.3287 - accuracy: 0.4207 - f1_score: 0.2373 - categorical_crossentropy_loss: 1.3287 - val_loss: 1.4569 - val_accuracy: 0.3750 - val_f1_score: 0.2269 - val_categorical_crossentropy_loss: 1.4569\n",
            "Epoch 3/10\n",
            "924/924 [==============================] - 42s 46ms/step - loss: 1.3797 - accuracy: 0.4025 - f1_score: 0.1720 - categorical_crossentropy_loss: 1.3797 - val_loss: 1.3503 - val_accuracy: 0.3828 - val_f1_score: 0.2050 - val_categorical_crossentropy_loss: 1.3503\n",
            "Epoch 4/10\n",
            "924/924 [==============================] - 43s 46ms/step - loss: 1.3993 - accuracy: 0.3958 - f1_score: 0.1539 - categorical_crossentropy_loss: 1.3993 - val_loss: 1.3785 - val_accuracy: 0.3906 - val_f1_score: 0.1232 - val_categorical_crossentropy_loss: 1.3785\n",
            "Epoch 5/10\n",
            "924/924 [==============================] - 42s 46ms/step - loss: 1.4011 - accuracy: 0.3893 - f1_score: 0.1183 - categorical_crossentropy_loss: 1.4011 - val_loss: 1.4035 - val_accuracy: 0.3828 - val_f1_score: 0.1107 - val_categorical_crossentropy_loss: 1.4035\n",
            "Epoch 6/10\n",
            "924/924 [==============================] - 42s 45ms/step - loss: 1.3716 - accuracy: 0.3875 - f1_score: 0.1786 - categorical_crossentropy_loss: 1.3716 - val_loss: 1.3341 - val_accuracy: 0.3984 - val_f1_score: 0.1779 - val_categorical_crossentropy_loss: 1.3341\n",
            "Epoch 7/10\n",
            "924/924 [==============================] - 41s 44ms/step - loss: 1.3516 - accuracy: 0.4117 - f1_score: 0.2170 - categorical_crossentropy_loss: 1.3516 - val_loss: 1.2959 - val_accuracy: 0.4219 - val_f1_score: 0.2033 - val_categorical_crossentropy_loss: 1.2959\n",
            "Epoch 8/10\n",
            "924/924 [==============================] - 41s 44ms/step - loss: 1.3550 - accuracy: 0.4101 - f1_score: 0.1872 - categorical_crossentropy_loss: 1.3550 - val_loss: 1.3471 - val_accuracy: 0.4062 - val_f1_score: 0.1891 - val_categorical_crossentropy_loss: 1.3471\n",
            "Epoch 9/10\n",
            "924/924 [==============================] - 39s 42ms/step - loss: 1.4017 - accuracy: 0.3948 - f1_score: 0.1634 - categorical_crossentropy_loss: 1.4017 - val_loss: 1.4168 - val_accuracy: 0.3828 - val_f1_score: 0.1107 - val_categorical_crossentropy_loss: 1.4168\n",
            "Epoch 10/10\n",
            "924/924 [==============================] - 41s 44ms/step - loss: 1.3670 - accuracy: 0.3984 - f1_score: 0.1434 - categorical_crossentropy_loss: 1.3670 - val_loss: 1.3153 - val_accuracy: 0.4141 - val_f1_score: 0.1786 - val_categorical_crossentropy_loss: 1.3153\n",
            "462/462 [==============================] - 3s 6ms/step\n"
          ]
        },
        {
          "name": "stderr",
          "output_type": "stream",
          "text": [
            "[I 2024-05-25 20:25:28,511] Trial 6 finished with value: 0.17817246603618045 and parameters: {'output_dim': 64, 'Network': 'SimpleRNN', 'batch_size': 128}. Best is trial 3 with value: 0.3649064441910108.\n"
          ]
        },
        {
          "name": "stdout",
          "output_type": "stream",
          "text": [
            "Epoch 1/10\n",
            "231/231 [==============================] - 14s 53ms/step - loss: 1.4020 - accuracy: 0.3976 - f1_score: 0.1917 - categorical_crossentropy_loss: 1.4020 - val_loss: 1.3209 - val_accuracy: 0.4336 - val_f1_score: 0.2684 - val_categorical_crossentropy_loss: 1.3209\n",
            "Epoch 2/10\n",
            "231/231 [==============================] - 12s 52ms/step - loss: 1.3189 - accuracy: 0.4262 - f1_score: 0.2236 - categorical_crossentropy_loss: 1.3189 - val_loss: 1.3226 - val_accuracy: 0.4062 - val_f1_score: 0.1914 - val_categorical_crossentropy_loss: 1.3226\n",
            "Epoch 3/10\n",
            "231/231 [==============================] - 10s 45ms/step - loss: 1.3118 - accuracy: 0.4277 - f1_score: 0.2296 - categorical_crossentropy_loss: 1.3118 - val_loss: 1.3208 - val_accuracy: 0.4219 - val_f1_score: 0.1999 - val_categorical_crossentropy_loss: 1.3208\n",
            "Epoch 4/10\n",
            "231/231 [==============================] - 11s 48ms/step - loss: 1.3096 - accuracy: 0.4272 - f1_score: 0.2290 - categorical_crossentropy_loss: 1.3096 - val_loss: 1.3156 - val_accuracy: 0.4395 - val_f1_score: 0.2412 - val_categorical_crossentropy_loss: 1.3156\n",
            "Epoch 5/10\n",
            "231/231 [==============================] - 12s 51ms/step - loss: 1.3070 - accuracy: 0.4279 - f1_score: 0.2284 - categorical_crossentropy_loss: 1.3070 - val_loss: 1.3089 - val_accuracy: 0.4258 - val_f1_score: 0.2203 - val_categorical_crossentropy_loss: 1.3089\n",
            "Epoch 6/10\n",
            "231/231 [==============================] - 12s 51ms/step - loss: 1.3058 - accuracy: 0.4295 - f1_score: 0.2234 - categorical_crossentropy_loss: 1.3058 - val_loss: 1.3009 - val_accuracy: 0.4219 - val_f1_score: 0.1892 - val_categorical_crossentropy_loss: 1.3009\n",
            "Epoch 7/10\n",
            "231/231 [==============================] - 12s 52ms/step - loss: 1.3035 - accuracy: 0.4290 - f1_score: 0.2238 - categorical_crossentropy_loss: 1.3035 - val_loss: 1.2888 - val_accuracy: 0.4434 - val_f1_score: 0.2613 - val_categorical_crossentropy_loss: 1.2888\n",
            "Epoch 8/10\n",
            "231/231 [==============================] - 11s 48ms/step - loss: 1.2968 - accuracy: 0.4304 - f1_score: 0.2337 - categorical_crossentropy_loss: 1.2968 - val_loss: 1.2974 - val_accuracy: 0.4395 - val_f1_score: 0.2660 - val_categorical_crossentropy_loss: 1.2974\n",
            "Epoch 9/10\n",
            "231/231 [==============================] - 10s 45ms/step - loss: 1.3009 - accuracy: 0.4298 - f1_score: 0.2401 - categorical_crossentropy_loss: 1.3009 - val_loss: 1.3107 - val_accuracy: 0.4316 - val_f1_score: 0.1998 - val_categorical_crossentropy_loss: 1.3107\n",
            "Epoch 10/10\n",
            "231/231 [==============================] - 12s 51ms/step - loss: 1.2981 - accuracy: 0.4313 - f1_score: 0.2472 - categorical_crossentropy_loss: 1.2981 - val_loss: 1.3021 - val_accuracy: 0.4258 - val_f1_score: 0.2653 - val_categorical_crossentropy_loss: 1.3021\n",
            "462/462 [==============================] - 2s 5ms/step\n"
          ]
        },
        {
          "name": "stderr",
          "output_type": "stream",
          "text": [
            "[I 2024-05-25 20:27:28,162] Trial 7 finished with value: 0.2897431817302328 and parameters: {'output_dim': 128, 'Network': 'SimpleRNN', 'batch_size': 512}. Best is trial 3 with value: 0.3649064441910108.\n"
          ]
        },
        {
          "name": "stdout",
          "output_type": "stream",
          "text": [
            "Epoch 1/10\n",
            "462/462 [==============================] - 8s 9ms/step - loss: 1.4576 - accuracy: 0.3895 - f1_score: 0.1139 - categorical_crossentropy_loss: 1.4576 - val_loss: 1.4636 - val_accuracy: 0.3828 - val_f1_score: 0.1107 - val_categorical_crossentropy_loss: 1.4636\n",
            "Epoch 2/10\n",
            "462/462 [==============================] - 3s 7ms/step - loss: 1.4534 - accuracy: 0.3902 - f1_score: 0.1123 - categorical_crossentropy_loss: 1.4534 - val_loss: 1.4557 - val_accuracy: 0.3828 - val_f1_score: 0.1107 - val_categorical_crossentropy_loss: 1.4557\n",
            "Epoch 3/10\n",
            "462/462 [==============================] - 4s 8ms/step - loss: 1.4534 - accuracy: 0.3902 - f1_score: 0.1123 - categorical_crossentropy_loss: 1.4534 - val_loss: 1.4594 - val_accuracy: 0.3828 - val_f1_score: 0.1107 - val_categorical_crossentropy_loss: 1.4594\n",
            "Epoch 4/10\n",
            "462/462 [==============================] - 4s 9ms/step - loss: 1.4532 - accuracy: 0.3902 - f1_score: 0.1123 - categorical_crossentropy_loss: 1.4532 - val_loss: 1.4572 - val_accuracy: 0.3828 - val_f1_score: 0.1107 - val_categorical_crossentropy_loss: 1.4572\n",
            "Epoch 5/10\n",
            "462/462 [==============================] - 3s 7ms/step - loss: 1.4533 - accuracy: 0.3902 - f1_score: 0.1123 - categorical_crossentropy_loss: 1.4533 - val_loss: 1.4569 - val_accuracy: 0.3828 - val_f1_score: 0.1107 - val_categorical_crossentropy_loss: 1.4569\n",
            "Epoch 6/10\n",
            "462/462 [==============================] - 3s 7ms/step - loss: 1.4531 - accuracy: 0.3902 - f1_score: 0.1123 - categorical_crossentropy_loss: 1.4531 - val_loss: 1.4577 - val_accuracy: 0.3828 - val_f1_score: 0.1107 - val_categorical_crossentropy_loss: 1.4577\n",
            "Epoch 7/10\n",
            "462/462 [==============================] - 4s 9ms/step - loss: 1.4530 - accuracy: 0.3902 - f1_score: 0.1123 - categorical_crossentropy_loss: 1.4530 - val_loss: 1.4597 - val_accuracy: 0.3828 - val_f1_score: 0.1107 - val_categorical_crossentropy_loss: 1.4597\n",
            "Epoch 8/10\n",
            "462/462 [==============================] - 4s 9ms/step - loss: 1.4530 - accuracy: 0.3902 - f1_score: 0.1123 - categorical_crossentropy_loss: 1.4530 - val_loss: 1.4572 - val_accuracy: 0.3828 - val_f1_score: 0.1107 - val_categorical_crossentropy_loss: 1.4572\n",
            "Epoch 9/10\n",
            "462/462 [==============================] - 3s 7ms/step - loss: 1.4529 - accuracy: 0.3902 - f1_score: 0.1123 - categorical_crossentropy_loss: 1.4529 - val_loss: 1.4577 - val_accuracy: 0.3828 - val_f1_score: 0.1107 - val_categorical_crossentropy_loss: 1.4577\n",
            "Epoch 10/10\n",
            "462/462 [==============================] - 3s 7ms/step - loss: 1.4530 - accuracy: 0.3902 - f1_score: 0.1123 - categorical_crossentropy_loss: 1.4530 - val_loss: 1.4568 - val_accuracy: 0.3828 - val_f1_score: 0.1107 - val_categorical_crossentropy_loss: 1.4568\n",
            "462/462 [==============================] - 2s 3ms/step\n"
          ]
        },
        {
          "name": "stderr",
          "output_type": "stream",
          "text": [
            "[I 2024-05-25 20:28:14,428] Trial 8 finished with value: 0.11225712198685171 and parameters: {'output_dim': 16, 'Network': 'GRU', 'batch_size': 256}. Best is trial 3 with value: 0.3649064441910108.\n"
          ]
        },
        {
          "name": "stdout",
          "output_type": "stream",
          "text": [
            "Epoch 1/10\n",
            "231/231 [==============================] - 5s 12ms/step - loss: 1.4520 - accuracy: 0.3895 - f1_score: 0.1263 - categorical_crossentropy_loss: 1.4520 - val_loss: 1.3454 - val_accuracy: 0.4199 - val_f1_score: 0.1915 - val_categorical_crossentropy_loss: 1.3454\n",
            "Epoch 2/10\n",
            "231/231 [==============================] - 2s 10ms/step - loss: 1.3260 - accuracy: 0.4330 - f1_score: 0.2489 - categorical_crossentropy_loss: 1.3260 - val_loss: 1.2940 - val_accuracy: 0.4512 - val_f1_score: 0.2801 - val_categorical_crossentropy_loss: 1.2940\n",
            "Epoch 3/10\n",
            "231/231 [==============================] - 2s 10ms/step - loss: 1.3106 - accuracy: 0.4348 - f1_score: 0.2223 - categorical_crossentropy_loss: 1.3106 - val_loss: 1.2979 - val_accuracy: 0.4414 - val_f1_score: 0.2104 - val_categorical_crossentropy_loss: 1.2979\n",
            "Epoch 4/10\n",
            "231/231 [==============================] - 3s 13ms/step - loss: 1.3079 - accuracy: 0.4343 - f1_score: 0.2053 - categorical_crossentropy_loss: 1.3079 - val_loss: 1.2942 - val_accuracy: 0.4277 - val_f1_score: 0.2026 - val_categorical_crossentropy_loss: 1.2942\n",
            "Epoch 5/10\n",
            "231/231 [==============================] - 2s 10ms/step - loss: 1.3055 - accuracy: 0.4353 - f1_score: 0.2004 - categorical_crossentropy_loss: 1.3055 - val_loss: 1.2931 - val_accuracy: 0.4316 - val_f1_score: 0.2036 - val_categorical_crossentropy_loss: 1.2931\n",
            "Epoch 6/10\n",
            "231/231 [==============================] - 2s 10ms/step - loss: 1.3019 - accuracy: 0.4362 - f1_score: 0.2050 - categorical_crossentropy_loss: 1.3019 - val_loss: 1.3010 - val_accuracy: 0.4414 - val_f1_score: 0.2088 - val_categorical_crossentropy_loss: 1.3010\n",
            "Epoch 7/10\n",
            "231/231 [==============================] - 2s 10ms/step - loss: 1.2855 - accuracy: 0.4389 - f1_score: 0.2555 - categorical_crossentropy_loss: 1.2855 - val_loss: 1.2573 - val_accuracy: 0.4492 - val_f1_score: 0.2567 - val_categorical_crossentropy_loss: 1.2573\n",
            "Epoch 8/10\n",
            "231/231 [==============================] - 2s 10ms/step - loss: 1.2641 - accuracy: 0.4463 - f1_score: 0.2928 - categorical_crossentropy_loss: 1.2641 - val_loss: 1.2431 - val_accuracy: 0.4512 - val_f1_score: 0.2798 - val_categorical_crossentropy_loss: 1.2431\n",
            "Epoch 9/10\n",
            "231/231 [==============================] - 3s 11ms/step - loss: 1.2530 - accuracy: 0.4575 - f1_score: 0.3044 - categorical_crossentropy_loss: 1.2530 - val_loss: 1.2348 - val_accuracy: 0.4648 - val_f1_score: 0.3195 - val_categorical_crossentropy_loss: 1.2348\n",
            "Epoch 10/10\n",
            "231/231 [==============================] - 3s 12ms/step - loss: 1.2419 - accuracy: 0.4647 - f1_score: 0.3180 - categorical_crossentropy_loss: 1.2419 - val_loss: 1.2098 - val_accuracy: 0.4668 - val_f1_score: 0.3205 - val_categorical_crossentropy_loss: 1.2098\n",
            "462/462 [==============================] - 1s 2ms/step\n"
          ]
        },
        {
          "name": "stderr",
          "output_type": "stream",
          "text": [
            "[I 2024-05-25 20:28:59,301] Trial 9 finished with value: 0.3360851089290079 and parameters: {'output_dim': 16, 'Network': 'LSTM', 'batch_size': 512}. Best is trial 3 with value: 0.3649064441910108.\n"
          ]
        },
        {
          "name": "stdout",
          "output_type": "stream",
          "text": [
            "Epoch 1/10\n",
            "462/462 [==============================] - 24s 48ms/step - loss: 1.4437 - accuracy: 0.3885 - f1_score: 0.1363 - categorical_crossentropy_loss: 1.4437 - val_loss: 1.3936 - val_accuracy: 0.3828 - val_f1_score: 0.1107 - val_categorical_crossentropy_loss: 1.3936\n",
            "Epoch 2/10\n",
            "462/462 [==============================] - 20s 43ms/step - loss: 1.3660 - accuracy: 0.3986 - f1_score: 0.2189 - categorical_crossentropy_loss: 1.3660 - val_loss: 1.3693 - val_accuracy: 0.3828 - val_f1_score: 0.1107 - val_categorical_crossentropy_loss: 1.3693\n",
            "Epoch 3/10\n",
            "462/462 [==============================] - 22s 47ms/step - loss: 1.3548 - accuracy: 0.4142 - f1_score: 0.2419 - categorical_crossentropy_loss: 1.3548 - val_loss: 1.3352 - val_accuracy: 0.4648 - val_f1_score: 0.2921 - val_categorical_crossentropy_loss: 1.3352\n",
            "Epoch 4/10\n",
            "462/462 [==============================] - 19s 42ms/step - loss: 1.3645 - accuracy: 0.4164 - f1_score: 0.2436 - categorical_crossentropy_loss: 1.3645 - val_loss: 1.3986 - val_accuracy: 0.4102 - val_f1_score: 0.1763 - val_categorical_crossentropy_loss: 1.3986\n",
            "Epoch 5/10\n",
            "462/462 [==============================] - 20s 44ms/step - loss: 1.3770 - accuracy: 0.4012 - f1_score: 0.2043 - categorical_crossentropy_loss: 1.3770 - val_loss: 1.3466 - val_accuracy: 0.4570 - val_f1_score: 0.2703 - val_categorical_crossentropy_loss: 1.3466\n",
            "Epoch 6/10\n",
            "462/462 [==============================] - 21s 45ms/step - loss: 1.3432 - accuracy: 0.4182 - f1_score: 0.2417 - categorical_crossentropy_loss: 1.3432 - val_loss: 1.3312 - val_accuracy: 0.4336 - val_f1_score: 0.2039 - val_categorical_crossentropy_loss: 1.3312\n",
            "Epoch 7/10\n",
            "462/462 [==============================] - 19s 42ms/step - loss: 1.3303 - accuracy: 0.4237 - f1_score: 0.2445 - categorical_crossentropy_loss: 1.3303 - val_loss: 1.3176 - val_accuracy: 0.4727 - val_f1_score: 0.2943 - val_categorical_crossentropy_loss: 1.3176\n",
            "Epoch 8/10\n",
            "462/462 [==============================] - 22s 47ms/step - loss: 1.3299 - accuracy: 0.4251 - f1_score: 0.2429 - categorical_crossentropy_loss: 1.3299 - val_loss: 1.3072 - val_accuracy: 0.4570 - val_f1_score: 0.2816 - val_categorical_crossentropy_loss: 1.3072\n",
            "Epoch 9/10\n",
            "462/462 [==============================] - 19s 42ms/step - loss: 1.3208 - accuracy: 0.4283 - f1_score: 0.2516 - categorical_crossentropy_loss: 1.3208 - val_loss: 1.3160 - val_accuracy: 0.4531 - val_f1_score: 0.2227 - val_categorical_crossentropy_loss: 1.3160\n",
            "Epoch 10/10\n",
            "462/462 [==============================] - 22s 47ms/step - loss: 1.3214 - accuracy: 0.4259 - f1_score: 0.2499 - categorical_crossentropy_loss: 1.3214 - val_loss: 1.3059 - val_accuracy: 0.4688 - val_f1_score: 0.2899 - val_categorical_crossentropy_loss: 1.3059\n",
            "462/462 [==============================] - 2s 4ms/step\n"
          ]
        },
        {
          "name": "stderr",
          "output_type": "stream",
          "text": [
            "[I 2024-05-25 20:32:30,343] Trial 10 finished with value: 0.25374803416469194 and parameters: {'output_dim': 64, 'Network': 'SimpleRNN', 'batch_size': 256}. Best is trial 3 with value: 0.3649064441910108.\n"
          ]
        },
        {
          "name": "stdout",
          "output_type": "stream",
          "text": [
            "Epoch 1/10\n",
            "231/231 [==============================] - 6s 13ms/step - loss: 1.4493 - accuracy: 0.3911 - f1_score: 0.1258 - categorical_crossentropy_loss: 1.4493 - val_loss: 1.3315 - val_accuracy: 0.4238 - val_f1_score: 0.1907 - val_categorical_crossentropy_loss: 1.3315\n",
            "Epoch 2/10\n",
            "231/231 [==============================] - 3s 12ms/step - loss: 1.3258 - accuracy: 0.4345 - f1_score: 0.2459 - categorical_crossentropy_loss: 1.3258 - val_loss: 1.2952 - val_accuracy: 0.4316 - val_f1_score: 0.2321 - val_categorical_crossentropy_loss: 1.2952\n",
            "Epoch 3/10\n",
            "231/231 [==============================] - 3s 11ms/step - loss: 1.3090 - accuracy: 0.4349 - f1_score: 0.2086 - categorical_crossentropy_loss: 1.3090 - val_loss: 1.2985 - val_accuracy: 0.4375 - val_f1_score: 0.2082 - val_categorical_crossentropy_loss: 1.2985\n",
            "Epoch 4/10\n",
            "231/231 [==============================] - 2s 10ms/step - loss: 1.2890 - accuracy: 0.4409 - f1_score: 0.2574 - categorical_crossentropy_loss: 1.2890 - val_loss: 1.2531 - val_accuracy: 0.4395 - val_f1_score: 0.2546 - val_categorical_crossentropy_loss: 1.2531\n",
            "Epoch 5/10\n",
            "231/231 [==============================] - 2s 10ms/step - loss: 1.2613 - accuracy: 0.4511 - f1_score: 0.2977 - categorical_crossentropy_loss: 1.2613 - val_loss: 1.2444 - val_accuracy: 0.4512 - val_f1_score: 0.2969 - val_categorical_crossentropy_loss: 1.2444\n",
            "Epoch 6/10\n",
            "231/231 [==============================] - 2s 11ms/step - loss: 1.2480 - accuracy: 0.4587 - f1_score: 0.3138 - categorical_crossentropy_loss: 1.2480 - val_loss: 1.2216 - val_accuracy: 0.4668 - val_f1_score: 0.3281 - val_categorical_crossentropy_loss: 1.2216\n",
            "Epoch 7/10\n",
            "231/231 [==============================] - 3s 12ms/step - loss: 1.2381 - accuracy: 0.4638 - f1_score: 0.3222 - categorical_crossentropy_loss: 1.2381 - val_loss: 1.2381 - val_accuracy: 0.4434 - val_f1_score: 0.2855 - val_categorical_crossentropy_loss: 1.2381\n",
            "Epoch 8/10\n",
            "231/231 [==============================] - 3s 12ms/step - loss: 1.2352 - accuracy: 0.4623 - f1_score: 0.3274 - categorical_crossentropy_loss: 1.2352 - val_loss: 1.2190 - val_accuracy: 0.4570 - val_f1_score: 0.3155 - val_categorical_crossentropy_loss: 1.2190\n",
            "Epoch 9/10\n",
            "231/231 [==============================] - 2s 10ms/step - loss: 1.2297 - accuracy: 0.4667 - f1_score: 0.3396 - categorical_crossentropy_loss: 1.2297 - val_loss: 1.2207 - val_accuracy: 0.4590 - val_f1_score: 0.3141 - val_categorical_crossentropy_loss: 1.2207\n",
            "Epoch 10/10\n",
            "231/231 [==============================] - 2s 11ms/step - loss: 1.2239 - accuracy: 0.4711 - f1_score: 0.3511 - categorical_crossentropy_loss: 1.2239 - val_loss: 1.2083 - val_accuracy: 0.4453 - val_f1_score: 0.3104 - val_categorical_crossentropy_loss: 1.2083\n",
            "462/462 [==============================] - 2s 2ms/step\n"
          ]
        },
        {
          "name": "stderr",
          "output_type": "stream",
          "text": [
            "[I 2024-05-25 20:33:02,064] Trial 11 finished with value: 0.364968546531342 and parameters: {'output_dim': 32, 'Network': 'LSTM', 'batch_size': 512}. Best is trial 11 with value: 0.364968546531342.\n"
          ]
        },
        {
          "name": "stdout",
          "output_type": "stream",
          "text": [
            "Epoch 1/10\n",
            "231/231 [==============================] - 6s 16ms/step - loss: 1.4237 - accuracy: 0.4006 - f1_score: 0.1686 - categorical_crossentropy_loss: 1.4237 - val_loss: 1.3122 - val_accuracy: 0.4316 - val_f1_score: 0.2086 - val_categorical_crossentropy_loss: 1.3122\n",
            "Epoch 2/10\n",
            "231/231 [==============================] - 2s 11ms/step - loss: 1.3205 - accuracy: 0.4341 - f1_score: 0.2449 - categorical_crossentropy_loss: 1.3205 - val_loss: 1.2869 - val_accuracy: 0.4395 - val_f1_score: 0.2109 - val_categorical_crossentropy_loss: 1.2869\n",
            "Epoch 3/10\n",
            "231/231 [==============================] - 2s 11ms/step - loss: 1.3112 - accuracy: 0.4333 - f1_score: 0.2298 - categorical_crossentropy_loss: 1.3112 - val_loss: 1.2990 - val_accuracy: 0.4453 - val_f1_score: 0.2216 - val_categorical_crossentropy_loss: 1.2990\n",
            "Epoch 4/10\n",
            "231/231 [==============================] - 2s 10ms/step - loss: 1.3004 - accuracy: 0.4343 - f1_score: 0.2227 - categorical_crossentropy_loss: 1.3004 - val_loss: 1.2762 - val_accuracy: 0.4238 - val_f1_score: 0.2005 - val_categorical_crossentropy_loss: 1.2762\n",
            "Epoch 5/10\n",
            "231/231 [==============================] - 2s 11ms/step - loss: 1.2675 - accuracy: 0.4474 - f1_score: 0.2926 - categorical_crossentropy_loss: 1.2675 - val_loss: 1.2369 - val_accuracy: 0.4414 - val_f1_score: 0.2799 - val_categorical_crossentropy_loss: 1.2369\n",
            "Epoch 6/10\n",
            "231/231 [==============================] - 3s 13ms/step - loss: 1.2464 - accuracy: 0.4639 - f1_score: 0.3200 - categorical_crossentropy_loss: 1.2464 - val_loss: 1.2159 - val_accuracy: 0.4688 - val_f1_score: 0.3202 - val_categorical_crossentropy_loss: 1.2159\n",
            "Epoch 7/10\n",
            "231/231 [==============================] - 3s 11ms/step - loss: 1.2395 - accuracy: 0.4665 - f1_score: 0.3226 - categorical_crossentropy_loss: 1.2395 - val_loss: 1.2185 - val_accuracy: 0.4629 - val_f1_score: 0.3056 - val_categorical_crossentropy_loss: 1.2185\n",
            "Epoch 8/10\n",
            "231/231 [==============================] - 2s 10ms/step - loss: 1.2368 - accuracy: 0.4680 - f1_score: 0.3298 - categorical_crossentropy_loss: 1.2368 - val_loss: 1.2321 - val_accuracy: 0.4551 - val_f1_score: 0.2789 - val_categorical_crossentropy_loss: 1.2321\n",
            "Epoch 9/10\n",
            "231/231 [==============================] - 2s 11ms/step - loss: 1.2351 - accuracy: 0.4685 - f1_score: 0.3350 - categorical_crossentropy_loss: 1.2351 - val_loss: 1.2094 - val_accuracy: 0.4746 - val_f1_score: 0.3160 - val_categorical_crossentropy_loss: 1.2094\n",
            "Epoch 10/10\n",
            "231/231 [==============================] - 2s 11ms/step - loss: 1.2327 - accuracy: 0.4689 - f1_score: 0.3417 - categorical_crossentropy_loss: 1.2327 - val_loss: 1.2160 - val_accuracy: 0.4473 - val_f1_score: 0.3090 - val_categorical_crossentropy_loss: 1.2160\n",
            "462/462 [==============================] - 2s 3ms/step\n"
          ]
        },
        {
          "name": "stderr",
          "output_type": "stream",
          "text": [
            "[I 2024-05-25 20:33:33,620] Trial 12 finished with value: 0.3515903201605689 and parameters: {'output_dim': 32, 'Network': 'LSTM', 'batch_size': 512}. Best is trial 11 with value: 0.364968546531342.\n"
          ]
        },
        {
          "name": "stdout",
          "output_type": "stream",
          "text": [
            "Epoch 1/10\n",
            "462/462 [==============================] - 7s 10ms/step - loss: 1.3835 - accuracy: 0.4165 - f1_score: 0.2021 - categorical_crossentropy_loss: 1.3835 - val_loss: 1.3041 - val_accuracy: 0.4570 - val_f1_score: 0.2399 - val_categorical_crossentropy_loss: 1.3041\n",
            "Epoch 2/10\n",
            "462/462 [==============================] - 4s 8ms/step - loss: 1.3146 - accuracy: 0.4340 - f1_score: 0.2292 - categorical_crossentropy_loss: 1.3146 - val_loss: 1.3065 - val_accuracy: 0.4609 - val_f1_score: 0.2242 - val_categorical_crossentropy_loss: 1.3065\n",
            "Epoch 3/10\n",
            "462/462 [==============================] - 5s 11ms/step - loss: 1.2896 - accuracy: 0.4505 - f1_score: 0.2699 - categorical_crossentropy_loss: 1.2896 - val_loss: 1.2676 - val_accuracy: 0.4531 - val_f1_score: 0.2977 - val_categorical_crossentropy_loss: 1.2676\n",
            "Epoch 4/10\n",
            "462/462 [==============================] - 4s 8ms/step - loss: 1.2653 - accuracy: 0.4563 - f1_score: 0.3115 - categorical_crossentropy_loss: 1.2653 - val_loss: 1.2421 - val_accuracy: 0.4805 - val_f1_score: 0.2815 - val_categorical_crossentropy_loss: 1.2421\n",
            "Epoch 5/10\n",
            "462/462 [==============================] - 4s 8ms/step - loss: 1.2477 - accuracy: 0.4619 - f1_score: 0.3300 - categorical_crossentropy_loss: 1.2477 - val_loss: 1.2455 - val_accuracy: 0.4727 - val_f1_score: 0.3204 - val_categorical_crossentropy_loss: 1.2455\n",
            "Epoch 6/10\n",
            "462/462 [==============================] - 4s 9ms/step - loss: 1.2352 - accuracy: 0.4645 - f1_score: 0.3429 - categorical_crossentropy_loss: 1.2352 - val_loss: 1.2282 - val_accuracy: 0.4883 - val_f1_score: 0.3549 - val_categorical_crossentropy_loss: 1.2282\n",
            "Epoch 7/10\n",
            "462/462 [==============================] - 4s 9ms/step - loss: 1.2262 - accuracy: 0.4707 - f1_score: 0.3504 - categorical_crossentropy_loss: 1.2262 - val_loss: 1.2610 - val_accuracy: 0.4883 - val_f1_score: 0.3384 - val_categorical_crossentropy_loss: 1.2610\n",
            "Epoch 8/10\n",
            "462/462 [==============================] - 4s 8ms/step - loss: 1.2231 - accuracy: 0.4708 - f1_score: 0.3537 - categorical_crossentropy_loss: 1.2231 - val_loss: 1.2247 - val_accuracy: 0.4609 - val_f1_score: 0.3070 - val_categorical_crossentropy_loss: 1.2247\n",
            "Epoch 9/10\n",
            "462/462 [==============================] - 4s 9ms/step - loss: 1.2192 - accuracy: 0.4721 - f1_score: 0.3567 - categorical_crossentropy_loss: 1.2192 - val_loss: 1.2406 - val_accuracy: 0.4766 - val_f1_score: 0.3309 - val_categorical_crossentropy_loss: 1.2406\n",
            "Epoch 10/10\n",
            "462/462 [==============================] - 5s 11ms/step - loss: 1.2187 - accuracy: 0.4712 - f1_score: 0.3565 - categorical_crossentropy_loss: 1.2187 - val_loss: 1.2496 - val_accuracy: 0.4531 - val_f1_score: 0.3023 - val_categorical_crossentropy_loss: 1.2496\n",
            "462/462 [==============================] - 1s 2ms/step\n"
          ]
        },
        {
          "name": "stderr",
          "output_type": "stream",
          "text": [
            "[I 2024-05-25 20:35:01,398] Trial 13 finished with value: 0.3404076328589961 and parameters: {'output_dim': 32, 'Network': 'LSTM', 'batch_size': 256}. Best is trial 11 with value: 0.364968546531342.\n"
          ]
        },
        {
          "name": "stdout",
          "output_type": "stream",
          "text": [
            "Epoch 1/10\n",
            "231/231 [==============================] - 6s 15ms/step - loss: 1.4596 - accuracy: 0.3875 - f1_score: 0.1167 - categorical_crossentropy_loss: 1.4596 - val_loss: 1.4433 - val_accuracy: 0.3789 - val_f1_score: 0.1099 - val_categorical_crossentropy_loss: 1.4433\n",
            "Epoch 2/10\n",
            "231/231 [==============================] - 2s 10ms/step - loss: 1.4536 - accuracy: 0.3902 - f1_score: 0.1123 - categorical_crossentropy_loss: 1.4536 - val_loss: 1.4452 - val_accuracy: 0.3789 - val_f1_score: 0.1099 - val_categorical_crossentropy_loss: 1.4452\n",
            "Epoch 3/10\n",
            "231/231 [==============================] - 2s 10ms/step - loss: 1.4534 - accuracy: 0.3902 - f1_score: 0.1123 - categorical_crossentropy_loss: 1.4534 - val_loss: 1.4448 - val_accuracy: 0.3789 - val_f1_score: 0.1099 - val_categorical_crossentropy_loss: 1.4448\n",
            "Epoch 4/10\n",
            "231/231 [==============================] - 2s 10ms/step - loss: 1.4530 - accuracy: 0.3902 - f1_score: 0.1123 - categorical_crossentropy_loss: 1.4530 - val_loss: 1.4436 - val_accuracy: 0.3789 - val_f1_score: 0.1099 - val_categorical_crossentropy_loss: 1.4436\n",
            "Epoch 5/10\n",
            "231/231 [==============================] - 2s 10ms/step - loss: 1.4532 - accuracy: 0.3902 - f1_score: 0.1123 - categorical_crossentropy_loss: 1.4532 - val_loss: 1.4450 - val_accuracy: 0.3789 - val_f1_score: 0.1099 - val_categorical_crossentropy_loss: 1.4450\n",
            "Epoch 6/10\n",
            "231/231 [==============================] - 3s 11ms/step - loss: 1.4531 - accuracy: 0.3902 - f1_score: 0.1123 - categorical_crossentropy_loss: 1.4531 - val_loss: 1.4443 - val_accuracy: 0.3789 - val_f1_score: 0.1099 - val_categorical_crossentropy_loss: 1.4443\n",
            "Epoch 7/10\n",
            "231/231 [==============================] - 3s 12ms/step - loss: 1.4533 - accuracy: 0.3902 - f1_score: 0.1123 - categorical_crossentropy_loss: 1.4533 - val_loss: 1.4441 - val_accuracy: 0.3789 - val_f1_score: 0.1099 - val_categorical_crossentropy_loss: 1.4441\n",
            "Epoch 8/10\n",
            "231/231 [==============================] - 2s 10ms/step - loss: 1.4532 - accuracy: 0.3902 - f1_score: 0.1123 - categorical_crossentropy_loss: 1.4532 - val_loss: 1.4431 - val_accuracy: 0.3789 - val_f1_score: 0.1099 - val_categorical_crossentropy_loss: 1.4431\n",
            "Epoch 9/10\n",
            "231/231 [==============================] - 2s 10ms/step - loss: 1.4528 - accuracy: 0.3902 - f1_score: 0.1123 - categorical_crossentropy_loss: 1.4528 - val_loss: 1.4455 - val_accuracy: 0.3789 - val_f1_score: 0.1099 - val_categorical_crossentropy_loss: 1.4455\n",
            "Epoch 10/10\n",
            "231/231 [==============================] - 2s 10ms/step - loss: 1.4530 - accuracy: 0.3902 - f1_score: 0.1123 - categorical_crossentropy_loss: 1.4530 - val_loss: 1.4432 - val_accuracy: 0.3789 - val_f1_score: 0.1099 - val_categorical_crossentropy_loss: 1.4432\n",
            "462/462 [==============================] - 3s 4ms/step\n"
          ]
        },
        {
          "name": "stderr",
          "output_type": "stream",
          "text": [
            "[I 2024-05-25 20:35:48,450] Trial 14 finished with value: 0.11225712198685171 and parameters: {'output_dim': 32, 'Network': 'GRU', 'batch_size': 512}. Best is trial 11 with value: 0.364968546531342.\n"
          ]
        },
        {
          "name": "stdout",
          "output_type": "stream",
          "text": [
            "Epoch 1/10\n",
            "231/231 [==============================] - 14s 50ms/step - loss: 1.3706 - accuracy: 0.4135 - f1_score: 0.2163 - categorical_crossentropy_loss: 1.3706 - val_loss: 1.3191 - val_accuracy: 0.4336 - val_f1_score: 0.2028 - val_categorical_crossentropy_loss: 1.3191\n",
            "Epoch 2/10\n",
            "231/231 [==============================] - 9s 40ms/step - loss: 1.3035 - accuracy: 0.4384 - f1_score: 0.2666 - categorical_crossentropy_loss: 1.3035 - val_loss: 1.2472 - val_accuracy: 0.4688 - val_f1_score: 0.2924 - val_categorical_crossentropy_loss: 1.2472\n",
            "Epoch 3/10\n",
            "231/231 [==============================] - 11s 49ms/step - loss: 1.2722 - accuracy: 0.4505 - f1_score: 0.2967 - categorical_crossentropy_loss: 1.2722 - val_loss: 1.2208 - val_accuracy: 0.4629 - val_f1_score: 0.2736 - val_categorical_crossentropy_loss: 1.2208\n",
            "Epoch 4/10\n",
            "231/231 [==============================] - 12s 50ms/step - loss: 1.2557 - accuracy: 0.4583 - f1_score: 0.3232 - categorical_crossentropy_loss: 1.2557 - val_loss: 1.2400 - val_accuracy: 0.4531 - val_f1_score: 0.2720 - val_categorical_crossentropy_loss: 1.2400\n",
            "Epoch 5/10\n",
            "231/231 [==============================] - 11s 49ms/step - loss: 1.2490 - accuracy: 0.4597 - f1_score: 0.3297 - categorical_crossentropy_loss: 1.2490 - val_loss: 1.2132 - val_accuracy: 0.4668 - val_f1_score: 0.3114 - val_categorical_crossentropy_loss: 1.2132\n",
            "Epoch 6/10\n",
            "231/231 [==============================] - 10s 42ms/step - loss: 1.2467 - accuracy: 0.4614 - f1_score: 0.3307 - categorical_crossentropy_loss: 1.2467 - val_loss: 1.2289 - val_accuracy: 0.4531 - val_f1_score: 0.2970 - val_categorical_crossentropy_loss: 1.2289\n",
            "Epoch 7/10\n",
            "231/231 [==============================] - 12s 50ms/step - loss: 1.2437 - accuracy: 0.4631 - f1_score: 0.3359 - categorical_crossentropy_loss: 1.2437 - val_loss: 1.2158 - val_accuracy: 0.4570 - val_f1_score: 0.3139 - val_categorical_crossentropy_loss: 1.2158\n",
            "Epoch 8/10\n",
            "231/231 [==============================] - 12s 52ms/step - loss: 1.2442 - accuracy: 0.4612 - f1_score: 0.3339 - categorical_crossentropy_loss: 1.2442 - val_loss: 1.2176 - val_accuracy: 0.4727 - val_f1_score: 0.3131 - val_categorical_crossentropy_loss: 1.2176\n",
            "Epoch 9/10\n",
            "231/231 [==============================] - 12s 51ms/step - loss: 1.2396 - accuracy: 0.4642 - f1_score: 0.3379 - categorical_crossentropy_loss: 1.2396 - val_loss: 1.2084 - val_accuracy: 0.4531 - val_f1_score: 0.3124 - val_categorical_crossentropy_loss: 1.2084\n",
            "Epoch 10/10\n",
            "231/231 [==============================] - 12s 53ms/step - loss: 1.2369 - accuracy: 0.4643 - f1_score: 0.3392 - categorical_crossentropy_loss: 1.2369 - val_loss: 1.2096 - val_accuracy: 0.4629 - val_f1_score: 0.3356 - val_categorical_crossentropy_loss: 1.2096\n",
            "462/462 [==============================] - 2s 5ms/step\n"
          ]
        },
        {
          "name": "stderr",
          "output_type": "stream",
          "text": [
            "[I 2024-05-25 20:38:14,751] Trial 15 finished with value: 0.36501350669349114 and parameters: {'output_dim': 64, 'Network': 'SimpleRNN', 'batch_size': 512}. Best is trial 15 with value: 0.36501350669349114.\n"
          ]
        },
        {
          "name": "stdout",
          "output_type": "stream",
          "text": [
            "Epoch 1/10\n",
            "231/231 [==============================] - 8s 19ms/step - loss: 1.4571 - accuracy: 0.3890 - f1_score: 0.1140 - categorical_crossentropy_loss: 1.4571 - val_loss: 1.4457 - val_accuracy: 0.3789 - val_f1_score: 0.1099 - val_categorical_crossentropy_loss: 1.4457\n",
            "Epoch 2/10\n",
            "231/231 [==============================] - 4s 16ms/step - loss: 1.4016 - accuracy: 0.4044 - f1_score: 0.1779 - categorical_crossentropy_loss: 1.4016 - val_loss: 1.3012 - val_accuracy: 0.4414 - val_f1_score: 0.2243 - val_categorical_crossentropy_loss: 1.3012\n",
            "Epoch 3/10\n",
            "231/231 [==============================] - 4s 17ms/step - loss: 1.3038 - accuracy: 0.4346 - f1_score: 0.2283 - categorical_crossentropy_loss: 1.3038 - val_loss: 1.3004 - val_accuracy: 0.4316 - val_f1_score: 0.2047 - val_categorical_crossentropy_loss: 1.3004\n",
            "Epoch 4/10\n",
            "231/231 [==============================] - 4s 17ms/step - loss: 1.2833 - accuracy: 0.4392 - f1_score: 0.2771 - categorical_crossentropy_loss: 1.2833 - val_loss: 1.2663 - val_accuracy: 0.4297 - val_f1_score: 0.2546 - val_categorical_crossentropy_loss: 1.2663\n",
            "Epoch 5/10\n",
            "231/231 [==============================] - 4s 16ms/step - loss: 1.2583 - accuracy: 0.4627 - f1_score: 0.3188 - categorical_crossentropy_loss: 1.2583 - val_loss: 1.2333 - val_accuracy: 0.4492 - val_f1_score: 0.3220 - val_categorical_crossentropy_loss: 1.2333\n",
            "Epoch 6/10\n",
            "231/231 [==============================] - 4s 16ms/step - loss: 1.2417 - accuracy: 0.4608 - f1_score: 0.3306 - categorical_crossentropy_loss: 1.2417 - val_loss: 1.2289 - val_accuracy: 0.4629 - val_f1_score: 0.3054 - val_categorical_crossentropy_loss: 1.2289\n",
            "Epoch 7/10\n",
            "231/231 [==============================] - 4s 17ms/step - loss: 1.2324 - accuracy: 0.4650 - f1_score: 0.3430 - categorical_crossentropy_loss: 1.2324 - val_loss: 1.2295 - val_accuracy: 0.4707 - val_f1_score: 0.3281 - val_categorical_crossentropy_loss: 1.2295\n",
            "Epoch 8/10\n",
            "231/231 [==============================] - 4s 17ms/step - loss: 1.2276 - accuracy: 0.4663 - f1_score: 0.3515 - categorical_crossentropy_loss: 1.2276 - val_loss: 1.2174 - val_accuracy: 0.4805 - val_f1_score: 0.3295 - val_categorical_crossentropy_loss: 1.2174\n",
            "Epoch 9/10\n",
            "231/231 [==============================] - 4s 16ms/step - loss: 1.2227 - accuracy: 0.4693 - f1_score: 0.3549 - categorical_crossentropy_loss: 1.2227 - val_loss: 1.2136 - val_accuracy: 0.4727 - val_f1_score: 0.3419 - val_categorical_crossentropy_loss: 1.2136\n",
            "Epoch 10/10\n",
            "231/231 [==============================] - 4s 16ms/step - loss: 1.2198 - accuracy: 0.4722 - f1_score: 0.3578 - categorical_crossentropy_loss: 1.2198 - val_loss: 1.2124 - val_accuracy: 0.4727 - val_f1_score: 0.3265 - val_categorical_crossentropy_loss: 1.2124\n",
            "462/462 [==============================] - 2s 4ms/step\n"
          ]
        },
        {
          "name": "stderr",
          "output_type": "stream",
          "text": [
            "[I 2024-05-25 20:39:00,890] Trial 16 finished with value: 0.36014067637182096 and parameters: {'output_dim': 128, 'Network': 'LSTM', 'batch_size': 512}. Best is trial 15 with value: 0.36501350669349114.\n"
          ]
        },
        {
          "name": "stdout",
          "output_type": "stream",
          "text": [
            "Epoch 1/10\n",
            "231/231 [==============================] - 12s 44ms/step - loss: 1.3689 - accuracy: 0.4104 - f1_score: 0.2302 - categorical_crossentropy_loss: 1.3689 - val_loss: 1.3037 - val_accuracy: 0.4141 - val_f1_score: 0.2492 - val_categorical_crossentropy_loss: 1.3037\n",
            "Epoch 2/10\n",
            "231/231 [==============================] - 10s 41ms/step - loss: 1.2886 - accuracy: 0.4453 - f1_score: 0.2856 - categorical_crossentropy_loss: 1.2886 - val_loss: 1.2715 - val_accuracy: 0.4648 - val_f1_score: 0.3008 - val_categorical_crossentropy_loss: 1.2715\n",
            "Epoch 3/10\n",
            "231/231 [==============================] - 11s 46ms/step - loss: 1.2769 - accuracy: 0.4476 - f1_score: 0.3022 - categorical_crossentropy_loss: 1.2769 - val_loss: 1.2861 - val_accuracy: 0.4160 - val_f1_score: 0.2466 - val_categorical_crossentropy_loss: 1.2861\n",
            "Epoch 4/10\n",
            "231/231 [==============================] - 11s 46ms/step - loss: 1.2697 - accuracy: 0.4504 - f1_score: 0.3069 - categorical_crossentropy_loss: 1.2697 - val_loss: 1.2713 - val_accuracy: 0.4434 - val_f1_score: 0.2801 - val_categorical_crossentropy_loss: 1.2713\n",
            "Epoch 5/10\n",
            "231/231 [==============================] - 9s 37ms/step - loss: 1.2668 - accuracy: 0.4529 - f1_score: 0.3114 - categorical_crossentropy_loss: 1.2668 - val_loss: 1.2520 - val_accuracy: 0.4473 - val_f1_score: 0.2580 - val_categorical_crossentropy_loss: 1.2520\n",
            "Epoch 6/10\n",
            "231/231 [==============================] - 11s 47ms/step - loss: 1.2602 - accuracy: 0.4555 - f1_score: 0.3171 - categorical_crossentropy_loss: 1.2602 - val_loss: 1.2444 - val_accuracy: 0.4629 - val_f1_score: 0.3096 - val_categorical_crossentropy_loss: 1.2444\n",
            "Epoch 7/10\n",
            "231/231 [==============================] - 11s 48ms/step - loss: 1.2576 - accuracy: 0.4572 - f1_score: 0.3222 - categorical_crossentropy_loss: 1.2576 - val_loss: 1.2353 - val_accuracy: 0.4668 - val_f1_score: 0.2879 - val_categorical_crossentropy_loss: 1.2353\n",
            "Epoch 8/10\n",
            "231/231 [==============================] - 9s 41ms/step - loss: 1.2544 - accuracy: 0.4575 - f1_score: 0.3229 - categorical_crossentropy_loss: 1.2544 - val_loss: 1.2453 - val_accuracy: 0.4590 - val_f1_score: 0.3019 - val_categorical_crossentropy_loss: 1.2453\n",
            "Epoch 9/10\n",
            "231/231 [==============================] - 10s 43ms/step - loss: 1.2509 - accuracy: 0.4570 - f1_score: 0.3266 - categorical_crossentropy_loss: 1.2509 - val_loss: 1.2278 - val_accuracy: 0.4707 - val_f1_score: 0.3357 - val_categorical_crossentropy_loss: 1.2278\n",
            "Epoch 10/10\n",
            "231/231 [==============================] - 11s 46ms/step - loss: 1.2482 - accuracy: 0.4585 - f1_score: 0.3282 - categorical_crossentropy_loss: 1.2482 - val_loss: 1.2302 - val_accuracy: 0.4727 - val_f1_score: 0.3334 - val_categorical_crossentropy_loss: 1.2302\n",
            "462/462 [==============================] - 2s 5ms/step\n"
          ]
        },
        {
          "name": "stderr",
          "output_type": "stream",
          "text": [
            "[I 2024-05-25 20:41:26,945] Trial 17 finished with value: 0.3455521494267291 and parameters: {'output_dim': 16, 'Network': 'SimpleRNN', 'batch_size': 512}. Best is trial 15 with value: 0.36501350669349114.\n"
          ]
        },
        {
          "name": "stdout",
          "output_type": "stream",
          "text": [
            "Epoch 1/10\n",
            "231/231 [==============================] - 7s 14ms/step - loss: 1.4406 - accuracy: 0.3925 - f1_score: 0.1574 - categorical_crossentropy_loss: 1.4406 - val_loss: 1.3080 - val_accuracy: 0.4414 - val_f1_score: 0.2669 - val_categorical_crossentropy_loss: 1.3080\n",
            "Epoch 2/10\n",
            "231/231 [==============================] - 2s 10ms/step - loss: 1.3244 - accuracy: 0.4356 - f1_score: 0.2524 - categorical_crossentropy_loss: 1.3244 - val_loss: 1.2876 - val_accuracy: 0.4297 - val_f1_score: 0.2062 - val_categorical_crossentropy_loss: 1.2876\n",
            "Epoch 3/10\n",
            "231/231 [==============================] - 2s 10ms/step - loss: 1.3094 - accuracy: 0.4345 - f1_score: 0.2109 - categorical_crossentropy_loss: 1.3094 - val_loss: 1.3402 - val_accuracy: 0.4297 - val_f1_score: 0.1929 - val_categorical_crossentropy_loss: 1.3402\n",
            "Epoch 4/10\n",
            "231/231 [==============================] - 2s 11ms/step - loss: 1.3065 - accuracy: 0.4350 - f1_score: 0.2103 - categorical_crossentropy_loss: 1.3065 - val_loss: 1.2902 - val_accuracy: 0.4316 - val_f1_score: 0.2049 - val_categorical_crossentropy_loss: 1.2902\n",
            "Epoch 5/10\n",
            "231/231 [==============================] - 3s 13ms/step - loss: 1.2823 - accuracy: 0.4382 - f1_score: 0.2623 - categorical_crossentropy_loss: 1.2823 - val_loss: 1.2619 - val_accuracy: 0.4551 - val_f1_score: 0.2933 - val_categorical_crossentropy_loss: 1.2619\n",
            "Epoch 6/10\n",
            "231/231 [==============================] - 3s 11ms/step - loss: 1.2592 - accuracy: 0.4467 - f1_score: 0.2997 - categorical_crossentropy_loss: 1.2592 - val_loss: 1.2441 - val_accuracy: 0.4395 - val_f1_score: 0.2784 - val_categorical_crossentropy_loss: 1.2441\n",
            "Epoch 7/10\n",
            "231/231 [==============================] - 2s 10ms/step - loss: 1.2524 - accuracy: 0.4574 - f1_score: 0.3123 - categorical_crossentropy_loss: 1.2524 - val_loss: 1.2269 - val_accuracy: 0.4551 - val_f1_score: 0.2845 - val_categorical_crossentropy_loss: 1.2269\n",
            "Epoch 8/10\n",
            "231/231 [==============================] - 2s 11ms/step - loss: 1.2430 - accuracy: 0.4640 - f1_score: 0.3267 - categorical_crossentropy_loss: 1.2430 - val_loss: 1.2251 - val_accuracy: 0.4531 - val_f1_score: 0.2990 - val_categorical_crossentropy_loss: 1.2251\n",
            "Epoch 9/10\n",
            "231/231 [==============================] - 2s 11ms/step - loss: 1.2374 - accuracy: 0.4688 - f1_score: 0.3382 - categorical_crossentropy_loss: 1.2374 - val_loss: 1.2269 - val_accuracy: 0.4668 - val_f1_score: 0.3019 - val_categorical_crossentropy_loss: 1.2269\n",
            "Epoch 10/10\n",
            "231/231 [==============================] - 3s 12ms/step - loss: 1.2354 - accuracy: 0.4687 - f1_score: 0.3416 - categorical_crossentropy_loss: 1.2354 - val_loss: 1.2291 - val_accuracy: 0.4492 - val_f1_score: 0.2965 - val_categorical_crossentropy_loss: 1.2291\n",
            "462/462 [==============================] - 1s 2ms/step\n"
          ]
        },
        {
          "name": "stderr",
          "output_type": "stream",
          "text": [
            "[I 2024-05-25 20:42:13,738] Trial 18 finished with value: 0.347095748708245 and parameters: {'output_dim': 32, 'Network': 'LSTM', 'batch_size': 512}. Best is trial 15 with value: 0.36501350669349114.\n"
          ]
        },
        {
          "name": "stdout",
          "output_type": "stream",
          "text": [
            "Epoch 1/10\n",
            "231/231 [==============================] - 6s 14ms/step - loss: 1.4594 - accuracy: 0.3893 - f1_score: 0.1138 - categorical_crossentropy_loss: 1.4594 - val_loss: 1.4454 - val_accuracy: 0.3789 - val_f1_score: 0.1099 - val_categorical_crossentropy_loss: 1.4454\n",
            "Epoch 2/10\n",
            "231/231 [==============================] - 3s 14ms/step - loss: 1.4533 - accuracy: 0.3902 - f1_score: 0.1123 - categorical_crossentropy_loss: 1.4533 - val_loss: 1.4449 - val_accuracy: 0.3789 - val_f1_score: 0.1099 - val_categorical_crossentropy_loss: 1.4449\n",
            "Epoch 3/10\n",
            "231/231 [==============================] - 3s 12ms/step - loss: 1.4535 - accuracy: 0.3902 - f1_score: 0.1123 - categorical_crossentropy_loss: 1.4535 - val_loss: 1.4441 - val_accuracy: 0.3789 - val_f1_score: 0.1099 - val_categorical_crossentropy_loss: 1.4441\n",
            "Epoch 4/10\n",
            "231/231 [==============================] - 3s 12ms/step - loss: 1.4530 - accuracy: 0.3902 - f1_score: 0.1123 - categorical_crossentropy_loss: 1.4530 - val_loss: 1.4433 - val_accuracy: 0.3789 - val_f1_score: 0.1099 - val_categorical_crossentropy_loss: 1.4433\n",
            "Epoch 5/10\n",
            "231/231 [==============================] - 3s 12ms/step - loss: 1.4531 - accuracy: 0.3902 - f1_score: 0.1123 - categorical_crossentropy_loss: 1.4531 - val_loss: 1.4440 - val_accuracy: 0.3789 - val_f1_score: 0.1099 - val_categorical_crossentropy_loss: 1.4440\n",
            "Epoch 6/10\n",
            "231/231 [==============================] - 3s 12ms/step - loss: 1.4531 - accuracy: 0.3902 - f1_score: 0.1123 - categorical_crossentropy_loss: 1.4531 - val_loss: 1.4432 - val_accuracy: 0.3789 - val_f1_score: 0.1099 - val_categorical_crossentropy_loss: 1.4432\n",
            "Epoch 7/10\n",
            "231/231 [==============================] - 3s 14ms/step - loss: 1.4531 - accuracy: 0.3902 - f1_score: 0.1123 - categorical_crossentropy_loss: 1.4531 - val_loss: 1.4455 - val_accuracy: 0.3789 - val_f1_score: 0.1099 - val_categorical_crossentropy_loss: 1.4455\n",
            "Epoch 8/10\n",
            "231/231 [==============================] - 3s 12ms/step - loss: 1.4531 - accuracy: 0.3902 - f1_score: 0.1123 - categorical_crossentropy_loss: 1.4531 - val_loss: 1.4431 - val_accuracy: 0.3789 - val_f1_score: 0.1099 - val_categorical_crossentropy_loss: 1.4431\n",
            "Epoch 9/10\n",
            "231/231 [==============================] - 3s 12ms/step - loss: 1.4531 - accuracy: 0.3902 - f1_score: 0.1123 - categorical_crossentropy_loss: 1.4531 - val_loss: 1.4435 - val_accuracy: 0.3789 - val_f1_score: 0.1099 - val_categorical_crossentropy_loss: 1.4435\n",
            "Epoch 10/10\n",
            "231/231 [==============================] - 3s 12ms/step - loss: 1.4530 - accuracy: 0.3902 - f1_score: 0.1123 - categorical_crossentropy_loss: 1.4530 - val_loss: 1.4444 - val_accuracy: 0.3789 - val_f1_score: 0.1099 - val_categorical_crossentropy_loss: 1.4444\n",
            "462/462 [==============================] - 2s 2ms/step\n"
          ]
        },
        {
          "name": "stderr",
          "output_type": "stream",
          "text": [
            "[I 2024-05-25 20:43:00,579] Trial 19 finished with value: 0.11225712198685171 and parameters: {'output_dim': 64, 'Network': 'GRU', 'batch_size': 512}. Best is trial 15 with value: 0.36501350669349114.\n"
          ]
        },
        {
          "name": "stdout",
          "output_type": "stream",
          "text": [
            "Best hyperparameters:  {'output_dim': 64, 'Network': 'SimpleRNN', 'batch_size': 512}\n"
          ]
        }
      ],
      "source": [
        "import optuna\n",
        "def objective(trial):\n",
        "    output_dim = trial.suggest_categorical('output_dim', [16, 32, 64, 128])\n",
        "    network_type = trial.suggest_categorical('Network', ['SimpleRNN', 'GRU', 'LSTM'])\n",
        "    batch_size = trial.suggest_categorical('batch_size', [128, 256, 512])\n",
        "\n",
        "    if network_type == 'SimpleRNN':\n",
        "        Network = SimpleRNN\n",
        "    elif network_type == 'GRU':\n",
        "        Network = GRU\n",
        "    else:\n",
        "        Network = LSTM\n",
        "\n",
        "    model = build_rnn_model(input_dim=input_dim,\n",
        "                            output_dim=output_dim,\n",
        "                            input_length=None,\n",
        "                            network=Network)\n",
        "\n",
        "    history = model.fit(train_seq_pad, y_train_categorical,\n",
        "                        epochs=10,\n",
        "                        batch_size=batch_size,\n",
        "                        validation_data=(val_seq_pad, y_val_categorical),\n",
        "                        validation_steps=1,\n",
        "                        verbose=1)\n",
        "\n",
        "    val_pred = model.predict(val_seq_pad)\n",
        "    val_f1 = f1_score(np.argmax(y_val_categorical, axis=1), np.argmax(val_pred, axis=1), average='macro')\n",
        "\n",
        "    return val_f1\n",
        "\n",
        "study = optuna.create_study(direction='maximize')\n",
        "\n",
        "study.optimize(objective, n_trials=20)\n",
        "\n",
        "print(\"Best hyperparameters: \", study.best_params)\n"
      ]
    },
    {
      "cell_type": "code",
      "execution_count": null,
      "metadata": {
        "colab": {
          "base_uri": "https://localhost:8080/",
          "height": 542
        },
        "id": "VBH29WMfVo6U",
        "outputId": "a29d4746-1bae-49d2-90b5-02c8b4735f84"
      },
      "outputs": [
        {
          "data": {
            "text/html": [
              "<html>\n",
              "<head><meta charset=\"utf-8\" /></head>\n",
              "<body>\n",
              "    <div>            <script src=\"https://cdnjs.cloudflare.com/ajax/libs/mathjax/2.7.5/MathJax.js?config=TeX-AMS-MML_SVG\"></script><script type=\"text/javascript\">if (window.MathJax && window.MathJax.Hub && window.MathJax.Hub.Config) {window.MathJax.Hub.Config({SVG: {font: \"STIX-Web\"}});}</script>                <script type=\"text/javascript\">window.PlotlyConfig = {MathJaxConfig: 'local'};</script>\n",
              "        <script charset=\"utf-8\" src=\"https://cdn.plot.ly/plotly-2.24.1.min.js\"></script>                <div id=\"ce98479e-c615-4e16-aafe-1d70aa026e37\" class=\"plotly-graph-div\" style=\"height:525px; width:100%;\"></div>            <script type=\"text/javascript\">                                    window.PLOTLYENV=window.PLOTLYENV || {};                                    if (document.getElementById(\"ce98479e-c615-4e16-aafe-1d70aa026e37\")) {                    Plotly.newPlot(                        \"ce98479e-c615-4e16-aafe-1d70aa026e37\",                        [{\"mode\":\"markers\",\"name\":\"Objective Value\",\"x\":[0,1,2,3,4,5,6,7,8,9,10,11,12,13,14,15,16,17,18,19],\"y\":[0.11225712198685171,0.32141745432549984,0.33990494030009544,0.3649064441910108,0.34002021504380453,0.11225712198685171,0.17817246603618045,0.2897431817302328,0.11225712198685171,0.3360851089290079,0.25374803416469194,0.364968546531342,0.3515903201605689,0.3404076328589961,0.11225712198685171,0.36501350669349114,0.36014067637182096,0.3455521494267291,0.347095748708245,0.11225712198685171],\"type\":\"scatter\"},{\"mode\":\"lines\",\"name\":\"Best Value\",\"x\":[0,1,2,3,4,5,6,7,8,9,10,11,12,13,14,15,16,17,18,19],\"y\":[0.11225712198685171,0.32141745432549984,0.33990494030009544,0.3649064441910108,0.3649064441910108,0.3649064441910108,0.3649064441910108,0.3649064441910108,0.3649064441910108,0.3649064441910108,0.3649064441910108,0.364968546531342,0.364968546531342,0.364968546531342,0.364968546531342,0.36501350669349114,0.36501350669349114,0.36501350669349114,0.36501350669349114,0.36501350669349114],\"type\":\"scatter\"},{\"marker\":{\"color\":\"#cccccc\"},\"mode\":\"markers\",\"name\":\"Infeasible Trial\",\"showlegend\":false,\"x\":[],\"y\":[],\"type\":\"scatter\"}],                        {\"title\":{\"text\":\"Optimization History Plot\"},\"xaxis\":{\"title\":{\"text\":\"Trial\"}},\"yaxis\":{\"title\":{\"text\":\"Objective Value\"}},\"template\":{\"data\":{\"histogram2dcontour\":[{\"type\":\"histogram2dcontour\",\"colorbar\":{\"outlinewidth\":0,\"ticks\":\"\"},\"colorscale\":[[0.0,\"#0d0887\"],[0.1111111111111111,\"#46039f\"],[0.2222222222222222,\"#7201a8\"],[0.3333333333333333,\"#9c179e\"],[0.4444444444444444,\"#bd3786\"],[0.5555555555555556,\"#d8576b\"],[0.6666666666666666,\"#ed7953\"],[0.7777777777777778,\"#fb9f3a\"],[0.8888888888888888,\"#fdca26\"],[1.0,\"#f0f921\"]]}],\"choropleth\":[{\"type\":\"choropleth\",\"colorbar\":{\"outlinewidth\":0,\"ticks\":\"\"}}],\"histogram2d\":[{\"type\":\"histogram2d\",\"colorbar\":{\"outlinewidth\":0,\"ticks\":\"\"},\"colorscale\":[[0.0,\"#0d0887\"],[0.1111111111111111,\"#46039f\"],[0.2222222222222222,\"#7201a8\"],[0.3333333333333333,\"#9c179e\"],[0.4444444444444444,\"#bd3786\"],[0.5555555555555556,\"#d8576b\"],[0.6666666666666666,\"#ed7953\"],[0.7777777777777778,\"#fb9f3a\"],[0.8888888888888888,\"#fdca26\"],[1.0,\"#f0f921\"]]}],\"heatmap\":[{\"type\":\"heatmap\",\"colorbar\":{\"outlinewidth\":0,\"ticks\":\"\"},\"colorscale\":[[0.0,\"#0d0887\"],[0.1111111111111111,\"#46039f\"],[0.2222222222222222,\"#7201a8\"],[0.3333333333333333,\"#9c179e\"],[0.4444444444444444,\"#bd3786\"],[0.5555555555555556,\"#d8576b\"],[0.6666666666666666,\"#ed7953\"],[0.7777777777777778,\"#fb9f3a\"],[0.8888888888888888,\"#fdca26\"],[1.0,\"#f0f921\"]]}],\"heatmapgl\":[{\"type\":\"heatmapgl\",\"colorbar\":{\"outlinewidth\":0,\"ticks\":\"\"},\"colorscale\":[[0.0,\"#0d0887\"],[0.1111111111111111,\"#46039f\"],[0.2222222222222222,\"#7201a8\"],[0.3333333333333333,\"#9c179e\"],[0.4444444444444444,\"#bd3786\"],[0.5555555555555556,\"#d8576b\"],[0.6666666666666666,\"#ed7953\"],[0.7777777777777778,\"#fb9f3a\"],[0.8888888888888888,\"#fdca26\"],[1.0,\"#f0f921\"]]}],\"contourcarpet\":[{\"type\":\"contourcarpet\",\"colorbar\":{\"outlinewidth\":0,\"ticks\":\"\"}}],\"contour\":[{\"type\":\"contour\",\"colorbar\":{\"outlinewidth\":0,\"ticks\":\"\"},\"colorscale\":[[0.0,\"#0d0887\"],[0.1111111111111111,\"#46039f\"],[0.2222222222222222,\"#7201a8\"],[0.3333333333333333,\"#9c179e\"],[0.4444444444444444,\"#bd3786\"],[0.5555555555555556,\"#d8576b\"],[0.6666666666666666,\"#ed7953\"],[0.7777777777777778,\"#fb9f3a\"],[0.8888888888888888,\"#fdca26\"],[1.0,\"#f0f921\"]]}],\"surface\":[{\"type\":\"surface\",\"colorbar\":{\"outlinewidth\":0,\"ticks\":\"\"},\"colorscale\":[[0.0,\"#0d0887\"],[0.1111111111111111,\"#46039f\"],[0.2222222222222222,\"#7201a8\"],[0.3333333333333333,\"#9c179e\"],[0.4444444444444444,\"#bd3786\"],[0.5555555555555556,\"#d8576b\"],[0.6666666666666666,\"#ed7953\"],[0.7777777777777778,\"#fb9f3a\"],[0.8888888888888888,\"#fdca26\"],[1.0,\"#f0f921\"]]}],\"mesh3d\":[{\"type\":\"mesh3d\",\"colorbar\":{\"outlinewidth\":0,\"ticks\":\"\"}}],\"scatter\":[{\"fillpattern\":{\"fillmode\":\"overlay\",\"size\":10,\"solidity\":0.2},\"type\":\"scatter\"}],\"parcoords\":[{\"type\":\"parcoords\",\"line\":{\"colorbar\":{\"outlinewidth\":0,\"ticks\":\"\"}}}],\"scatterpolargl\":[{\"type\":\"scatterpolargl\",\"marker\":{\"colorbar\":{\"outlinewidth\":0,\"ticks\":\"\"}}}],\"bar\":[{\"error_x\":{\"color\":\"#2a3f5f\"},\"error_y\":{\"color\":\"#2a3f5f\"},\"marker\":{\"line\":{\"color\":\"#E5ECF6\",\"width\":0.5},\"pattern\":{\"fillmode\":\"overlay\",\"size\":10,\"solidity\":0.2}},\"type\":\"bar\"}],\"scattergeo\":[{\"type\":\"scattergeo\",\"marker\":{\"colorbar\":{\"outlinewidth\":0,\"ticks\":\"\"}}}],\"scatterpolar\":[{\"type\":\"scatterpolar\",\"marker\":{\"colorbar\":{\"outlinewidth\":0,\"ticks\":\"\"}}}],\"histogram\":[{\"marker\":{\"pattern\":{\"fillmode\":\"overlay\",\"size\":10,\"solidity\":0.2}},\"type\":\"histogram\"}],\"scattergl\":[{\"type\":\"scattergl\",\"marker\":{\"colorbar\":{\"outlinewidth\":0,\"ticks\":\"\"}}}],\"scatter3d\":[{\"type\":\"scatter3d\",\"line\":{\"colorbar\":{\"outlinewidth\":0,\"ticks\":\"\"}},\"marker\":{\"colorbar\":{\"outlinewidth\":0,\"ticks\":\"\"}}}],\"scattermapbox\":[{\"type\":\"scattermapbox\",\"marker\":{\"colorbar\":{\"outlinewidth\":0,\"ticks\":\"\"}}}],\"scatterternary\":[{\"type\":\"scatterternary\",\"marker\":{\"colorbar\":{\"outlinewidth\":0,\"ticks\":\"\"}}}],\"scattercarpet\":[{\"type\":\"scattercarpet\",\"marker\":{\"colorbar\":{\"outlinewidth\":0,\"ticks\":\"\"}}}],\"carpet\":[{\"aaxis\":{\"endlinecolor\":\"#2a3f5f\",\"gridcolor\":\"white\",\"linecolor\":\"white\",\"minorgridcolor\":\"white\",\"startlinecolor\":\"#2a3f5f\"},\"baxis\":{\"endlinecolor\":\"#2a3f5f\",\"gridcolor\":\"white\",\"linecolor\":\"white\",\"minorgridcolor\":\"white\",\"startlinecolor\":\"#2a3f5f\"},\"type\":\"carpet\"}],\"table\":[{\"cells\":{\"fill\":{\"color\":\"#EBF0F8\"},\"line\":{\"color\":\"white\"}},\"header\":{\"fill\":{\"color\":\"#C8D4E3\"},\"line\":{\"color\":\"white\"}},\"type\":\"table\"}],\"barpolar\":[{\"marker\":{\"line\":{\"color\":\"#E5ECF6\",\"width\":0.5},\"pattern\":{\"fillmode\":\"overlay\",\"size\":10,\"solidity\":0.2}},\"type\":\"barpolar\"}],\"pie\":[{\"automargin\":true,\"type\":\"pie\"}]},\"layout\":{\"autotypenumbers\":\"strict\",\"colorway\":[\"#636efa\",\"#EF553B\",\"#00cc96\",\"#ab63fa\",\"#FFA15A\",\"#19d3f3\",\"#FF6692\",\"#B6E880\",\"#FF97FF\",\"#FECB52\"],\"font\":{\"color\":\"#2a3f5f\"},\"hovermode\":\"closest\",\"hoverlabel\":{\"align\":\"left\"},\"paper_bgcolor\":\"white\",\"plot_bgcolor\":\"#E5ECF6\",\"polar\":{\"bgcolor\":\"#E5ECF6\",\"angularaxis\":{\"gridcolor\":\"white\",\"linecolor\":\"white\",\"ticks\":\"\"},\"radialaxis\":{\"gridcolor\":\"white\",\"linecolor\":\"white\",\"ticks\":\"\"}},\"ternary\":{\"bgcolor\":\"#E5ECF6\",\"aaxis\":{\"gridcolor\":\"white\",\"linecolor\":\"white\",\"ticks\":\"\"},\"baxis\":{\"gridcolor\":\"white\",\"linecolor\":\"white\",\"ticks\":\"\"},\"caxis\":{\"gridcolor\":\"white\",\"linecolor\":\"white\",\"ticks\":\"\"}},\"coloraxis\":{\"colorbar\":{\"outlinewidth\":0,\"ticks\":\"\"}},\"colorscale\":{\"sequential\":[[0.0,\"#0d0887\"],[0.1111111111111111,\"#46039f\"],[0.2222222222222222,\"#7201a8\"],[0.3333333333333333,\"#9c179e\"],[0.4444444444444444,\"#bd3786\"],[0.5555555555555556,\"#d8576b\"],[0.6666666666666666,\"#ed7953\"],[0.7777777777777778,\"#fb9f3a\"],[0.8888888888888888,\"#fdca26\"],[1.0,\"#f0f921\"]],\"sequentialminus\":[[0.0,\"#0d0887\"],[0.1111111111111111,\"#46039f\"],[0.2222222222222222,\"#7201a8\"],[0.3333333333333333,\"#9c179e\"],[0.4444444444444444,\"#bd3786\"],[0.5555555555555556,\"#d8576b\"],[0.6666666666666666,\"#ed7953\"],[0.7777777777777778,\"#fb9f3a\"],[0.8888888888888888,\"#fdca26\"],[1.0,\"#f0f921\"]],\"diverging\":[[0,\"#8e0152\"],[0.1,\"#c51b7d\"],[0.2,\"#de77ae\"],[0.3,\"#f1b6da\"],[0.4,\"#fde0ef\"],[0.5,\"#f7f7f7\"],[0.6,\"#e6f5d0\"],[0.7,\"#b8e186\"],[0.8,\"#7fbc41\"],[0.9,\"#4d9221\"],[1,\"#276419\"]]},\"xaxis\":{\"gridcolor\":\"white\",\"linecolor\":\"white\",\"ticks\":\"\",\"title\":{\"standoff\":15},\"zerolinecolor\":\"white\",\"automargin\":true,\"zerolinewidth\":2},\"yaxis\":{\"gridcolor\":\"white\",\"linecolor\":\"white\",\"ticks\":\"\",\"title\":{\"standoff\":15},\"zerolinecolor\":\"white\",\"automargin\":true,\"zerolinewidth\":2},\"scene\":{\"xaxis\":{\"backgroundcolor\":\"#E5ECF6\",\"gridcolor\":\"white\",\"linecolor\":\"white\",\"showbackground\":true,\"ticks\":\"\",\"zerolinecolor\":\"white\",\"gridwidth\":2},\"yaxis\":{\"backgroundcolor\":\"#E5ECF6\",\"gridcolor\":\"white\",\"linecolor\":\"white\",\"showbackground\":true,\"ticks\":\"\",\"zerolinecolor\":\"white\",\"gridwidth\":2},\"zaxis\":{\"backgroundcolor\":\"#E5ECF6\",\"gridcolor\":\"white\",\"linecolor\":\"white\",\"showbackground\":true,\"ticks\":\"\",\"zerolinecolor\":\"white\",\"gridwidth\":2}},\"shapedefaults\":{\"line\":{\"color\":\"#2a3f5f\"}},\"annotationdefaults\":{\"arrowcolor\":\"#2a3f5f\",\"arrowhead\":0,\"arrowwidth\":1},\"geo\":{\"bgcolor\":\"white\",\"landcolor\":\"#E5ECF6\",\"subunitcolor\":\"white\",\"showland\":true,\"showlakes\":true,\"lakecolor\":\"white\"},\"title\":{\"x\":0.05},\"mapbox\":{\"style\":\"light\"}}}},                        {\"responsive\": true}                    ).then(function(){\n",
              "                            \n",
              "var gd = document.getElementById('ce98479e-c615-4e16-aafe-1d70aa026e37');\n",
              "var x = new MutationObserver(function (mutations, observer) {{\n",
              "        var display = window.getComputedStyle(gd).display;\n",
              "        if (!display || display === 'none') {{\n",
              "            console.log([gd, 'removed!']);\n",
              "            Plotly.purge(gd);\n",
              "            observer.disconnect();\n",
              "        }}\n",
              "}});\n",
              "\n",
              "// Listen for the removal of the full notebook cells\n",
              "var notebookContainer = gd.closest('#notebook-container');\n",
              "if (notebookContainer) {{\n",
              "    x.observe(notebookContainer, {childList: true});\n",
              "}}\n",
              "\n",
              "// Listen for the clearing of the current output cell\n",
              "var outputEl = gd.closest('.output');\n",
              "if (outputEl) {{\n",
              "    x.observe(outputEl, {childList: true});\n",
              "}}\n",
              "\n",
              "                        })                };                            </script>        </div>\n",
              "</body>\n",
              "</html>"
            ]
          },
          "metadata": {},
          "output_type": "display_data"
        }
      ],
      "source": [
        "fig = optuna.visualization.plot_optimization_history(study)\n",
        "fig.show()"
      ]
    },
    {
      "cell_type": "code",
      "execution_count": null,
      "metadata": {
        "colab": {
          "base_uri": "https://localhost:8080/",
          "height": 542
        },
        "id": "Pmgeeu5RftIb",
        "outputId": "fad270a5-ea4a-4bb7-f447-410ee572cb07"
      },
      "outputs": [
        {
          "data": {
            "text/html": [
              "<html>\n",
              "<head><meta charset=\"utf-8\" /></head>\n",
              "<body>\n",
              "    <div>            <script src=\"https://cdnjs.cloudflare.com/ajax/libs/mathjax/2.7.5/MathJax.js?config=TeX-AMS-MML_SVG\"></script><script type=\"text/javascript\">if (window.MathJax && window.MathJax.Hub && window.MathJax.Hub.Config) {window.MathJax.Hub.Config({SVG: {font: \"STIX-Web\"}});}</script>                <script type=\"text/javascript\">window.PlotlyConfig = {MathJaxConfig: 'local'};</script>\n",
              "        <script charset=\"utf-8\" src=\"https://cdn.plot.ly/plotly-2.24.1.min.js\"></script>                <div id=\"bfbe6a1b-f26e-4596-b655-c5c880ce7855\" class=\"plotly-graph-div\" style=\"height:525px; width:100%;\"></div>            <script type=\"text/javascript\">                                    window.PLOTLYENV=window.PLOTLYENV || {};                                    if (document.getElementById(\"bfbe6a1b-f26e-4596-b655-c5c880ce7855\")) {                    Plotly.newPlot(                        \"bfbe6a1b-f26e-4596-b655-c5c880ce7855\",                        [{\"cliponaxis\":false,\"hovertemplate\":[\"output_dim (CategoricalDistribution): 0.017646385050019982\\u003cextra\\u003e\\u003c\\u002fextra\\u003e\",\"batch_size (CategoricalDistribution): 0.36973380002233824\\u003cextra\\u003e\\u003c\\u002fextra\\u003e\",\"Network (CategoricalDistribution): 0.6126198149276418\\u003cextra\\u003e\\u003c\\u002fextra\\u003e\"],\"name\":\"Objective Value\",\"orientation\":\"h\",\"text\":[\"0.02\",\"0.37\",\"0.61\"],\"textposition\":\"outside\",\"x\":[0.017646385050019982,0.36973380002233824,0.6126198149276418],\"y\":[\"output_dim\",\"batch_size\",\"Network\"],\"type\":\"bar\"}],                        {\"title\":{\"text\":\"Hyperparameter Importances\"},\"xaxis\":{\"title\":{\"text\":\"Hyperparameter Importance\"}},\"yaxis\":{\"title\":{\"text\":\"Hyperparameter\"}},\"template\":{\"data\":{\"histogram2dcontour\":[{\"type\":\"histogram2dcontour\",\"colorbar\":{\"outlinewidth\":0,\"ticks\":\"\"},\"colorscale\":[[0.0,\"#0d0887\"],[0.1111111111111111,\"#46039f\"],[0.2222222222222222,\"#7201a8\"],[0.3333333333333333,\"#9c179e\"],[0.4444444444444444,\"#bd3786\"],[0.5555555555555556,\"#d8576b\"],[0.6666666666666666,\"#ed7953\"],[0.7777777777777778,\"#fb9f3a\"],[0.8888888888888888,\"#fdca26\"],[1.0,\"#f0f921\"]]}],\"choropleth\":[{\"type\":\"choropleth\",\"colorbar\":{\"outlinewidth\":0,\"ticks\":\"\"}}],\"histogram2d\":[{\"type\":\"histogram2d\",\"colorbar\":{\"outlinewidth\":0,\"ticks\":\"\"},\"colorscale\":[[0.0,\"#0d0887\"],[0.1111111111111111,\"#46039f\"],[0.2222222222222222,\"#7201a8\"],[0.3333333333333333,\"#9c179e\"],[0.4444444444444444,\"#bd3786\"],[0.5555555555555556,\"#d8576b\"],[0.6666666666666666,\"#ed7953\"],[0.7777777777777778,\"#fb9f3a\"],[0.8888888888888888,\"#fdca26\"],[1.0,\"#f0f921\"]]}],\"heatmap\":[{\"type\":\"heatmap\",\"colorbar\":{\"outlinewidth\":0,\"ticks\":\"\"},\"colorscale\":[[0.0,\"#0d0887\"],[0.1111111111111111,\"#46039f\"],[0.2222222222222222,\"#7201a8\"],[0.3333333333333333,\"#9c179e\"],[0.4444444444444444,\"#bd3786\"],[0.5555555555555556,\"#d8576b\"],[0.6666666666666666,\"#ed7953\"],[0.7777777777777778,\"#fb9f3a\"],[0.8888888888888888,\"#fdca26\"],[1.0,\"#f0f921\"]]}],\"heatmapgl\":[{\"type\":\"heatmapgl\",\"colorbar\":{\"outlinewidth\":0,\"ticks\":\"\"},\"colorscale\":[[0.0,\"#0d0887\"],[0.1111111111111111,\"#46039f\"],[0.2222222222222222,\"#7201a8\"],[0.3333333333333333,\"#9c179e\"],[0.4444444444444444,\"#bd3786\"],[0.5555555555555556,\"#d8576b\"],[0.6666666666666666,\"#ed7953\"],[0.7777777777777778,\"#fb9f3a\"],[0.8888888888888888,\"#fdca26\"],[1.0,\"#f0f921\"]]}],\"contourcarpet\":[{\"type\":\"contourcarpet\",\"colorbar\":{\"outlinewidth\":0,\"ticks\":\"\"}}],\"contour\":[{\"type\":\"contour\",\"colorbar\":{\"outlinewidth\":0,\"ticks\":\"\"},\"colorscale\":[[0.0,\"#0d0887\"],[0.1111111111111111,\"#46039f\"],[0.2222222222222222,\"#7201a8\"],[0.3333333333333333,\"#9c179e\"],[0.4444444444444444,\"#bd3786\"],[0.5555555555555556,\"#d8576b\"],[0.6666666666666666,\"#ed7953\"],[0.7777777777777778,\"#fb9f3a\"],[0.8888888888888888,\"#fdca26\"],[1.0,\"#f0f921\"]]}],\"surface\":[{\"type\":\"surface\",\"colorbar\":{\"outlinewidth\":0,\"ticks\":\"\"},\"colorscale\":[[0.0,\"#0d0887\"],[0.1111111111111111,\"#46039f\"],[0.2222222222222222,\"#7201a8\"],[0.3333333333333333,\"#9c179e\"],[0.4444444444444444,\"#bd3786\"],[0.5555555555555556,\"#d8576b\"],[0.6666666666666666,\"#ed7953\"],[0.7777777777777778,\"#fb9f3a\"],[0.8888888888888888,\"#fdca26\"],[1.0,\"#f0f921\"]]}],\"mesh3d\":[{\"type\":\"mesh3d\",\"colorbar\":{\"outlinewidth\":0,\"ticks\":\"\"}}],\"scatter\":[{\"fillpattern\":{\"fillmode\":\"overlay\",\"size\":10,\"solidity\":0.2},\"type\":\"scatter\"}],\"parcoords\":[{\"type\":\"parcoords\",\"line\":{\"colorbar\":{\"outlinewidth\":0,\"ticks\":\"\"}}}],\"scatterpolargl\":[{\"type\":\"scatterpolargl\",\"marker\":{\"colorbar\":{\"outlinewidth\":0,\"ticks\":\"\"}}}],\"bar\":[{\"error_x\":{\"color\":\"#2a3f5f\"},\"error_y\":{\"color\":\"#2a3f5f\"},\"marker\":{\"line\":{\"color\":\"#E5ECF6\",\"width\":0.5},\"pattern\":{\"fillmode\":\"overlay\",\"size\":10,\"solidity\":0.2}},\"type\":\"bar\"}],\"scattergeo\":[{\"type\":\"scattergeo\",\"marker\":{\"colorbar\":{\"outlinewidth\":0,\"ticks\":\"\"}}}],\"scatterpolar\":[{\"type\":\"scatterpolar\",\"marker\":{\"colorbar\":{\"outlinewidth\":0,\"ticks\":\"\"}}}],\"histogram\":[{\"marker\":{\"pattern\":{\"fillmode\":\"overlay\",\"size\":10,\"solidity\":0.2}},\"type\":\"histogram\"}],\"scattergl\":[{\"type\":\"scattergl\",\"marker\":{\"colorbar\":{\"outlinewidth\":0,\"ticks\":\"\"}}}],\"scatter3d\":[{\"type\":\"scatter3d\",\"line\":{\"colorbar\":{\"outlinewidth\":0,\"ticks\":\"\"}},\"marker\":{\"colorbar\":{\"outlinewidth\":0,\"ticks\":\"\"}}}],\"scattermapbox\":[{\"type\":\"scattermapbox\",\"marker\":{\"colorbar\":{\"outlinewidth\":0,\"ticks\":\"\"}}}],\"scatterternary\":[{\"type\":\"scatterternary\",\"marker\":{\"colorbar\":{\"outlinewidth\":0,\"ticks\":\"\"}}}],\"scattercarpet\":[{\"type\":\"scattercarpet\",\"marker\":{\"colorbar\":{\"outlinewidth\":0,\"ticks\":\"\"}}}],\"carpet\":[{\"aaxis\":{\"endlinecolor\":\"#2a3f5f\",\"gridcolor\":\"white\",\"linecolor\":\"white\",\"minorgridcolor\":\"white\",\"startlinecolor\":\"#2a3f5f\"},\"baxis\":{\"endlinecolor\":\"#2a3f5f\",\"gridcolor\":\"white\",\"linecolor\":\"white\",\"minorgridcolor\":\"white\",\"startlinecolor\":\"#2a3f5f\"},\"type\":\"carpet\"}],\"table\":[{\"cells\":{\"fill\":{\"color\":\"#EBF0F8\"},\"line\":{\"color\":\"white\"}},\"header\":{\"fill\":{\"color\":\"#C8D4E3\"},\"line\":{\"color\":\"white\"}},\"type\":\"table\"}],\"barpolar\":[{\"marker\":{\"line\":{\"color\":\"#E5ECF6\",\"width\":0.5},\"pattern\":{\"fillmode\":\"overlay\",\"size\":10,\"solidity\":0.2}},\"type\":\"barpolar\"}],\"pie\":[{\"automargin\":true,\"type\":\"pie\"}]},\"layout\":{\"autotypenumbers\":\"strict\",\"colorway\":[\"#636efa\",\"#EF553B\",\"#00cc96\",\"#ab63fa\",\"#FFA15A\",\"#19d3f3\",\"#FF6692\",\"#B6E880\",\"#FF97FF\",\"#FECB52\"],\"font\":{\"color\":\"#2a3f5f\"},\"hovermode\":\"closest\",\"hoverlabel\":{\"align\":\"left\"},\"paper_bgcolor\":\"white\",\"plot_bgcolor\":\"#E5ECF6\",\"polar\":{\"bgcolor\":\"#E5ECF6\",\"angularaxis\":{\"gridcolor\":\"white\",\"linecolor\":\"white\",\"ticks\":\"\"},\"radialaxis\":{\"gridcolor\":\"white\",\"linecolor\":\"white\",\"ticks\":\"\"}},\"ternary\":{\"bgcolor\":\"#E5ECF6\",\"aaxis\":{\"gridcolor\":\"white\",\"linecolor\":\"white\",\"ticks\":\"\"},\"baxis\":{\"gridcolor\":\"white\",\"linecolor\":\"white\",\"ticks\":\"\"},\"caxis\":{\"gridcolor\":\"white\",\"linecolor\":\"white\",\"ticks\":\"\"}},\"coloraxis\":{\"colorbar\":{\"outlinewidth\":0,\"ticks\":\"\"}},\"colorscale\":{\"sequential\":[[0.0,\"#0d0887\"],[0.1111111111111111,\"#46039f\"],[0.2222222222222222,\"#7201a8\"],[0.3333333333333333,\"#9c179e\"],[0.4444444444444444,\"#bd3786\"],[0.5555555555555556,\"#d8576b\"],[0.6666666666666666,\"#ed7953\"],[0.7777777777777778,\"#fb9f3a\"],[0.8888888888888888,\"#fdca26\"],[1.0,\"#f0f921\"]],\"sequentialminus\":[[0.0,\"#0d0887\"],[0.1111111111111111,\"#46039f\"],[0.2222222222222222,\"#7201a8\"],[0.3333333333333333,\"#9c179e\"],[0.4444444444444444,\"#bd3786\"],[0.5555555555555556,\"#d8576b\"],[0.6666666666666666,\"#ed7953\"],[0.7777777777777778,\"#fb9f3a\"],[0.8888888888888888,\"#fdca26\"],[1.0,\"#f0f921\"]],\"diverging\":[[0,\"#8e0152\"],[0.1,\"#c51b7d\"],[0.2,\"#de77ae\"],[0.3,\"#f1b6da\"],[0.4,\"#fde0ef\"],[0.5,\"#f7f7f7\"],[0.6,\"#e6f5d0\"],[0.7,\"#b8e186\"],[0.8,\"#7fbc41\"],[0.9,\"#4d9221\"],[1,\"#276419\"]]},\"xaxis\":{\"gridcolor\":\"white\",\"linecolor\":\"white\",\"ticks\":\"\",\"title\":{\"standoff\":15},\"zerolinecolor\":\"white\",\"automargin\":true,\"zerolinewidth\":2},\"yaxis\":{\"gridcolor\":\"white\",\"linecolor\":\"white\",\"ticks\":\"\",\"title\":{\"standoff\":15},\"zerolinecolor\":\"white\",\"automargin\":true,\"zerolinewidth\":2},\"scene\":{\"xaxis\":{\"backgroundcolor\":\"#E5ECF6\",\"gridcolor\":\"white\",\"linecolor\":\"white\",\"showbackground\":true,\"ticks\":\"\",\"zerolinecolor\":\"white\",\"gridwidth\":2},\"yaxis\":{\"backgroundcolor\":\"#E5ECF6\",\"gridcolor\":\"white\",\"linecolor\":\"white\",\"showbackground\":true,\"ticks\":\"\",\"zerolinecolor\":\"white\",\"gridwidth\":2},\"zaxis\":{\"backgroundcolor\":\"#E5ECF6\",\"gridcolor\":\"white\",\"linecolor\":\"white\",\"showbackground\":true,\"ticks\":\"\",\"zerolinecolor\":\"white\",\"gridwidth\":2}},\"shapedefaults\":{\"line\":{\"color\":\"#2a3f5f\"}},\"annotationdefaults\":{\"arrowcolor\":\"#2a3f5f\",\"arrowhead\":0,\"arrowwidth\":1},\"geo\":{\"bgcolor\":\"white\",\"landcolor\":\"#E5ECF6\",\"subunitcolor\":\"white\",\"showland\":true,\"showlakes\":true,\"lakecolor\":\"white\"},\"title\":{\"x\":0.05},\"mapbox\":{\"style\":\"light\"}}}},                        {\"responsive\": true}                    ).then(function(){\n",
              "                            \n",
              "var gd = document.getElementById('bfbe6a1b-f26e-4596-b655-c5c880ce7855');\n",
              "var x = new MutationObserver(function (mutations, observer) {{\n",
              "        var display = window.getComputedStyle(gd).display;\n",
              "        if (!display || display === 'none') {{\n",
              "            console.log([gd, 'removed!']);\n",
              "            Plotly.purge(gd);\n",
              "            observer.disconnect();\n",
              "        }}\n",
              "}});\n",
              "\n",
              "// Listen for the removal of the full notebook cells\n",
              "var notebookContainer = gd.closest('#notebook-container');\n",
              "if (notebookContainer) {{\n",
              "    x.observe(notebookContainer, {childList: true});\n",
              "}}\n",
              "\n",
              "// Listen for the clearing of the current output cell\n",
              "var outputEl = gd.closest('.output');\n",
              "if (outputEl) {{\n",
              "    x.observe(outputEl, {childList: true});\n",
              "}}\n",
              "\n",
              "                        })                };                            </script>        </div>\n",
              "</body>\n",
              "</html>"
            ]
          },
          "metadata": {},
          "output_type": "display_data"
        }
      ],
      "source": [
        "optuna.visualization.plot_parallel_coordinate(study, params=['output_dim', 'Network', \"batch_size\"])\n",
        "optuna.visualization.plot_param_importances(study)"
      ]
    },
    {
      "cell_type": "markdown",
      "metadata": {
        "id": "JMzws5s4gQ9-"
      },
      "source": [
        "# Build best model :"
      ]
    },
    {
      "cell_type": "code",
      "execution_count": null,
      "metadata": {
        "colab": {
          "base_uri": "https://localhost:8080/"
        },
        "id": "4HcVnMKjf05R",
        "outputId": "65535332-9f48-4200-f5c9-524826e14942"
      },
      "outputs": [
        {
          "name": "stdout",
          "output_type": "stream",
          "text": [
            "Best hyperparameters:  {'output_dim': 64, 'Network': 'SimpleRNN', 'batch_size': 512}\n"
          ]
        }
      ],
      "source": [
        "print(\"Best hyperparameters: \", study.best_params)\n"
      ]
    },
    {
      "cell_type": "code",
      "execution_count": null,
      "metadata": {
        "id": "L0Sm0cmKf5Yc"
      },
      "outputs": [],
      "source": [
        "input_dim = len(tokenizer.word_index) + 1  # Vocabulary size\n",
        "output_dim = 64   # Embedding dimension\n",
        "batch_size = 512\n",
        "network = SimpleRNN\n",
        "\n",
        "model = build_rnn_model(input_dim, output_dim, input_length=None, rnn_units=rnn_units, network=network)\n"
      ]
    },
    {
      "cell_type": "code",
      "execution_count": null,
      "metadata": {
        "colab": {
          "base_uri": "https://localhost:8080/"
        },
        "id": "ZXwNKCEFg78G",
        "outputId": "ebefc399-646f-4167-c58e-6b14f2268713"
      },
      "outputs": [
        {
          "name": "stdout",
          "output_type": "stream",
          "text": [
            "Epoch 1/20\n",
            "231/231 [==============================] - 16s 54ms/step - loss: 1.4564 - accuracy: 0.3897 - f1_score: 0.1133 - categorical_crossentropy_loss: 1.4564 - val_loss: 1.4427 - val_accuracy: 0.3789 - val_f1_score: 0.1099 - val_categorical_crossentropy_loss: 1.4427\n",
            "Epoch 2/20\n",
            "231/231 [==============================] - 11s 49ms/step - loss: 1.4277 - accuracy: 0.3888 - f1_score: 0.1394 - categorical_crossentropy_loss: 1.4277 - val_loss: 1.4221 - val_accuracy: 0.3789 - val_f1_score: 0.1099 - val_categorical_crossentropy_loss: 1.4221\n",
            "Epoch 3/20\n",
            "231/231 [==============================] - 9s 40ms/step - loss: 1.3721 - accuracy: 0.3897 - f1_score: 0.1835 - categorical_crossentropy_loss: 1.3721 - val_loss: 1.3847 - val_accuracy: 0.3945 - val_f1_score: 0.2401 - val_categorical_crossentropy_loss: 1.3847\n",
            "Epoch 4/20\n",
            "231/231 [==============================] - 12s 50ms/step - loss: 1.3496 - accuracy: 0.4084 - f1_score: 0.2230 - categorical_crossentropy_loss: 1.3496 - val_loss: 1.3772 - val_accuracy: 0.4121 - val_f1_score: 0.1717 - val_categorical_crossentropy_loss: 1.3772\n",
            "Epoch 5/20\n",
            "231/231 [==============================] - 11s 49ms/step - loss: 1.3095 - accuracy: 0.4319 - f1_score: 0.2654 - categorical_crossentropy_loss: 1.3095 - val_loss: 1.2861 - val_accuracy: 0.4453 - val_f1_score: 0.2951 - val_categorical_crossentropy_loss: 1.2861\n",
            "Epoch 6/20\n",
            "231/231 [==============================] - 12s 51ms/step - loss: 1.2875 - accuracy: 0.4434 - f1_score: 0.2943 - categorical_crossentropy_loss: 1.2875 - val_loss: 1.2869 - val_accuracy: 0.4590 - val_f1_score: 0.2960 - val_categorical_crossentropy_loss: 1.2869\n",
            "Epoch 7/20\n",
            "231/231 [==============================] - 10s 42ms/step - loss: 1.2809 - accuracy: 0.4467 - f1_score: 0.2997 - categorical_crossentropy_loss: 1.2809 - val_loss: 1.2798 - val_accuracy: 0.4395 - val_f1_score: 0.2818 - val_categorical_crossentropy_loss: 1.2798\n",
            "Epoch 8/20\n",
            "231/231 [==============================] - 11s 47ms/step - loss: 1.2750 - accuracy: 0.4482 - f1_score: 0.3049 - categorical_crossentropy_loss: 1.2750 - val_loss: 1.2773 - val_accuracy: 0.4590 - val_f1_score: 0.2867 - val_categorical_crossentropy_loss: 1.2773\n",
            "Epoch 9/20\n",
            "231/231 [==============================] - 12s 50ms/step - loss: 1.2667 - accuracy: 0.4506 - f1_score: 0.3211 - categorical_crossentropy_loss: 1.2667 - val_loss: 1.2713 - val_accuracy: 0.4395 - val_f1_score: 0.2605 - val_categorical_crossentropy_loss: 1.2713\n",
            "Epoch 10/20\n",
            "231/231 [==============================] - 11s 49ms/step - loss: 1.2656 - accuracy: 0.4509 - f1_score: 0.3267 - categorical_crossentropy_loss: 1.2656 - val_loss: 1.2965 - val_accuracy: 0.4512 - val_f1_score: 0.2936 - val_categorical_crossentropy_loss: 1.2965\n",
            "Epoch 11/20\n",
            "231/231 [==============================] - 10s 45ms/step - loss: 1.2620 - accuracy: 0.4514 - f1_score: 0.3299 - categorical_crossentropy_loss: 1.2620 - val_loss: 1.2644 - val_accuracy: 0.4434 - val_f1_score: 0.2893 - val_categorical_crossentropy_loss: 1.2644\n",
            "Epoch 12/20\n",
            "231/231 [==============================] - 10s 45ms/step - loss: 1.2604 - accuracy: 0.4517 - f1_score: 0.3311 - categorical_crossentropy_loss: 1.2604 - val_loss: 1.2658 - val_accuracy: 0.4395 - val_f1_score: 0.2917 - val_categorical_crossentropy_loss: 1.2658\n",
            "Epoch 13/20\n",
            "231/231 [==============================] - 12s 50ms/step - loss: 1.2580 - accuracy: 0.4528 - f1_score: 0.3315 - categorical_crossentropy_loss: 1.2580 - val_loss: 1.2798 - val_accuracy: 0.4570 - val_f1_score: 0.3241 - val_categorical_crossentropy_loss: 1.2798\n",
            "Epoch 14/20\n",
            "231/231 [==============================] - 12s 51ms/step - loss: 1.2559 - accuracy: 0.4546 - f1_score: 0.3374 - categorical_crossentropy_loss: 1.2559 - val_loss: 1.2619 - val_accuracy: 0.4355 - val_f1_score: 0.2536 - val_categorical_crossentropy_loss: 1.2619\n",
            "Epoch 15/20\n",
            "231/231 [==============================] - 11s 47ms/step - loss: 1.2531 - accuracy: 0.4546 - f1_score: 0.3348 - categorical_crossentropy_loss: 1.2531 - val_loss: 1.2662 - val_accuracy: 0.4355 - val_f1_score: 0.2869 - val_categorical_crossentropy_loss: 1.2662\n",
            "Epoch 16/20\n",
            "231/231 [==============================] - 10s 43ms/step - loss: 1.2536 - accuracy: 0.4548 - f1_score: 0.3341 - categorical_crossentropy_loss: 1.2536 - val_loss: 1.2730 - val_accuracy: 0.4434 - val_f1_score: 0.3169 - val_categorical_crossentropy_loss: 1.2730\n",
            "Epoch 17/20\n",
            "231/231 [==============================] - 12s 51ms/step - loss: 1.2527 - accuracy: 0.4545 - f1_score: 0.3349 - categorical_crossentropy_loss: 1.2527 - val_loss: 1.2674 - val_accuracy: 0.4297 - val_f1_score: 0.2922 - val_categorical_crossentropy_loss: 1.2674\n",
            "Epoch 18/20\n",
            "231/231 [==============================] - 11s 50ms/step - loss: 1.2505 - accuracy: 0.4561 - f1_score: 0.3352 - categorical_crossentropy_loss: 1.2505 - val_loss: 1.2611 - val_accuracy: 0.4434 - val_f1_score: 0.2592 - val_categorical_crossentropy_loss: 1.2611\n",
            "Epoch 19/20\n",
            "231/231 [==============================] - 12s 51ms/step - loss: 1.2509 - accuracy: 0.4555 - f1_score: 0.3350 - categorical_crossentropy_loss: 1.2509 - val_loss: 1.2645 - val_accuracy: 0.4551 - val_f1_score: 0.3076 - val_categorical_crossentropy_loss: 1.2645\n",
            "Epoch 20/20\n",
            "231/231 [==============================] - 9s 41ms/step - loss: 1.2490 - accuracy: 0.4555 - f1_score: 0.3371 - categorical_crossentropy_loss: 1.2490 - val_loss: 1.2527 - val_accuracy: 0.4414 - val_f1_score: 0.2789 - val_categorical_crossentropy_loss: 1.2527\n"
          ]
        }
      ],
      "source": [
        "history = model.fit(train_seq_pad, y_train_categorical, epochs=20, batch_size=batch_size, validation_data=(val_seq_pad, y_val_categorical), validation_steps=1)"
      ]
    },
    {
      "cell_type": "code",
      "execution_count": null,
      "metadata": {
        "colab": {
          "base_uri": "https://localhost:8080/"
        },
        "id": "lleQpfVbhKik",
        "outputId": "715307bf-1951-4db3-ff12-d4d71e8b0b51"
      },
      "outputs": [
        {
          "name": "stdout",
          "output_type": "stream",
          "text": [
            "462/462 [==============================] - 4s 8ms/step\n"
          ]
        }
      ],
      "source": [
        "val_pred = model.predict(val_seq_pad)\n",
        "C_report = classification_report(np.argmax(y_val_categorical, axis=1), np.argmax(val_pred, axis=1))"
      ]
    },
    {
      "cell_type": "code",
      "execution_count": null,
      "metadata": {
        "colab": {
          "base_uri": "https://localhost:8080/"
        },
        "id": "6fZnvDhQi5CS",
        "outputId": "fcaaef56-82ba-4de7-bd32-d8db05daff6d"
      },
      "outputs": [
        {
          "name": "stdout",
          "output_type": "stream",
          "text": [
            "              precision    recall  f1-score   support\n",
            "\n",
            "           0       0.47      0.83      0.60      5763\n",
            "           1       0.50      0.35      0.42      2761\n",
            "           2       0.38      0.25      0.30      3650\n",
            "           3       0.48      0.07      0.12      1154\n",
            "           4       0.65      0.07      0.13      1444\n",
            "\n",
            "    accuracy                           0.46     14772\n",
            "   macro avg       0.50      0.31      0.31     14772\n",
            "weighted avg       0.47      0.46      0.41     14772\n",
            "\n"
          ]
        }
      ],
      "source": [
        "print(C_report)"
      ]
    },
    {
      "cell_type": "markdown",
      "metadata": {
        "id": "90kV0HGEkq2j"
      },
      "source": [
        "# Still bad results, Let's Use weighted loss to improve problem of imbalanced data :"
      ]
    },
    {
      "cell_type": "code",
      "execution_count": 4,
      "metadata": {
        "colab": {
          "base_uri": "https://localhost:8080/"
        },
        "id": "NaTYDL_Ui-sY",
        "outputId": "1047ce12-b9ce-4c2b-a4e9-70f1396fdf3b"
      },
      "outputs": [
        {
          "data": {
            "text/plain": [
              "{0: 0.5126114207638423,\n",
              " 1: 1.0697927039015118,\n",
              " 2: 0.8094797767046816,\n",
              " 3: 2.560502654100314,\n",
              " 4: 2.0469385987702435}"
            ]
          },
          "execution_count": 4,
          "metadata": {},
          "output_type": "execute_result"
        }
      ],
      "source": [
        "class_weights = compute_class_weight(class_weight=\"balanced\", classes=np.unique(y_train), y=y_train)\n",
        "class_weight = {i: weight for i, weight in enumerate(class_weights)}\n",
        "class_weight"
      ]
    },
    {
      "cell_type": "code",
      "execution_count": null,
      "metadata": {
        "id": "oU8lYoycU5rz",
        "outputId": "fa70c76b-865e-4eb2-f071-5182a68ddd3b"
      },
      "outputs": [
        {
          "data": {
            "text/html": [
              "<pre style=\"white-space:pre;overflow-x:auto;line-height:normal;font-family:Menlo,'DejaVu Sans Mono',consolas,'Courier New',monospace\"><span style=\"font-weight: bold\">Model: \"sequential_1\"</span>\n",
              "</pre>\n"
            ],
            "text/plain": [
              "\u001b[1mModel: \"sequential_1\"\u001b[0m\n"
            ]
          },
          "metadata": {},
          "output_type": "display_data"
        },
        {
          "data": {
            "text/html": [
              "<pre style=\"white-space:pre;overflow-x:auto;line-height:normal;font-family:Menlo,'DejaVu Sans Mono',consolas,'Courier New',monospace\">┏━━━━━━━━━━━━━━━━━━━━━━━━━━━━━━━━━┳━━━━━━━━━━━━━━━━━━━━━━━━┳━━━━━━━━━━━━━━━┓\n",
              "┃<span style=\"font-weight: bold\"> Layer (type)                    </span>┃<span style=\"font-weight: bold\"> Output Shape           </span>┃<span style=\"font-weight: bold\">       Param # </span>┃\n",
              "┡━━━━━━━━━━━━━━━━━━━━━━━━━━━━━━━━━╇━━━━━━━━━━━━━━━━━━━━━━━━╇━━━━━━━━━━━━━━━┩\n",
              "│ embedding_1 (<span style=\"color: #0087ff; text-decoration-color: #0087ff\">Embedding</span>)         │ ?                      │   <span style=\"color: #00af00; text-decoration-color: #00af00\">0</span> (unbuilt) │\n",
              "├─────────────────────────────────┼────────────────────────┼───────────────┤\n",
              "│ simple_rnn_1 (<span style=\"color: #0087ff; text-decoration-color: #0087ff\">SimpleRNN</span>)        │ ?                      │   <span style=\"color: #00af00; text-decoration-color: #00af00\">0</span> (unbuilt) │\n",
              "├─────────────────────────────────┼────────────────────────┼───────────────┤\n",
              "│ dense_3 (<span style=\"color: #0087ff; text-decoration-color: #0087ff\">Dense</span>)                 │ ?                      │   <span style=\"color: #00af00; text-decoration-color: #00af00\">0</span> (unbuilt) │\n",
              "├─────────────────────────────────┼────────────────────────┼───────────────┤\n",
              "│ dense_4 (<span style=\"color: #0087ff; text-decoration-color: #0087ff\">Dense</span>)                 │ ?                      │   <span style=\"color: #00af00; text-decoration-color: #00af00\">0</span> (unbuilt) │\n",
              "├─────────────────────────────────┼────────────────────────┼───────────────┤\n",
              "│ dense_5 (<span style=\"color: #0087ff; text-decoration-color: #0087ff\">Dense</span>)                 │ ?                      │   <span style=\"color: #00af00; text-decoration-color: #00af00\">0</span> (unbuilt) │\n",
              "└─────────────────────────────────┴────────────────────────┴───────────────┘\n",
              "</pre>\n"
            ],
            "text/plain": [
              "┏━━━━━━━━━━━━━━━━━━━━━━━━━━━━━━━━━┳━━━━━━━━━━━━━━━━━━━━━━━━┳━━━━━━━━━━━━━━━┓\n",
              "┃\u001b[1m \u001b[0m\u001b[1mLayer (type)                   \u001b[0m\u001b[1m \u001b[0m┃\u001b[1m \u001b[0m\u001b[1mOutput Shape          \u001b[0m\u001b[1m \u001b[0m┃\u001b[1m \u001b[0m\u001b[1m      Param #\u001b[0m\u001b[1m \u001b[0m┃\n",
              "┡━━━━━━━━━━━━━━━━━━━━━━━━━━━━━━━━━╇━━━━━━━━━━━━━━━━━━━━━━━━╇━━━━━━━━━━━━━━━┩\n",
              "│ embedding_1 (\u001b[38;5;33mEmbedding\u001b[0m)         │ ?                      │   \u001b[38;5;34m0\u001b[0m (unbuilt) │\n",
              "├─────────────────────────────────┼────────────────────────┼───────────────┤\n",
              "│ simple_rnn_1 (\u001b[38;5;33mSimpleRNN\u001b[0m)        │ ?                      │   \u001b[38;5;34m0\u001b[0m (unbuilt) │\n",
              "├─────────────────────────────────┼────────────────────────┼───────────────┤\n",
              "│ dense_3 (\u001b[38;5;33mDense\u001b[0m)                 │ ?                      │   \u001b[38;5;34m0\u001b[0m (unbuilt) │\n",
              "├─────────────────────────────────┼────────────────────────┼───────────────┤\n",
              "│ dense_4 (\u001b[38;5;33mDense\u001b[0m)                 │ ?                      │   \u001b[38;5;34m0\u001b[0m (unbuilt) │\n",
              "├─────────────────────────────────┼────────────────────────┼───────────────┤\n",
              "│ dense_5 (\u001b[38;5;33mDense\u001b[0m)                 │ ?                      │   \u001b[38;5;34m0\u001b[0m (unbuilt) │\n",
              "└─────────────────────────────────┴────────────────────────┴───────────────┘\n"
            ]
          },
          "metadata": {},
          "output_type": "display_data"
        },
        {
          "data": {
            "text/html": [
              "<pre style=\"white-space:pre;overflow-x:auto;line-height:normal;font-family:Menlo,'DejaVu Sans Mono',consolas,'Courier New',monospace\"><span style=\"font-weight: bold\"> Total params: </span><span style=\"color: #00af00; text-decoration-color: #00af00\">0</span> (0.00 B)\n",
              "</pre>\n"
            ],
            "text/plain": [
              "\u001b[1m Total params: \u001b[0m\u001b[38;5;34m0\u001b[0m (0.00 B)\n"
            ]
          },
          "metadata": {},
          "output_type": "display_data"
        },
        {
          "data": {
            "text/html": [
              "<pre style=\"white-space:pre;overflow-x:auto;line-height:normal;font-family:Menlo,'DejaVu Sans Mono',consolas,'Courier New',monospace\"><span style=\"font-weight: bold\"> Trainable params: </span><span style=\"color: #00af00; text-decoration-color: #00af00\">0</span> (0.00 B)\n",
              "</pre>\n"
            ],
            "text/plain": [
              "\u001b[1m Trainable params: \u001b[0m\u001b[38;5;34m0\u001b[0m (0.00 B)\n"
            ]
          },
          "metadata": {},
          "output_type": "display_data"
        },
        {
          "data": {
            "text/html": [
              "<pre style=\"white-space:pre;overflow-x:auto;line-height:normal;font-family:Menlo,'DejaVu Sans Mono',consolas,'Courier New',monospace\"><span style=\"font-weight: bold\"> Non-trainable params: </span><span style=\"color: #00af00; text-decoration-color: #00af00\">0</span> (0.00 B)\n",
              "</pre>\n"
            ],
            "text/plain": [
              "\u001b[1m Non-trainable params: \u001b[0m\u001b[38;5;34m0\u001b[0m (0.00 B)\n"
            ]
          },
          "metadata": {},
          "output_type": "display_data"
        },
        {
          "name": "stdout",
          "output_type": "stream",
          "text": [
            "Epoch 1/20\n",
            "\u001b[1m 10/116\u001b[0m \u001b[32m━\u001b[0m\u001b[37m━━━━━━━━━━━━━━━━━━━\u001b[0m \u001b[1m1s\u001b[0m 13ms/step - accuracy: 0.1701 - loss: 1.6047"
          ]
        },
        {
          "name": "stderr",
          "output_type": "stream",
          "text": [
            "WARNING: All log messages before absl::InitializeLog() is called are written to STDERR\n",
            "I0000 00:00:1716683348.565727   11724 device_compiler.h:186] Compiled cluster using XLA!  This line is logged at most once for the lifetime of the process.\n",
            "W0000 00:00:1716683348.583378   11724 graph_launch.cc:671] Fallback to op-by-op mode because memset node breaks graph update\n",
            "W0000 00:00:1716683348.587217   11724 graph_launch.cc:671] Fallback to op-by-op mode because memset node breaks graph update\n"
          ]
        },
        {
          "name": "stdout",
          "output_type": "stream",
          "text": [
            "\u001b[1m116/116\u001b[0m \u001b[32m━━━━━━━━━━━━━━━━━━━━\u001b[0m\u001b[37m\u001b[0m \u001b[1m9s\u001b[0m 36ms/step - accuracy: 0.2703 - loss: 1.5513 - val_accuracy: 0.4092 - val_loss: 1.4088\n",
            "Epoch 2/20\n",
            "\u001b[1m  7/116\u001b[0m \u001b[32m━\u001b[0m\u001b[37m━━━━━━━━━━━━━━━━━━━\u001b[0m \u001b[1m2s\u001b[0m 19ms/step - accuracy: 0.4007 - loss: 1.4072"
          ]
        },
        {
          "name": "stderr",
          "output_type": "stream",
          "text": [
            "W0000 00:00:1716683352.767665   11723 graph_launch.cc:671] Fallback to op-by-op mode because memset node breaks graph update\n"
          ]
        },
        {
          "name": "stdout",
          "output_type": "stream",
          "text": [
            "\u001b[1m116/116\u001b[0m \u001b[32m━━━━━━━━━━━━━━━━━━━━\u001b[0m\u001b[37m\u001b[0m \u001b[1m2s\u001b[0m 13ms/step - accuracy: 0.4034 - loss: 1.3999 - val_accuracy: 0.3945 - val_loss: 1.3885\n",
            "Epoch 3/20\n",
            "\u001b[1m116/116\u001b[0m \u001b[32m━━━━━━━━━━━━━━━━━━━━\u001b[0m\u001b[37m\u001b[0m \u001b[1m1s\u001b[0m 12ms/step - accuracy: 0.4068 - loss: 1.3800 - val_accuracy: 0.3906 - val_loss: 1.3820\n",
            "Epoch 4/20\n",
            "\u001b[1m116/116\u001b[0m \u001b[32m━━━━━━━━━━━━━━━━━━━━\u001b[0m\u001b[37m\u001b[0m \u001b[1m1s\u001b[0m 12ms/step - accuracy: 0.3994 - loss: 1.3680 - val_accuracy: 0.4492 - val_loss: 1.2931\n",
            "Epoch 5/20\n",
            "\u001b[1m116/116\u001b[0m \u001b[32m━━━━━━━━━━━━━━━━━━━━\u001b[0m\u001b[37m\u001b[0m \u001b[1m1s\u001b[0m 12ms/step - accuracy: 0.4044 - loss: 1.3617 - val_accuracy: 0.4121 - val_loss: 1.3237\n",
            "Epoch 6/20\n",
            "\u001b[1m116/116\u001b[0m \u001b[32m━━━━━━━━━━━━━━━━━━━━\u001b[0m\u001b[37m\u001b[0m \u001b[1m1s\u001b[0m 12ms/step - accuracy: 0.4090 - loss: 1.3528 - val_accuracy: 0.4121 - val_loss: 1.3487\n",
            "Epoch 7/20\n",
            "\u001b[1m116/116\u001b[0m \u001b[32m━━━━━━━━━━━━━━━━━━━━\u001b[0m\u001b[37m\u001b[0m \u001b[1m1s\u001b[0m 12ms/step - accuracy: 0.4054 - loss: 1.3510 - val_accuracy: 0.4131 - val_loss: 1.3189\n",
            "Epoch 8/20\n",
            "\u001b[1m116/116\u001b[0m \u001b[32m━━━━━━━━━━━━━━━━━━━━\u001b[0m\u001b[37m\u001b[0m \u001b[1m1s\u001b[0m 12ms/step - accuracy: 0.4083 - loss: 1.3445 - val_accuracy: 0.3838 - val_loss: 1.3701\n",
            "Epoch 9/20\n",
            "\u001b[1m116/116\u001b[0m \u001b[32m━━━━━━━━━━━━━━━━━━━━\u001b[0m\u001b[37m\u001b[0m \u001b[1m1s\u001b[0m 12ms/step - accuracy: 0.4072 - loss: 1.3439 - val_accuracy: 0.3516 - val_loss: 1.4394\n",
            "Epoch 10/20\n",
            "\u001b[1m116/116\u001b[0m \u001b[32m━━━━━━━━━━━━━━━━━━━━\u001b[0m\u001b[37m\u001b[0m \u001b[1m1s\u001b[0m 12ms/step - accuracy: 0.4042 - loss: 1.3433 - val_accuracy: 0.4229 - val_loss: 1.3123\n",
            "Epoch 11/20\n",
            "\u001b[1m116/116\u001b[0m \u001b[32m━━━━━━━━━━━━━━━━━━━━\u001b[0m\u001b[37m\u001b[0m \u001b[1m1s\u001b[0m 12ms/step - accuracy: 0.4171 - loss: 1.3282 - val_accuracy: 0.3906 - val_loss: 1.3438\n",
            "Epoch 12/20\n",
            "\u001b[1m116/116\u001b[0m \u001b[32m━━━━━━━━━━━━━━━━━━━━\u001b[0m\u001b[37m\u001b[0m \u001b[1m1s\u001b[0m 12ms/step - accuracy: 0.4159 - loss: 1.3223 - val_accuracy: 0.4043 - val_loss: 1.3225\n",
            "Epoch 13/20\n",
            "\u001b[1m116/116\u001b[0m \u001b[32m━━━━━━━━━━━━━━━━━━━━\u001b[0m\u001b[37m\u001b[0m \u001b[1m1s\u001b[0m 12ms/step - accuracy: 0.4169 - loss: 1.3150 - val_accuracy: 0.4707 - val_loss: 1.2503\n",
            "Epoch 14/20\n",
            "\u001b[1m116/116\u001b[0m \u001b[32m━━━━━━━━━━━━━━━━━━━━\u001b[0m\u001b[37m\u001b[0m \u001b[1m1s\u001b[0m 12ms/step - accuracy: 0.4231 - loss: 1.3178 - val_accuracy: 0.4082 - val_loss: 1.3095\n",
            "Epoch 15/20\n",
            "\u001b[1m116/116\u001b[0m \u001b[32m━━━━━━━━━━━━━━━━━━━━\u001b[0m\u001b[37m\u001b[0m \u001b[1m2s\u001b[0m 17ms/step - accuracy: 0.4261 - loss: 1.3027 - val_accuracy: 0.4243 - val_loss: 1.3449\n",
            "Epoch 16/20\n",
            "\u001b[1m116/116\u001b[0m \u001b[32m━━━━━━━━━━━━━━━━━━━━\u001b[0m\u001b[37m\u001b[0m \u001b[1m1s\u001b[0m 12ms/step - accuracy: 0.4194 - loss: 1.3070 - val_accuracy: 0.0000e+00 - val_loss: 0.0000e+00\n",
            "Epoch 17/20\n",
            "\u001b[1m 11/116\u001b[0m \u001b[32m━\u001b[0m\u001b[37m━━━━━━━━━━━━━━━━━━━\u001b[0m \u001b[1m1s\u001b[0m 12ms/step - accuracy: 0.4040 - loss: 1.3155"
          ]
        },
        {
          "name": "stderr",
          "output_type": "stream",
          "text": [
            "/opt/conda/lib/python3.10/contextlib.py:153: UserWarning: Your input ran out of data; interrupting training. Make sure that your dataset or generator can generate at least `steps_per_epoch * epochs` batches. You may need to use the `.repeat()` function when building your dataset.\n",
            "  self.gen.throw(typ, value, traceback)\n"
          ]
        },
        {
          "name": "stdout",
          "output_type": "stream",
          "text": [
            "\u001b[1m116/116\u001b[0m \u001b[32m━━━━━━━━━━━━━━━━━━━━\u001b[0m\u001b[37m\u001b[0m \u001b[1m1s\u001b[0m 12ms/step - accuracy: 0.4193 - loss: 1.3081 - val_accuracy: 0.4180 - val_loss: 1.3015\n",
            "Epoch 18/20\n",
            "\u001b[1m116/116\u001b[0m \u001b[32m━━━━━━━━━━━━━━━━━━━━\u001b[0m\u001b[37m\u001b[0m \u001b[1m1s\u001b[0m 12ms/step - accuracy: 0.4199 - loss: 1.3019 - val_accuracy: 0.4434 - val_loss: 1.3242\n",
            "Epoch 19/20\n",
            "\u001b[1m116/116\u001b[0m \u001b[32m━━━━━━━━━━━━━━━━━━━━\u001b[0m\u001b[37m\u001b[0m \u001b[1m1s\u001b[0m 12ms/step - accuracy: 0.4258 - loss: 1.2929 - val_accuracy: 0.4082 - val_loss: 1.3089\n",
            "Epoch 20/20\n",
            "\u001b[1m116/116\u001b[0m \u001b[32m━━━━━━━━━━━━━━━━━━━━\u001b[0m\u001b[37m\u001b[0m \u001b[1m1s\u001b[0m 12ms/step - accuracy: 0.4297 - loss: 1.2864 - val_accuracy: 0.4873 - val_loss: 1.2515\n"
          ]
        }
      ],
      "source": [
        "input_dim = len(tokenizer.word_index) + 1  # Vocabulary size\n",
        "output_dim = 32   # Embedding dimension\n",
        "batch_size = 1024\n",
        "network = SimpleRNN\n",
        "rnn_units = 16\n",
        "model = build_rnn_model_2(input_dim, output_dim, input_length=None, rnn_units=rnn_units, network=network)\n",
        "history = model.fit(train_seq_pad,\n",
        "                    y_train_encoded,\n",
        "                    epochs=20,\n",
        "                    batch_size=batch_size,\n",
        "                    validation_data=(val_seq_pad, y_val_encoded),\n",
        "                    validation_steps=1,\n",
        "                    class_weight=class_weight)"
      ]
    },
    {
      "cell_type": "code",
      "execution_count": null,
      "metadata": {
        "id": "Uj4bUY3HU5rz",
        "outputId": "ac9b93ce-c9aa-4a43-bb8f-8ef60dc85813"
      },
      "outputs": [
        {
          "name": "stdout",
          "output_type": "stream",
          "text": [
            "\u001b[1m462/462\u001b[0m \u001b[32m━━━━━━━━━━━━━━━━━━━━\u001b[0m\u001b[37m\u001b[0m \u001b[1m2s\u001b[0m 3ms/step\n",
            "              precision    recall  f1-score   support\n",
            "\n",
            "           0       0.79      0.40      0.53      5763\n",
            "           1       0.53      0.49      0.51      2761\n",
            "           2       0.38      0.55      0.45      3650\n",
            "           3       0.26      0.43      0.32      1154\n",
            "           4       0.25      0.38      0.30      1444\n",
            "\n",
            "    accuracy                           0.45     14772\n",
            "   macro avg       0.44      0.45      0.42     14772\n",
            "weighted avg       0.55      0.45      0.47     14772\n",
            "\n"
          ]
        }
      ],
      "source": [
        "val_pred = model.predict(val_seq_pad)\n",
        "C_report = classification_report(np.argmax(y_val_categorical, axis=1), np.argmax(val_pred, axis=1))\n",
        "print(C_report)"
      ]
    },
    {
      "cell_type": "code",
      "execution_count": null,
      "metadata": {
        "id": "OFYnMA0ZU5r0",
        "outputId": "885ee7d5-d2f1-48f2-a53e-a81fe2cef9f5"
      },
      "outputs": [
        {
          "name": "stdout",
          "output_type": "stream",
          "text": [
            "\u001b[1m462/462\u001b[0m \u001b[32m━━━━━━━━━━━━━━━━━━━━\u001b[0m\u001b[37m\u001b[0m \u001b[1m1s\u001b[0m 2ms/step\n"
          ]
        },
        {
          "data": {
            "image/png": "[encoded data removed]",
            "text/plain": [
              "<Figure size 800x600 with 2 Axes>"
            ]
          },
          "metadata": {},
          "output_type": "display_data"
        }
      ],
      "source": [
        "target_labels = ['EG', 'LB', 'LY', 'MA', 'SD']\n",
        "y_pred = np.argmax(model.predict(test_seq_pad), axis=1)\n",
        "normalized_cm = confusion_matrix(y_test_encoded, y_pred, normalize='true')\n",
        "plt.figure(figsize=(8, 6))\n",
        "sns.heatmap(normalized_cm, annot=True, cmap='Blues', xticklabels=target_labels, yticklabels=target_labels)\n",
        "plt.xlabel('Predicted')\n",
        "plt.ylabel('Actual')\n",
        "plt.title('Normalized Confusion Matrix')\n",
        "plt.show()"
      ]
    },
    {
      "cell_type": "markdown",
      "metadata": {
        "id": "XPZNANJ-Vyq5"
      },
      "source": [
        "# `As conclusion, Classical ML is better in this problem than Deep Learning Models, So as a next step we will search a better model than Logistic Regression 🚀`"
      ]
    },
    {
      "cell_type": "markdown",
      "metadata": {
        "id": "5w87Ueqv3NFq"
      },
      "source": [
        "## ==================== Final Model Part ====================="
      ]
    },
    {
      "cell_type": "markdown",
      "metadata": {
        "id": "Hk0iBRTSZLuA"
      },
      "source": [
        "## 1- Multinominal Naive-Bayes :"
      ]
    },
    {
      "cell_type": "code",
      "execution_count": 5,
      "metadata": {
        "colab": {
          "base_uri": "https://localhost:8080/"
        },
        "id": "HeU63i2PWFzI",
        "outputId": "4279c7c7-f72a-4120-b1e6-9eaa12e4a6c4"
      },
      "outputs": [
        {
          "data": {
            "text/plain": [
              "[0.0732372635172225,\n",
              " 0.15284226412218757,\n",
              " 0.11565111762442588,\n",
              " 0.3658213610134992,\n",
              " 0.29244799372266495]"
            ]
          },
          "execution_count": 5,
          "metadata": {},
          "output_type": "execute_result"
        }
      ],
      "source": [
        "# To solve imbalancing data\n",
        "#################################################################################\n",
        "total_weight = sum(class_weight.values())                                       #\n",
        "class_prior = [class_weight[i] / total_weight for i in range(len(class_weight))]#\n",
        "#################################################################################\n",
        "class_prior"
      ]
    },
    {
      "cell_type": "code",
      "execution_count": null,
      "metadata": {
        "colab": {
          "base_uri": "https://localhost:8080/",
          "height": 159
        },
        "id": "OMneo2iQYbYr",
        "outputId": "9b477c8a-cd98-4840-b48e-9c43569cca50"
      },
      "outputs": [
        {
          "data": {
            "text/html": [
              "<style>#sk-container-id-1 {color: black;background-color: white;}#sk-container-id-1 pre{padding: 0;}#sk-container-id-1 div.sk-toggleable {background-color: white;}#sk-container-id-1 label.sk-toggleable__label {cursor: pointer;display: block;width: 100%;margin-bottom: 0;padding: 0.3em;box-sizing: border-box;text-align: center;}#sk-container-id-1 label.sk-toggleable__label-arrow:before {content: \"▸\";float: left;margin-right: 0.25em;color: #696969;}#sk-container-id-1 label.sk-toggleable__label-arrow:hover:before {color: black;}#sk-container-id-1 div.sk-estimator:hover label.sk-toggleable__label-arrow:before {color: black;}#sk-container-id-1 div.sk-toggleable__content {max-height: 0;max-width: 0;overflow: hidden;text-align: left;background-color: #f0f8ff;}#sk-container-id-1 div.sk-toggleable__content pre {margin: 0.2em;color: black;border-radius: 0.25em;background-color: #f0f8ff;}#sk-container-id-1 input.sk-toggleable__control:checked~div.sk-toggleable__content {max-height: 200px;max-width: 100%;overflow: auto;}#sk-container-id-1 input.sk-toggleable__control:checked~label.sk-toggleable__label-arrow:before {content: \"▾\";}#sk-container-id-1 div.sk-estimator input.sk-toggleable__control:checked~label.sk-toggleable__label {background-color: #d4ebff;}#sk-container-id-1 div.sk-label input.sk-toggleable__control:checked~label.sk-toggleable__label {background-color: #d4ebff;}#sk-container-id-1 input.sk-hidden--visually {border: 0;clip: rect(1px 1px 1px 1px);clip: rect(1px, 1px, 1px, 1px);height: 1px;margin: -1px;overflow: hidden;padding: 0;position: absolute;width: 1px;}#sk-container-id-1 div.sk-estimator {font-family: monospace;background-color: #f0f8ff;border: 1px dotted black;border-radius: 0.25em;box-sizing: border-box;margin-bottom: 0.5em;}#sk-container-id-1 div.sk-estimator:hover {background-color: #d4ebff;}#sk-container-id-1 div.sk-parallel-item::after {content: \"\";width: 100%;border-bottom: 1px solid gray;flex-grow: 1;}#sk-container-id-1 div.sk-label:hover label.sk-toggleable__label {background-color: #d4ebff;}#sk-container-id-1 div.sk-serial::before {content: \"\";position: absolute;border-left: 1px solid gray;box-sizing: border-box;top: 0;bottom: 0;left: 50%;z-index: 0;}#sk-container-id-1 div.sk-serial {display: flex;flex-direction: column;align-items: center;background-color: white;padding-right: 0.2em;padding-left: 0.2em;position: relative;}#sk-container-id-1 div.sk-item {position: relative;z-index: 1;}#sk-container-id-1 div.sk-parallel {display: flex;align-items: stretch;justify-content: center;background-color: white;position: relative;}#sk-container-id-1 div.sk-item::before, #sk-container-id-1 div.sk-parallel-item::before {content: \"\";position: absolute;border-left: 1px solid gray;box-sizing: border-box;top: 0;bottom: 0;left: 50%;z-index: -1;}#sk-container-id-1 div.sk-parallel-item {display: flex;flex-direction: column;z-index: 1;position: relative;background-color: white;}#sk-container-id-1 div.sk-parallel-item:first-child::after {align-self: flex-end;width: 50%;}#sk-container-id-1 div.sk-parallel-item:last-child::after {align-self: flex-start;width: 50%;}#sk-container-id-1 div.sk-parallel-item:only-child::after {width: 0;}#sk-container-id-1 div.sk-dashed-wrapped {border: 1px dashed gray;margin: 0 0.4em 0.5em 0.4em;box-sizing: border-box;padding-bottom: 0.4em;background-color: white;}#sk-container-id-1 div.sk-label label {font-family: monospace;font-weight: bold;display: inline-block;line-height: 1.2em;}#sk-container-id-1 div.sk-label-container {text-align: center;}#sk-container-id-1 div.sk-container {/* jupyter's `normalize.less` sets `[hidden] { display: none; }` but bootstrap.min.css set `[hidden] { display: none !important; }` so we also need the `!important` here to be able to override the default hidden behavior on the sphinx rendered scikit-learn.org. See: https://github.com/scikit-learn/scikit-learn/issues/21755 */display: inline-block !important;position: relative;}#sk-container-id-1 div.sk-text-repr-fallback {display: none;}</style><div id=\"sk-container-id-1\" class=\"sk-top-container\"><div class=\"sk-text-repr-fallback\"><pre>Pipeline(steps=[(&#x27;preprocessing&#x27;, CustomTransformer()),\n",
              "                (&#x27;Vectorizing&#x27;, TfidfVectorizer(max_features=200000)),\n",
              "                (&#x27;model&#x27;,\n",
              "                 MultinomialNB(class_prior=[0.0732372635172225,\n",
              "                                            0.15284226412218757,\n",
              "                                            0.11565111762442588,\n",
              "                                            0.3658213610134992,\n",
              "                                            0.29244799372266495]))])</pre><b>In a Jupyter environment, please rerun this cell to show the HTML representation or trust the notebook. <br />On GitHub, the HTML representation is unable to render, please try loading this page with nbviewer.org.</b></div><div class=\"sk-container\" hidden><div class=\"sk-item sk-dashed-wrapped\"><div class=\"sk-label-container\"><div class=\"sk-label sk-toggleable\"><input class=\"sk-toggleable__control sk-hidden--visually\" id=\"sk-estimator-id-1\" type=\"checkbox\" ><label for=\"sk-estimator-id-1\" class=\"sk-toggleable__label sk-toggleable__label-arrow\">Pipeline</label><div class=\"sk-toggleable__content\"><pre>Pipeline(steps=[(&#x27;preprocessing&#x27;, CustomTransformer()),\n",
              "                (&#x27;Vectorizing&#x27;, TfidfVectorizer(max_features=200000)),\n",
              "                (&#x27;model&#x27;,\n",
              "                 MultinomialNB(class_prior=[0.0732372635172225,\n",
              "                                            0.15284226412218757,\n",
              "                                            0.11565111762442588,\n",
              "                                            0.3658213610134992,\n",
              "                                            0.29244799372266495]))])</pre></div></div></div><div class=\"sk-serial\"><div class=\"sk-item\"><div class=\"sk-estimator sk-toggleable\"><input class=\"sk-toggleable__control sk-hidden--visually\" id=\"sk-estimator-id-2\" type=\"checkbox\" ><label for=\"sk-estimator-id-2\" class=\"sk-toggleable__label sk-toggleable__label-arrow\">CustomTransformer</label><div class=\"sk-toggleable__content\"><pre>CustomTransformer()</pre></div></div></div><div class=\"sk-item\"><div class=\"sk-estimator sk-toggleable\"><input class=\"sk-toggleable__control sk-hidden--visually\" id=\"sk-estimator-id-3\" type=\"checkbox\" ><label for=\"sk-estimator-id-3\" class=\"sk-toggleable__label sk-toggleable__label-arrow\">TfidfVectorizer</label><div class=\"sk-toggleable__content\"><pre>TfidfVectorizer(max_features=200000)</pre></div></div></div><div class=\"sk-item\"><div class=\"sk-estimator sk-toggleable\"><input class=\"sk-toggleable__control sk-hidden--visually\" id=\"sk-estimator-id-4\" type=\"checkbox\" ><label for=\"sk-estimator-id-4\" class=\"sk-toggleable__label sk-toggleable__label-arrow\">MultinomialNB</label><div class=\"sk-toggleable__content\"><pre>MultinomialNB(class_prior=[0.0732372635172225, 0.15284226412218757,\n",
              "                           0.11565111762442588, 0.3658213610134992,\n",
              "                           0.29244799372266495])</pre></div></div></div></div></div></div></div>"
            ],
            "text/plain": [
              "Pipeline(steps=[('preprocessing', CustomTransformer()),\n",
              "                ('Vectorizing', TfidfVectorizer(max_features=200000)),\n",
              "                ('model',\n",
              "                 MultinomialNB(class_prior=[0.0732372635172225,\n",
              "                                            0.15284226412218757,\n",
              "                                            0.11565111762442588,\n",
              "                                            0.3658213610134992,\n",
              "                                            0.29244799372266495]))])"
            ]
          },
          "execution_count": 14,
          "metadata": {},
          "output_type": "execute_result"
        }
      ],
      "source": [
        "mnb = MultinomialNB(class_prior=class_prior)\n",
        "tfidf_vectorizer = TfidfVectorizer(max_features=200000)\n",
        "\n",
        "pipeline = Pipeline(steps=[\n",
        "    ('preprocessing', CustomTransformer()),\n",
        "    ('Vectorizing', tfidf_vectorizer),\n",
        "    ('model', mnb)\n",
        "])\n",
        "pipeline.fit(X_train, y_train)"
      ]
    },
    {
      "cell_type": "code",
      "execution_count": null,
      "metadata": {
        "colab": {
          "base_uri": "https://localhost:8080/"
        },
        "id": "f6AA9_pqWf3a",
        "outputId": "a4b0bfbd-04e9-4224-8bc4-f39f7007e11b"
      },
      "outputs": [
        {
          "name": "stdout",
          "output_type": "stream",
          "text": [
            "              precision    recall  f1-score   support\n",
            "\n",
            "          EG       0.89      0.85      0.87      5763\n",
            "          LB       0.86      0.87      0.87      2761\n",
            "          LY       0.88      0.75      0.81      3650\n",
            "          MA       0.56      0.78      0.65      1154\n",
            "          SD       0.60      0.73      0.66      1444\n",
            "\n",
            "    accuracy                           0.81     14772\n",
            "   macro avg       0.76      0.80      0.77     14772\n",
            "weighted avg       0.83      0.81      0.82     14772\n",
            "\n"
          ]
        }
      ],
      "source": [
        "y_pred = pipeline.predict(X_val)\n",
        "report = classification_report(y_val, y_pred)\n",
        "\n",
        "print(report)"
      ]
    },
    {
      "cell_type": "code",
      "execution_count": null,
      "metadata": {
        "colab": {
          "base_uri": "https://localhost:8080/",
          "height": 564
        },
        "id": "hCaj8ofPWsM8",
        "outputId": "d993327f-58a5-4271-aad9-116f4aba2a6d"
      },
      "outputs": [
        {
          "data": {
            "image/png": "[encoded data removed]",
            "text/plain": [
              "<Figure size 800x600 with 2 Axes>"
            ]
          },
          "metadata": {},
          "output_type": "display_data"
        }
      ],
      "source": [
        "target_labels = ['EG', 'LB', 'LY', 'MA', 'SD']\n",
        "normalized_cm = confusion_matrix(y_val, y_pred, normalize='true')\n",
        "plt.figure(figsize=(8, 6))\n",
        "sns.heatmap(normalized_cm, annot=True, cmap='Blues', xticklabels=target_labels, yticklabels=target_labels)\n",
        "plt.xlabel('Predicted')\n",
        "plt.ylabel('Actual')\n",
        "plt.title('Normalized Confusion Matrix')\n",
        "plt.show()"
      ]
    },
    {
      "cell_type": "markdown",
      "metadata": {
        "id": "TddnVO-TZRVg"
      },
      "source": [
        "## 2- Logistic Regression :"
      ]
    },
    {
      "cell_type": "code",
      "execution_count": null,
      "metadata": {
        "id": "_hQuLLB7Zl4O"
      },
      "outputs": [],
      "source": [
        "class_weight_lr = {'EG': 0.5126114207638423,\n",
        "                 'LB': 1.0697927039015118,\n",
        "                 'LY': 0.8094797767046816,\n",
        "                 'MA': 2.560502654100314,\n",
        "                 'SD': 2.0469385987702435}"
      ]
    },
    {
      "cell_type": "code",
      "execution_count": null,
      "metadata": {
        "colab": {
          "base_uri": "https://localhost:8080/",
          "height": 159
        },
        "id": "uPCCH00mWyrO",
        "outputId": "2ef81602-da6d-4e81-81e8-8167147bd771"
      },
      "outputs": [
        {
          "data": {
            "text/html": [
              "<style>#sk-container-id-2 {color: black;background-color: white;}#sk-container-id-2 pre{padding: 0;}#sk-container-id-2 div.sk-toggleable {background-color: white;}#sk-container-id-2 label.sk-toggleable__label {cursor: pointer;display: block;width: 100%;margin-bottom: 0;padding: 0.3em;box-sizing: border-box;text-align: center;}#sk-container-id-2 label.sk-toggleable__label-arrow:before {content: \"▸\";float: left;margin-right: 0.25em;color: #696969;}#sk-container-id-2 label.sk-toggleable__label-arrow:hover:before {color: black;}#sk-container-id-2 div.sk-estimator:hover label.sk-toggleable__label-arrow:before {color: black;}#sk-container-id-2 div.sk-toggleable__content {max-height: 0;max-width: 0;overflow: hidden;text-align: left;background-color: #f0f8ff;}#sk-container-id-2 div.sk-toggleable__content pre {margin: 0.2em;color: black;border-radius: 0.25em;background-color: #f0f8ff;}#sk-container-id-2 input.sk-toggleable__control:checked~div.sk-toggleable__content {max-height: 200px;max-width: 100%;overflow: auto;}#sk-container-id-2 input.sk-toggleable__control:checked~label.sk-toggleable__label-arrow:before {content: \"▾\";}#sk-container-id-2 div.sk-estimator input.sk-toggleable__control:checked~label.sk-toggleable__label {background-color: #d4ebff;}#sk-container-id-2 div.sk-label input.sk-toggleable__control:checked~label.sk-toggleable__label {background-color: #d4ebff;}#sk-container-id-2 input.sk-hidden--visually {border: 0;clip: rect(1px 1px 1px 1px);clip: rect(1px, 1px, 1px, 1px);height: 1px;margin: -1px;overflow: hidden;padding: 0;position: absolute;width: 1px;}#sk-container-id-2 div.sk-estimator {font-family: monospace;background-color: #f0f8ff;border: 1px dotted black;border-radius: 0.25em;box-sizing: border-box;margin-bottom: 0.5em;}#sk-container-id-2 div.sk-estimator:hover {background-color: #d4ebff;}#sk-container-id-2 div.sk-parallel-item::after {content: \"\";width: 100%;border-bottom: 1px solid gray;flex-grow: 1;}#sk-container-id-2 div.sk-label:hover label.sk-toggleable__label {background-color: #d4ebff;}#sk-container-id-2 div.sk-serial::before {content: \"\";position: absolute;border-left: 1px solid gray;box-sizing: border-box;top: 0;bottom: 0;left: 50%;z-index: 0;}#sk-container-id-2 div.sk-serial {display: flex;flex-direction: column;align-items: center;background-color: white;padding-right: 0.2em;padding-left: 0.2em;position: relative;}#sk-container-id-2 div.sk-item {position: relative;z-index: 1;}#sk-container-id-2 div.sk-parallel {display: flex;align-items: stretch;justify-content: center;background-color: white;position: relative;}#sk-container-id-2 div.sk-item::before, #sk-container-id-2 div.sk-parallel-item::before {content: \"\";position: absolute;border-left: 1px solid gray;box-sizing: border-box;top: 0;bottom: 0;left: 50%;z-index: -1;}#sk-container-id-2 div.sk-parallel-item {display: flex;flex-direction: column;z-index: 1;position: relative;background-color: white;}#sk-container-id-2 div.sk-parallel-item:first-child::after {align-self: flex-end;width: 50%;}#sk-container-id-2 div.sk-parallel-item:last-child::after {align-self: flex-start;width: 50%;}#sk-container-id-2 div.sk-parallel-item:only-child::after {width: 0;}#sk-container-id-2 div.sk-dashed-wrapped {border: 1px dashed gray;margin: 0 0.4em 0.5em 0.4em;box-sizing: border-box;padding-bottom: 0.4em;background-color: white;}#sk-container-id-2 div.sk-label label {font-family: monospace;font-weight: bold;display: inline-block;line-height: 1.2em;}#sk-container-id-2 div.sk-label-container {text-align: center;}#sk-container-id-2 div.sk-container {/* jupyter's `normalize.less` sets `[hidden] { display: none; }` but bootstrap.min.css set `[hidden] { display: none !important; }` so we also need the `!important` here to be able to override the default hidden behavior on the sphinx rendered scikit-learn.org. See: https://github.com/scikit-learn/scikit-learn/issues/21755 */display: inline-block !important;position: relative;}#sk-container-id-2 div.sk-text-repr-fallback {display: none;}</style><div id=\"sk-container-id-2\" class=\"sk-top-container\"><div class=\"sk-text-repr-fallback\"><pre>Pipeline(steps=[(&#x27;preprocessing&#x27;, CustomTransformer()),\n",
              "                (&#x27;Vectorizing&#x27;, TfidfVectorizer(max_features=200000)),\n",
              "                (&#x27;model&#x27;,\n",
              "                 LogisticRegression(C=3,\n",
              "                                    class_weight={&#x27;EG&#x27;: 0.5126114207638423,\n",
              "                                                  &#x27;LB&#x27;: 1.0697927039015118,\n",
              "                                                  &#x27;LY&#x27;: 0.8094797767046816,\n",
              "                                                  &#x27;MA&#x27;: 2.560502654100314,\n",
              "                                                  &#x27;SD&#x27;: 2.0469385987702435},\n",
              "                                    max_iter=10000))])</pre><b>In a Jupyter environment, please rerun this cell to show the HTML representation or trust the notebook. <br />On GitHub, the HTML representation is unable to render, please try loading this page with nbviewer.org.</b></div><div class=\"sk-container\" hidden><div class=\"sk-item sk-dashed-wrapped\"><div class=\"sk-label-container\"><div class=\"sk-label sk-toggleable\"><input class=\"sk-toggleable__control sk-hidden--visually\" id=\"sk-estimator-id-5\" type=\"checkbox\" ><label for=\"sk-estimator-id-5\" class=\"sk-toggleable__label sk-toggleable__label-arrow\">Pipeline</label><div class=\"sk-toggleable__content\"><pre>Pipeline(steps=[(&#x27;preprocessing&#x27;, CustomTransformer()),\n",
              "                (&#x27;Vectorizing&#x27;, TfidfVectorizer(max_features=200000)),\n",
              "                (&#x27;model&#x27;,\n",
              "                 LogisticRegression(C=3,\n",
              "                                    class_weight={&#x27;EG&#x27;: 0.5126114207638423,\n",
              "                                                  &#x27;LB&#x27;: 1.0697927039015118,\n",
              "                                                  &#x27;LY&#x27;: 0.8094797767046816,\n",
              "                                                  &#x27;MA&#x27;: 2.560502654100314,\n",
              "                                                  &#x27;SD&#x27;: 2.0469385987702435},\n",
              "                                    max_iter=10000))])</pre></div></div></div><div class=\"sk-serial\"><div class=\"sk-item\"><div class=\"sk-estimator sk-toggleable\"><input class=\"sk-toggleable__control sk-hidden--visually\" id=\"sk-estimator-id-6\" type=\"checkbox\" ><label for=\"sk-estimator-id-6\" class=\"sk-toggleable__label sk-toggleable__label-arrow\">CustomTransformer</label><div class=\"sk-toggleable__content\"><pre>CustomTransformer()</pre></div></div></div><div class=\"sk-item\"><div class=\"sk-estimator sk-toggleable\"><input class=\"sk-toggleable__control sk-hidden--visually\" id=\"sk-estimator-id-7\" type=\"checkbox\" ><label for=\"sk-estimator-id-7\" class=\"sk-toggleable__label sk-toggleable__label-arrow\">TfidfVectorizer</label><div class=\"sk-toggleable__content\"><pre>TfidfVectorizer(max_features=200000)</pre></div></div></div><div class=\"sk-item\"><div class=\"sk-estimator sk-toggleable\"><input class=\"sk-toggleable__control sk-hidden--visually\" id=\"sk-estimator-id-8\" type=\"checkbox\" ><label for=\"sk-estimator-id-8\" class=\"sk-toggleable__label sk-toggleable__label-arrow\">LogisticRegression</label><div class=\"sk-toggleable__content\"><pre>LogisticRegression(C=3,\n",
              "                   class_weight={&#x27;EG&#x27;: 0.5126114207638423,\n",
              "                                 &#x27;LB&#x27;: 1.0697927039015118,\n",
              "                                 &#x27;LY&#x27;: 0.8094797767046816,\n",
              "                                 &#x27;MA&#x27;: 2.560502654100314,\n",
              "                                 &#x27;SD&#x27;: 2.0469385987702435},\n",
              "                   max_iter=10000)</pre></div></div></div></div></div></div></div>"
            ],
            "text/plain": [
              "Pipeline(steps=[('preprocessing', CustomTransformer()),\n",
              "                ('Vectorizing', TfidfVectorizer(max_features=200000)),\n",
              "                ('model',\n",
              "                 LogisticRegression(C=3,\n",
              "                                    class_weight={'EG': 0.5126114207638423,\n",
              "                                                  'LB': 1.0697927039015118,\n",
              "                                                  'LY': 0.8094797767046816,\n",
              "                                                  'MA': 2.560502654100314,\n",
              "                                                  'SD': 2.0469385987702435},\n",
              "                                    max_iter=10000))])"
            ]
          },
          "execution_count": 13,
          "metadata": {},
          "output_type": "execute_result"
        }
      ],
      "source": [
        "lr = LogisticRegression(class_weight=class_weight_lr, max_iter=10000, C=3)\n",
        "\n",
        "pipeline = Pipeline(steps=[\n",
        "    ('preprocessing', CustomTransformer()),\n",
        "    ('Vectorizing', tfidf_vectorizer),\n",
        "    ('model', lr),\n",
        "])\n",
        "pipeline.fit(X_train, y_train)"
      ]
    },
    {
      "cell_type": "code",
      "execution_count": null,
      "metadata": {
        "colab": {
          "base_uri": "https://localhost:8080/"
        },
        "id": "2lUcpU7oZevM",
        "outputId": "e9e09100-34e1-44bd-9971-8b67404dd20f"
      },
      "outputs": [
        {
          "name": "stdout",
          "output_type": "stream",
          "text": [
            "              precision    recall  f1-score   support\n",
            "\n",
            "          EG       0.90      0.87      0.88      5763\n",
            "          LB       0.84      0.85      0.85      2761\n",
            "          LY       0.81      0.82      0.82      3650\n",
            "          MA       0.73      0.77      0.75      1154\n",
            "          SD       0.70      0.73      0.71      1444\n",
            "\n",
            "    accuracy                           0.83     14772\n",
            "   macro avg       0.80      0.81      0.80     14772\n",
            "weighted avg       0.83      0.83      0.83     14772\n",
            "\n"
          ]
        }
      ],
      "source": [
        "y_pred = pipeline.predict(X_val)\n",
        "report = classification_report(y_val, y_pred)\n",
        "\n",
        "print(report)"
      ]
    },
    {
      "cell_type": "code",
      "execution_count": null,
      "metadata": {
        "colab": {
          "base_uri": "https://localhost:8080/",
          "height": 564
        },
        "id": "7Ce1p77kadXa",
        "outputId": "435647f3-65ca-44e7-9df0-48af875a4fc8"
      },
      "outputs": [
        {
          "data": {
            "image/png": "[encoded data removed]",
            "text/plain": [
              "<Figure size 800x600 with 2 Axes>"
            ]
          },
          "metadata": {},
          "output_type": "display_data"
        }
      ],
      "source": [
        "target_labels = ['EG', 'LB', 'LY', 'MA', 'SD']\n",
        "normalized_cm = confusion_matrix(y_val, y_pred, normalize='true')\n",
        "plt.figure(figsize=(8, 6))\n",
        "sns.heatmap(normalized_cm, annot=True, cmap='Blues', xticklabels=target_labels, yticklabels=target_labels)\n",
        "plt.xlabel('Predicted')\n",
        "plt.ylabel('Actual')\n",
        "plt.title('Normalized Confusion Matrix')\n",
        "plt.show()"
      ]
    },
    {
      "cell_type": "markdown",
      "metadata": {
        "id": "SSnV0tXDaoNP"
      },
      "source": [
        "# Approximately Linear-Regression is slightly better than Multi-nominal Naive Bayes"
      ]
    },
    {
      "cell_type": "markdown",
      "metadata": {
        "id": "4VXcJX5HwrZy"
      },
      "source": [
        "# `Create Voter Classifier : `"
      ]
    },
    {
      "cell_type": "code",
      "execution_count": null,
      "metadata": {
        "colab": {
          "base_uri": "https://localhost:8080/",
          "height": 216
        },
        "id": "cCRqhO5OajCa",
        "outputId": "37fe46a0-3b67-4e25-91cc-7e25e9e378ee"
      },
      "outputs": [
        {
          "data": {
            "text/html": [
              "<style>#sk-container-id-5 {color: black;background-color: white;}#sk-container-id-5 pre{padding: 0;}#sk-container-id-5 div.sk-toggleable {background-color: white;}#sk-container-id-5 label.sk-toggleable__label {cursor: pointer;display: block;width: 100%;margin-bottom: 0;padding: 0.3em;box-sizing: border-box;text-align: center;}#sk-container-id-5 label.sk-toggleable__label-arrow:before {content: \"▸\";float: left;margin-right: 0.25em;color: #696969;}#sk-container-id-5 label.sk-toggleable__label-arrow:hover:before {color: black;}#sk-container-id-5 div.sk-estimator:hover label.sk-toggleable__label-arrow:before {color: black;}#sk-container-id-5 div.sk-toggleable__content {max-height: 0;max-width: 0;overflow: hidden;text-align: left;background-color: #f0f8ff;}#sk-container-id-5 div.sk-toggleable__content pre {margin: 0.2em;color: black;border-radius: 0.25em;background-color: #f0f8ff;}#sk-container-id-5 input.sk-toggleable__control:checked~div.sk-toggleable__content {max-height: 200px;max-width: 100%;overflow: auto;}#sk-container-id-5 input.sk-toggleable__control:checked~label.sk-toggleable__label-arrow:before {content: \"▾\";}#sk-container-id-5 div.sk-estimator input.sk-toggleable__control:checked~label.sk-toggleable__label {background-color: #d4ebff;}#sk-container-id-5 div.sk-label input.sk-toggleable__control:checked~label.sk-toggleable__label {background-color: #d4ebff;}#sk-container-id-5 input.sk-hidden--visually {border: 0;clip: rect(1px 1px 1px 1px);clip: rect(1px, 1px, 1px, 1px);height: 1px;margin: -1px;overflow: hidden;padding: 0;position: absolute;width: 1px;}#sk-container-id-5 div.sk-estimator {font-family: monospace;background-color: #f0f8ff;border: 1px dotted black;border-radius: 0.25em;box-sizing: border-box;margin-bottom: 0.5em;}#sk-container-id-5 div.sk-estimator:hover {background-color: #d4ebff;}#sk-container-id-5 div.sk-parallel-item::after {content: \"\";width: 100%;border-bottom: 1px solid gray;flex-grow: 1;}#sk-container-id-5 div.sk-label:hover label.sk-toggleable__label {background-color: #d4ebff;}#sk-container-id-5 div.sk-serial::before {content: \"\";position: absolute;border-left: 1px solid gray;box-sizing: border-box;top: 0;bottom: 0;left: 50%;z-index: 0;}#sk-container-id-5 div.sk-serial {display: flex;flex-direction: column;align-items: center;background-color: white;padding-right: 0.2em;padding-left: 0.2em;position: relative;}#sk-container-id-5 div.sk-item {position: relative;z-index: 1;}#sk-container-id-5 div.sk-parallel {display: flex;align-items: stretch;justify-content: center;background-color: white;position: relative;}#sk-container-id-5 div.sk-item::before, #sk-container-id-5 div.sk-parallel-item::before {content: \"\";position: absolute;border-left: 1px solid gray;box-sizing: border-box;top: 0;bottom: 0;left: 50%;z-index: -1;}#sk-container-id-5 div.sk-parallel-item {display: flex;flex-direction: column;z-index: 1;position: relative;background-color: white;}#sk-container-id-5 div.sk-parallel-item:first-child::after {align-self: flex-end;width: 50%;}#sk-container-id-5 div.sk-parallel-item:last-child::after {align-self: flex-start;width: 50%;}#sk-container-id-5 div.sk-parallel-item:only-child::after {width: 0;}#sk-container-id-5 div.sk-dashed-wrapped {border: 1px dashed gray;margin: 0 0.4em 0.5em 0.4em;box-sizing: border-box;padding-bottom: 0.4em;background-color: white;}#sk-container-id-5 div.sk-label label {font-family: monospace;font-weight: bold;display: inline-block;line-height: 1.2em;}#sk-container-id-5 div.sk-label-container {text-align: center;}#sk-container-id-5 div.sk-container {/* jupyter's `normalize.less` sets `[hidden] { display: none; }` but bootstrap.min.css set `[hidden] { display: none !important; }` so we also need the `!important` here to be able to override the default hidden behavior on the sphinx rendered scikit-learn.org. See: https://github.com/scikit-learn/scikit-learn/issues/21755 */display: inline-block !important;position: relative;}#sk-container-id-5 div.sk-text-repr-fallback {display: none;}</style><div id=\"sk-container-id-5\" class=\"sk-top-container\"><div class=\"sk-text-repr-fallback\"><pre>Pipeline(steps=[(&#x27;preprocessing&#x27;, CustomTransformer()),\n",
              "                (&#x27;Vectorizing&#x27;, TfidfVectorizer(max_features=200000)),\n",
              "                (&#x27;voter&#x27;,\n",
              "                 VotingClassifier(estimators=[(&#x27;lr&#x27;,\n",
              "                                               LogisticRegression(C=3,\n",
              "                                                                  class_weight={0: 0.5126114207638423,\n",
              "                                                                                1: 1.0697927039015118,\n",
              "                                                                                2: 0.8094797767046816,\n",
              "                                                                                3: 2.560502654100314,\n",
              "                                                                                4: 2.0469385987702435},\n",
              "                                                                  max_iter=10000)),\n",
              "                                              (&#x27;mnb&#x27;,\n",
              "                                               MultinomialNB(class_prior=[0.0732372635172225,\n",
              "                                                                          0.15284226412218757,\n",
              "                                                                          0.11565111762442588,\n",
              "                                                                          0.3658213610134992,\n",
              "                                                                          0.29244799372266495]))],\n",
              "                                  voting=&#x27;soft&#x27;))])</pre><b>In a Jupyter environment, please rerun this cell to show the HTML representation or trust the notebook. <br />On GitHub, the HTML representation is unable to render, please try loading this page with nbviewer.org.</b></div><div class=\"sk-container\" hidden><div class=\"sk-item sk-dashed-wrapped\"><div class=\"sk-label-container\"><div class=\"sk-label sk-toggleable\"><input class=\"sk-toggleable__control sk-hidden--visually\" id=\"sk-estimator-id-17\" type=\"checkbox\" ><label for=\"sk-estimator-id-17\" class=\"sk-toggleable__label sk-toggleable__label-arrow\">Pipeline</label><div class=\"sk-toggleable__content\"><pre>Pipeline(steps=[(&#x27;preprocessing&#x27;, CustomTransformer()),\n",
              "                (&#x27;Vectorizing&#x27;, TfidfVectorizer(max_features=200000)),\n",
              "                (&#x27;voter&#x27;,\n",
              "                 VotingClassifier(estimators=[(&#x27;lr&#x27;,\n",
              "                                               LogisticRegression(C=3,\n",
              "                                                                  class_weight={0: 0.5126114207638423,\n",
              "                                                                                1: 1.0697927039015118,\n",
              "                                                                                2: 0.8094797767046816,\n",
              "                                                                                3: 2.560502654100314,\n",
              "                                                                                4: 2.0469385987702435},\n",
              "                                                                  max_iter=10000)),\n",
              "                                              (&#x27;mnb&#x27;,\n",
              "                                               MultinomialNB(class_prior=[0.0732372635172225,\n",
              "                                                                          0.15284226412218757,\n",
              "                                                                          0.11565111762442588,\n",
              "                                                                          0.3658213610134992,\n",
              "                                                                          0.29244799372266495]))],\n",
              "                                  voting=&#x27;soft&#x27;))])</pre></div></div></div><div class=\"sk-serial\"><div class=\"sk-item\"><div class=\"sk-estimator sk-toggleable\"><input class=\"sk-toggleable__control sk-hidden--visually\" id=\"sk-estimator-id-18\" type=\"checkbox\" ><label for=\"sk-estimator-id-18\" class=\"sk-toggleable__label sk-toggleable__label-arrow\">CustomTransformer</label><div class=\"sk-toggleable__content\"><pre>CustomTransformer()</pre></div></div></div><div class=\"sk-item\"><div class=\"sk-estimator sk-toggleable\"><input class=\"sk-toggleable__control sk-hidden--visually\" id=\"sk-estimator-id-19\" type=\"checkbox\" ><label for=\"sk-estimator-id-19\" class=\"sk-toggleable__label sk-toggleable__label-arrow\">TfidfVectorizer</label><div class=\"sk-toggleable__content\"><pre>TfidfVectorizer(max_features=200000)</pre></div></div></div><div class=\"sk-item sk-dashed-wrapped\"><div class=\"sk-label-container\"><div class=\"sk-label sk-toggleable\"><input class=\"sk-toggleable__control sk-hidden--visually\" id=\"sk-estimator-id-20\" type=\"checkbox\" ><label for=\"sk-estimator-id-20\" class=\"sk-toggleable__label sk-toggleable__label-arrow\">voter: VotingClassifier</label><div class=\"sk-toggleable__content\"><pre>VotingClassifier(estimators=[(&#x27;lr&#x27;,\n",
              "                              LogisticRegression(C=3,\n",
              "                                                 class_weight={0: 0.5126114207638423,\n",
              "                                                               1: 1.0697927039015118,\n",
              "                                                               2: 0.8094797767046816,\n",
              "                                                               3: 2.560502654100314,\n",
              "                                                               4: 2.0469385987702435},\n",
              "                                                 max_iter=10000)),\n",
              "                             (&#x27;mnb&#x27;,\n",
              "                              MultinomialNB(class_prior=[0.0732372635172225,\n",
              "                                                         0.15284226412218757,\n",
              "                                                         0.11565111762442588,\n",
              "                                                         0.3658213610134992,\n",
              "                                                         0.29244799372266495]))],\n",
              "                 voting=&#x27;soft&#x27;)</pre></div></div></div><div class=\"sk-parallel\"><div class=\"sk-parallel-item\"><div class=\"sk-item\"><div class=\"sk-label-container\"><div class=\"sk-label sk-toggleable\"><label>lr</label></div></div><div class=\"sk-serial\"><div class=\"sk-item\"><div class=\"sk-estimator sk-toggleable\"><input class=\"sk-toggleable__control sk-hidden--visually\" id=\"sk-estimator-id-21\" type=\"checkbox\" ><label for=\"sk-estimator-id-21\" class=\"sk-toggleable__label sk-toggleable__label-arrow\">LogisticRegression</label><div class=\"sk-toggleable__content\"><pre>LogisticRegression(C=3,\n",
              "                   class_weight={0: 0.5126114207638423, 1: 1.0697927039015118,\n",
              "                                 2: 0.8094797767046816, 3: 2.560502654100314,\n",
              "                                 4: 2.0469385987702435},\n",
              "                   max_iter=10000)</pre></div></div></div></div></div></div><div class=\"sk-parallel-item\"><div class=\"sk-item\"><div class=\"sk-label-container\"><div class=\"sk-label sk-toggleable\"><label>mnb</label></div></div><div class=\"sk-serial\"><div class=\"sk-item\"><div class=\"sk-estimator sk-toggleable\"><input class=\"sk-toggleable__control sk-hidden--visually\" id=\"sk-estimator-id-22\" type=\"checkbox\" ><label for=\"sk-estimator-id-22\" class=\"sk-toggleable__label sk-toggleable__label-arrow\">MultinomialNB</label><div class=\"sk-toggleable__content\"><pre>MultinomialNB(class_prior=[0.0732372635172225, 0.15284226412218757,\n",
              "                           0.11565111762442588, 0.3658213610134992,\n",
              "                           0.29244799372266495])</pre></div></div></div></div></div></div></div></div></div></div></div></div>"
            ],
            "text/plain": [
              "Pipeline(steps=[('preprocessing', CustomTransformer()),\n",
              "                ('Vectorizing', TfidfVectorizer(max_features=200000)),\n",
              "                ('voter',\n",
              "                 VotingClassifier(estimators=[('lr',\n",
              "                                               LogisticRegression(C=3,\n",
              "                                                                  class_weight={0: 0.5126114207638423,\n",
              "                                                                                1: 1.0697927039015118,\n",
              "                                                                                2: 0.8094797767046816,\n",
              "                                                                                3: 2.560502654100314,\n",
              "                                                                                4: 2.0469385987702435},\n",
              "                                                                  max_iter=10000)),\n",
              "                                              ('mnb',\n",
              "                                               MultinomialNB(class_prior=[0.0732372635172225,\n",
              "                                                                          0.15284226412218757,\n",
              "                                                                          0.11565111762442588,\n",
              "                                                                          0.3658213610134992,\n",
              "                                                                          0.29244799372266495]))],\n",
              "                                  voting='soft'))])"
            ]
          },
          "execution_count": 29,
          "metadata": {},
          "output_type": "execute_result"
        }
      ],
      "source": [
        "lr = LogisticRegression(class_weight=class_weight, max_iter=10000, C=3)\n",
        "mnb = MultinomialNB(class_prior=class_prior)\n",
        "voting_clf = VotingClassifier(estimators=[('lr', lr), ('mnb', mnb)], voting='soft')\n",
        "\n",
        "pipeline = Pipeline(steps=[\n",
        "    ('preprocessing', CustomTransformer()),\n",
        "    ('Vectorizing', tfidf_vectorizer),\n",
        "    ('voter', voting_clf),\n",
        "])\n",
        "pipeline.fit(X_train, y_train)\n"
      ]
    },
    {
      "cell_type": "code",
      "execution_count": null,
      "metadata": {
        "colab": {
          "base_uri": "https://localhost:8080/"
        },
        "id": "o6AAqrXebgpz",
        "outputId": "3bcab851-8825-485a-9909-4051ce5558dc"
      },
      "outputs": [
        {
          "name": "stdout",
          "output_type": "stream",
          "text": [
            "              precision    recall  f1-score   support\n",
            "\n",
            "          EG       0.90      0.88      0.89      5763\n",
            "          LB       0.85      0.87      0.86      2761\n",
            "          LY       0.85      0.81      0.83      3650\n",
            "          MA       0.70      0.78      0.74      1154\n",
            "          SD       0.69      0.74      0.72      1444\n",
            "\n",
            "    accuracy                           0.84     14772\n",
            "   macro avg       0.80      0.82      0.81     14772\n",
            "weighted avg       0.84      0.84      0.84     14772\n",
            "\n"
          ]
        }
      ],
      "source": [
        "y_pred = pipeline.predict(X_val)\n",
        "report = classification_report(y_val, y_pred)\n",
        "\n",
        "print(report)"
      ]
    },
    {
      "cell_type": "code",
      "execution_count": null,
      "metadata": {
        "colab": {
          "base_uri": "https://localhost:8080/",
          "height": 564
        },
        "id": "fRg28wegcUg8",
        "outputId": "21286638-143e-40d2-f284-e7a3fab65d37"
      },
      "outputs": [
        {
          "data": {
            "image/png": "[encoded data removed]",
            "text/plain": [
              "<Figure size 800x600 with 2 Axes>"
            ]
          },
          "metadata": {},
          "output_type": "display_data"
        }
      ],
      "source": [
        "target_labels = ['EG', 'LB', 'LY', 'MA', 'SD']\n",
        "normalized_cm = confusion_matrix(y_val, y_pred, normalize='true')\n",
        "plt.figure(figsize=(8, 6))\n",
        "sns.heatmap(normalized_cm, annot=True, cmap='Blues', xticklabels=target_labels, yticklabels=target_labels)\n",
        "plt.xlabel('Predicted')\n",
        "plt.ylabel('Actual')\n",
        "plt.title('Normalized Confusion Matrix')\n",
        "plt.show()"
      ]
    },
    {
      "cell_type": "markdown",
      "metadata": {
        "id": "AelDLrE_3yUZ"
      },
      "source": [
        "## Final Testing :"
      ]
    },
    {
      "cell_type": "code",
      "execution_count": null,
      "metadata": {
        "colab": {
          "base_uri": "https://localhost:8080/"
        },
        "id": "ZkFf5Fl23UI7",
        "outputId": "969c6fdf-64de-4b0d-c134-11ba2dd9967e"
      },
      "outputs": [
        {
          "name": "stdout",
          "output_type": "stream",
          "text": [
            "              precision    recall  f1-score   support\n",
            "\n",
            "          EG       0.90      0.88      0.89      5764\n",
            "          LB       0.85      0.88      0.87      2762\n",
            "          LY       0.84      0.81      0.82      3650\n",
            "          MA       0.70      0.78      0.74      1154\n",
            "          SD       0.69      0.73      0.71      1443\n",
            "\n",
            "    accuracy                           0.84     14773\n",
            "   macro avg       0.80      0.81      0.80     14773\n",
            "weighted avg       0.84      0.84      0.84     14773\n",
            "\n"
          ]
        }
      ],
      "source": [
        "y_pred_final = loaded_pipeline.predict(X_test)\n",
        "report = classification_report(y_test, y_pred_final)\n",
        "print(report)"
      ]
    },
    {
      "cell_type": "code",
      "execution_count": null,
      "metadata": {
        "colab": {
          "base_uri": "https://localhost:8080/",
          "height": 564
        },
        "id": "Nv7GQDyK3k2p",
        "outputId": "27d70b78-eee2-400a-d8c6-d12391ab56d4"
      },
      "outputs": [
        {
          "data": {
            "image/png": "[encoded data removed]",
            "text/plain": [
              "<Figure size 800x600 with 2 Axes>"
            ]
          },
          "metadata": {},
          "output_type": "display_data"
        }
      ],
      "source": [
        "target_labels = ['EG', 'LB', 'LY', 'MA', 'SD']\n",
        "normalized_cm = confusion_matrix(y_test, y_pred_final, normalize='true')\n",
        "plt.figure(figsize=(8, 6))\n",
        "sns.heatmap(normalized_cm, annot=True, cmap='Blues', xticklabels=target_labels, yticklabels=target_labels)\n",
        "plt.xlabel('Predicted')\n",
        "plt.ylabel('Actual')\n",
        "plt.title('Normalized Confusion Matrix')\n",
        "plt.show()"
      ]
    },
    {
      "cell_type": "markdown",
      "metadata": {
        "id": "S5DSG4dKcdGY"
      },
      "source": [
        "# Good improvment ✅\n",
        "\n"
      ]
    },
    {
      "cell_type": "markdown",
      "metadata": {
        "id": "0beASfHtFZtG"
      },
      "source": [
        "# Train to Whole Dataset and, Finaaaaaaallllyyyy save ⚡"
      ]
    },
    {
      "cell_type": "code",
      "execution_count": 6,
      "metadata": {
        "colab": {
          "base_uri": "https://localhost:8080/",
          "height": 217
        },
        "id": "CeVg2fcxFh4Y",
        "outputId": "ef8c8f16-3237-47bc-e477-0940f533885e"
      },
      "outputs": [
        {
          "data": {
            "text/html": [
              "<style>#sk-container-id-1 {color: black;}#sk-container-id-1 pre{padding: 0;}#sk-container-id-1 div.sk-toggleable {background-color: white;}#sk-container-id-1 label.sk-toggleable__label {cursor: pointer;display: block;width: 100%;margin-bottom: 0;padding: 0.3em;box-sizing: border-box;text-align: center;}#sk-container-id-1 label.sk-toggleable__label-arrow:before {content: \"▸\";float: left;margin-right: 0.25em;color: #696969;}#sk-container-id-1 label.sk-toggleable__label-arrow:hover:before {color: black;}#sk-container-id-1 div.sk-estimator:hover label.sk-toggleable__label-arrow:before {color: black;}#sk-container-id-1 div.sk-toggleable__content {max-height: 0;max-width: 0;overflow: hidden;text-align: left;background-color: #f0f8ff;}#sk-container-id-1 div.sk-toggleable__content pre {margin: 0.2em;color: black;border-radius: 0.25em;background-color: #f0f8ff;}#sk-container-id-1 input.sk-toggleable__control:checked~div.sk-toggleable__content {max-height: 200px;max-width: 100%;overflow: auto;}#sk-container-id-1 input.sk-toggleable__control:checked~label.sk-toggleable__label-arrow:before {content: \"▾\";}#sk-container-id-1 div.sk-estimator input.sk-toggleable__control:checked~label.sk-toggleable__label {background-color: #d4ebff;}#sk-container-id-1 div.sk-label input.sk-toggleable__control:checked~label.sk-toggleable__label {background-color: #d4ebff;}#sk-container-id-1 input.sk-hidden--visually {border: 0;clip: rect(1px 1px 1px 1px);clip: rect(1px, 1px, 1px, 1px);height: 1px;margin: -1px;overflow: hidden;padding: 0;position: absolute;width: 1px;}#sk-container-id-1 div.sk-estimator {font-family: monospace;background-color: #f0f8ff;border: 1px dotted black;border-radius: 0.25em;box-sizing: border-box;margin-bottom: 0.5em;}#sk-container-id-1 div.sk-estimator:hover {background-color: #d4ebff;}#sk-container-id-1 div.sk-parallel-item::after {content: \"\";width: 100%;border-bottom: 1px solid gray;flex-grow: 1;}#sk-container-id-1 div.sk-label:hover label.sk-toggleable__label {background-color: #d4ebff;}#sk-container-id-1 div.sk-serial::before {content: \"\";position: absolute;border-left: 1px solid gray;box-sizing: border-box;top: 0;bottom: 0;left: 50%;z-index: 0;}#sk-container-id-1 div.sk-serial {display: flex;flex-direction: column;align-items: center;background-color: white;padding-right: 0.2em;padding-left: 0.2em;position: relative;}#sk-container-id-1 div.sk-item {position: relative;z-index: 1;}#sk-container-id-1 div.sk-parallel {display: flex;align-items: stretch;justify-content: center;background-color: white;position: relative;}#sk-container-id-1 div.sk-item::before, #sk-container-id-1 div.sk-parallel-item::before {content: \"\";position: absolute;border-left: 1px solid gray;box-sizing: border-box;top: 0;bottom: 0;left: 50%;z-index: -1;}#sk-container-id-1 div.sk-parallel-item {display: flex;flex-direction: column;z-index: 1;position: relative;background-color: white;}#sk-container-id-1 div.sk-parallel-item:first-child::after {align-self: flex-end;width: 50%;}#sk-container-id-1 div.sk-parallel-item:last-child::after {align-self: flex-start;width: 50%;}#sk-container-id-1 div.sk-parallel-item:only-child::after {width: 0;}#sk-container-id-1 div.sk-dashed-wrapped {border: 1px dashed gray;margin: 0 0.4em 0.5em 0.4em;box-sizing: border-box;padding-bottom: 0.4em;background-color: white;}#sk-container-id-1 div.sk-label label {font-family: monospace;font-weight: bold;display: inline-block;line-height: 1.2em;}#sk-container-id-1 div.sk-label-container {text-align: center;}#sk-container-id-1 div.sk-container {/* jupyter's `normalize.less` sets `[hidden] { display: none; }` but bootstrap.min.css set `[hidden] { display: none !important; }` so we also need the `!important` here to be able to override the default hidden behavior on the sphinx rendered scikit-learn.org. See: https://github.com/scikit-learn/scikit-learn/issues/21755 */display: inline-block !important;position: relative;}#sk-container-id-1 div.sk-text-repr-fallback {display: none;}</style><div id=\"sk-container-id-1\" class=\"sk-top-container\"><div class=\"sk-text-repr-fallback\"><pre>Pipeline(steps=[(&#x27;preprocessing&#x27;, CustomTransformer()),\n",
              "                (&#x27;Vectorizing&#x27;, TfidfVectorizer(max_features=250000)),\n",
              "                (&#x27;voter&#x27;,\n",
              "                 VotingClassifier(estimators=[(&#x27;lr&#x27;,\n",
              "                                               LogisticRegression(C=3,\n",
              "                                                                  class_weight={0: 0.5126114207638423,\n",
              "                                                                                1: 1.0697927039015118,\n",
              "                                                                                2: 0.8094797767046816,\n",
              "                                                                                3: 2.560502654100314,\n",
              "                                                                                4: 2.0469385987702435},\n",
              "                                                                  max_iter=10000)),\n",
              "                                              (&#x27;mnb&#x27;,\n",
              "                                               MultinomialNB(class_prior=[0.0732372635172225,\n",
              "                                                                          0.15284226412218757,\n",
              "                                                                          0.11565111762442588,\n",
              "                                                                          0.3658213610134992,\n",
              "                                                                          0.29244799372266495]))],\n",
              "                                  voting=&#x27;soft&#x27;))])</pre><b>In a Jupyter environment, please rerun this cell to show the HTML representation or trust the notebook. <br />On GitHub, the HTML representation is unable to render, please try loading this page with nbviewer.org.</b></div><div class=\"sk-container\" hidden><div class=\"sk-item sk-dashed-wrapped\"><div class=\"sk-label-container\"><div class=\"sk-label sk-toggleable\"><input class=\"sk-toggleable__control sk-hidden--visually\" id=\"sk-estimator-id-1\" type=\"checkbox\" ><label for=\"sk-estimator-id-1\" class=\"sk-toggleable__label sk-toggleable__label-arrow\">Pipeline</label><div class=\"sk-toggleable__content\"><pre>Pipeline(steps=[(&#x27;preprocessing&#x27;, CustomTransformer()),\n",
              "                (&#x27;Vectorizing&#x27;, TfidfVectorizer(max_features=250000)),\n",
              "                (&#x27;voter&#x27;,\n",
              "                 VotingClassifier(estimators=[(&#x27;lr&#x27;,\n",
              "                                               LogisticRegression(C=3,\n",
              "                                                                  class_weight={0: 0.5126114207638423,\n",
              "                                                                                1: 1.0697927039015118,\n",
              "                                                                                2: 0.8094797767046816,\n",
              "                                                                                3: 2.560502654100314,\n",
              "                                                                                4: 2.0469385987702435},\n",
              "                                                                  max_iter=10000)),\n",
              "                                              (&#x27;mnb&#x27;,\n",
              "                                               MultinomialNB(class_prior=[0.0732372635172225,\n",
              "                                                                          0.15284226412218757,\n",
              "                                                                          0.11565111762442588,\n",
              "                                                                          0.3658213610134992,\n",
              "                                                                          0.29244799372266495]))],\n",
              "                                  voting=&#x27;soft&#x27;))])</pre></div></div></div><div class=\"sk-serial\"><div class=\"sk-item\"><div class=\"sk-estimator sk-toggleable\"><input class=\"sk-toggleable__control sk-hidden--visually\" id=\"sk-estimator-id-2\" type=\"checkbox\" ><label for=\"sk-estimator-id-2\" class=\"sk-toggleable__label sk-toggleable__label-arrow\">CustomTransformer</label><div class=\"sk-toggleable__content\"><pre>CustomTransformer()</pre></div></div></div><div class=\"sk-item\"><div class=\"sk-estimator sk-toggleable\"><input class=\"sk-toggleable__control sk-hidden--visually\" id=\"sk-estimator-id-3\" type=\"checkbox\" ><label for=\"sk-estimator-id-3\" class=\"sk-toggleable__label sk-toggleable__label-arrow\">TfidfVectorizer</label><div class=\"sk-toggleable__content\"><pre>TfidfVectorizer(max_features=250000)</pre></div></div></div><div class=\"sk-item sk-dashed-wrapped\"><div class=\"sk-label-container\"><div class=\"sk-label sk-toggleable\"><input class=\"sk-toggleable__control sk-hidden--visually\" id=\"sk-estimator-id-4\" type=\"checkbox\" ><label for=\"sk-estimator-id-4\" class=\"sk-toggleable__label sk-toggleable__label-arrow\">voter: VotingClassifier</label><div class=\"sk-toggleable__content\"><pre>VotingClassifier(estimators=[(&#x27;lr&#x27;,\n",
              "                              LogisticRegression(C=3,\n",
              "                                                 class_weight={0: 0.5126114207638423,\n",
              "                                                               1: 1.0697927039015118,\n",
              "                                                               2: 0.8094797767046816,\n",
              "                                                               3: 2.560502654100314,\n",
              "                                                               4: 2.0469385987702435},\n",
              "                                                 max_iter=10000)),\n",
              "                             (&#x27;mnb&#x27;,\n",
              "                              MultinomialNB(class_prior=[0.0732372635172225,\n",
              "                                                         0.15284226412218757,\n",
              "                                                         0.11565111762442588,\n",
              "                                                         0.3658213610134992,\n",
              "                                                         0.29244799372266495]))],\n",
              "                 voting=&#x27;soft&#x27;)</pre></div></div></div><div class=\"sk-parallel\"><div class=\"sk-parallel-item\"><div class=\"sk-item\"><div class=\"sk-label-container\"><div class=\"sk-label sk-toggleable\"><label>lr</label></div></div><div class=\"sk-serial\"><div class=\"sk-item\"><div class=\"sk-estimator sk-toggleable\"><input class=\"sk-toggleable__control sk-hidden--visually\" id=\"sk-estimator-id-5\" type=\"checkbox\" ><label for=\"sk-estimator-id-5\" class=\"sk-toggleable__label sk-toggleable__label-arrow\">LogisticRegression</label><div class=\"sk-toggleable__content\"><pre>LogisticRegression(C=3,\n",
              "                   class_weight={0: 0.5126114207638423, 1: 1.0697927039015118,\n",
              "                                 2: 0.8094797767046816, 3: 2.560502654100314,\n",
              "                                 4: 2.0469385987702435},\n",
              "                   max_iter=10000)</pre></div></div></div></div></div></div><div class=\"sk-parallel-item\"><div class=\"sk-item\"><div class=\"sk-label-container\"><div class=\"sk-label sk-toggleable\"><label>mnb</label></div></div><div class=\"sk-serial\"><div class=\"sk-item\"><div class=\"sk-estimator sk-toggleable\"><input class=\"sk-toggleable__control sk-hidden--visually\" id=\"sk-estimator-id-6\" type=\"checkbox\" ><label for=\"sk-estimator-id-6\" class=\"sk-toggleable__label sk-toggleable__label-arrow\">MultinomialNB</label><div class=\"sk-toggleable__content\"><pre>MultinomialNB(class_prior=[0.0732372635172225, 0.15284226412218757,\n",
              "                           0.11565111762442588, 0.3658213610134992,\n",
              "                           0.29244799372266495])</pre></div></div></div></div></div></div></div></div></div></div></div></div>"
            ],
            "text/plain": [
              "Pipeline(steps=[('preprocessing', CustomTransformer()),\n",
              "                ('Vectorizing', TfidfVectorizer(max_features=250000)),\n",
              "                ('voter',\n",
              "                 VotingClassifier(estimators=[('lr',\n",
              "                                               LogisticRegression(C=3,\n",
              "                                                                  class_weight={0: 0.5126114207638423,\n",
              "                                                                                1: 1.0697927039015118,\n",
              "                                                                                2: 0.8094797767046816,\n",
              "                                                                                3: 2.560502654100314,\n",
              "                                                                                4: 2.0469385987702435},\n",
              "                                                                  max_iter=10000)),\n",
              "                                              ('mnb',\n",
              "                                               MultinomialNB(class_prior=[0.0732372635172225,\n",
              "                                                                          0.15284226412218757,\n",
              "                                                                          0.11565111762442588,\n",
              "                                                                          0.3658213610134992,\n",
              "                                                                          0.29244799372266495]))],\n",
              "                                  voting='soft'))])"
            ]
          },
          "execution_count": 6,
          "metadata": {},
          "output_type": "execute_result"
        }
      ],
      "source": [
        "tfidf_vectorizer = TfidfVectorizer(max_features=250000)\n",
        "lr = LogisticRegression(class_weight=class_weight, max_iter=10000, C=3)\n",
        "mnb = MultinomialNB(class_prior=class_prior)\n",
        "voting_clf = VotingClassifier(estimators=[('lr', lr), ('mnb', mnb)], voting='soft')\n",
        "\n",
        "pipeline = Pipeline(steps=[\n",
        "    ('preprocessing', CustomTransformer()),\n",
        "    ('Vectorizing', tfidf_vectorizer),\n",
        "    ('voter', voting_clf),\n",
        "])\n",
        "pipeline.fit(df['text'], df['dialect'])\n"
      ]
    },
    {
      "cell_type": "code",
      "execution_count": 7,
      "metadata": {
        "id": "RwBTvdGIdwTL"
      },
      "outputs": [],
      "source": [
        "import joblib\n",
        "joblib.dump(pipeline, 'voting_pipeline_new.pkl')\n",
        "\n",
        "# Load it to check it is properly saved ✅\n",
        "loaded_pipeline = joblib.load('voting_pipeline_new.pkl')\n",
        "\n"
      ]
    },
    {
      "cell_type": "markdown",
      "metadata": {
        "id": "zDyRd5k7G6Gs"
      },
      "source": [
        "## ============================ The End ==============================="
      ]
    }
  ],
  "metadata": {
    "colab": {
      "provenance": []
    },
    "kernelspec": {
      "display_name": "Python 3",
      "name": "python3"
    },
    "language_info": {
      "codemirror_mode": {
        "name": "ipython",
        "version": 3
      },
      "file_extension": ".py",
      "mimetype": "text/x-python",
      "name": "python",
      "nbconvert_exporter": "python",
      "pygments_lexer": "ipython3",
      "version": "3.11.5"
    }
  },
  "nbformat": 4,
  "nbformat_minor": 0
}
