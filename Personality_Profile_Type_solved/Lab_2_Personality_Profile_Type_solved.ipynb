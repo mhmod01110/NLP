{
  "cells": [
    {
      "cell_type": "markdown",
      "metadata": {
        "id": "141YlCRt1uH2"
      },
      "source": [
        "**Dataset:**\n",
        "personality type data (Lab 2 - Personality Profile Type.csv)\n",
        "\n",
        "**Objective:**\n",
        "classify Personality type as one of the following **using RNNs**. <br>\n",
        "['INFJ', 'ENTP', 'INTP', 'INTJ', 'ENTJ', 'ENFJ', 'INFP', 'ENFP',\n",
        "       'ISFP', 'ISTP', 'ISFJ', 'ISTJ', 'ESTP', 'ESFP', 'ESTJ', 'ESFJ']\n",
        "\n",
        "**Evaluation metric:**\n",
        "Precision"
      ]
    },
    {
      "cell_type": "code",
      "source": [
        "from google.colab import drive\n",
        "drive.mount('/content/drive')\n",
        "%cd '/content/drive/MyDrive/NLP/Lab_2'"
      ],
      "metadata": {
        "colab": {
          "base_uri": "https://localhost:8080/"
        },
        "id": "zFNLavci1--8",
        "outputId": "dcee9a01-f557-453d-d699-c5b8d3008be7"
      },
      "execution_count": null,
      "outputs": [
        {
          "output_type": "stream",
          "name": "stdout",
          "text": [
            "Drive already mounted at /content/drive; to attempt to forcibly remount, call drive.mount(\"/content/drive\", force_remount=True).\n",
            "/content/drive/MyDrive/NLP/Lab_2\n"
          ]
        }
      ]
    },
    {
      "cell_type": "markdown",
      "metadata": {
        "id": "v-6lrKz6orxT"
      },
      "source": [
        "### Import used libraries"
      ]
    },
    {
      "cell_type": "code",
      "execution_count": null,
      "metadata": {
        "id": "eXUPo3g4orxV"
      },
      "outputs": [],
      "source": [
        "import pandas as pd\n",
        "import numpy as np\n",
        "import matplotlib.pyplot as plt\n",
        "import seaborn as sns\n",
        "from sklearn.model_selection import train_test_split\n",
        "pd.set_option('display.max_rows', 500)\n",
        "pd.set_option('display.max_colwidth', 1000)"
      ]
    },
    {
      "cell_type": "markdown",
      "metadata": {
        "id": "fG8MkuvjorxX"
      },
      "source": [
        "### Load Dataset"
      ]
    },
    {
      "cell_type": "code",
      "execution_count": null,
      "metadata": {
        "id": "BYeqhp66orxY",
        "colab": {
          "base_uri": "https://localhost:8080/",
          "height": 1000
        },
        "outputId": "95f3eff3-7ac8-46cb-87f4-cb700c7a487e"
      },
      "outputs": [
        {
          "output_type": "execute_result",
          "data": {
            "text/plain": [
              "   type  \\\n",
              "0  INFJ   \n",
              "1  ENTP   \n",
              "2  INTP   \n",
              "3  INTJ   \n",
              "4  ENTJ   \n",
              "5  INTJ   \n",
              "6  INFJ   \n",
              "7  INTJ   \n",
              "8  INFJ   \n",
              "9  INTP   \n",
              "\n",
              "                                                                                                                                                                                                                                                                                                                                                                                                                                                                                                                                                                                                                                                                                                                                                                                                                                                                                                                                                                                                                                     posts  \n",
              "0  'http://www.youtube.com/watch?v=qsXHcwe3krw|||http://41.media.tumblr.com/tumblr_lfouy03PMA1qa1rooo1_500.jpg|||enfp and intj moments  https://www.youtube.com/watch?v=iz7lE1g4XM4  sportscenter not top ten plays  https://www.youtube.com/watch?v=uCdfze1etec  pranks|||What has been the most life-changing experience in your life?|||http://www.youtube.com/watch?v=vXZeYwwRDw8   http://www.youtube.com/watch?v=u8ejam5DP3E  On repeat for most of today.|||May the PerC Experience immerse you.|||The last thing my INFJ friend posted on his facebook before committing suicide the next day. Rest in peace~   http://vimeo.com/22842206|||Hello ENFJ7. Sorry to hear of your distress. It's only natural for a relationship to not be perfection all the time in every moment of existence. Try to figure the hard times as times of growth, as...|||84389  84390  http://wallpaperpassion.com/upload/23700/friendship-boy-and-girl-wallpaper.jpg  http://assets.dornob.com/wp-content/uploads/2010/04/round-home-design.jpg ...  \n",
              "1  'I'm finding the lack of me in these posts very alarming.|||Sex can be boring if it's in the same position often. For example me and my girlfriend are currently in an environment where we have to creatively use cowgirl and missionary. There isn't enough...|||Giving new meaning to 'Game' theory.|||Hello *ENTP Grin*  That's all it takes. Than we converse and they do most of the flirting while I acknowledge their presence and return their words with smooth wordplay and more cheeky grins.|||This + Lack of Balance and Hand Eye Coordination.|||Real IQ test I score 127. Internet IQ tests are funny. I score 140s or higher.  Now, like the former responses of this thread I will mention that I don't believe in the IQ test. Before you banish...|||You know you're an ENTP when you vanish from a site for a year and a half, return, and find people are still commenting on your posts and liking your ideas/thoughts. You know you're an ENTP when you...|||http://img188.imageshack.us/img188/6422/6020d1f...  \n",
              "2  'Good one  _____   https://www.youtube.com/watch?v=fHiGbolFFGw|||Of course, to which I say I know; that's my blessing and my curse.|||Does being absolutely positive that you and your best friend could be an amazing couple count? If so, than yes.   Or it's more I could be madly in love in case I reconciled my feelings (which at...|||No, I didn't; thank you for a link!|||So-called Ti-Si loop (and it can stem from any current topic/obsession) can be deadly. It's like when you're stuck in your own thoughts, and your mind just wanders in circles. Feels truly terrible. ...|||Have you noticed how peculiar vegetation can be? All you have to do is look down at the grass: dozens of different plant species there.    And now imagine that hundreds of years later (when/if soil...|||The Smiths – Never Had No One Ever|||I often find myself spotting faces on marble tiles/wood.|||This 5 year-old sentence is an incredibly accurate and beautiful description.|||I haven't visited this website in the las...  \n",
              "3  'Dear INTP,   I enjoyed our conversation the other day.  Esoteric gabbing about the nature of the universe and the idea that every rule and social code being arbitrary constructs created...|||Dear ENTJ sub,   Long time no see.  Sincerely, Alpha|||None of them. All other types hurt in deep existential ways that I want no part of.|||Probably a sliding scale that depends on individual preferences, like everything in humanity.|||Draco Malfoy also. I'd say he's either 358 or 368.|||I'm either 358 or 385, though in which stacking to me is a somewhat arbitrary distinction to make as I believe that the core indicates primary motivation and has a hand in every action. Therefore, a...|||I'm not particularly introverted or extraverted, personally. That said, I would say I'm somewhat unphased by either social interactions or being alone. What I'd say I crave more so than anything is...|||Dear Type 9 INFP,  Your absolute admiration of me is refreshing. You're a great girlfriend and I wish we bo...  \n",
              "4  'You're fired.|||That's another silly misconception. That approaching is logically is going to be the key to unlocking whatever it is you think you are entitled to.   Nobody wants to be approached with BS...|||But guys... he REALLY wants to go on a super-duper-long-ass vacation. C'mon guys. His boss just doesn't listen or get it. He even approached him logically and everything.|||Never mind. Just go on permanent vacation.|||Two months? I wouldn't be crazy about the idea. If you are really his best employee, then that's what may be cooking him. Who wants their most reliable asset gone for that long?  ENTJ employer...|||Lol. Its not like our views were unsolicited. What a victim.|||Sometimes I just really like impoverished rap music.   https://www.youtube.com/watch?v=Xh0vA6_8mv8|||I probably would have lost it too. His stonewalling was insignificant. He was being an idiot over semantics that didn't have any impact on anything. It's one thing to stone wall on critical shit, but...|||I...  \n",
              "5  '18/37 @.@|||Science  is not perfect. No scientist claims that it is, or that scientific  information will not be revised as we discover new things.  Rational  thinking has been very useful to our society....|||INFP- Edgar Allen Poe was an INFP and he's in your siggy.|||People see the obvious Fi and are quick to put her as INFP. I agree that she has no Ne. I see her as an ISFP. Compare her to Haku (definite INFP). She is flat through most of Naruto.. but I don't...|||Lets get this party started  66314|||I did not say it disproved God. I merely said that I found such methods disturbing. Although, it does bring up certain questions. God is in control of the universe, and the governments of the world,...|||Surprisingly, I could not find a thread about this on perc even with Google. So, here you go.  Watch Jesus Camp online - Watch Movies Online, Full Movies, Download  I was disturbed watching this...|||A metaphysical gun (Hell) held to someone's head can be just as effective as an act...  \n",
              "6  'No, I can't draw on my own nails (haha). Those were done by professionals on my nails. And yes, those are all gel.  You mean those you posted were done by yourself on your own nails? Awesome!|||Probably the Electronic Screen Syndrome. With the advent of technology and social media, we all suffer from overstimulation on a daily basis. I'm guilty as well. In the past, I can be happy just...|||I love nail arts too! These are some of mine:  718282 718290 718298 718306 718314|||This is the first time I'm hearing this - about menstruation and church. Thanks for sharing but yeah, it's crazy. I thought only Taoists have such a belief.|||Dear very bad person,  Not trying to get in between your arguments but I'm copying down that sentence for future use. :tongue:|||*Speaking from a bomb shelter*  So which Christian values do you still hold? I agree that people can still be good in the absence of religion and people also do bad in the name of religion but the...|||I never really thought abou...  \n",
              "7  'I tend to build up a collection of things on my desktop that i use frequently and then move them into a folder called  'Everything' from there it get sorted into type and sub type|||i ike to collect odd objects, even at work...a lot of people would call it junk but i like to collect it.  Old unused software? ill take that off your hands :) i have a bunch of old adobe...|||i think its quite normal, i tend to only see my friends in real life every couple of months, as said earlier some people just dont get it but the good ones do :)  Edit: i mostly mean tolerate it...|||where do we go when we sleep? is dreaming another form of being awake? how many more layers of this are there if any?   thoughts about sleep keep me up at night  Edit: sometimes im too scared...|||thanks|||i wish i was free to follow my interests as i desired  i feel as though wishes are meant for impossible things|||by seeing do you mean visual interpreting or seeing as in mentally understanding the concept?|||hello...  \n",
              "8  I'm not sure, that's a good question. The distinction between the two is so dependant on perception. To quote Robb Flynn, ''The hate you feel is nothing more, than love you feel to win this war.''|||Good question! It's tough to say for sure but I loved Winona Ryder as Lydia in Beetlejuice...  http://i63.photobucket.com/albums/h158/trinsghost/Misc-Images/2921aa070866f20450f8e1160b1e5d41.jpg|||https://www.youtube.com/watch?v=r5If816MhoU|||https://www.youtube.com/watch?v=Q-sQklvpDhA|||I've been lonely for much of my time. For a while now I've been working on changing ''how to think'', and one way is trying to find the positive in everything, no matter how bleak it might seem. I...|||I hope I can look back at this current stretch of time and think, ''Thank God I'm not there anymore and things are so much better''. What an ass-kickin' I'm taking.|||Help or a voice of reason, other than my own distorted, in my life. I'm completely frusterated and feel like I'm on the brink. I'm carrying ...  \n",
              "9  'https://www.youtube.com/watch?v=w8-egj0y8Qs|||I'm in this position where I have to actually let go of the person, due to a various reasons. Unfortunately I'm having trouble mustering enough strength to actually pull through it. Sometimes,...|||WHAT A YEAR, MAN. WHAT A YEAR.   I am just utterly bewildered with my 20s at this point.|||my laundry. as long as i've got clothes left to wear i'm fine.  and then the time comes that i DO run out, and i'm left to contend with The Mountain that is my laundry pile.  Sent from my Apollo...|||http://www.youtube.com/watch?v=Xyix3xdRd3Y|||going back to the office in a few hours. back to being dumbstruck and confused by your presence, back to being on the edge 90% of the time, back to feeling duplicitous, and hopelessly despicable,...|||i followed Scott Disick on instagram and so far i'm not regretting it lol. douchebags amuse me to no end.  Sent from my Apollo using Tapatalk|||you are SO quiet! you have beautiful hair. you're too damn logical, i ...  "
            ],
            "text/html": [
              "\n",
              "  <div id=\"df-2c76099b-d3b7-4edc-aa39-4123984dfe4f\" class=\"colab-df-container\">\n",
              "    <div>\n",
              "<style scoped>\n",
              "    .dataframe tbody tr th:only-of-type {\n",
              "        vertical-align: middle;\n",
              "    }\n",
              "\n",
              "    .dataframe tbody tr th {\n",
              "        vertical-align: top;\n",
              "    }\n",
              "\n",
              "    .dataframe thead th {\n",
              "        text-align: right;\n",
              "    }\n",
              "</style>\n",
              "<table border=\"1\" class=\"dataframe\">\n",
              "  <thead>\n",
              "    <tr style=\"text-align: right;\">\n",
              "      <th></th>\n",
              "      <th>type</th>\n",
              "      <th>posts</th>\n",
              "    </tr>\n",
              "  </thead>\n",
              "  <tbody>\n",
              "    <tr>\n",
              "      <th>0</th>\n",
              "      <td>INFJ</td>\n",
              "      <td>'http://www.youtube.com/watch?v=qsXHcwe3krw|||http://41.media.tumblr.com/tumblr_lfouy03PMA1qa1rooo1_500.jpg|||enfp and intj moments  https://www.youtube.com/watch?v=iz7lE1g4XM4  sportscenter not top ten plays  https://www.youtube.com/watch?v=uCdfze1etec  pranks|||What has been the most life-changing experience in your life?|||http://www.youtube.com/watch?v=vXZeYwwRDw8   http://www.youtube.com/watch?v=u8ejam5DP3E  On repeat for most of today.|||May the PerC Experience immerse you.|||The last thing my INFJ friend posted on his facebook before committing suicide the next day. Rest in peace~   http://vimeo.com/22842206|||Hello ENFJ7. Sorry to hear of your distress. It's only natural for a relationship to not be perfection all the time in every moment of existence. Try to figure the hard times as times of growth, as...|||84389  84390  http://wallpaperpassion.com/upload/23700/friendship-boy-and-girl-wallpaper.jpg  http://assets.dornob.com/wp-content/uploads/2010/04/round-home-design.jpg ...</td>\n",
              "    </tr>\n",
              "    <tr>\n",
              "      <th>1</th>\n",
              "      <td>ENTP</td>\n",
              "      <td>'I'm finding the lack of me in these posts very alarming.|||Sex can be boring if it's in the same position often. For example me and my girlfriend are currently in an environment where we have to creatively use cowgirl and missionary. There isn't enough...|||Giving new meaning to 'Game' theory.|||Hello *ENTP Grin*  That's all it takes. Than we converse and they do most of the flirting while I acknowledge their presence and return their words with smooth wordplay and more cheeky grins.|||This + Lack of Balance and Hand Eye Coordination.|||Real IQ test I score 127. Internet IQ tests are funny. I score 140s or higher.  Now, like the former responses of this thread I will mention that I don't believe in the IQ test. Before you banish...|||You know you're an ENTP when you vanish from a site for a year and a half, return, and find people are still commenting on your posts and liking your ideas/thoughts. You know you're an ENTP when you...|||http://img188.imageshack.us/img188/6422/6020d1f...</td>\n",
              "    </tr>\n",
              "    <tr>\n",
              "      <th>2</th>\n",
              "      <td>INTP</td>\n",
              "      <td>'Good one  _____   https://www.youtube.com/watch?v=fHiGbolFFGw|||Of course, to which I say I know; that's my blessing and my curse.|||Does being absolutely positive that you and your best friend could be an amazing couple count? If so, than yes.   Or it's more I could be madly in love in case I reconciled my feelings (which at...|||No, I didn't; thank you for a link!|||So-called Ti-Si loop (and it can stem from any current topic/obsession) can be deadly. It's like when you're stuck in your own thoughts, and your mind just wanders in circles. Feels truly terrible. ...|||Have you noticed how peculiar vegetation can be? All you have to do is look down at the grass: dozens of different plant species there.    And now imagine that hundreds of years later (when/if soil...|||The Smiths – Never Had No One Ever|||I often find myself spotting faces on marble tiles/wood.|||This 5 year-old sentence is an incredibly accurate and beautiful description.|||I haven't visited this website in the las...</td>\n",
              "    </tr>\n",
              "    <tr>\n",
              "      <th>3</th>\n",
              "      <td>INTJ</td>\n",
              "      <td>'Dear INTP,   I enjoyed our conversation the other day.  Esoteric gabbing about the nature of the universe and the idea that every rule and social code being arbitrary constructs created...|||Dear ENTJ sub,   Long time no see.  Sincerely, Alpha|||None of them. All other types hurt in deep existential ways that I want no part of.|||Probably a sliding scale that depends on individual preferences, like everything in humanity.|||Draco Malfoy also. I'd say he's either 358 or 368.|||I'm either 358 or 385, though in which stacking to me is a somewhat arbitrary distinction to make as I believe that the core indicates primary motivation and has a hand in every action. Therefore, a...|||I'm not particularly introverted or extraverted, personally. That said, I would say I'm somewhat unphased by either social interactions or being alone. What I'd say I crave more so than anything is...|||Dear Type 9 INFP,  Your absolute admiration of me is refreshing. You're a great girlfriend and I wish we bo...</td>\n",
              "    </tr>\n",
              "    <tr>\n",
              "      <th>4</th>\n",
              "      <td>ENTJ</td>\n",
              "      <td>'You're fired.|||That's another silly misconception. That approaching is logically is going to be the key to unlocking whatever it is you think you are entitled to.   Nobody wants to be approached with BS...|||But guys... he REALLY wants to go on a super-duper-long-ass vacation. C'mon guys. His boss just doesn't listen or get it. He even approached him logically and everything.|||Never mind. Just go on permanent vacation.|||Two months? I wouldn't be crazy about the idea. If you are really his best employee, then that's what may be cooking him. Who wants their most reliable asset gone for that long?  ENTJ employer...|||Lol. Its not like our views were unsolicited. What a victim.|||Sometimes I just really like impoverished rap music.   https://www.youtube.com/watch?v=Xh0vA6_8mv8|||I probably would have lost it too. His stonewalling was insignificant. He was being an idiot over semantics that didn't have any impact on anything. It's one thing to stone wall on critical shit, but...|||I...</td>\n",
              "    </tr>\n",
              "    <tr>\n",
              "      <th>5</th>\n",
              "      <td>INTJ</td>\n",
              "      <td>'18/37 @.@|||Science  is not perfect. No scientist claims that it is, or that scientific  information will not be revised as we discover new things.  Rational  thinking has been very useful to our society....|||INFP- Edgar Allen Poe was an INFP and he's in your siggy.|||People see the obvious Fi and are quick to put her as INFP. I agree that she has no Ne. I see her as an ISFP. Compare her to Haku (definite INFP). She is flat through most of Naruto.. but I don't...|||Lets get this party started  66314|||I did not say it disproved God. I merely said that I found such methods disturbing. Although, it does bring up certain questions. God is in control of the universe, and the governments of the world,...|||Surprisingly, I could not find a thread about this on perc even with Google. So, here you go.  Watch Jesus Camp online - Watch Movies Online, Full Movies, Download  I was disturbed watching this...|||A metaphysical gun (Hell) held to someone's head can be just as effective as an act...</td>\n",
              "    </tr>\n",
              "    <tr>\n",
              "      <th>6</th>\n",
              "      <td>INFJ</td>\n",
              "      <td>'No, I can't draw on my own nails (haha). Those were done by professionals on my nails. And yes, those are all gel.  You mean those you posted were done by yourself on your own nails? Awesome!|||Probably the Electronic Screen Syndrome. With the advent of technology and social media, we all suffer from overstimulation on a daily basis. I'm guilty as well. In the past, I can be happy just...|||I love nail arts too! These are some of mine:  718282 718290 718298 718306 718314|||This is the first time I'm hearing this - about menstruation and church. Thanks for sharing but yeah, it's crazy. I thought only Taoists have such a belief.|||Dear very bad person,  Not trying to get in between your arguments but I'm copying down that sentence for future use. :tongue:|||*Speaking from a bomb shelter*  So which Christian values do you still hold? I agree that people can still be good in the absence of religion and people also do bad in the name of religion but the...|||I never really thought abou...</td>\n",
              "    </tr>\n",
              "    <tr>\n",
              "      <th>7</th>\n",
              "      <td>INTJ</td>\n",
              "      <td>'I tend to build up a collection of things on my desktop that i use frequently and then move them into a folder called  'Everything' from there it get sorted into type and sub type|||i ike to collect odd objects, even at work...a lot of people would call it junk but i like to collect it.  Old unused software? ill take that off your hands :) i have a bunch of old adobe...|||i think its quite normal, i tend to only see my friends in real life every couple of months, as said earlier some people just dont get it but the good ones do :)  Edit: i mostly mean tolerate it...|||where do we go when we sleep? is dreaming another form of being awake? how many more layers of this are there if any?   thoughts about sleep keep me up at night  Edit: sometimes im too scared...|||thanks|||i wish i was free to follow my interests as i desired  i feel as though wishes are meant for impossible things|||by seeing do you mean visual interpreting or seeing as in mentally understanding the concept?|||hello...</td>\n",
              "    </tr>\n",
              "    <tr>\n",
              "      <th>8</th>\n",
              "      <td>INFJ</td>\n",
              "      <td>I'm not sure, that's a good question. The distinction between the two is so dependant on perception. To quote Robb Flynn, ''The hate you feel is nothing more, than love you feel to win this war.''|||Good question! It's tough to say for sure but I loved Winona Ryder as Lydia in Beetlejuice...  http://i63.photobucket.com/albums/h158/trinsghost/Misc-Images/2921aa070866f20450f8e1160b1e5d41.jpg|||https://www.youtube.com/watch?v=r5If816MhoU|||https://www.youtube.com/watch?v=Q-sQklvpDhA|||I've been lonely for much of my time. For a while now I've been working on changing ''how to think'', and one way is trying to find the positive in everything, no matter how bleak it might seem. I...|||I hope I can look back at this current stretch of time and think, ''Thank God I'm not there anymore and things are so much better''. What an ass-kickin' I'm taking.|||Help or a voice of reason, other than my own distorted, in my life. I'm completely frusterated and feel like I'm on the brink. I'm carrying ...</td>\n",
              "    </tr>\n",
              "    <tr>\n",
              "      <th>9</th>\n",
              "      <td>INTP</td>\n",
              "      <td>'https://www.youtube.com/watch?v=w8-egj0y8Qs|||I'm in this position where I have to actually let go of the person, due to a various reasons. Unfortunately I'm having trouble mustering enough strength to actually pull through it. Sometimes,...|||WHAT A YEAR, MAN. WHAT A YEAR.   I am just utterly bewildered with my 20s at this point.|||my laundry. as long as i've got clothes left to wear i'm fine.  and then the time comes that i DO run out, and i'm left to contend with The Mountain that is my laundry pile.  Sent from my Apollo...|||http://www.youtube.com/watch?v=Xyix3xdRd3Y|||going back to the office in a few hours. back to being dumbstruck and confused by your presence, back to being on the edge 90% of the time, back to feeling duplicitous, and hopelessly despicable,...|||i followed Scott Disick on instagram and so far i'm not regretting it lol. douchebags amuse me to no end.  Sent from my Apollo using Tapatalk|||you are SO quiet! you have beautiful hair. you're too damn logical, i ...</td>\n",
              "    </tr>\n",
              "  </tbody>\n",
              "</table>\n",
              "</div>\n",
              "    <div class=\"colab-df-buttons\">\n",
              "\n",
              "  <div class=\"colab-df-container\">\n",
              "    <button class=\"colab-df-convert\" onclick=\"convertToInteractive('df-2c76099b-d3b7-4edc-aa39-4123984dfe4f')\"\n",
              "            title=\"Convert this dataframe to an interactive table.\"\n",
              "            style=\"display:none;\">\n",
              "\n",
              "  <svg xmlns=\"http://www.w3.org/2000/svg\" height=\"24px\" viewBox=\"0 -960 960 960\">\n",
              "    <path d=\"M120-120v-720h720v720H120Zm60-500h600v-160H180v160Zm220 220h160v-160H400v160Zm0 220h160v-160H400v160ZM180-400h160v-160H180v160Zm440 0h160v-160H620v160ZM180-180h160v-160H180v160Zm440 0h160v-160H620v160Z\"/>\n",
              "  </svg>\n",
              "    </button>\n",
              "\n",
              "  <style>\n",
              "    .colab-df-container {\n",
              "      display:flex;\n",
              "      gap: 12px;\n",
              "    }\n",
              "\n",
              "    .colab-df-convert {\n",
              "      background-color: #E8F0FE;\n",
              "      border: none;\n",
              "      border-radius: 50%;\n",
              "      cursor: pointer;\n",
              "      display: none;\n",
              "      fill: #1967D2;\n",
              "      height: 32px;\n",
              "      padding: 0 0 0 0;\n",
              "      width: 32px;\n",
              "    }\n",
              "\n",
              "    .colab-df-convert:hover {\n",
              "      background-color: #E2EBFA;\n",
              "      box-shadow: 0px 1px 2px rgba(60, 64, 67, 0.3), 0px 1px 3px 1px rgba(60, 64, 67, 0.15);\n",
              "      fill: #174EA6;\n",
              "    }\n",
              "\n",
              "    .colab-df-buttons div {\n",
              "      margin-bottom: 4px;\n",
              "    }\n",
              "\n",
              "    [theme=dark] .colab-df-convert {\n",
              "      background-color: #3B4455;\n",
              "      fill: #D2E3FC;\n",
              "    }\n",
              "\n",
              "    [theme=dark] .colab-df-convert:hover {\n",
              "      background-color: #434B5C;\n",
              "      box-shadow: 0px 1px 3px 1px rgba(0, 0, 0, 0.15);\n",
              "      filter: drop-shadow(0px 1px 2px rgba(0, 0, 0, 0.3));\n",
              "      fill: #FFFFFF;\n",
              "    }\n",
              "  </style>\n",
              "\n",
              "    <script>\n",
              "      const buttonEl =\n",
              "        document.querySelector('#df-2c76099b-d3b7-4edc-aa39-4123984dfe4f button.colab-df-convert');\n",
              "      buttonEl.style.display =\n",
              "        google.colab.kernel.accessAllowed ? 'block' : 'none';\n",
              "\n",
              "      async function convertToInteractive(key) {\n",
              "        const element = document.querySelector('#df-2c76099b-d3b7-4edc-aa39-4123984dfe4f');\n",
              "        const dataTable =\n",
              "          await google.colab.kernel.invokeFunction('convertToInteractive',\n",
              "                                                    [key], {});\n",
              "        if (!dataTable) return;\n",
              "\n",
              "        const docLinkHtml = 'Like what you see? Visit the ' +\n",
              "          '<a target=\"_blank\" href=https://colab.research.google.com/notebooks/data_table.ipynb>data table notebook</a>'\n",
              "          + ' to learn more about interactive tables.';\n",
              "        element.innerHTML = '';\n",
              "        dataTable['output_type'] = 'display_data';\n",
              "        await google.colab.output.renderOutput(dataTable, element);\n",
              "        const docLink = document.createElement('div');\n",
              "        docLink.innerHTML = docLinkHtml;\n",
              "        element.appendChild(docLink);\n",
              "      }\n",
              "    </script>\n",
              "  </div>\n",
              "\n",
              "\n",
              "<div id=\"df-b03871be-a64b-49d6-bd6f-1043ee93f0e8\">\n",
              "  <button class=\"colab-df-quickchart\" onclick=\"quickchart('df-b03871be-a64b-49d6-bd6f-1043ee93f0e8')\"\n",
              "            title=\"Suggest charts\"\n",
              "            style=\"display:none;\">\n",
              "\n",
              "<svg xmlns=\"http://www.w3.org/2000/svg\" height=\"24px\"viewBox=\"0 0 24 24\"\n",
              "     width=\"24px\">\n",
              "    <g>\n",
              "        <path d=\"M19 3H5c-1.1 0-2 .9-2 2v14c0 1.1.9 2 2 2h14c1.1 0 2-.9 2-2V5c0-1.1-.9-2-2-2zM9 17H7v-7h2v7zm4 0h-2V7h2v10zm4 0h-2v-4h2v4z\"/>\n",
              "    </g>\n",
              "</svg>\n",
              "  </button>\n",
              "\n",
              "<style>\n",
              "  .colab-df-quickchart {\n",
              "      --bg-color: #E8F0FE;\n",
              "      --fill-color: #1967D2;\n",
              "      --hover-bg-color: #E2EBFA;\n",
              "      --hover-fill-color: #174EA6;\n",
              "      --disabled-fill-color: #AAA;\n",
              "      --disabled-bg-color: #DDD;\n",
              "  }\n",
              "\n",
              "  [theme=dark] .colab-df-quickchart {\n",
              "      --bg-color: #3B4455;\n",
              "      --fill-color: #D2E3FC;\n",
              "      --hover-bg-color: #434B5C;\n",
              "      --hover-fill-color: #FFFFFF;\n",
              "      --disabled-bg-color: #3B4455;\n",
              "      --disabled-fill-color: #666;\n",
              "  }\n",
              "\n",
              "  .colab-df-quickchart {\n",
              "    background-color: var(--bg-color);\n",
              "    border: none;\n",
              "    border-radius: 50%;\n",
              "    cursor: pointer;\n",
              "    display: none;\n",
              "    fill: var(--fill-color);\n",
              "    height: 32px;\n",
              "    padding: 0;\n",
              "    width: 32px;\n",
              "  }\n",
              "\n",
              "  .colab-df-quickchart:hover {\n",
              "    background-color: var(--hover-bg-color);\n",
              "    box-shadow: 0 1px 2px rgba(60, 64, 67, 0.3), 0 1px 3px 1px rgba(60, 64, 67, 0.15);\n",
              "    fill: var(--button-hover-fill-color);\n",
              "  }\n",
              "\n",
              "  .colab-df-quickchart-complete:disabled,\n",
              "  .colab-df-quickchart-complete:disabled:hover {\n",
              "    background-color: var(--disabled-bg-color);\n",
              "    fill: var(--disabled-fill-color);\n",
              "    box-shadow: none;\n",
              "  }\n",
              "\n",
              "  .colab-df-spinner {\n",
              "    border: 2px solid var(--fill-color);\n",
              "    border-color: transparent;\n",
              "    border-bottom-color: var(--fill-color);\n",
              "    animation:\n",
              "      spin 1s steps(1) infinite;\n",
              "  }\n",
              "\n",
              "  @keyframes spin {\n",
              "    0% {\n",
              "      border-color: transparent;\n",
              "      border-bottom-color: var(--fill-color);\n",
              "      border-left-color: var(--fill-color);\n",
              "    }\n",
              "    20% {\n",
              "      border-color: transparent;\n",
              "      border-left-color: var(--fill-color);\n",
              "      border-top-color: var(--fill-color);\n",
              "    }\n",
              "    30% {\n",
              "      border-color: transparent;\n",
              "      border-left-color: var(--fill-color);\n",
              "      border-top-color: var(--fill-color);\n",
              "      border-right-color: var(--fill-color);\n",
              "    }\n",
              "    40% {\n",
              "      border-color: transparent;\n",
              "      border-right-color: var(--fill-color);\n",
              "      border-top-color: var(--fill-color);\n",
              "    }\n",
              "    60% {\n",
              "      border-color: transparent;\n",
              "      border-right-color: var(--fill-color);\n",
              "    }\n",
              "    80% {\n",
              "      border-color: transparent;\n",
              "      border-right-color: var(--fill-color);\n",
              "      border-bottom-color: var(--fill-color);\n",
              "    }\n",
              "    90% {\n",
              "      border-color: transparent;\n",
              "      border-bottom-color: var(--fill-color);\n",
              "    }\n",
              "  }\n",
              "</style>\n",
              "\n",
              "  <script>\n",
              "    async function quickchart(key) {\n",
              "      const quickchartButtonEl =\n",
              "        document.querySelector('#' + key + ' button');\n",
              "      quickchartButtonEl.disabled = true;  // To prevent multiple clicks.\n",
              "      quickchartButtonEl.classList.add('colab-df-spinner');\n",
              "      try {\n",
              "        const charts = await google.colab.kernel.invokeFunction(\n",
              "            'suggestCharts', [key], {});\n",
              "      } catch (error) {\n",
              "        console.error('Error during call to suggestCharts:', error);\n",
              "      }\n",
              "      quickchartButtonEl.classList.remove('colab-df-spinner');\n",
              "      quickchartButtonEl.classList.add('colab-df-quickchart-complete');\n",
              "    }\n",
              "    (() => {\n",
              "      let quickchartButtonEl =\n",
              "        document.querySelector('#df-b03871be-a64b-49d6-bd6f-1043ee93f0e8 button');\n",
              "      quickchartButtonEl.style.display =\n",
              "        google.colab.kernel.accessAllowed ? 'block' : 'none';\n",
              "    })();\n",
              "  </script>\n",
              "</div>\n",
              "\n",
              "    </div>\n",
              "  </div>\n"
            ],
            "application/vnd.google.colaboratory.intrinsic+json": {
              "type": "dataframe",
              "variable_name": "df",
              "summary": "{\n  \"name\": \"df\",\n  \"rows\": 8675,\n  \"fields\": [\n    {\n      \"column\": \"type\",\n      \"properties\": {\n        \"dtype\": \"category\",\n        \"num_unique_values\": 16,\n        \"samples\": [\n          \"INFJ\",\n          \"ENTP\",\n          \"ENFJ\"\n        ],\n        \"semantic_type\": \"\",\n        \"description\": \"\"\n      }\n    },\n    {\n      \"column\": \"posts\",\n      \"properties\": {\n        \"dtype\": \"string\",\n        \"num_unique_values\": 8675,\n        \"samples\": [\n          \"'This. When I lie it's to avoid an unreasonable response for something I did that was completely justifiable to me but if I was to try to justify to someone else they'd be too hung up on what I did. I...|||Your IQ (SD15): 128|||I typically have very difficult times maintaining friends I've come to realize. I've had people I talk to for years and I still don't want to talk to them... I DID, but then I just got bored of them,...|||An INTJ friend of mine told me she really hates eating because it's so repetitive. As an INTP I don't really feel bothered, I don't really register eating I just do it while I'm thinking about...|||Similar Minds Advanced Test|||INTP 9 sx/so I have a lot of friends but I only have one I speak about how I actually feel with and only 1 other that I talk about what I am actually thinking about - with regards to...|||Getting close to someone and end up wanting to be infinitely close to them and end up merging every damn time.|||Interesting topic, I know two ENFP's, 1 is strange, as an INTP I view some of the stuff she does as 'coming onto me'?  - sort of. She gets really close and is very open to me, just what ENFP's do,...|||As far as I'm aware this is normal in all people, it's not so much your pessimistic self but just that humans are social creatures and you will feel better after socializing for that reason. Being...|||Vajrayaksa  How dare you use Lelouch as an INTP! He is an INTJ I say!|||I normally think about doing this stuff but don't actually do it.|||You'll probably find that commenting on their nihilistic thoughts logically would make them more open. Dismissing ideas will merely make them agree with that idea more as they'll feel a need to...|||Don't worry, calling me thinker is the same.|||INTJ - Winter - Coldest ENTJ - Summer - Actually doing things ENTP - Spring - Bringing out the fun in people INTP - Autumn - No one ever notices this season|||I've known a couple ENTP's, one ENTJ and an INTJ and it kind of went ENTP>ENTJ>ENTP>INTJ I love being able to constantly talk with ENTP's but also they need to know when to stop talking, if an ENTP...|||If you mean actually 1v1ing yourself I also have done this, maybe I'm wrong but I find it pretty easy to think about the most logical move the player I am playing should make with the information...|||Gender: female Age: 19-29 Intelligence: gifted Idea adoption: early-adopter MBTI personality profile: ESFP Closest alternative we found: ESFJ  I think I killed it when it told me to write...|||I'm fine with them, I'm more on shortage of people I'd ever want to do them with but that's on the grounds that any socialising that could be done could just as well be done over skype without the...|||I used to use pencils then I was told that my teachers wanted me to use pens only - so I used pens only. I haven't used a pencil - excluding my games of naughts and crosses earlier - in a couple...|||I'd love to own either a calm house out somewhere distant with a porch and a log cabin aesthetic - fuck it, I want a log cabin. OR I'd actually really like the idea of being in one of those smokey...|||Yeah I enjoy listening to lyrics but it doesn't make much of a difference if they're present or not, if they are there they're just another part of the instrumental I don't necessarily listen to...|||More often then not someone is only going to be fully entering my world if they invite me into theirs first and it's similar or we're friends on the internet - because then there are few...|||What did you get me today?  My head = Shit, shit, shit what did I miss, is it your birthday? Was I supposed to get you something? Are we that good friends that I should be buying you stuff? I...|||I frequently say it as an off hand thing, someone does something really awesome and I say fuck yeah I love you man or something like that. If I was to say it in a genuine way then it'd feel really...|||So something strange has been happening recently, my interest was drawn to naughts and crosses and how I could make it more enjoyable to play. I started by increasing the grid size and tried...|||You could tell them your thoughts. You could not tell them your thoughts and continue to brew over it. I think that there's no reason to be ashamed or annoyed about anything and if you don't...|||loudly, whilst he drew his|||and the baby platypi quivered|||particularly in the higher regions|||Starting with a lingering feeling|||What's the point of stopping? Why does it matter what they're called? Guilty pleasures are pleasures for a reason, does it matter that much?|||their own god dam story|||post multiple times to do|||It's impressive how people would|||Maximum of five words per line, feel free to say other stuff in the most but make sure it's clear which is the five words.     Once upon a time in|||someone who appreciates c.c. Fuck yeah!|||Yeezus can't we come to a reasonable conclusion without you picking a fight? It's not being open minded.|||More often then not I judge them purely by how they judge me, I have a dark sense of humor that I'm not exactly secretive about, I get along with most people on the grounds that I'm just friendly to...|||I chose my avatar as it's an awesome art work of Kaneki from Tokyo Ghoul and by god I loved the manga, love tragedies. Name is a slightly altered version of my name, George - Georgius. Liked the Halo...|||Violence in this situation would probably be a faster way to get things done for both parties involved and especially on the receiving end, trying to talk sense into someone who just said something...|||But surely the point that everyone would be worse off initially isn't relevant? Rebuilding a system would obviously have it's issues here and there.  I'm not crying revolution and I'm not being...|||We'd call it Diagon Alley!|||I'm with you, I make a pretty big point of not being a person for people to expect feelings from, I want to be that person but I just feel wrong, someones crying their eyes out and here I am lying...|||Good call but that's just how I read it ^^'|||What about a four dimensional plane.|||Why airplane why not aeroplane?|||Hit them for having the expectation that you should live up to their expectations which is infuriating in and of itself probably.|||It's just because hitting a women is politically incorrect and some women will use that to their advantage.|||What he's saying is that they should assume that if they say something worthy of being hit for, that they should be grateful when they're not hit for it, not expect not to be hit just on the basis...|||Is it particularly common amongst INTP's and other types to just acknowledge another sides point of view even though socially you shouldn't. What I mean by this is I can't have conversation with...'\",\n          \"'I said zero flexibility and little time for dating. Going around sifting through dates to find one that clicks isn't going to be as viable.  That has nothing to do with maintaining a relationship I...|||How you've come to the conclusion I have nothing to offer  merely because I am busy is beyond me.       No not really. Again, more made up stuff.|||okay, this isn't cool.  you're specifically looking to get into a relationship because you're about to enter a life phase where you will not have any resources to give to a relationship?   that is...|||I do take it slow (that's why I'm still single), but I'm not interested in making friends. I  have friends. Enough for my liking. I'm interested in going on dates with the intent of entering a...|||Absolutely not for me. I find the idea repugnant, actually.|||People could have been polite. Maybe average is a more conservative bet. And I'm not claiming I'm a social butterfly. I'm just a normal guy who is introverted but not a social doofus.  I don't...|||I'm probably giving up the online thing here when my next subscription runs out. After that I really don't know where to look. Bars are a definite no. I don't understand where people meet their...|||I've tried both ways, actually. The last few women I have gone out with have gotten really weird and/or ignored my backhanded compliments. I don't know what to do anymore. Seems I get screwed either...|||I'm actually pretty healthy.     Sorry you feel that way. Not sure which ones you met, but assholes exist everywhere. The number isn't anywhere near 99% though.|||If anything I err on the side of being indifferent. Definitely not overeager.|||Yeah my close friends don't live near me anymore.  The issue is that I have been meeting people, a good amount, and nothing works. I want to know why it is that deformed, infirm, mentally unstable,...|||My friends are in worse positions than I am. Asking them isn't going to help.   As far as feedback, not really because that seems like an extraordinarily awkward thing to ask someone you barely...|||So, I'm a 26 year old male who has been striking out time and time again when it comes to relationships. I've been in one relationship my entire life that lasted like 1.5 years and ended when I was...|||I don't think this sort of dating method is very reasonable, and at best, it is counterproductive. Being friends first just throws a wrench in what is normally a smooth dating process. When you fear...|||Never was a kiss.|||I appreciate the feedback. I think I'm just going to tell her we shouldn't hang out unless she can dedicate a decent amount of time to it. What is happening right now is dragging things out and...|||I don't know. After thinking more, I'm on the verge of giving up. It has nothing to do with seeing her infrequently, or not making it official or what have you. It's that she keeps things...|||I don't know. I'm not a model or anything but I'm decent looking. She's drop dead gorgeous and nice and smart. Guys are always after her it seems. But I'm also smarter and have better career...|||I like your answer, but maybe I'm just being optimistic. It is basically, what I've been doing. I can't shake the feeling that she wouldn't be giving me any of her time if she weren't interested and...|||How am I supposed to know if an INFJ just wants to be friends? Things have been very weird with an INFJ I've been seeing. I've been very upfront about my intentions and she essentially told me she...|||Interesting. I find it unusual INFJs are known for taking forever to open up and trust people yet all the responses so far have indicated kissing in 3 or fewer dates....|||My INFJ friend has been with an INTJ, and i don't want to bust your confidence but even though she liked him at first, she soon found out that he was putting her down and felt caged. I can see that...|||Enlighten us infjs. Also indicate your gender and if you initiated.|||Well there was more than that. She also said she was basically trying to figure out if I'm trustworthy and decent.|||Those two things seem at odds. How can you be simultaneously not saying things that need to be said but also being proactively aggressive?|||Pretty much yeah. Women just do not enjoy my company on any level. I'm in the same situation. Never had any female friends, dated one person in my life and it lasted a little less than two years. The...|||I don't think that is going to help me dig myself out of the very clingy seeming hole I dug myself. I basically asked her if she knew I was romantically interested and she responded of course lol...|||I should have just let things proceed at a natural pace. Pretty pissed at myself. About zero chance she speaks to me again.|||I read through most of that thread. From what I can tell I never did anything egregious. Good chance she lost interest after my bluntness though lol.|||I broke that off shortly after my post. I felt like a slime ball. I only did it because people were telling me she's a lost cause and I should see other people. BTW I have a very well developed...|||Update on this. Told her I liked her and got no reassurance she liked me or even that she wasn't interested. Those who said she was ambivalent were right. I'm pretty much calling it off at this point...|||Yeah so I told her and didn't get an affirmation she liked me nor that she didn't. She basically said she had known for a while I like her. Pretty much what I expected. Probably going to call it...|||Is the crystal ball reference supposed to mean your guess is as good as mine or what? Edit: guess not :p|||So I've gone on six or so dates with an INFJ over a 3 month period (she's pretty busy, and me too) and recently I feel like progress has been a little glacial. For a bit I thought she was warming up...|||She hates texting.  And yeah, she told me how picky she was about people recently and that normally she wouldn't give anyone the time of day.|||You would literally have to have an autism spectrum disorder. I would know.  Not to mention you don't tell someone who is just friends how much you like them. That would be more than bizarre.|||It's kind of hard to get to the point of officially dating when you have no idea what is going on in her head. For all I know an attempt to kiss her would result in abject horror and assault...|||Spoke to her last night, she essentially said she likes me a lot and would normally never make any time for people unless she was obligated to. But she also indirectly used the word friend but it...|||So I met an INFJ female a while back, and we've been out like five or so times on a date. They go well, we get along, everything seems nice. I find her very attractive and we have quite a bit in...|||'  I don't know, I kind of have a rule that I don't compliment a female on her appearance until she trusts me. I did compliment her personality a few times.  She is extremely cautious from what I...|||Well, now I have a new question. Went on a second date a few days ago and it went well and she said she wanted to meet up again. The problem is, there hasn't been an ounce of flirting or touching...|||She started initiating with me and asked if I'm free soon. -_-    If there is anything to be learned it is don't play the analysis game. You will lose.|||Expectations of....?|||I don't know. I can't really fault a strong introvert for being wary about someone she doesn't really know. Number 2 is cruel, but it is how modern dating works.    Pretty sure this isn't the...|||I don't know. I can't really fault a strong introvert for being wary about someone she doesn't really know. Number 2 is cruel, but it is how modern dating works.    Pretty sure this isn't the...|||Thanks, option 1 seems most likely. It seems whenever I finally get her to open up there is like a cascade of good conversation that finally ensues, but it is like pulling teeth initially. Then I...|||I'm socially retarded and would know that if a random stranger asked for my contact info then asked me out for drinks or lunch then the person probably isn't interested in just being friends.|||So I shouldn't be deterred by the fact she doesn't really ever reach out to me? I don't enjoy appearing like someone who can't take a hint or who puts someone else in an awkward situation. I worry...|||No this seems to fit her pretty well.|||Thanks for the advice everyone. I appreciate your taking the time to respond.'\",\n          \"'This has to be written with bias or something, I'm not sure how you could even say that truthfully. For some reason you put subjectivity for both God and man? It says nothing.    That makes no...|||??? How?  The main priority of the church is written throughout it's texts for the past nearly 2000 years and reverberated throughout the church's dialogues both before and after the incident about...|||That's an annoying phrasing, as it's just obtuse and confusing to newcomers. I don't blame you for your response there.    Why must the revealed knowledge not speak truth but contain a bias...|||There are no priestly desk jobs. The closest thing you have to being a priest that gets you away from people is being a monk and that in itself is very different.  I am telling you they did it out...|||No, you really won't. You can't just go to an INTP and assume their intelligence level. That would end in failure. Don't be afraid to ask big questions when musing with the INTP and just try to...|||Heresy is, like, the core reason most all Christian in-fighting occurs. Everything else is minor disputes about theological opinions.|||That's exceedingly subjective. See what they're interested in, strike up a conversation about it. Definitely ask them their thoughts.|||To dismiss my concept of it is to dismiss all history on the topic, dismiss what the apostles taught, and literally all sects of Christianity. But fine, whatever.|||Do cool shit, discuss ideas, have patience, don't try to judge personally too quickly or control them. ALSO, make the first move to show you're interested in talking with them.|||I used to feel about the same until I read the book Self-Made Man, where a lesbian 'butch' woman dressed like a man and tried to live as one. She noticed herself being considered a feminine man quite...|||I'm not sure what the hell is going on in this thread but I would like to say I know no ENTJs personally, I don't think. It'd be neat, though.|||All churches are forms of political institutions. Catholic and Orthodox ones have the benefit of being centralized. All sects have declared doctrine in one way or another.  You're speaking against...|||And here is the most boring post in the whole thread.|||What part? If it's the idea of a teaching authority, you have a problem with all church until the 13th century. If it's the idea of a group being guided by the Holy Spirit in their decisions on...|||For Catholics, the church has a dual meaning. The whole of the believers (the Body of Christ) and the political institution. For Catholicism, their teachings of Christ are said to be protected by...|||Priests were relocated to other parishes so they may quiet down the criticism of the time and handle thing themselves. Again, poor decision but that was their decision.  The church's first priority...|||Well sure then. Yes, the church did protect child offenders. The church's reasoning was the image of the church itself and the their leadership's own ignorance of the size of the problem. The church...|||Edit: Based double post|||No, it really isn't. The Bible itself is the canon collection of texts. The Bible was established once the theological and historical work was done to establish the canon and it was not modified...|||Yes, nevermind it because the two claims do not contradict each other at all. I could work through how there is no contradiction if you're struggling.    I wouldn't say all, no. That's a...|||? There's no way to tell? But many of them depend on logic and/or history that contradicts or ruins their claims? Granted there are a few cases of we're yet to be able to know but many of it can...|||The problem of induction is a grand way of humbling yourself about scientific findings when you're younger. It brings into question if what we know is what we could call true.|||Rubix cubes.|||Pantheism makes no sense. I'd advise otherwise. Atheism and Abrahamic Theism are the only two rational choices.|||You, motherfucker.|||What is the meaning of everything? The universe exists. We are to learn to love in it.|||Disappointed 24 year old reporting in.  Good luck, OP.|||This is exceedingly naive. The early church, before scripture, applied their teaching to better society. After scripture, it was held in high esteem as a basis to properly better society. Most work...|||From the Catholic Catechism (list of official teaching) here is how we are to read the Bible:  III. THE HOLY SPIRIT, INTERPRETER OF SCRIPTURE   109 In Sacred Scripture, God speaks to man in a...|||I never liked people pointing to the Scandinavian model for the success of their economic system and not their incredible oil and natural resource supply compared to their small populations.|||While shit just got stupid for a moment. Lets try to get back on track.|||You're pretty smart, you know that?  Look at this fucker, she thinks I'm smart. Pfft.|||Exceedingly poor.|||I've just been told I'm bright, but I'm sure most everyone else says the same to the kids.|||And what of you?|||The most efficient way to remove self-doubt is to stop doubting yourself so much. Faith and trust, nigga.|||You suspect wrongly. I like the chatter and I'm being friendly with you. I seriously do hope you have a good day too.|||Indeed you do. Feel free to ask/argue/chat/or bullshit with me if you want. Have a good one, man.|||I'd say that's a stretch to say. Catholics believe the bible was inspired by God but written by men. Orthodox do too. As they assembled the biblical canon I'd have to say they have the greatest say...|||Edit: Welp.|||I see the arguments for inconsistencies. Sometimes they aren't actually inconsistencies. Sometimes they are. I find the simplest example of a true one being the rabbit that is apparently chewing...|||Sorry to take so long to get back to you, my internet has been screwing up horribly.  As for the answer, there was a considerable amount of things that got me off the atheist train but if I were to...|||The believing portion was a long and arduous process for me. I researched culture as a hobby and eventually I rolled around to religion. It was an interesting topic for me and I eventually began to...|||To your first statement... just... what. Where did that even come from? Of course they can know love, though with God they can know it fully, I'd argue.  As for Hell, it's taken a variety of...|||I'm very mixed on him. His criticism of Christianity (and envy, now that I've seen the video) is, while popular, piss poor and Max Scheler did a wonderful job making an argument otherwise on his...|||People believing in something as incontrovertibly true is what gets people into a murderous rage? Why just the incontrovertibly true? Why not the empirically true? Why not just majority opinion? To...|||Sure thing. Sounds sorta similar to the Epicurean Paradox.  Suffering/free will exists to strengthen the good. If you create a people so they may know love they cannot sincerely know love if they...|||Yo. Christian INTP here.  Anything you want?|||It's not we can make healthy children! it's we only let the healthy babies live! which is the issue. It's a moral issue about the innate value of life.|||249210'\"\n        ],\n        \"semantic_type\": \"\",\n        \"description\": \"\"\n      }\n    }\n  ]\n}"
            }
          },
          "metadata": {},
          "execution_count": 34
        }
      ],
      "source": [
        "df = pd.read_csv(\"Lab 2 - Personality Profile Type.csv\")\n",
        "df.head(10)"
      ]
    },
    {
      "cell_type": "markdown",
      "metadata": {
        "id": "b-IiCMnv1uIF"
      },
      "source": [
        "### Data splitting"
      ]
    },
    {
      "cell_type": "code",
      "source": [
        "val_test_ratio = 0.2\n",
        "X_train, X_val_test, y_train, y_val_test = train_test_split(df[\"posts\"],\n",
        "                                                    df[\"type\"],\n",
        "                                                    test_size=val_test_ratio,\n",
        "                                                    stratify=df[\"type\"],\n",
        "                                                    random_state=42)"
      ],
      "metadata": {
        "id": "tP-zJ3nB38MT"
      },
      "execution_count": null,
      "outputs": []
    },
    {
      "cell_type": "code",
      "execution_count": null,
      "metadata": {
        "id": "VqtjXYJz1uIH"
      },
      "outputs": [],
      "source": [
        "val_ratio = 0.5\n",
        "X_val, X_test, y_val, y_test = train_test_split(X_val_test,\n",
        "                                                    y_val_test,\n",
        "                                                    test_size=val_ratio,\n",
        "                                                    stratify=y_val_test,\n",
        "                                                    random_state=42)"
      ]
    },
    {
      "cell_type": "code",
      "execution_count": null,
      "metadata": {
        "colab": {
          "base_uri": "https://localhost:8080/"
        },
        "id": "NKaHwiXH1uII",
        "outputId": "d9a90e56-e92c-4e8c-e71b-6f5e7012efad"
      },
      "outputs": [
        {
          "output_type": "stream",
          "name": "stdout",
          "text": [
            "8675\n",
            "6940\n",
            "867\n",
            "868\n"
          ]
        }
      ],
      "source": [
        "print(len(df))\n",
        "print(len(X_train))\n",
        "print(len(X_val))\n",
        "print(len(X_test))"
      ]
    },
    {
      "cell_type": "markdown",
      "metadata": {
        "id": "hqWVKi_GorxZ"
      },
      "source": [
        "### EDA on training data"
      ]
    },
    {
      "cell_type": "markdown",
      "metadata": {
        "id": "R1zxJpFxorxa"
      },
      "source": [
        "- check NaNs"
      ]
    },
    {
      "cell_type": "code",
      "execution_count": null,
      "metadata": {
        "id": "HVEttSujorxa",
        "colab": {
          "base_uri": "https://localhost:8080/"
        },
        "outputId": "e7483aa7-46c1-45ba-8179-c0642da4e9aa"
      },
      "outputs": [
        {
          "output_type": "execute_result",
          "data": {
            "text/plain": [
              "0"
            ]
          },
          "metadata": {},
          "execution_count": 38
        }
      ],
      "source": [
        "X_train.isna().sum()"
      ]
    },
    {
      "cell_type": "markdown",
      "metadata": {
        "id": "UwjbzVaIorxb"
      },
      "source": [
        "- check duplicates"
      ]
    },
    {
      "cell_type": "code",
      "execution_count": null,
      "metadata": {
        "id": "J_FlBWISorxb",
        "colab": {
          "base_uri": "https://localhost:8080/"
        },
        "outputId": "abf9d534-3374-4e3c-a3c9-5567ec0fcf18"
      },
      "outputs": [
        {
          "output_type": "execute_result",
          "data": {
            "text/plain": [
              "0"
            ]
          },
          "metadata": {},
          "execution_count": 39
        }
      ],
      "source": [
        "X_train.duplicated().sum()"
      ]
    },
    {
      "cell_type": "code",
      "source": [
        "train = pd.concat([X_train, y_train], axis=1)\n",
        "val = pd.concat([X_val, y_val], axis=1)\n",
        "test = pd.concat([X_test, y_test], axis=1)\n",
        "\n",
        "train.head(20)"
      ],
      "metadata": {
        "colab": {
          "base_uri": "https://localhost:8080/",
          "height": 1000
        },
        "id": "hC-wMlEe4k0H",
        "outputId": "9577d569-7227-40a9-9dbb-f3c3b25a5f63"
      },
      "execution_count": null,
      "outputs": [
        {
          "output_type": "execute_result",
          "data": {
            "text/plain": [
              "                                                                                                                                                                                                                                                                                                                                                                                                                                                                                                                                                                                                                                                                                                                                                                                                                                                                                                                                                                                                                                        posts  \\\n",
              "8331  'this is actually exactly what i expected!  :laughing:  Introversion |||||||||| 40% |||||||||||||||| 70% Extroversion |||||||||||||||| 66% |||||||||| 36% Intuitive ||||||||||||||||||||...|||Now that you've had time to chill out, here comes the boundless insanity and awesomeness!  (p.s. just noticed the weird tense/perspective of this sentence... it's being spoken by the universe to me...|||I'm going to post before i actually read the entire thread:  Name a famous person you don't like. mel gibson  What was the last thing you bought? groceries to make italian food  Name a...|||i worked as a programmer all through high school, and then went to college for comp sci for about a year...  eventually i decided it was something that i enjoyed, but not something i wanted to do all...|||I buy it whenever possible, and i adjust my cooking habits to accommodate what's local and organic and in season.  I also cut corners in other parts of my budget so i don't have to sacrifice on the...|||for s...   \n",
              "1290  'Nope.  Not now, not ever.  I'm too busy with work, causes, and adrenaline-rush activities, and I'll do anything to make sure no one can keep up.  Freedom!  Forever!|||63913|||I did some thinking today and I decided to arrive at this conclusion.  I never really understood negative feelings in the past, so I tried to repress them hoping that they would go away and I would...|||How often do you guys find yourself miscommunicating with others, or using your own lingo when talking with others?  I remember DJArendee's post a while back where he said speaking for him is like...|||20.  I would cut up worms to see what would happen.  The heck kind of question is that!?!?!|||I think chessboxing would be a totally awesome sport for an ISTP.|||I was doing a lumbar puncture in the clinic when the earthquake rock and roll began - I just let go of the needle (already in the patient) and was like okay.... while waiting it out - then I got...|||Boy to Man  So I actually never really loved my mom s...   \n",
              "1982  'Yes peace is the absence of conflict - your INFP friend suxx hardd  An ideal peace would be where everybody does exactly what I say. Then they would be totally happy & relaxed & content. So,...|||I'm just going to reallybriefly respond:  1. Yes, when it's in a formalized way, where we both recognize that we're debating. I think it also really helps if it's with an Intuitive - could probably...|||Yeah, I can't say I like Nietzsche either.  I think what I mean when I say assert your will on the external environment is basically have goals, & make them reality. Bend reality to your will. On...|||Yes, it's true that the person who gives more also garners favor - that is actually exactly in keeping with what I'm saying. Giving can be just as much of an attempt at garnering power & favor....|||First, I *totally* relate to every feeling you describe here, specifically in the post-break-up fall out.  I'm just going to vomit out my thoughts on this subject & your predicament specifically: ...   \n",
              "769   'I apologize for the delayed response, but thank you for taking the time to share your experiences. It's helpful to hear that good boundaries come with time and not instantly. :)   I'm so sorry to...|||I think that is exactly what I needed to hear. Boundaries, neediness, etc. are exactly what I'm working on right now, as well as developing a healthy self-image. It's nice to know that having those...|||Thank you for your input. Dealing with rejection, confrontation, etc. are definitely things that I'm thinking about right now. The thing is, I recognize that people can be very negative. I was raised...|||For any of you INFP counselors, therapists, etc. - what challenges have you experienced in this field? I'm strongly considering counseling for a career, and would love input from fellow INFPs on your...|||Yes, I do think I've found the right type. A logical INFP, perhaps, but an INFP nevertheless. For now, anyway. :D  Thanks! :hugs:|||Interesting. I got ENFP. Obviously it depends on ...   \n",
              "8339  'Nightglow, I can't even imagine what you must be struggling with right now.    Is your dad reasonable? Does he get that you are different people, or does he think everyone should be stoic and...|||Pretty much this...    http://www.youtube.com/watch?v=dd2e04M-xxg|||My friend has been suggesting Happy Endings but I haven't gotten into it yet.  I've only watched like the first minute a few times when the DVR captures it, but it hasn't made me go I have to watch...|||rickybobby haha, I'll have to ask her if she ever does that! She laughs in front of me too, but just sometimes I'm like, shouldn't she find this funnier but it's probably just because we have such...|||This sounds a lot like my wife who is ESFJ.  She loves a lot of those same shows: The Office, 30 Rock, Modern Family, Flight of the Conchords, also Up All Night and Community.  She doesn't really...|||infpblog: thank you! Exactly this.    I don't love or hate Facebook.  It's great for keeping in touch with friends that have...   \n",
              "5350  'Question- If you are familiar with the Enneagram, what would you think I would be? I have been doing some testing and found this quite interesting... but my results varied.... but I did end up with...|||P.S. Who I am as a person and who HE is a person. Again it isn't as complex to him.|||UGH.. My Brain hurts today. I suggest self-help books- his answer is I don't read. I am sure he would as he does when I send him something, but he doesn't read with the pure interest in learning. He...|||Actually, MBTI is what is bringing us back together. I had shut him out completely before looking into this. I knew we didn't understand each other and were at a mute point. I completely gave up,...|||It didn't happen :/ Really my fault because I didn't set it up. We were constantly doing things and didn't have enough time.    I didn't press the issue. I don't think he is ready. I am taking a...|||Thanks for your answers. I was genuinely interested. Really just comparing myself and relationship; a...   \n",
              "5013  'Thanks Takadox, I really appreciate your advice. I'll keep it in mind.|||Cool, thanks. I thought I had them all lol.|||Thanks for your message. I'm not sure my bf admits that... although when I went back to him he reacted positively. I know however that I won't bear with being pushed away again. It has to be the...|||A very good example is Wilson in House. (And house a very good example of an ENTP). My boyfriend and I find their relationship (although on a friendship level) so representative that we watch it just...|||What's that book?|||I suffer from anxiety when I've had to cope with long-term difficulties. It involves irregular heartbeat and breathing problems. Last year, (at last) a doctor prescribed light alprazolam to take only...|||Errr... gender: other???  What's alternative music?   OK... done ;-)|||And very young - What's the point being a clever ENTP if it's to behave like an ESTP?   Well, exactly. No one can foresee the future, we can only rely on our first impressions...   \n",
              "5832  'Welcome!!! Here's another proud INFP *hugs* :kitteh:|||Yeah me too. I want to say something meaningful and then I can't think of anything and it just becomes awkward. A good trick might be to relate the discussion to something that happened to you. Like...|||ENFP... sigh :laughing:  Not that I don't like them (I adore them!) but I can't see myself in a relationship with one. We are far too alike. I think the Ne+Ne can be quite overwhelming. I think I...|||Yeah me too. This seems to be a big problem for INFPs and INTPs. But I've gotten used to it by now. I don't mind being alone, but I miss having people to talk to. We N-types are so few! The other day...|||INTJ or INFJ! Maybe ENTJ if you want someone who is really effective and will drive you nuts in the process.  But it's difficult since you're white, we could speculate a long time about that. A...|||I can't type you because I'm not in your head, but I can say that you're giving off an ENFP-vibe (based on my subjective impression...   \n",
              "1708  'I actually plan on becoming a nun:) Nothing else interests me besides growing closer to God. I would get married and have kids, but I feel like I'm being called to the religious life. I feel so...|||I'm a few years late, but I just have to say I like listening to certain songs that make me feel like a different person.  Tear You Apart by She Wants Revenge denotes a feeling of badassery. ...|||I'm a few years late, but I just have to say I like listening to certain songs that make me feel like a different person.  Tear You Apart by She Wants Revenge denotes a feeling of badassery. ...|||Yes.   Lol no, but I nanny for my sister who is a single mother in college. I love babysitting newborns; I think they are just the cutest things but when they get to be toddlers sometimes it can be...|||It's funny because I'd consider myself a fairly liberal person in terms of political views besides this very issue. (even though I don't really like calling myself liberal, I don't like the stigma......   \n",
              "3126  'HighClassSavage|||crush!kill!destroy!|||Urien|||PoloniumCyanide  If we're still talking about the Enneagram, then the information provided isn't very useful.  If we're talking about MBTI, I'd strongly wager that you're an xNFJ. I can't quite...|||Her preemptive rejection of society and denial of her vulnerability is exemplary of why she's an 8.    An example of her being vulnerable and showing that she does have a soft side, one that is...|||Zato|||Would have to agree that typing yourself based on relating to a fictional character is not recommended.   With that said, Morrigan is most definitely a self-preservation 8. She's a hard-nosed...|||My car! Not being able to go wherever the hell I please, whenever I want feels like castration.|||Istp|||A lot of 6s have told me they like marijuana because it turns their brain off.  Cocaine always seemed like it would be particularly appealing to 7s because of the heightened feeling of...|||Triple reactive, 6 - 8 - 4.|||Nobunaga|||Kintsugi ...   \n",
              "247   'I never responded to the bullies. They barely ever got any reaction out of me. I always kept to myself and never allowed them to see the effect it had on me. Eventually the bullying died out because...|||1. What is your type? INFP.  2. What kind of features do you think makes a female attractive (personality-wise)? Someone strong-willed, open-minded, someone who knows what they want. She does not...|||ENTJ is the best match for me. We vibe in such a strange and fascinating way. I appeal to their hidden, usually under-developed Fi (especially if they are unhealthy).|||I do not see the reason to tell someone to stop greying their hair over this if it makes them uncomfortable when others initiate these gestures.|||Hugging and pretending to like people in social gatherings when you really do not know them and feel no need to be close to them on a physical level like hugging. No thank you.  People who do not...|||I have always been told I have beautiful handwriting. Old style handwriti...   \n",
              "122   'ahx85.the story of my life :)|||I have a tendency to sound like a know-it-all, but I feel extremely guilty about giving too much advice at the same time, just want to help.   I'm extremely wordy once you get me going or I'll be...|||To be open minded about everything first, assuming I don't know rather than I do know.  -Just one of many rules I have :)|||Cacf :)|||Mostly feminine but parts of me can be masculine in the sense that I take charge if need be, I like to flirt with my girl friends lol, practical in terms of getting things I need, hate girl talk...|||I agree, definitely think he's closest to ESFP but I can see a little ENFP too.|||Aww my pleasure and thank you for taking the time to listen :) It's only natural that we feel attraction and deeply want romanticism in our life. But sometimes I think the best way to learn how to...|||Ah, I can see that too since I guess she's less internalizing but more actualizing.|||Btw, I don't think there are many outgoing INFJs although ...   \n",
              "4975  'I agree. My sister is like that. She once told our mom, If you tell not to do something, I'll do it just to show you that I can. Really weird logic there. On the other hand, my mother has always...|||Sounds like he's on the way to liking you. At the very least, it seems he finds you less annoying than others. For an INTJ, that's a good thing.   As for his sister saying he may not like you,...|||Indeed. You speak the truth. My feelings on it are no different. Whenever someone states it, I usually give them the scant eye and wait to see whether they're right, while doubting they will be. It's...|||Seconded.   I know of one ENTP in person, and if they're all like him (and he fits the description pretty well), I'll pass on getting to know those other ENTPs as well. To be quite frank, I find...|||Asphodelle, technically, work is subjective, right? Therefore, busy is just as subjective?  I mean, laying in bed and thinking about all of the things I'd like to be doing but am choosing not....   \n",
              "5842  'u200bBusiness Management|||Yes, I have astigmatism|||Most of my reading is done digitally (via Moon Reader or iBooks)|||Green fig salad lentil peas tomatoes  Soursop paw-paw pineapple banana|||Wonder Woman... it was highly enjoyable   HOWEVER, the 1st half of the movie was BORING|||https://www.youtube.com/watch?v=PMivT7MJ41M|||We can do anything but we can not do everything|||We can do anything but we can't do everything|||u200bWe can do anything but we can't do everything|||Welcome to the forums nznr11 :th_jtteglad: :hug::hugs:  It may take a while to figure out what your true type is as mood and stress-levels may skew results. As others have advised just read up on...|||Welcome to the forums shalom1 :th_jtteglad: :hug::hugs:|||Welcome to the forums Lenny97. Glad you discovered your type :th_jtteglad: :hug::hugs:|||Welcome to the forums sectumseverus :th_jtteglad: :hug::hugs:|||Chose downtown as I would get to see the all the activity/colours of city life but never be forced to p...   \n",
              "8523  'I don't know, how about Graphic Design? And then you could work designing for hospitals and healthcare.|||Please let me ask something~ Is it common that you are so absorbed in your thoughts that you stare at one point in space for a relatively long time? And has it been the case that that point happens...|||When just getting to SIT after a long day feels like heaven~|||I think it would probably be my case if I didn't have to go to work. Sleeping during day is so nice because it's warmer.|||Maybe he is afraid your friendship will be ruined if he asks you out and he will lose one of the few good friends he has?|||It's been a month, sorry  :sad:  But anyway, it happens all the time, but we really feel it after intense emotions and the rest of the time it remains unnoticed. I hope things are going well with...|||I heard in a psychology class that we normally go through an emotional homeostasis. Supposedly after experiencing strong, intense, positive emotions, our body tries to balance...   \n",
              "2178  Finished 4 years of electrical engineering and now i am going to do my Post graduate in embedded systems. I am excited. Hope to go till PhD :D . If i have financial aid i would try to study some more...|||Oh my god i forgot TreeBob , Thanks very much for the name changing thread :D I guess everyone one must have used it by now :P :P|||SocioApathetic :D Thanks a lot brother I feel honored :D I am sorry i took such a long time to reply back. I always wanted to have a brother or a sister (I am the only child). I feel very lonely many...|||Yes MAM!!  *Salutes like a military man*|||Hello everyone,  I sent the req to ban me from PerC but it seems i didn't violate any website rules and therefore I am not going anywhere. :|   I am sorry for making this one a big issue. I just...|||1. Pax Diabolo 2. SocioApathetic 3. kaleidoscope 4. great_raisin 5. Kelvin 6. OriginalChris 7. lost monkey 8. Kito 9. Maybe 10. Dear Sigmund|||Let it be B-) , dont cut :-D|||Getbackers, Full metal alchemist and ...   \n",
              "1729  'I can't relate to BBC's Sherlock but I can somewhat to their portrayal of Irene Adler (said to be an ENTJ). A friend of mine commented on this also. I like that they showed her confidence and...|||I'm a 5 sx/sp. I experience no internal conflict. Things are very simple for me with people. I have limited interest & no significant attachment to anyone except my SO. I have no interest in general...|||Sure. Se feeds Ni information so Se is vital for Ni to function. But then there is a 'flip the switch' quality between those two functions in me. If I choose to go into Se mode I tend to focus on the...|||I can't relate to this at all. I don't put expectations on friends like this. Perhaps bc I don't want those same expectations put back on me. I rarely initiate texting but if I texted someone and...|||I'm also guilty of book hoarding. I tell myself I should go digital but it's not happening. I think part of it is I get so sick of looking into a screen all day, I like the physicality of ...   \n",
              "5723  'Dear bubbleboy,  Congratulations on graduating today, you worked hard and overcame everything. You can do and be anything, I love you <3  Sincerely, Jedi Jayne|||bubbleboy  http://personalitycafe.com/members/oxytocinjunkie-albums-food-picture34893-hugskisses.jpg|||Ahhhh! Happy birthday SpaceCadette I hope you're happy and had a great day! Let us know how it went? (:  http://www.thepartyworks.com/images/product_images/large/spacecake-1_5-06-07_mkcarlson.jpg|||I think these are examples of Fe which i'm pretty sure is an INTP's inferior function. I guess you could just have really well developed Fe? Have you ever read up on Ni? I think I also have a test on...|||Easy come, easy go|||Hey stevie_marathon (: I'm glad to hear you two talked and worked through things. +1 for not saying anything hurtful. Hopefully things are still going great and are/on their way to being better....|||Occupy yourself|||THIS so much <333   http://www.youtube.com/watch?v=bXrXTx94aFg|||http://www.youtube.com/...   \n",
              "763   Life's tough, just tough!!! GET OVER IT :)|||No, I don't agree that there is a lack of a true INFJ...whatever that even means. I thought MBTI was just a tool that outlines the way a person's mind works ans that people were meant to use it just...|||I workout regularly but have to motivate myself first with some coffee and I really like to do it in the mornings as soon as I finish all my coffee. It is the same routine daily and some days I do...|||3888538886I have been told my eyes are intoxicating, they are hazel and green. I am a 'bottom line' kind of person, especially at work so my intense focus makes my eyes seem piercing. People have...|||Working out is more of a lifestyle choice. I personally enjoy exercising, it relieves me, makes me feel more energy, I feel more focused.  I like yoga, hiking, jogging... swimming, mountain biking,...|||I think I realized that part of the fault is my own. I  do not try as hard as most people to make a connection in terms of texting, facebook,...   \n",
              "2265  'Anyone? :)   Sluggish cognitive tempo - Wikipedia, the free encyclopedia|||I used to be so full of life.  Little things made me oh, SO very excited.  Suddenly now it's like I'm always in this state of... nothingness.  I just sit and I want to paint all day. And not...|||Well, I'm 17. And I have been friends with this boy for a while. We were in the same class in elementary school, and we have somehow reconnected over facebook. We got to talking, and realized we had...|||Haven't gone through the entire thread, hoping someone hasn't listed this one off just yet.    (Ignore the Spanish subtitles) >_>   http://www.youtube.com/watch?v=VflKiZzb4h4&feature=related|||INFPs, I've discovered a movie you might love. It is absolutely breathtaking, in my opinion... I just sat there, transfixed the entire time.   We are artists, dreamers, creators. Thus, we have a...|||Ha, you make the process seem so easy. :) I've was diagnosed with ADHD at 7. I still cannot find the medication right for me. I...   \n",
              "\n",
              "      type  \n",
              "8331  INFP  \n",
              "1290  ISTP  \n",
              "1982  ENFJ  \n",
              "769   INFP  \n",
              "8339  INFP  \n",
              "5350  ENFP  \n",
              "5013  INFJ  \n",
              "5832  INFP  \n",
              "1708  INFP  \n",
              "3126  ESFP  \n",
              "247   INFP  \n",
              "122   INFJ  \n",
              "4975  INTJ  \n",
              "5842  ISFP  \n",
              "8523  ISTJ  \n",
              "2178  ENFP  \n",
              "1729  INTJ  \n",
              "5723  INFJ  \n",
              "763   INFJ  \n",
              "2265  INFP  "
            ],
            "text/html": [
              "\n",
              "  <div id=\"df-3e17bb2b-6d8f-4e10-b774-aac3f64472a2\" class=\"colab-df-container\">\n",
              "    <div>\n",
              "<style scoped>\n",
              "    .dataframe tbody tr th:only-of-type {\n",
              "        vertical-align: middle;\n",
              "    }\n",
              "\n",
              "    .dataframe tbody tr th {\n",
              "        vertical-align: top;\n",
              "    }\n",
              "\n",
              "    .dataframe thead th {\n",
              "        text-align: right;\n",
              "    }\n",
              "</style>\n",
              "<table border=\"1\" class=\"dataframe\">\n",
              "  <thead>\n",
              "    <tr style=\"text-align: right;\">\n",
              "      <th></th>\n",
              "      <th>posts</th>\n",
              "      <th>type</th>\n",
              "    </tr>\n",
              "  </thead>\n",
              "  <tbody>\n",
              "    <tr>\n",
              "      <th>8331</th>\n",
              "      <td>'this is actually exactly what i expected!  :laughing:  Introversion |||||||||| 40% |||||||||||||||| 70% Extroversion |||||||||||||||| 66% |||||||||| 36% Intuitive ||||||||||||||||||||...|||Now that you've had time to chill out, here comes the boundless insanity and awesomeness!  (p.s. just noticed the weird tense/perspective of this sentence... it's being spoken by the universe to me...|||I'm going to post before i actually read the entire thread:  Name a famous person you don't like. mel gibson  What was the last thing you bought? groceries to make italian food  Name a...|||i worked as a programmer all through high school, and then went to college for comp sci for about a year...  eventually i decided it was something that i enjoyed, but not something i wanted to do all...|||I buy it whenever possible, and i adjust my cooking habits to accommodate what's local and organic and in season.  I also cut corners in other parts of my budget so i don't have to sacrifice on the...|||for s...</td>\n",
              "      <td>INFP</td>\n",
              "    </tr>\n",
              "    <tr>\n",
              "      <th>1290</th>\n",
              "      <td>'Nope.  Not now, not ever.  I'm too busy with work, causes, and adrenaline-rush activities, and I'll do anything to make sure no one can keep up.  Freedom!  Forever!|||63913|||I did some thinking today and I decided to arrive at this conclusion.  I never really understood negative feelings in the past, so I tried to repress them hoping that they would go away and I would...|||How often do you guys find yourself miscommunicating with others, or using your own lingo when talking with others?  I remember DJArendee's post a while back where he said speaking for him is like...|||20.  I would cut up worms to see what would happen.  The heck kind of question is that!?!?!|||I think chessboxing would be a totally awesome sport for an ISTP.|||I was doing a lumbar puncture in the clinic when the earthquake rock and roll began - I just let go of the needle (already in the patient) and was like okay.... while waiting it out - then I got...|||Boy to Man  So I actually never really loved my mom s...</td>\n",
              "      <td>ISTP</td>\n",
              "    </tr>\n",
              "    <tr>\n",
              "      <th>1982</th>\n",
              "      <td>'Yes peace is the absence of conflict - your INFP friend suxx hardd  An ideal peace would be where everybody does exactly what I say. Then they would be totally happy &amp; relaxed &amp; content. So,...|||I'm just going to reallybriefly respond:  1. Yes, when it's in a formalized way, where we both recognize that we're debating. I think it also really helps if it's with an Intuitive - could probably...|||Yeah, I can't say I like Nietzsche either.  I think what I mean when I say assert your will on the external environment is basically have goals, &amp; make them reality. Bend reality to your will. On...|||Yes, it's true that the person who gives more also garners favor - that is actually exactly in keeping with what I'm saying. Giving can be just as much of an attempt at garnering power &amp; favor....|||First, I *totally* relate to every feeling you describe here, specifically in the post-break-up fall out.  I'm just going to vomit out my thoughts on this subject &amp; your predicament specifically: ...</td>\n",
              "      <td>ENFJ</td>\n",
              "    </tr>\n",
              "    <tr>\n",
              "      <th>769</th>\n",
              "      <td>'I apologize for the delayed response, but thank you for taking the time to share your experiences. It's helpful to hear that good boundaries come with time and not instantly. :)   I'm so sorry to...|||I think that is exactly what I needed to hear. Boundaries, neediness, etc. are exactly what I'm working on right now, as well as developing a healthy self-image. It's nice to know that having those...|||Thank you for your input. Dealing with rejection, confrontation, etc. are definitely things that I'm thinking about right now. The thing is, I recognize that people can be very negative. I was raised...|||For any of you INFP counselors, therapists, etc. - what challenges have you experienced in this field? I'm strongly considering counseling for a career, and would love input from fellow INFPs on your...|||Yes, I do think I've found the right type. A logical INFP, perhaps, but an INFP nevertheless. For now, anyway. :D  Thanks! :hugs:|||Interesting. I got ENFP. Obviously it depends on ...</td>\n",
              "      <td>INFP</td>\n",
              "    </tr>\n",
              "    <tr>\n",
              "      <th>8339</th>\n",
              "      <td>'Nightglow, I can't even imagine what you must be struggling with right now.    Is your dad reasonable? Does he get that you are different people, or does he think everyone should be stoic and...|||Pretty much this...    http://www.youtube.com/watch?v=dd2e04M-xxg|||My friend has been suggesting Happy Endings but I haven't gotten into it yet.  I've only watched like the first minute a few times when the DVR captures it, but it hasn't made me go I have to watch...|||rickybobby haha, I'll have to ask her if she ever does that! She laughs in front of me too, but just sometimes I'm like, shouldn't she find this funnier but it's probably just because we have such...|||This sounds a lot like my wife who is ESFJ.  She loves a lot of those same shows: The Office, 30 Rock, Modern Family, Flight of the Conchords, also Up All Night and Community.  She doesn't really...|||infpblog: thank you! Exactly this.    I don't love or hate Facebook.  It's great for keeping in touch with friends that have...</td>\n",
              "      <td>INFP</td>\n",
              "    </tr>\n",
              "    <tr>\n",
              "      <th>5350</th>\n",
              "      <td>'Question- If you are familiar with the Enneagram, what would you think I would be? I have been doing some testing and found this quite interesting... but my results varied.... but I did end up with...|||P.S. Who I am as a person and who HE is a person. Again it isn't as complex to him.|||UGH.. My Brain hurts today. I suggest self-help books- his answer is I don't read. I am sure he would as he does when I send him something, but he doesn't read with the pure interest in learning. He...|||Actually, MBTI is what is bringing us back together. I had shut him out completely before looking into this. I knew we didn't understand each other and were at a mute point. I completely gave up,...|||It didn't happen :/ Really my fault because I didn't set it up. We were constantly doing things and didn't have enough time.    I didn't press the issue. I don't think he is ready. I am taking a...|||Thanks for your answers. I was genuinely interested. Really just comparing myself and relationship; a...</td>\n",
              "      <td>ENFP</td>\n",
              "    </tr>\n",
              "    <tr>\n",
              "      <th>5013</th>\n",
              "      <td>'Thanks Takadox, I really appreciate your advice. I'll keep it in mind.|||Cool, thanks. I thought I had them all lol.|||Thanks for your message. I'm not sure my bf admits that... although when I went back to him he reacted positively. I know however that I won't bear with being pushed away again. It has to be the...|||A very good example is Wilson in House. (And house a very good example of an ENTP). My boyfriend and I find their relationship (although on a friendship level) so representative that we watch it just...|||What's that book?|||I suffer from anxiety when I've had to cope with long-term difficulties. It involves irregular heartbeat and breathing problems. Last year, (at last) a doctor prescribed light alprazolam to take only...|||Errr... gender: other???  What's alternative music?   OK... done ;-)|||And very young - What's the point being a clever ENTP if it's to behave like an ESTP?   Well, exactly. No one can foresee the future, we can only rely on our first impressions...</td>\n",
              "      <td>INFJ</td>\n",
              "    </tr>\n",
              "    <tr>\n",
              "      <th>5832</th>\n",
              "      <td>'Welcome!!! Here's another proud INFP *hugs* :kitteh:|||Yeah me too. I want to say something meaningful and then I can't think of anything and it just becomes awkward. A good trick might be to relate the discussion to something that happened to you. Like...|||ENFP... sigh :laughing:  Not that I don't like them (I adore them!) but I can't see myself in a relationship with one. We are far too alike. I think the Ne+Ne can be quite overwhelming. I think I...|||Yeah me too. This seems to be a big problem for INFPs and INTPs. But I've gotten used to it by now. I don't mind being alone, but I miss having people to talk to. We N-types are so few! The other day...|||INTJ or INFJ! Maybe ENTJ if you want someone who is really effective and will drive you nuts in the process.  But it's difficult since you're white, we could speculate a long time about that. A...|||I can't type you because I'm not in your head, but I can say that you're giving off an ENFP-vibe (based on my subjective impression...</td>\n",
              "      <td>INFP</td>\n",
              "    </tr>\n",
              "    <tr>\n",
              "      <th>1708</th>\n",
              "      <td>'I actually plan on becoming a nun:) Nothing else interests me besides growing closer to God. I would get married and have kids, but I feel like I'm being called to the religious life. I feel so...|||I'm a few years late, but I just have to say I like listening to certain songs that make me feel like a different person.  Tear You Apart by She Wants Revenge denotes a feeling of badassery. ...|||I'm a few years late, but I just have to say I like listening to certain songs that make me feel like a different person.  Tear You Apart by She Wants Revenge denotes a feeling of badassery. ...|||Yes.   Lol no, but I nanny for my sister who is a single mother in college. I love babysitting newborns; I think they are just the cutest things but when they get to be toddlers sometimes it can be...|||It's funny because I'd consider myself a fairly liberal person in terms of political views besides this very issue. (even though I don't really like calling myself liberal, I don't like the stigma......</td>\n",
              "      <td>INFP</td>\n",
              "    </tr>\n",
              "    <tr>\n",
              "      <th>3126</th>\n",
              "      <td>'HighClassSavage|||crush!kill!destroy!|||Urien|||PoloniumCyanide  If we're still talking about the Enneagram, then the information provided isn't very useful.  If we're talking about MBTI, I'd strongly wager that you're an xNFJ. I can't quite...|||Her preemptive rejection of society and denial of her vulnerability is exemplary of why she's an 8.    An example of her being vulnerable and showing that she does have a soft side, one that is...|||Zato|||Would have to agree that typing yourself based on relating to a fictional character is not recommended.   With that said, Morrigan is most definitely a self-preservation 8. She's a hard-nosed...|||My car! Not being able to go wherever the hell I please, whenever I want feels like castration.|||Istp|||A lot of 6s have told me they like marijuana because it turns their brain off.  Cocaine always seemed like it would be particularly appealing to 7s because of the heightened feeling of...|||Triple reactive, 6 - 8 - 4.|||Nobunaga|||Kintsugi ...</td>\n",
              "      <td>ESFP</td>\n",
              "    </tr>\n",
              "    <tr>\n",
              "      <th>247</th>\n",
              "      <td>'I never responded to the bullies. They barely ever got any reaction out of me. I always kept to myself and never allowed them to see the effect it had on me. Eventually the bullying died out because...|||1. What is your type? INFP.  2. What kind of features do you think makes a female attractive (personality-wise)? Someone strong-willed, open-minded, someone who knows what they want. She does not...|||ENTJ is the best match for me. We vibe in such a strange and fascinating way. I appeal to their hidden, usually under-developed Fi (especially if they are unhealthy).|||I do not see the reason to tell someone to stop greying their hair over this if it makes them uncomfortable when others initiate these gestures.|||Hugging and pretending to like people in social gatherings when you really do not know them and feel no need to be close to them on a physical level like hugging. No thank you.  People who do not...|||I have always been told I have beautiful handwriting. Old style handwriti...</td>\n",
              "      <td>INFP</td>\n",
              "    </tr>\n",
              "    <tr>\n",
              "      <th>122</th>\n",
              "      <td>'ahx85.the story of my life :)|||I have a tendency to sound like a know-it-all, but I feel extremely guilty about giving too much advice at the same time, just want to help.   I'm extremely wordy once you get me going or I'll be...|||To be open minded about everything first, assuming I don't know rather than I do know.  -Just one of many rules I have :)|||Cacf :)|||Mostly feminine but parts of me can be masculine in the sense that I take charge if need be, I like to flirt with my girl friends lol, practical in terms of getting things I need, hate girl talk...|||I agree, definitely think he's closest to ESFP but I can see a little ENFP too.|||Aww my pleasure and thank you for taking the time to listen :) It's only natural that we feel attraction and deeply want romanticism in our life. But sometimes I think the best way to learn how to...|||Ah, I can see that too since I guess she's less internalizing but more actualizing.|||Btw, I don't think there are many outgoing INFJs although ...</td>\n",
              "      <td>INFJ</td>\n",
              "    </tr>\n",
              "    <tr>\n",
              "      <th>4975</th>\n",
              "      <td>'I agree. My sister is like that. She once told our mom, If you tell not to do something, I'll do it just to show you that I can. Really weird logic there. On the other hand, my mother has always...|||Sounds like he's on the way to liking you. At the very least, it seems he finds you less annoying than others. For an INTJ, that's a good thing.   As for his sister saying he may not like you,...|||Indeed. You speak the truth. My feelings on it are no different. Whenever someone states it, I usually give them the scant eye and wait to see whether they're right, while doubting they will be. It's...|||Seconded.   I know of one ENTP in person, and if they're all like him (and he fits the description pretty well), I'll pass on getting to know those other ENTPs as well. To be quite frank, I find...|||Asphodelle, technically, work is subjective, right? Therefore, busy is just as subjective?  I mean, laying in bed and thinking about all of the things I'd like to be doing but am choosing not....</td>\n",
              "      <td>INTJ</td>\n",
              "    </tr>\n",
              "    <tr>\n",
              "      <th>5842</th>\n",
              "      <td>'u200bBusiness Management|||Yes, I have astigmatism|||Most of my reading is done digitally (via Moon Reader or iBooks)|||Green fig salad lentil peas tomatoes  Soursop paw-paw pineapple banana|||Wonder Woman... it was highly enjoyable   HOWEVER, the 1st half of the movie was BORING|||https://www.youtube.com/watch?v=PMivT7MJ41M|||We can do anything but we can not do everything|||We can do anything but we can't do everything|||u200bWe can do anything but we can't do everything|||Welcome to the forums nznr11 :th_jtteglad: :hug::hugs:  It may take a while to figure out what your true type is as mood and stress-levels may skew results. As others have advised just read up on...|||Welcome to the forums shalom1 :th_jtteglad: :hug::hugs:|||Welcome to the forums Lenny97. Glad you discovered your type :th_jtteglad: :hug::hugs:|||Welcome to the forums sectumseverus :th_jtteglad: :hug::hugs:|||Chose downtown as I would get to see the all the activity/colours of city life but never be forced to p...</td>\n",
              "      <td>ISFP</td>\n",
              "    </tr>\n",
              "    <tr>\n",
              "      <th>8523</th>\n",
              "      <td>'I don't know, how about Graphic Design? And then you could work designing for hospitals and healthcare.|||Please let me ask something~ Is it common that you are so absorbed in your thoughts that you stare at one point in space for a relatively long time? And has it been the case that that point happens...|||When just getting to SIT after a long day feels like heaven~|||I think it would probably be my case if I didn't have to go to work. Sleeping during day is so nice because it's warmer.|||Maybe he is afraid your friendship will be ruined if he asks you out and he will lose one of the few good friends he has?|||It's been a month, sorry  :sad:  But anyway, it happens all the time, but we really feel it after intense emotions and the rest of the time it remains unnoticed. I hope things are going well with...|||I heard in a psychology class that we normally go through an emotional homeostasis. Supposedly after experiencing strong, intense, positive emotions, our body tries to balance...</td>\n",
              "      <td>ISTJ</td>\n",
              "    </tr>\n",
              "    <tr>\n",
              "      <th>2178</th>\n",
              "      <td>Finished 4 years of electrical engineering and now i am going to do my Post graduate in embedded systems. I am excited. Hope to go till PhD :D . If i have financial aid i would try to study some more...|||Oh my god i forgot TreeBob , Thanks very much for the name changing thread :D I guess everyone one must have used it by now :P :P|||SocioApathetic :D Thanks a lot brother I feel honored :D I am sorry i took such a long time to reply back. I always wanted to have a brother or a sister (I am the only child). I feel very lonely many...|||Yes MAM!!  *Salutes like a military man*|||Hello everyone,  I sent the req to ban me from PerC but it seems i didn't violate any website rules and therefore I am not going anywhere. :|   I am sorry for making this one a big issue. I just...|||1. Pax Diabolo 2. SocioApathetic 3. kaleidoscope 4. great_raisin 5. Kelvin 6. OriginalChris 7. lost monkey 8. Kito 9. Maybe 10. Dear Sigmund|||Let it be B-) , dont cut :-D|||Getbackers, Full metal alchemist and ...</td>\n",
              "      <td>ENFP</td>\n",
              "    </tr>\n",
              "    <tr>\n",
              "      <th>1729</th>\n",
              "      <td>'I can't relate to BBC's Sherlock but I can somewhat to their portrayal of Irene Adler (said to be an ENTJ). A friend of mine commented on this also. I like that they showed her confidence and...|||I'm a 5 sx/sp. I experience no internal conflict. Things are very simple for me with people. I have limited interest &amp; no significant attachment to anyone except my SO. I have no interest in general...|||Sure. Se feeds Ni information so Se is vital for Ni to function. But then there is a 'flip the switch' quality between those two functions in me. If I choose to go into Se mode I tend to focus on the...|||I can't relate to this at all. I don't put expectations on friends like this. Perhaps bc I don't want those same expectations put back on me. I rarely initiate texting but if I texted someone and...|||I'm also guilty of book hoarding. I tell myself I should go digital but it's not happening. I think part of it is I get so sick of looking into a screen all day, I like the physicality of ...</td>\n",
              "      <td>INTJ</td>\n",
              "    </tr>\n",
              "    <tr>\n",
              "      <th>5723</th>\n",
              "      <td>'Dear bubbleboy,  Congratulations on graduating today, you worked hard and overcame everything. You can do and be anything, I love you &lt;3  Sincerely, Jedi Jayne|||bubbleboy  http://personalitycafe.com/members/oxytocinjunkie-albums-food-picture34893-hugskisses.jpg|||Ahhhh! Happy birthday SpaceCadette I hope you're happy and had a great day! Let us know how it went? (:  http://www.thepartyworks.com/images/product_images/large/spacecake-1_5-06-07_mkcarlson.jpg|||I think these are examples of Fe which i'm pretty sure is an INTP's inferior function. I guess you could just have really well developed Fe? Have you ever read up on Ni? I think I also have a test on...|||Easy come, easy go|||Hey stevie_marathon (: I'm glad to hear you two talked and worked through things. +1 for not saying anything hurtful. Hopefully things are still going great and are/on their way to being better....|||Occupy yourself|||THIS so much &lt;333   http://www.youtube.com/watch?v=bXrXTx94aFg|||http://www.youtube.com/...</td>\n",
              "      <td>INFJ</td>\n",
              "    </tr>\n",
              "    <tr>\n",
              "      <th>763</th>\n",
              "      <td>Life's tough, just tough!!! GET OVER IT :)|||No, I don't agree that there is a lack of a true INFJ...whatever that even means. I thought MBTI was just a tool that outlines the way a person's mind works ans that people were meant to use it just...|||I workout regularly but have to motivate myself first with some coffee and I really like to do it in the mornings as soon as I finish all my coffee. It is the same routine daily and some days I do...|||3888538886I have been told my eyes are intoxicating, they are hazel and green. I am a 'bottom line' kind of person, especially at work so my intense focus makes my eyes seem piercing. People have...|||Working out is more of a lifestyle choice. I personally enjoy exercising, it relieves me, makes me feel more energy, I feel more focused.  I like yoga, hiking, jogging... swimming, mountain biking,...|||I think I realized that part of the fault is my own. I  do not try as hard as most people to make a connection in terms of texting, facebook,...</td>\n",
              "      <td>INFJ</td>\n",
              "    </tr>\n",
              "    <tr>\n",
              "      <th>2265</th>\n",
              "      <td>'Anyone? :)   Sluggish cognitive tempo - Wikipedia, the free encyclopedia|||I used to be so full of life.  Little things made me oh, SO very excited.  Suddenly now it's like I'm always in this state of... nothingness.  I just sit and I want to paint all day. And not...|||Well, I'm 17. And I have been friends with this boy for a while. We were in the same class in elementary school, and we have somehow reconnected over facebook. We got to talking, and realized we had...|||Haven't gone through the entire thread, hoping someone hasn't listed this one off just yet.    (Ignore the Spanish subtitles) &gt;_&gt;   http://www.youtube.com/watch?v=VflKiZzb4h4&amp;feature=related|||INFPs, I've discovered a movie you might love. It is absolutely breathtaking, in my opinion... I just sat there, transfixed the entire time.   We are artists, dreamers, creators. Thus, we have a...|||Ha, you make the process seem so easy. :) I've was diagnosed with ADHD at 7. I still cannot find the medication right for me. I...</td>\n",
              "      <td>INFP</td>\n",
              "    </tr>\n",
              "  </tbody>\n",
              "</table>\n",
              "</div>\n",
              "    <div class=\"colab-df-buttons\">\n",
              "\n",
              "  <div class=\"colab-df-container\">\n",
              "    <button class=\"colab-df-convert\" onclick=\"convertToInteractive('df-3e17bb2b-6d8f-4e10-b774-aac3f64472a2')\"\n",
              "            title=\"Convert this dataframe to an interactive table.\"\n",
              "            style=\"display:none;\">\n",
              "\n",
              "  <svg xmlns=\"http://www.w3.org/2000/svg\" height=\"24px\" viewBox=\"0 -960 960 960\">\n",
              "    <path d=\"M120-120v-720h720v720H120Zm60-500h600v-160H180v160Zm220 220h160v-160H400v160Zm0 220h160v-160H400v160ZM180-400h160v-160H180v160Zm440 0h160v-160H620v160ZM180-180h160v-160H180v160Zm440 0h160v-160H620v160Z\"/>\n",
              "  </svg>\n",
              "    </button>\n",
              "\n",
              "  <style>\n",
              "    .colab-df-container {\n",
              "      display:flex;\n",
              "      gap: 12px;\n",
              "    }\n",
              "\n",
              "    .colab-df-convert {\n",
              "      background-color: #E8F0FE;\n",
              "      border: none;\n",
              "      border-radius: 50%;\n",
              "      cursor: pointer;\n",
              "      display: none;\n",
              "      fill: #1967D2;\n",
              "      height: 32px;\n",
              "      padding: 0 0 0 0;\n",
              "      width: 32px;\n",
              "    }\n",
              "\n",
              "    .colab-df-convert:hover {\n",
              "      background-color: #E2EBFA;\n",
              "      box-shadow: 0px 1px 2px rgba(60, 64, 67, 0.3), 0px 1px 3px 1px rgba(60, 64, 67, 0.15);\n",
              "      fill: #174EA6;\n",
              "    }\n",
              "\n",
              "    .colab-df-buttons div {\n",
              "      margin-bottom: 4px;\n",
              "    }\n",
              "\n",
              "    [theme=dark] .colab-df-convert {\n",
              "      background-color: #3B4455;\n",
              "      fill: #D2E3FC;\n",
              "    }\n",
              "\n",
              "    [theme=dark] .colab-df-convert:hover {\n",
              "      background-color: #434B5C;\n",
              "      box-shadow: 0px 1px 3px 1px rgba(0, 0, 0, 0.15);\n",
              "      filter: drop-shadow(0px 1px 2px rgba(0, 0, 0, 0.3));\n",
              "      fill: #FFFFFF;\n",
              "    }\n",
              "  </style>\n",
              "\n",
              "    <script>\n",
              "      const buttonEl =\n",
              "        document.querySelector('#df-3e17bb2b-6d8f-4e10-b774-aac3f64472a2 button.colab-df-convert');\n",
              "      buttonEl.style.display =\n",
              "        google.colab.kernel.accessAllowed ? 'block' : 'none';\n",
              "\n",
              "      async function convertToInteractive(key) {\n",
              "        const element = document.querySelector('#df-3e17bb2b-6d8f-4e10-b774-aac3f64472a2');\n",
              "        const dataTable =\n",
              "          await google.colab.kernel.invokeFunction('convertToInteractive',\n",
              "                                                    [key], {});\n",
              "        if (!dataTable) return;\n",
              "\n",
              "        const docLinkHtml = 'Like what you see? Visit the ' +\n",
              "          '<a target=\"_blank\" href=https://colab.research.google.com/notebooks/data_table.ipynb>data table notebook</a>'\n",
              "          + ' to learn more about interactive tables.';\n",
              "        element.innerHTML = '';\n",
              "        dataTable['output_type'] = 'display_data';\n",
              "        await google.colab.output.renderOutput(dataTable, element);\n",
              "        const docLink = document.createElement('div');\n",
              "        docLink.innerHTML = docLinkHtml;\n",
              "        element.appendChild(docLink);\n",
              "      }\n",
              "    </script>\n",
              "  </div>\n",
              "\n",
              "\n",
              "<div id=\"df-63e34874-2040-4916-91e0-134791fad2c4\">\n",
              "  <button class=\"colab-df-quickchart\" onclick=\"quickchart('df-63e34874-2040-4916-91e0-134791fad2c4')\"\n",
              "            title=\"Suggest charts\"\n",
              "            style=\"display:none;\">\n",
              "\n",
              "<svg xmlns=\"http://www.w3.org/2000/svg\" height=\"24px\"viewBox=\"0 0 24 24\"\n",
              "     width=\"24px\">\n",
              "    <g>\n",
              "        <path d=\"M19 3H5c-1.1 0-2 .9-2 2v14c0 1.1.9 2 2 2h14c1.1 0 2-.9 2-2V5c0-1.1-.9-2-2-2zM9 17H7v-7h2v7zm4 0h-2V7h2v10zm4 0h-2v-4h2v4z\"/>\n",
              "    </g>\n",
              "</svg>\n",
              "  </button>\n",
              "\n",
              "<style>\n",
              "  .colab-df-quickchart {\n",
              "      --bg-color: #E8F0FE;\n",
              "      --fill-color: #1967D2;\n",
              "      --hover-bg-color: #E2EBFA;\n",
              "      --hover-fill-color: #174EA6;\n",
              "      --disabled-fill-color: #AAA;\n",
              "      --disabled-bg-color: #DDD;\n",
              "  }\n",
              "\n",
              "  [theme=dark] .colab-df-quickchart {\n",
              "      --bg-color: #3B4455;\n",
              "      --fill-color: #D2E3FC;\n",
              "      --hover-bg-color: #434B5C;\n",
              "      --hover-fill-color: #FFFFFF;\n",
              "      --disabled-bg-color: #3B4455;\n",
              "      --disabled-fill-color: #666;\n",
              "  }\n",
              "\n",
              "  .colab-df-quickchart {\n",
              "    background-color: var(--bg-color);\n",
              "    border: none;\n",
              "    border-radius: 50%;\n",
              "    cursor: pointer;\n",
              "    display: none;\n",
              "    fill: var(--fill-color);\n",
              "    height: 32px;\n",
              "    padding: 0;\n",
              "    width: 32px;\n",
              "  }\n",
              "\n",
              "  .colab-df-quickchart:hover {\n",
              "    background-color: var(--hover-bg-color);\n",
              "    box-shadow: 0 1px 2px rgba(60, 64, 67, 0.3), 0 1px 3px 1px rgba(60, 64, 67, 0.15);\n",
              "    fill: var(--button-hover-fill-color);\n",
              "  }\n",
              "\n",
              "  .colab-df-quickchart-complete:disabled,\n",
              "  .colab-df-quickchart-complete:disabled:hover {\n",
              "    background-color: var(--disabled-bg-color);\n",
              "    fill: var(--disabled-fill-color);\n",
              "    box-shadow: none;\n",
              "  }\n",
              "\n",
              "  .colab-df-spinner {\n",
              "    border: 2px solid var(--fill-color);\n",
              "    border-color: transparent;\n",
              "    border-bottom-color: var(--fill-color);\n",
              "    animation:\n",
              "      spin 1s steps(1) infinite;\n",
              "  }\n",
              "\n",
              "  @keyframes spin {\n",
              "    0% {\n",
              "      border-color: transparent;\n",
              "      border-bottom-color: var(--fill-color);\n",
              "      border-left-color: var(--fill-color);\n",
              "    }\n",
              "    20% {\n",
              "      border-color: transparent;\n",
              "      border-left-color: var(--fill-color);\n",
              "      border-top-color: var(--fill-color);\n",
              "    }\n",
              "    30% {\n",
              "      border-color: transparent;\n",
              "      border-left-color: var(--fill-color);\n",
              "      border-top-color: var(--fill-color);\n",
              "      border-right-color: var(--fill-color);\n",
              "    }\n",
              "    40% {\n",
              "      border-color: transparent;\n",
              "      border-right-color: var(--fill-color);\n",
              "      border-top-color: var(--fill-color);\n",
              "    }\n",
              "    60% {\n",
              "      border-color: transparent;\n",
              "      border-right-color: var(--fill-color);\n",
              "    }\n",
              "    80% {\n",
              "      border-color: transparent;\n",
              "      border-right-color: var(--fill-color);\n",
              "      border-bottom-color: var(--fill-color);\n",
              "    }\n",
              "    90% {\n",
              "      border-color: transparent;\n",
              "      border-bottom-color: var(--fill-color);\n",
              "    }\n",
              "  }\n",
              "</style>\n",
              "\n",
              "  <script>\n",
              "    async function quickchart(key) {\n",
              "      const quickchartButtonEl =\n",
              "        document.querySelector('#' + key + ' button');\n",
              "      quickchartButtonEl.disabled = true;  // To prevent multiple clicks.\n",
              "      quickchartButtonEl.classList.add('colab-df-spinner');\n",
              "      try {\n",
              "        const charts = await google.colab.kernel.invokeFunction(\n",
              "            'suggestCharts', [key], {});\n",
              "      } catch (error) {\n",
              "        console.error('Error during call to suggestCharts:', error);\n",
              "      }\n",
              "      quickchartButtonEl.classList.remove('colab-df-spinner');\n",
              "      quickchartButtonEl.classList.add('colab-df-quickchart-complete');\n",
              "    }\n",
              "    (() => {\n",
              "      let quickchartButtonEl =\n",
              "        document.querySelector('#df-63e34874-2040-4916-91e0-134791fad2c4 button');\n",
              "      quickchartButtonEl.style.display =\n",
              "        google.colab.kernel.accessAllowed ? 'block' : 'none';\n",
              "    })();\n",
              "  </script>\n",
              "</div>\n",
              "\n",
              "    </div>\n",
              "  </div>\n"
            ],
            "application/vnd.google.colaboratory.intrinsic+json": {
              "type": "dataframe",
              "variable_name": "train",
              "summary": "{\n  \"name\": \"train\",\n  \"rows\": 6940,\n  \"fields\": [\n    {\n      \"column\": \"posts\",\n      \"properties\": {\n        \"dtype\": \"string\",\n        \"num_unique_values\": 6940,\n        \"samples\": [\n          \"'So yes intresting topic, what would u do if u accidently kinda subverted the government?|||So il elaborate, cow weighs 600lb and to get perfect beef needs to be heated to a temperature of 180c for 25 mins per lb + 25 mins, with perfect internal temp of 70c, so any suggestions how to get...|||ENTP = crow|||Views?|||I spot manipulation instatly, and if i see no way to turn it to my advantage I'll call them out, if i can see a way that letting them think im naive is somthing i can use then the hunter becomes the...|||I've just put 20mg of diazepam in ur tea cause i cant put up with listening to your conversation on reality tv shows lol.|||Well another great therapy session, today i thought id start with little bit of fun, me i think i may have alien hand syndrome her why do u think this me when im writing texts to people i have a...|||Also minions!|||Henchmen!!!|||I must confess i just seen thread ask an istp and could not resist posting thisQthi Basically unshakeable gloomy assassin of the mind|||Does ISTP stand for Indomitable Saturninely Triggerman of the Psyche.|||Views?|||Love loopholes!!|||So what was the topic and who won?   ;-)[/QUOTE]  Topic was is it wrong to park in a mother an baby spot if u dont have baby with you. And i won, my argument was parking in supermarkets etc falls...|||5 words or less.  Never trust a hungry cat!|||I have one of these plans lol.|||Thinking i did notice that being in denial was refreshing on a hot day, also how can denial be that wrong 40 million people live in denial (well denial delta region of Africa) lol.|||You're in denial. NO I'M NOT!!![/QUOTE]  I was in denial once.....and this Egyptian dude said u know there's big crocodiles in there, i was instantly out of denial!! So denial is cured by...|||Tbh tho i am happy to have her and she is helping me, got letter off her yesterday with her initial diagnosis(dumb gp referred me for aspd), i score 26/27 for depression and 19/21 for genralised...|||I did question her views on equality, which gobsmacked her because my argument was undeniable.  Well humans have been evolving through primarily  natural selection for 195,000 years if i remember...|||My strange view is if 2 phenotypes appear outwardly equal because Social equality has been pushed to far, but 1 is a stronger genotype, how then does a potential mate naturally select the stronger...|||Is society interfering with human evolution by way of political correctness?  I.e in the quest for equality(just one point of contention), is society making strong phenotypes weaker due to the...|||This seems a very similar to the psychological definition of maturity, having the ability to respond to your environment in an appropriate manner. This is a good description of maturity, but to me...|||The way you split these 2 types is with their interactions with other people although house seems outwardly introverted, his need for interaction with people is ever apparent, and his thought process...|||Thinking ENTP is most introverted of the Extroverts.  Thought of 11 reasons why fictional character House is ENTP  1His knowlage is extensive on all subjects and his mind is sharp as razor. 2...|||Thinking should come up with 7 step plan to refine this idea so i could more easliy develop this make a million idea, but the 7 step plan for refining the make a million idea would also require a 7...|||Thinking has come up with cunning plan to gets millions of pounds and then burn it in front of many entjs with my father at front of the pack of them.  Step one: post thread in ENTP forum Best way...|||Thinking House = ENTP unhealthy one maybe though!|||I was opposite i was always told to voice my views and opinions, where my parent's fell flat was in fact ENTJ dad ESTP mum = no emotions present lol, was fun and intresting childhood with my 4 Exxx...|||Lol great list, i have one of these good behavior lists in social situations to is called my ISFJ girlfriend, she keeps an invisible mental list of all things iv ever said that anger people and...|||Im pretty sure saudi Arabia areas of Nigeria and other assorted countries have a natural treatment to solve this.... go in to a shop an steal somthing, an naturally problem solved when they cut ur...|||Hmm what would happen if i threw an ISTP into a super massive black hole????  Would black hole win? or would ISTP suck life out of the black hole????|||Lol dont need to be entj to plot someones destruction, ENTPs are naturally better at this because my way atleast they would never see it coming would hit them with the enormity of a super massive...|||Another ENTP, i wish i knew one irl lol it seems like im surrounded by SJs in my life lol, Although im pretty damn sure my 10 year old daughter is ENTP.|||I have a cat and its messed up lol, its the most anally retentive cat iv ever seen, I.e it will use litter tray and spend 20 mins scratching at litter then meow at me next time want wee to change...|||Maturity is important in all types.  We just dont seem as condescending as intps in debates but we argee more as we will argue any issue even if we dont belive in it where intps normally only argue...|||I always thought one of those sphynx cats would be more sinister looking evil villian pets, or you could just shave a fluffy one cus tbh who does not like a shaved pussy lol!!|||Outwardly we do not apper as him being subordinate though, if it was not for our name tags u would think he was in charge and i was subordinate, because i let him take lead most times as i recognise...|||In personal life i would not spend massive amount of time with entj, but there intrinsic value in society is a logical inevitability, And being entp i share their limited capacity for emotions and...|||I've always worked well with ENTPs.  I think it helps that I enjoy their company.   I like their sense of humor and their energy. We think differently, so we bring different things to the table, but...|||Question is do you think entp+entj workplace combination is one of most beneficial combinations of nts?|||Tbh only thing that stops people from thinking entj is my manager is the name badges lol, mine saying store manager and his being deputy,  But under the appearance of this im the evil dictator in...|||What other types think of entjs is really irrelevant, as what a entj brings to the table is intrinsically valuable and they never seem to become a liability.  Where as entps value can be above and...|||This reminds me a friend of mine is an ENTP and seems to have a mostly negative view of ENTJ's. Like she gets paranoid about certain people being manipulative, controlling etc. and then will be...|||I must confess that i baited my isfj gf in to an argument/debate this evening because i was bored.  I also spent an hour today mocking my istp brother in law as the black hole he is was in danger...|||Lol this might be intresting.|||Hmmm 3 intp 2 entp, 3 days of amazing conversations 6 billion unique ways of creating a utopian society and how to implement it,  Then entps get very hungry consider hunter gathering as option, to...|||Intolerant, insufferable, Overbearing, overly vocal, power mad, stubborn, impatient and arrogant. Thought id list your good qualitys lol.  But entjs are like mouths everyone should have one. ...|||Forgive myself? My logic was sound i was suffering depression and wanted some pills, i proceeded to make a list of all the symptoms i had from dsm and typed it all out in logical rational way, with...|||Okay... I wasn't directing my post to you but gee, thanks for insults?  This thread isn't only about ESTPs but I'm sure you will carry-on any way. You seem mighty hyper and love to hear yourself...'\",\n          \"'History teaches us about the past evils and oppressor. today's world is filled with phony propaganda ,sex, and a skewed media that seems to define what liberty is in contemporary society. many people...|||homogenization?|||after hearing about the effects of ecstasy, it can be said it turns you into and infp...so I resist on taking it, why would I want to become more of a me, or more in dreamland?|||There are different purposes for marijuana, and the effect depends totally on the culture of any person. Marijuana gives you what top shelf medications cant, immediate results from one puff or two....|||It is time to move on wanderlust94, if you can not understand what is happening between your relationship, and she makes a puppet out of you, then she might have some malevolent plan. it might be...|||uhykfgtykjrty|||yeah the old, my body is going crazy for you but in my mind I feel calm feeling. it happens to me a lot, people think I am a weirdo I guess.  sometimes I just forget people that tend to play with our...|||ive often helped many people asking nothing in return and find myself in surrogate positions................. but idk I think I am just not good enough for people.|||Reflective upon it, yes I tend to be an ESTJ when talking but it is more of a defense mechanism I do, I dont know why. maybe its because I sometimes just tend to not know what to say so things go out...|||I shall call her tonight. I think that because of my past(heartbreaks and stuff) I think about it too much before entailing a random person. But I think that not knowing this person gives me some...|||Yes, the endless what ifs, it feels kind of relieving actually to do something about it. The randomness is what I cant get over lol, I guess I should call her to get to know her a bit, be it as I...|||ha yes, I think I will just go for it, I am over thinking this :P|||Lately, Ive had a bad streak with friendships because of misunderstandings and such, yet I always regain or gain new friends and have unforgettable times with them. Like many of you, sometimes I over...|||I always have difficulties, but using a bit of humor can help a lot to break the tension. I followed the format the teacher gave us for speaking, just imagine yourself reading outloud expressively...|||I think sometimes people dont see us as they imagine but sometimes we are everything they imagined but since we kind of never got it, it never developed. but tthe rejection of a person sometimes is...|||really sad while the world is happy.|||I am tired of being a puppet and puppet master. i think most of my complications of everything is about trust and solidarity, I was always left alone and have always clamored for independence, while...|||aww this made me feel like 230895y349iugwigvjpwqeg09q inside. ive been in both spectrums and ugh..........I always seem to lose.|||quite common for me.|||I do, but then again I sometimes go back to the source.|||DRI live at cbgbs(1984) :) look it up on youtube|||I am always on the moon, but a way to counteract long term memory loss is, believe it or not, delta-9-thc. at the moment you wont remember things, but after some time you will remember even the...|||that was me in school too. everyone got saddened and I wanted to leave early. I always flat line(emotionally) but then explode with feelings at times... it is horrible, but both have their...|||everyday is the same nightmare, since I wake up, my mind is not with me as before, it is a distant cloud yearning for love and acceptance and I feel so incomplete........ yet I can recognize that my...|||we draw attention whenever we go somewhere. people always stare at me, I stare back, then I win and they dont stare back lol.|||yeah, I had been shut for some time until someone made me think otherwise and now I remember why I used to be like that. back to my intp self again....|||why do I make my life more miserable by thinking about the past? Do you long your troubled past? Then why do you think of it? nunca amaste a ciertas personas, y aun asi, no te las puedes quitar de la...|||Hopefully you and him talk about it soon, let him know what you think and how you came up with the thought and how important this is for you, and for him.|||rigt now I can say I am depressed basically because I lost hopes for some love I had longed, and apathy has only increased since... but then again....|||Por que no puedo, ni una cancion cantarle, a el deseo de mi vida? its been 3 months since I last saw her and spoke to her............I feel like a mummy, not even in facebook...|||when I want to talk, I usually slow down what I have to say because I try to speak so fast that it sounds like gibberish.|||a lot if this has happened to me in exact ways.  before, I remember feeling guilty about it because i knew I could have saved someone, but then again I only thought they were dreams that coincided...|||I remember when my friend would show up at my house after I told him, hey ive got some bud, dont bring anyone eh  and after I let him in, he just whistled and a whole crew of people that had...|||sometimes emotions can have biased consequences, and people can take advantage of a person who bases actions on emotions and feelings. detaching from emotion in some cases makes me see things how...|||mostly its about not thinking bad about the self. People just want to test our limits, especially if they call you a fake or  a false one. when we begin to be original and ourselves, people for some...|||well my friend, just think back to the beginning . what have you done for her-or rather for you both- that will surely give you the title of occupying that special place we(well, you in this case)...|||based on the idea that life can be made out of silicon. by isaac asimov. from 'x marks the unknown' Brain On a Chip | h+ Magazine|||sometimes its good to snap, in a safe and humorous way, it makes the day better :P|||ive yet to live the dream hehehe,|||It feels as if I wrote some of these :P|||I want to do neurobiology as well, where should I start with classes?|||I am a 5w6, or a  9w1|||I just don't like the awkward moments when everyone is happy about this or that and you have nothing to say cause you are thinking about X thing and then they ask you and want to give you guidance...|||I am a hopeless romantic and lose my love to the sound of nothing.|||I love going to school high, it is much more interesting and it makes me argumentative. I actually have no problem with it, it is the people around me that just do not know how to deal with it.|||I am self taught as well, I just do not get the explanations the teachers try to give, plus they never have patience, no one ever has patience(or cant afford to learn slow per hour).  in high...|||I am different with a lot of people, and its generally not a problem until jealousy overwhelms others and they start thinking I have favorites :(|||Tijuana, Mexico and IB, U.S.A actually the border, its like half and half.  :)|||a poem can be anything you want it to be. theres stuff ive written that is considered poetry, and Ive hated poetry for the best part of my life, but if you manage to empathize with the author or get...|||ahh a presence... the best thing to do is to ignore it and live your life the way you want to, IF you can manage to get rid of it. they tend to cling on to you and make you fear stuff . idk if its...'\",\n          \"'I tend to idealize it as magical but it's probably more the fact that I don't have to think about the connection, it just happens intuitively, subconciously ...the people I DON'T connect to far...|||I love all these suggestions!  reaffirm who we are...one of my best friends is good at this. She's very down to earth and often intervenes when I'm getting irrational or worried - using humor...|||from my own experience, I appreciate it when a friend makes the first move when it comes to spending time together. I may show interest and approach them to talk but I'm sensitive about asking people...|||I know quite a few NFs, but I have a hard time specifying beyond that. I know a girl who has tested both as an intp and an infp...she's very kind and friendly but I find her a little mysterious and...|||Ideally I would actually love to bring all my individual friends and groups of friends together so we could all be awesome friends together. In reality it might not be that fun for everyone, even...|||If I get a weird vibe from a person then I don't like them to touch me. For instance if I feel that they are insincere, or that it's for show I get annoyed and feel somewhat used.|||Practice is helpful : )  I've gotten into the habit of talking out loud in the car when I am by myself, which not only helps sort my thoughts but is practice for actually talking to people. (bonus,...|||I feel like two different people, because when I'm relaxed I am the nicest person...  but when I get stressed it's a different story :-/. I'm pretty sensitive so sometimes I don't even realize that...|||It's ironic but not surprising that you want to help since you struggle with it yourself! It is like an endless journey. But it's also nice that it's a process that happens over time and doesn't...|||hmm  howl from howl's moving castle severus snape The Baron in The Cat Returns special agent aloysius pendergast from the book series.  faramir from LOTR sherlock holmes mr rochester (in Jane...|||it was, thank you! Especially the part about finding your inner peace first. One thing that always got me when I was an extremely insecure teen was that I was too unhappy with myself to really enjoy...|||Looking over the other answers I can definitely relate. When I'm first in love I overlook a lot of important stuff. I really want to please them, I'm vulnerable...messy, anxious, insecure...I...|||Once an elderly woman came up to me and told me that I have haunting eyes.|||movies:  the english patient  leon: the professional nell (1994 film) girl with a pearl earring (the book as well) the piano  chungking express  a little princess (90s version)  the silence...|||It's the other way around for me. Do you think it has something to do with early-life interactions with men and women/family members? For instance, my earliest life experiences with females were way...|||I KNEW there was a memo >_<|||excessive pride in or admiration of one's own appearance or achievements.  Nah. But I'm very proud of the effort I make with my appearance, it's a way I express myself and show respect....|||I'm enjoying reading through this thread! I just earned a degree in studio art (ceramics, photography and painting)...right now I'm a cashier in my small town (I want to move on, though I love it...|||Hi everyone,   I could use some advice and perspective, especially from older or more mature INFPs.  First of all, I'd cautiously describe myself as fairly healthy INFP emerging from an ...|||Singlehood can be awesome. I think you have the right idea about it! If anything being single is incredibly freeing. Start doing the things you love and figuring out what is meaningful to you...what...|||it really depends on the situation and my mood. I've been described as refined and even mysterious a few times. Honestly it's ridiculous but I kind of eat that crap up, I love being mysterious. I...|||Doing alright and I smile, or good, thank you  I've been on the other side where I'm the one asking. It makes me sort of nervous when people go beyond something polite and simple..|||I think my best friend is an enfj/maybe esfj....it's hard to tell, she's pretty much a 2 as far as socionics go. Alot of my friends are enfps, infjs, esfjs..a couple infps|||:laughing:  this was the first thing to pop into my mind   It does not do to dwell  on dreams and forget to live, remember that. -Albus Dumbledore.   I  think dreaming is wonderful in a lot of...|||1. What is the best way to initially connect with you?  I connect well with people who are open and friendly right off the get go. Having something in common to talk about always helps, so when I...|||http://www.youtube.com/watch?v=cl5cR6gnnXo|||I don't know if I've changed personalities...but my idea of myself has changed in many ways : -) But I never experienced a major change in preferences like that. I did go through a difficult time in...|||no. I how would I connect with people if I was so different?  It seems like a bad idea to have so much power without a lot of self control and wisdom.|||I had an ENTP (I think) roommate for a semester - it was sort of exhilarating to have someone so direct and blunt around. And we both had weird senses of humor...so we got along.|||77.  I guess some of those could have been 5s though if I was REALLY honest :-P|||you remind me of my second cousin|||lol ^^   I do this with everything, especially with cars, to the point where some cars are just really annoy me. I despise gloomy looking headlights...  And trees...I grew up with a field behind...|||well, old boyfriend actually ; )  I'm curious   here is a description, what's your opinion on his type?   speaks his mind pretty easily -  pretty open and blunt cares for his appearance -...|||I had a professor who said we don't fall, we climb into love. Which blows my mind and inspired my views on that : ) The adaptability of the human soul..|||it's romantic but not very realistic... : (  but then I think it's possible for you to BECOME soul mates with someone, like your souls sort of adapt and grow into it...gah I sound like an infp..|||Yes, especially of people I see as underdogs/minority/vulnerable. I hate seeing parents treat their children with unnecessary harshness. And I'm also a bit jealous of my good friends and siblings -...|||If it has to do with conflict or (possibly) hurting someone's feelings I tend to resort to a watered down version of my feelings...or not at all, it just depends. Otherwise I'm pretty expressive to...|||yeah, around guys who like me (when the feeling isn't mutual). It's something I'm working through, but I get irrationally panicked, and it's hard to control my feelings. Any tips for dealing with...|||I touch my face and arms and hair constantly in conversation - It must be so distracting for the people talking to me|||I want people to perceive me as refined but approachable - so I try to reflect that in what I wear. I was very insecure in college and went over the top to stand out as an artist *cringe* but I still...|||I think I was quite sweet as a kid, but dreamy might be a bit much, I had an intensity and seriousness about me. We have home videos of me being silly, but also videos of me intently drawing pictures...|||this is not a serious answer, but  this reminded me of yesterday when I was coming up with a list of friends and family to send letters out to. I had spent the morning by myself reading and thinking,...|||these are great ideas!   Some things that have helped me:  distancing myself from my emotion, for example: I have feelings of despair/sadness/worthlessness I need to deal with. Rather than I am...|||@INFPanonymous ha no reason, just  I'm not into that stuff   *shrugs*|||I think some people *sort of* avoid me, yes. Or at least they don't actively try to come into much contact with me. I've realized that some people just aren't as comfortable around quiet (and...|||I feel bad...I've tried to get several of my friends into it! >_< (perhaps they feel the same way?)|||hm. people who assume because I am soft spoken and reserved that I am naive and childlike, craving meaningful deep conversations and having few people to have these conversations with, I'm out with...|||At age 10 I realized that I was nearly grown up and that my life was essentially meaningless. Like I was terribly depressed, and that was frightening and painful because I couldn't verbalize it to...|||thank you for seeing me,   you were the first boy I fell in love with. I was that silly shy younger kid who sort of stalked you. And although I think you knew it, you never led me on, rejected me...|||I like scents that remind me of being a little kid  like dandelions and queen anne's lace flowers, freshly tilled dirt, sweet hay... Can you tell I grew up in the country?'\"\n        ],\n        \"semantic_type\": \"\",\n        \"description\": \"\"\n      }\n    },\n    {\n      \"column\": \"type\",\n      \"properties\": {\n        \"dtype\": \"category\",\n        \"num_unique_values\": 16,\n        \"samples\": [\n          \"INFP\",\n          \"ISTP\",\n          \"ESFP\"\n        ],\n        \"semantic_type\": \"\",\n        \"description\": \"\"\n      }\n    }\n  ]\n}"
            }
          },
          "metadata": {},
          "execution_count": 65
        }
      ]
    },
    {
      "cell_type": "markdown",
      "metadata": {
        "id": "YjIBFc35orxc"
      },
      "source": [
        "- show a representative sample of data texts to find out required preprocessing steps"
      ]
    },
    {
      "cell_type": "code",
      "execution_count": null,
      "metadata": {
        "id": "zGFKzSCRorxc",
        "colab": {
          "base_uri": "https://localhost:8080/"
        },
        "outputId": "3f561926-9c9d-4846-a16a-6b7d1d6f097a"
      },
      "outputs": [
        {
          "output_type": "execute_result",
          "data": {
            "text/plain": [
              "count    6940.000000\n",
              "mean     1225.821037\n",
              "std       310.615971\n",
              "min         4.000000\n",
              "25%      1046.000000\n",
              "50%      1277.000000\n",
              "75%      1457.000000\n",
              "max      1849.000000\n",
              "Name: posts, dtype: float64"
            ]
          },
          "metadata": {},
          "execution_count": 41
        }
      ],
      "source": [
        "ser = train['posts'].apply(lambda x: len(x.split()))\n",
        "ser.describe()"
      ]
    },
    {
      "cell_type": "code",
      "source": [
        "plt.figure()\n",
        "ser.hist(bins=500)\n",
        "plt.figure()\n",
        "sns.boxplot(ser)"
      ],
      "metadata": {
        "colab": {
          "base_uri": "https://localhost:8080/",
          "height": 841
        },
        "id": "Grc601M84ztL",
        "outputId": "09b4e208-afda-4b0f-9ca8-3420f0d26373"
      },
      "execution_count": null,
      "outputs": [
        {
          "output_type": "execute_result",
          "data": {
            "text/plain": [
              "<Axes: ylabel='posts'>"
            ]
          },
          "metadata": {},
          "execution_count": 42
        },
        {
          "output_type": "display_data",
          "data": {
            "text/plain": [
              "<Figure size 640x480 with 1 Axes>"
            ],
            "image/png": "[encoded data removed]"
          },
          "metadata": {}
        },
        {
          "output_type": "display_data",
          "data": {
            "text/plain": [
              "<Figure size 640x480 with 1 Axes>"
            ],
            "image/png": "[encoded data removed]"
          },
          "metadata": {}
        }
      ]
    },
    {
      "cell_type": "code",
      "source": [
        "train['posts_length'] = train['posts'].apply(lambda x: len(x.split()))"
      ],
      "metadata": {
        "id": "PYOZg9N543aa"
      },
      "execution_count": null,
      "outputs": []
    },
    {
      "cell_type": "markdown",
      "metadata": {
        "id": "UqdSUtbdorxd"
      },
      "source": [
        "- check dataset balancing"
      ]
    },
    {
      "cell_type": "code",
      "execution_count": null,
      "metadata": {
        "id": "JBHrSvXhorxd",
        "colab": {
          "base_uri": "https://localhost:8080/"
        },
        "outputId": "80d4a1c9-b21e-4d0a-abd2-fa5dcb313bab"
      },
      "outputs": [
        {
          "output_type": "execute_result",
          "data": {
            "text/plain": [
              "type\n",
              "INFP    1466\n",
              "INFJ    1176\n",
              "INTP    1043\n",
              "INTJ     873\n",
              "ENTP     548\n",
              "ENFP     540\n",
              "ISTP     270\n",
              "ISFP     217\n",
              "ENTJ     185\n",
              "ISTJ     164\n",
              "ENFJ     152\n",
              "ISFJ     133\n",
              "ESTP      71\n",
              "ESFP      38\n",
              "ESFJ      33\n",
              "ESTJ      31\n",
              "Name: count, dtype: int64"
            ]
          },
          "metadata": {},
          "execution_count": 44
        }
      ],
      "source": [
        "train[\"type\"].value_counts()"
      ]
    },
    {
      "cell_type": "code",
      "source": [
        "plt.figure(figsize=(12,8))\n",
        "sns.barplot(data=train[\"type\"].value_counts())"
      ],
      "metadata": {
        "colab": {
          "base_uri": "https://localhost:8080/",
          "height": 713
        },
        "id": "83JYuRAp5Iph",
        "outputId": "99f89f1f-481b-4554-dedc-36692f2fdc71"
      },
      "execution_count": null,
      "outputs": [
        {
          "output_type": "execute_result",
          "data": {
            "text/plain": [
              "<Axes: xlabel='type', ylabel='count'>"
            ]
          },
          "metadata": {},
          "execution_count": 45
        },
        {
          "output_type": "display_data",
          "data": {
            "text/plain": [
              "<Figure size 1200x800 with 1 Axes>"
            ],
            "image/png": "[encoded data removed]"
          },
          "metadata": {}
        }
      ]
    },
    {
      "cell_type": "markdown",
      "metadata": {
        "id": "x3wl_crkorxd"
      },
      "source": [
        "- Cleaning and Preprocessing are:\n",
        "    - 1\n",
        "    - 2\n",
        "    - 3\n",
        "    - ... etc."
      ]
    },
    {
      "cell_type": "markdown",
      "metadata": {
        "id": "XyJkqK9gorxe"
      },
      "source": [
        "### Cleaning and Preprocessing"
      ]
    },
    {
      "cell_type": "code",
      "execution_count": null,
      "metadata": {
        "colab": {
          "base_uri": "https://localhost:8080/"
        },
        "id": "e7SIqcif1uIX",
        "outputId": "fd1fa073-c12e-4191-8237-81e9cddf489b"
      },
      "outputs": [
        {
          "output_type": "stream",
          "name": "stdout",
          "text": [
            "Collecting contractions\n",
            "  Downloading contractions-0.1.73-py2.py3-none-any.whl (8.7 kB)\n",
            "Collecting textsearch>=0.0.21 (from contractions)\n",
            "  Downloading textsearch-0.0.24-py2.py3-none-any.whl (7.6 kB)\n",
            "Collecting anyascii (from textsearch>=0.0.21->contractions)\n",
            "  Downloading anyascii-0.3.2-py3-none-any.whl (289 kB)\n",
            "\u001b[2K     \u001b[90m━━━━━━━━━━━━━━━━━━━━━━━━━━━━━━━━━━━━━━━━\u001b[0m \u001b[32m289.9/289.9 kB\u001b[0m \u001b[31m10.0 MB/s\u001b[0m eta \u001b[36m0:00:00\u001b[0m\n",
            "\u001b[?25hCollecting pyahocorasick (from textsearch>=0.0.21->contractions)\n",
            "  Downloading pyahocorasick-2.1.0-cp310-cp310-manylinux_2_5_x86_64.manylinux1_x86_64.manylinux_2_12_x86_64.manylinux2010_x86_64.whl (110 kB)\n",
            "\u001b[2K     \u001b[90m━━━━━━━━━━━━━━━━━━━━━━━━━━━━━━━━━━━━━━━━\u001b[0m \u001b[32m110.7/110.7 kB\u001b[0m \u001b[31m18.7 MB/s\u001b[0m eta \u001b[36m0:00:00\u001b[0m\n",
            "\u001b[?25hInstalling collected packages: pyahocorasick, anyascii, textsearch, contractions\n",
            "Successfully installed anyascii-0.3.2 contractions-0.1.73 pyahocorasick-2.1.0 textsearch-0.0.24\n",
            "Collecting emoji\n",
            "  Downloading emoji-2.11.1-py2.py3-none-any.whl (433 kB)\n",
            "\u001b[2K     \u001b[90m━━━━━━━━━━━━━━━━━━━━━━━━━━━━━━━━━━━━━━━━\u001b[0m \u001b[32m433.8/433.8 kB\u001b[0m \u001b[31m9.9 MB/s\u001b[0m eta \u001b[36m0:00:00\u001b[0m\n",
            "\u001b[?25hInstalling collected packages: emoji\n",
            "Successfully installed emoji-2.11.1\n"
          ]
        }
      ],
      "source": [
        "! pip install contractions\n",
        "! pip install emoji"
      ]
    },
    {
      "cell_type": "code",
      "execution_count": null,
      "metadata": {
        "id": "hgUbtBrP1uIY"
      },
      "outputs": [],
      "source": [
        "import nltk\n",
        "import re\n",
        "import emoji\n",
        "import contractions\n",
        "import string\n",
        "from nltk.stem import PorterStemmer\n",
        "from nltk.stem import WordNetLemmatizer\n",
        "from nltk import pos_tag\n",
        "from nltk.corpus import stopwords\n",
        "from nltk.tokenize import word_tokenize"
      ]
    },
    {
      "cell_type": "code",
      "execution_count": null,
      "metadata": {
        "colab": {
          "base_uri": "https://localhost:8080/"
        },
        "id": "iEzNB-ut1uIZ",
        "outputId": "31dd6879-c7e9-4f57-eda8-f59bcb1f4292"
      },
      "outputs": [
        {
          "output_type": "stream",
          "name": "stderr",
          "text": [
            "[nltk_data] Downloading package wordnet to /root/nltk_data...\n",
            "[nltk_data]   Package wordnet is already up-to-date!\n",
            "[nltk_data] Downloading package punkt to /root/nltk_data...\n",
            "[nltk_data]   Package punkt is already up-to-date!\n",
            "[nltk_data] Downloading package stopwords to /root/nltk_data...\n",
            "[nltk_data]   Package stopwords is already up-to-date!\n"
          ]
        }
      ],
      "source": [
        "nltk.download('wordnet')\n",
        "nltk.download('punkt')\n",
        "nltk.download('stopwords')\n",
        "stops = stopwords.words('english')\n",
        "lemmatizer = WordNetLemmatizer()\n",
        "stemmer = PorterStemmer()"
      ]
    },
    {
      "cell_type": "code",
      "source": [
        "def clean_txt(text):\n",
        "    text = text.lower()  # Lower\n",
        "    text = re.sub(r'http\\S+|www\\S+', '', text)  # Remove Links\n",
        "    text = re.sub(r':[a-z_]+:', '', text)  # Remove emojis\n",
        "    text = re.sub(r'[^\\w\\s]', ' ', text)  # Keep only alphanumeric characters and spaces\n",
        "    text = re.sub(r'\\s+', ' ', text)  # Replace multiple spaces with a single space\n",
        "    text = re.sub(r'\\|\\|+\\s*\\d+%\\s*\\|\\|+', '', text)   # Remove redundant percentage and bar lines\n",
        "    text = re.sub(r'\\d+', '', text)   # Remove digits\n",
        "    text = re.sub(r'\\b\\w\\b', '', text)    # Remove any floating single char\n",
        "    text = text.strip()   # Stripping\n",
        "    words = word_tokenize(text)\n",
        "    stop_words = set(stopwords.words('english'))\n",
        "    cleaned_words = [word for word in words if word.lower() not in stop_words]    # Remove stopwors\n",
        "    cleaned_words = [lemmatizer.lemmatize(word, pos='v') for word in cleaned_words]   # Lemmatization\n",
        "    cleaned_text = ' '.join(cleaned_words)\n",
        "    return cleaned_text\n"
      ],
      "metadata": {
        "id": "h1RqJsVa7vkB"
      },
      "execution_count": null,
      "outputs": []
    },
    {
      "cell_type": "code",
      "source": [
        "for i in range(10) :\n",
        "    text = train['posts'].iloc[i]\n",
        "    print(text)\n",
        "\n",
        "    clean_text = clean_txt(text)\n",
        "    print(clean_text)\n",
        "    print(\"_\" * 120)"
      ],
      "metadata": {
        "colab": {
          "base_uri": "https://localhost:8080/"
        },
        "id": "jJmYCp_y8I0f",
        "outputId": "17561d40-b06c-470e-ce72-39236d760378"
      },
      "execution_count": null,
      "outputs": [
        {
          "output_type": "stream",
          "name": "stdout",
          "text": [
            "'this is actually exactly what i expected!  :laughing:  Introversion |||||||||| 40% |||||||||||||||| 70% Extroversion |||||||||||||||| 66% |||||||||| 36% Intuitive ||||||||||||||||||||...|||Now that you've had time to chill out, here comes the boundless insanity and awesomeness!  (p.s. just noticed the weird tense/perspective of this sentence... it's being spoken by the universe to me...|||I'm going to post before i actually read the entire thread:  Name a famous person you don't like. mel gibson  What was the last thing you bought? groceries to make italian food  Name a...|||i worked as a programmer all through high school, and then went to college for comp sci for about a year...  eventually i decided it was something that i enjoyed, but not something i wanted to do all...|||I buy it whenever possible, and i adjust my cooking habits to accommodate what's local and organic and in season.  I also cut corners in other parts of my budget so i don't have to sacrifice on the...|||for sure, 13-15 = epic fail  i'm 28 now and on average for the last 6 years, each day is better than the one that came before :laughing:|||mm.. this i agree with.  we need more compassion, there's plenty of justice.  justice just means people acting superior, and 2 wrongs where 1 would have sufficed...    also, i think having justice as...|||Feeling love so intense and unreasonable that you know you'll never be able to share it all... or even express much of it :dry:|||This exactly ^  I just typed out an explanation that i thought would elaborate, but it was nearly identical to what you wrote..  :happy:|||the girl i'm falling for is coming over tonite so i can cook her dinner, and i think she feels it too!  :shocked:  i'm absolutely delighted and terrified  mostly delighted though :crazy:|||this sort of thing is what happens when good intentioned people take the written word so literally for thousands of years and never have the mystical experience required to understand what they've...|||I'm a pantheist, maybe?  something like that.  I believe all the universe is mind, and i don't follow any written religious traditions, whether or not they agree with that.  Lots of the stuff that's...|||In such a broad sense, i don't think i could decide one type that i would always be happiest with.  NF's always make me happy  :happy:  Right now however, I'm crushing pretty hard on this ENFP...|||My roommate is an ENTP and he is in fact hillarious!  He's actually done stand up comedy a few times.  We've known each other for years, since high school.  As long as he remembers that I'm not able...|||i think a big part of friendships not lasting is that we can see people quite clearly, and we also have very high ideals...  combined we end up convincing ourselves to keep distance from most people,...|||the real world is totally fun!  it's whatever you want it to be!  there's still annoying bits, but you're free to do whatever.  all the endings and beginnings coming up will give you chances to...|||so do i to be honest  i have enough trouble keeping up with groups of people with my wits about me, if i'm drunk around other people i just feel extra dumb.   but staying home alone and getting...|||NF  :happy:|||don't take this personally, but if i get the impression that i'm being worked out of my shell so to speak, you'll likely never see me again  :unsure:|||i cook intensely spicy thai soups, and stay home from work, and sleep like 14 hours a day.  water and vitamins and chili/ginger/garlic over and over.  sweat it all out  :tongue:|||Yeah, move out!   Happy first! then stable...   :happy:|||Yeah, you most certainly should talk about it.  It's only weird because you haven't talked already, as soon as everything's in the open and theres no mystery, then you can both move on and be happy...|||i was also really snobby when i was young.  i think i distanced myself from a lot of good people just cause i put them into some or another undesirable category.  sorta wish i hadn't done that  :dry:|||i was at a really big outdoor concert once with a couple of friends, and we were all sitting on the lawn in the middle of this crowd of 80,000 people during setbreak.  the lights were on and just...|||i would want to talk about it!  i'd think i'd feel delighted for myself, but unsure about how i made them feel, and how our future would be together...  there are so many variables in such a...|||reallytiredworkinghardworkingovertimestillgonnacookdinnerandcooktravelfoodfortheweekendanddrive700milesandcomestraightbacktoworkandhavelotsoffunandneversleepandtotallyburnoutoneofthesedaysifidontgetso...|||Full moon and equinox!    Super accelerated chi for everyone!  Fast and dense these past few weeks eh?  sortof exciting and intimidating as well  :laughing:|||yes yes, caution for sure, i didn't mean to imply otherwise...  i just feel that on a grand scale, humanity as a whole needs to be conscious of each other, and not allow walls to rise between people...|||This has happened to me for sure... and sometimes i'll even write them a short email or something to let them know im thinking of them.. without bringing up why.   It's nice to know you've got...|||everyone is right! you need to talk to him!  it will be weird for sure, but it in the long run it won't be nearly as weird as keeping it a secret.  from my own personal experience, i can only say...|||:dry:  i really feel like this jumps to a lot of conclusions...  how could you have any idea that any of that is true?  be careful for sure, but, don't make assumptions out of paranoia...  it's...|||there's no black and white model that applies to everything...  too much variety and ambiguity for that.  at the same time, i understand why it's said that our values are non-negotiable.   i think...|||so... think of it this way..   how many times have you seen someone randomly browsing cd's and wished you had the guts to ask their number?  i know what you mean by it being weird an out of the blue,...|||a little piece of general wisdom about plant teachers that i once heard is: if you have any doubts, then wait  i think you should give it a shot though.  :happy:  (with people you trust, in a...|||I think you would really enjoy the i ching!  it's got lots of interpretations and applications, but one aspect of it i find particularly interesting is the way it describes and categorizes various...|||If I'm annoyed i generally just disengage from that particular person...  I'll still converse if i have to, but i don't focus any attention in their direction, because in reality i'm trying to block...|||Depending on the college, certain places can be very accommodating if you want to switch.  Worth a shot anyway to call up and see what's involved.  Also yeah, don't do anything silly with taking...|||!!!  :crazy:   I've tried to explain this to people and everyone thinks I'm insane!|||I would say that if you don't NEED the money, and you're fairly certain you won't enjoy this job, then don't do it.  First of all..  these days, any job should pay more than $8.  It's not 1995...|||People who are too caught up to see...   it manifests in a bunch of different ways, but that's really what gets me.  Folks who make a choice not to observe what's around them.  examples: jumping...|||I am INFP and I am still drinking coffee and surfing the net despite being late for work... again  :confused:|||This topic is relevant to an experience i had last weekend, and the meditations that ended up spinning out of it....  I spent a bunch of days with someone who had a rather extreme case of...|||Hmm... i've thought about this quite a bit, as i imagine most people have who spend their time thinking about why society is so messed up.  my thought is that it's not necessarily capitalism itself...|||I got an ENFx feeling also.  But possibly J before P as OrangeAppled said.  But more importantly, don't seek an INFP, just seek someone you connect with  :happy:    If you weren't interested in...|||I am drunk! and listening to great music! and putting a terrible mood caused by a dark presence behind me!  happy wednesday everyone!  :laughing:|||The world will change when young children grow up in an environment that promotes love, forward movement, sharing, cooperation, etc...  despite the happy face that public schools and the media...|||There are more choices besides hard logic and blind faith.  What about personal experiences that defy logic?  You can have faith in things because you feel them.. it's not blind for everyone.    I...|||The word pseudo-science is totally a slight against all the things it tries to describe.  As if science is the only correct way to explain the universe, and everything else is just faking it.  I...|||Most definately!  I also feel compelled to go hiking when the weather makes it's just barely safe...  sorta weird now that i think about it.  I was visiting some friends once who lived way out in...|||Hanging out with an INFJ is quite an experience!  One of my best friends is INFJ, and i also know one other, and they both understand me and my outlook better than most of the world.  The telepathy...'\n",
            "actually exactly expect introversion extroversion intuitive time chill come boundless insanity awesomeness notice weird tense perspective sentence speak universe go post actually read entire thread name famous person like mel gibson last thing buy groceries make italian food name work programmer high school go college comp sci year eventually decide something enjoy something want buy whenever possible adjust cook habit accommodate local organic season also cut corner part budget sacrifice sure epic fail average last years day better one come mm agree need compassion plenty justice justice mean people act superior wrong would suffice also think justice feel love intense unreasonable know never able share even express much exactly type explanation think would elaborate nearly identical write girl fall come tonite cook dinner think feel absolutely delight terrify mostly delight though sort thing happen good intentioned people take write word literally thousands years never mystical experience require understand pantheist maybe something like believe universe mind follow write religious traditions whether agree lot stuff broad sense think could decide one type would always happiest nf always make happy right however crush pretty hard enfp roommate entp fact hillarious actually do stand comedy time know years since high school long remember able think big part friendships last see people quite clearly also high ideals combine end convince keep distance people real world totally fun whatever want still annoy bits free whatever end beginnings come give chance honest enough trouble keep group people wits drink around people feel extra dumb stay home alone get nf take personally get impression work shell speak likely never see cook intensely spicy thai soup stay home work sleep like hours day water vitamins chili ginger garlic sweat yeah move happy first stable yeah certainly talk weird talk already soon everything open theres mystery move happy also really snobby young think distance lot good people cause put another undesirable category sorta wish do really big outdoor concert couple friends sit lawn middle crowd people setbreak light would want talk think feel delight unsure make feel future would together many variables reallytiredworkinghardworkingovertimestillgonnacookdinnerandcooktravelfoodfortheweekendanddrivemilesandcomestraightbacktoworkandhavelotsoffunandneversleepandtotallyburnoutoneofthesedaysifidontgetso full moon equinox super accelerate chi everyone fast dense past weeks eh sortof excite intimidate well yes yes caution sure mean imply otherwise feel grand scale humanity whole need conscious allow wall rise people happen sure sometimes even write short email something let know im think without bring nice know get everyone right need talk weird sure long run nearly weird keep secret personal experience say really feel like jump lot conclusions could idea true careful sure make assumptions paranoia black white model apply everything much variety ambiguity time understand say value non negotiable think think way many time see someone randomly browse cd wish gut ask number know mean weird blue little piece general wisdom plant teachers hear doubt wait think give shoot though people trust think would really enjoy ching get lot interpretations applications one aspect find particularly interest way describe categorize various annoy generally disengage particular person still converse focus attention direction reality try block depend college certain place accommodate want switch worth shoot anyway call see involve also yeah anything silly take try explain people everyone think insane would say need money fairly certain enjoy job first days job pay people catch see manifest bunch different ways really get folks make choice observe around examples jump infp still drink coffee surf net despite late work topic relevant experience last weekend meditations end spin spend bunch days someone rather extreme case hmm think quite bite imagine people spend time think society mess think necessarily capitalism get enfx feel also possibly orangeappled say importantly seek infp seek someone connect interest drink listen great music put terrible mood cause dark presence behind happy wednesday everyone world change young children grow environment promote love forward movement share cooperation etc despite happy face public school media choices besides hard logic blind faith personal experience defy logic faith things feel blind everyone word pseudo science totally slight things try describe science correct way explain universe everything else fake definately also feel compel go hike weather make barely safe sorta weird think visit friends live way hang infj quite experience one best friends infj also know one understand outlook better world telepathy\n",
            "________________________________________________________________________________________________________________________\n",
            "'Nope.  Not now, not ever.  I'm too busy with work, causes, and adrenaline-rush activities, and I'll do anything to make sure no one can keep up.  Freedom!  Forever!|||63913|||I did some thinking today and I decided to arrive at this conclusion.  I never really understood negative feelings in the past, so I tried to repress them hoping that they would go away and I would...|||How often do you guys find yourself miscommunicating with others, or using your own lingo when talking with others?  I remember DJArendee's post a while back where he said speaking for him is like...|||20.  I would cut up worms to see what would happen.  The heck kind of question is that!?!?!|||I think chessboxing would be a totally awesome sport for an ISTP.|||I was doing a lumbar puncture in the clinic when the earthquake rock and roll began - I just let go of the needle (already in the patient) and was like okay.... while waiting it out - then I got...|||Boy to Man  So I actually never really loved my mom so to speak.  She was a workaholic who worked both at my dad's office as his assistant and also as an OR nurse taking on a lot of shifts.  She...|||I just don't like saying I love you because of poor delivery - having a gravelly voice doesn't help.  I mean, seriously, pick one, ladies - do you want Jack Bauer or Usher saying I love you...|||Hay baybay what's yo fanta-say?  :P|||I like dancing and playing guitar but I don't like art museums because I can't interact with the art with my hands.  Just staring away and making weird comments.  Not my style.|||I'll see you in HELL!!!|||You're the unwanted center of attention by some Justin Bieber/Lady Gaga wannabe.  Place your bets now!  (more general question - how do you guys deal with being put on the hot seat unwillingly?)|||I'll be back.|||Only child.  I begged my parents to give me another sibling and I attempted to brainwash a younger cousin into thinking he was my brother.  Obviously that did not work, but when you were 7 years...|||^You should probably tell her to lay off the Powerthirst - especially the rawberry flavor.  Good on you for the sports team analogy.|||Love?  Does not compute.  Critical error.|||Give me Liberty or give me Death!|||What I was trying to get at is that does the Leave Me Alone mentality fit perfectly with ISTPs, using the extreme opposite for comparison...  We trust our own senses and reasoning so much over...|||How much of this article sounds like us ISTPs? (guaranteed this is from a political site but there is not exactly a specific mention of any issue.)  Leave-Me-Alones vs Make-It-Betters  Focus...|||I never really saw myself as a leader in any sort of group, only when the situation arose.  I like a behind the scenes approach as well.  If I got assigned to lead a group I was usually very hands...|||wouldn't be totally surprised.  We are descended from pirate-killing ninjas after all, with our physical prowess and adeptness with tools.  :P  Sometime in the far future, some old man will pull a...|||I think this whole revenge issue is universal, not just limited to ISTPs alone.  Yelling at an ISTP or being preachy generally isn't going to work, in fact, being preachy, with things like be the...|||Yeah, this has happened more than I wanted during medical school...  For each class, you get a syllabus of things you have to learn.  The issue is that the courses are team-taught and the course...|||Medical School Martial Arts (Systema) Handgun Training Salsa Dancing|||I honestly don't know what I want out of a relationship other than the typical answers everyone gives (companionship love future wife)  Being an only child, and participating in a lot of...|||Compliments?  I try not to use them too much, it seems desperate, like I'm trying to buy your friendship/love.  So I rarely use them.  If I start thinking about a compliment I think I'll deliver it...|||Yeah with board review and and clinical rotations around the corner I don't think a relationship is coming up anytime soon.  I never really thought I needed a relationship to be complete or anything...|||??? Does not compute|||The girl in the photo is engaged to someone else.  Argh.  She is a year below me in medical school.  The girl I was interested in lives in another part of the state.|||A bull, a 2-D cartoon character, and a MIB with a martini and cigar going up against a warlock batting 1000%.  This should be fun.|||Illusions with delusions of grandeur along with possible cannibalistic/homicidal thought process.  Hannibal Lecter must be squirming in his cage right about now.  Either that or you'd make one fine...|||Apparently rocking on a horse drives you insane after a while, predisposing you to bite even more...|||http://i54.photobucket.com/albums/g110/SilentScope47/meandaliciakepichprofilepic.jpg http://i54.photobucket.com/albums/g110/SilentScope47/salsashowdowngrouppicture.jpg  This was taken after we...|||Well pandas are known to bite.  I mean nomnoming on those bamboo has got to be boring after a while...|||I do go out to clubs but this is for salsa/latin dancing.  The atmosphere is completely different.  On the other hand...with my classmates...many of them do the club thing you guys are talking...|||yes I am an adrenaline junkie - see my profile for my interests...|||HELL FREAKIN NO!  Life is one big party and kids slow you down!|||bear-blasting because I'm too energetic for normal sports!!!!!  tennis airsoft Systema martial arts combatives gunfighting snowboarding football rock climbing|||I actually don't like using the world cuddle very much, it sounds...gooey.  Too sentimental.  I'd rather use the phrase curl up - comes off the tongue better with a little bit of bite to it.|||I have a really hard time being good with words to express how I feel about someone, so more obvious body language signs are better for me.  The Form of the Inferior - ITPs|||1 - Winning a close game 2 - Sitting on top of a mountain gazing down below, then screaming at the top of your lungs 3 - Wingsuit flying to land on a snowy mountain and snowboarding down 4 -...|||Damn, the OP figured me out.  I'm actually a Terminator.  I really wanted the Arnold look, but Skynet decided to screw me over and put me in the Infiltrator-class - I didn't know Skynet had a crush...|||Our communication skills may be a bit on the low end in the beginning as we figure out the relationship day by day so I hope someone understands this!  Plus someone to help any ISTPs that have been...|||Please allow me to introduce myself, I'm a man of wealth and taste... I've been around for a long, long year, stole many a man's soul and faith....|||Since all of my ideas have been said...  sand dunes for sandboarding or a dubai-style indoor skiing tube if the area is near the beach A helipad or an airstrip/fly-in community (want to be...|||Well...now how the heck do I suppress the T part of me then?|||Basically, how do I not struggle to remember moves primarily associated with feeling?  I am afraid that dancing may somehow erase any other movements I have learned.|||This was actually partly covered in a previous topic, in which:    Well that is actually in reference to performing arts, whereas social dancing is nearly complete improvisation in terms of...|||Perfectionism + med school studying + what exactly do we have to know? + high grades = bad combination/near nervous breakdown...'\n",
            "nope ever busy work cause adrenaline rush activities anything make sure one keep freedom forever think today decide arrive conclusion never really understand negative feel past try repress hop would go away would often guy find miscommunicating others use lingo talk others remember djarendee post back say speak like would cut worm see would happen heck kind question think chessboxing would totally awesome sport istp lumbar puncture clinic earthquake rock roll begin let go needle already patient like okay wait get boy man actually never really love mom speak workaholic work dad office assistant also nurse take lot shift like say love poor delivery gravelly voice help mean seriously pick one ladies want jack bauer usher say love hay baybay yo fanta say like dance play guitar like art museums interact art hand star away make weird comment style see hell unwanted center attention justin bieber lady gaga wannabe place bet general question guy deal put hot seat unwillingly back child beg parent give another sibling attempt brainwash younger cousin think brother obviously work years probably tell lay powerthirst especially rawberry flavor good sport team analogy love compute critical error give liberty give death try get leave alone mentality fit perfectly istps use extreme opposite comparison trust sense reason much much article sound like us istps guarantee political site exactly specific mention issue leave alones vs make better focus never really saw leader sort group situation arise like behind scenes approach well get assign lead group usually hand totally surprise descend pirate kill ninjas physical prowess adeptness tool sometime far future old man pull think whole revenge issue universal limit istps alone yell istp preachy generally go work fact preachy things like yeah happen want medical school class get syllabus things learn issue course team teach course medical school martial arts systema handgun train salsa dance honestly know want relationship typical answer everyone give companionship love future wife child participate lot compliment try use much seem desperate like try buy friendship love rarely use start think compliment think deliver yeah board review clinical rotations around corner think relationship come anytime soon never really think need relationship complete anything compute girl photo engage someone else argh year medical school girl interest live another part state bull cartoon character mib martini cigar go warlock bat fun illusions delusions grandeur along possible cannibalistic homicidal think process hannibal lecter must squirm cage right either make one fine apparently rock horse drive insane predispose bite even take well pandas know bite mean nomnoming bamboo get bore go club salsa latin dance atmosphere completely different hand classmates many club thing guy talk yes adrenaline junkie see profile interest hell freakin life one big party kid slow bear blast energetic normal sport tennis airsoft systema martial arts combatives gunfighting snowboard football rock climb actually like use world cuddle much sound gooey sentimental rather use phrase curl come tongue better little bite bite really hard time good word express feel someone obvious body language sign better form inferior itps win close game sit top mountain gaze scream top lungs wingsuit fly land snowy mountain snowboard damn op figure actually terminator really want arnold look skynet decide screw put infiltrator class know skynet crush communication skills may bite low end begin figure relationship day day hope someone understand plus someone help istps please allow introduce man wealth taste around long long year steal many man soul faith since ideas say sand dun sandboarding dubai style indoor ski tube area near beach helipad airstrip fly community want well heck suppress part basically struggle remember move primarily associate feel afraid dance may somehow erase movements learn actually partly cover previous topic well actually reference perform arts whereas social dance nearly complete improvisation term perfectionism med school study exactly know high grade bad combination near nervous breakdown\n",
            "________________________________________________________________________________________________________________________\n",
            "'Yes peace is the absence of conflict - your INFP friend suxx hardd  An ideal peace would be where everybody does exactly what I say. Then they would be totally happy & relaxed & content. So,...|||I'm just going to reallybriefly respond:  1. Yes, when it's in a formalized way, where we both recognize that we're debating. I think it also really helps if it's with an Intuitive - could probably...|||Yeah, I can't say I like Nietzsche either.  I think what I mean when I say assert your will on the external environment is basically have goals, & make them reality. Bend reality to your will. On...|||Yes, it's true that the person who gives more also garners favor - that is actually exactly in keeping with what I'm saying. Giving can be just as much of an attempt at garnering power & favor....|||First, I *totally* relate to every feeling you describe here, specifically in the post-break-up fall out.  I'm just going to vomit out my thoughts on this subject & your predicament specifically: ...|||I don't know what ENFJ/ESTP relationships look like when healthy, if you're talking about romantic relationships, which you are  My (very brief) thoughts on ESTPs (I have to keep it brief because...|||The only chance he had to conclude was to make a preponderance of evidence of astral low-down how-down show-down slow-down go to town Motown bloat clown walking down the street of the aquiesence to...|||Mmm. I will give a very quick response, maybe go more in-depth later...  I am largely in flux about all of this stuff  Bad/evil: being a big jerk with a big ego. Not necessarily in the Trump...|||ENFJ  TMLT quit pretty much every job after a few months because they don't feel it's a good fit|||LOL! Make Trump Great Again  Yeah, let's do it  Frankly, I totally admire the son-of-a-bitch. I mean, for most people, bankruptcy is life-changing. But for him, 4 bankruptcies didn't stop him...|||I love how big and weirdly specific this post's title is|||lul|||Bro, you're looking for us to interpret a bunch of details so that your Lizard Brain can get enough assurance that it is safe to pursue what it wants  (relationship/sex/mating).   Fact: there is...|||Ｔｒｕｍｐu3000ｉｓu3000ａｎu3000ｅｓｔｐ  １，０００，０００％u3000ｅｓｔｐ  ｈｅu3000ｉｓu3000ｔｈｅu3000ｍｏｓｔu3000ｅｓｔｐu3000ｅｓｔｐu3000ｉｎu3000ｔｈｅu3000ｈｉｓｔｏｒｙu3000ｏｆu3000ｅｓｔｐ－ｎｅｓｓ  ｗｈｙu3000ｉｓu3000ａｎｙｏｎｅu3000ｓｔｉｌｌu3000ｄｉｓｃｕｓｓｉｎｇu3000ｔｈｉｓ！？！？！？！？！？！？！？！？！？！？！？！？！？！？！？|||Hey,  glad you brought up Peterson; I was about to ask the same question.  Definitely Ni dominant. 1,000,000%  I think he's definitely in some kind of sweet spot between INFJ & INTJ. He...|||Sounds like he probably wants to be more than friends, which is why he struck up a conversation with you in the first place.  In general, I really like ISTPs, except my brother, who's just a...|||1. This is not a question you should be coming to an online forum for the answer to. You can get a perspective from us, yes; but I hope this forum isn't the only place you're asking this question in....|||What if every ENFJ you've ever met actually wanted to be alone INFP, rather than hear your problems & read your fan fiction?|||ISFP  TMLT burn & distribute discs of ｖａｐｏｒｗａｖｅ music|||Glad you're here  Love a good ISFP|||The ESFP assumes everyone is in it for the fun|||Yeah, very ESTP of me to say, but: I don't mind seeing a bra hanging off the back of a chair  I really don't see how ESTPs and ENFJs would come across the same way at all, beyond a few basic...|||It seemed like the ESFP actually knew what they were talking about in the post above...That's weird...|||ESFP enjoys projecting their own films, anime & TV shows onto other people's buildings & calling it a film festival even though they didn't get a permit or permission, & they didn't actually invite...|||As I understand it (& there are lots of other people on this forum who know more about it than I do) the shadow functions are the functions that you use subconsciously. In the case of an ENFJ,...|||ENFP is secretly very selfish, & so cannot imagine an ENFJ doing anything other than trying to manipulate them into joining a cult|||Yes, truly one of my biggest worries in life is that I feel I've never really learned to be part of a group.  ENFJs are so social, yet so independent & sort of loner  One of the weird,...|||I don't know if it's the ultimate INFJ song, but it's certainly one of the ultimate INFJ songs. If it's the ultimate INFJ song for you, then that's all you need  I think another great INFJ hit is...|||The ENFP above can't event keep focused on making one criticism at a time & so ends up making two. Typical of Ne...|||WOW — honored that something I brought up has taken on such a life of its own!  Perhaps my insights are more valuable than I realize...|||Typical INFP — among a discussion of homoerotic tendencies concluding in a softcore porn video, they are more interested in the cat than anything else...|||ENTJ  TMLT make 70 grilled cheese sandwiches with no one in particular to eat them around...|||Good — more NFs  We will soon overrule the world & create our ideal society. Sadly, there will be no STs to actually make anything work, so we will all spend our nights around a fire drinking tea,...|||INFJ x97 you realize that the ISTP actually got caught, & you ate too much of their BS to realize it|||INFJ — you realize that the ISTP actually got caught, & you ate too much of their BS to realize it|||It's also why ENFPs call ENFJs when they need bail money|||(The mention of fast food motivated ESFP to go to McDonald's, Burger King, & Taco Bell & spend $86.32 of credit card that they have no idea how to pay back...)|||The ENTP above demonstrates an almost sado masochistic obsession with power & authority. ENTPs are typically uninterested in power, control, & authority. But, this individual shows a fascination with...|||WOW — one of the many benefits of the Criticize the personality type above you board.|||I couldn't agree more. Watching Trump is like reading the definition for an ESTP x97 so why are we even considering this question at all?  If anything, explain his functions relative to our knowledge...|||(ENFP doesn't realize it's not actually a stage, it's a McDonald's drive-thru at 3:00am)|||ENFPs couldn't even afford the cheap seats: all $ was spent on candy & various books about things they'd like to do someday.|||Typical ENFP: can't even make a come-back without losing track of who they're talking to...|||ENFJs non-dominant hand is usually helping an ENFP stand up after a night of drinking...|||The ENFPs right hand got married|||This forum has gotten farther and farther from its goal of criticize the personality type above you to criticize someone who commented here at some point...Nice job Perceivers...  But, I guess...|||Ah. ENFPs giving unsolicited gifts to the world  So, uh; how many Tumblrs ya' got?|||hiding spots = mom's basement  & ESFP already found it and threw a party there. You're a lot easier to read than you think INFJ...|||ESFPs tend not to notice anything|||(INFJ: analyzes situation in head for three hours...)'\n",
            "yes peace absence conflict infp friend suxx hardd ideal peace would everybody exactly say would totally happy relax content go reallybriefly respond yes formalize way recognize debate think also really help intuitive could probably yeah say like nietzsche either think mean say assert external environment basically goals make reality bend reality yes true person give also garner favor actually exactly keep say give much attempt garner power favor first totally relate every feel describe specifically post break fall go vomit thoughts subject predicament specifically know enfj estp relationships look like healthy talk romantic relationships brief thoughts estps keep brief chance conclude make preponderance evidence astral low show slow go town motown bloat clown walk street aquiesence mmm give quick response maybe go depth later largely flux stuff bad evil big jerk big ego necessarily trump enfj tmlt quit pretty much every job months feel good fit lol make trump great yeah let frankly totally admire son bitch mean people bankruptcy life change bankruptcies stop love big weirdly specific post title lul bro look us interpret bunch detail lizard brain get enough assurance safe pursue want relationship sex mat fact ｔｒｕｍｐuｉｓuａｎuｅｓｔｐ uｅｓｔｐ ｈｅuｉｓuｔｈｅuｍｏｓｔuｅｓｔｐuｅｓｔｐuｉｎuｔｈｅuｈｉｓｔｏｒｙuｏｆuｅｓｔｐ ｎｅｓｓ ｗｈｙuｉｓuａｎｙｏｎｅuｓｔｉｌｌuｄｉｓｃｕｓｓｉｎｇuｔｈｉｓ hey glad bring peterson ask question definitely ni dominant think definitely kind sweet spot infj intj sound like probably want friends strike conversation first place general really like istps except brother question come online forum answer get perspective us yes hope forum place ask question every enfj ever meet actually want alone infp rather hear problems read fan fiction isfp tmlt burn distribute discs ｖａｐｏｒｗａｖｅ music glad love good isfp esfp assume everyone fun yeah estp say mind see bra hang back chair really see estps enfjs would come across way beyond basic seem like esfp actually know talk post weird esfp enjoy project film anime tv show onto people build call film festival even though get permit permission actually invite understand lot people forum know shadow function function use subconsciously case enfj enfp secretly selfish imagine enfj anything try manipulate join cult yes truly one biggest worry life feel never really learn part group enfjs social yet independent sort loner one weird know ultimate infj song certainly one ultimate infj songs ultimate infj song need think another great infj hit enfp event keep focus make one criticism time end make two typical ne wow honor something bring take life perhaps insights valuable realize typical infp among discussion homoerotic tendencies conclude softcore porn video interest cat anything else entj tmlt make grill cheese sandwich one particular eat around good nfs soon overrule world create ideal society sadly sts actually make anything work spend nights around fire drink tea infj realize istp actually get catch eat much bs realize infj realize istp actually get catch eat much bs realize also enfps call enfjs need bail money mention fast food motivate esfp go mcdonald burger king taco bell spend credit card idea pay back entp demonstrate almost sado masochistic obsession power authority entps typically uninterested power control authority individual show fascination wow one many benefit criticize personality type board agree watch trump like read definition estp even consider question anything explain function relative knowledge enfp realize actually stage mcdonald drive thru enfps even afford cheap seat spend candy various book things like someday typical enfp even make come back without lose track talk enfjs non dominant hand usually help enfp stand night drink enfps right hand get marry forum get farther farther goal criticize personality type criticize someone comment point nice job perceivers guess ah enfps give unsolicited gift world uh many tumblrs ya get hide spot mom basement esfp already find throw party lot easier read think infj esfps tend notice anything infj analyze situation head three hours\n",
            "________________________________________________________________________________________________________________________\n",
            "'I apologize for the delayed response, but thank you for taking the time to share your experiences. It's helpful to hear that good boundaries come with time and not instantly. :)   I'm so sorry to...|||I think that is exactly what I needed to hear. Boundaries, neediness, etc. are exactly what I'm working on right now, as well as developing a healthy self-image. It's nice to know that having those...|||Thank you for your input. Dealing with rejection, confrontation, etc. are definitely things that I'm thinking about right now. The thing is, I recognize that people can be very negative. I was raised...|||For any of you INFP counselors, therapists, etc. - what challenges have you experienced in this field? I'm strongly considering counseling for a career, and would love input from fellow INFPs on your...|||Yes, I do think I've found the right type. A logical INFP, perhaps, but an INFP nevertheless. For now, anyway. :D  Thanks! :hugs:|||Interesting. I got ENFP. Obviously it depends on the individual person, but I could see myself being more interested in an INFJ.|||Yep! Same here. *sigh*|||Your inbox is full again. :)|||Hmm. Yeah, that would frustrate me too. I wonder if reframing it would help? Looking at it as a new challenge?  Not as something that you *have* to do, but something that is worth the time and effort...|||So sorry. I feel you - I've been in the same boat many times, and am on the hunt for a good job that fits with my personality, as well. Do you mind if I ask, what industry you're in?|||Gosh, I struggle with this! Right now, actually. I'm thinking about a blog post I need to write, but apparently I'd much rather be doing this. :rolldeyes:  What I have often found is that I need...|||I would hate to have to make that choice, but I would definitely go with emotional fulfillment.   I don't necessarily need someone as sensitive as me, but they would need to be somewhat sensitive...|||Lol! Yes, that was my passive, indecisive side showing its head again. :D  Thank you for taking the time to do that though. I really do feel more at home in the INFP forums, but as you can see, I...|||Hmm. Well, I don't want to put you to too much work! ;)   I like learning my job inside and out for career advancement purposes. And to stave off boredom. I do tend to think about efficiency,...|||You're crazy. :laughing:|||Lol! I see your mind is made up. :)  Hmm. As I said, I notice details too. Can't help it - it's like a curse. I worked in a library for a while, and was once called evil because I found too many...|||Wow. Classic INTJ response. ;)  I actually have stopped taking the silly tests, as they weren't really getting me anywhere. But neither is researching the functions, unfortunately. I'm too...|||P.S. - earthangel_yari - I tried to PM you, but apparently your inbox is full. :)|||When I was very young, I was friendly, emotionally expressive, and thoughtful. I got in trouble from time to time, but overall was well-behaved. As an only child, and a homeschooler, I didn’t have a...|||I posted this on the INFP thread...thought it might be helpful, for further clarification:   The cognitive functions are where I get messed up. I think the problem for me is that I rely heavily on...|||Hmm. Well, the cognitive functions are where I get messed up. I think the problem for me is that I rely heavily on Fi and Te both in making decisions. I can't tell what my inferior function is. I...|||Oh, I forgot to ask...what is it like to be Si dominant? How, in your experience, does that seem to differ from Fi dominance?|||Agreed. :) I understand that there is no perfect box for each type. In some ways, that's a comfort for me, as it gives me freedom to be myself. But on the other hand, uncertainty drives me up the...|||Thank you for your reply! :) Well, as far as the details go, I do use them like you do - to try to reach perfection. The problem with that, for me, is that I have OCD. Nothing can ever be perfect...|||I'm experiencing a lot of confusion about my type right now. On free online tests I've come up as several different types, most often either INFJ or ISTJ. Lol - big difference! On a type me thread...|||I'm experiencing a lot of confusion about my type right now. On free online tests I've come up as several different types, most often either INFJ or ISTJ. Lol - big difference! On a type me thread...|||[QUOTE=SiFan;30241618]Right up front, that's more an INFP view than an INFJ view. I'll mull over it a bit. http://ffextensionguru.com/gofirefox/th_happy.gif  Cool. :) I'm starting to think I don't...|||Thanks for the feedback. I guess what I'm feeling at this point is that I really tend to better fit the top 4 cognitive functions for INFP/ISTJ. I've read posts by users in both forums, and have a...|||I'm 4-6-9 tritype, but unsure which one is dominant. I more often test as a 6w5, but have also tested as a 4. I think what puzzles me most about it is that which of the three is dominant depends on...|||I'm so sorry to hear that. I can't even imagine what you must be going through right now. You must be hurting a lot, after giving so much of yourself, to have things end this way.|||SiFan purpleviolet   Well, I think we've just established that INFJs are a very opinionated type. :) Can we please keep this thread from turning into WWIII, though?  :hugs:|||E   Interesting. Here's the thing though: I've never had the NI experience of knowing something, without being able to explain why. Not have I ever had the experience of directly feeling what...|||SiFan Do you mind if I ask, what specifically would cause you to lean away from INFP?|||I have to say...I still lean toward INFP. This site, for example:  INFP vs INFJ: 5 Surprising Differences To Tell Them Apart|||Lol! :)|||Really great advice here! :)|||I'm so proud of you for taking a different approach this time! And I'm glad to see that you got a little different response too. Regardless of what he says or does in the future, I'd say it looks...|||Thoughts? I'm open to discussion! :)|||Forgot a few things:  Tend to come across as naive and childlike Hopeless romantic, but most people wouldn't know that Can't. Stop. Thinking. Obsessive. Emotional rollercoaster half the time...|||To be honest, I think I'm pretty convinced now that I'm not an INFJ. Even though I've tested INFJ several times, I never really felt that I resonate with Ni. It seems foreign to me. And I've never...|||I getting needing to have security in the choice. I tend to be independent-minded and, although sensitive and loyal, can't stand to not be included in decisions. Even if I go along with what the...|||I can so totally relate. I'm 25, and until 2 years ago, felt like a complete outsider and had no friends. I ended up in therapy for OCD, and since then, have been slowly learning how to socialize. I...|||Join the crowd! You are SO loved!!! <3|||Single therapy for you maybe? Just a thought. I just know how much it has helped me.  Another thought...would you be happy moving every few years if you two could switch back and forth as to who...|||Keep the ideas coming folks! Let's make this a good resource thread for young INFPs. And the young at heart. ;)|||Ah, okay. I live in the U.S., so I'm wondering if the required qualifications would be different for that type of work here. I'll look into it, though! :)|||What exactly do you do? And where do you find those kinds of jobs?|||Hear ya, girl. I don't know what to say about that. Have you considered couples' counseling at all? Do you think he would go for that?|||Definitely, those positions appeal to me. I forgot to mention - I just started working as a paid childcare worker at my church. It has its stressful moments for sure - toddler tantrums + lack of...|||Awesome! Twins!!! :D  Do you mind if I ask, what your experience has been thus far? What jobs have/haven't worked for you?'\n",
            "apologize delay response thank take time share experience helpful hear good boundaries come time instantly sorry think exactly need hear boundaries neediness etc exactly work right well develop healthy self image nice know thank input deal rejection confrontation etc definitely things think right thing recognize people negative raise infp counselors therapists etc challenge experience field strongly consider counsel career would love input fellow infps yes think find right type logical infp perhaps infp nevertheless anyway thank interest get enfp obviously depend individual person could see interest infj yep sigh inbox full hmm yeah would frustrate wonder reframing would help look new challenge something something worth time effort sorry feel boat many time hunt good job fit personality well mind ask industry gosh struggle right actually think blog post need write apparently much rather often find need would hate make choice would definitely go emotional fulfillment necessarily need someone sensitive would need somewhat sensitive lol yes passive indecisive side show head thank take time though really feel home infp forums see hmm well want put much work like learn job inside career advancement purpose stave boredom tend think efficiency crazy lol see mind make hmm say notice detail help like curse work library call evil find many wow classic intj response actually stop take silly test really get anywhere neither research function unfortunately earthangel_yari try pm apparently inbox full young friendly emotionally expressive thoughtful get trouble time time overall well behave child homeschooler post infp thread think might helpful clarification cognitive function get mess think problem rely heavily hmm well cognitive function get mess think problem rely heavily fi te make decisions tell inferior function oh forget ask like si dominant experience seem differ fi dominance agree understand perfect box type ways comfort give freedom hand uncertainty drive thank reply well far detail go use like try reach perfection problem ocd nothing ever perfect experience lot confusion type right free online test come several different type often either infj istj lol big difference type thread experience lot confusion type right free online test come several different type often either infj istj lol big difference type thread quote sifan right front infp view infj view mull bite cool start think thank feedback guess feel point really tend better fit top cognitive function infp istj read post users forums tritype unsure one dominant often test also test think puzzle three dominant depend sorry hear even imagine must go right must hurt lot give much things end way sifan purpleviolet well think establish infjs opinionated type please keep thread turn wwiii though interest thing though never ni experience know something without able explain ever experience directly feel sifan mind ask specifically would cause lean away infp say still lean toward infp site example infp vs infj surprise differences tell apart lol really great advice proud take different approach time glad see get little different response regardless say future say look thoughts open discussion forget things tend come across naive childlike hopeless romantic people know stop think obsessive emotional rollercoaster half time honest think pretty convince infj even though test infj several time never really felt resonate ni seem foreign never get need security choice tend independent mind although sensitive loyal stand include decisions even go along totally relate years ago felt like complete outsider friends end therapy ocd since slowly learn socialize join crowd love single therapy maybe think know much help another think would happy move every years two could switch back forth keep ideas come folks let make good resource thread young infps young heart ah okay live wonder require qualifications would different type work look though exactly find kinds job hear ya girl know say consider couple counsel think would go definitely position appeal forget mention start work pay childcare worker church stressful moments sure toddler tantrums lack awesome twin mind ask experience thus far job work\n",
            "________________________________________________________________________________________________________________________\n",
            "'Nightglow, I can't even imagine what you must be struggling with right now.    Is your dad reasonable? Does he get that you are different people, or does he think everyone should be stoic and...|||Pretty much this...    http://www.youtube.com/watch?v=dd2e04M-xxg|||My friend has been suggesting Happy Endings but I haven't gotten into it yet.  I've only watched like the first minute a few times when the DVR captures it, but it hasn't made me go I have to watch...|||rickybobby haha, I'll have to ask her if she ever does that! She laughs in front of me too, but just sometimes I'm like, shouldn't she find this funnier but it's probably just because we have such...|||This sounds a lot like my wife who is ESFJ.  She loves a lot of those same shows: The Office, 30 Rock, Modern Family, Flight of the Conchords, also Up All Night and Community.  She doesn't really...|||infpblog: thank you! Exactly this.    I don't love or hate Facebook.  It's great for keeping in touch with friends that have moved away, and my family is always annoying me to put more pictures of...|||Haha, thanks! I do have a brother but he is very different from me. People we hung out with were often surprised to find that we were brothers since we don't even look alike.  Unfortunately I'm a...|||I love it!|||My name is a play off of both Douglas Adams and myself.  In So long and thanks for all the fish there is a character named Wonko The Sane who builds The Asylum to house all the crazy people in the...|||1. What was your first reaction when you met your spouse? Love at first sight? Bad impression? Just another classmate/co-worker?   My wife and I are high school sweethearts (awww... yeah yeah). We...|||Hey all, I'm pretty interested in this.  I love writing but I do very very little of it.  My friends and I used to get together and write but that was years ago.  I feel that my goal in life is to be...|||Yes, that's pretty much me too.  I actually try to cry sometimes when I feel a big swell of emotion, but it never comes out.  I often get all goosebumply when overwhelmed with emotion, but I rarely...|||The last time I cried was probably when I was about six and my brother and I were playfighting and he accidentally punched one of my baby teeth out; it wasn't too bad until I saw all the blood.  ...|||Dear God - Sarah McLachlan   http://www.youtube.com/watch?v=36T7ELkI-0E|||Yes, I prefer typing, but even that can't keep up, haha.|||My friends and I used to write stories together, and I had to train myself to print because most of them could not read my handwriting.  People used to complain about the handwriting of one of our...|||I see, you're describing more the destination, not the journey.   We don't like the way people pretend to be something they are not (so noone really knows who they truly are) and yet we don't show...|||I really like the way you put this! To some extent I could describe myself as emotional based on your description.  I definitely am very sensitive to people's emotional states.  As with many INFPs...|||I think I might actually have to disagree with this.  I really like the way anyotherday put it.  Because it's not a matter of purposefully hiding or purposefully faking, it's just being ourselves. ...|||http://www.mms.com/us/images/product_pretzelmms.png Ok, but I just had to check and confirm that I'm not crazy, haha. I bought a blue bag of M&Ms but they were pretzel, and to be honest, not that...|||I'm probably still not getting this even after what you just wrote, but when I first read the title I just thought you meant the basic mature vs immature type situation... for example:  I had a...|||Wow, that's me exactly but I couldn't have said it any better.  I told my ENFP mother that before: You know, I have a different personality/sense of humour around you than I do around dad.  I show...|||My wife is and ESFJ, we balance each other nicely.  My mother is an ENFP, I'm pretty much her personal shrink, haha.  My best friend is an INFJ, we get each other so much and can discuss all...|||I understand this completely.  I was actually about to start a thread asking something similar.  It seems a lot of people on here mention the sterotype of INFPs being emos or drama queens or the...|||I thought they were pretzel M&Ms, but that bag doesn't say that at all.  I've only bought them once, and that was in the United States.  They were pretty good, but I much prefer the peanut butter...|||Haha, seriously, I just read your message, then looked over at your name and once again I just sort of drifted off thinking about all the things it could mean.  To be honest it's been so long...|||^-- Haha!  A bacon wrapped date! YUMMMMM!|||Is your relationship with her father pretty good?   As in, can you flat out say to him I know how much she loves these books and it just didn't feel right keeping them from her.  I know it's best...|||Haha, I love this forum! It's so funny to talk to other INFPs and realise there are other people like me.  I remember posting a picture on Facebook with three of my long time friends.  I put in the...|||Hey, first off, I love your name! It seems like it should be sad, except it's so happy, and soo... *head asplode*.  But seriously, it's beautiful and it makes my mind drift off in thought puzzling...|||+1  Haha, I was a vegetarian for about 10 years (I call myself a non-practicing vegetarian now... cue guilt).  This is exactly how I acted.  I let people know that I didn't eat meat if it was...|||Haha, I'm pretty sure I know EXACTLY what you mean.  When I used to say best friend I really just meant one of the friends which is closest to me.  Although I must admit the person to whom I now...|||That was an awesome description.  I'm running late (haha, I'm so INFP) so I wont read all the comments right now, I just had to say thanks for this post!  That whole time continuum thing was cool....|||I have had experiences that I don't know if they are psychic or just my highly evolved intution.   For example I was at a red light at night on a very quiet street (it was a four lane main street,...|||Hey Traum, my bf is also INFJ.  I've noticed that trend on here.    I also notice on the INFP forum that the most common type posting on there (other than INFP) is INFJ.  I think they love us and...|||Last year I joined a running group.  Before it started I was thinking what the hell did you just do?!?! but I knew it was sort of an intermediate course, and I had never run before, so I started...|||Haha, I love it!  I do this all the time, often about someone I just see walking past me on the street.  I think wow, look at her. I can just tell we'd be perfect together because I can tell...|||I was terrible at sports in High School (I loved gym class but only took it in grade 9 and 10 - too many interesting social science classes to take so I had to skip gym).  I always got A+ effort...|||Well isn't this a fun little thread, haha.  We're discussing religion and there don't seem to be too many backs going up (I kinda skipped some of the middle pages and might have missed a couple...|||Good question, but for me a tough one.    I think people who know me really well could answer this question about me better than maybe I could.  I think my values are so ingrained that I don't...|||Oh, and I do like Fantasy, I just haven't read as much.  I did recently read the entire Sword of Truth series (after watching the show), and I quite like that.|||+1!  I love science fiction.  Sometimes I have to force myself to branch out because it's pretty much all I read.  My favourite authors are Douglas Adams, Richard Morgan, and Robert J. Sawyer. ...|||Thanks for saying no offense before calling my point of view garbage; it really lessened the blow. I haven't read that book, just wiki'd it real quick like, but I don't know that it would cause me...|||This describes my behaviour exactly.  I have no problem not contacting someone for weeks/months/years, even someone I would consider one of my best friends, and then reconnect with them like no time...|||Hey, my friend is currently reading The Field and greatly enjoys it.  He bought it because she writes the introduction to a new(ish) edition of The Holographic Universe.  I just finished The...|||I like jeans and either a nice fitting atheletic tee or a clever or cool looking tee (a la Threadless).  My wife tells me all the time that what I'm wearing doesn't match.  She doesn't care or try...|||When you are reading out loud (to your class for example) and you start faltering mid-paragraph because you are suddenly marvelling over the fact that all these little stick shapes (i.e....'\n",
            "nightglow even imagine must struggle right dad reasonable get different people think everyone stoic pretty much friend suggest happy end get yet watch like first minute time dvr capture make go watch rickybobby haha ask ever laugh front sometimes like find funnier probably sound lot like wife esfj love lot show office rock modern family flight conchords also night community really infpblog thank exactly love hate facebook great keep touch friends move away family always annoy put picture haha thank brother different people hang often surprise find brothers since even look alike unfortunately love name play douglas adams long thank fish character name wonko sane build asylum house crazy people first reaction meet spouse love first sight bad impression another classmate co worker wife high school sweethearts yeah yeah hey pretty interest love write little friends use get together write years ago feel goal life yes pretty much actually try cry sometimes feel big swell emotion never come often get goosebumply overwhelm emotion rarely last time cry probably six brother playfighting accidentally punch one baby teeth bad saw blood dear god sarah mclachlan prefer type even keep haha friends use write stories together train print could read handwrite people use complain handwrite one see describe destination journey like way people pretend something noone really know truly yet show really like way put extent could describe emotional base description definitely sensitive people emotional state many infps think might actually disagree really like way anyotherday put matter purposefully hide purposefully fake ok check confirm crazy haha buy blue bag ms pretzel honest probably still get even write first read title think mean basic mature vs immature type situation example wow exactly say better tell enfp mother know different personality sense humour around around dad show wife esfj balance nicely mother enfp pretty much personal shrink haha best friend infj get much discuss understand completely actually start thread ask something similar seem lot people mention sterotype infps emos drama queen think pretzel ms bag say buy unite state pretty good much prefer peanut butter haha seriously read message look name sort drift think things could mean honest long haha bacon wrap date yummmmm relationship father pretty good flat say know much love book feel right keep know best haha love forum funny talk infps realise people like remember post picture facebook three long time friends put hey first love name seem like sad except happy soo head asplode seriously beautiful make mind drift think puzzle haha vegetarian years call non practice vegetarian cue guilt exactly act let people know eat meat haha pretty sure know exactly mean use say best friend really mean one friends closest although must admit person awesome description run late haha infp wont read comment right say thank post whole time continuum thing cool experience know psychic highly evolve intution example red light night quiet street four lane main street hey traum bf also infj notice trend also notice infp forum common type post infp infj think love us last year join run group start think hell know sort intermediate course never run start haha love time often someone see walk past street think wow look tell perfect together tell terrible sport high school love gym class take grade many interest social science class take skip gym always get effort well fun little thread haha discuss religion seem many back go kinda skip middle page might miss couple good question tough one think people know really well could answer question better maybe could think value ingrain oh like fantasy read much recently read entire sword truth series watch show quite like love science fiction sometimes force branch pretty much read favourite author douglas adams richard morgan robert sawyer thank say offense call point view garbage really lessen blow read book wiki real quick like know would cause describe behaviour exactly problem contact someone weeks months years even someone would consider one best friends reconnect like time hey friend currently read field greatly enjoy buy write introduction new ish edition holographic universe finish like jeans either nice fit atheletic tee clever cool look tee la threadless wife tell time wear match care try read loud class example start falter mid paragraph suddenly marvel fact little stick shape\n",
            "________________________________________________________________________________________________________________________\n",
            "'Question- If you are familiar with the Enneagram, what would you think I would be? I have been doing some testing and found this quite interesting... but my results varied.... but I did end up with...|||P.S. Who I am as a person and who HE is a person. Again it isn't as complex to him.|||UGH.. My Brain hurts today. I suggest self-help books- his answer is I don't read. I am sure he would as he does when I send him something, but he doesn't read with the pure interest in learning. He...|||Actually, MBTI is what is bringing us back together. I had shut him out completely before looking into this. I knew we didn't understand each other and were at a mute point. I completely gave up,...|||It didn't happen :/ Really my fault because I didn't set it up. We were constantly doing things and didn't have enough time.    I didn't press the issue. I don't think he is ready. I am taking a...|||Thanks for your answers. I was genuinely interested. Really just comparing myself and relationship; as well as, learning more and more about you all!|||Quick Question-   ISTJ and myself are going to start,together, every Sunday looking over Typing.   Tomorrow will be the first, 'self-medicated', session. :)   ISTJ's- Where do I start? I don't...|||Hello Everyone!   I was just curious. How are your all's reltionships on average. (Of course I have my own presumptions, but I wanted to hear it from you) If you haven't already read previous...|||That wasn't my intent at all. Another misunderstanding, alls well, I'm not too great at explaining my point of view anyway.   Should have known better.    Thanks for your alls input on the...|||Someone told me it was little j vs. capitalized. So now, I know there is a difference. ISTJ, ISTJ. Thanks for your help!|||No I typed him myself. I didn't take a test, I read all about Cognitive Theory and this is what I came up with. Then I started reading through the forums and was able to back up, my anaysis, per say....|||Someone yelled at me (not literally) for it. I don't know. All I know is after reading reading and more reading this Forum is exactly how he is. (obviously everyone is different) but personality...|||You guys really make me smile alot!!! You both are absolutely right.|||But you are my counselor! :)   Who what when where how, okay... got it. At least now I have a format to go by. I have to go but will be back on later or tomorrow. Thanks so much!!   P.S. How do...|||Sorry Niss- End of day rambling still at work and I have been CRAZY busy. Hopefully you can decipher what I meant. I'm sorry didn't want you to read my mind LOL:laughing:|||Well that was really helpful, honestly. At first when I began reading, I was thnking you still didn't understand, but I guess you do. After the examples. Why does he not think of these things? I have...|||Well, sometimes - when arguing, there is more than 1 truth that both individuals may be debating seperately. It's the knowledge of these that may allow you to see that there may not be a right or...|||Lol so there's different levels of stereotyping? You all are so funny!    Someone once told me:  A drug, is a drug, is a drug. Doesn't matter the type.   Or- A lie is a lie is a lie. lol   A...|||We have 'super powers'|||Bubba: Anyway, like I was sayin', shrimp is the fruit of the sea. You can barbecue it, boil it, broil it, bake it, saute it. Dey's uh, shrimp-kabobs, shrimp creole, shrimp gumbo. Pan fried, deep...|||Another ISTj Trait I have witnessed. Maybe from more of an abstract sense- But  You all have never completely switched a situation around were You were not Wrong, and the other person was?|||And ISTj's don't stereotype? Already have their mind made up on something or someone that they may not even know? Or have looked at it from different perspectives?  Sorry, I know an ISTj and he...|||Okay, you guys are not understanding what I want and don't want.   1. I want to be able to be more clear and precise (when I specifically want him to do something)   2. I don't want to play mind...|||Ahaha Its so funny, I must say. I have been lucky enough to witness this happen.|||How do you think I got this far? Google Baby!! I love google and wiki :)  @ Niss- Keys-  Yes it is a ENFP thing. I am the only person I know who could truly 'lose their head if it wasn't attached'...|||lol I constantly tell people my motto: google it!|||I completely understand where you both are coming from, and I understand the 'mind reading' issue too. I guess I am being stubborn on this particular instance because I know what I have said that was...|||I like to call it our super powers ;)|||Welcome!  :crazy: How many books have you written? I love to read! Website?|||[QUOTE=niss63;759952]Don't stop reading, just yet. There are several threads with many, many posts related to this topic in these forums. This relationship pairing is fraught with great difficulty...|||I know... I went on a tangent!! Im excited and tired. I will respond more ISTj-like Tomorrow :) But don't stop you all have helped me so much!!   I did re-read it and was like.. Oh Lord!...|||Thanks!   Well that's a new ideal I've never heard.|||P.P.S---   Sorry for all the grammatical errors. I am really tired and OBVIOUSLY English Class was not my favorite. I am a Science Noob.|||Hi Everyone! Thanks for the feedback! All of it has been very enlightening. I am understanding more and more. As I go through and re-read certain responses, I will specifically ask any questions. I...|||Oooo Okk! I am trying to be more careful, but somehow always miss something!!|||She isn't out of your reach.. you just need to extend beyond your comfort zone to touch her.   It makes me sad too, buddy. But here's some optimism, at least you recognize and feel the emotion :) ...|||One on one and PDA. What struck me as so odd, was 3 years ago I told him I wasn't overly affectionate esp. in public. I am still that way, but damn a woman needs some type touchy, feely. I all about...|||referring to one of our senses touch or feel.|||LOL I love it! It sounds like my ISTj so much... his form of affection to my dog (which they have some bond I can't explain, considering, I let her sleep with me when he isn't there haha) Is letting...|||Well that was very enlightening. The first few I do remember reading through. It's nice to get others perspectives on how this difficult combination will or won't work.   I can definitely relate...|||Thank You All for your responses. I genuinely appreciate any insight.   Thank You Niss for at least letting me know, there is hope. I will be researching thoroughly and will get back to you soon!! ...|||I just have so many questions; it seems endless. Thank you for your input.   Do you think it will be more beneficial, asking for advice, on the particular things I want to strengthen, in the...|||As simple as an ENFP girlfriend can make it. Please try to oversee the errors. ISTJ's   My bf and I have been on a rough patch from the beginning, 3 years now.  *(Insight- He would never agree to...|||I figured it out, after reading and reading and learning the cog. functions he is 100% ISTJ. Your thoughts on how you think this may or may not work?|||He is an ISTJ allllll the way!! Any suggestions here?? Wow, we are soooo not made for eachother but I can say I think he admires my natural  intuition (intelligence to him) and optimism.   HELP|||Thanks so much!!! This is the best advice yet, and funny enough thats where I originally put him. He is exactly the way you just explained, but does understand but I know he doesn't at times. I am...|||I have posted multiple things and I am completely confused about typing my Boyfriend. As an ENFP I thought I already had him categorized, but then he took the test and it was no where CLOSE. (Tested...|||See there are many similarities. Like he is genuinely happy. Nothing really gets to him, Im the one with all the issues it seems. Well thanks anyways for your input!!|||See I am driving myself crazy with this because on one hand he resembles alot of the characteristics and just lacks communication and affection with ME. Around others and friends he is completely...|||See now this is were I am confused, because most I hear is cuddly, but My bf tested as ENFJ and is NOT affectionate what so ever. He has a hard time petting my freakin dog for God's sakes.   He...'\n",
            "question familiar enneagram would think would test find quite interest result vary end person person complex ugh brain hurt today suggest self help book answer read sure would send something read pure interest learn actually mbti bring us back together shut completely look know understand mute point completely give happen really fault set constantly things enough time press issue think ready take thank answer genuinely interest really compare relationship well learn quick question istj go start together every sunday look type tomorrow first self medicate session istj start hello everyone curious reltionships average course presumptions want hear already read previous intent another misunderstand alls well great explain point view anyway know better thank alls input someone tell little vs capitalize know difference istj istj thank help type take test read cognitive theory come start read forums able back anaysis per say someone yell literally know know read read read forum exactly obviously everyone different personality guy really make smile alot absolutely right counselor okay get least format go go back later tomorrow thank much sorry niss end day ramble still work crazy busy hopefully decipher mean sorry want read mind lol well really helpful honestly first begin read thnking still understand guess examples think things well sometimes argue truth individuals may debate seperately knowledge may allow see may right lol different level stereotype funny someone tell drug drug drug matter type lie lie lie lol super power bubba anyway like sayin shrimp fruit sea barbecue boil broil bake saute dey uh shrimp kabobs shrimp creole shrimp gumbo pan fry deep another istj trait witness maybe abstract sense never completely switch situation around wrong person istj stereotype already mind make something someone may even know look different perspectives sorry know istj okay guy understand want want want able clear precise specifically want something want play mind ahaha funny must say lucky enough witness happen think get far google baby love google wiki niss key yes enfp thing person know could truly lose head attach lol constantly tell people motto google completely understand come understand mind read issue guess stubborn particular instance know say like call super power welcome many book write love read website quote niss stop read yet several thread many many post relate topic forums relationship pair fraught great difficulty know go tangent im excite tire respond istj like tomorrow stop help much read like oh lord thank well new ideal never hear sorry grammatical errors really tire obviously english class favorite science noob hi everyone thank feedback enlighten understand go read certain responses specifically ask question oooo okk try careful somehow always miss something reach need extend beyond comfort zone touch make sad buddy optimism least recognize feel emotion one one pda strike odd years ago tell overly affectionate esp public still way damn woman need type touchy feely refer one sense touch feel lol love sound like istj much form affection dog bond explain consider let sleep haha let well enlighten first remember read nice get others perspectives difficult combination work definitely relate thank responses genuinely appreciate insight thank niss least let know hope research thoroughly get back soon many question seem endless thank input think beneficial ask advice particular things want strengthen simple enfp girlfriend make please try oversee errors istj bf rough patch begin years insight would never agree figure read read learn cog function istj thoughts think may may work istj allllll way suggestions wow soooo make eachother say think admire natural intuition intelligence optimism help thank much best advice yet funny enough thats originally put exactly way explain understand know time post multiple things completely confuse type boyfriend enfp think already categorize take test close test see many similarities like genuinely happy nothing really get im one issue seem well thank anyways input see drive crazy one hand resemble alot characteristics lack communication affection around others friends completely see confuse hear cuddly bf test enfj affectionate ever hard time pet freakin dog god sakes\n",
            "________________________________________________________________________________________________________________________\n",
            "'Thanks Takadox, I really appreciate your advice. I'll keep it in mind.|||Cool, thanks. I thought I had them all lol.|||Thanks for your message. I'm not sure my bf admits that... although when I went back to him he reacted positively. I know however that I won't bear with being pushed away again. It has to be the...|||A very good example is Wilson in House. (And house a very good example of an ENTP). My boyfriend and I find their relationship (although on a friendship level) so representative that we watch it just...|||What's that book?|||I suffer from anxiety when I've had to cope with long-term difficulties. It involves irregular heartbeat and breathing problems. Last year, (at last) a doctor prescribed light alprazolam to take only...|||Errr... gender: other???  What's alternative music?   OK... done ;-)|||And very young - What's the point being a clever ENTP if it's to behave like an ESTP?   Well, exactly. No one can foresee the future, we can only rely on our first impressions, so what's the point...|||Online dating is just a means, not an end to itself. It's the same as meeting someone through friends's parties or whatever. I find unhealthy to chat for months on without meeting each other. My...|||I didn't - I just wanted to clarify things a little ;) I agree with the ego thing for women too but men.... lol|||Same here :crying: As a child/teenager she never showed respect or even interest in my intellectual abilities. Even said one day what's the point being so clever at school if you can't do anything...|||Lol, you drugged her a lot ;) I've been thinking of seeing a counselor and my ENTP bf agrees. But I feel shy about putting on a show in front of a stranger. He does this, She says that. Euh......|||Thank you drmiller, I wish he thought the same as you! :tongue:  Indeed, I think I understand him a lot more than he thinks and I have told him but not sure he realizes this.  One big thing though...|||Thanks but I think this is irrelevant in the situation. Us NFs, are not clingy and pretty hard to stick to someone unless we really think the person is worth it. And HE not me (in the beginning)...|||Also, I forgot to say something important : as an NF, you will understand he likes you way before he understands you like him. NTs want logical evidence and as there is none in this field are never...|||From my experience with ENTP guys, there will be signs which will make sense to an NF but not to them. Just reading the above discussions on whether talking lots to someone is a sign they fancy you...|||I didn't get that bit but all the rest makes a lot of sense, thanks. I decided tonight (just before reading your message) to break into his isolation as all this had become unbearable to me. I spoke...|||That's a bit exaggerated. We INFJs are sensitive but very open minded to discussion and not naive when it comes to human nature. If by hurting their feelings you mean touching their ego, then I...|||If I undestand well, just talking helps? Even if she doesn't analyze things with you? Interesting... It's indeed very different from what I would expect from a therapist.|||Oh Lord, sounds like my boyfriend :unsure:. He feels rejected/not appreciated for absolutely no reason. Then he gets into a pushing away mode which yes, is very painful and very damaging to the...|||I don't feel attracted to ESFPs, other than on a friendship level, probably because I've tried to date a few of them and it never worked. I've had great fun with them though, I love their...|||I divorced last year from ESFJ, also the father of my daughter. We loved each other sincerely and were very honest to each other but I never felt understood. He didn't care much for my dreams, my...|||Would you be willing to see a shrink (any kind of psychologist/psychotherapist) or do you generally tend to rely on your brains to self-analyze and maybe get better? Why yes/not? Thanks for your...|||And what if they don't? What if they start doubting too and need you to prove YOUR commitment and loyalty? Doesn't that show how much in that situation you doubt your own feelings?  This is really...|||Thanks wildchild. This might sound like a stupid question but isn't that supposed to be more NF-like? I mean the time to let the emotions settle to see clearly?|||To be more specific, I've read on a forum about a lost/unhealthy/desperate ENTP this: If you ever know an ENTP that gets like this, the key to their pulling through is to argue back against their...|||More specifically my question was about being alone when you're depressed/confused/unhealthy, not just to chill out, or due to circumstances. Is being alone a state that is likely to make you see...|||Hi,  I was wondering how ENTPs cope with loneliness. Do they sometimes choose to be alone? Can anything good come out from being lonely for a long time (say, days) when an ENTP feels out of...|||I agree up to a certain point and that's one of the reasons that can biaise a P/J test.  I like goals and dislike not knowing where we're heading (a lesson for example where we don't know what the...|||you CAN talk people's heads off or you DO most of the time? All the ENFPs I know can't stop talking and it's not a critique, just an observation ;)  It's funny because I thought I was ENFP for a...|||Thanks to all of you for your replies, it feels good. Especially that I feel I have almost no one to turn to, honestly.   @INFJigsaw Thanks so much for your support. It’s true that it gets very...|||Yes. I stopped having contact with my ESFP mother after she told me after one of her multiple emotional outbursts that she would see her grand daughter again (my daughter, at the time 1 year old)...|||Do you talk without stop most of the time? Then you're ENFP :-D  Do you hope/try to help/make people change? Then you're an INFJ...|||With boys, a great deal lol. With girls not at all... I got used to it and most of my friends were boys. I wasn't keen on girlie things anyway ;)|||Hi,  My ENTP bf has very emotional reactions: he gets annoyed at trivial things, bursts with anger, goes cold then cries... I can't cope with his moods, having myself a lot to deal with at the...|||Revolution|||I understand what you're going through. The problem with this is that it ends up getting obessional and can deeply affect your own sexuality.  It's happened to me and it took me ages to recover, and...|||I suppose I used to kind of like it but I've grown to dislike it more and more since I've started dating my ENTP boyfriend. Debating with him quickly turns to unfriendly arguing and just never...|||I see what you mean. I studied science because I loved rivers. I wanted to wade around, do surveys, join Greenpeace, make a change to this world but... ended up stuck in front of my pc, modeling...|||The scoring must then vary from one website to another. I thought it worked like the results from personality.info that a lot of people use around here. That's why I couldn't understand how you could...|||I don't mean to intrude but with your N at 50%, I suggest you may be ISFJ rather than INFJ.  I'd think it very unlikely for INFJs to fall for xSTJ indeed...  EDIT: euh... how can you be INFJ with...|||I don't agree with brutal..|||Some people get totally carried away by their own feelings (I'm in loooooove!!!) and don't seem to care much about the other person's feelings. I've had this problem many times (but not with...|||My go:  Let's get high on LSD and have some fun.  What did you say your name was? Let's have sex in the car. Good, bad, Kindness are subjective things. I told you I didn't love you and...|||HAHAHAHA! Me too! That always puzzled my boyfriends ;)|||LOL I LOVED this !|||I think so, yes. Some things seem so obvious to us that we can have the feeling that telling others how to behave will make us sound (once more lol) moralizing. Also, once you've told someone (to...|||I wrote this list thinking of love relationships, but I guess it could apply to other relationships too (parent, child, friend...).  Do's and dont's to keep your INFJ happy:  1) Listen to him/her...|||We love each other sincerely but unfortunately it doesn't seem enough to overcome the impact of our recent past and the present difficulties. And loving him does not mean I can deal with everything,...|||Thanks aquarian. I'm actually trying to think beyond my feelings and make some sense of things. Knowing that a lot of people here have a somewhat similar way of seeing things, I think sharing...'\n",
            "thank takadox really appreciate advice keep mind cool thank think lol thank message sure bf admit although go back react positively know however bear push away good example wilson house house good example entp boyfriend find relationship although friendship level representative watch book suffer anxiety cope long term difficulties involve irregular heartbeat breathe problems last year last doctor prescribe light alprazolam take errr gender alternative music ok do young point clever entp behave like estp well exactly one foresee future rely first impressions point online date mean end meet someone friends party whatever find unhealthy chat months without meet want clarify things little agree ego thing women men lol child teenager never show respect even interest intellectual abilities even say one day point clever school anything lol drug lot think see counselor entp bf agree feel shy put show front stranger say euh thank drmiller wish think indeed think understand lot think tell sure realize one big thing though thank think irrelevant situation us nfs clingy pretty hard stick someone unless really think person worth begin also forget say something important nf understand like way understand like nts want logical evidence none field never experience entp guy sign make sense nf read discussions whether talk lot someone sign fancy get bite rest make lot sense thank decide tonight read message break isolation become unbearable speak bite exaggerate infjs sensitive open mind discussion naive come human nature hurt feel mean touch ego undestand well talk help even analyze things interest indeed different would expect therapist oh lord sound like boyfriend feel reject appreciate absolutely reason get push away mode yes painful damage feel attract esfps friendship level probably try date never work great fun though love divorce last year esfj also father daughter love sincerely honest never felt understand care much dream would will see shrink kind psychologist psychotherapist generally tend rely brain self analyze maybe get better yes thank start doubt need prove commitment loyalty show much situation doubt feel really thank wildchild might sound like stupid question suppose nf like mean time let emotions settle see clearly specific read forum lose unhealthy desperate entp ever know entp get like key pull argue back specifically question alone depress confuse unhealthy chill due circumstances alone state likely make see hi wonder entps cope loneliness sometimes choose alone anything good come lonely long time say days entp feel agree certain point one reason biaise test like goals dislike know head lesson example know talk people head time enfps know stop talk critique observation funny think enfp thank reply feel good especially feel almost one turn honestly infjigsaw thank much support true get yes stop contact esfp mother tell one multiple emotional outbursts would see grand daughter daughter time year old talk without stop time enfp hope try help make people change infj boys great deal lol girls get use friends boys keen girlie things anyway hi entp bf emotional reactions get annoy trivial things burst anger go cold cry cope moods lot deal revolution understand go problem end get obessional deeply affect sexuality happen take age recover suppose use kind like grow dislike since start date entp boyfriend debate quickly turn unfriendly argue never see mean study science love rivers want wade around survey join greenpeace make change world end stick front pc model score must vary one website another think work like result personality info lot people use around understand could mean intrude suggest may isfj rather infj think unlikely infjs fall xstj indeed edit euh infj agree brutal people get totally carry away feel loooooove seem care much person feel problem many time go let get high lsd fun say name let sex car good bad kindness subjective things tell love hahahaha always puzzle boyfriends lol love think yes things seem obvious us feel tell others behave make us sound lol moralize also tell someone write list think love relationships guess could apply relationships parent child friend dont keep infj happy listen love sincerely unfortunately seem enough overcome impact recent past present difficulties love mean deal everything thank aquarian actually try think beyond feel make sense things know lot people somewhat similar way see things think share\n",
            "________________________________________________________________________________________________________________________\n",
            "'Welcome!!! Here's another proud INFP *hugs* :kitteh:|||Yeah me too. I want to say something meaningful and then I can't think of anything and it just becomes awkward. A good trick might be to relate the discussion to something that happened to you. Like...|||ENFP... sigh :laughing:  Not that I don't like them (I adore them!) but I can't see myself in a relationship with one. We are far too alike. I think the Ne+Ne can be quite overwhelming. I think I...|||Yeah me too. This seems to be a big problem for INFPs and INTPs. But I've gotten used to it by now. I don't mind being alone, but I miss having people to talk to. We N-types are so few! The other day...|||INTJ or INFJ! Maybe ENTJ if you want someone who is really effective and will drive you nuts in the process.  But it's difficult since you're white, we could speculate a long time about that. A...|||I can't type you because I'm not in your head, but I can say that you're giving off an ENFP-vibe (based on my subjective impression of your post). ENFPs are not at all less sensitive than INFPs, at...|||I'm born female but I consider myself neutral. I feel I can relate more to men than to women in some regards. Sometimes when I look into the mirror I think I look wrong. I mean, I have all the...|||I don't think there is one pop-group that can match ABBA! I play through their records trying to find a bad song, no luck :tongue:|||I have a very strong sense of what's fair and not fair based on my subjective values, so yes, I am very interested in politics. Not sure how much it has to do with my type and being Fi-dominant. I...|||I forced them to take it :kitteh:|||I have an Introvert-Feeler-family. I would even call it an INF-family, because my ISF-father hasn't really been there much...  All my best friends are iNtuitives as well. I guess it's because they...|||I'm sure there are INFPs out there who are a-holes. I just don't know any of them...    I'm so annoyed by the assumption that Hitler was an INFJ. How on earth would anyone actually KNOW?!??!?|||Unless you can directly ask another person what their preferences are, I suggest you don't type other people at all. It's a waste of time, because you can't be inside their heads. And how do you know...|||Wow! Excellent video! I totally respect and agree with most of his critique. It's accurate and to the point. He is a smart man, but obviously he has been too invested in this theory. You can't let it...|||This is going to be a long one, but maybe... maybe someone out there has got time to help me... :sad:  It concerns a lost friend of mine. Let's call him Fred. When I was in high school, Fred and I...|||I swear I didn't see this post before I picked my avatar :laughing:|||Oh I haven't heard that song in a while :happy:   I can relate to that song, but I think anyone who's depressed or feeling overlooked could as well so... I'd say, based on the people run in...|||Not sure about thinkers but everyone in my family are feelers and we're all agnostics/atheists.  But thinkers should have logical objections to the concept of religion.  Actually I think everyone...|||I like that they are crazy.   LOL kidding :kitteh:  But what I like most about my INTP friend is that she does whatever the f*** she wants. She sees no reason to follow norms and she's very...|||Ha ha ha! I agree with you, she's not ahead of them but that's the way she sees it - because it takes them time to get to the point where she's already at!   But of course it takes HER time to get...|||Of course! I'm not saying it hasn't got anything to do with interest, because it obviously has! But if we turn it the other way around: What would you want talk about? I wouldn't want to talk about...|||People have already said what I wanted to say when I read your post, but I'll say it anyway: The MBTI shows our preferences, we can ALL use sensoring and intuition no matter what the test says. So of...|||Yeah me too! I was at a dinner party recently and I felt so out of place, but everyone else seemed to have a great time, talking and laughing... And I kinda enjoyed listening to them at first... but...|||Umm YES!!! Extremely charming people! But I have only met a few, maybe I've been lucky? :laughing:|||The struggle is real!!! :sad:  Last time I was infatuated with a guy I wouldn't even talk to him, even though we were working together, I was too bloody nervous! And now he's moved to another...|||Do you see Hillary Clinton as a politician close to the socialist left?  Because as a socialist I see her as someone who deeply values the same thing as you: Capitalism, private ownership etc.  ...|||Completely agree with you. I'd vote for a third party candidate too. It's not throwing away your vote, absolutely not.|||Don't put words in my mouth.|||I once killed a spider by pouring boiling water on it. I felt so bad afterwards. That innocent spider was boiled alive!!! Only because I was scared of it. Yes, I'm a horrible human being :sad:|||OK I'm not an ENFP but my best friend is and I've known him all my life.  Your ENFP-guy seems very romantic. My friend is just like that. You shouldn't worry too much. Actually, I think you should...|||She had strong competition from a louder mouth :wink:|||I'm sorry, I should've been more clear: I strongly believe in the importance of experience and true education, and I think these things should be the main credentials when someone applies for a job....|||That's a reasonable opinion. The US democracy is deeply flawed and voting for populist candidates sure is a way of punishing the establishment (as it should be). But the system itself isn't going to...|||When I say incompetence I mean in the sense of how to govern - not how to win an election (any loud mouth with money could do that, as history has proven again and again).|||Oh this is interesting! Since the OP asked for INFPs and reasons we finally have something to work with   What interest me is your response in relation to the principle-driven nature of the INFP...|||I wish I was as optimistic about the future as you. All I can think about is all his shitty policies which will make life harder for so many people, even outside the US. Not sure it's worth it for...|||I understand you're not, but I'm still not impressed by your reasons. Anyway, thanks for sharing them.   A country is nothing like a business. In business, you can do what you want with your...|||I don't get your reasoning. You say Trump was always a better choice than Clinton, even without her experience?  Just explain that to me. Here's a metaphor: If you were going to, let's say,...|||And yet, crooked Donald is now a phenomenon! How SAD!|||What's your own point? You're ISFJ.   I have no love for Clinton, but she was the more competent candidate - years of experience - and her policies wouldn't have been any worse than those of Trump....|||Also, he shows some signs of psychopathy.|||He was asking INFP's.   As an INFP, who's first function is Feeling, I say: If Donald Trump said everything I ever wanted a politician to say, I still would never vote for him, because he is...|||You two obviously aren't happy together so it's good you broke it off. You'll find someone who is better suited for you and who respect your values. It takes courage to leave a relationship that...|||I think a more interesting question would be: Who contributed what to society through history? And who has been calling the shots? One could argue we live in an S-world, since most people are S...|||I find it hard to engage them in subjects such as social issues and politics. When I have a conversation with my ISFP father (for example) he isn't very theoretical and deep, he justs look at things...|||I actually prefer cake, but pie is great too... cake AND pie should be the norm ;) I mean why have one when you can have both?|||This. I hate the phrase social competence which is used a lot where I live. Everyone is required to have social competence no matter what kind of job it is - but what it really means is kiss the...|||Thank you   Librarian! It's good for me to learn more about the S-perspective. I have EN-- friends that I don't have a similar problem with so I actually think it's the dominant S which I find...|||I understand what you mean, but I think he would respect you a lot as a person, even if he does not care about your friendship as much as you do. And we don't know if that's the case! He might be...|||Oh... I'm INFP and music is my life, yet it's somehow hard to rank musicians - there are so many talents out there!  But if I have to...  Muse Evanescence Kent Glasvegas Flyleaf Amorphis'\n",
            "welcome another proud infp hug yeah want say something meaningful think anything become awkward good trick might relate discussion something happen like enfp sigh like adore see relationship one far alike think ne ne quite overwhelm think yeah seem big problem infps intps get use mind alone miss people talk type day intj infj maybe entj want someone really effective drive nut process difficult since white could speculate long time type head say give enfp vibe base subjective impression post enfps less sensitive infps bear female consider neutral feel relate men women regard sometimes look mirror think look wrong mean think one pop group match abba play record try find bad song luck strong sense fair fair base subjective value yes interest politics sure much type fi dominant force take introvert feeler family would even call inf family isf father really much best friends intuitives well guess sure infps hole know annoy assumption hitler infj earth would anyone actually know unless directly ask another person preferences suggest type people waste time inside head know wow excellent video totally respect agree critique accurate point smart man obviously invest theory let go long one maybe maybe someone get time help concern lose friend mine let call fred high school fred swear see post pick avatar oh hear song relate song think anyone depress feel overlook could well say base people run sure thinkers everyone family feelers agnostics atheists thinkers logical objections concept religion actually think everyone like crazy lol kid like intp friend whatever want see reason follow norms ha ha ha agree ahead way see take time get point already course take time get course say get anything interest obviously turn way around would want talk want talk people already say want say read post say anyway mbti show preferences use sensoring intuition matter test say yeah dinner party recently felt place everyone else seem great time talk laugh kinda enjoy listen first umm yes extremely charm people meet maybe lucky struggle real last time infatuate guy even talk even though work together bloody nervous move another see hillary clinton politician close socialist leave socialist see someone deeply value thing capitalism private ownership etc completely agree vote third party candidate throw away vote absolutely put word mouth kill spider pour boil water felt bad afterwards innocent spider boil alive scar yes horrible human ok enfp best friend know life enfp guy seem romantic friend like worry much actually think strong competition louder mouth sorry clear strongly believe importance experience true education think things main credentials someone apply job reasonable opinion us democracy deeply flaw vote populist candidates sure way punish establishment system go say incompetence mean sense govern win election loud mouth money could history prove oh interest since op ask infps reason finally something work interest response relation principle drive nature infp wish optimistic future think shitty policies make life harder many people even outside us sure worth understand still impress reason anyway thank share country nothing like business business want get reason say trump always better choice clinton even without experience explain metaphor go let say yet crook donald phenomenon sad point isfj love clinton competent candidate years experience policies worse trump also show sign psychopathy ask infp infp first function feel say donald trump say everything ever want politician say still would never vote two obviously happy together good break find someone better suit respect value take courage leave relationship think interest question would contribute society history call shots one could argue live world since people find hard engage subject social issue politics conversation isfp father example theoretical deep justs look things actually prefer cake pie great cake pie norm mean one hate phrase social competence use lot live everyone require social competence matter kind job really mean kiss thank librarian good learn perspective en friends similar problem actually think dominant find understand mean think would respect lot person even care friendship much know case might oh infp music life yet somehow hard rank musicians many talents muse evanescence kent glasvegas flyleaf amorphis\n",
            "________________________________________________________________________________________________________________________\n",
            "'I actually plan on becoming a nun:) Nothing else interests me besides growing closer to God. I would get married and have kids, but I feel like I'm being called to the religious life. I feel so...|||I'm a few years late, but I just have to say I like listening to certain songs that make me feel like a different person.  Tear You Apart by She Wants Revenge denotes a feeling of badassery. ...|||I'm a few years late, but I just have to say I like listening to certain songs that make me feel like a different person.  Tear You Apart by She Wants Revenge denotes a feeling of badassery. ...|||Yes.   Lol no, but I nanny for my sister who is a single mother in college. I love babysitting newborns; I think they are just the cutest things but when they get to be toddlers sometimes it can be...|||It's funny because I'd consider myself a fairly liberal person in terms of political views besides this very issue. (even though I don't really like calling myself liberal, I don't like the stigma...|||My mom's an INTP and we lived in a small town for a few years until we finally moved out to the country where I mostly grew up. To my mom, there was a huge difference between living in a small town...|||I have an ISFP sister and an INFJ brother and you and your sister sound a lot like them! My ISFP sister I had to make take the test, she also complained about it being to long. My brother was a lot...|||Goin in for the dive.  Home bound, but Lost  Once, long ago She gazed out at open fields Dripping skies And countless stars Wine stained horizons and clay laden reservoirs  Through ancient...|||Goin in for the dive.  Homebound but Lost, only a Dream  Once, long ago She gazed out at open fields Dripping skies And countless stars Wine stained horizons and clay laden reservoirs ...|||I used to never cry at movies or anything. But now I notice that when I'm feeling a little unsatisfied with life in general, the waterworks come a little easier. Especially if the movie pertains to...|||These are all such great replies! And adacis I don't that's selfish at all!! I've heard people call Fi selfish before but honestly I think it's important to focus inward so you are able to in turn...|||Weird I've never seen this thread before until now. Such a coincidence too because I had the most interesting dream ever when I took a nap today. Seriously I'm thinking of writing a book about it....|||Alright so there was this faze I went through during freshmen year of high school where we learned about Shakespeare and I became so interested that I secretly wished I lived during the Renaissance...|||I LOVE THIS SONG SO MUCH AHHH so pretty. I first heard it on AHS and now it is only a song kept specifically for when I'm pretty much feelin down in the dumps with a tub of cookie dough ice cream and...|||Okay, so I'm asexual and I didn't really know any asexual songs so I searched and this came up:  https://www.youtube.com/watch?v=i0qoni9CRgc  Omg I cannot stop laughing it's almost 1 in the...|||I've always dreamed of living in the countryside too! I actually grew up on one and loved the nature, the peace, and the privacy. I never felt cramped up. I moved to the city a year and a half ago...|||Envisionarylunacy Wow that was beautiful!|||https://www.youtube.com/watch?v=h8ljNixuCwc  Favoritest song ever in the whole entire world that crushes every song on the top 40 with an iron fist.   Sorry. I just love it so much.|||INFPs are pretty much known for fantasizing about things. However, one of the things I've noticed when reading about the INFP personality online is that the only things roaming the realms of our...|||Personally, as an INFP, I believe I'm pretty much the best at breaking rules. I have an ENTJ friend and that's the only thing we fight about really haha|||Sorry I know this is an old post but I'd have to say we heal people through our art. We aren't necessarily externally focused like INFJs, but because our internal feeling is so incredibly strong, we...|||Huh, that's interesting because just the other day I was sort of arguing with some other ENTP on another INFP video on youtube about her and he said this,   the theory she subscribes to is...|||lavendersnow - I dunno how to mention someone directly so hopefully you see this - But wow, that was a great response! Very concise and intelligent. Honestly I think she is an unhealthy INFJ....|||Alright. So I watched this video this morning and I've been stuck on it ever since. Tbh it really brought me down hahah.  I'm going to wait for others to reply before I give my opinion on what I...|||I know this thread is like 2 years old (actually it's new years right now at 11:34, so exactly two years :wink: ) but i just couldn't resist.   I lived in a 100 year old farm house out in the good...|||Lately I've been at a crossroads. I used to really be into the idea of becoming a film editor. I used to go to a small school and it was easy to be known for my video editing skills and creativity....|||Would I be able to change my name to DandelionWine instead? I've mistyped :frustrating:|||So you're saying that physical scarring is worse than mental scarring? Is it more important to focus on what a woman looks like that she would go through with it? And I was making an observation that...|||NF, Pro-life most definitely. I believe that adoption is a great alternative if someone can't support a child. Life is such a miraculous gift I know the child wouldn't want to have it terminated. I...|||That's interesting. I've never heard of this; how did you manage to do that?|||This post may already exist, but I've been pondering on the question. Which type and why?  (Others types are welcome to add as well)|||Wow we have a lot in common! Florence + The Machine's song, Heartlines is really good for a unique and powerful/complex song. Glass Animals and Beaty Heart are a lot like Animal Collective and they...|||Speaking on the phone gives me such anxiety. :eek: And I love talking face-to-face because I feel I can get to know someone better. Texting is a great way for transferring quick info., though I'll...|||Eh, what the hell.  459433 As you can see in the background, the trim still needs some painting. I think I'll procrastinate on that a lil bit longer. :proud:|||459409  Chillin' at Starbucks with my friend :proud:  459417    Me the very first day after moving to a new city :cool:|||I've had the same problem too many times to count. My friends have often gotten angry with me because I didn't like something that everyone else liked. But then I realized maybe I was being stubborn...|||Hi guys, I've never made a thread before so don't make fun of me. :blushed:  So recently I've started talking to this guy and he keeps badgering me everyday with texts that start with heyyyyyy and...|||I have a hard time making eye contact mostly because in my mind's eye is a well thought out script of what I'm planning on saying that I'm trying to read and also I feel like I am staring into that...|||Same here; I attempted at first and of course I had no idea what I was doing and the string broke on me and then my dad insisted that I take these ridiculous guitar lessons at the library (which...|||Do nothing and sit awkwardly in the corner until someone approaches me, and since I hadn't prepared what to say, respond awkwardly and in a rather short fashion.|||My best friend is an ENTJ on the brink of ENFJ; We get along pretty well mostly because his last close friend was an ESFP and he said was too much to handle and they never really had a deep...|||Hhhm let's see.. 1. Really into this whole bohemian bedroom style thing right now so I bought a plant today 2. LOOOOVE American Horror Story cause uh Evan Peters :hearteyes: *sigh* 3. Wear too...|||I moved to a large school in the city from a small town school in the middle of nowhere about 2 months ago. I thought I hated my old school but this one definitely beats the punch. I always knew I...|||Death  Scarlet lips near the base of my throat A small caress at my cheek bone Vain words whispered in my ear Telling me lies I don’t want to hear Tattoos spilled across her neck Dripping...|||259802  This is a poem about a longing for past times (nostalgia) and for better times. The person then feels sad that they cannot actually be there, but are happy that they can at least be there...|||Okay, so this isn't a poem, but a piece I wrote that I just felt like writing at the time. I think middle English is beautiful, so I wrote it in that fashion. (By the way, I tried to have some of my...|||This poem is a prepositional poem for my ninth grade English class. If you've never read the book Lucy in the Sky, it's about a perfectly normal girl who meets a boy in yoga through which she gains...|||Society I just want to be alone sometimes.  Away from those who retain strong facades, From the rigorous rules, From the dry and weakened lands that we speak so strongly of beauty, And from...|||Writing  Inside the cover of an entirety of words, We find a story of what could be. The imagination of a mind, A great and powerful thought. Influencing emotions, changing perspectives. The...|||The Late Night Knocker  Now lay your little head down to sleep. This sleepy lullaby will have you rest with peace. Close your heavy lids. Repeat after me. after this verse, asleep is surely...'\n",
            "actually plan become nun nothing else interest besides grow closer god would get marry kid feel like call religious life feel years late say like listen certain songs make feel like different person tear apart want revenge denote feel badassery years late say like listen certain songs make feel like different person tear apart want revenge denote feel badassery yes lol nanny sister single mother college love babysitting newborns think cutest things get toddlers sometimes funny consider fairly liberal person term political view besides issue even though really like call liberal like stigma mom intp live small town years finally move country mostly grow mom huge difference live small town isfp sister infj brother sister sound lot like isfp sister make take test also complain long brother lot goin dive home bind lose long ago gaze open field drip sky countless star wine stain horizons clay lade reservoirs ancient goin dive homebound lose dream long ago gaze open field drip sky countless star wine stain horizons clay lade reservoirs use never cry movies anything notice feel little unsatisfied life general waterworks come little easier especially movie pertain great reply adacis selfish hear people call fi selfish honestly think important focus inward able turn weird never see thread coincidence interest dream ever take nap today seriously think write book alright faze go freshmen year high school learn shakespeare become interest secretly wish live renaissance love song much ahhh pretty first hear ahs song keep specifically pretty much feelin dump tub cookie dough ice cream okay asexual really know asexual songs search come omg stop laugh almost always dream live countryside actually grow one love nature peace privacy never felt cramp move city year half ago envisionarylunacy wow beautiful favoritest song ever whole entire world crush every song top iron fist sorry love much infps pretty much know fantasize things however one things notice read infp personality online things roam realms personally infp believe pretty much best break rule entj friend thing fight really haha sorry know old post say heal people art necessarily externally focus like infjs internal feel incredibly strong huh interest day sort argue entp another infp video youtube say theory subscribe lavendersnow dunno mention someone directly hopefully see wow great response concise intelligent honestly think unhealthy infj alright watch video morning stick ever since tbh really bring hahah go wait others reply give opinion know thread like years old actually new years right exactly two years resist live year old farm house good lately crossroads use really idea become film editor use go small school easy know video edit skills creativity would able change name dandelionwine instead mistyped say physical scar worse mental scar important focus woman look like would go make observation nf pro life definitely believe adoption great alternative someone support child life miraculous gift know child want terminate interest never hear manage post may already exist ponder question type others type welcome add well wow lot common florence machine song heartlines really good unique powerful complex song glass animals beaty heart lot like animal collective speak phone give anxiety love talk face face feel get know someone better texting great way transfer quick info though eh hell see background trim still need paint think procrastinate lil bite longer chillin starbucks friend first day move new city problem many time count friends often get angry like something everyone else like realize maybe stubborn hi guy never make thread make fun recently start talk guy keep badger everyday texts start heyyyyyy hard time make eye contact mostly mind eye well think script plan say try read also feel like star attempt first course idea string break dad insist take ridiculous guitar lessons library nothing sit awkwardly corner someone approach since prepare say respond awkwardly rather short fashion best friend entj brink enfj get along pretty well mostly last close friend esfp say much handle never really deep hhhm let see really whole bohemian bedroom style thing right buy plant today loooove american horror story cause uh evan peters sigh wear move large school city small town school middle nowhere months ago think hat old school one definitely beat punch always know death scarlet lips near base throat small caress cheek bone vain word whisper ear tell lie want hear tattoo spill across neck drip poem long past time nostalgia better time person feel sad actually happy least okay poem piece write felt like write time think middle english beautiful write fashion way try poem prepositional poem ninth grade english class never read book lucy sky perfectly normal girl meet boy yoga gain society want alone sometimes away retain strong facades rigorous rule dry weaken land speak strongly beauty write inside cover entirety word find story could imagination mind great powerful think influence emotions change perspectives late night knocker lay little head sleep sleepy lullaby rest peace close heavy lids repeat verse asleep surely\n",
            "________________________________________________________________________________________________________________________\n",
            "'HighClassSavage|||crush!kill!destroy!|||Urien|||PoloniumCyanide  If we're still talking about the Enneagram, then the information provided isn't very useful.  If we're talking about MBTI, I'd strongly wager that you're an xNFJ. I can't quite...|||Her preemptive rejection of society and denial of her vulnerability is exemplary of why she's an 8.    An example of her being vulnerable and showing that she does have a soft side, one that is...|||Zato|||Would have to agree that typing yourself based on relating to a fictional character is not recommended.   With that said, Morrigan is most definitely a self-preservation 8. She's a hard-nosed...|||My car! Not being able to go wherever the hell I please, whenever I want feels like castration.|||Istp|||A lot of 6s have told me they like marijuana because it turns their brain off.  Cocaine always seemed like it would be particularly appealing to 7s because of the heightened feeling of...|||Triple reactive, 6 - 8 - 4.|||Nobunaga|||Kintsugi  Fair enough. If you're interested, I'll PM you.|||Ah, I'm glad you asked. From what little I've seen of you, both in this thread and in other sub-forums, you've demonstrated skepticism, cynicism, contradictory assertions, misanthropy, possible...|||No, it's not putting words into your mouth, lol.   I asked the question:    To which you responded with:   :wink::kitteh:|||That's the dumbest shit I've ever heard. If all opinions are invalid (because they're subjective...), then what reason do you have to believe in any opinion? Believing in someone's opinion would...|||How is this even an argument? An opinion is inherently subjective...otherwise it wouldn't be a fucking opinion, lol. Are you seriously claiming that all opinions are invalid because they're...|||In Bruges. Fuckin hilarious.|||Our numbers are low on the forum, but we exist! Lol    If that's what it means to you, I can respect that. It's just that I find when people use the phrase, it's more often than not used as a...|||Everything happens for a reason - It's an empty saying that holds far less weight than the corpse it's likely being said over. When people say this, all they're doing is rationalizing and cheapening...|||Primary color: Red Secondary color: Orange|||Pelopra  I agree with the majority of your observations of type 6. I think the bit about how 6s come up with options and prepare for worst case scenarios, even when calm and unstressed, is an...|||Hk-47|||That ain't no variant of Sexual 7, that's just YOU. :laughing:|||I'm an ESFP sx/sp and I fuckin' hate people. Nuff' said.|||Would like some input on my type! Currently typed as 6w7 - 8w7 - 4w3 sx/sp. Only types I'm considering are 6w7, 7w6, and 7w8. Also, having trouble determining between sx/sp and sp/sx. Social last is...|||I like this response. I actually respect this a lot. More power to you Doc!|||:D:D:D:D    Ay Doc, I got a little somethin' for ya, some of that new shit out on the market. They call it Val-id-ation (RX). It's guaranteed to get all of your needs met. Tired of feeling alone...|||From what I can recall, the correlation between Ni and 7 is that both have an orientation towards anticipating and planning for the future.|||I disagree with this. Jaime doesn't feel that he has to live up to the hype. What hype? He is universally despised by the masses and seen as an arrogant, dishonorable, and immoral Kingslayer. He...|||Mom - ENTJ 3w2 - 6w7 - 1w2(?), so/sx Dad - ESFP 6w7 - 8w7/1w2(?) - 2w3, sp/sx|||Nah, the holy ideas as well as all things spiritual about the enneagram sounds like a bunch of dog shit to me.|||No, my friend's sister just put it lightly on the cats' head. Of course we don't want the cats to get hurt.|||This is totally off-topic, but has anyone ever put tape over a cat's eyes to completely obscure their vision? It's one thing where cats are far more fucking retarded then dogs lmao. You see, a dog...|||Don't have a cat but I swear my friend's cat is an 8. He's been poisoned, hit by a car, lost for several weeks and came back fucked up. He gets into fights with other neighborhood cats frequently....|||AHAHAHAHAHAHAHAHA.   Yes.     Exactly. Tropes <3.|||Noble Demon|||No, this is incorrect.   Thinking in JCF/MBTI deals with categorizing according to logical principles. Feeling deals with categorizing according to values. Sensing deals with perceiving concrete...|||Nah, I just wanted to be an asshole. *shrugs*|||So what's your reasoning again? I've yet to hear it.|||What I consider the best thing about the enneagram is having a reasonable framework to better understand myself and other people.|||No, but if you're doing back flips of fucking joy after discovering your type, I'd seriously doubt you typed correctly.|||http://www.youtube.com/watch?v=UUXBCdt5IPg  Eye on the TV Cause tragedy thrills me Whatever flavor it happens to be Like Killed by the husband Drowned by the ocean Shot by his own son ...|||:laughing: Yeah, I noticed that too lol.   Actually, I'm an ass-man :cool:. Must be the Rican in me lol. I'm a sucker for big-boobs too, but then again, anything does it for me lmao. I must say,...|||LOL, I was initially going to say let's try to get back on fucking topic since this thread is so good, but then I saw Cosmic Orgasm is already on that shit (of course lmao). So fuck it, I'll indulge...|||LOL, you evil, evil woman. My libido is high enough as it is! Last thing I need is photos of curvy women to get that itch going :laughing:. And lmao @ tricking women into thinking you're a male,...|||The way I put that was perhaps a bit exaggerated but no, that, as well as everything else I said, were things I actually did. It's good that these things make you cringe though. That means you have a...|||Wouldn't say I have a deep wound, at least not something worth mentioning. Though as far as darkness goes, I'd have to say the one thing I've always been aware of is having a sadistic inclination. ...|||I don't know if what you describe is an iNtuitive thing or if maybe I'm just shallow but if I see a photo of a beautiful woman bearing her curves, that just makes me fucking horny lmao.  Oh and...|||That's my kind of woman :blushed: lmfao.'\n",
            "highclasssavage crush kill destroy urien poloniumcyanide still talk enneagram information provide useful talk mbti strongly wager xnfj quite preemptive rejection society denial vulnerability exemplary example vulnerable show soft side one zato would agree type base relate fictional character recommend say morrigan definitely self preservation hard nose car able go wherever hell please whenever want feel like castration istp lot tell like marijuana turn brain cocaine always seem like would particularly appeal heighten feel triple reactive nobunaga kintsugi fair enough interest pm ah glad ask little see thread sub forums demonstrate skepticism cynicism contradictory assertions misanthropy possible put word mouth lol ask question respond dumbest shit ever hear opinions invalid subjective reason believe opinion believe someone opinion would even argument opinion inherently subjective otherwise fuck opinion lol seriously claim opinions invalid bruges fuckin hilarious number low forum exist lol mean respect find people use phrase often use everything happen reason empty say hold far less weight corpse likely say people say rationalize cheapen primary color red secondary color orange pelopra agree majority observations type think bite come options prepare worst case scenarios even calm unstressed hk variant sexual esfp sx sp fuckin hate people nuff say would like input type currently type sx sp type consider also trouble determine sx sp sp sx social last like response actually respect lot power doc dd ay doc get little somethin ya new shit market call val id ation rx guarantee get need meet tire feel alone recall correlation ni orientation towards anticipate plan future disagree jaime feel live hype hype universally despise mass see arrogant dishonorable immoral kingslayer mom entj sx dad esfp sp sx nah holy ideas well things spiritual enneagram sound like bunch dog shit friend sister put lightly cat head course want cat get hurt totally topic anyone ever put tape cat eye completely obscure vision one thing cat far fuck retard dog lmao see dog cat swear friend cat poison hit car lose several weeks come back fuck get fight neighborhood cat frequently ahahahahahahahaha yes exactly tropes noble demon incorrect think jcf mbti deal categorize accord logical principles feel deal categorize accord value sense deal perceive concrete nah want asshole shrug reason yet hear consider best thing enneagram reasonable framework better understand people back flip fuck joy discover type seriously doubt type correctly eye tv cause tragedy thrill whatever flavor happen like kill husband drown ocean shoot son yeah notice lol actually ass man must rican lol sucker big boob anything lmao must say lol initially go say let try get back fuck topic since thread good saw cosmic orgasm already shit course lmao fuck indulge lol evil evil woman libido high enough last thing need photos curvy women get itch go lmao trick women think male way put perhaps bite exaggerate well everything else say things actually good things make cringe though mean say deep wind least something worth mention though far darkness go say one thing always aware sadistic inclination know describe intuitive thing maybe shallow see photo beautiful woman bear curve make fuck horny lmao oh kind woman lmfao\n",
            "________________________________________________________________________________________________________________________\n"
          ]
        }
      ]
    },
    {
      "cell_type": "code",
      "source": [
        "from sklearn.preprocessing import LabelEncoder\n",
        "\n",
        "def clean_all_and_merge(train, val, test):\n",
        "  train['clean_posts'] = train['posts'].apply(clean_txt)\n",
        "  val['clean_posts'] = val['posts'].apply(clean_txt)\n",
        "  test['clean_posts'] = test['posts'].apply(clean_txt)\n",
        "\n",
        "  train.drop(columns=['posts'], inplace=True)\n",
        "  val.drop(columns=['posts'], inplace=True)\n",
        "  test.drop(columns=['posts'], inplace=True)\n",
        "\n",
        "  # label_encoder = LabelEncoder()\n",
        "  # y_train = label_encoder.fit_transform(train['type'])\n",
        "  # y_val = label_encoder.transform(val['type'])\n",
        "  # y_test = label_encoder.transform(test['type'])\n",
        "\n",
        "  # y_train_df = pd.DataFrame(y_train, columns=['type_index']).reset_index(drop=True)\n",
        "  # y_val_df = pd.DataFrame(y_val, columns=['type_index']).reset_index(drop=True)\n",
        "  # y_test_df = pd.DataFrame(y_test, columns=['type_index']).reset_index(drop=True)\n",
        "\n",
        "  # train_clean_df = pd.DataFrame(train_clean, columns=['posts']).reset_index(drop=True)\n",
        "  # val_clean_df = pd.DataFrame(val_clean, columns=['posts']).reset_index(drop=True)\n",
        "  # test_clean_df = pd.DataFrame(test_clean, columns=['posts']).reset_index(drop=True)\n",
        "\n",
        "  # train = pd.concat([train_clean_df, y_train_df], axis=1)\n",
        "  # val = pd.concat([val_clean_df, y_val_df], axis=1)\n",
        "  # test = pd.concat([test_clean_df, y_test_df], axis=1)\n",
        "\n",
        "  return train, val, test"
      ],
      "metadata": {
        "id": "PbWhzzV1CEIs"
      },
      "execution_count": null,
      "outputs": []
    },
    {
      "cell_type": "code",
      "source": [
        "train, val, test = clean_all_and_merge(train, val, test)"
      ],
      "metadata": {
        "id": "cf7Y4bxEEeQg"
      },
      "execution_count": null,
      "outputs": []
    },
    {
      "cell_type": "code",
      "source": [
        "train.head()"
      ],
      "metadata": {
        "colab": {
          "base_uri": "https://localhost:8080/",
          "height": 727
        },
        "id": "P37-yb1G-Tq7",
        "outputId": "56bb5da5-70f8-42f3-8465-7bd094713505"
      },
      "execution_count": null,
      "outputs": [
        {
          "output_type": "execute_result",
          "data": {
            "text/plain": [
              "      type  \\\n",
              "8331  INFP   \n",
              "1290  ISTP   \n",
              "1982  ENFJ   \n",
              "769   INFP   \n",
              "8339  INFP   \n",
              "\n",
              "                                                                                                                                                                                                                                                                                                                                                                                                                                                                                                                                                                                                                                                                                                                                                                                                                                                                                                                                                                                                                                  clean_posts  \n",
              "8331  actually exactly expect introversion extroversion intuitive time chill come boundless insanity awesomeness notice weird tense perspective sentence speak universe go post actually read entire thread name famous person like mel gibson last thing buy groceries make italian food name work programmer high school go college comp sci year eventually decide something enjoy something want buy whenever possible adjust cook habit accommodate local organic season also cut corner part budget sacrifice sure epic fail average last years day better one come mm agree need compassion plenty justice justice mean people act superior wrong would suffice also think justice feel love intense unreasonable know never able share even express much exactly type explanation think would elaborate nearly identical write girl fall come tonite cook dinner think feel absolutely delight terrify mostly delight though sort thing happen good intentioned people take write word literally thousands years never mystical ex...  \n",
              "1290  nope ever busy work cause adrenaline rush activities anything make sure one keep freedom forever think today decide arrive conclusion never really understand negative feel past try repress hop would go away would often guy find miscommunicating others use lingo talk others remember djarendee post back say speak like would cut worm see would happen heck kind question think chessboxing would totally awesome sport istp lumbar puncture clinic earthquake rock roll begin let go needle already patient like okay wait get boy man actually never really love mom speak workaholic work dad office assistant also nurse take lot shift like say love poor delivery gravelly voice help mean seriously pick one ladies want jack bauer usher say love hay baybay yo fanta say like dance play guitar like art museums interact art hand star away make weird comment style see hell unwanted center attention justin bieber lady gaga wannabe place bet general question guy deal put hot seat unwillingly back child beg...  \n",
              "1982  yes peace absence conflict infp friend suxx hardd ideal peace would everybody exactly say would totally happy relax content go reallybriefly respond yes formalize way recognize debate think also really help intuitive could probably yeah say like nietzsche either think mean say assert external environment basically goals make reality bend reality yes true person give also garner favor actually exactly keep say give much attempt garner power favor first totally relate every feel describe specifically post break fall go vomit thoughts subject predicament specifically know enfj estp relationships look like healthy talk romantic relationships brief thoughts estps keep brief chance conclude make preponderance evidence astral low show slow go town motown bloat clown walk street aquiesence mmm give quick response maybe go depth later largely flux stuff bad evil big jerk big ego necessarily trump enfj tmlt quit pretty much every job months feel good fit lol make trump great yeah let frankly...  \n",
              "769   apologize delay response thank take time share experience helpful hear good boundaries come time instantly sorry think exactly need hear boundaries neediness etc exactly work right well develop healthy self image nice know thank input deal rejection confrontation etc definitely things think right thing recognize people negative raise infp counselors therapists etc challenge experience field strongly consider counsel career would love input fellow infps yes think find right type logical infp perhaps infp nevertheless anyway thank interest get enfp obviously depend individual person could see interest infj yep sigh inbox full hmm yeah would frustrate wonder reframing would help look new challenge something something worth time effort sorry feel boat many time hunt good job fit personality well mind ask industry gosh struggle right actually think blog post need write apparently much rather often find need would hate make choice would definitely go emotional fulfillment necessarily nee...  \n",
              "8339  nightglow even imagine must struggle right dad reasonable get different people think everyone stoic pretty much friend suggest happy end get yet watch like first minute time dvr capture make go watch rickybobby haha ask ever laugh front sometimes like find funnier probably sound lot like wife esfj love lot show office rock modern family flight conchords also night community really infpblog thank exactly love hate facebook great keep touch friends move away family always annoy put picture haha thank brother different people hang often surprise find brothers since even look alike unfortunately love name play douglas adams long thank fish character name wonko sane build asylum house crazy people first reaction meet spouse love first sight bad impression another classmate co worker wife high school sweethearts yeah yeah hey pretty interest love write little friends use get together write years ago feel goal life yes pretty much actually try cry sometimes feel big swell emotion never co...  "
            ],
            "text/html": [
              "\n",
              "  <div id=\"df-0ade8b6a-5e50-4da3-9151-7e29e62e3c95\" class=\"colab-df-container\">\n",
              "    <div>\n",
              "<style scoped>\n",
              "    .dataframe tbody tr th:only-of-type {\n",
              "        vertical-align: middle;\n",
              "    }\n",
              "\n",
              "    .dataframe tbody tr th {\n",
              "        vertical-align: top;\n",
              "    }\n",
              "\n",
              "    .dataframe thead th {\n",
              "        text-align: right;\n",
              "    }\n",
              "</style>\n",
              "<table border=\"1\" class=\"dataframe\">\n",
              "  <thead>\n",
              "    <tr style=\"text-align: right;\">\n",
              "      <th></th>\n",
              "      <th>type</th>\n",
              "      <th>clean_posts</th>\n",
              "    </tr>\n",
              "  </thead>\n",
              "  <tbody>\n",
              "    <tr>\n",
              "      <th>8331</th>\n",
              "      <td>INFP</td>\n",
              "      <td>actually exactly expect introversion extroversion intuitive time chill come boundless insanity awesomeness notice weird tense perspective sentence speak universe go post actually read entire thread name famous person like mel gibson last thing buy groceries make italian food name work programmer high school go college comp sci year eventually decide something enjoy something want buy whenever possible adjust cook habit accommodate local organic season also cut corner part budget sacrifice sure epic fail average last years day better one come mm agree need compassion plenty justice justice mean people act superior wrong would suffice also think justice feel love intense unreasonable know never able share even express much exactly type explanation think would elaborate nearly identical write girl fall come tonite cook dinner think feel absolutely delight terrify mostly delight though sort thing happen good intentioned people take write word literally thousands years never mystical ex...</td>\n",
              "    </tr>\n",
              "    <tr>\n",
              "      <th>1290</th>\n",
              "      <td>ISTP</td>\n",
              "      <td>nope ever busy work cause adrenaline rush activities anything make sure one keep freedom forever think today decide arrive conclusion never really understand negative feel past try repress hop would go away would often guy find miscommunicating others use lingo talk others remember djarendee post back say speak like would cut worm see would happen heck kind question think chessboxing would totally awesome sport istp lumbar puncture clinic earthquake rock roll begin let go needle already patient like okay wait get boy man actually never really love mom speak workaholic work dad office assistant also nurse take lot shift like say love poor delivery gravelly voice help mean seriously pick one ladies want jack bauer usher say love hay baybay yo fanta say like dance play guitar like art museums interact art hand star away make weird comment style see hell unwanted center attention justin bieber lady gaga wannabe place bet general question guy deal put hot seat unwillingly back child beg...</td>\n",
              "    </tr>\n",
              "    <tr>\n",
              "      <th>1982</th>\n",
              "      <td>ENFJ</td>\n",
              "      <td>yes peace absence conflict infp friend suxx hardd ideal peace would everybody exactly say would totally happy relax content go reallybriefly respond yes formalize way recognize debate think also really help intuitive could probably yeah say like nietzsche either think mean say assert external environment basically goals make reality bend reality yes true person give also garner favor actually exactly keep say give much attempt garner power favor first totally relate every feel describe specifically post break fall go vomit thoughts subject predicament specifically know enfj estp relationships look like healthy talk romantic relationships brief thoughts estps keep brief chance conclude make preponderance evidence astral low show slow go town motown bloat clown walk street aquiesence mmm give quick response maybe go depth later largely flux stuff bad evil big jerk big ego necessarily trump enfj tmlt quit pretty much every job months feel good fit lol make trump great yeah let frankly...</td>\n",
              "    </tr>\n",
              "    <tr>\n",
              "      <th>769</th>\n",
              "      <td>INFP</td>\n",
              "      <td>apologize delay response thank take time share experience helpful hear good boundaries come time instantly sorry think exactly need hear boundaries neediness etc exactly work right well develop healthy self image nice know thank input deal rejection confrontation etc definitely things think right thing recognize people negative raise infp counselors therapists etc challenge experience field strongly consider counsel career would love input fellow infps yes think find right type logical infp perhaps infp nevertheless anyway thank interest get enfp obviously depend individual person could see interest infj yep sigh inbox full hmm yeah would frustrate wonder reframing would help look new challenge something something worth time effort sorry feel boat many time hunt good job fit personality well mind ask industry gosh struggle right actually think blog post need write apparently much rather often find need would hate make choice would definitely go emotional fulfillment necessarily nee...</td>\n",
              "    </tr>\n",
              "    <tr>\n",
              "      <th>8339</th>\n",
              "      <td>INFP</td>\n",
              "      <td>nightglow even imagine must struggle right dad reasonable get different people think everyone stoic pretty much friend suggest happy end get yet watch like first minute time dvr capture make go watch rickybobby haha ask ever laugh front sometimes like find funnier probably sound lot like wife esfj love lot show office rock modern family flight conchords also night community really infpblog thank exactly love hate facebook great keep touch friends move away family always annoy put picture haha thank brother different people hang often surprise find brothers since even look alike unfortunately love name play douglas adams long thank fish character name wonko sane build asylum house crazy people first reaction meet spouse love first sight bad impression another classmate co worker wife high school sweethearts yeah yeah hey pretty interest love write little friends use get together write years ago feel goal life yes pretty much actually try cry sometimes feel big swell emotion never co...</td>\n",
              "    </tr>\n",
              "  </tbody>\n",
              "</table>\n",
              "</div>\n",
              "    <div class=\"colab-df-buttons\">\n",
              "\n",
              "  <div class=\"colab-df-container\">\n",
              "    <button class=\"colab-df-convert\" onclick=\"convertToInteractive('df-0ade8b6a-5e50-4da3-9151-7e29e62e3c95')\"\n",
              "            title=\"Convert this dataframe to an interactive table.\"\n",
              "            style=\"display:none;\">\n",
              "\n",
              "  <svg xmlns=\"http://www.w3.org/2000/svg\" height=\"24px\" viewBox=\"0 -960 960 960\">\n",
              "    <path d=\"M120-120v-720h720v720H120Zm60-500h600v-160H180v160Zm220 220h160v-160H400v160Zm0 220h160v-160H400v160ZM180-400h160v-160H180v160Zm440 0h160v-160H620v160ZM180-180h160v-160H180v160Zm440 0h160v-160H620v160Z\"/>\n",
              "  </svg>\n",
              "    </button>\n",
              "\n",
              "  <style>\n",
              "    .colab-df-container {\n",
              "      display:flex;\n",
              "      gap: 12px;\n",
              "    }\n",
              "\n",
              "    .colab-df-convert {\n",
              "      background-color: #E8F0FE;\n",
              "      border: none;\n",
              "      border-radius: 50%;\n",
              "      cursor: pointer;\n",
              "      display: none;\n",
              "      fill: #1967D2;\n",
              "      height: 32px;\n",
              "      padding: 0 0 0 0;\n",
              "      width: 32px;\n",
              "    }\n",
              "\n",
              "    .colab-df-convert:hover {\n",
              "      background-color: #E2EBFA;\n",
              "      box-shadow: 0px 1px 2px rgba(60, 64, 67, 0.3), 0px 1px 3px 1px rgba(60, 64, 67, 0.15);\n",
              "      fill: #174EA6;\n",
              "    }\n",
              "\n",
              "    .colab-df-buttons div {\n",
              "      margin-bottom: 4px;\n",
              "    }\n",
              "\n",
              "    [theme=dark] .colab-df-convert {\n",
              "      background-color: #3B4455;\n",
              "      fill: #D2E3FC;\n",
              "    }\n",
              "\n",
              "    [theme=dark] .colab-df-convert:hover {\n",
              "      background-color: #434B5C;\n",
              "      box-shadow: 0px 1px 3px 1px rgba(0, 0, 0, 0.15);\n",
              "      filter: drop-shadow(0px 1px 2px rgba(0, 0, 0, 0.3));\n",
              "      fill: #FFFFFF;\n",
              "    }\n",
              "  </style>\n",
              "\n",
              "    <script>\n",
              "      const buttonEl =\n",
              "        document.querySelector('#df-0ade8b6a-5e50-4da3-9151-7e29e62e3c95 button.colab-df-convert');\n",
              "      buttonEl.style.display =\n",
              "        google.colab.kernel.accessAllowed ? 'block' : 'none';\n",
              "\n",
              "      async function convertToInteractive(key) {\n",
              "        const element = document.querySelector('#df-0ade8b6a-5e50-4da3-9151-7e29e62e3c95');\n",
              "        const dataTable =\n",
              "          await google.colab.kernel.invokeFunction('convertToInteractive',\n",
              "                                                    [key], {});\n",
              "        if (!dataTable) return;\n",
              "\n",
              "        const docLinkHtml = 'Like what you see? Visit the ' +\n",
              "          '<a target=\"_blank\" href=https://colab.research.google.com/notebooks/data_table.ipynb>data table notebook</a>'\n",
              "          + ' to learn more about interactive tables.';\n",
              "        element.innerHTML = '';\n",
              "        dataTable['output_type'] = 'display_data';\n",
              "        await google.colab.output.renderOutput(dataTable, element);\n",
              "        const docLink = document.createElement('div');\n",
              "        docLink.innerHTML = docLinkHtml;\n",
              "        element.appendChild(docLink);\n",
              "      }\n",
              "    </script>\n",
              "  </div>\n",
              "\n",
              "\n",
              "<div id=\"df-83e659ae-8f1b-4c96-aef8-53338d5f5eef\">\n",
              "  <button class=\"colab-df-quickchart\" onclick=\"quickchart('df-83e659ae-8f1b-4c96-aef8-53338d5f5eef')\"\n",
              "            title=\"Suggest charts\"\n",
              "            style=\"display:none;\">\n",
              "\n",
              "<svg xmlns=\"http://www.w3.org/2000/svg\" height=\"24px\"viewBox=\"0 0 24 24\"\n",
              "     width=\"24px\">\n",
              "    <g>\n",
              "        <path d=\"M19 3H5c-1.1 0-2 .9-2 2v14c0 1.1.9 2 2 2h14c1.1 0 2-.9 2-2V5c0-1.1-.9-2-2-2zM9 17H7v-7h2v7zm4 0h-2V7h2v10zm4 0h-2v-4h2v4z\"/>\n",
              "    </g>\n",
              "</svg>\n",
              "  </button>\n",
              "\n",
              "<style>\n",
              "  .colab-df-quickchart {\n",
              "      --bg-color: #E8F0FE;\n",
              "      --fill-color: #1967D2;\n",
              "      --hover-bg-color: #E2EBFA;\n",
              "      --hover-fill-color: #174EA6;\n",
              "      --disabled-fill-color: #AAA;\n",
              "      --disabled-bg-color: #DDD;\n",
              "  }\n",
              "\n",
              "  [theme=dark] .colab-df-quickchart {\n",
              "      --bg-color: #3B4455;\n",
              "      --fill-color: #D2E3FC;\n",
              "      --hover-bg-color: #434B5C;\n",
              "      --hover-fill-color: #FFFFFF;\n",
              "      --disabled-bg-color: #3B4455;\n",
              "      --disabled-fill-color: #666;\n",
              "  }\n",
              "\n",
              "  .colab-df-quickchart {\n",
              "    background-color: var(--bg-color);\n",
              "    border: none;\n",
              "    border-radius: 50%;\n",
              "    cursor: pointer;\n",
              "    display: none;\n",
              "    fill: var(--fill-color);\n",
              "    height: 32px;\n",
              "    padding: 0;\n",
              "    width: 32px;\n",
              "  }\n",
              "\n",
              "  .colab-df-quickchart:hover {\n",
              "    background-color: var(--hover-bg-color);\n",
              "    box-shadow: 0 1px 2px rgba(60, 64, 67, 0.3), 0 1px 3px 1px rgba(60, 64, 67, 0.15);\n",
              "    fill: var(--button-hover-fill-color);\n",
              "  }\n",
              "\n",
              "  .colab-df-quickchart-complete:disabled,\n",
              "  .colab-df-quickchart-complete:disabled:hover {\n",
              "    background-color: var(--disabled-bg-color);\n",
              "    fill: var(--disabled-fill-color);\n",
              "    box-shadow: none;\n",
              "  }\n",
              "\n",
              "  .colab-df-spinner {\n",
              "    border: 2px solid var(--fill-color);\n",
              "    border-color: transparent;\n",
              "    border-bottom-color: var(--fill-color);\n",
              "    animation:\n",
              "      spin 1s steps(1) infinite;\n",
              "  }\n",
              "\n",
              "  @keyframes spin {\n",
              "    0% {\n",
              "      border-color: transparent;\n",
              "      border-bottom-color: var(--fill-color);\n",
              "      border-left-color: var(--fill-color);\n",
              "    }\n",
              "    20% {\n",
              "      border-color: transparent;\n",
              "      border-left-color: var(--fill-color);\n",
              "      border-top-color: var(--fill-color);\n",
              "    }\n",
              "    30% {\n",
              "      border-color: transparent;\n",
              "      border-left-color: var(--fill-color);\n",
              "      border-top-color: var(--fill-color);\n",
              "      border-right-color: var(--fill-color);\n",
              "    }\n",
              "    40% {\n",
              "      border-color: transparent;\n",
              "      border-right-color: var(--fill-color);\n",
              "      border-top-color: var(--fill-color);\n",
              "    }\n",
              "    60% {\n",
              "      border-color: transparent;\n",
              "      border-right-color: var(--fill-color);\n",
              "    }\n",
              "    80% {\n",
              "      border-color: transparent;\n",
              "      border-right-color: var(--fill-color);\n",
              "      border-bottom-color: var(--fill-color);\n",
              "    }\n",
              "    90% {\n",
              "      border-color: transparent;\n",
              "      border-bottom-color: var(--fill-color);\n",
              "    }\n",
              "  }\n",
              "</style>\n",
              "\n",
              "  <script>\n",
              "    async function quickchart(key) {\n",
              "      const quickchartButtonEl =\n",
              "        document.querySelector('#' + key + ' button');\n",
              "      quickchartButtonEl.disabled = true;  // To prevent multiple clicks.\n",
              "      quickchartButtonEl.classList.add('colab-df-spinner');\n",
              "      try {\n",
              "        const charts = await google.colab.kernel.invokeFunction(\n",
              "            'suggestCharts', [key], {});\n",
              "      } catch (error) {\n",
              "        console.error('Error during call to suggestCharts:', error);\n",
              "      }\n",
              "      quickchartButtonEl.classList.remove('colab-df-spinner');\n",
              "      quickchartButtonEl.classList.add('colab-df-quickchart-complete');\n",
              "    }\n",
              "    (() => {\n",
              "      let quickchartButtonEl =\n",
              "        document.querySelector('#df-83e659ae-8f1b-4c96-aef8-53338d5f5eef button');\n",
              "      quickchartButtonEl.style.display =\n",
              "        google.colab.kernel.accessAllowed ? 'block' : 'none';\n",
              "    })();\n",
              "  </script>\n",
              "</div>\n",
              "\n",
              "    </div>\n",
              "  </div>\n"
            ],
            "application/vnd.google.colaboratory.intrinsic+json": {
              "type": "dataframe",
              "variable_name": "train",
              "summary": "{\n  \"name\": \"train\",\n  \"rows\": 6940,\n  \"fields\": [\n    {\n      \"column\": \"type\",\n      \"properties\": {\n        \"dtype\": \"category\",\n        \"num_unique_values\": 16,\n        \"samples\": [\n          \"INFP\",\n          \"ISTP\",\n          \"ESFP\"\n        ],\n        \"semantic_type\": \"\",\n        \"description\": \"\"\n      }\n    },\n    {\n      \"column\": \"clean_posts\",\n      \"properties\": {\n        \"dtype\": \"string\",\n        \"num_unique_values\": 6940,\n        \"samples\": [\n          \"yes intresting topic would accidently kinda subvert government il elaborate cow weigh lb get perfect beef need heat temperature mins per lb mins perfect internal temp suggestions get entp crow view spot manipulation instatly see way turn advantage call see way let think im naive somthing use hunter become put mg diazepam ur tea cause cant put listen conversation reality tv show lol well another great therapy session today think id start little bite fun think may alien hand syndrome think im write texts people also minions henchmen must confess see thread ask istp could resist post thisqthi basically unshakeable gloomy assassin mind istp stand indomitable saturninely triggerman psyche view love loopholes topic quote topic wrong park mother baby spot dont baby argument park supermarkets etc fall word less never trust hungry cat one plan lol think notice denial refresh hot day also denial wrong million people live denial well denial delta region africa lol denial quote denial egyptian dude say know big crocodiles instantly denial denial cure tbh tho happy help get letter yesterday initial diagnosis dumb gp refer aspd score depression genralised question view equality gobsmacked argument undeniable well humans evolve primarily natural selection years remember strange view phenotypes appear outwardly equal social equality push far stronger genotype potential mate naturally select stronger society interfere human evolution way political correctness quest equality one point contention society make strong phenotypes weaker due seem similar psychological definition maturity ability respond environment appropriate manner good description maturity way split type interactions people although house seem outwardly introvert need interaction people ever apparent think process think entp introvert extroverts think reason fictional character house entp knowlage extensive subject mind sharp razor think come step plan refine idea could easliy develop make million idea step plan refine make million idea would also require think come cunning plan get millions pound burn front many entjs father front pack step one post thread entp forum best way think house entp unhealthy one maybe though opposite always tell voice view opinions parent fell flat fact entj dad estp mum emotions present lol fun intresting childhood exxx lol great list one good behavior list social situations call isfj girlfriend keep invisible mental list things iv ever say anger people im pretty sure saudi arabia areas nigeria assort countries natural treatment solve go shop steal somthing naturally problem solve cut ur hmm would happen throw istp super massive black hole would black hole win would istp suck life black hole lol dont need entj plot someones destruction entps naturally better way atleast would never see come would hit enormity super massive another entp wish know one irl lol seem like im surround sjs life lol although im pretty damn sure year old daughter entp cat mess lol anally retentive cat iv ever see use litter tray spend mins scratch litter meow next time want wee change maturity important type dont seem condescend intps debate argee argue issue even dont belive intps normally argue always think one sphynx cat would sinister look evil villian pet could shave fluffy one cus tbh like shave pussy lol outwardly apper subordinate though name tag would think charge subordinate let take lead time recognise personal life would spend massive amount time entj intrinsic value society logical inevitability entp share limit capacity emotions always work well entps think help enjoy company like sense humor energy think differently bring different things table question think entp entj workplace combination one beneficial combinations nts tbh thing stop people think entj manager name badge lol mine say store manager deputy appearance im evil dictator type think entjs really irrelevant entj bring table intrinsically valuable never seem become liability entps value remind friend mine entp seem mostly negative view entj like get paranoid certain people manipulative control etc must confess bait isfj gf argument debate even bore also spend hour today mock istp brother law black hole danger lol might intresting hmmm intp entp days amaze conversations billion unique ways create utopian society implement entps get hungry consider hunter gather option intolerant insufferable overbear overly vocal power mad stubborn impatient arrogant think id list good qualitys lol entjs like mouth everyone one forgive logic sound suffer depression want pills proceed make list symptoms dsm type logical rational way okay direct post gee thank insult thread estps sure carry way seem mighty hyper love hear\",\n          \"history teach us past evils oppressor today world fill phony propaganda sex skew media seem define liberty contemporary society many people homogenization hear effect ecstasy say turn infp resist take would want become dreamland different purpose marijuana effect depend totally culture person marijuana give top shelf medications cant immediate result one puff two time move wanderlust understand happen relationship make puppet might malevolent plan might uhykfgtykjrty yeah old body go crazy mind feel calm feel happen lot people think weirdo guess sometimes forget people tend play ive often help many people ask nothing return find surrogate position idk think good enough people reflective upon yes tend estj talk defense mechanism dont know maybe sometimes tend know say things go shall call tonight think past heartbreaks stuff think much entail random person think know person give yes endless ifs feel kind relieve actually something randomness cant get lol guess call get know bite ha yes think go think lately ive bad streak friendships misunderstand yet always regain gain new friends unforgettable time like many sometimes always difficulties use bite humor help lot break tension follow format teacher give us speak imagine read outloud expressively think sometimes people dont see us imagine sometimes everything imagine since kind never get never develop tthe rejection person sometimes really sad world happy tire puppet puppet master think complications everything trust solidarity always leave alone always clamor independence aww make feel like yiugwigvjpwqegq inside ive spectrums ugh always seem lose quite common sometimes go back source dri live cbgbs look youtube always moon way counteract long term memory loss believe delta thc moment wont remember things time remember even school everyone get sadden want leave early always flat line emotionally explode feel time horrible everyday nightmare since wake mind distant cloud yearn love acceptance feel incomplete yet recognize draw attention whenever go somewhere people always stare stare back win dont stare back lol yeah shut time someone make think otherwise remember use like back intp self make life miserable think past long trouble past think nunca amaste ciertas personas aun asi te las puedes quitar de la hopefully talk soon let know think come think important rigt say depress basically lose hop love long apathy increase since por que puedo ni una cancion cantarle el deseo de mi vida months since last saw speak feel like mummy even facebook want talk usually slow say try speak fast sound like gibberish lot happen exact ways remember feel guilty know could save someone think dream coincide remember friend would show house tell hey ive get bud dont bring anyone eh let whistle whole crew people sometimes emotions bias consequences people take advantage person base action emotions feel detach emotion case make see things mostly think bad self people want test limit especially call fake false one begin original people well friend think back begin do rather surely give title occupy special place well case base idea life make silicon isaac asimov mark unknown brain chip magazine sometimes good snap safe humorous way make day better ive yet live dream hehehe feel write want neurobiology well start class like awkward moments everyone happy nothing say cause think thing ask want give guidance hopeless romantic lose love sound nothing love go school high much interest make argumentative actually problem people around know deal self teach well get explanations teachers try give plus never patience one ever patience cant afford learn slow per hour high different lot people generally problem jealousy overwhelm others start think favorites tijuana mexico ib actually border like half half poem anything want theres stuff ive write consider poetry ive hat poetry best part life manage empathize author get ahh presence best thing ignore live life way want manage get rid tend cling make fear stuff idk\",\n          \"tend idealize magical probably fact think connection happen intuitively subconciously people connect far love suggestions reaffirm one best friends good earth often intervene get irrational worry use humor experience appreciate friend make first move come spend time together may show interest approach talk sensitive ask people know quite nfs hard time specify beyond know girl test intp infp kind friendly find little mysterious ideally would actually love bring individual friends group friends together could awesome friends together reality might fun everyone even get weird vibe person like touch instance feel insincere show get annoy feel somewhat use practice helpful get habit talk loud car help sort thoughts practice actually talk people bonus feel like two different people relax nicest person get stress different story pretty sensitive sometimes even realize ironic surprise want help since struggle like endless journey also nice process happen time hmm howl howl move castle severus snape baron cat return special agent aloysius pendergast book series faramir lotr sherlock holmes mr rochester jane thank especially part find inner peace first one thing always get extremely insecure teen unhappy really enjoy look answer definitely relate first love overlook lot important stuff really want please vulnerable messy anxious insecure elderly woman come tell haunt eye movies english patient leon professional nell film girl pearl earring book well piano chungking express little princess version silence way around think something early life interactions men women family members instance earliest life experience females way know memo excessive pride admiration one appearance achievements nah proud effort make appearance way express show respect enjoy read thread earn degree studio art ceramics photography paint right cashier small town want move though love hi everyone could use advice perspective especially older mature infps first cautiously describe fairly healthy infp emerge singlehood awesome think right idea anything single incredibly free start things love figure meaningful really depend situation mood describe refine even mysterious time honestly ridiculous kind eat crap love mysterious alright smile good thank side one ask make sort nervous people go beyond something polite simple think best friend enfj maybe esfj hard tell pretty much far socionics go alot friends enfps infjs esfjs couple infps first thing pop mind dwell dream forget live remember albus dumbledore think dream wonderful lot best way initially connect connect well people open friendly right get go something common talk always help know change personalities idea change many ways never experience major change preferences like go difficult time would connect people different seem like bad idea much power without lot self control wisdom entp think roommate semester sort exhilarate someone direct blunt around weird sense humor get along guess could though really honest remind second cousin lol everything especially cars point cars really annoy despise gloomy look headlights tree grow field behind well old boyfriend actually curious description opinion type speak mind pretty easily pretty open blunt care appearance professor say fall climb love blow mind inspire view adaptability human soul romantic realistic think possible become soul mat someone like souls sort adapt grow gah sound like infp yes especially people see underdogs minority vulnerable hate see parent treat children unnecessary harshness also bite jealous good friends siblings conflict possibly hurt someone feel tend resort water version feel depend otherwise pretty expressive yeah around guy like feel mutual something work get irrationally panic hard control feel tip deal touch face arm hair constantly conversation must distract people talk want people perceive refine approachable try reflect wear insecure college go top stand artist cringe still think quite sweet kid dreamy might bite much intensity seriousness home videos silly also videos intently draw picture serious answer remind yesterday come list friends family send letter spend morning read think great ideas things help distance emotion example feel despair sadness worthlessness need deal rather infpanonymous ha reason stuff shrug think people sort avoid yes least actively try come much contact realize people comfortable around quiet feel bad try get several friends perhaps feel way hm people assume soft speak reserve naive childlike crave meaningful deep conversations people conversations age realize nearly grow life essentially meaningless like terribly depress frighten painful verbalize thank see first boy fell love silly shy younger kid sort stalk although think know never lead reject like scent remind little kid like dandelions queen anne lace flower freshly till dirt sweet hay tell grow country\"\n        ],\n        \"semantic_type\": \"\",\n        \"description\": \"\"\n      }\n    }\n  ]\n}"
            }
          },
          "metadata": {},
          "execution_count": 68
        }
      ]
    },
    {
      "cell_type": "markdown",
      "metadata": {
        "id": "ba0r1ASHorxf"
      },
      "source": [
        "**You  are doing Great so far!**"
      ]
    },
    {
      "cell_type": "markdown",
      "source": [
        "# Four Characters [1] [2] [3] [4]\n",
        "\n",
        "# [1] `Mind` : Extrovert {E} - Introvert {I}\n",
        "\n",
        "# [2] `Energy` : Intuitive {N} - Sensing {S}\n",
        "\n",
        "# [3] `Nature` : Thinking {T} - Feeling {F}\n",
        "\n",
        "# [4] `Tactics` : Judging {J} - Perceiving {P}"
      ],
      "metadata": {
        "id": "ATezMvDs44GG"
      }
    },
    {
      "cell_type": "markdown",
      "source": [
        "# **Binary Encoding :**"
      ],
      "metadata": {
        "id": "Oz8_6xH7598Q"
      }
    },
    {
      "cell_type": "code",
      "source": [
        "def personality(df):\n",
        "  df['Mind'] = df['type'].map(lambda x: 'Extroverted'\n",
        "                                    if x[0] == 'E' else 'Introverted')\n",
        "  df['Energy'] = df['type'].map(lambda x: 'Intuitive'\n",
        "                                      if x[1] == 'N' else 'Sensing')\n",
        "  df['Nature'] = df['type'].map(lambda x: 'Thinking'\n",
        "                                      if x[2] == 'T' else 'Feeling')\n",
        "  df['Tactics'] = df['type'].map(lambda x: 'Judging'\n",
        "                                      if x[3] == 'J' else 'Perceiving')\n",
        "\n",
        "  df['E'] = df['type'].apply(lambda x: x[0] == 'E').astype('int')\n",
        "  df['N'] = df['type'].apply(lambda x: x[1] == 'N').astype('int')\n",
        "  df['T'] = df['type'].apply(lambda x: x[2] == 'T').astype('int')\n",
        "  df['J'] = df['type'].apply(lambda x: x[3] == 'J').astype('int')\n"
      ],
      "metadata": {
        "id": "Wigqip1q587j"
      },
      "execution_count": null,
      "outputs": []
    },
    {
      "cell_type": "code",
      "source": [
        "personality(train)\n",
        "personality(val)\n",
        "personality(test)"
      ],
      "metadata": {
        "id": "1Qf9PylX7pBq"
      },
      "execution_count": null,
      "outputs": []
    },
    {
      "cell_type": "code",
      "source": [
        "train.head()"
      ],
      "metadata": {
        "colab": {
          "base_uri": "https://localhost:8080/",
          "height": 987
        },
        "id": "s-vVf2rOFrIu",
        "outputId": "13773462-2509-49ab-b82d-add12d30ee60"
      },
      "execution_count": null,
      "outputs": [
        {
          "output_type": "execute_result",
          "data": {
            "text/plain": [
              "      type  \\\n",
              "8331  INFP   \n",
              "1290  ISTP   \n",
              "1982  ENFJ   \n",
              "769   INFP   \n",
              "8339  INFP   \n",
              "\n",
              "                                                                                                                                                                                                                                                                                                                                                                                                                                                                                                                                                                                                                                                                                                                                                                                                                                                                                                                                                                                                                                  clean_posts  \\\n",
              "8331  actually exactly expect introversion extroversion intuitive time chill come boundless insanity awesomeness notice weird tense perspective sentence speak universe go post actually read entire thread name famous person like mel gibson last thing buy groceries make italian food name work programmer high school go college comp sci year eventually decide something enjoy something want buy whenever possible adjust cook habit accommodate local organic season also cut corner part budget sacrifice sure epic fail average last years day better one come mm agree need compassion plenty justice justice mean people act superior wrong would suffice also think justice feel love intense unreasonable know never able share even express much exactly type explanation think would elaborate nearly identical write girl fall come tonite cook dinner think feel absolutely delight terrify mostly delight though sort thing happen good intentioned people take write word literally thousands years never mystical ex...   \n",
              "1290  nope ever busy work cause adrenaline rush activities anything make sure one keep freedom forever think today decide arrive conclusion never really understand negative feel past try repress hop would go away would often guy find miscommunicating others use lingo talk others remember djarendee post back say speak like would cut worm see would happen heck kind question think chessboxing would totally awesome sport istp lumbar puncture clinic earthquake rock roll begin let go needle already patient like okay wait get boy man actually never really love mom speak workaholic work dad office assistant also nurse take lot shift like say love poor delivery gravelly voice help mean seriously pick one ladies want jack bauer usher say love hay baybay yo fanta say like dance play guitar like art museums interact art hand star away make weird comment style see hell unwanted center attention justin bieber lady gaga wannabe place bet general question guy deal put hot seat unwillingly back child beg...   \n",
              "1982  yes peace absence conflict infp friend suxx hardd ideal peace would everybody exactly say would totally happy relax content go reallybriefly respond yes formalize way recognize debate think also really help intuitive could probably yeah say like nietzsche either think mean say assert external environment basically goals make reality bend reality yes true person give also garner favor actually exactly keep say give much attempt garner power favor first totally relate every feel describe specifically post break fall go vomit thoughts subject predicament specifically know enfj estp relationships look like healthy talk romantic relationships brief thoughts estps keep brief chance conclude make preponderance evidence astral low show slow go town motown bloat clown walk street aquiesence mmm give quick response maybe go depth later largely flux stuff bad evil big jerk big ego necessarily trump enfj tmlt quit pretty much every job months feel good fit lol make trump great yeah let frankly...   \n",
              "769   apologize delay response thank take time share experience helpful hear good boundaries come time instantly sorry think exactly need hear boundaries neediness etc exactly work right well develop healthy self image nice know thank input deal rejection confrontation etc definitely things think right thing recognize people negative raise infp counselors therapists etc challenge experience field strongly consider counsel career would love input fellow infps yes think find right type logical infp perhaps infp nevertheless anyway thank interest get enfp obviously depend individual person could see interest infj yep sigh inbox full hmm yeah would frustrate wonder reframing would help look new challenge something something worth time effort sorry feel boat many time hunt good job fit personality well mind ask industry gosh struggle right actually think blog post need write apparently much rather often find need would hate make choice would definitely go emotional fulfillment necessarily nee...   \n",
              "8339  nightglow even imagine must struggle right dad reasonable get different people think everyone stoic pretty much friend suggest happy end get yet watch like first minute time dvr capture make go watch rickybobby haha ask ever laugh front sometimes like find funnier probably sound lot like wife esfj love lot show office rock modern family flight conchords also night community really infpblog thank exactly love hate facebook great keep touch friends move away family always annoy put picture haha thank brother different people hang often surprise find brothers since even look alike unfortunately love name play douglas adams long thank fish character name wonko sane build asylum house crazy people first reaction meet spouse love first sight bad impression another classmate co worker wife high school sweethearts yeah yeah hey pretty interest love write little friends use get together write years ago feel goal life yes pretty much actually try cry sometimes feel big swell emotion never co...   \n",
              "\n",
              "             Mind     Energy    Nature     Tactics  E  N  T  J  \n",
              "8331  Introverted  Intuitive   Feeling  Perceiving  0  1  0  0  \n",
              "1290  Introverted    Sensing  Thinking  Perceiving  0  0  1  0  \n",
              "1982  Extroverted  Intuitive   Feeling     Judging  1  1  0  1  \n",
              "769   Introverted  Intuitive   Feeling  Perceiving  0  1  0  0  \n",
              "8339  Introverted  Intuitive   Feeling  Perceiving  0  1  0  0  "
            ],
            "text/html": [
              "\n",
              "  <div id=\"df-8208b0ff-3ee7-4d5c-9cd2-ba349fac78a1\" class=\"colab-df-container\">\n",
              "    <div>\n",
              "<style scoped>\n",
              "    .dataframe tbody tr th:only-of-type {\n",
              "        vertical-align: middle;\n",
              "    }\n",
              "\n",
              "    .dataframe tbody tr th {\n",
              "        vertical-align: top;\n",
              "    }\n",
              "\n",
              "    .dataframe thead th {\n",
              "        text-align: right;\n",
              "    }\n",
              "</style>\n",
              "<table border=\"1\" class=\"dataframe\">\n",
              "  <thead>\n",
              "    <tr style=\"text-align: right;\">\n",
              "      <th></th>\n",
              "      <th>type</th>\n",
              "      <th>clean_posts</th>\n",
              "      <th>Mind</th>\n",
              "      <th>Energy</th>\n",
              "      <th>Nature</th>\n",
              "      <th>Tactics</th>\n",
              "      <th>E</th>\n",
              "      <th>N</th>\n",
              "      <th>T</th>\n",
              "      <th>J</th>\n",
              "    </tr>\n",
              "  </thead>\n",
              "  <tbody>\n",
              "    <tr>\n",
              "      <th>8331</th>\n",
              "      <td>INFP</td>\n",
              "      <td>actually exactly expect introversion extroversion intuitive time chill come boundless insanity awesomeness notice weird tense perspective sentence speak universe go post actually read entire thread name famous person like mel gibson last thing buy groceries make italian food name work programmer high school go college comp sci year eventually decide something enjoy something want buy whenever possible adjust cook habit accommodate local organic season also cut corner part budget sacrifice sure epic fail average last years day better one come mm agree need compassion plenty justice justice mean people act superior wrong would suffice also think justice feel love intense unreasonable know never able share even express much exactly type explanation think would elaborate nearly identical write girl fall come tonite cook dinner think feel absolutely delight terrify mostly delight though sort thing happen good intentioned people take write word literally thousands years never mystical ex...</td>\n",
              "      <td>Introverted</td>\n",
              "      <td>Intuitive</td>\n",
              "      <td>Feeling</td>\n",
              "      <td>Perceiving</td>\n",
              "      <td>0</td>\n",
              "      <td>1</td>\n",
              "      <td>0</td>\n",
              "      <td>0</td>\n",
              "    </tr>\n",
              "    <tr>\n",
              "      <th>1290</th>\n",
              "      <td>ISTP</td>\n",
              "      <td>nope ever busy work cause adrenaline rush activities anything make sure one keep freedom forever think today decide arrive conclusion never really understand negative feel past try repress hop would go away would often guy find miscommunicating others use lingo talk others remember djarendee post back say speak like would cut worm see would happen heck kind question think chessboxing would totally awesome sport istp lumbar puncture clinic earthquake rock roll begin let go needle already patient like okay wait get boy man actually never really love mom speak workaholic work dad office assistant also nurse take lot shift like say love poor delivery gravelly voice help mean seriously pick one ladies want jack bauer usher say love hay baybay yo fanta say like dance play guitar like art museums interact art hand star away make weird comment style see hell unwanted center attention justin bieber lady gaga wannabe place bet general question guy deal put hot seat unwillingly back child beg...</td>\n",
              "      <td>Introverted</td>\n",
              "      <td>Sensing</td>\n",
              "      <td>Thinking</td>\n",
              "      <td>Perceiving</td>\n",
              "      <td>0</td>\n",
              "      <td>0</td>\n",
              "      <td>1</td>\n",
              "      <td>0</td>\n",
              "    </tr>\n",
              "    <tr>\n",
              "      <th>1982</th>\n",
              "      <td>ENFJ</td>\n",
              "      <td>yes peace absence conflict infp friend suxx hardd ideal peace would everybody exactly say would totally happy relax content go reallybriefly respond yes formalize way recognize debate think also really help intuitive could probably yeah say like nietzsche either think mean say assert external environment basically goals make reality bend reality yes true person give also garner favor actually exactly keep say give much attempt garner power favor first totally relate every feel describe specifically post break fall go vomit thoughts subject predicament specifically know enfj estp relationships look like healthy talk romantic relationships brief thoughts estps keep brief chance conclude make preponderance evidence astral low show slow go town motown bloat clown walk street aquiesence mmm give quick response maybe go depth later largely flux stuff bad evil big jerk big ego necessarily trump enfj tmlt quit pretty much every job months feel good fit lol make trump great yeah let frankly...</td>\n",
              "      <td>Extroverted</td>\n",
              "      <td>Intuitive</td>\n",
              "      <td>Feeling</td>\n",
              "      <td>Judging</td>\n",
              "      <td>1</td>\n",
              "      <td>1</td>\n",
              "      <td>0</td>\n",
              "      <td>1</td>\n",
              "    </tr>\n",
              "    <tr>\n",
              "      <th>769</th>\n",
              "      <td>INFP</td>\n",
              "      <td>apologize delay response thank take time share experience helpful hear good boundaries come time instantly sorry think exactly need hear boundaries neediness etc exactly work right well develop healthy self image nice know thank input deal rejection confrontation etc definitely things think right thing recognize people negative raise infp counselors therapists etc challenge experience field strongly consider counsel career would love input fellow infps yes think find right type logical infp perhaps infp nevertheless anyway thank interest get enfp obviously depend individual person could see interest infj yep sigh inbox full hmm yeah would frustrate wonder reframing would help look new challenge something something worth time effort sorry feel boat many time hunt good job fit personality well mind ask industry gosh struggle right actually think blog post need write apparently much rather often find need would hate make choice would definitely go emotional fulfillment necessarily nee...</td>\n",
              "      <td>Introverted</td>\n",
              "      <td>Intuitive</td>\n",
              "      <td>Feeling</td>\n",
              "      <td>Perceiving</td>\n",
              "      <td>0</td>\n",
              "      <td>1</td>\n",
              "      <td>0</td>\n",
              "      <td>0</td>\n",
              "    </tr>\n",
              "    <tr>\n",
              "      <th>8339</th>\n",
              "      <td>INFP</td>\n",
              "      <td>nightglow even imagine must struggle right dad reasonable get different people think everyone stoic pretty much friend suggest happy end get yet watch like first minute time dvr capture make go watch rickybobby haha ask ever laugh front sometimes like find funnier probably sound lot like wife esfj love lot show office rock modern family flight conchords also night community really infpblog thank exactly love hate facebook great keep touch friends move away family always annoy put picture haha thank brother different people hang often surprise find brothers since even look alike unfortunately love name play douglas adams long thank fish character name wonko sane build asylum house crazy people first reaction meet spouse love first sight bad impression another classmate co worker wife high school sweethearts yeah yeah hey pretty interest love write little friends use get together write years ago feel goal life yes pretty much actually try cry sometimes feel big swell emotion never co...</td>\n",
              "      <td>Introverted</td>\n",
              "      <td>Intuitive</td>\n",
              "      <td>Feeling</td>\n",
              "      <td>Perceiving</td>\n",
              "      <td>0</td>\n",
              "      <td>1</td>\n",
              "      <td>0</td>\n",
              "      <td>0</td>\n",
              "    </tr>\n",
              "  </tbody>\n",
              "</table>\n",
              "</div>\n",
              "    <div class=\"colab-df-buttons\">\n",
              "\n",
              "  <div class=\"colab-df-container\">\n",
              "    <button class=\"colab-df-convert\" onclick=\"convertToInteractive('df-8208b0ff-3ee7-4d5c-9cd2-ba349fac78a1')\"\n",
              "            title=\"Convert this dataframe to an interactive table.\"\n",
              "            style=\"display:none;\">\n",
              "\n",
              "  <svg xmlns=\"http://www.w3.org/2000/svg\" height=\"24px\" viewBox=\"0 -960 960 960\">\n",
              "    <path d=\"M120-120v-720h720v720H120Zm60-500h600v-160H180v160Zm220 220h160v-160H400v160Zm0 220h160v-160H400v160ZM180-400h160v-160H180v160Zm440 0h160v-160H620v160ZM180-180h160v-160H180v160Zm440 0h160v-160H620v160Z\"/>\n",
              "  </svg>\n",
              "    </button>\n",
              "\n",
              "  <style>\n",
              "    .colab-df-container {\n",
              "      display:flex;\n",
              "      gap: 12px;\n",
              "    }\n",
              "\n",
              "    .colab-df-convert {\n",
              "      background-color: #E8F0FE;\n",
              "      border: none;\n",
              "      border-radius: 50%;\n",
              "      cursor: pointer;\n",
              "      display: none;\n",
              "      fill: #1967D2;\n",
              "      height: 32px;\n",
              "      padding: 0 0 0 0;\n",
              "      width: 32px;\n",
              "    }\n",
              "\n",
              "    .colab-df-convert:hover {\n",
              "      background-color: #E2EBFA;\n",
              "      box-shadow: 0px 1px 2px rgba(60, 64, 67, 0.3), 0px 1px 3px 1px rgba(60, 64, 67, 0.15);\n",
              "      fill: #174EA6;\n",
              "    }\n",
              "\n",
              "    .colab-df-buttons div {\n",
              "      margin-bottom: 4px;\n",
              "    }\n",
              "\n",
              "    [theme=dark] .colab-df-convert {\n",
              "      background-color: #3B4455;\n",
              "      fill: #D2E3FC;\n",
              "    }\n",
              "\n",
              "    [theme=dark] .colab-df-convert:hover {\n",
              "      background-color: #434B5C;\n",
              "      box-shadow: 0px 1px 3px 1px rgba(0, 0, 0, 0.15);\n",
              "      filter: drop-shadow(0px 1px 2px rgba(0, 0, 0, 0.3));\n",
              "      fill: #FFFFFF;\n",
              "    }\n",
              "  </style>\n",
              "\n",
              "    <script>\n",
              "      const buttonEl =\n",
              "        document.querySelector('#df-8208b0ff-3ee7-4d5c-9cd2-ba349fac78a1 button.colab-df-convert');\n",
              "      buttonEl.style.display =\n",
              "        google.colab.kernel.accessAllowed ? 'block' : 'none';\n",
              "\n",
              "      async function convertToInteractive(key) {\n",
              "        const element = document.querySelector('#df-8208b0ff-3ee7-4d5c-9cd2-ba349fac78a1');\n",
              "        const dataTable =\n",
              "          await google.colab.kernel.invokeFunction('convertToInteractive',\n",
              "                                                    [key], {});\n",
              "        if (!dataTable) return;\n",
              "\n",
              "        const docLinkHtml = 'Like what you see? Visit the ' +\n",
              "          '<a target=\"_blank\" href=https://colab.research.google.com/notebooks/data_table.ipynb>data table notebook</a>'\n",
              "          + ' to learn more about interactive tables.';\n",
              "        element.innerHTML = '';\n",
              "        dataTable['output_type'] = 'display_data';\n",
              "        await google.colab.output.renderOutput(dataTable, element);\n",
              "        const docLink = document.createElement('div');\n",
              "        docLink.innerHTML = docLinkHtml;\n",
              "        element.appendChild(docLink);\n",
              "      }\n",
              "    </script>\n",
              "  </div>\n",
              "\n",
              "\n",
              "<div id=\"df-d47614b1-72b6-480c-bd8c-a0d0c859e086\">\n",
              "  <button class=\"colab-df-quickchart\" onclick=\"quickchart('df-d47614b1-72b6-480c-bd8c-a0d0c859e086')\"\n",
              "            title=\"Suggest charts\"\n",
              "            style=\"display:none;\">\n",
              "\n",
              "<svg xmlns=\"http://www.w3.org/2000/svg\" height=\"24px\"viewBox=\"0 0 24 24\"\n",
              "     width=\"24px\">\n",
              "    <g>\n",
              "        <path d=\"M19 3H5c-1.1 0-2 .9-2 2v14c0 1.1.9 2 2 2h14c1.1 0 2-.9 2-2V5c0-1.1-.9-2-2-2zM9 17H7v-7h2v7zm4 0h-2V7h2v10zm4 0h-2v-4h2v4z\"/>\n",
              "    </g>\n",
              "</svg>\n",
              "  </button>\n",
              "\n",
              "<style>\n",
              "  .colab-df-quickchart {\n",
              "      --bg-color: #E8F0FE;\n",
              "      --fill-color: #1967D2;\n",
              "      --hover-bg-color: #E2EBFA;\n",
              "      --hover-fill-color: #174EA6;\n",
              "      --disabled-fill-color: #AAA;\n",
              "      --disabled-bg-color: #DDD;\n",
              "  }\n",
              "\n",
              "  [theme=dark] .colab-df-quickchart {\n",
              "      --bg-color: #3B4455;\n",
              "      --fill-color: #D2E3FC;\n",
              "      --hover-bg-color: #434B5C;\n",
              "      --hover-fill-color: #FFFFFF;\n",
              "      --disabled-bg-color: #3B4455;\n",
              "      --disabled-fill-color: #666;\n",
              "  }\n",
              "\n",
              "  .colab-df-quickchart {\n",
              "    background-color: var(--bg-color);\n",
              "    border: none;\n",
              "    border-radius: 50%;\n",
              "    cursor: pointer;\n",
              "    display: none;\n",
              "    fill: var(--fill-color);\n",
              "    height: 32px;\n",
              "    padding: 0;\n",
              "    width: 32px;\n",
              "  }\n",
              "\n",
              "  .colab-df-quickchart:hover {\n",
              "    background-color: var(--hover-bg-color);\n",
              "    box-shadow: 0 1px 2px rgba(60, 64, 67, 0.3), 0 1px 3px 1px rgba(60, 64, 67, 0.15);\n",
              "    fill: var(--button-hover-fill-color);\n",
              "  }\n",
              "\n",
              "  .colab-df-quickchart-complete:disabled,\n",
              "  .colab-df-quickchart-complete:disabled:hover {\n",
              "    background-color: var(--disabled-bg-color);\n",
              "    fill: var(--disabled-fill-color);\n",
              "    box-shadow: none;\n",
              "  }\n",
              "\n",
              "  .colab-df-spinner {\n",
              "    border: 2px solid var(--fill-color);\n",
              "    border-color: transparent;\n",
              "    border-bottom-color: var(--fill-color);\n",
              "    animation:\n",
              "      spin 1s steps(1) infinite;\n",
              "  }\n",
              "\n",
              "  @keyframes spin {\n",
              "    0% {\n",
              "      border-color: transparent;\n",
              "      border-bottom-color: var(--fill-color);\n",
              "      border-left-color: var(--fill-color);\n",
              "    }\n",
              "    20% {\n",
              "      border-color: transparent;\n",
              "      border-left-color: var(--fill-color);\n",
              "      border-top-color: var(--fill-color);\n",
              "    }\n",
              "    30% {\n",
              "      border-color: transparent;\n",
              "      border-left-color: var(--fill-color);\n",
              "      border-top-color: var(--fill-color);\n",
              "      border-right-color: var(--fill-color);\n",
              "    }\n",
              "    40% {\n",
              "      border-color: transparent;\n",
              "      border-right-color: var(--fill-color);\n",
              "      border-top-color: var(--fill-color);\n",
              "    }\n",
              "    60% {\n",
              "      border-color: transparent;\n",
              "      border-right-color: var(--fill-color);\n",
              "    }\n",
              "    80% {\n",
              "      border-color: transparent;\n",
              "      border-right-color: var(--fill-color);\n",
              "      border-bottom-color: var(--fill-color);\n",
              "    }\n",
              "    90% {\n",
              "      border-color: transparent;\n",
              "      border-bottom-color: var(--fill-color);\n",
              "    }\n",
              "  }\n",
              "</style>\n",
              "\n",
              "  <script>\n",
              "    async function quickchart(key) {\n",
              "      const quickchartButtonEl =\n",
              "        document.querySelector('#' + key + ' button');\n",
              "      quickchartButtonEl.disabled = true;  // To prevent multiple clicks.\n",
              "      quickchartButtonEl.classList.add('colab-df-spinner');\n",
              "      try {\n",
              "        const charts = await google.colab.kernel.invokeFunction(\n",
              "            'suggestCharts', [key], {});\n",
              "      } catch (error) {\n",
              "        console.error('Error during call to suggestCharts:', error);\n",
              "      }\n",
              "      quickchartButtonEl.classList.remove('colab-df-spinner');\n",
              "      quickchartButtonEl.classList.add('colab-df-quickchart-complete');\n",
              "    }\n",
              "    (() => {\n",
              "      let quickchartButtonEl =\n",
              "        document.querySelector('#df-d47614b1-72b6-480c-bd8c-a0d0c859e086 button');\n",
              "      quickchartButtonEl.style.display =\n",
              "        google.colab.kernel.accessAllowed ? 'block' : 'none';\n",
              "    })();\n",
              "  </script>\n",
              "</div>\n",
              "\n",
              "    </div>\n",
              "  </div>\n"
            ],
            "application/vnd.google.colaboratory.intrinsic+json": {
              "type": "dataframe",
              "variable_name": "train",
              "summary": "{\n  \"name\": \"train\",\n  \"rows\": 6940,\n  \"fields\": [\n    {\n      \"column\": \"type\",\n      \"properties\": {\n        \"dtype\": \"category\",\n        \"num_unique_values\": 16,\n        \"samples\": [\n          \"INFP\",\n          \"ISTP\",\n          \"ESFP\"\n        ],\n        \"semantic_type\": \"\",\n        \"description\": \"\"\n      }\n    },\n    {\n      \"column\": \"clean_posts\",\n      \"properties\": {\n        \"dtype\": \"string\",\n        \"num_unique_values\": 6940,\n        \"samples\": [\n          \"yes intresting topic would accidently kinda subvert government il elaborate cow weigh lb get perfect beef need heat temperature mins per lb mins perfect internal temp suggestions get entp crow view spot manipulation instatly see way turn advantage call see way let think im naive somthing use hunter become put mg diazepam ur tea cause cant put listen conversation reality tv show lol well another great therapy session today think id start little bite fun think may alien hand syndrome think im write texts people also minions henchmen must confess see thread ask istp could resist post thisqthi basically unshakeable gloomy assassin mind istp stand indomitable saturninely triggerman psyche view love loopholes topic quote topic wrong park mother baby spot dont baby argument park supermarkets etc fall word less never trust hungry cat one plan lol think notice denial refresh hot day also denial wrong million people live denial well denial delta region africa lol denial quote denial egyptian dude say know big crocodiles instantly denial denial cure tbh tho happy help get letter yesterday initial diagnosis dumb gp refer aspd score depression genralised question view equality gobsmacked argument undeniable well humans evolve primarily natural selection years remember strange view phenotypes appear outwardly equal social equality push far stronger genotype potential mate naturally select stronger society interfere human evolution way political correctness quest equality one point contention society make strong phenotypes weaker due seem similar psychological definition maturity ability respond environment appropriate manner good description maturity way split type interactions people although house seem outwardly introvert need interaction people ever apparent think process think entp introvert extroverts think reason fictional character house entp knowlage extensive subject mind sharp razor think come step plan refine idea could easliy develop make million idea step plan refine make million idea would also require think come cunning plan get millions pound burn front many entjs father front pack step one post thread entp forum best way think house entp unhealthy one maybe though opposite always tell voice view opinions parent fell flat fact entj dad estp mum emotions present lol fun intresting childhood exxx lol great list one good behavior list social situations call isfj girlfriend keep invisible mental list things iv ever say anger people im pretty sure saudi arabia areas nigeria assort countries natural treatment solve go shop steal somthing naturally problem solve cut ur hmm would happen throw istp super massive black hole would black hole win would istp suck life black hole lol dont need entj plot someones destruction entps naturally better way atleast would never see come would hit enormity super massive another entp wish know one irl lol seem like im surround sjs life lol although im pretty damn sure year old daughter entp cat mess lol anally retentive cat iv ever see use litter tray spend mins scratch litter meow next time want wee change maturity important type dont seem condescend intps debate argee argue issue even dont belive intps normally argue always think one sphynx cat would sinister look evil villian pet could shave fluffy one cus tbh like shave pussy lol outwardly apper subordinate though name tag would think charge subordinate let take lead time recognise personal life would spend massive amount time entj intrinsic value society logical inevitability entp share limit capacity emotions always work well entps think help enjoy company like sense humor energy think differently bring different things table question think entp entj workplace combination one beneficial combinations nts tbh thing stop people think entj manager name badge lol mine say store manager deputy appearance im evil dictator type think entjs really irrelevant entj bring table intrinsically valuable never seem become liability entps value remind friend mine entp seem mostly negative view entj like get paranoid certain people manipulative control etc must confess bait isfj gf argument debate even bore also spend hour today mock istp brother law black hole danger lol might intresting hmmm intp entp days amaze conversations billion unique ways create utopian society implement entps get hungry consider hunter gather option intolerant insufferable overbear overly vocal power mad stubborn impatient arrogant think id list good qualitys lol entjs like mouth everyone one forgive logic sound suffer depression want pills proceed make list symptoms dsm type logical rational way okay direct post gee thank insult thread estps sure carry way seem mighty hyper love hear\",\n          \"history teach us past evils oppressor today world fill phony propaganda sex skew media seem define liberty contemporary society many people homogenization hear effect ecstasy say turn infp resist take would want become dreamland different purpose marijuana effect depend totally culture person marijuana give top shelf medications cant immediate result one puff two time move wanderlust understand happen relationship make puppet might malevolent plan might uhykfgtykjrty yeah old body go crazy mind feel calm feel happen lot people think weirdo guess sometimes forget people tend play ive often help many people ask nothing return find surrogate position idk think good enough people reflective upon yes tend estj talk defense mechanism dont know maybe sometimes tend know say things go shall call tonight think past heartbreaks stuff think much entail random person think know person give yes endless ifs feel kind relieve actually something randomness cant get lol guess call get know bite ha yes think go think lately ive bad streak friendships misunderstand yet always regain gain new friends unforgettable time like many sometimes always difficulties use bite humor help lot break tension follow format teacher give us speak imagine read outloud expressively think sometimes people dont see us imagine sometimes everything imagine since kind never get never develop tthe rejection person sometimes really sad world happy tire puppet puppet master think complications everything trust solidarity always leave alone always clamor independence aww make feel like yiugwigvjpwqegq inside ive spectrums ugh always seem lose quite common sometimes go back source dri live cbgbs look youtube always moon way counteract long term memory loss believe delta thc moment wont remember things time remember even school everyone get sadden want leave early always flat line emotionally explode feel time horrible everyday nightmare since wake mind distant cloud yearn love acceptance feel incomplete yet recognize draw attention whenever go somewhere people always stare stare back win dont stare back lol yeah shut time someone make think otherwise remember use like back intp self make life miserable think past long trouble past think nunca amaste ciertas personas aun asi te las puedes quitar de la hopefully talk soon let know think come think important rigt say depress basically lose hop love long apathy increase since por que puedo ni una cancion cantarle el deseo de mi vida months since last saw speak feel like mummy even facebook want talk usually slow say try speak fast sound like gibberish lot happen exact ways remember feel guilty know could save someone think dream coincide remember friend would show house tell hey ive get bud dont bring anyone eh let whistle whole crew people sometimes emotions bias consequences people take advantage person base action emotions feel detach emotion case make see things mostly think bad self people want test limit especially call fake false one begin original people well friend think back begin do rather surely give title occupy special place well case base idea life make silicon isaac asimov mark unknown brain chip magazine sometimes good snap safe humorous way make day better ive yet live dream hehehe feel write want neurobiology well start class like awkward moments everyone happy nothing say cause think thing ask want give guidance hopeless romantic lose love sound nothing love go school high much interest make argumentative actually problem people around know deal self teach well get explanations teachers try give plus never patience one ever patience cant afford learn slow per hour high different lot people generally problem jealousy overwhelm others start think favorites tijuana mexico ib actually border like half half poem anything want theres stuff ive write consider poetry ive hat poetry best part life manage empathize author get ahh presence best thing ignore live life way want manage get rid tend cling make fear stuff idk\",\n          \"tend idealize magical probably fact think connection happen intuitively subconciously people connect far love suggestions reaffirm one best friends good earth often intervene get irrational worry use humor experience appreciate friend make first move come spend time together may show interest approach talk sensitive ask people know quite nfs hard time specify beyond know girl test intp infp kind friendly find little mysterious ideally would actually love bring individual friends group friends together could awesome friends together reality might fun everyone even get weird vibe person like touch instance feel insincere show get annoy feel somewhat use practice helpful get habit talk loud car help sort thoughts practice actually talk people bonus feel like two different people relax nicest person get stress different story pretty sensitive sometimes even realize ironic surprise want help since struggle like endless journey also nice process happen time hmm howl howl move castle severus snape baron cat return special agent aloysius pendergast book series faramir lotr sherlock holmes mr rochester jane thank especially part find inner peace first one thing always get extremely insecure teen unhappy really enjoy look answer definitely relate first love overlook lot important stuff really want please vulnerable messy anxious insecure elderly woman come tell haunt eye movies english patient leon professional nell film girl pearl earring book well piano chungking express little princess version silence way around think something early life interactions men women family members instance earliest life experience females way know memo excessive pride admiration one appearance achievements nah proud effort make appearance way express show respect enjoy read thread earn degree studio art ceramics photography paint right cashier small town want move though love hi everyone could use advice perspective especially older mature infps first cautiously describe fairly healthy infp emerge singlehood awesome think right idea anything single incredibly free start things love figure meaningful really depend situation mood describe refine even mysterious time honestly ridiculous kind eat crap love mysterious alright smile good thank side one ask make sort nervous people go beyond something polite simple think best friend enfj maybe esfj hard tell pretty much far socionics go alot friends enfps infjs esfjs couple infps first thing pop mind dwell dream forget live remember albus dumbledore think dream wonderful lot best way initially connect connect well people open friendly right get go something common talk always help know change personalities idea change many ways never experience major change preferences like go difficult time would connect people different seem like bad idea much power without lot self control wisdom entp think roommate semester sort exhilarate someone direct blunt around weird sense humor get along guess could though really honest remind second cousin lol everything especially cars point cars really annoy despise gloomy look headlights tree grow field behind well old boyfriend actually curious description opinion type speak mind pretty easily pretty open blunt care appearance professor say fall climb love blow mind inspire view adaptability human soul romantic realistic think possible become soul mat someone like souls sort adapt grow gah sound like infp yes especially people see underdogs minority vulnerable hate see parent treat children unnecessary harshness also bite jealous good friends siblings conflict possibly hurt someone feel tend resort water version feel depend otherwise pretty expressive yeah around guy like feel mutual something work get irrationally panic hard control feel tip deal touch face arm hair constantly conversation must distract people talk want people perceive refine approachable try reflect wear insecure college go top stand artist cringe still think quite sweet kid dreamy might bite much intensity seriousness home videos silly also videos intently draw picture serious answer remind yesterday come list friends family send letter spend morning read think great ideas things help distance emotion example feel despair sadness worthlessness need deal rather infpanonymous ha reason stuff shrug think people sort avoid yes least actively try come much contact realize people comfortable around quiet feel bad try get several friends perhaps feel way hm people assume soft speak reserve naive childlike crave meaningful deep conversations people conversations age realize nearly grow life essentially meaningless like terribly depress frighten painful verbalize thank see first boy fell love silly shy younger kid sort stalk although think know never lead reject like scent remind little kid like dandelions queen anne lace flower freshly till dirt sweet hay tell grow country\"\n        ],\n        \"semantic_type\": \"\",\n        \"description\": \"\"\n      }\n    },\n    {\n      \"column\": \"Mind\",\n      \"properties\": {\n        \"dtype\": \"category\",\n        \"num_unique_values\": 2,\n        \"samples\": [\n          \"Extroverted\",\n          \"Introverted\"\n        ],\n        \"semantic_type\": \"\",\n        \"description\": \"\"\n      }\n    },\n    {\n      \"column\": \"Energy\",\n      \"properties\": {\n        \"dtype\": \"category\",\n        \"num_unique_values\": 2,\n        \"samples\": [\n          \"Sensing\",\n          \"Intuitive\"\n        ],\n        \"semantic_type\": \"\",\n        \"description\": \"\"\n      }\n    },\n    {\n      \"column\": \"Nature\",\n      \"properties\": {\n        \"dtype\": \"category\",\n        \"num_unique_values\": 2,\n        \"samples\": [\n          \"Thinking\",\n          \"Feeling\"\n        ],\n        \"semantic_type\": \"\",\n        \"description\": \"\"\n      }\n    },\n    {\n      \"column\": \"Tactics\",\n      \"properties\": {\n        \"dtype\": \"category\",\n        \"num_unique_values\": 2,\n        \"samples\": [\n          \"Judging\",\n          \"Perceiving\"\n        ],\n        \"semantic_type\": \"\",\n        \"description\": \"\"\n      }\n    },\n    {\n      \"column\": \"E\",\n      \"properties\": {\n        \"dtype\": \"number\",\n        \"std\": 0,\n        \"min\": 0,\n        \"max\": 1,\n        \"num_unique_values\": 2,\n        \"samples\": [\n          1,\n          0\n        ],\n        \"semantic_type\": \"\",\n        \"description\": \"\"\n      }\n    },\n    {\n      \"column\": \"N\",\n      \"properties\": {\n        \"dtype\": \"number\",\n        \"std\": 0,\n        \"min\": 0,\n        \"max\": 1,\n        \"num_unique_values\": 2,\n        \"samples\": [\n          0,\n          1\n        ],\n        \"semantic_type\": \"\",\n        \"description\": \"\"\n      }\n    },\n    {\n      \"column\": \"T\",\n      \"properties\": {\n        \"dtype\": \"number\",\n        \"std\": 0,\n        \"min\": 0,\n        \"max\": 1,\n        \"num_unique_values\": 2,\n        \"samples\": [\n          1,\n          0\n        ],\n        \"semantic_type\": \"\",\n        \"description\": \"\"\n      }\n    },\n    {\n      \"column\": \"J\",\n      \"properties\": {\n        \"dtype\": \"number\",\n        \"std\": 0,\n        \"min\": 0,\n        \"max\": 1,\n        \"num_unique_values\": 2,\n        \"samples\": [\n          1,\n          0\n        ],\n        \"semantic_type\": \"\",\n        \"description\": \"\"\n      }\n    }\n  ]\n}"
            }
          },
          "metadata": {},
          "execution_count": 71
        }
      ]
    },
    {
      "cell_type": "markdown",
      "metadata": {
        "id": "R9BhRQbYorxf"
      },
      "source": [
        "### Modelling"
      ]
    },
    {
      "cell_type": "code",
      "execution_count": null,
      "metadata": {
        "colab": {
          "base_uri": "https://localhost:8080/"
        },
        "id": "xllV6kST1uIc",
        "outputId": "89ea5fd9-4e60-49cc-9081-e78299eceb75"
      },
      "outputs": [
        {
          "output_type": "stream",
          "name": "stdout",
          "text": [
            "914\n",
            "848\n",
            "881\n"
          ]
        }
      ],
      "source": [
        "def get_longest_text(texts):\n",
        "    longest_input = 0\n",
        "    for text in texts:\n",
        "        text_len= len(text.split())\n",
        "        longest_input = max(longest_input, text_len)\n",
        "    return longest_input\n",
        "\n",
        "print(get_longest_text(train['clean_posts']))\n",
        "print(get_longest_text(val['clean_posts']))\n",
        "print(get_longest_text(test['clean_posts']))"
      ]
    },
    {
      "cell_type": "code",
      "source": [
        "ser = train['clean_posts'].apply(lambda x: len(x.split()))\n",
        "ser.describe()\n",
        "plt.figure()\n",
        "ser.hist(bins=500)\n",
        "plt.figure()\n",
        "sns.boxplot(ser)"
      ],
      "metadata": {
        "colab": {
          "base_uri": "https://localhost:8080/",
          "height": 841
        },
        "id": "pMDpT1TTMCu_",
        "outputId": "06c02541-a3eb-4cb2-de9d-22e96123b360"
      },
      "execution_count": null,
      "outputs": [
        {
          "output_type": "execute_result",
          "data": {
            "text/plain": [
              "<Axes: ylabel='clean_posts'>"
            ]
          },
          "metadata": {},
          "execution_count": 73
        },
        {
          "output_type": "display_data",
          "data": {
            "text/plain": [
              "<Figure size 640x480 with 1 Axes>"
            ],
            "image/png": "[encoded data removed]"
          },
          "metadata": {}
        },
        {
          "output_type": "display_data",
          "data": {
            "text/plain": [
              "<Figure size 640x480 with 1 Axes>"
            ],
            "image/png": "[encoded data removed]"
          },
          "metadata": {}
        }
      ]
    },
    {
      "cell_type": "code",
      "execution_count": null,
      "metadata": {
        "colab": {
          "base_uri": "https://localhost:8080/"
        },
        "id": "0ZL4QGsN1uIc",
        "outputId": "974d8ebb-16c5-49ed-939e-9f20e045696f"
      },
      "outputs": [
        {
          "output_type": "stream",
          "name": "stdout",
          "text": [
            "Downloading data from https://storage.googleapis.com/tensorflow/tf-keras-datasets/imdb_word_index.json\n",
            "1641221/1641221 [==============================] - 1s 1us/step\n"
          ]
        }
      ],
      "source": [
        "import tensorflow as tf\n",
        "from keras.preprocessing.text import Tokenizer\n",
        "\n",
        "max_seq_len = 750\n",
        "word2idx = tf.keras.datasets.imdb.get_word_index()\n",
        "\n",
        "tokenizer = Tokenizer(num_words=max_seq_len)\n",
        "tokenizer.fit_on_texts(train['clean_posts'])\n",
        "word_to_idx = tokenizer.word_index"
      ]
    },
    {
      "cell_type": "code",
      "execution_count": null,
      "metadata": {
        "id": "ouESNnoy1uId"
      },
      "outputs": [],
      "source": [
        "x_train_padded = np.empty((len(train), max_seq_len), dtype=int)\n",
        "\n",
        "for i, sent in enumerate(train['clean_posts']):\n",
        "    tokens = sent.split()\n",
        "    padded_sent = tokens[:max_seq_len] + [0] * (max_seq_len - len(tokens[:max_seq_len]))\n",
        "    padded_sent_ids = [word_to_idx[token] if token in word_to_idx else 0 for token in padded_sent]\n",
        "    x_train_padded[i, :] = padded_sent_ids\n"
      ]
    },
    {
      "cell_type": "code",
      "source": [
        "x_val_padded = np.empty((len(val), max_seq_len), dtype=int)\n",
        "\n",
        "for i, sent in enumerate(val['clean_posts']):\n",
        "    tokens = sent.split()\n",
        "    padded_sent = tokens[:max_seq_len] + [0] * (max_seq_len - len(tokens[:max_seq_len]))\n",
        "    padded_sent_ids = [word_to_idx[token] if token in word_to_idx else 0 for token in padded_sent]\n",
        "    x_val_padded[i, :] = padded_sent_ids"
      ],
      "metadata": {
        "id": "kirw-y7pMpv0"
      },
      "execution_count": null,
      "outputs": []
    },
    {
      "cell_type": "code",
      "source": [
        "x_test_padded = np.empty((len(test), max_seq_len), dtype=int)\n",
        "\n",
        "for i, sent in enumerate(test['clean_posts']):\n",
        "    tokens = sent.split()\n",
        "    padded_sent = tokens[:max_seq_len] + [0] * (max_seq_len - len(tokens[:max_seq_len]))\n",
        "    padded_sent_ids = [word_to_idx[token] if token in word_to_idx else 0 for token in padded_sent]\n",
        "    x_test_padded[i, :] = padded_sent_ids"
      ],
      "metadata": {
        "id": "VyP0AJF1MtnQ"
      },
      "execution_count": null,
      "outputs": []
    },
    {
      "cell_type": "code",
      "source": [
        "x_train_padded[:1]"
      ],
      "metadata": {
        "colab": {
          "base_uri": "https://localhost:8080/"
        },
        "id": "AdhBrMkmMzKv",
        "outputId": "aca45450-a76c-4dbc-f93f-b13b83e84b55"
      },
      "execution_count": null,
      "outputs": [
        {
          "output_type": "execute_result",
          "data": {
            "text/plain": [
              "array([[   51,   194,   437,  1264,  1867,   778,    13,  1416,    33,\n",
              "        13902,  4105,  4079,   235,   288,  3850,   703,  1042,   210,\n",
              "          985,    12,    45,    51,    43,   688,    65,   239,  1735,\n",
              "           53,     1, 10851,  9559,   131,    46,   480,  6572,    11,\n",
              "         2768,   533,   239,    31,  4498,   168,   117,    12,   385,\n",
              "         6921,  2471,   162,   907,   317,    25,   150,    25,    15,\n",
              "          480,   628,   318,  2622,  1006,   984,  4919,  1652,  3954,\n",
              "         1086,    27,   698,  1530,   132,  4561,  2259,    55,  2169,\n",
              "          641,   859,   131,    80,    96,    92,     8,    33,  3528,\n",
              "           95,    42,  2850,  1095,  2016,  2016,    36,     4,   246,\n",
              "         1935,   176,    10,  5515,    27,     2,  2016,     7,    17,\n",
              "          929,  5696,     5,    38,   224,   222,    30,   494,    18,\n",
              "          194,    14,  1299,     2,    10,  1554,  1023,  4080,    98,\n",
              "          219,   361,    33, 38664,  1006,  1550,     2,     7,   402,\n",
              "         4867,  1869,   271,  4867,    44,   217,    46,   120,    21,\n",
              "        12646,     4,    26,    98,   135,   653,  3218,    80,    38,\n",
              "         4050,   111,   783,    64, 10482,    73,    25,     1,   108,\n",
              "          985,    87,   329,    98,   895,  4106,   350,    95,    28,\n",
              "          161,  2272,   133,     2,    39,   317,     8,    14,    10,\n",
              "           32,  3810,   824,    32,    11,   203,    52,   185,   737,\n",
              "           57,   114,    84,  1696,   113,   212, 21490,    51,   198,\n",
              "          401,  2336,    13,     5,    80,   105,   168,   117,    86,\n",
              "          179,   224,     2,   206,   132,  1527,   131,    16,     4,\n",
              "          116,   762,    27,   168,  2104,  1725,   140,   903,   112,\n",
              "         1064,     4,   187,   101,   290,   178,   322,    15,    63,\n",
              "          359,  2513,   394,   322,   140, 13903,    33,    56,   584,\n",
              "          431,   151,   582,   112,   279,     4,  9560,   341,    74,\n",
              "            4,     7,  1466,  1196,   328,   325,   233,     3,   824,\n",
              "           26,   278,     3,  1197,    31,  2192,   210,   299,    38,\n",
              "           16,  1006,  3040,  5073,  6573,  3041,   328,   325,    31,\n",
              "          286,     1,   455,    96,   755, 10137,  6005,  6378,  8046,\n",
              "         3529,    91,   230,   203,    54,  2287,    91,   593,    47,\n",
              "          288,    47,   215,   668,   129,   241,  2472,  2292,   230,\n",
              "          203,    27,     9,  8796,   544,     2,  1064,    28,    21,\n",
              "            4,   292,   126,   148, 10852,  2036,  2503,   223,   198,\n",
              "            9,   206,  6789,  2321,   314,    60,   346,  7043,   624,\n",
              "         1318,     4, 38665,   513,    10,    15,    47,     2,     7,\n",
              "         4867,  1410,    11,     7,   517,    10,   351,    68,  3955,\n",
              "        38666,   460,  1239, 21491,   495, 10483,  5852,   106,   768,\n",
              "         7161,   247,   625,  1229, 29181,   750,  1531,    19,    59,\n",
              "           59,  4920,    55,    36,  1202,   683,     7,  2456,  1497,\n",
              "         1514,   228,    42,  1242,   589,   870,  1178,     4,   120,\n",
              "           55,    70,    30,    98,   432,  1407,    25,   107,     5,\n",
              "          227,     2,   169,   340,   160,     5,     3,   106,    52,\n",
              "           42,    47,   288,    55,    86,   275,  1023,   288,   112,\n",
              "         1444,   285,   111,     6,     9,     7,     1,   863,    28,\n",
              "         2119,    39,   152,   155,  1581,    55,    11,  2204,  3851,\n",
              "          520,   681,  1240,   645,   129,    18,  1787,  7908,    13,\n",
              "           64,     6,   289,   563, 16514,     2,     2,    24,    68,\n",
              "           13,    16,    35,  1944,  2427,  5230,   223,  1300,    76,\n",
              "          499,     5,    36,   288,   693,    85,   746,   256,  1682,\n",
              "         2007,  1391,   144,   501,   330,     2,    56,   962,    44,\n",
              "            4,   410,     2,    10,     9,   150, 13222,     3,    28,\n",
              "         4644,  5231,     8,  1230,    20,   685,    48,    24,   283,\n",
              "         3468,  1031,   359,   364, 10853,   614,    53,    63,  3189,\n",
              "          353,   462,  1427,   551,    23,  1612,   232,   385,   249,\n",
              "          171,  4919,    15,  1187,   586,   962,   334,   138,    16,\n",
              "          579,    27,    91,    81,   891,    26,    23,   253,     4,\n",
              "          106,     2,  1582,    10,     6,    42,   407,   735,   249,\n",
              "          150,   202,    54,   260,   202,   500,     4,   637,    16,\n",
              "         2023,   892,    99,   433,     9,     3,  1750,    11,   725,\n",
              "          971,    74,  1272,   863,    49,    63,   341,   825,  3547,\n",
              "         3005,   951,   537,    31,   444,  1518,   111,   131,  1097,\n",
              "        12131,   140,  2581,   238,   892,   260,    35,   188,  1081,\n",
              "          294,   479,     2,   116,   103,   423,     4,   238,    13,\n",
              "            2,   578,   798,     2,   679,  3202,     3,  5631,     7,\n",
              "           27,   684,  6379,     6,  4199,   736,    49,   736,    35,\n",
              "          659,    48,   341,   205,   121,   174,   126,   799,   642,\n",
              "          292,   515,  1988,   648,   203,  5288,   106,   101,   141,\n",
              "          544,   658,   319,   916,  3143,    17,   954,  2293,   222,\n",
              "         8391,   257,   951,   203,   262,   758,   117,  1495,  1736,\n",
              "         1096,   114,   562,  1732,  1221,   285,   111,  5632,   562,\n",
              "         1221,    22,     7,  1732,   106,   135,  3784,   522,   290,\n",
              "         1929,    22,    23,   283,   522,   669,    24,   253,   985,\n",
              "          129,   153,   998,  3509,    27,     7,  2762,    12,  2428,\n",
              "         1639,    11,  1399,  1286,  2503,   288,     2,  1024,    60,\n",
              "           89,    24,   487,    58,   116,   111,     8,    78,    60,\n",
              "           58,    27,     5,     8,    64,  3572,    92,   101,  7745,\n",
              "            0,     0,     0,     0,     0,     0,     0,     0,     0,\n",
              "            0,     0,     0,     0,     0,     0,     0,     0,     0,\n",
              "            0,     0,     0,     0,     0,     0,     0,     0,     0,\n",
              "            0,     0,     0,     0,     0,     0,     0,     0,     0,\n",
              "            0,     0,     0,     0,     0,     0,     0,     0,     0,\n",
              "            0,     0,     0]])"
            ]
          },
          "metadata": {},
          "execution_count": 78
        }
      ]
    },
    {
      "cell_type": "code",
      "source": [
        "VOCAB_SIZE = len(word_to_idx)\n",
        "x_train_padded = np.clip(x_train_padded, 0, VOCAB_SIZE - 1)\n",
        "x_val_padded = np.clip(x_val_padded, 0, VOCAB_SIZE - 1)\n",
        "x_test_padded = np.clip(x_test_padded, 0, VOCAB_SIZE - 1)"
      ],
      "metadata": {
        "id": "p1DRlKxFMzGu"
      },
      "execution_count": null,
      "outputs": []
    },
    {
      "cell_type": "code",
      "source": [
        "y_train = train[['E', 'N', 'T', 'J']]\n",
        "y_val = val[['E', 'N', 'T', 'J']]"
      ],
      "metadata": {
        "id": "38KCQPQqMzCa"
      },
      "execution_count": null,
      "outputs": []
    },
    {
      "cell_type": "code",
      "source": [
        "y_train.head()"
      ],
      "metadata": {
        "colab": {
          "base_uri": "https://localhost:8080/",
          "height": 206
        },
        "id": "10-RLOO0_7VE",
        "outputId": "717fa453-c746-41d4-a7dc-4af2effc4b51"
      },
      "execution_count": null,
      "outputs": [
        {
          "output_type": "execute_result",
          "data": {
            "text/plain": [
              "      E  N  T  J\n",
              "8331  0  1  0  0\n",
              "1290  0  0  1  0\n",
              "1982  1  1  0  1\n",
              "769   0  1  0  0\n",
              "8339  0  1  0  0"
            ],
            "text/html": [
              "\n",
              "  <div id=\"df-0ffd6a7c-b74e-4305-b172-1946023f51c4\" class=\"colab-df-container\">\n",
              "    <div>\n",
              "<style scoped>\n",
              "    .dataframe tbody tr th:only-of-type {\n",
              "        vertical-align: middle;\n",
              "    }\n",
              "\n",
              "    .dataframe tbody tr th {\n",
              "        vertical-align: top;\n",
              "    }\n",
              "\n",
              "    .dataframe thead th {\n",
              "        text-align: right;\n",
              "    }\n",
              "</style>\n",
              "<table border=\"1\" class=\"dataframe\">\n",
              "  <thead>\n",
              "    <tr style=\"text-align: right;\">\n",
              "      <th></th>\n",
              "      <th>E</th>\n",
              "      <th>N</th>\n",
              "      <th>T</th>\n",
              "      <th>J</th>\n",
              "    </tr>\n",
              "  </thead>\n",
              "  <tbody>\n",
              "    <tr>\n",
              "      <th>8331</th>\n",
              "      <td>0</td>\n",
              "      <td>1</td>\n",
              "      <td>0</td>\n",
              "      <td>0</td>\n",
              "    </tr>\n",
              "    <tr>\n",
              "      <th>1290</th>\n",
              "      <td>0</td>\n",
              "      <td>0</td>\n",
              "      <td>1</td>\n",
              "      <td>0</td>\n",
              "    </tr>\n",
              "    <tr>\n",
              "      <th>1982</th>\n",
              "      <td>1</td>\n",
              "      <td>1</td>\n",
              "      <td>0</td>\n",
              "      <td>1</td>\n",
              "    </tr>\n",
              "    <tr>\n",
              "      <th>769</th>\n",
              "      <td>0</td>\n",
              "      <td>1</td>\n",
              "      <td>0</td>\n",
              "      <td>0</td>\n",
              "    </tr>\n",
              "    <tr>\n",
              "      <th>8339</th>\n",
              "      <td>0</td>\n",
              "      <td>1</td>\n",
              "      <td>0</td>\n",
              "      <td>0</td>\n",
              "    </tr>\n",
              "  </tbody>\n",
              "</table>\n",
              "</div>\n",
              "    <div class=\"colab-df-buttons\">\n",
              "\n",
              "  <div class=\"colab-df-container\">\n",
              "    <button class=\"colab-df-convert\" onclick=\"convertToInteractive('df-0ffd6a7c-b74e-4305-b172-1946023f51c4')\"\n",
              "            title=\"Convert this dataframe to an interactive table.\"\n",
              "            style=\"display:none;\">\n",
              "\n",
              "  <svg xmlns=\"http://www.w3.org/2000/svg\" height=\"24px\" viewBox=\"0 -960 960 960\">\n",
              "    <path d=\"M120-120v-720h720v720H120Zm60-500h600v-160H180v160Zm220 220h160v-160H400v160Zm0 220h160v-160H400v160ZM180-400h160v-160H180v160Zm440 0h160v-160H620v160ZM180-180h160v-160H180v160Zm440 0h160v-160H620v160Z\"/>\n",
              "  </svg>\n",
              "    </button>\n",
              "\n",
              "  <style>\n",
              "    .colab-df-container {\n",
              "      display:flex;\n",
              "      gap: 12px;\n",
              "    }\n",
              "\n",
              "    .colab-df-convert {\n",
              "      background-color: #E8F0FE;\n",
              "      border: none;\n",
              "      border-radius: 50%;\n",
              "      cursor: pointer;\n",
              "      display: none;\n",
              "      fill: #1967D2;\n",
              "      height: 32px;\n",
              "      padding: 0 0 0 0;\n",
              "      width: 32px;\n",
              "    }\n",
              "\n",
              "    .colab-df-convert:hover {\n",
              "      background-color: #E2EBFA;\n",
              "      box-shadow: 0px 1px 2px rgba(60, 64, 67, 0.3), 0px 1px 3px 1px rgba(60, 64, 67, 0.15);\n",
              "      fill: #174EA6;\n",
              "    }\n",
              "\n",
              "    .colab-df-buttons div {\n",
              "      margin-bottom: 4px;\n",
              "    }\n",
              "\n",
              "    [theme=dark] .colab-df-convert {\n",
              "      background-color: #3B4455;\n",
              "      fill: #D2E3FC;\n",
              "    }\n",
              "\n",
              "    [theme=dark] .colab-df-convert:hover {\n",
              "      background-color: #434B5C;\n",
              "      box-shadow: 0px 1px 3px 1px rgba(0, 0, 0, 0.15);\n",
              "      filter: drop-shadow(0px 1px 2px rgba(0, 0, 0, 0.3));\n",
              "      fill: #FFFFFF;\n",
              "    }\n",
              "  </style>\n",
              "\n",
              "    <script>\n",
              "      const buttonEl =\n",
              "        document.querySelector('#df-0ffd6a7c-b74e-4305-b172-1946023f51c4 button.colab-df-convert');\n",
              "      buttonEl.style.display =\n",
              "        google.colab.kernel.accessAllowed ? 'block' : 'none';\n",
              "\n",
              "      async function convertToInteractive(key) {\n",
              "        const element = document.querySelector('#df-0ffd6a7c-b74e-4305-b172-1946023f51c4');\n",
              "        const dataTable =\n",
              "          await google.colab.kernel.invokeFunction('convertToInteractive',\n",
              "                                                    [key], {});\n",
              "        if (!dataTable) return;\n",
              "\n",
              "        const docLinkHtml = 'Like what you see? Visit the ' +\n",
              "          '<a target=\"_blank\" href=https://colab.research.google.com/notebooks/data_table.ipynb>data table notebook</a>'\n",
              "          + ' to learn more about interactive tables.';\n",
              "        element.innerHTML = '';\n",
              "        dataTable['output_type'] = 'display_data';\n",
              "        await google.colab.output.renderOutput(dataTable, element);\n",
              "        const docLink = document.createElement('div');\n",
              "        docLink.innerHTML = docLinkHtml;\n",
              "        element.appendChild(docLink);\n",
              "      }\n",
              "    </script>\n",
              "  </div>\n",
              "\n",
              "\n",
              "<div id=\"df-1f84d096-5f37-4e12-a301-23f278496ca6\">\n",
              "  <button class=\"colab-df-quickchart\" onclick=\"quickchart('df-1f84d096-5f37-4e12-a301-23f278496ca6')\"\n",
              "            title=\"Suggest charts\"\n",
              "            style=\"display:none;\">\n",
              "\n",
              "<svg xmlns=\"http://www.w3.org/2000/svg\" height=\"24px\"viewBox=\"0 0 24 24\"\n",
              "     width=\"24px\">\n",
              "    <g>\n",
              "        <path d=\"M19 3H5c-1.1 0-2 .9-2 2v14c0 1.1.9 2 2 2h14c1.1 0 2-.9 2-2V5c0-1.1-.9-2-2-2zM9 17H7v-7h2v7zm4 0h-2V7h2v10zm4 0h-2v-4h2v4z\"/>\n",
              "    </g>\n",
              "</svg>\n",
              "  </button>\n",
              "\n",
              "<style>\n",
              "  .colab-df-quickchart {\n",
              "      --bg-color: #E8F0FE;\n",
              "      --fill-color: #1967D2;\n",
              "      --hover-bg-color: #E2EBFA;\n",
              "      --hover-fill-color: #174EA6;\n",
              "      --disabled-fill-color: #AAA;\n",
              "      --disabled-bg-color: #DDD;\n",
              "  }\n",
              "\n",
              "  [theme=dark] .colab-df-quickchart {\n",
              "      --bg-color: #3B4455;\n",
              "      --fill-color: #D2E3FC;\n",
              "      --hover-bg-color: #434B5C;\n",
              "      --hover-fill-color: #FFFFFF;\n",
              "      --disabled-bg-color: #3B4455;\n",
              "      --disabled-fill-color: #666;\n",
              "  }\n",
              "\n",
              "  .colab-df-quickchart {\n",
              "    background-color: var(--bg-color);\n",
              "    border: none;\n",
              "    border-radius: 50%;\n",
              "    cursor: pointer;\n",
              "    display: none;\n",
              "    fill: var(--fill-color);\n",
              "    height: 32px;\n",
              "    padding: 0;\n",
              "    width: 32px;\n",
              "  }\n",
              "\n",
              "  .colab-df-quickchart:hover {\n",
              "    background-color: var(--hover-bg-color);\n",
              "    box-shadow: 0 1px 2px rgba(60, 64, 67, 0.3), 0 1px 3px 1px rgba(60, 64, 67, 0.15);\n",
              "    fill: var(--button-hover-fill-color);\n",
              "  }\n",
              "\n",
              "  .colab-df-quickchart-complete:disabled,\n",
              "  .colab-df-quickchart-complete:disabled:hover {\n",
              "    background-color: var(--disabled-bg-color);\n",
              "    fill: var(--disabled-fill-color);\n",
              "    box-shadow: none;\n",
              "  }\n",
              "\n",
              "  .colab-df-spinner {\n",
              "    border: 2px solid var(--fill-color);\n",
              "    border-color: transparent;\n",
              "    border-bottom-color: var(--fill-color);\n",
              "    animation:\n",
              "      spin 1s steps(1) infinite;\n",
              "  }\n",
              "\n",
              "  @keyframes spin {\n",
              "    0% {\n",
              "      border-color: transparent;\n",
              "      border-bottom-color: var(--fill-color);\n",
              "      border-left-color: var(--fill-color);\n",
              "    }\n",
              "    20% {\n",
              "      border-color: transparent;\n",
              "      border-left-color: var(--fill-color);\n",
              "      border-top-color: var(--fill-color);\n",
              "    }\n",
              "    30% {\n",
              "      border-color: transparent;\n",
              "      border-left-color: var(--fill-color);\n",
              "      border-top-color: var(--fill-color);\n",
              "      border-right-color: var(--fill-color);\n",
              "    }\n",
              "    40% {\n",
              "      border-color: transparent;\n",
              "      border-right-color: var(--fill-color);\n",
              "      border-top-color: var(--fill-color);\n",
              "    }\n",
              "    60% {\n",
              "      border-color: transparent;\n",
              "      border-right-color: var(--fill-color);\n",
              "    }\n",
              "    80% {\n",
              "      border-color: transparent;\n",
              "      border-right-color: var(--fill-color);\n",
              "      border-bottom-color: var(--fill-color);\n",
              "    }\n",
              "    90% {\n",
              "      border-color: transparent;\n",
              "      border-bottom-color: var(--fill-color);\n",
              "    }\n",
              "  }\n",
              "</style>\n",
              "\n",
              "  <script>\n",
              "    async function quickchart(key) {\n",
              "      const quickchartButtonEl =\n",
              "        document.querySelector('#' + key + ' button');\n",
              "      quickchartButtonEl.disabled = true;  // To prevent multiple clicks.\n",
              "      quickchartButtonEl.classList.add('colab-df-spinner');\n",
              "      try {\n",
              "        const charts = await google.colab.kernel.invokeFunction(\n",
              "            'suggestCharts', [key], {});\n",
              "      } catch (error) {\n",
              "        console.error('Error during call to suggestCharts:', error);\n",
              "      }\n",
              "      quickchartButtonEl.classList.remove('colab-df-spinner');\n",
              "      quickchartButtonEl.classList.add('colab-df-quickchart-complete');\n",
              "    }\n",
              "    (() => {\n",
              "      let quickchartButtonEl =\n",
              "        document.querySelector('#df-1f84d096-5f37-4e12-a301-23f278496ca6 button');\n",
              "      quickchartButtonEl.style.display =\n",
              "        google.colab.kernel.accessAllowed ? 'block' : 'none';\n",
              "    })();\n",
              "  </script>\n",
              "</div>\n",
              "\n",
              "    </div>\n",
              "  </div>\n"
            ],
            "application/vnd.google.colaboratory.intrinsic+json": {
              "type": "dataframe",
              "variable_name": "y_train",
              "summary": "{\n  \"name\": \"y_train\",\n  \"rows\": 6940,\n  \"fields\": [\n    {\n      \"column\": \"E\",\n      \"properties\": {\n        \"dtype\": \"number\",\n        \"std\": 0,\n        \"min\": 0,\n        \"max\": 1,\n        \"num_unique_values\": 2,\n        \"samples\": [\n          1,\n          0\n        ],\n        \"semantic_type\": \"\",\n        \"description\": \"\"\n      }\n    },\n    {\n      \"column\": \"N\",\n      \"properties\": {\n        \"dtype\": \"number\",\n        \"std\": 0,\n        \"min\": 0,\n        \"max\": 1,\n        \"num_unique_values\": 2,\n        \"samples\": [\n          0,\n          1\n        ],\n        \"semantic_type\": \"\",\n        \"description\": \"\"\n      }\n    },\n    {\n      \"column\": \"T\",\n      \"properties\": {\n        \"dtype\": \"number\",\n        \"std\": 0,\n        \"min\": 0,\n        \"max\": 1,\n        \"num_unique_values\": 2,\n        \"samples\": [\n          1,\n          0\n        ],\n        \"semantic_type\": \"\",\n        \"description\": \"\"\n      }\n    },\n    {\n      \"column\": \"J\",\n      \"properties\": {\n        \"dtype\": \"number\",\n        \"std\": 0,\n        \"min\": 0,\n        \"max\": 1,\n        \"num_unique_values\": 2,\n        \"samples\": [\n          1,\n          0\n        ],\n        \"semantic_type\": \"\",\n        \"description\": \"\"\n      }\n    }\n  ]\n}"
            }
          },
          "metadata": {},
          "execution_count": 82
        }
      ]
    },
    {
      "cell_type": "code",
      "source": [
        "print(y_val.shape)\n",
        "print(y_train.shape)\n"
      ],
      "metadata": {
        "colab": {
          "base_uri": "https://localhost:8080/"
        },
        "id": "mu0CjNVkMy9o",
        "outputId": "fecdceee-61ff-4658-d7f8-9c878207f30e"
      },
      "execution_count": null,
      "outputs": [
        {
          "output_type": "stream",
          "name": "stdout",
          "text": [
            "(867, 4)\n",
            "(6940, 4)\n"
          ]
        }
      ]
    },
    {
      "cell_type": "code",
      "source": [
        "class LossMetric(tf.keras.metrics.Metric):\n",
        "    def __init__(self, name='loss', **kwargs):\n",
        "        super(LossMetric, self).__init__(name=name, **kwargs)\n",
        "        self.loss_tracker = self.add_weight(name='loss', initializer='zeros')\n",
        "\n",
        "    def update_state(self, y_true, y_pred, sample_weight=None):\n",
        "        loss = tf.keras.losses.categorical_crossentropy(y_true, y_pred)\n",
        "        self.loss_tracker.assign(tf.reduce_mean(loss))\n",
        "\n",
        "    def result(self):\n",
        "        return self.loss_tracker\n",
        "\n",
        "    def reset_states(self):\n",
        "        self.loss_tracker.assign(0.0)\n"
      ],
      "metadata": {
        "id": "-bns7OBWBFzl"
      },
      "execution_count": null,
      "outputs": []
    },
    {
      "cell_type": "code",
      "source": [
        "num_classes = y_train.shape[1]\n",
        "num_classes"
      ],
      "metadata": {
        "colab": {
          "base_uri": "https://localhost:8080/"
        },
        "id": "pgwW56hRCQOQ",
        "outputId": "b218f387-efaf-4c88-921e-a7f196992286"
      },
      "execution_count": null,
      "outputs": [
        {
          "output_type": "execute_result",
          "data": {
            "text/plain": [
              "4"
            ]
          },
          "metadata": {},
          "execution_count": 95
        }
      ]
    },
    {
      "cell_type": "code",
      "source": [
        "VOCAB_SIZE = len(word_to_idx) + 1\n",
        "num_classes = y_train.shape[1]\n",
        "\n",
        "\n",
        "# Option 1: Use a SimpleRNN cell\n",
        "model1 = tf.keras.models.Sequential([\n",
        "    tf.keras.layers.Embedding(VOCAB_SIZE, 512),\n",
        "    tf.keras.layers.RNN(tf.keras.layers.SimpleRNNCell(128)),\n",
        "    tf.keras.layers.Dense(256, activation='relu'),\n",
        "    tf.keras.layers.Dropout(0.5),\n",
        "    tf.keras.layers.Dense(num_classes, activation='sigmoid')\n",
        "])\n",
        "\n",
        "\n",
        "# Option 2: Use a LSTM cell\n",
        "# model2 = tf.keras.models.Sequential([\n",
        "#     tf.keras.layers.Embedding(VOCAB_SIZE, 512),\n",
        "#     tf.keras.layers.RNN(tf.keras.layers.LSTMCell(128)),\n",
        "#     tf.keras.layers.Dense(256, activation='relu'),\n",
        "#     tf.keras.layers.Dropout(0.5),\n",
        "#     tf.keras.layers.Dense(num_classes, activation='sigmoid')\n",
        "# ])\n",
        "\n",
        "# Option 3: Use a GRU cell\n",
        "# model3 = tf.keras.models.Sequential([\n",
        "#     tf.keras.layers.Embedding(VOCAB_SIZE, 512),\n",
        "#     tf.keras.layers.RNN(tf.keras.layers.GRUCell(128)),\n",
        "#     tf.keras.layers.Dense(256, activation='relu'),\n",
        "#     tf.keras.layers.Dropout(0.5),\n",
        "#     tf.keras.layers.Dense(num_classes, activation='sigmoid')\n",
        "# ])\n",
        "\n",
        "\n",
        "model1.compile(\n",
        "    loss=tf.keras.losses.BinaryCrossentropy(),\n",
        "    optimizer=tf.keras.optimizers.Adam(),\n",
        "    metrics=[\n",
        "        tf.keras.metrics.CategoricalAccuracy(),\n",
        "        tf.keras.metrics.Precision(),\n",
        "        LossMetric(),\n",
        "    ]\n",
        ")\n"
      ],
      "metadata": {
        "id": "oNfuOfnjNKJn"
      },
      "execution_count": null,
      "outputs": []
    },
    {
      "cell_type": "code",
      "source": [
        "history1 = model1.fit(x_train_padded, y_train, epochs=10, batch_size=128,\n",
        "                    validation_data=(x_val_padded, y_val),\n",
        "                    validation_steps=1)"
      ],
      "metadata": {
        "colab": {
          "base_uri": "https://localhost:8080/"
        },
        "id": "1g4oahKGNe71",
        "outputId": "b371f66d-7167-4312-e0b4-d855fc4eb788"
      },
      "execution_count": null,
      "outputs": [
        {
          "output_type": "stream",
          "name": "stdout",
          "text": [
            "Epoch 1/10\n",
            "55/55 [==============================] - ETA: 0s - loss: 2.9830 - categorical_accuracy: 0.6458 - precision_6: 0.7361"
          ]
        },
        {
          "output_type": "stream",
          "name": "stderr",
          "text": [
            "/usr/local/lib/python3.10/dist-packages/keras/src/engine/training.py:2723: UserWarning: Metric LossMetric implements a `reset_states()` method; rename it to `reset_state()` (without the final \"s\"). The name `reset_states()` has been deprecated to improve API consistency.\n",
            "  m.reset_state()\n"
          ]
        },
        {
          "output_type": "stream",
          "name": "stdout",
          "text": [
            "\b\b\b\b\b\b\b\b\b\b\b\b\b\b\b\b\b\b\b\b\b\b\b\b\b\b\b\b\b\b\b\b\b\b\b\b\b\b\b\b\b\b\b\b\b\b\b\b\b\b\b\b\b\b\b\b\b\b\b\b\b\b\b\b\b\b\b\b\b\b\b\b\b\b\b\b\b\b\b\b\b\b\b\b\b\b\b\b\b\b\b\b\b\b\b\b\b\b\b\b\b\b\b\b\b\b\b\b\b\b\b\b\b\b\b\b\r55/55 [==============================] - 52s 915ms/step - loss: 2.9830 - categorical_accuracy: 0.6458 - precision_6: 0.7361 - val_loss: 2.9668 - val_categorical_accuracy: 0.6328 - val_precision_6: 0.8359\n",
            "Epoch 2/10\n",
            "55/55 [==============================] - 46s 841ms/step - loss: 2.9686 - categorical_accuracy: 0.6568 - precision_6: 0.7875 - val_loss: 3.1517 - val_categorical_accuracy: 0.6328 - val_precision_6: 0.6974\n",
            "Epoch 3/10\n",
            "55/55 [==============================] - 44s 804ms/step - loss: 2.5713 - categorical_accuracy: 0.6575 - precision_6: 0.7847 - val_loss: 3.1048 - val_categorical_accuracy: 0.6250 - val_precision_6: 0.7718\n",
            "Epoch 4/10\n",
            "55/55 [==============================] - 45s 823ms/step - loss: 3.3171 - categorical_accuracy: 0.6491 - precision_6: 0.7815 - val_loss: 2.9543 - val_categorical_accuracy: 0.6328 - val_precision_6: 0.8162\n",
            "Epoch 5/10\n",
            "55/55 [==============================] - 45s 820ms/step - loss: 3.3437 - categorical_accuracy: 0.6503 - precision_6: 0.7340 - val_loss: 3.1601 - val_categorical_accuracy: 0.6328 - val_precision_6: 0.8168\n",
            "Epoch 6/10\n",
            "55/55 [==============================] - 44s 803ms/step - loss: 2.8690 - categorical_accuracy: 0.6559 - precision_6: 0.7537 - val_loss: 3.0340 - val_categorical_accuracy: 0.6328 - val_precision_6: 0.7688\n",
            "Epoch 7/10\n",
            "55/55 [==============================] - 45s 822ms/step - loss: 3.0979 - categorical_accuracy: 0.6556 - precision_6: 0.7382 - val_loss: 3.0931 - val_categorical_accuracy: 0.6328 - val_precision_6: 0.7742\n",
            "Epoch 8/10\n",
            "55/55 [==============================] - 45s 805ms/step - loss: 2.7922 - categorical_accuracy: 0.6566 - precision_6: 0.7487 - val_loss: 3.1532 - val_categorical_accuracy: 0.6328 - val_precision_6: 0.7632\n",
            "Epoch 9/10\n",
            "55/55 [==============================] - 44s 778ms/step - loss: 3.5882 - categorical_accuracy: 0.6559 - precision_6: 0.7358 - val_loss: 3.0050 - val_categorical_accuracy: 0.6328 - val_precision_6: 0.7468\n",
            "Epoch 10/10\n",
            "55/55 [==============================] - 44s 794ms/step - loss: 3.6745 - categorical_accuracy: 0.6561 - precision_6: 0.7393 - val_loss: 2.9221 - val_categorical_accuracy: 0.6328 - val_precision_6: 0.8168\n"
          ]
        }
      ]
    },
    {
      "cell_type": "code",
      "source": [
        "VOCAB_SIZE = len(word_to_idx) + 1\n",
        "num_classes = y_train.shape[1]\n",
        "\n",
        "\n",
        "# Option 1: Use a SimpleRNN cell\n",
        "# model1 = tf.keras.models.Sequential([\n",
        "#     tf.keras.layers.Embedding(VOCAB_SIZE, 512),\n",
        "#     tf.keras.layers.RNN(tf.keras.layers.SimpleRNNCell(128)),\n",
        "#     tf.keras.layers.Dense(256, activation='relu'),\n",
        "#     tf.keras.layers.Dropout(0.5),\n",
        "#     tf.keras.layers.Dense(num_classes, activation='sigmoid')\n",
        "# ])\n",
        "\n",
        "\n",
        "# Option 2: Use a LSTM cell\n",
        "model2 = tf.keras.models.Sequential([\n",
        "    tf.keras.layers.Embedding(VOCAB_SIZE, 512),\n",
        "    tf.keras.layers.RNN(tf.keras.layers.LSTMCell(128)),\n",
        "    tf.keras.layers.Dense(256, activation='relu'),\n",
        "    tf.keras.layers.Dropout(0.5),\n",
        "    tf.keras.layers.Dense(num_classes, activation='sigmoid')\n",
        "])\n",
        "\n",
        "# Option 3: Use a GRU cell\n",
        "# model3 = tf.keras.models.Sequential([\n",
        "#     tf.keras.layers.Embedding(VOCAB_SIZE, 512),\n",
        "#     tf.keras.layers.RNN(tf.keras.layers.GRUCell(128)),\n",
        "#     tf.keras.layers.Dense(256, activation='relu'),\n",
        "#     tf.keras.layers.Dropout(0.5),\n",
        "#     tf.keras.layers.Dense(num_classes, activation='sigmoid')\n",
        "# ])\n",
        "\n",
        "\n",
        "model2.compile(\n",
        "    loss=tf.keras.losses.BinaryCrossentropy(),\n",
        "    optimizer=tf.keras.optimizers.Adam(),\n",
        "    metrics=[\n",
        "        tf.keras.metrics.CategoricalAccuracy(),\n",
        "        tf.keras.metrics.Precision(),\n",
        "        LossMetric(),\n",
        "    ]\n",
        ")\n"
      ],
      "metadata": {
        "id": "lOLClqWJDaks"
      },
      "execution_count": null,
      "outputs": []
    },
    {
      "cell_type": "code",
      "source": [
        "history2 = model2.fit(x_train_padded, y_train, epochs=10, batch_size=128,\n",
        "                    validation_data=(x_val_padded, y_val),\n",
        "                    validation_steps=1)"
      ],
      "metadata": {
        "colab": {
          "base_uri": "https://localhost:8080/"
        },
        "id": "-BE9YDOpEv3V",
        "outputId": "9c78b730-3c9f-49f4-c7eb-12bf9027c55a"
      },
      "execution_count": null,
      "outputs": [
        {
          "output_type": "stream",
          "name": "stdout",
          "text": [
            "Epoch 1/10\n",
            "55/55 [==============================] - ETA: 0s - loss: 2.9119 - categorical_accuracy: 0.6494 - precision_7: 0.7683"
          ]
        },
        {
          "output_type": "stream",
          "name": "stderr",
          "text": [
            "/usr/local/lib/python3.10/dist-packages/keras/src/engine/training.py:2723: UserWarning: Metric LossMetric implements a `reset_states()` method; rename it to `reset_state()` (without the final \"s\"). The name `reset_states()` has been deprecated to improve API consistency.\n",
            "  m.reset_state()\n"
          ]
        },
        {
          "output_type": "stream",
          "name": "stdout",
          "text": [
            "\b\b\b\b\b\b\b\b\b\b\b\b\b\b\b\b\b\b\b\b\b\b\b\b\b\b\b\b\b\b\b\b\b\b\b\b\b\b\b\b\b\b\b\b\b\b\b\b\b\b\b\b\b\b\b\b\b\b\b\b\b\b\b\b\b\b\b\b\b\b\b\b\b\b\b\b\b\b\b\b\b\b\b\b\b\b\b\b\b\b\b\b\b\b\b\b\b\b\b\b\b\b\b\b\b\b\b\b\b\b\b\b\b\b\b\b\r55/55 [==============================] - 73s 1s/step - loss: 2.9119 - categorical_accuracy: 0.6494 - precision_7: 0.7683 - val_loss: 2.9546 - val_categorical_accuracy: 0.6328 - val_precision_7: 0.8359\n",
            "Epoch 2/10\n",
            "55/55 [==============================] - 65s 1s/step - loss: 2.8408 - categorical_accuracy: 0.6568 - precision_7: 0.7953 - val_loss: 3.0664 - val_categorical_accuracy: 0.6328 - val_precision_7: 0.8359\n",
            "Epoch 3/10\n",
            "55/55 [==============================] - 66s 1s/step - loss: 3.7634 - categorical_accuracy: 0.6568 - precision_7: 0.7901 - val_loss: 3.1491 - val_categorical_accuracy: 0.6328 - val_precision_7: 0.8359\n",
            "Epoch 4/10\n",
            "55/55 [==============================] - 64s 1s/step - loss: 3.1868 - categorical_accuracy: 0.6634 - precision_7: 0.7692 - val_loss: 3.0640 - val_categorical_accuracy: 0.6328 - val_precision_7: 0.8182\n",
            "Epoch 5/10\n",
            "55/55 [==============================] - 67s 1s/step - loss: 2.8013 - categorical_accuracy: 0.6656 - precision_7: 0.7973 - val_loss: 3.1123 - val_categorical_accuracy: 0.6250 - val_precision_7: 0.7842\n",
            "Epoch 6/10\n",
            "55/55 [==============================] - 67s 1s/step - loss: 3.5476 - categorical_accuracy: 0.6608 - precision_7: 0.8094 - val_loss: 3.4087 - val_categorical_accuracy: 0.6172 - val_precision_7: 0.7826\n",
            "Epoch 7/10\n",
            "55/55 [==============================] - 65s 1s/step - loss: 4.2830 - categorical_accuracy: 0.6638 - precision_7: 0.8239 - val_loss: 3.3225 - val_categorical_accuracy: 0.6250 - val_precision_7: 0.8029\n",
            "Epoch 8/10\n",
            "55/55 [==============================] - 66s 1s/step - loss: 3.2753 - categorical_accuracy: 0.6628 - precision_7: 0.8363 - val_loss: 3.3069 - val_categorical_accuracy: 0.6250 - val_precision_7: 0.8162\n",
            "Epoch 9/10\n",
            "55/55 [==============================] - 62s 1s/step - loss: 2.9907 - categorical_accuracy: 0.6555 - precision_7: 0.8210 - val_loss: 3.3308 - val_categorical_accuracy: 0.6172 - val_precision_7: 0.6392\n",
            "Epoch 10/10\n",
            "55/55 [==============================] - 65s 1s/step - loss: 3.5600 - categorical_accuracy: 0.6571 - precision_7: 0.8272 - val_loss: 3.1340 - val_categorical_accuracy: 0.6094 - val_precision_7: 0.7740\n"
          ]
        }
      ]
    },
    {
      "cell_type": "code",
      "source": [
        "VOCAB_SIZE = len(word_to_idx) + 1\n",
        "num_classes = y_train.shape[1]\n",
        "\n",
        "\n",
        "# Option 1: Use a SimpleRNN cell\n",
        "# model1 = tf.keras.models.Sequential([\n",
        "#     tf.keras.layers.Embedding(VOCAB_SIZE, 512),\n",
        "#     tf.keras.layers.RNN(tf.keras.layers.SimpleRNNCell(128)),\n",
        "#     tf.keras.layers.Dense(256, activation='relu'),\n",
        "#     tf.keras.layers.Dropout(0.5),\n",
        "#     tf.keras.layers.Dense(num_classes, activation='sigmoid')\n",
        "# ])\n",
        "\n",
        "\n",
        "# Option 2: Use a LSTM cell\n",
        "# model2 = tf.keras.models.Sequential([\n",
        "#     tf.keras.layers.Embedding(VOCAB_SIZE, 512),\n",
        "#     tf.keras.layers.RNN(tf.keras.layers.LSTMCell(128)),\n",
        "#     tf.keras.layers.Dense(256, activation='relu'),\n",
        "#     tf.keras.layers.Dropout(0.5),\n",
        "#     tf.keras.layers.Dense(num_classes, activation='sigmoid')\n",
        "# ])\n",
        "\n",
        "# Option 3: Use a GRU cell\n",
        "model3 = tf.keras.models.Sequential([\n",
        "    tf.keras.layers.Embedding(VOCAB_SIZE, 512),\n",
        "    tf.keras.layers.RNN(tf.keras.layers.GRUCell(128)),\n",
        "    tf.keras.layers.Dense(256, activation='relu'),\n",
        "    tf.keras.layers.Dropout(0.5),\n",
        "    tf.keras.layers.Dense(num_classes, activation='sigmoid')\n",
        "])\n",
        "\n",
        "\n",
        "model3.compile(\n",
        "    loss=tf.keras.losses.BinaryCrossentropy(),\n",
        "    optimizer=tf.keras.optimizers.Adam(),\n",
        "    metrics=[\n",
        "        tf.keras.metrics.CategoricalAccuracy(),\n",
        "        tf.keras.metrics.Precision(),\n",
        "        LossMetric(),\n",
        "    ]\n",
        ")\n"
      ],
      "metadata": {
        "id": "N9YA7wKxEy0A"
      },
      "execution_count": null,
      "outputs": []
    },
    {
      "cell_type": "code",
      "source": [
        "history3 = model3.fit(x_train_padded, y_train, epochs=10, batch_size=128,\n",
        "                    validation_data=(x_val_padded, y_val),\n",
        "                    validation_steps=1)"
      ],
      "metadata": {
        "colab": {
          "base_uri": "https://localhost:8080/"
        },
        "id": "JmuwgA8cE5i0",
        "outputId": "e2395655-9e48-4318-b772-12d26d461b1f"
      },
      "execution_count": null,
      "outputs": [
        {
          "output_type": "stream",
          "name": "stdout",
          "text": [
            "Epoch 1/10\n",
            "55/55 [==============================] - ETA: 0s - loss: 3.0414 - categorical_accuracy: 0.6439 - precision_8: 0.7746"
          ]
        },
        {
          "output_type": "stream",
          "name": "stderr",
          "text": [
            "/usr/local/lib/python3.10/dist-packages/keras/src/engine/training.py:2723: UserWarning: Metric LossMetric implements a `reset_states()` method; rename it to `reset_state()` (without the final \"s\"). The name `reset_states()` has been deprecated to improve API consistency.\n",
            "  m.reset_state()\n"
          ]
        },
        {
          "output_type": "stream",
          "name": "stdout",
          "text": [
            "\b\b\b\b\b\b\b\b\b\b\b\b\b\b\b\b\b\b\b\b\b\b\b\b\b\b\b\b\b\b\b\b\b\b\b\b\b\b\b\b\b\b\b\b\b\b\b\b\b\b\b\b\b\b\b\b\b\b\b\b\b\b\b\b\b\b\b\b\b\b\b\b\b\b\b\b\b\b\b\b\b\b\b\b\b\b\b\b\b\b\b\b\b\b\b\b\b\b\b\b\b\b\b\b\b\b\b\b\b\b\b\b\b\b\b\b\r55/55 [==============================] - 85s 2s/step - loss: 3.0414 - categorical_accuracy: 0.6439 - precision_8: 0.7746 - val_loss: 2.9959 - val_categorical_accuracy: 0.6328 - val_precision_8: 0.8359\n",
            "Epoch 2/10\n",
            "55/55 [==============================] - 84s 2s/step - loss: 2.3364 - categorical_accuracy: 0.6568 - precision_8: 0.8067 - val_loss: 3.1870 - val_categorical_accuracy: 0.6328 - val_precision_8: 0.8359\n",
            "Epoch 3/10\n",
            "55/55 [==============================] - 84s 2s/step - loss: 3.2795 - categorical_accuracy: 0.6578 - precision_8: 0.8123 - val_loss: 2.9073 - val_categorical_accuracy: 0.6328 - val_precision_8: 0.8295\n",
            "Epoch 4/10\n",
            "55/55 [==============================] - 83s 2s/step - loss: 2.7573 - categorical_accuracy: 0.6644 - precision_8: 0.7965 - val_loss: 3.4579 - val_categorical_accuracy: 0.6250 - val_precision_8: 0.8168\n",
            "Epoch 5/10\n",
            "55/55 [==============================] - 86s 2s/step - loss: 3.0295 - categorical_accuracy: 0.6607 - precision_8: 0.8012 - val_loss: 3.2662 - val_categorical_accuracy: 0.6094 - val_precision_8: 0.6457\n",
            "Epoch 6/10\n",
            "55/55 [==============================] - 83s 2s/step - loss: 2.8563 - categorical_accuracy: 0.6627 - precision_8: 0.8280 - val_loss: 3.3064 - val_categorical_accuracy: 0.6094 - val_precision_8: 0.7868\n",
            "Epoch 7/10\n",
            "55/55 [==============================] - 83s 2s/step - loss: 2.6542 - categorical_accuracy: 0.6507 - precision_8: 0.8473 - val_loss: 3.0695 - val_categorical_accuracy: 0.6172 - val_precision_8: 0.7810\n",
            "Epoch 8/10\n",
            "55/55 [==============================] - 83s 2s/step - loss: 3.2789 - categorical_accuracy: 0.6451 - precision_8: 0.8517 - val_loss: 3.1855 - val_categorical_accuracy: 0.6016 - val_precision_8: 0.7868\n",
            "Epoch 9/10\n",
            "55/55 [==============================] - 80s 1s/step - loss: 2.3783 - categorical_accuracy: 0.6422 - precision_8: 0.8490 - val_loss: 3.3322 - val_categorical_accuracy: 0.6016 - val_precision_8: 0.6484\n",
            "Epoch 10/10\n",
            "55/55 [==============================] - 81s 1s/step - loss: 3.3824 - categorical_accuracy: 0.6441 - precision_8: 0.8398 - val_loss: 3.4552 - val_categorical_accuracy: 0.6016 - val_precision_8: 0.7868\n"
          ]
        }
      ]
    },
    {
      "cell_type": "code",
      "source": [],
      "metadata": {
        "id": "J21STk-WGbGa"
      },
      "execution_count": null,
      "outputs": []
    },
    {
      "cell_type": "markdown",
      "metadata": {
        "id": "85JlkIQXorxg"
      },
      "source": [
        "#### Evaluation"
      ]
    },
    {
      "cell_type": "markdown",
      "metadata": {
        "id": "99Mx7Zho1uIe"
      },
      "source": [
        "**Evaluation metric:**\n",
        "Precision"
      ]
    },
    {
      "cell_type": "code",
      "execution_count": null,
      "metadata": {
        "id": "r5aThocr1uIf"
      },
      "outputs": [],
      "source": []
    },
    {
      "cell_type": "code",
      "execution_count": null,
      "metadata": {
        "id": "37C70N6Aorxh"
      },
      "outputs": [],
      "source": []
    },
    {
      "cell_type": "code",
      "execution_count": null,
      "metadata": {
        "id": "LxBF_HEsorxh"
      },
      "outputs": [],
      "source": []
    },
    {
      "cell_type": "markdown",
      "metadata": {
        "id": "fhVFUaIcorxh"
      },
      "source": [
        "### Enhancement"
      ]
    },
    {
      "cell_type": "code",
      "execution_count": null,
      "metadata": {
        "id": "Y4h1Danvorxh"
      },
      "outputs": [],
      "source": []
    },
    {
      "cell_type": "code",
      "execution_count": null,
      "metadata": {
        "id": "ZDsCjdqsorxi"
      },
      "outputs": [],
      "source": []
    },
    {
      "cell_type": "code",
      "execution_count": null,
      "metadata": {
        "id": "UMRHCRnT1uIj"
      },
      "outputs": [],
      "source": []
    },
    {
      "cell_type": "markdown",
      "metadata": {
        "id": "v8IJPxK41uIj"
      },
      "source": [
        "### Conclusion and final results\n"
      ]
    },
    {
      "cell_type": "code",
      "execution_count": null,
      "metadata": {
        "id": "cmvBoKTV1uIk"
      },
      "outputs": [],
      "source": []
    },
    {
      "cell_type": "code",
      "execution_count": null,
      "metadata": {
        "id": "RGh7jXI-1uIl"
      },
      "outputs": [],
      "source": []
    },
    {
      "cell_type": "markdown",
      "metadata": {
        "id": "Nw1GVnYLorxi"
      },
      "source": [
        "#### Done!"
      ]
    }
  ],
  "metadata": {
    "colab": {
      "provenance": [],
      "gpuType": "T4"
    },
    "kernelspec": {
      "display_name": "Python 3",
      "name": "python3"
    },
    "language_info": {
      "codemirror_mode": {
        "name": "ipython",
        "version": 3
      },
      "file_extension": ".py",
      "mimetype": "text/x-python",
      "name": "python",
      "nbconvert_exporter": "python",
      "pygments_lexer": "ipython3",
      "version": "3.11.7"
    },
    "accelerator": "GPU"
  },
  "nbformat": 4,
  "nbformat_minor": 0
}